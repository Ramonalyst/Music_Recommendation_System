{
 "cells": [
  {
   "cell_type": "code",
   "execution_count": 4,
   "metadata": {},
   "outputs": [],
   "source": [
    "import pandas as pd\n",
    "import numpy as np\n",
    "import plotly.express as px\n",
    "import matplotlib.pyplot as plt\n",
    "import seaborn as sns\n"
   ]
  },
  {
   "cell_type": "code",
   "execution_count": 5,
   "metadata": {},
   "outputs": [],
   "source": [
    "from google.oauth2 import service_account\n",
    "from google.cloud import bigquery"
   ]
  },
  {
   "cell_type": "markdown",
   "metadata": {},
   "source": [
    "Connect to BigQuery"
   ]
  },
  {
   "cell_type": "code",
   "execution_count": 6,
   "metadata": {},
   "outputs": [],
   "source": [
    "credentials = service_account.Credentials.from_service_account_file(\n",
    "'d:/Users/Ramona/Desktop/music-recommendation-system-24-3d0d21fb1f8b.json')\n",
    "# music-recommendation-system-24-3d0d21fb1f8b.json is the service account JSON file. Save the file locally on your device and add the path here.\n",
    "# make sure that the slashes in the path are '/' and not '\\'\n",
    "\n",
    "project_id = 'music-recommendation-system-24'\n",
    "client = bigquery.Client(credentials= credentials,project=project_id)"
   ]
  },
  {
   "cell_type": "markdown",
   "metadata": {},
   "source": [
    "Query BQ"
   ]
  },
  {
   "cell_type": "code",
   "execution_count": 7,
   "metadata": {},
   "outputs": [],
   "source": [
    "query_job = client.query(\"\"\"\n",
    "   SELECT\n",
    "      *\n",
    "   FROM `music-recommendation-system-24.obama_playlists.BO_playlist_2019_2024_artist_enriched`\n",
    "   \"\"\")\n",
    "#put the query in three quote marks\n",
    "\n",
    "results = query_job.result() # Wait for the job to complete.\n",
    "\n",
    "rows = [dict(row) for row in results]\n",
    "\n",
    "# Convert the list of dictionaries to a DataFrame\n",
    "df_obama = pd.DataFrame(rows)"
   ]
  },
  {
   "cell_type": "code",
   "execution_count": 8,
   "metadata": {},
   "outputs": [],
   "source": [
    "query_job = client.query(\"\"\"\n",
    "   SELECT\n",
    "      *\n",
    "   FROM `music-recommendation-system-24.top_100.2024_spotify_top_100_artist_enriched`\n",
    "   \"\"\")\n",
    "#put the query in three quote marks\n",
    "\n",
    "results = query_job.result() # Wait for the job to complete.\n",
    "\n",
    "rows = [dict(row) for row in results]\n",
    "\n",
    "# Convert the list of dictionaries to a DataFrame\n",
    "df_top_100 = pd.DataFrame(rows)"
   ]
  },
  {
   "cell_type": "code",
   "execution_count": 9,
   "metadata": {},
   "outputs": [
    {
     "data": {
      "text/html": [
       "<div>\n",
       "<style scoped>\n",
       "    .dataframe tbody tr th:only-of-type {\n",
       "        vertical-align: middle;\n",
       "    }\n",
       "\n",
       "    .dataframe tbody tr th {\n",
       "        vertical-align: top;\n",
       "    }\n",
       "\n",
       "    .dataframe thead th {\n",
       "        text-align: right;\n",
       "    }\n",
       "</style>\n",
       "<table border=\"1\" class=\"dataframe\">\n",
       "  <thead>\n",
       "    <tr style=\"text-align: right;\">\n",
       "      <th></th>\n",
       "      <th>track_id</th>\n",
       "      <th>track_name</th>\n",
       "      <th>track_album_name</th>\n",
       "      <th>track_artist</th>\n",
       "      <th>artist_gender</th>\n",
       "      <th>track_album_release_year</th>\n",
       "      <th>duration_min</th>\n",
       "      <th>track_popularity</th>\n",
       "      <th>genres</th>\n",
       "      <th>record_label</th>\n",
       "      <th>...</th>\n",
       "      <th>instrumentalness</th>\n",
       "      <th>liveness</th>\n",
       "      <th>valence</th>\n",
       "      <th>tempo</th>\n",
       "      <th>time_signature</th>\n",
       "      <th>Playlist_year</th>\n",
       "      <th>artist_id</th>\n",
       "      <th>artist_name</th>\n",
       "      <th>artist_followers</th>\n",
       "      <th>artist_popularity</th>\n",
       "    </tr>\n",
       "  </thead>\n",
       "  <tbody>\n",
       "    <tr>\n",
       "      <th>0</th>\n",
       "      <td>7qEKZP3nOqWpEQlANPccOx</td>\n",
       "      <td>Espera</td>\n",
       "      <td>Esperanza</td>\n",
       "      <td>Esperanza Spalding</td>\n",
       "      <td>F</td>\n",
       "      <td>2 008</td>\n",
       "      <td>4.64</td>\n",
       "      <td>29</td>\n",
       "      <td>Jazz</td>\n",
       "      <td>Heads Up</td>\n",
       "      <td>...</td>\n",
       "      <td>3.0</td>\n",
       "      <td>11.0</td>\n",
       "      <td>21.0</td>\n",
       "      <td>152</td>\n",
       "      <td>1</td>\n",
       "      <td>2019</td>\n",
       "      <td>[5bepW5vcdRzheNc0F8lHJ5]</td>\n",
       "      <td>[Esperanza Spalding]</td>\n",
       "      <td>[399132]</td>\n",
       "      <td>[49]</td>\n",
       "    </tr>\n",
       "    <tr>\n",
       "      <th>1</th>\n",
       "      <td>68vxG1i6RSmrsY9mRdqDgG</td>\n",
       "      <td>Burning</td>\n",
       "      <td>Heard It In A Past Life</td>\n",
       "      <td>Maggie Rogers</td>\n",
       "      <td>F</td>\n",
       "      <td>2 019</td>\n",
       "      <td>3.55</td>\n",
       "      <td>53</td>\n",
       "      <td>Indie</td>\n",
       "      <td>Capitol Records</td>\n",
       "      <td>...</td>\n",
       "      <td>0.0</td>\n",
       "      <td>11.0</td>\n",
       "      <td>28.0</td>\n",
       "      <td>110</td>\n",
       "      <td>4</td>\n",
       "      <td>2019</td>\n",
       "      <td>[4NZvixzsSefsNiIqXn0NDe]</td>\n",
       "      <td>[Maggie Rogers]</td>\n",
       "      <td>[1166373]</td>\n",
       "      <td>[72]</td>\n",
       "    </tr>\n",
       "    <tr>\n",
       "      <th>2</th>\n",
       "      <td>3buy5Ooz6uNL48W1yBUzbM</td>\n",
       "      <td>Seventeen</td>\n",
       "      <td>Seventeen</td>\n",
       "      <td>Sharon Van Etten</td>\n",
       "      <td>F</td>\n",
       "      <td>2 019</td>\n",
       "      <td>4.43</td>\n",
       "      <td>0</td>\n",
       "      <td>Indie</td>\n",
       "      <td>Jagjaguwar</td>\n",
       "      <td>...</td>\n",
       "      <td>21.0</td>\n",
       "      <td>7.0</td>\n",
       "      <td>24.0</td>\n",
       "      <td>127</td>\n",
       "      <td>4</td>\n",
       "      <td>2019</td>\n",
       "      <td>[2wJ4vsxWd7df7dRU4KcoDe]</td>\n",
       "      <td>[Sharon Van Etten]</td>\n",
       "      <td>[541804]</td>\n",
       "      <td>[56]</td>\n",
       "    </tr>\n",
       "    <tr>\n",
       "      <th>3</th>\n",
       "      <td>6Vmow8PuUaU7W1T2WWLZk2</td>\n",
       "      <td>Go Gina</td>\n",
       "      <td>Ctrl</td>\n",
       "      <td>SZA</td>\n",
       "      <td>F</td>\n",
       "      <td>2 017</td>\n",
       "      <td>2.69</td>\n",
       "      <td>61</td>\n",
       "      <td>Hip Hop</td>\n",
       "      <td>Top Dawg Entertainment/RCA Records</td>\n",
       "      <td>...</td>\n",
       "      <td>0.0</td>\n",
       "      <td>39.0</td>\n",
       "      <td>46.0</td>\n",
       "      <td>80</td>\n",
       "      <td>4</td>\n",
       "      <td>2019</td>\n",
       "      <td>[7tYKF4w9nC0nq9CsPZTHyP]</td>\n",
       "      <td>[SZA]</td>\n",
       "      <td>[24229902]</td>\n",
       "      <td>[90]</td>\n",
       "    </tr>\n",
       "    <tr>\n",
       "      <th>4</th>\n",
       "      <td>0k664IuFwVP557Gnx7RhIl</td>\n",
       "      <td>Juice</td>\n",
       "      <td>Cuz I Love You</td>\n",
       "      <td>Lizzo</td>\n",
       "      <td>F</td>\n",
       "      <td>2 019</td>\n",
       "      <td>3.25</td>\n",
       "      <td>66</td>\n",
       "      <td>Hip Hop</td>\n",
       "      <td>Nice Life/Atlantic</td>\n",
       "      <td>...</td>\n",
       "      <td>0.0</td>\n",
       "      <td>40.0</td>\n",
       "      <td>84.0</td>\n",
       "      <td>120</td>\n",
       "      <td>4</td>\n",
       "      <td>2019</td>\n",
       "      <td>[56oDRnqbIiwx4mymNEv7dS]</td>\n",
       "      <td>[Lizzo]</td>\n",
       "      <td>[5714695]</td>\n",
       "      <td>[70]</td>\n",
       "    </tr>\n",
       "    <tr>\n",
       "      <th>...</th>\n",
       "      <td>...</td>\n",
       "      <td>...</td>\n",
       "      <td>...</td>\n",
       "      <td>...</td>\n",
       "      <td>...</td>\n",
       "      <td>...</td>\n",
       "      <td>...</td>\n",
       "      <td>...</td>\n",
       "      <td>...</td>\n",
       "      <td>...</td>\n",
       "      <td>...</td>\n",
       "      <td>...</td>\n",
       "      <td>...</td>\n",
       "      <td>...</td>\n",
       "      <td>...</td>\n",
       "      <td>...</td>\n",
       "      <td>...</td>\n",
       "      <td>...</td>\n",
       "      <td>...</td>\n",
       "      <td>...</td>\n",
       "      <td>...</td>\n",
       "    </tr>\n",
       "    <tr>\n",
       "      <th>254</th>\n",
       "      <td>26q6YTrXt9l8qshIveiTX9</td>\n",
       "      <td>Rebirth Of Slick (Cool Like Dat)</td>\n",
       "      <td>Reachin' (A New Refutation Of Time And Space)</td>\n",
       "      <td>Digable Planets</td>\n",
       "      <td>N/A</td>\n",
       "      <td>1 993</td>\n",
       "      <td>4.35</td>\n",
       "      <td>59</td>\n",
       "      <td>Hip Hop</td>\n",
       "      <td>Pendulum Records</td>\n",
       "      <td>...</td>\n",
       "      <td>6.0</td>\n",
       "      <td>11.0</td>\n",
       "      <td>57.0</td>\n",
       "      <td>98</td>\n",
       "      <td>4</td>\n",
       "      <td>2024</td>\n",
       "      <td>[0gqIrDRL7CEPBWMmkuZPdQ]</td>\n",
       "      <td>[Digable Planets]</td>\n",
       "      <td>[443108]</td>\n",
       "      <td>[53]</td>\n",
       "    </tr>\n",
       "    <tr>\n",
       "      <th>255</th>\n",
       "      <td>6MdqqkQ8sSC0WB4i8PyRuQ</td>\n",
       "      <td>No Diggity</td>\n",
       "      <td>Another Level</td>\n",
       "      <td>Blackstreet,Dr. Dre,Queen Pen</td>\n",
       "      <td>N/A</td>\n",
       "      <td>1 996</td>\n",
       "      <td>5.08</td>\n",
       "      <td>76</td>\n",
       "      <td>Hip Hop</td>\n",
       "      <td>Interscope</td>\n",
       "      <td>...</td>\n",
       "      <td>0.0</td>\n",
       "      <td>28.0</td>\n",
       "      <td>67.0</td>\n",
       "      <td>89</td>\n",
       "      <td>4</td>\n",
       "      <td>2024</td>\n",
       "      <td>[2P3cjUru4H3fhSXXNxE9kA, 6DPYiyq5kWVQS4RGwxzPC...</td>\n",
       "      <td>[Blackstreet, Dr. Dre, Queen Pen]</td>\n",
       "      <td>[857447, 12768999, 53109]</td>\n",
       "      <td>[65, 82, 63]</td>\n",
       "    </tr>\n",
       "    <tr>\n",
       "      <th>256</th>\n",
       "      <td>1eDI5oU04SLsXl0TfxfwYf</td>\n",
       "      <td>Love Me JeJe</td>\n",
       "      <td>Born in the Wild</td>\n",
       "      <td>Tems</td>\n",
       "      <td>F</td>\n",
       "      <td>2 024</td>\n",
       "      <td>2.97</td>\n",
       "      <td>72</td>\n",
       "      <td>Afrobeats</td>\n",
       "      <td>RCA Records/Since 93'</td>\n",
       "      <td>...</td>\n",
       "      <td>53.0</td>\n",
       "      <td>11.0</td>\n",
       "      <td>53.0</td>\n",
       "      <td>104</td>\n",
       "      <td>4</td>\n",
       "      <td>2024</td>\n",
       "      <td>[687cZJR45JO7jhk1LHIbgq]</td>\n",
       "      <td>[Tems]</td>\n",
       "      <td>[2516746]</td>\n",
       "      <td>[78]</td>\n",
       "    </tr>\n",
       "    <tr>\n",
       "      <th>257</th>\n",
       "      <td>3Zm9ZCH5iQcpp1tdvU9rb7</td>\n",
       "      <td>BAD BOY</td>\n",
       "      <td>LOS MARCIANOS Vol.1: Dei V Version</td>\n",
       "      <td>Chris Jedi,Gaby Music,Dei V,Anuel AA,Ozuna</td>\n",
       "      <td>M</td>\n",
       "      <td>2 024</td>\n",
       "      <td>3.92</td>\n",
       "      <td>59</td>\n",
       "      <td>Reggaeton</td>\n",
       "      <td>La Familia Records DD</td>\n",
       "      <td>...</td>\n",
       "      <td>0.0</td>\n",
       "      <td>42.0</td>\n",
       "      <td>63.0</td>\n",
       "      <td>95</td>\n",
       "      <td>4</td>\n",
       "      <td>2024</td>\n",
       "      <td>[0qTZZWLzuD59Un5r1speHm, 1r3tpVQ08jFAA2P4xzV5o...</td>\n",
       "      <td>[Chris Jedi, Gaby Music, Dei V, Anuel AA, Ozuna]</td>\n",
       "      <td>[2650931, 79896, 1418497, 38747602, 37653503]</td>\n",
       "      <td>[70, 66, 81, 88, 87]</td>\n",
       "    </tr>\n",
       "    <tr>\n",
       "      <th>258</th>\n",
       "      <td>5Xhqe9xu6bKRSqLj1mS1SB</td>\n",
       "      <td>If You Love Somebody Set Them Free</td>\n",
       "      <td>The Dream Of The Blue Turtles</td>\n",
       "      <td>Sting</td>\n",
       "      <td>M</td>\n",
       "      <td>1 985</td>\n",
       "      <td>4.27</td>\n",
       "      <td>55</td>\n",
       "      <td>Electronic</td>\n",
       "      <td>A&amp;M</td>\n",
       "      <td>...</td>\n",
       "      <td>0.0</td>\n",
       "      <td>32.0</td>\n",
       "      <td>82.0</td>\n",
       "      <td>125</td>\n",
       "      <td>4</td>\n",
       "      <td>2024</td>\n",
       "      <td>[0Ty63ceoRnnJKVEYP0VQpk]</td>\n",
       "      <td>[Sting]</td>\n",
       "      <td>[3488030]</td>\n",
       "      <td>[73]</td>\n",
       "    </tr>\n",
       "  </tbody>\n",
       "</table>\n",
       "<p>259 rows × 27 columns</p>\n",
       "</div>"
      ],
      "text/plain": [
       "                   track_id                          track_name  \\\n",
       "0    7qEKZP3nOqWpEQlANPccOx                              Espera   \n",
       "1    68vxG1i6RSmrsY9mRdqDgG                             Burning   \n",
       "2    3buy5Ooz6uNL48W1yBUzbM                           Seventeen   \n",
       "3    6Vmow8PuUaU7W1T2WWLZk2                             Go Gina   \n",
       "4    0k664IuFwVP557Gnx7RhIl                               Juice   \n",
       "..                      ...                                 ...   \n",
       "254  26q6YTrXt9l8qshIveiTX9    Rebirth Of Slick (Cool Like Dat)   \n",
       "255  6MdqqkQ8sSC0WB4i8PyRuQ                          No Diggity   \n",
       "256  1eDI5oU04SLsXl0TfxfwYf                        Love Me JeJe   \n",
       "257  3Zm9ZCH5iQcpp1tdvU9rb7                             BAD BOY   \n",
       "258  5Xhqe9xu6bKRSqLj1mS1SB  If You Love Somebody Set Them Free   \n",
       "\n",
       "                                  track_album_name  \\\n",
       "0                                        Esperanza   \n",
       "1                          Heard It In A Past Life   \n",
       "2                                        Seventeen   \n",
       "3                                             Ctrl   \n",
       "4                                   Cuz I Love You   \n",
       "..                                             ...   \n",
       "254  Reachin' (A New Refutation Of Time And Space)   \n",
       "255                                  Another Level   \n",
       "256                               Born in the Wild   \n",
       "257             LOS MARCIANOS Vol.1: Dei V Version   \n",
       "258                  The Dream Of The Blue Turtles   \n",
       "\n",
       "                                   track_artist artist_gender  \\\n",
       "0                            Esperanza Spalding             F   \n",
       "1                                 Maggie Rogers             F   \n",
       "2                              Sharon Van Etten             F   \n",
       "3                                           SZA             F   \n",
       "4                                         Lizzo             F   \n",
       "..                                          ...           ...   \n",
       "254                             Digable Planets           N/A   \n",
       "255               Blackstreet,Dr. Dre,Queen Pen           N/A   \n",
       "256                                        Tems             F   \n",
       "257  Chris Jedi,Gaby Music,Dei V,Anuel AA,Ozuna             M   \n",
       "258                                       Sting             M   \n",
       "\n",
       "    track_album_release_year  duration_min  track_popularity      genres  \\\n",
       "0                      2 008          4.64                29        Jazz   \n",
       "1                      2 019          3.55                53       Indie   \n",
       "2                      2 019          4.43                 0       Indie   \n",
       "3                      2 017          2.69                61     Hip Hop   \n",
       "4                      2 019          3.25                66     Hip Hop   \n",
       "..                       ...           ...               ...         ...   \n",
       "254                    1 993          4.35                59     Hip Hop   \n",
       "255                    1 996          5.08                76     Hip Hop   \n",
       "256                    2 024          2.97                72   Afrobeats   \n",
       "257                    2 024          3.92                59   Reggaeton   \n",
       "258                    1 985          4.27                55  Electronic   \n",
       "\n",
       "                           record_label  ...  instrumentalness  liveness  \\\n",
       "0                              Heads Up  ...               3.0      11.0   \n",
       "1                       Capitol Records  ...               0.0      11.0   \n",
       "2                            Jagjaguwar  ...              21.0       7.0   \n",
       "3    Top Dawg Entertainment/RCA Records  ...               0.0      39.0   \n",
       "4                    Nice Life/Atlantic  ...               0.0      40.0   \n",
       "..                                  ...  ...               ...       ...   \n",
       "254                    Pendulum Records  ...               6.0      11.0   \n",
       "255                          Interscope  ...               0.0      28.0   \n",
       "256               RCA Records/Since 93'  ...              53.0      11.0   \n",
       "257               La Familia Records DD  ...               0.0      42.0   \n",
       "258                                 A&M  ...               0.0      32.0   \n",
       "\n",
       "    valence  tempo time_signature  Playlist_year  \\\n",
       "0      21.0    152              1           2019   \n",
       "1      28.0    110              4           2019   \n",
       "2      24.0    127              4           2019   \n",
       "3      46.0     80              4           2019   \n",
       "4      84.0    120              4           2019   \n",
       "..      ...    ...            ...            ...   \n",
       "254    57.0     98              4           2024   \n",
       "255    67.0     89              4           2024   \n",
       "256    53.0    104              4           2024   \n",
       "257    63.0     95              4           2024   \n",
       "258    82.0    125              4           2024   \n",
       "\n",
       "                                             artist_id  \\\n",
       "0                             [5bepW5vcdRzheNc0F8lHJ5]   \n",
       "1                             [4NZvixzsSefsNiIqXn0NDe]   \n",
       "2                             [2wJ4vsxWd7df7dRU4KcoDe]   \n",
       "3                             [7tYKF4w9nC0nq9CsPZTHyP]   \n",
       "4                             [56oDRnqbIiwx4mymNEv7dS]   \n",
       "..                                                 ...   \n",
       "254                           [0gqIrDRL7CEPBWMmkuZPdQ]   \n",
       "255  [2P3cjUru4H3fhSXXNxE9kA, 6DPYiyq5kWVQS4RGwxzPC...   \n",
       "256                           [687cZJR45JO7jhk1LHIbgq]   \n",
       "257  [0qTZZWLzuD59Un5r1speHm, 1r3tpVQ08jFAA2P4xzV5o...   \n",
       "258                           [0Ty63ceoRnnJKVEYP0VQpk]   \n",
       "\n",
       "                                          artist_name  \\\n",
       "0                                [Esperanza Spalding]   \n",
       "1                                     [Maggie Rogers]   \n",
       "2                                  [Sharon Van Etten]   \n",
       "3                                               [SZA]   \n",
       "4                                             [Lizzo]   \n",
       "..                                                ...   \n",
       "254                                 [Digable Planets]   \n",
       "255                 [Blackstreet, Dr. Dre, Queen Pen]   \n",
       "256                                            [Tems]   \n",
       "257  [Chris Jedi, Gaby Music, Dei V, Anuel AA, Ozuna]   \n",
       "258                                           [Sting]   \n",
       "\n",
       "                                  artist_followers     artist_popularity  \n",
       "0                                         [399132]                  [49]  \n",
       "1                                        [1166373]                  [72]  \n",
       "2                                         [541804]                  [56]  \n",
       "3                                       [24229902]                  [90]  \n",
       "4                                        [5714695]                  [70]  \n",
       "..                                             ...                   ...  \n",
       "254                                       [443108]                  [53]  \n",
       "255                      [857447, 12768999, 53109]          [65, 82, 63]  \n",
       "256                                      [2516746]                  [78]  \n",
       "257  [2650931, 79896, 1418497, 38747602, 37653503]  [70, 66, 81, 88, 87]  \n",
       "258                                      [3488030]                  [73]  \n",
       "\n",
       "[259 rows x 27 columns]"
      ]
     },
     "execution_count": 9,
     "metadata": {},
     "output_type": "execute_result"
    }
   ],
   "source": [
    "df_obama"
   ]
  },
  {
   "cell_type": "markdown",
   "metadata": {},
   "source": [
    "## Track Popularity"
   ]
  },
  {
   "cell_type": "code",
   "execution_count": 10,
   "metadata": {},
   "outputs": [
    {
     "data": {
      "image/png": "[encoded data removed]",
      "text/plain": [
       "<Figure size 1000x600 with 1 Axes>"
      ]
     },
     "metadata": {},
     "output_type": "display_data"
    }
   ],
   "source": [
    "#histogram of track_popularity\n",
    "plt.figure(figsize=(10, 6))\n",
    "plt.hist(df_obama['track_popularity'], bins=30, color='#1f77b4')\n",
    "plt.title('Distribution of track popularity Obama Lists')\n",
    "plt.show()"
   ]
  },
  {
   "cell_type": "code",
   "execution_count": 11,
   "metadata": {},
   "outputs": [
    {
     "data": {
      "text/html": [
       "<div>\n",
       "<style scoped>\n",
       "    .dataframe tbody tr th:only-of-type {\n",
       "        vertical-align: middle;\n",
       "    }\n",
       "\n",
       "    .dataframe tbody tr th {\n",
       "        vertical-align: top;\n",
       "    }\n",
       "\n",
       "    .dataframe thead th {\n",
       "        text-align: right;\n",
       "    }\n",
       "</style>\n",
       "<table border=\"1\" class=\"dataframe\">\n",
       "  <thead>\n",
       "    <tr style=\"text-align: right;\">\n",
       "      <th></th>\n",
       "      <th>track_id</th>\n",
       "      <th>track_name</th>\n",
       "      <th>track_artist</th>\n",
       "      <th>track_popularity</th>\n",
       "      <th>track_album_name</th>\n",
       "      <th>track_album_release_year</th>\n",
       "      <th>duration_min</th>\n",
       "      <th>genres</th>\n",
       "      <th>record_label</th>\n",
       "      <th>danceability</th>\n",
       "      <th>...</th>\n",
       "      <th>instrumentalness</th>\n",
       "      <th>liveness</th>\n",
       "      <th>valence</th>\n",
       "      <th>tempo</th>\n",
       "      <th>time_signature</th>\n",
       "      <th>track_id_1</th>\n",
       "      <th>artist_id</th>\n",
       "      <th>artist_name</th>\n",
       "      <th>artist_followers</th>\n",
       "      <th>artist_popularity</th>\n",
       "    </tr>\n",
       "  </thead>\n",
       "  <tbody>\n",
       "    <tr>\n",
       "      <th>0</th>\n",
       "      <td>0nrRP2bk19rLc0orkWPQk2</td>\n",
       "      <td>Wake Me Up</td>\n",
       "      <td>Avicii</td>\n",
       "      <td>83</td>\n",
       "      <td>TRUE</td>\n",
       "      <td>2013</td>\n",
       "      <td>4.12</td>\n",
       "      <td>EDM</td>\n",
       "      <td>Universal Music AB</td>\n",
       "      <td>53.2</td>\n",
       "      <td>...</td>\n",
       "      <td>0.12</td>\n",
       "      <td>16.10</td>\n",
       "      <td>64.30</td>\n",
       "      <td>124</td>\n",
       "      <td>4</td>\n",
       "      <td>0nrRP2bk19rLc0orkWPQk2</td>\n",
       "      <td>[1vCWHaC5f2uS3yhpwWbIA6]</td>\n",
       "      <td>[Avicii]</td>\n",
       "      <td>[23107521]</td>\n",
       "      <td>[81]</td>\n",
       "    </tr>\n",
       "    <tr>\n",
       "      <th>1</th>\n",
       "      <td>0lYBSQXN6rCTvUZvg9S0lU</td>\n",
       "      <td>Let Me Love You</td>\n",
       "      <td>DJ Snake,Justin Bieber</td>\n",
       "      <td>83</td>\n",
       "      <td>Encore</td>\n",
       "      <td>2016</td>\n",
       "      <td>3.43</td>\n",
       "      <td>EDM</td>\n",
       "      <td>DJ Snake Def Jam</td>\n",
       "      <td>47.5</td>\n",
       "      <td>...</td>\n",
       "      <td>0.00</td>\n",
       "      <td>13.50</td>\n",
       "      <td>15.90</td>\n",
       "      <td>200</td>\n",
       "      <td>4</td>\n",
       "      <td>0lYBSQXN6rCTvUZvg9S0lU</td>\n",
       "      <td>[540vIaP2JwjQb9dm3aArA4, 1uNFoZAHBGtllmzznpCI3s]</td>\n",
       "      <td>[DJ Snake, Justin Bieber]</td>\n",
       "      <td>[8910877, 78641625]</td>\n",
       "      <td>[79, 91]</td>\n",
       "    </tr>\n",
       "    <tr>\n",
       "      <th>2</th>\n",
       "      <td>7BqHUALzNBTanL6OvsqmC1</td>\n",
       "      <td>Happier</td>\n",
       "      <td>Marshmello,Bastille</td>\n",
       "      <td>82</td>\n",
       "      <td>Happier</td>\n",
       "      <td>2018</td>\n",
       "      <td>3.57</td>\n",
       "      <td>EDM</td>\n",
       "      <td>Joytime Collective</td>\n",
       "      <td>68.7</td>\n",
       "      <td>...</td>\n",
       "      <td>0.00</td>\n",
       "      <td>16.70</td>\n",
       "      <td>67.10</td>\n",
       "      <td>100</td>\n",
       "      <td>4</td>\n",
       "      <td>7BqHUALzNBTanL6OvsqmC1</td>\n",
       "      <td>[64KEffDW9EtZ1y2vBYgq8T, 7EQ0qTo7fWT7DPxmxtSYEc]</td>\n",
       "      <td>[Marshmello, Bastille]</td>\n",
       "      <td>[33882258, 5582338]</td>\n",
       "      <td>[84, 76]</td>\n",
       "    </tr>\n",
       "    <tr>\n",
       "      <th>3</th>\n",
       "      <td>2YWjW3wwQIBLNhxWKBQd16</td>\n",
       "      <td>Lean On (feat. MØ &amp; DJ Snake)</td>\n",
       "      <td>Major Lazer,MØ,DJ Snake</td>\n",
       "      <td>77</td>\n",
       "      <td>Peace Is The Mission : Extended</td>\n",
       "      <td>2015</td>\n",
       "      <td>2.94</td>\n",
       "      <td>EDM</td>\n",
       "      <td>Third Pardee Records</td>\n",
       "      <td>72.3</td>\n",
       "      <td>...</td>\n",
       "      <td>0.12</td>\n",
       "      <td>56.50</td>\n",
       "      <td>27.40</td>\n",
       "      <td>98</td>\n",
       "      <td>4</td>\n",
       "      <td>2YWjW3wwQIBLNhxWKBQd16</td>\n",
       "      <td>[738wLrAtLtCtFOLvQBXOXp, 0bdfiayQAKewqEvaU6rXC...</td>\n",
       "      <td>[Major Lazer, MØ, DJ Snake]</td>\n",
       "      <td>[6206097, 1458940, 8910877]</td>\n",
       "      <td>[77, 72, 79]</td>\n",
       "    </tr>\n",
       "    <tr>\n",
       "      <th>4</th>\n",
       "      <td>4cktbXiXOapiLBMprHFErI</td>\n",
       "      <td>Memories</td>\n",
       "      <td>Maroon 5</td>\n",
       "      <td>81</td>\n",
       "      <td>JORDI (Deluxe)</td>\n",
       "      <td>2021</td>\n",
       "      <td>3.16</td>\n",
       "      <td>Pop</td>\n",
       "      <td>Interscope Records*</td>\n",
       "      <td>77.5</td>\n",
       "      <td>...</td>\n",
       "      <td>0.00</td>\n",
       "      <td>8.21</td>\n",
       "      <td>59.50</td>\n",
       "      <td>91</td>\n",
       "      <td>4</td>\n",
       "      <td>4cktbXiXOapiLBMprHFErI</td>\n",
       "      <td>[04gDigrS5kc9YWfZHwBETP]</td>\n",
       "      <td>[Maroon 5]</td>\n",
       "      <td>[43145812]</td>\n",
       "      <td>[87]</td>\n",
       "    </tr>\n",
       "    <tr>\n",
       "      <th>...</th>\n",
       "      <td>...</td>\n",
       "      <td>...</td>\n",
       "      <td>...</td>\n",
       "      <td>...</td>\n",
       "      <td>...</td>\n",
       "      <td>...</td>\n",
       "      <td>...</td>\n",
       "      <td>...</td>\n",
       "      <td>...</td>\n",
       "      <td>...</td>\n",
       "      <td>...</td>\n",
       "      <td>...</td>\n",
       "      <td>...</td>\n",
       "      <td>...</td>\n",
       "      <td>...</td>\n",
       "      <td>...</td>\n",
       "      <td>...</td>\n",
       "      <td>...</td>\n",
       "      <td>...</td>\n",
       "      <td>...</td>\n",
       "      <td>...</td>\n",
       "    </tr>\n",
       "    <tr>\n",
       "      <th>95</th>\n",
       "      <td>0u2P5u6lvoDfwTYjAADbn4</td>\n",
       "      <td>lovely (with Khalid)</td>\n",
       "      <td>Billie Eilish,Khalid</td>\n",
       "      <td>86</td>\n",
       "      <td>lovely (with Khalid)</td>\n",
       "      <td>2018</td>\n",
       "      <td>3.34</td>\n",
       "      <td>Pop/R&amp;B</td>\n",
       "      <td>Darkroom</td>\n",
       "      <td>35.1</td>\n",
       "      <td>...</td>\n",
       "      <td>0.00</td>\n",
       "      <td>9.50</td>\n",
       "      <td>12.00</td>\n",
       "      <td>115</td>\n",
       "      <td>4</td>\n",
       "      <td>0u2P5u6lvoDfwTYjAADbn4</td>\n",
       "      <td>[6qqNVTkY8uBg9cP3Jd7DAH, 6LuN9FCkKOj5PcnpouEgny]</td>\n",
       "      <td>[Billie Eilish, Khalid]</td>\n",
       "      <td>[102057941, 16425608]</td>\n",
       "      <td>[96, 85]</td>\n",
       "    </tr>\n",
       "    <tr>\n",
       "      <th>96</th>\n",
       "      <td>5KReHDo8W8w9bKTY3KxPy3</td>\n",
       "      <td>Let Her Go</td>\n",
       "      <td>Passenger</td>\n",
       "      <td>53</td>\n",
       "      <td>Let Her Go (EP)</td>\n",
       "      <td>2012</td>\n",
       "      <td>4.21</td>\n",
       "      <td>Folk-Pop</td>\n",
       "      <td>Embassy of Music</td>\n",
       "      <td>47.9</td>\n",
       "      <td>...</td>\n",
       "      <td>0.00</td>\n",
       "      <td>9.63</td>\n",
       "      <td>24.30</td>\n",
       "      <td>75</td>\n",
       "      <td>4</td>\n",
       "      <td>5KReHDo8W8w9bKTY3KxPy3</td>\n",
       "      <td>[0gadJ2b9A4SKsB1RFkBb66]</td>\n",
       "      <td>[Passenger]</td>\n",
       "      <td>[3419887]</td>\n",
       "      <td>[72]</td>\n",
       "    </tr>\n",
       "    <tr>\n",
       "      <th>97</th>\n",
       "      <td>7yq4Qj7cqayVTp3FF9CWbm</td>\n",
       "      <td>Riptide</td>\n",
       "      <td>Vance Joy</td>\n",
       "      <td>78</td>\n",
       "      <td>Dream Your Life Away</td>\n",
       "      <td>2014</td>\n",
       "      <td>3.40</td>\n",
       "      <td>Folk-Pop</td>\n",
       "      <td>F-Stop Records/Atlantic</td>\n",
       "      <td>48.4</td>\n",
       "      <td>...</td>\n",
       "      <td>0.00</td>\n",
       "      <td>15.10</td>\n",
       "      <td>51.00</td>\n",
       "      <td>102</td>\n",
       "      <td>4</td>\n",
       "      <td>7yq4Qj7cqayVTp3FF9CWbm</td>\n",
       "      <td>[10exVja0key0uqUkk6LJRT]</td>\n",
       "      <td>[Vance Joy]</td>\n",
       "      <td>[3199643]</td>\n",
       "      <td>[78]</td>\n",
       "    </tr>\n",
       "    <tr>\n",
       "      <th>98</th>\n",
       "      <td>3hRV0jL3vUpRrcy398teAU</td>\n",
       "      <td>The Night We Met</td>\n",
       "      <td>Lord Huron</td>\n",
       "      <td>88</td>\n",
       "      <td>Strange Trails</td>\n",
       "      <td>2015</td>\n",
       "      <td>3.47</td>\n",
       "      <td>Indie Folk</td>\n",
       "      <td>Play It Again Sam</td>\n",
       "      <td>44.8</td>\n",
       "      <td>...</td>\n",
       "      <td>27.20</td>\n",
       "      <td>63.80</td>\n",
       "      <td>9.98</td>\n",
       "      <td>174</td>\n",
       "      <td>3</td>\n",
       "      <td>3hRV0jL3vUpRrcy398teAU</td>\n",
       "      <td>[6ltzsmQQbmdoHHbLZ4ZN25]</td>\n",
       "      <td>[Lord Huron]</td>\n",
       "      <td>[1765546]</td>\n",
       "      <td>[78]</td>\n",
       "    </tr>\n",
       "    <tr>\n",
       "      <th>99</th>\n",
       "      <td>7gHs73wELdeycvS48JfIos</td>\n",
       "      <td>Faded</td>\n",
       "      <td>Alan Walker</td>\n",
       "      <td>69</td>\n",
       "      <td>Faded</td>\n",
       "      <td>2015</td>\n",
       "      <td>3.54</td>\n",
       "      <td>electro house</td>\n",
       "      <td>Kreatell Music</td>\n",
       "      <td>58.9</td>\n",
       "      <td>...</td>\n",
       "      <td>0.00</td>\n",
       "      <td>11.10</td>\n",
       "      <td>16.60</td>\n",
       "      <td>90</td>\n",
       "      <td>4</td>\n",
       "      <td>7gHs73wELdeycvS48JfIos</td>\n",
       "      <td>[7vk5e3vY1uw9plTHJAMwjN]</td>\n",
       "      <td>[Alan Walker]</td>\n",
       "      <td>[39725669]</td>\n",
       "      <td>[82]</td>\n",
       "    </tr>\n",
       "  </tbody>\n",
       "</table>\n",
       "<p>100 rows × 26 columns</p>\n",
       "</div>"
      ],
      "text/plain": [
       "                  track_id                     track_name  \\\n",
       "0   0nrRP2bk19rLc0orkWPQk2                     Wake Me Up   \n",
       "1   0lYBSQXN6rCTvUZvg9S0lU                Let Me Love You   \n",
       "2   7BqHUALzNBTanL6OvsqmC1                        Happier   \n",
       "3   2YWjW3wwQIBLNhxWKBQd16  Lean On (feat. MØ & DJ Snake)   \n",
       "4   4cktbXiXOapiLBMprHFErI                       Memories   \n",
       "..                     ...                            ...   \n",
       "95  0u2P5u6lvoDfwTYjAADbn4           lovely (with Khalid)   \n",
       "96  5KReHDo8W8w9bKTY3KxPy3                     Let Her Go   \n",
       "97  7yq4Qj7cqayVTp3FF9CWbm                        Riptide   \n",
       "98  3hRV0jL3vUpRrcy398teAU               The Night We Met   \n",
       "99  7gHs73wELdeycvS48JfIos                          Faded   \n",
       "\n",
       "               track_artist  track_popularity  \\\n",
       "0                    Avicii                83   \n",
       "1    DJ Snake,Justin Bieber                83   \n",
       "2       Marshmello,Bastille                82   \n",
       "3   Major Lazer,MØ,DJ Snake                77   \n",
       "4                  Maroon 5                81   \n",
       "..                      ...               ...   \n",
       "95     Billie Eilish,Khalid                86   \n",
       "96                Passenger                53   \n",
       "97                Vance Joy                78   \n",
       "98               Lord Huron                88   \n",
       "99              Alan Walker                69   \n",
       "\n",
       "                   track_album_name  track_album_release_year  duration_min  \\\n",
       "0                              TRUE                      2013          4.12   \n",
       "1                            Encore                      2016          3.43   \n",
       "2                           Happier                      2018          3.57   \n",
       "3   Peace Is The Mission : Extended                      2015          2.94   \n",
       "4                    JORDI (Deluxe)                      2021          3.16   \n",
       "..                              ...                       ...           ...   \n",
       "95             lovely (with Khalid)                      2018          3.34   \n",
       "96                  Let Her Go (EP)                      2012          4.21   \n",
       "97             Dream Your Life Away                      2014          3.40   \n",
       "98                   Strange Trails                      2015          3.47   \n",
       "99                            Faded                      2015          3.54   \n",
       "\n",
       "           genres             record_label  danceability  ...  \\\n",
       "0             EDM       Universal Music AB          53.2  ...   \n",
       "1             EDM         DJ Snake Def Jam          47.5  ...   \n",
       "2             EDM       Joytime Collective          68.7  ...   \n",
       "3             EDM     Third Pardee Records          72.3  ...   \n",
       "4             Pop      Interscope Records*          77.5  ...   \n",
       "..            ...                      ...           ...  ...   \n",
       "95        Pop/R&B                 Darkroom          35.1  ...   \n",
       "96       Folk-Pop         Embassy of Music          47.9  ...   \n",
       "97       Folk-Pop  F-Stop Records/Atlantic          48.4  ...   \n",
       "98     Indie Folk        Play It Again Sam          44.8  ...   \n",
       "99  electro house           Kreatell Music          58.9  ...   \n",
       "\n",
       "    instrumentalness liveness  valence tempo  time_signature  \\\n",
       "0               0.12    16.10    64.30   124               4   \n",
       "1               0.00    13.50    15.90   200               4   \n",
       "2               0.00    16.70    67.10   100               4   \n",
       "3               0.12    56.50    27.40    98               4   \n",
       "4               0.00     8.21    59.50    91               4   \n",
       "..               ...      ...      ...   ...             ...   \n",
       "95              0.00     9.50    12.00   115               4   \n",
       "96              0.00     9.63    24.30    75               4   \n",
       "97              0.00    15.10    51.00   102               4   \n",
       "98             27.20    63.80     9.98   174               3   \n",
       "99              0.00    11.10    16.60    90               4   \n",
       "\n",
       "                track_id_1                                          artist_id  \\\n",
       "0   0nrRP2bk19rLc0orkWPQk2                           [1vCWHaC5f2uS3yhpwWbIA6]   \n",
       "1   0lYBSQXN6rCTvUZvg9S0lU   [540vIaP2JwjQb9dm3aArA4, 1uNFoZAHBGtllmzznpCI3s]   \n",
       "2   7BqHUALzNBTanL6OvsqmC1   [64KEffDW9EtZ1y2vBYgq8T, 7EQ0qTo7fWT7DPxmxtSYEc]   \n",
       "3   2YWjW3wwQIBLNhxWKBQd16  [738wLrAtLtCtFOLvQBXOXp, 0bdfiayQAKewqEvaU6rXC...   \n",
       "4   4cktbXiXOapiLBMprHFErI                           [04gDigrS5kc9YWfZHwBETP]   \n",
       "..                     ...                                                ...   \n",
       "95  0u2P5u6lvoDfwTYjAADbn4   [6qqNVTkY8uBg9cP3Jd7DAH, 6LuN9FCkKOj5PcnpouEgny]   \n",
       "96  5KReHDo8W8w9bKTY3KxPy3                           [0gadJ2b9A4SKsB1RFkBb66]   \n",
       "97  7yq4Qj7cqayVTp3FF9CWbm                           [10exVja0key0uqUkk6LJRT]   \n",
       "98  3hRV0jL3vUpRrcy398teAU                           [6ltzsmQQbmdoHHbLZ4ZN25]   \n",
       "99  7gHs73wELdeycvS48JfIos                           [7vk5e3vY1uw9plTHJAMwjN]   \n",
       "\n",
       "                    artist_name             artist_followers  \\\n",
       "0                      [Avicii]                   [23107521]   \n",
       "1     [DJ Snake, Justin Bieber]          [8910877, 78641625]   \n",
       "2        [Marshmello, Bastille]          [33882258, 5582338]   \n",
       "3   [Major Lazer, MØ, DJ Snake]  [6206097, 1458940, 8910877]   \n",
       "4                    [Maroon 5]                   [43145812]   \n",
       "..                          ...                          ...   \n",
       "95      [Billie Eilish, Khalid]        [102057941, 16425608]   \n",
       "96                  [Passenger]                    [3419887]   \n",
       "97                  [Vance Joy]                    [3199643]   \n",
       "98                 [Lord Huron]                    [1765546]   \n",
       "99                [Alan Walker]                   [39725669]   \n",
       "\n",
       "    artist_popularity  \n",
       "0                [81]  \n",
       "1            [79, 91]  \n",
       "2            [84, 76]  \n",
       "3        [77, 72, 79]  \n",
       "4                [87]  \n",
       "..                ...  \n",
       "95           [96, 85]  \n",
       "96               [72]  \n",
       "97               [78]  \n",
       "98               [78]  \n",
       "99               [82]  \n",
       "\n",
       "[100 rows x 26 columns]"
      ]
     },
     "execution_count": 11,
     "metadata": {},
     "output_type": "execute_result"
    }
   ],
   "source": [
    "df_top_100"
   ]
  },
  {
   "cell_type": "code",
   "execution_count": 12,
   "metadata": {},
   "outputs": [
    {
     "data": {
      "image/png": "[encoded data removed]",
      "text/plain": [
       "<Figure size 1000x600 with 1 Axes>"
      ]
     },
     "metadata": {},
     "output_type": "display_data"
    }
   ],
   "source": [
    "#histogram of track_popularity\n",
    "plt.figure(figsize=(10, 6))\n",
    "plt.hist(df_top_100['track_popularity'], bins=30, color='#1f77b4')\n",
    "plt.title('Distribution of track popularity Top 100 List')\n",
    "plt.show()"
   ]
  },
  {
   "cell_type": "code",
   "execution_count": null,
   "metadata": {},
   "outputs": [],
   "source": [
    "pip install scipy"
   ]
  },
  {
   "cell_type": "code",
   "execution_count": 14,
   "metadata": {},
   "outputs": [],
   "source": [
    "import scipy.stats as stats"
   ]
  },
  {
   "cell_type": "code",
   "execution_count": 15,
   "metadata": {},
   "outputs": [
    {
     "data": {
      "text/plain": [
       "np.float64(0.963626048751672)"
      ]
     },
     "execution_count": 15,
     "metadata": {},
     "output_type": "execute_result"
    }
   ],
   "source": [
    "res_obama = stats.shapiro(df_obama['track_popularity'])\n",
    "res_obama.statistic"
   ]
  },
  {
   "cell_type": "markdown",
   "metadata": {},
   "source": [
    "the value 0,96 for the Obama Playlists suggests a normal distribution\n"
   ]
  },
  {
   "cell_type": "code",
   "execution_count": 16,
   "metadata": {},
   "outputs": [
    {
     "data": {
      "text/plain": [
       "np.float64(0.7753147088145892)"
      ]
     },
     "execution_count": 16,
     "metadata": {},
     "output_type": "execute_result"
    }
   ],
   "source": [
    "res_top_100 = stats.shapiro(df_top_100['track_popularity'])\n",
    "res_top_100.statistic"
   ]
  },
  {
   "cell_type": "markdown",
   "metadata": {},
   "source": [
    "Is the difference between Obama track_popularity and top_100 track_popularity statistically significant?"
   ]
  },
  {
   "cell_type": "code",
   "execution_count": 17,
   "metadata": {},
   "outputs": [
    {
     "name": "stdout",
     "output_type": "stream",
     "text": [
      "p-value: 1.2184751745257097e-39\n"
     ]
    }
   ],
   "source": [
    "#Perform T-Test\n",
    "t_score, p_value = stats.ttest_ind(a=df_obama['track_popularity'], b=df_top_100['track_popularity'], equal_var=True)\n",
    "print(f'p-value: {p_value}')\n"
   ]
  },
  {
   "cell_type": "markdown",
   "metadata": {},
   "source": [
    "the p-value of 1,22 indicates that the observed difference in track_popularity between the two datasets (Obama playlists and Top 100 tracks) is statistically significant"
   ]
  },
  {
   "cell_type": "markdown",
   "metadata": {},
   "source": [
    "## Artist Followers"
   ]
  },
  {
   "cell_type": "code",
   "execution_count": 18,
   "metadata": {},
   "outputs": [
    {
     "data": {
      "image/png": "[encoded data removed]",
      "text/plain": [
       "<Figure size 1000x600 with 1 Axes>"
      ]
     },
     "metadata": {},
     "output_type": "display_data"
    }
   ],
   "source": [
    "# Flatten the artist_followers list\n",
    "all_artist_followers_1 = [follower for sublist in df_obama['artist_followers'] for follower in sublist]\n",
    "\n",
    "# Plot the histogram\n",
    "plt.figure(figsize=(10, 6))\n",
    "plt.hist(all_artist_followers_1, bins=30, color='#1f77b4')\n",
    "plt.title('Distribution of Obama lists artist followers')\n",
    "plt.xlabel('Number of Followers')\n",
    "plt.ylabel('Frequency')\n",
    "plt.show()"
   ]
  },
  {
   "cell_type": "code",
   "execution_count": 19,
   "metadata": {},
   "outputs": [
    {
     "data": {
      "text/plain": [
       "np.float64(0.49680256220938124)"
      ]
     },
     "execution_count": 19,
     "metadata": {},
     "output_type": "execute_result"
    }
   ],
   "source": [
    "res_obama_art_followers = stats.shapiro(all_artist_followers_1)\n",
    "res_obama_art_followers.statistic"
   ]
  },
  {
   "cell_type": "code",
   "execution_count": 20,
   "metadata": {},
   "outputs": [
    {
     "data": {
      "image/png": "[encoded data removed]",
      "text/plain": [
       "<Figure size 1000x600 with 1 Axes>"
      ]
     },
     "metadata": {},
     "output_type": "display_data"
    }
   ],
   "source": [
    "all_artist_followers_2 = [follower for sublist in df_top_100['artist_followers'] for follower in sublist]\n",
    "\n",
    "# Plot the histogram\n",
    "plt.figure(figsize=(10, 6))\n",
    "plt.hist(all_artist_followers_2, bins=30, color='#1f77b4')\n",
    "plt.title('Distribution of Top 100 list artist followers')\n",
    "plt.xlabel('Number of Followers')\n",
    "plt.ylabel('Frequency')\n",
    "plt.show()"
   ]
  },
  {
   "cell_type": "code",
   "execution_count": 21,
   "metadata": {},
   "outputs": [
    {
     "data": {
      "text/plain": [
       "np.float64(0.8943897255934165)"
      ]
     },
     "execution_count": 21,
     "metadata": {},
     "output_type": "execute_result"
    }
   ],
   "source": [
    "res_top_100_art_followers = stats.shapiro(all_artist_followers_2)\n",
    "res_top_100_art_followers.statistic"
   ]
  },
  {
   "cell_type": "code",
   "execution_count": 22,
   "metadata": {},
   "outputs": [
    {
     "name": "stdout",
     "output_type": "stream",
     "text": [
      "T-test p-value: 3.0244750869171344e-29\n"
     ]
    }
   ],
   "source": [
    "t_score, p_value = stats.ttest_ind(a=all_artist_followers_1, b=all_artist_followers_2, equal_var=True)\n",
    "print(f\"T-test p-value: {p_value}\")"
   ]
  },
  {
   "cell_type": "code",
   "execution_count": 23,
   "metadata": {},
   "outputs": [
    {
     "name": "stdout",
     "output_type": "stream",
     "text": [
      "Mann-Whitney U test p-value: 5.361311385508061e-28\n"
     ]
    }
   ],
   "source": [
    "from scipy.stats import mannwhitneyu\n",
    "\n",
    "stat, p_value = mannwhitneyu(all_artist_followers_1, all_artist_followers_2)\n",
    "print(f\"Mann-Whitney U test p-value: {p_value}\")"
   ]
  },
  {
   "cell_type": "markdown",
   "metadata": {},
   "source": [
    "## Valence"
   ]
  },
  {
   "cell_type": "code",
   "execution_count": 24,
   "metadata": {},
   "outputs": [
    {
     "data": {
      "image/png": "[encoded data removed]",
      "text/plain": [
       "<Figure size 1000x600 with 1 Axes>"
      ]
     },
     "metadata": {},
     "output_type": "display_data"
    }
   ],
   "source": [
    "#histogram of valence\n",
    "plt.figure(figsize=(10, 6))\n",
    "plt.hist(df_obama['valence'], bins=30, color='#1f77b4')\n",
    "plt.title('Distribution of valence - Obama Lists')\n",
    "plt.show()"
   ]
  },
  {
   "cell_type": "code",
   "execution_count": 25,
   "metadata": {},
   "outputs": [
    {
     "data": {
      "image/png": "[encoded data removed]",
      "text/plain": [
       "<Figure size 1000x600 with 1 Axes>"
      ]
     },
     "metadata": {},
     "output_type": "display_data"
    }
   ],
   "source": [
    "#histogram of valence\n",
    "plt.figure(figsize=(10, 6))\n",
    "plt.hist(df_top_100['valence'], bins=30, color='#1f77b4')\n",
    "plt.title('Distribution of valence Top 100 List')\n",
    "plt.show()"
   ]
  },
  {
   "cell_type": "code",
   "execution_count": 26,
   "metadata": {},
   "outputs": [
    {
     "data": {
      "text/plain": [
       "np.float64(0.9810544931534704)"
      ]
     },
     "execution_count": 26,
     "metadata": {},
     "output_type": "execute_result"
    }
   ],
   "source": [
    "res_valence_obama = stats.shapiro(df_obama['valence'])\n",
    "res_valence_obama.statistic"
   ]
  },
  {
   "cell_type": "code",
   "execution_count": 27,
   "metadata": {},
   "outputs": [
    {
     "data": {
      "text/plain": [
       "np.float64(0.9749247702210769)"
      ]
     },
     "execution_count": 27,
     "metadata": {},
     "output_type": "execute_result"
    }
   ],
   "source": [
    "res_valence_top_100 = stats.shapiro(df_top_100['valence'])\n",
    "res_valence_top_100.statistic"
   ]
  },
  {
   "cell_type": "code",
   "execution_count": 28,
   "metadata": {},
   "outputs": [
    {
     "name": "stdout",
     "output_type": "stream",
     "text": [
      "p-value: 0.0036062999426881162\n"
     ]
    }
   ],
   "source": [
    "#Perform T-Test\n",
    "t_score, p_value = stats.ttest_ind(a=df_obama['valence'], b=df_top_100['valence'], equal_var=True)\n",
    "print(f'p-value: {p_value}')"
   ]
  },
  {
   "cell_type": "markdown",
   "metadata": {},
   "source": [
    "## Correlation between energy and valence"
   ]
  },
  {
   "cell_type": "code",
   "execution_count": 29,
   "metadata": {},
   "outputs": [
    {
     "data": {
      "text/plain": [
       "np.float64(0.4085835615357556)"
      ]
     },
     "execution_count": 29,
     "metadata": {},
     "output_type": "execute_result"
    }
   ],
   "source": [
    "# Calculate the correlation between energy and valence in Obama Lists\n",
    "correlation_obama = df_obama['energy'].corr(df_obama['valence'])\n",
    "correlation_obama"
   ]
  },
  {
   "cell_type": "code",
   "execution_count": 30,
   "metadata": {},
   "outputs": [
    {
     "data": {
      "text/html": [
       "<div>\n",
       "<style scoped>\n",
       "    .dataframe tbody tr th:only-of-type {\n",
       "        vertical-align: middle;\n",
       "    }\n",
       "\n",
       "    .dataframe tbody tr th {\n",
       "        vertical-align: top;\n",
       "    }\n",
       "\n",
       "    .dataframe thead th {\n",
       "        text-align: right;\n",
       "    }\n",
       "</style>\n",
       "<table border=\"1\" class=\"dataframe\">\n",
       "  <thead>\n",
       "    <tr style=\"text-align: right;\">\n",
       "      <th></th>\n",
       "      <th>energy</th>\n",
       "      <th>valence</th>\n",
       "    </tr>\n",
       "  </thead>\n",
       "  <tbody>\n",
       "    <tr>\n",
       "      <th>energy</th>\n",
       "      <td>1.000000</td>\n",
       "      <td>0.408584</td>\n",
       "    </tr>\n",
       "    <tr>\n",
       "      <th>valence</th>\n",
       "      <td>0.408584</td>\n",
       "      <td>1.000000</td>\n",
       "    </tr>\n",
       "  </tbody>\n",
       "</table>\n",
       "</div>"
      ],
      "text/plain": [
       "           energy   valence\n",
       "energy   1.000000  0.408584\n",
       "valence  0.408584  1.000000"
      ]
     },
     "execution_count": 30,
     "metadata": {},
     "output_type": "execute_result"
    }
   ],
   "source": [
    "corr_matrix_obama = df_obama[['energy', 'valence']].corr()\n",
    "corr_matrix_obama"
   ]
  },
  {
   "cell_type": "code",
   "execution_count": 31,
   "metadata": {},
   "outputs": [
    {
     "data": {
      "text/plain": [
       "<Axes: >"
      ]
     },
     "execution_count": 31,
     "metadata": {},
     "output_type": "execute_result"
    },
    {
     "data": {
      "image/png": "[encoded data removed]",
      "text/plain": [
       "<Figure size 640x480 with 2 Axes>"
      ]
     },
     "metadata": {},
     "output_type": "display_data"
    }
   ],
   "source": [
    "sns.heatmap(corr_matrix_obama, annot=True)"
   ]
  },
  {
   "cell_type": "code",
   "execution_count": 32,
   "metadata": {},
   "outputs": [
    {
     "data": {
      "text/plain": [
       "np.float64(0.3598287460375964)"
      ]
     },
     "execution_count": 32,
     "metadata": {},
     "output_type": "execute_result"
    }
   ],
   "source": [
    "# Calculate the correlation between energy and valence in Top 100 Lists\n",
    "correlation_top_100 = df_top_100['energy'].corr(df_top_100['valence'])\n",
    "correlation_top_100"
   ]
  },
  {
   "cell_type": "code",
   "execution_count": 33,
   "metadata": {},
   "outputs": [
    {
     "data": {
      "text/html": [
       "<div>\n",
       "<style scoped>\n",
       "    .dataframe tbody tr th:only-of-type {\n",
       "        vertical-align: middle;\n",
       "    }\n",
       "\n",
       "    .dataframe tbody tr th {\n",
       "        vertical-align: top;\n",
       "    }\n",
       "\n",
       "    .dataframe thead th {\n",
       "        text-align: right;\n",
       "    }\n",
       "</style>\n",
       "<table border=\"1\" class=\"dataframe\">\n",
       "  <thead>\n",
       "    <tr style=\"text-align: right;\">\n",
       "      <th></th>\n",
       "      <th>energy</th>\n",
       "      <th>valence</th>\n",
       "    </tr>\n",
       "  </thead>\n",
       "  <tbody>\n",
       "    <tr>\n",
       "      <th>energy</th>\n",
       "      <td>1.000000</td>\n",
       "      <td>0.359829</td>\n",
       "    </tr>\n",
       "    <tr>\n",
       "      <th>valence</th>\n",
       "      <td>0.359829</td>\n",
       "      <td>1.000000</td>\n",
       "    </tr>\n",
       "  </tbody>\n",
       "</table>\n",
       "</div>"
      ],
      "text/plain": [
       "           energy   valence\n",
       "energy   1.000000  0.359829\n",
       "valence  0.359829  1.000000"
      ]
     },
     "execution_count": 33,
     "metadata": {},
     "output_type": "execute_result"
    }
   ],
   "source": [
    "corr_matrix_top_100 = df_top_100[['energy', 'valence']].corr()\n",
    "corr_matrix_top_100"
   ]
  },
  {
   "cell_type": "code",
   "execution_count": 34,
   "metadata": {},
   "outputs": [
    {
     "data": {
      "text/plain": [
       "<Axes: >"
      ]
     },
     "execution_count": 34,
     "metadata": {},
     "output_type": "execute_result"
    },
    {
     "data": {
      "image/png": "[encoded data removed]",
      "text/plain": [
       "<Figure size 640x480 with 2 Axes>"
      ]
     },
     "metadata": {},
     "output_type": "display_data"
    }
   ],
   "source": [
    "sns.heatmap(corr_matrix_top_100, annot=True)"
   ]
  },
  {
   "cell_type": "markdown",
   "metadata": {},
   "source": [
    "## Correlation between tempo and valence"
   ]
  },
  {
   "cell_type": "code",
   "execution_count": 35,
   "metadata": {},
   "outputs": [
    {
     "data": {
      "text/plain": [
       "np.float64(0.05209988911563235)"
      ]
     },
     "execution_count": 35,
     "metadata": {},
     "output_type": "execute_result"
    }
   ],
   "source": [
    "# Calculate the correlation between tempo and valence in Obama Lists\n",
    "correlation_2_obama = df_obama['tempo'].corr(df_obama['valence'])\n",
    "correlation_2_obama"
   ]
  },
  {
   "cell_type": "code",
   "execution_count": 36,
   "metadata": {},
   "outputs": [
    {
     "data": {
      "text/html": [
       "<div>\n",
       "<style scoped>\n",
       "    .dataframe tbody tr th:only-of-type {\n",
       "        vertical-align: middle;\n",
       "    }\n",
       "\n",
       "    .dataframe tbody tr th {\n",
       "        vertical-align: top;\n",
       "    }\n",
       "\n",
       "    .dataframe thead th {\n",
       "        text-align: right;\n",
       "    }\n",
       "</style>\n",
       "<table border=\"1\" class=\"dataframe\">\n",
       "  <thead>\n",
       "    <tr style=\"text-align: right;\">\n",
       "      <th></th>\n",
       "      <th>tempo</th>\n",
       "      <th>valence</th>\n",
       "    </tr>\n",
       "  </thead>\n",
       "  <tbody>\n",
       "    <tr>\n",
       "      <th>tempo</th>\n",
       "      <td>1.0000</td>\n",
       "      <td>0.0521</td>\n",
       "    </tr>\n",
       "    <tr>\n",
       "      <th>valence</th>\n",
       "      <td>0.0521</td>\n",
       "      <td>1.0000</td>\n",
       "    </tr>\n",
       "  </tbody>\n",
       "</table>\n",
       "</div>"
      ],
      "text/plain": [
       "          tempo  valence\n",
       "tempo    1.0000   0.0521\n",
       "valence  0.0521   1.0000"
      ]
     },
     "execution_count": 36,
     "metadata": {},
     "output_type": "execute_result"
    }
   ],
   "source": [
    "corr_matrix_2_obama = df_obama[['tempo', 'valence']].corr()\n",
    "corr_matrix_2_obama"
   ]
  },
  {
   "cell_type": "code",
   "execution_count": 37,
   "metadata": {},
   "outputs": [
    {
     "data": {
      "text/plain": [
       "<Axes: >"
      ]
     },
     "execution_count": 37,
     "metadata": {},
     "output_type": "execute_result"
    },
    {
     "data": {
      "image/png": "[encoded data removed]",
      "text/plain": [
       "<Figure size 640x480 with 2 Axes>"
      ]
     },
     "metadata": {},
     "output_type": "display_data"
    }
   ],
   "source": [
    "sns.heatmap(corr_matrix_2_obama, annot=True)"
   ]
  },
  {
   "cell_type": "code",
   "execution_count": 38,
   "metadata": {},
   "outputs": [
    {
     "data": {
      "text/plain": [
       "np.float64(-0.13242298211264222)"
      ]
     },
     "execution_count": 38,
     "metadata": {},
     "output_type": "execute_result"
    }
   ],
   "source": [
    "# Calculate the correlation between tempo and valence in Top 100 List\n",
    "correlation_2_top_100 = df_top_100['tempo'].corr(df_top_100['valence'])\n",
    "correlation_2_top_100"
   ]
  },
  {
   "cell_type": "code",
   "execution_count": 39,
   "metadata": {},
   "outputs": [
    {
     "data": {
      "text/html": [
       "<div>\n",
       "<style scoped>\n",
       "    .dataframe tbody tr th:only-of-type {\n",
       "        vertical-align: middle;\n",
       "    }\n",
       "\n",
       "    .dataframe tbody tr th {\n",
       "        vertical-align: top;\n",
       "    }\n",
       "\n",
       "    .dataframe thead th {\n",
       "        text-align: right;\n",
       "    }\n",
       "</style>\n",
       "<table border=\"1\" class=\"dataframe\">\n",
       "  <thead>\n",
       "    <tr style=\"text-align: right;\">\n",
       "      <th></th>\n",
       "      <th>tempo</th>\n",
       "      <th>valence</th>\n",
       "    </tr>\n",
       "  </thead>\n",
       "  <tbody>\n",
       "    <tr>\n",
       "      <th>tempo</th>\n",
       "      <td>1.000000</td>\n",
       "      <td>-0.132423</td>\n",
       "    </tr>\n",
       "    <tr>\n",
       "      <th>valence</th>\n",
       "      <td>-0.132423</td>\n",
       "      <td>1.000000</td>\n",
       "    </tr>\n",
       "  </tbody>\n",
       "</table>\n",
       "</div>"
      ],
      "text/plain": [
       "            tempo   valence\n",
       "tempo    1.000000 -0.132423\n",
       "valence -0.132423  1.000000"
      ]
     },
     "execution_count": 39,
     "metadata": {},
     "output_type": "execute_result"
    }
   ],
   "source": [
    "corr_matrix_2_top_100 = df_top_100[['tempo', 'valence']].corr()\n",
    "corr_matrix_2_top_100"
   ]
  },
  {
   "cell_type": "code",
   "execution_count": 40,
   "metadata": {},
   "outputs": [
    {
     "data": {
      "text/plain": [
       "<Axes: >"
      ]
     },
     "execution_count": 40,
     "metadata": {},
     "output_type": "execute_result"
    },
    {
     "data": {
      "image/png": "[encoded data removed]",
      "text/plain": [
       "<Figure size 640x480 with 2 Axes>"
      ]
     },
     "metadata": {},
     "output_type": "display_data"
    }
   ],
   "source": [
    "sns.heatmap(corr_matrix_2_top_100, annot=True)"
   ]
  }
 ],
 "metadata": {
  "kernelspec": {
   "display_name": "Python 3",
   "language": "python",
   "name": "python3"
  },
  "language_info": {
   "codemirror_mode": {
    "name": "ipython",
    "version": 3
   },
   "file_extension": ".py",
   "mimetype": "text/x-python",
   "name": "python",
   "nbconvert_exporter": "python",
   "pygments_lexer": "ipython3",
   "version": "3.11.7"
  }
 },
 "nbformat": 4,
 "nbformat_minor": 2
}
