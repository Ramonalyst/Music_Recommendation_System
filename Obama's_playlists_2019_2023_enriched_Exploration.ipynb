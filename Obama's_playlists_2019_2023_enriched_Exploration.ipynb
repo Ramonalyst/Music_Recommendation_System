{
 "cells": [
  {
   "cell_type": "markdown",
   "metadata": {
    "id": "waHsB5RZqs0L"
   },
   "source": [
    "# Loading the data"
   ]
  },
  {
   "cell_type": "code",
   "execution_count": 1,
   "metadata": {
    "id": "epP_jTQ6toQx"
   },
   "outputs": [],
   "source": [
    "import pandas as pd\n",
    "import plotly.express as px\n",
    "from plotly.subplots import make_subplots\n",
    "import matplotlib.pyplot as plt\n",
    "import numpy as np\n",
    "import seaborn as sns"
   ]
  },
  {
   "cell_type": "code",
   "execution_count": 2,
   "metadata": {
    "id": "n_1IsNjLcTmo"
   },
   "outputs": [],
   "source": [
    "from google.cloud import bigquery     # If you are working locally, make sure you have Google Cloud library installed\n",
    "import pandas as pd\n",
    "from google.oauth2 import service_account\n",
    "\n",
    "\n",
    "import pyarrow.parquet as pq"
   ]
  },
  {
   "cell_type": "code",
   "execution_count": 3,
   "metadata": {},
   "outputs": [],
   "source": [
    "# Connect to BQ\n",
    "\n",
    "\n",
    "credentials = service_account.Credentials.from_service_account_file(\n",
    "'/Users/mariegeorgescudehillerin/Desktop/Le Wagon/Project/music-recommendation-system-24-e7b0bc87bbb3.json')\n",
    "# music-recommendation-system-24-3d0d21fb1f8b.json is the service account JSON file. Save the file locally on your device and add the path here.\n",
    "# make sure that the slashes in the path are '/' and not '\\'\n",
    "\n",
    "\n",
    "project_id = 'music-recommendation-system-24'\n",
    "client = bigquery.Client(credentials= credentials,project=project_id)"
   ]
  },
  {
   "cell_type": "code",
   "execution_count": 4,
   "metadata": {},
   "outputs": [],
   "source": [
    "# Query BQ\n",
    "\n",
    "\n",
    "query_job = client.query(\"\"\"\n",
    "  SELECT\n",
    "     *\n",
    "  FROM `music-recommendation-system-24.obama_playlists.BO_playlist_2019_2024_artist_enriched`\n",
    "  LIMIT 1000\"\"\")\n",
    "#but the query in three quote marks\n",
    "\n",
    "\n",
    "\n",
    "\n",
    "results = query_job.result() # Wait for the job to complete.\n",
    "\n",
    "\n",
    "rows = [dict(row) for row in results]\n",
    "\n",
    "\n",
    "# Convert the list of dictionaries to a DataFrame\n",
    "df = pd.DataFrame(rows)"
   ]
  },
  {
   "cell_type": "markdown",
   "metadata": {
    "id": "v0XCv4gYtqpn"
   },
   "source": [
    "#Data Exploration"
   ]
  },
  {
   "cell_type": "code",
   "execution_count": 5,
   "metadata": {
    "colab": {
     "base_uri": "https://localhost:8080/"
    },
    "id": "XY_hQd2F0j_D",
    "outputId": "2a2afaf4-d645-4b0e-c3b2-1b99776c2e9d"
   },
   "outputs": [
    {
     "data": {
      "text/plain": [
       "(259, 27)"
      ]
     },
     "execution_count": 5,
     "metadata": {},
     "output_type": "execute_result"
    }
   ],
   "source": [
    "df.shape"
   ]
  },
  {
   "cell_type": "code",
   "execution_count": 6,
   "metadata": {
    "colab": {
     "base_uri": "https://localhost:8080/"
    },
    "id": "7QgM7HvN0sMM",
    "outputId": "b1e8fc80-8b70-4794-9b2f-ac1c1af79997"
   },
   "outputs": [
    {
     "name": "stdout",
     "output_type": "stream",
     "text": [
      "Index(['track_id', 'track_name', 'track_album_name', 'track_artist',\n",
      "       'artist_gender', 'track_album_release_year', 'duration_min',\n",
      "       'track_popularity', 'genres', 'record_label', 'danceability', 'energy',\n",
      "       'key', 'loudness', 'mode', 'speechiness', 'acousticness',\n",
      "       'instrumentalness', 'liveness', 'valence', 'tempo', 'time_signature',\n",
      "       'Playlist_year', 'artist_id', 'artist_name', 'artist_followers',\n",
      "       'artist_popularity'],\n",
      "      dtype='object')\n"
     ]
    }
   ],
   "source": [
    "print(df.columns)"
   ]
  },
  {
   "cell_type": "code",
   "execution_count": 7,
   "metadata": {
    "colab": {
     "base_uri": "https://localhost:8080/",
     "height": 834
    },
    "id": "_Er42d71m4zY",
    "outputId": "ddcee2ce-f363-4bca-e3e8-64a99b863c81"
   },
   "outputs": [
    {
     "data": {
      "text/html": [
       "<div>\n",
       "<style scoped>\n",
       "    .dataframe tbody tr th:only-of-type {\n",
       "        vertical-align: middle;\n",
       "    }\n",
       "\n",
       "    .dataframe tbody tr th {\n",
       "        vertical-align: top;\n",
       "    }\n",
       "\n",
       "    .dataframe thead th {\n",
       "        text-align: right;\n",
       "    }\n",
       "</style>\n",
       "<table border=\"1\" class=\"dataframe\">\n",
       "  <thead>\n",
       "    <tr style=\"text-align: right;\">\n",
       "      <th></th>\n",
       "      <th>Column Names</th>\n",
       "    </tr>\n",
       "  </thead>\n",
       "  <tbody>\n",
       "    <tr>\n",
       "      <th>0</th>\n",
       "      <td>track_id</td>\n",
       "    </tr>\n",
       "    <tr>\n",
       "      <th>1</th>\n",
       "      <td>track_name</td>\n",
       "    </tr>\n",
       "    <tr>\n",
       "      <th>2</th>\n",
       "      <td>track_album_name</td>\n",
       "    </tr>\n",
       "    <tr>\n",
       "      <th>3</th>\n",
       "      <td>track_artist</td>\n",
       "    </tr>\n",
       "    <tr>\n",
       "      <th>4</th>\n",
       "      <td>artist_gender</td>\n",
       "    </tr>\n",
       "    <tr>\n",
       "      <th>5</th>\n",
       "      <td>track_album_release_year</td>\n",
       "    </tr>\n",
       "    <tr>\n",
       "      <th>6</th>\n",
       "      <td>duration_min</td>\n",
       "    </tr>\n",
       "    <tr>\n",
       "      <th>7</th>\n",
       "      <td>track_popularity</td>\n",
       "    </tr>\n",
       "    <tr>\n",
       "      <th>8</th>\n",
       "      <td>genres</td>\n",
       "    </tr>\n",
       "    <tr>\n",
       "      <th>9</th>\n",
       "      <td>record_label</td>\n",
       "    </tr>\n",
       "    <tr>\n",
       "      <th>10</th>\n",
       "      <td>danceability</td>\n",
       "    </tr>\n",
       "    <tr>\n",
       "      <th>11</th>\n",
       "      <td>energy</td>\n",
       "    </tr>\n",
       "    <tr>\n",
       "      <th>12</th>\n",
       "      <td>key</td>\n",
       "    </tr>\n",
       "    <tr>\n",
       "      <th>13</th>\n",
       "      <td>loudness</td>\n",
       "    </tr>\n",
       "    <tr>\n",
       "      <th>14</th>\n",
       "      <td>mode</td>\n",
       "    </tr>\n",
       "    <tr>\n",
       "      <th>15</th>\n",
       "      <td>speechiness</td>\n",
       "    </tr>\n",
       "    <tr>\n",
       "      <th>16</th>\n",
       "      <td>acousticness</td>\n",
       "    </tr>\n",
       "    <tr>\n",
       "      <th>17</th>\n",
       "      <td>instrumentalness</td>\n",
       "    </tr>\n",
       "    <tr>\n",
       "      <th>18</th>\n",
       "      <td>liveness</td>\n",
       "    </tr>\n",
       "    <tr>\n",
       "      <th>19</th>\n",
       "      <td>valence</td>\n",
       "    </tr>\n",
       "    <tr>\n",
       "      <th>20</th>\n",
       "      <td>tempo</td>\n",
       "    </tr>\n",
       "    <tr>\n",
       "      <th>21</th>\n",
       "      <td>time_signature</td>\n",
       "    </tr>\n",
       "    <tr>\n",
       "      <th>22</th>\n",
       "      <td>Playlist_year</td>\n",
       "    </tr>\n",
       "    <tr>\n",
       "      <th>23</th>\n",
       "      <td>artist_id</td>\n",
       "    </tr>\n",
       "    <tr>\n",
       "      <th>24</th>\n",
       "      <td>artist_name</td>\n",
       "    </tr>\n",
       "    <tr>\n",
       "      <th>25</th>\n",
       "      <td>artist_followers</td>\n",
       "    </tr>\n",
       "    <tr>\n",
       "      <th>26</th>\n",
       "      <td>artist_popularity</td>\n",
       "    </tr>\n",
       "  </tbody>\n",
       "</table>\n",
       "</div>"
      ],
      "text/plain": [
       "                Column Names\n",
       "0                   track_id\n",
       "1                 track_name\n",
       "2           track_album_name\n",
       "3               track_artist\n",
       "4              artist_gender\n",
       "5   track_album_release_year\n",
       "6               duration_min\n",
       "7           track_popularity\n",
       "8                     genres\n",
       "9               record_label\n",
       "10              danceability\n",
       "11                    energy\n",
       "12                       key\n",
       "13                  loudness\n",
       "14                      mode\n",
       "15               speechiness\n",
       "16              acousticness\n",
       "17          instrumentalness\n",
       "18                  liveness\n",
       "19                   valence\n",
       "20                     tempo\n",
       "21            time_signature\n",
       "22             Playlist_year\n",
       "23                 artist_id\n",
       "24               artist_name\n",
       "25          artist_followers\n",
       "26         artist_popularity"
      ]
     },
     "execution_count": 7,
     "metadata": {},
     "output_type": "execute_result"
    }
   ],
   "source": [
    "pd.DataFrame(df.columns, columns=[\"Column Names\"])"
   ]
  },
  {
   "cell_type": "code",
   "execution_count": 8,
   "metadata": {
    "colab": {
     "base_uri": "https://localhost:8080/"
    },
    "id": "ghwD-XvbICPh",
    "outputId": "537e2b75-c3d6-4353-9971-f9779ce35006"
   },
   "outputs": [
    {
     "name": "stdout",
     "output_type": "stream",
     "text": [
      "<class 'pandas.core.frame.DataFrame'>\n",
      "RangeIndex: 259 entries, 0 to 258\n",
      "Data columns (total 27 columns):\n",
      " #   Column                    Non-Null Count  Dtype  \n",
      "---  ------                    --------------  -----  \n",
      " 0   track_id                  259 non-null    object \n",
      " 1   track_name                259 non-null    object \n",
      " 2   track_album_name          259 non-null    object \n",
      " 3   track_artist              259 non-null    object \n",
      " 4   artist_gender             259 non-null    object \n",
      " 5   track_album_release_year  259 non-null    object \n",
      " 6   duration_min              259 non-null    float64\n",
      " 7   track_popularity          259 non-null    int64  \n",
      " 8   genres                    259 non-null    object \n",
      " 9   record_label              259 non-null    object \n",
      " 10  danceability              259 non-null    float64\n",
      " 11  energy                    259 non-null    float64\n",
      " 12  key                       259 non-null    object \n",
      " 13  loudness                  259 non-null    float64\n",
      " 14  mode                      259 non-null    object \n",
      " 15  speechiness               259 non-null    float64\n",
      " 16  acousticness              259 non-null    float64\n",
      " 17  instrumentalness          259 non-null    float64\n",
      " 18  liveness                  259 non-null    float64\n",
      " 19  valence                   259 non-null    float64\n",
      " 20  tempo                     259 non-null    int64  \n",
      " 21  time_signature            259 non-null    int64  \n",
      " 22  Playlist_year             259 non-null    int64  \n",
      " 23  artist_id                 259 non-null    object \n",
      " 24  artist_name               259 non-null    object \n",
      " 25  artist_followers          259 non-null    object \n",
      " 26  artist_popularity         259 non-null    object \n",
      "dtypes: float64(9), int64(4), object(14)\n",
      "memory usage: 54.8+ KB\n"
     ]
    }
   ],
   "source": [
    "df.info()"
   ]
  },
  {
   "cell_type": "code",
   "execution_count": 9,
   "metadata": {
    "colab": {
     "base_uri": "https://localhost:8080/",
     "height": 236
    },
    "id": "Eh6dnVKS0yCN",
    "outputId": "5b7aba97-3c8a-4e68-b38e-baf8e68b2eec"
   },
   "outputs": [
    {
     "data": {
      "text/html": [
       "<div>\n",
       "<style scoped>\n",
       "    .dataframe tbody tr th:only-of-type {\n",
       "        vertical-align: middle;\n",
       "    }\n",
       "\n",
       "    .dataframe tbody tr th {\n",
       "        vertical-align: top;\n",
       "    }\n",
       "\n",
       "    .dataframe thead th {\n",
       "        text-align: right;\n",
       "    }\n",
       "</style>\n",
       "<table border=\"1\" class=\"dataframe\">\n",
       "  <thead>\n",
       "    <tr style=\"text-align: right;\">\n",
       "      <th></th>\n",
       "      <th>track_id</th>\n",
       "      <th>track_name</th>\n",
       "      <th>track_album_name</th>\n",
       "      <th>track_artist</th>\n",
       "      <th>artist_gender</th>\n",
       "      <th>track_album_release_year</th>\n",
       "      <th>duration_min</th>\n",
       "      <th>track_popularity</th>\n",
       "      <th>genres</th>\n",
       "      <th>record_label</th>\n",
       "      <th>...</th>\n",
       "      <th>instrumentalness</th>\n",
       "      <th>liveness</th>\n",
       "      <th>valence</th>\n",
       "      <th>tempo</th>\n",
       "      <th>time_signature</th>\n",
       "      <th>Playlist_year</th>\n",
       "      <th>artist_id</th>\n",
       "      <th>artist_name</th>\n",
       "      <th>artist_followers</th>\n",
       "      <th>artist_popularity</th>\n",
       "    </tr>\n",
       "  </thead>\n",
       "  <tbody>\n",
       "    <tr>\n",
       "      <th>0</th>\n",
       "      <td>7qEKZP3nOqWpEQlANPccOx</td>\n",
       "      <td>Espera</td>\n",
       "      <td>Esperanza</td>\n",
       "      <td>Esperanza Spalding</td>\n",
       "      <td>F</td>\n",
       "      <td>2 008</td>\n",
       "      <td>4.64</td>\n",
       "      <td>29</td>\n",
       "      <td>Jazz</td>\n",
       "      <td>Heads Up</td>\n",
       "      <td>...</td>\n",
       "      <td>3.0</td>\n",
       "      <td>11.0</td>\n",
       "      <td>21.0</td>\n",
       "      <td>152</td>\n",
       "      <td>1</td>\n",
       "      <td>2019</td>\n",
       "      <td>[5bepW5vcdRzheNc0F8lHJ5]</td>\n",
       "      <td>[Esperanza Spalding]</td>\n",
       "      <td>[399132]</td>\n",
       "      <td>[49]</td>\n",
       "    </tr>\n",
       "    <tr>\n",
       "      <th>1</th>\n",
       "      <td>68vxG1i6RSmrsY9mRdqDgG</td>\n",
       "      <td>Burning</td>\n",
       "      <td>Heard It In A Past Life</td>\n",
       "      <td>Maggie Rogers</td>\n",
       "      <td>F</td>\n",
       "      <td>2 019</td>\n",
       "      <td>3.55</td>\n",
       "      <td>53</td>\n",
       "      <td>Indie</td>\n",
       "      <td>Capitol Records</td>\n",
       "      <td>...</td>\n",
       "      <td>0.0</td>\n",
       "      <td>11.0</td>\n",
       "      <td>28.0</td>\n",
       "      <td>110</td>\n",
       "      <td>4</td>\n",
       "      <td>2019</td>\n",
       "      <td>[4NZvixzsSefsNiIqXn0NDe]</td>\n",
       "      <td>[Maggie Rogers]</td>\n",
       "      <td>[1166373]</td>\n",
       "      <td>[72]</td>\n",
       "    </tr>\n",
       "    <tr>\n",
       "      <th>2</th>\n",
       "      <td>3buy5Ooz6uNL48W1yBUzbM</td>\n",
       "      <td>Seventeen</td>\n",
       "      <td>Seventeen</td>\n",
       "      <td>Sharon Van Etten</td>\n",
       "      <td>F</td>\n",
       "      <td>2 019</td>\n",
       "      <td>4.43</td>\n",
       "      <td>0</td>\n",
       "      <td>Indie</td>\n",
       "      <td>Jagjaguwar</td>\n",
       "      <td>...</td>\n",
       "      <td>21.0</td>\n",
       "      <td>7.0</td>\n",
       "      <td>24.0</td>\n",
       "      <td>127</td>\n",
       "      <td>4</td>\n",
       "      <td>2019</td>\n",
       "      <td>[2wJ4vsxWd7df7dRU4KcoDe]</td>\n",
       "      <td>[Sharon Van Etten]</td>\n",
       "      <td>[541804]</td>\n",
       "      <td>[56]</td>\n",
       "    </tr>\n",
       "    <tr>\n",
       "      <th>3</th>\n",
       "      <td>6Vmow8PuUaU7W1T2WWLZk2</td>\n",
       "      <td>Go Gina</td>\n",
       "      <td>Ctrl</td>\n",
       "      <td>SZA</td>\n",
       "      <td>F</td>\n",
       "      <td>2 017</td>\n",
       "      <td>2.69</td>\n",
       "      <td>61</td>\n",
       "      <td>Hip Hop</td>\n",
       "      <td>Top Dawg Entertainment/RCA Records</td>\n",
       "      <td>...</td>\n",
       "      <td>0.0</td>\n",
       "      <td>39.0</td>\n",
       "      <td>46.0</td>\n",
       "      <td>80</td>\n",
       "      <td>4</td>\n",
       "      <td>2019</td>\n",
       "      <td>[7tYKF4w9nC0nq9CsPZTHyP]</td>\n",
       "      <td>[SZA]</td>\n",
       "      <td>[24229902]</td>\n",
       "      <td>[90]</td>\n",
       "    </tr>\n",
       "    <tr>\n",
       "      <th>4</th>\n",
       "      <td>0k664IuFwVP557Gnx7RhIl</td>\n",
       "      <td>Juice</td>\n",
       "      <td>Cuz I Love You</td>\n",
       "      <td>Lizzo</td>\n",
       "      <td>F</td>\n",
       "      <td>2 019</td>\n",
       "      <td>3.25</td>\n",
       "      <td>66</td>\n",
       "      <td>Hip Hop</td>\n",
       "      <td>Nice Life/Atlantic</td>\n",
       "      <td>...</td>\n",
       "      <td>0.0</td>\n",
       "      <td>40.0</td>\n",
       "      <td>84.0</td>\n",
       "      <td>120</td>\n",
       "      <td>4</td>\n",
       "      <td>2019</td>\n",
       "      <td>[56oDRnqbIiwx4mymNEv7dS]</td>\n",
       "      <td>[Lizzo]</td>\n",
       "      <td>[5714695]</td>\n",
       "      <td>[70]</td>\n",
       "    </tr>\n",
       "  </tbody>\n",
       "</table>\n",
       "<p>5 rows × 27 columns</p>\n",
       "</div>"
      ],
      "text/plain": [
       "                 track_id track_name         track_album_name  \\\n",
       "0  7qEKZP3nOqWpEQlANPccOx     Espera                Esperanza   \n",
       "1  68vxG1i6RSmrsY9mRdqDgG    Burning  Heard It In A Past Life   \n",
       "2  3buy5Ooz6uNL48W1yBUzbM  Seventeen                Seventeen   \n",
       "3  6Vmow8PuUaU7W1T2WWLZk2    Go Gina                     Ctrl   \n",
       "4  0k664IuFwVP557Gnx7RhIl      Juice           Cuz I Love You   \n",
       "\n",
       "         track_artist artist_gender track_album_release_year  duration_min  \\\n",
       "0  Esperanza Spalding             F                    2 008          4.64   \n",
       "1       Maggie Rogers             F                    2 019          3.55   \n",
       "2    Sharon Van Etten             F                    2 019          4.43   \n",
       "3                 SZA             F                    2 017          2.69   \n",
       "4               Lizzo             F                    2 019          3.25   \n",
       "\n",
       "   track_popularity   genres                        record_label  ...  \\\n",
       "0                29     Jazz                            Heads Up  ...   \n",
       "1                53    Indie                     Capitol Records  ...   \n",
       "2                 0    Indie                          Jagjaguwar  ...   \n",
       "3                61  Hip Hop  Top Dawg Entertainment/RCA Records  ...   \n",
       "4                66  Hip Hop                  Nice Life/Atlantic  ...   \n",
       "\n",
       "   instrumentalness  liveness valence  tempo time_signature  Playlist_year  \\\n",
       "0               3.0      11.0    21.0    152              1           2019   \n",
       "1               0.0      11.0    28.0    110              4           2019   \n",
       "2              21.0       7.0    24.0    127              4           2019   \n",
       "3               0.0      39.0    46.0     80              4           2019   \n",
       "4               0.0      40.0    84.0    120              4           2019   \n",
       "\n",
       "                  artist_id           artist_name  artist_followers  \\\n",
       "0  [5bepW5vcdRzheNc0F8lHJ5]  [Esperanza Spalding]          [399132]   \n",
       "1  [4NZvixzsSefsNiIqXn0NDe]       [Maggie Rogers]         [1166373]   \n",
       "2  [2wJ4vsxWd7df7dRU4KcoDe]    [Sharon Van Etten]          [541804]   \n",
       "3  [7tYKF4w9nC0nq9CsPZTHyP]                 [SZA]        [24229902]   \n",
       "4  [56oDRnqbIiwx4mymNEv7dS]               [Lizzo]         [5714695]   \n",
       "\n",
       "   artist_popularity  \n",
       "0               [49]  \n",
       "1               [72]  \n",
       "2               [56]  \n",
       "3               [90]  \n",
       "4               [70]  \n",
       "\n",
       "[5 rows x 27 columns]"
      ]
     },
     "execution_count": 9,
     "metadata": {},
     "output_type": "execute_result"
    }
   ],
   "source": [
    "df.head()"
   ]
  },
  {
   "cell_type": "markdown",
   "metadata": {
    "id": "yRNv9tACuaV6"
   },
   "source": [
    "#Data cleaning"
   ]
  },
  {
   "cell_type": "code",
   "execution_count": 12,
   "metadata": {
    "colab": {
     "base_uri": "https://localhost:8080/"
    },
    "id": "0PBS89-bCb0a",
    "outputId": "ef6af836-e535-4e24-8374-eab6055f1509"
   },
   "outputs": [
    {
     "data": {
      "text/plain": [
       "(259, 27)"
      ]
     },
     "execution_count": 12,
     "metadata": {},
     "output_type": "execute_result"
    }
   ],
   "source": [
    "df.shape"
   ]
  },
  {
   "cell_type": "code",
   "execution_count": 14,
   "metadata": {
    "colab": {
     "base_uri": "https://localhost:8080/",
     "height": 868
    },
    "id": "-O94QcKB42rS",
    "outputId": "07b9cde3-f058-4c57-a645-c9502d81a5ef"
   },
   "outputs": [
    {
     "data": {
      "text/plain": [
       "track_id                    0\n",
       "track_name                  0\n",
       "track_album_name            0\n",
       "track_artist                0\n",
       "artist_gender               0\n",
       "track_album_release_year    0\n",
       "duration_min                0\n",
       "track_popularity            0\n",
       "genres                      0\n",
       "record_label                0\n",
       "danceability                0\n",
       "energy                      0\n",
       "key                         0\n",
       "loudness                    0\n",
       "mode                        0\n",
       "speechiness                 0\n",
       "acousticness                0\n",
       "instrumentalness            0\n",
       "liveness                    0\n",
       "valence                     0\n",
       "tempo                       0\n",
       "time_signature              0\n",
       "Playlist_year               0\n",
       "artist_id                   0\n",
       "artist_name                 0\n",
       "artist_followers            0\n",
       "artist_popularity           0\n",
       "dtype: int64"
      ]
     },
     "execution_count": 14,
     "metadata": {},
     "output_type": "execute_result"
    }
   ],
   "source": [
    "df.isnull().sum()"
   ]
  },
  {
   "cell_type": "code",
   "execution_count": 35,
   "metadata": {},
   "outputs": [],
   "source": [
    "df['track_album_release_year'] = df['track_album_release_year'].str.replace(r'\\D', '', regex=True).astype(\"Int64\")\n"
   ]
  },
  {
   "cell_type": "code",
   "execution_count": 36,
   "metadata": {},
   "outputs": [],
   "source": [
    "df['decade'] = (df['track_album_release_year'] // 10) * 10\n"
   ]
  },
  {
   "cell_type": "markdown",
   "metadata": {
    "id": "2JywzIRgqpfG"
   },
   "source": [
    "#Obama´s Taste Exploration"
   ]
  },
  {
   "cell_type": "markdown",
   "metadata": {
    "id": "XOorLCycKc7_"
   },
   "source": [
    "#Data visualization"
   ]
  },
  {
   "cell_type": "code",
   "execution_count": 15,
   "metadata": {
    "colab": {
     "base_uri": "https://localhost:8080/",
     "height": 542
    },
    "id": "kO2G_qg7XhLt",
    "outputId": "7077136c-f858-4e2d-93f4-4ce1f8b35f2d"
   },
   "outputs": [
    {
     "data": {
      "application/vnd.plotly.v1+json": {
       "config": {
        "plotlyServerURL": "https://plot.ly"
       },
       "data": [
        {
         "alignmentgroup": "True",
         "hovertemplate": "genres=%{x}<br>count=%{y}<extra></extra>",
         "legendgroup": "",
         "marker": {
          "color": "#636efa",
          "pattern": {
           "shape": ""
          }
         },
         "name": "",
         "offsetgroup": "",
         "orientation": "v",
         "showlegend": false,
         "textposition": "auto",
         "type": "bar",
         "x": [
          "Jazz",
          "Indie",
          "Indie",
          "Hip Hop",
          "Hip Hop",
          "Jazz",
          "Hip Hop",
          "Hip Hop",
          "Hip Hop",
          "House/Dance",
          "R&B",
          "R&B",
          "Jazz",
          "Jazz",
          "Rock",
          "Rock",
          "Rock",
          "Rock",
          "Rock",
          "Reggae",
          "Hip Hop",
          "Hip Hop",
          "Soul/Funk/Motown",
          "Soul/Funk/Motown",
          "Soul/Funk/Motown",
          "Soul/Funk/Motown",
          "R&B",
          "Hip Hop",
          "Hip Hop",
          "Hip Hop",
          "Hip Hop",
          "Afrobeats",
          "Soul/Funk/Motown",
          "Soul/Funk/Motown",
          "Soul/Funk/Motown",
          "R&B",
          "R&B",
          "Hip Hop",
          "Hip Hop",
          "Hip Hop",
          "Soul/Funk/Motown",
          "Pop",
          "Hip Hop",
          "House/Dance",
          "R&B",
          "R&B",
          "Jazz",
          "Jazz",
          "Soul/Funk/Motown",
          "Pop",
          "Pop",
          "R&B",
          "R&B",
          "Jazz",
          "Rock",
          "Latin",
          "Electronic",
          "Electronic",
          "R&B",
          "R&B",
          "R&B",
          "R&B",
          "R&B",
          "Jazz",
          "Rock",
          "Hip Hop",
          "Folk",
          "Folk",
          "Jazz",
          "Reggae",
          "Hip Hop",
          "Hip Hop",
          "Hip Hop",
          "Hip Hop",
          "Hip Hop",
          "Hip Hop",
          "Hip Hop",
          "Soul/Funk/Motown",
          "Soul/Funk/Motown",
          "R&B",
          "Rock",
          "Rock",
          "Hip Hop",
          "Afrobeats",
          "Soul/Funk/Motown",
          "Soul/Funk/Motown",
          "R&B",
          "Hip Hop",
          "Hip Hop",
          "Soul/Funk/Motown",
          "R&B",
          "R&B",
          "Afrobeats",
          "Reggaeton",
          "Pop",
          "R&B",
          "Jazz",
          "Jazz",
          "Pop",
          "Hip Hop",
          "Soul/Funk/Motown",
          "Folk",
          "Folk",
          "pakistani indie",
          "Pop",
          "Rap",
          "Jazz",
          "Jazz",
          "Rock",
          "Rock",
          "Rock",
          "Rock",
          "World",
          "Hip Hop",
          "Hip Hop",
          "Soul/Funk/Motown",
          "Rap",
          "Rap",
          "World",
          "Reggae",
          "Hip Hop",
          "Soul/Funk/Motown",
          "Soul/Funk/Motown",
          "R&B",
          "R&B",
          "R&B",
          "Reggae",
          "Hip Hop",
          "Hip Hop",
          "Soul/Funk/Motown",
          "Soul/Funk/Motown",
          "Jazz",
          "Pop",
          "R&B",
          "R&B",
          "Rock",
          "Rock",
          "R&B",
          "R&B",
          "Folk",
          "Jazz",
          "R&B",
          "Jazz",
          "Rock",
          "Hip Hop",
          "Soul/Funk/Motown",
          "Soul/Funk/Motown",
          "Soul/Funk/Motown",
          "Soul/Funk/Motown",
          "Soul/Funk/Motown",
          "Soul/Funk/Motown",
          "Jazz",
          "Jazz",
          "Rock",
          "Rock",
          "Hip Hop",
          "Hip Hop",
          "Afrobeats",
          "Afrobeats",
          "Soul/Funk/Motown",
          "Hip Hop",
          "Hip Hop",
          "Hip Hop",
          "Hip Hop",
          "Hip Hop",
          "Hip Hop",
          "Reggaeton",
          "Rock",
          "House/Dance",
          "Pop",
          "Folk",
          "Electronic",
          "Soul/Funk/Motown",
          "Soul/Funk/Motown",
          "Hip Hop",
          "Afrobeats",
          "Pop",
          "R&B",
          "R&B",
          "Jazz",
          "Rock",
          "Rock",
          "Latin",
          "Hip Hop",
          "R&B",
          "R&B",
          "R&B",
          "Jazz",
          "Afrobeats",
          "Soul/Funk/Motown",
          "Jazz",
          "Rock",
          "Rock",
          "Rock",
          "Rock",
          "Rock",
          "Rock",
          "Reggae",
          "Hip Hop",
          "Hip Hop",
          "Hip Hop",
          "Soul/Funk/Motown",
          "Soul/Funk/Motown",
          "Rock",
          "Hip Hop",
          "Hip Hop",
          "Reggaeton",
          "Reggaeton",
          "Electronic",
          "Soul/Funk/Motown",
          "Soul/Funk/Motown",
          "Soul/Funk/Motown",
          "Rock",
          "Soul/Funk/Motown",
          "R&B",
          "Rock",
          "Pop",
          "Pop",
          "Pop",
          "Pop",
          "R&B",
          "R&B",
          "R&B",
          "Fado",
          "Folk",
          "Folk",
          "Folk",
          "Jazz",
          "Jazz",
          "Rock",
          "Rock",
          "Hip Hop",
          "Hip Hop",
          "Hip Hop",
          "Afrobeats",
          "Reggaeton",
          "Electronic",
          "Soul/Funk/Motown",
          "Soul/Funk/Motown",
          "Pop",
          "Pop",
          "R&B",
          "R&B",
          "R&B",
          "R&B",
          "Jazz",
          "Jazz",
          "Jazz",
          "Reggae",
          "Hip Hop",
          "Hip Hop",
          "Hip Hop",
          "Hip Hop",
          "Hip Hop",
          "Hip Hop",
          "Hip Hop",
          "Afrobeats",
          "Reggaeton",
          "Electronic"
         ],
         "xaxis": "x",
         "y": [
          1,
          1,
          1,
          1,
          1,
          1,
          1,
          1,
          1,
          1,
          1,
          1,
          1,
          1,
          1,
          1,
          1,
          1,
          1,
          1,
          1,
          1,
          1,
          1,
          1,
          1,
          1,
          1,
          1,
          1,
          1,
          1,
          1,
          1,
          1,
          1,
          1,
          1,
          1,
          1,
          1,
          1,
          1,
          1,
          1,
          1,
          1,
          1,
          1,
          1,
          1,
          1,
          1,
          1,
          1,
          1,
          1,
          1,
          1,
          1,
          1,
          1,
          1,
          1,
          1,
          1,
          1,
          1,
          1,
          1,
          1,
          1,
          1,
          1,
          1,
          1,
          1,
          1,
          1,
          1,
          1,
          1,
          1,
          1,
          1,
          1,
          1,
          1,
          1,
          1,
          1,
          1,
          1,
          1,
          1,
          1,
          1,
          1,
          1,
          1,
          1,
          1,
          1,
          1,
          1,
          1,
          1,
          1,
          1,
          1,
          1,
          1,
          1,
          1,
          1,
          1,
          1,
          1,
          1,
          1,
          1,
          1,
          1,
          1,
          1,
          1,
          1,
          1,
          1,
          1,
          1,
          1,
          1,
          1,
          1,
          1,
          1,
          1,
          1,
          1,
          1,
          1,
          1,
          1,
          1,
          1,
          1,
          1,
          1,
          1,
          1,
          1,
          1,
          1,
          1,
          1,
          1,
          1,
          1,
          1,
          1,
          1,
          1,
          1,
          1,
          1,
          1,
          1,
          1,
          1,
          1,
          1,
          1,
          1,
          1,
          1,
          1,
          1,
          1,
          1,
          1,
          1,
          1,
          1,
          1,
          1,
          1,
          1,
          1,
          1,
          1,
          1,
          1,
          1,
          1,
          1,
          1,
          1,
          1,
          1,
          1,
          1,
          1,
          1,
          1,
          1,
          1,
          1,
          1,
          1,
          1,
          1,
          1,
          1,
          1,
          1,
          1,
          1,
          1,
          1,
          1,
          1,
          1,
          1,
          1,
          1,
          1,
          1,
          1,
          1,
          1,
          1,
          1,
          1,
          1,
          1,
          1,
          1,
          1,
          1,
          1,
          1,
          1,
          1,
          1,
          1,
          1,
          1,
          1,
          1,
          1,
          1,
          1,
          1,
          1,
          1,
          1,
          1,
          1
         ],
         "yaxis": "y"
        }
       ],
       "layout": {
        "barmode": "relative",
        "legend": {
         "tracegroupgap": 0
        },
        "template": {
         "data": {
          "bar": [
           {
            "error_x": {
             "color": "#2a3f5f"
            },
            "error_y": {
             "color": "#2a3f5f"
            },
            "marker": {
             "line": {
              "color": "#E5ECF6",
              "width": 0.5
             },
             "pattern": {
              "fillmode": "overlay",
              "size": 10,
              "solidity": 0.2
             }
            },
            "type": "bar"
           }
          ],
          "barpolar": [
           {
            "marker": {
             "line": {
              "color": "#E5ECF6",
              "width": 0.5
             },
             "pattern": {
              "fillmode": "overlay",
              "size": 10,
              "solidity": 0.2
             }
            },
            "type": "barpolar"
           }
          ],
          "carpet": [
           {
            "aaxis": {
             "endlinecolor": "#2a3f5f",
             "gridcolor": "white",
             "linecolor": "white",
             "minorgridcolor": "white",
             "startlinecolor": "#2a3f5f"
            },
            "baxis": {
             "endlinecolor": "#2a3f5f",
             "gridcolor": "white",
             "linecolor": "white",
             "minorgridcolor": "white",
             "startlinecolor": "#2a3f5f"
            },
            "type": "carpet"
           }
          ],
          "choropleth": [
           {
            "colorbar": {
             "outlinewidth": 0,
             "ticks": ""
            },
            "type": "choropleth"
           }
          ],
          "contour": [
           {
            "colorbar": {
             "outlinewidth": 0,
             "ticks": ""
            },
            "colorscale": [
             [
              0,
              "#0d0887"
             ],
             [
              0.1111111111111111,
              "#46039f"
             ],
             [
              0.2222222222222222,
              "#7201a8"
             ],
             [
              0.3333333333333333,
              "#9c179e"
             ],
             [
              0.4444444444444444,
              "#bd3786"
             ],
             [
              0.5555555555555556,
              "#d8576b"
             ],
             [
              0.6666666666666666,
              "#ed7953"
             ],
             [
              0.7777777777777778,
              "#fb9f3a"
             ],
             [
              0.8888888888888888,
              "#fdca26"
             ],
             [
              1,
              "#f0f921"
             ]
            ],
            "type": "contour"
           }
          ],
          "contourcarpet": [
           {
            "colorbar": {
             "outlinewidth": 0,
             "ticks": ""
            },
            "type": "contourcarpet"
           }
          ],
          "heatmap": [
           {
            "colorbar": {
             "outlinewidth": 0,
             "ticks": ""
            },
            "colorscale": [
             [
              0,
              "#0d0887"
             ],
             [
              0.1111111111111111,
              "#46039f"
             ],
             [
              0.2222222222222222,
              "#7201a8"
             ],
             [
              0.3333333333333333,
              "#9c179e"
             ],
             [
              0.4444444444444444,
              "#bd3786"
             ],
             [
              0.5555555555555556,
              "#d8576b"
             ],
             [
              0.6666666666666666,
              "#ed7953"
             ],
             [
              0.7777777777777778,
              "#fb9f3a"
             ],
             [
              0.8888888888888888,
              "#fdca26"
             ],
             [
              1,
              "#f0f921"
             ]
            ],
            "type": "heatmap"
           }
          ],
          "heatmapgl": [
           {
            "colorbar": {
             "outlinewidth": 0,
             "ticks": ""
            },
            "colorscale": [
             [
              0,
              "#0d0887"
             ],
             [
              0.1111111111111111,
              "#46039f"
             ],
             [
              0.2222222222222222,
              "#7201a8"
             ],
             [
              0.3333333333333333,
              "#9c179e"
             ],
             [
              0.4444444444444444,
              "#bd3786"
             ],
             [
              0.5555555555555556,
              "#d8576b"
             ],
             [
              0.6666666666666666,
              "#ed7953"
             ],
             [
              0.7777777777777778,
              "#fb9f3a"
             ],
             [
              0.8888888888888888,
              "#fdca26"
             ],
             [
              1,
              "#f0f921"
             ]
            ],
            "type": "heatmapgl"
           }
          ],
          "histogram": [
           {
            "marker": {
             "pattern": {
              "fillmode": "overlay",
              "size": 10,
              "solidity": 0.2
             }
            },
            "type": "histogram"
           }
          ],
          "histogram2d": [
           {
            "colorbar": {
             "outlinewidth": 0,
             "ticks": ""
            },
            "colorscale": [
             [
              0,
              "#0d0887"
             ],
             [
              0.1111111111111111,
              "#46039f"
             ],
             [
              0.2222222222222222,
              "#7201a8"
             ],
             [
              0.3333333333333333,
              "#9c179e"
             ],
             [
              0.4444444444444444,
              "#bd3786"
             ],
             [
              0.5555555555555556,
              "#d8576b"
             ],
             [
              0.6666666666666666,
              "#ed7953"
             ],
             [
              0.7777777777777778,
              "#fb9f3a"
             ],
             [
              0.8888888888888888,
              "#fdca26"
             ],
             [
              1,
              "#f0f921"
             ]
            ],
            "type": "histogram2d"
           }
          ],
          "histogram2dcontour": [
           {
            "colorbar": {
             "outlinewidth": 0,
             "ticks": ""
            },
            "colorscale": [
             [
              0,
              "#0d0887"
             ],
             [
              0.1111111111111111,
              "#46039f"
             ],
             [
              0.2222222222222222,
              "#7201a8"
             ],
             [
              0.3333333333333333,
              "#9c179e"
             ],
             [
              0.4444444444444444,
              "#bd3786"
             ],
             [
              0.5555555555555556,
              "#d8576b"
             ],
             [
              0.6666666666666666,
              "#ed7953"
             ],
             [
              0.7777777777777778,
              "#fb9f3a"
             ],
             [
              0.8888888888888888,
              "#fdca26"
             ],
             [
              1,
              "#f0f921"
             ]
            ],
            "type": "histogram2dcontour"
           }
          ],
          "mesh3d": [
           {
            "colorbar": {
             "outlinewidth": 0,
             "ticks": ""
            },
            "type": "mesh3d"
           }
          ],
          "parcoords": [
           {
            "line": {
             "colorbar": {
              "outlinewidth": 0,
              "ticks": ""
             }
            },
            "type": "parcoords"
           }
          ],
          "pie": [
           {
            "automargin": true,
            "type": "pie"
           }
          ],
          "scatter": [
           {
            "fillpattern": {
             "fillmode": "overlay",
             "size": 10,
             "solidity": 0.2
            },
            "type": "scatter"
           }
          ],
          "scatter3d": [
           {
            "line": {
             "colorbar": {
              "outlinewidth": 0,
              "ticks": ""
             }
            },
            "marker": {
             "colorbar": {
              "outlinewidth": 0,
              "ticks": ""
             }
            },
            "type": "scatter3d"
           }
          ],
          "scattercarpet": [
           {
            "marker": {
             "colorbar": {
              "outlinewidth": 0,
              "ticks": ""
             }
            },
            "type": "scattercarpet"
           }
          ],
          "scattergeo": [
           {
            "marker": {
             "colorbar": {
              "outlinewidth": 0,
              "ticks": ""
             }
            },
            "type": "scattergeo"
           }
          ],
          "scattergl": [
           {
            "marker": {
             "colorbar": {
              "outlinewidth": 0,
              "ticks": ""
             }
            },
            "type": "scattergl"
           }
          ],
          "scattermapbox": [
           {
            "marker": {
             "colorbar": {
              "outlinewidth": 0,
              "ticks": ""
             }
            },
            "type": "scattermapbox"
           }
          ],
          "scatterpolar": [
           {
            "marker": {
             "colorbar": {
              "outlinewidth": 0,
              "ticks": ""
             }
            },
            "type": "scatterpolar"
           }
          ],
          "scatterpolargl": [
           {
            "marker": {
             "colorbar": {
              "outlinewidth": 0,
              "ticks": ""
             }
            },
            "type": "scatterpolargl"
           }
          ],
          "scatterternary": [
           {
            "marker": {
             "colorbar": {
              "outlinewidth": 0,
              "ticks": ""
             }
            },
            "type": "scatterternary"
           }
          ],
          "surface": [
           {
            "colorbar": {
             "outlinewidth": 0,
             "ticks": ""
            },
            "colorscale": [
             [
              0,
              "#0d0887"
             ],
             [
              0.1111111111111111,
              "#46039f"
             ],
             [
              0.2222222222222222,
              "#7201a8"
             ],
             [
              0.3333333333333333,
              "#9c179e"
             ],
             [
              0.4444444444444444,
              "#bd3786"
             ],
             [
              0.5555555555555556,
              "#d8576b"
             ],
             [
              0.6666666666666666,
              "#ed7953"
             ],
             [
              0.7777777777777778,
              "#fb9f3a"
             ],
             [
              0.8888888888888888,
              "#fdca26"
             ],
             [
              1,
              "#f0f921"
             ]
            ],
            "type": "surface"
           }
          ],
          "table": [
           {
            "cells": {
             "fill": {
              "color": "#EBF0F8"
             },
             "line": {
              "color": "white"
             }
            },
            "header": {
             "fill": {
              "color": "#C8D4E3"
             },
             "line": {
              "color": "white"
             }
            },
            "type": "table"
           }
          ]
         },
         "layout": {
          "annotationdefaults": {
           "arrowcolor": "#2a3f5f",
           "arrowhead": 0,
           "arrowwidth": 1
          },
          "autotypenumbers": "strict",
          "coloraxis": {
           "colorbar": {
            "outlinewidth": 0,
            "ticks": ""
           }
          },
          "colorscale": {
           "diverging": [
            [
             0,
             "#8e0152"
            ],
            [
             0.1,
             "#c51b7d"
            ],
            [
             0.2,
             "#de77ae"
            ],
            [
             0.3,
             "#f1b6da"
            ],
            [
             0.4,
             "#fde0ef"
            ],
            [
             0.5,
             "#f7f7f7"
            ],
            [
             0.6,
             "#e6f5d0"
            ],
            [
             0.7,
             "#b8e186"
            ],
            [
             0.8,
             "#7fbc41"
            ],
            [
             0.9,
             "#4d9221"
            ],
            [
             1,
             "#276419"
            ]
           ],
           "sequential": [
            [
             0,
             "#0d0887"
            ],
            [
             0.1111111111111111,
             "#46039f"
            ],
            [
             0.2222222222222222,
             "#7201a8"
            ],
            [
             0.3333333333333333,
             "#9c179e"
            ],
            [
             0.4444444444444444,
             "#bd3786"
            ],
            [
             0.5555555555555556,
             "#d8576b"
            ],
            [
             0.6666666666666666,
             "#ed7953"
            ],
            [
             0.7777777777777778,
             "#fb9f3a"
            ],
            [
             0.8888888888888888,
             "#fdca26"
            ],
            [
             1,
             "#f0f921"
            ]
           ],
           "sequentialminus": [
            [
             0,
             "#0d0887"
            ],
            [
             0.1111111111111111,
             "#46039f"
            ],
            [
             0.2222222222222222,
             "#7201a8"
            ],
            [
             0.3333333333333333,
             "#9c179e"
            ],
            [
             0.4444444444444444,
             "#bd3786"
            ],
            [
             0.5555555555555556,
             "#d8576b"
            ],
            [
             0.6666666666666666,
             "#ed7953"
            ],
            [
             0.7777777777777778,
             "#fb9f3a"
            ],
            [
             0.8888888888888888,
             "#fdca26"
            ],
            [
             1,
             "#f0f921"
            ]
           ]
          },
          "colorway": [
           "#636efa",
           "#EF553B",
           "#00cc96",
           "#ab63fa",
           "#FFA15A",
           "#19d3f3",
           "#FF6692",
           "#B6E880",
           "#FF97FF",
           "#FECB52"
          ],
          "font": {
           "color": "#2a3f5f"
          },
          "geo": {
           "bgcolor": "white",
           "lakecolor": "white",
           "landcolor": "#E5ECF6",
           "showlakes": true,
           "showland": true,
           "subunitcolor": "white"
          },
          "hoverlabel": {
           "align": "left"
          },
          "hovermode": "closest",
          "mapbox": {
           "style": "light"
          },
          "paper_bgcolor": "white",
          "plot_bgcolor": "#E5ECF6",
          "polar": {
           "angularaxis": {
            "gridcolor": "white",
            "linecolor": "white",
            "ticks": ""
           },
           "bgcolor": "#E5ECF6",
           "radialaxis": {
            "gridcolor": "white",
            "linecolor": "white",
            "ticks": ""
           }
          },
          "scene": {
           "xaxis": {
            "backgroundcolor": "#E5ECF6",
            "gridcolor": "white",
            "gridwidth": 2,
            "linecolor": "white",
            "showbackground": true,
            "ticks": "",
            "zerolinecolor": "white"
           },
           "yaxis": {
            "backgroundcolor": "#E5ECF6",
            "gridcolor": "white",
            "gridwidth": 2,
            "linecolor": "white",
            "showbackground": true,
            "ticks": "",
            "zerolinecolor": "white"
           },
           "zaxis": {
            "backgroundcolor": "#E5ECF6",
            "gridcolor": "white",
            "gridwidth": 2,
            "linecolor": "white",
            "showbackground": true,
            "ticks": "",
            "zerolinecolor": "white"
           }
          },
          "shapedefaults": {
           "line": {
            "color": "#2a3f5f"
           }
          },
          "ternary": {
           "aaxis": {
            "gridcolor": "white",
            "linecolor": "white",
            "ticks": ""
           },
           "baxis": {
            "gridcolor": "white",
            "linecolor": "white",
            "ticks": ""
           },
           "bgcolor": "#E5ECF6",
           "caxis": {
            "gridcolor": "white",
            "linecolor": "white",
            "ticks": ""
           }
          },
          "title": {
           "x": 0.05
          },
          "xaxis": {
           "automargin": true,
           "gridcolor": "white",
           "linecolor": "white",
           "ticks": "",
           "title": {
            "standoff": 15
           },
           "zerolinecolor": "white",
           "zerolinewidth": 2
          },
          "yaxis": {
           "automargin": true,
           "gridcolor": "white",
           "linecolor": "white",
           "ticks": "",
           "title": {
            "standoff": 15
           },
           "zerolinecolor": "white",
           "zerolinewidth": 2
          }
         }
        },
        "title": {
         "text": "genres Count"
        },
        "xaxis": {
         "anchor": "y",
         "categoryarray": [
          "Hip Hop",
          "R&B",
          "Soul/Funk/Motown",
          "Rock",
          "Jazz",
          "Pop",
          "Folk",
          "Afrobeats",
          "Reggaeton",
          "Reggae",
          "Electronic",
          "House/Dance",
          "Rap",
          "Indie",
          "Latin",
          "World",
          "pakistani indie",
          "Fado"
         ],
         "categoryorder": "array",
         "domain": [
          0,
          1
         ],
         "title": {
          "text": "genres"
         }
        },
        "yaxis": {
         "anchor": "x",
         "domain": [
          0,
          1
         ],
         "title": {
          "text": "count"
         }
        }
       }
      }
     },
     "metadata": {},
     "output_type": "display_data"
    }
   ],
   "source": [
    "sorted_counts = df[\"genres\"].value_counts().sort_values(ascending=False)\n",
    "sorted_genres = sorted_counts.index.tolist()\n",
    "\n",
    "fig = px.bar(df, x=\"genres\", title=\"genres Count\",\n",
    "             category_orders={\"genres\": sorted_genres})\n",
    "fig.show()"
   ]
  },
  {
   "cell_type": "markdown",
   "metadata": {
    "id": "8PPJ8z41jhwR"
   },
   "source": [
    "##Artists"
   ]
  },
  {
   "cell_type": "code",
   "execution_count": 16,
   "metadata": {
    "colab": {
     "base_uri": "https://localhost:8080/",
     "height": 737
    },
    "id": "f7OL31s46o8k",
    "outputId": "c42acc5a-8dbe-4454-e8b6-6e833deabcbf"
   },
   "outputs": [
    {
     "data": {
      "text/html": [
       "<div>\n",
       "<style scoped>\n",
       "    .dataframe tbody tr th:only-of-type {\n",
       "        vertical-align: middle;\n",
       "    }\n",
       "\n",
       "    .dataframe tbody tr th {\n",
       "        vertical-align: top;\n",
       "    }\n",
       "\n",
       "    .dataframe thead th {\n",
       "        text-align: right;\n",
       "    }\n",
       "</style>\n",
       "<table border=\"1\" class=\"dataframe\">\n",
       "  <thead>\n",
       "    <tr style=\"text-align: right;\">\n",
       "      <th></th>\n",
       "      <th>track_id</th>\n",
       "      <th>track_name</th>\n",
       "      <th>track_album_name</th>\n",
       "      <th>artist_gender</th>\n",
       "      <th>track_album_release_year</th>\n",
       "      <th>duration_min</th>\n",
       "      <th>track_popularity</th>\n",
       "      <th>genres</th>\n",
       "      <th>record_label</th>\n",
       "      <th>danceability</th>\n",
       "      <th>...</th>\n",
       "      <th>instrumentalness</th>\n",
       "      <th>liveness</th>\n",
       "      <th>valence</th>\n",
       "      <th>tempo</th>\n",
       "      <th>time_signature</th>\n",
       "      <th>Playlist_year</th>\n",
       "      <th>artist_id</th>\n",
       "      <th>artist_name</th>\n",
       "      <th>artist_followers</th>\n",
       "      <th>artist_popularity</th>\n",
       "    </tr>\n",
       "    <tr>\n",
       "      <th>track_artist</th>\n",
       "      <th></th>\n",
       "      <th></th>\n",
       "      <th></th>\n",
       "      <th></th>\n",
       "      <th></th>\n",
       "      <th></th>\n",
       "      <th></th>\n",
       "      <th></th>\n",
       "      <th></th>\n",
       "      <th></th>\n",
       "      <th></th>\n",
       "      <th></th>\n",
       "      <th></th>\n",
       "      <th></th>\n",
       "      <th></th>\n",
       "      <th></th>\n",
       "      <th></th>\n",
       "      <th></th>\n",
       "      <th></th>\n",
       "      <th></th>\n",
       "      <th></th>\n",
       "    </tr>\n",
       "  </thead>\n",
       "  <tbody>\n",
       "    <tr>\n",
       "      <th>Bob Dylan</th>\n",
       "      <td>4</td>\n",
       "      <td>4</td>\n",
       "      <td>4</td>\n",
       "      <td>4</td>\n",
       "      <td>4</td>\n",
       "      <td>4</td>\n",
       "      <td>4</td>\n",
       "      <td>4</td>\n",
       "      <td>4</td>\n",
       "      <td>4</td>\n",
       "      <td>...</td>\n",
       "      <td>4</td>\n",
       "      <td>4</td>\n",
       "      <td>4</td>\n",
       "      <td>4</td>\n",
       "      <td>4</td>\n",
       "      <td>4</td>\n",
       "      <td>4</td>\n",
       "      <td>4</td>\n",
       "      <td>4</td>\n",
       "      <td>4</td>\n",
       "    </tr>\n",
       "    <tr>\n",
       "      <th>Stevie Wonder</th>\n",
       "      <td>4</td>\n",
       "      <td>4</td>\n",
       "      <td>4</td>\n",
       "      <td>4</td>\n",
       "      <td>4</td>\n",
       "      <td>4</td>\n",
       "      <td>4</td>\n",
       "      <td>4</td>\n",
       "      <td>4</td>\n",
       "      <td>4</td>\n",
       "      <td>...</td>\n",
       "      <td>4</td>\n",
       "      <td>4</td>\n",
       "      <td>4</td>\n",
       "      <td>4</td>\n",
       "      <td>4</td>\n",
       "      <td>4</td>\n",
       "      <td>4</td>\n",
       "      <td>4</td>\n",
       "      <td>4</td>\n",
       "      <td>4</td>\n",
       "    </tr>\n",
       "    <tr>\n",
       "      <th>The Rolling Stones</th>\n",
       "      <td>4</td>\n",
       "      <td>4</td>\n",
       "      <td>4</td>\n",
       "      <td>4</td>\n",
       "      <td>4</td>\n",
       "      <td>4</td>\n",
       "      <td>4</td>\n",
       "      <td>4</td>\n",
       "      <td>4</td>\n",
       "      <td>4</td>\n",
       "      <td>...</td>\n",
       "      <td>4</td>\n",
       "      <td>4</td>\n",
       "      <td>4</td>\n",
       "      <td>4</td>\n",
       "      <td>4</td>\n",
       "      <td>4</td>\n",
       "      <td>4</td>\n",
       "      <td>4</td>\n",
       "      <td>4</td>\n",
       "      <td>4</td>\n",
       "    </tr>\n",
       "    <tr>\n",
       "      <th>Beyoncé</th>\n",
       "      <td>3</td>\n",
       "      <td>3</td>\n",
       "      <td>3</td>\n",
       "      <td>3</td>\n",
       "      <td>3</td>\n",
       "      <td>3</td>\n",
       "      <td>3</td>\n",
       "      <td>3</td>\n",
       "      <td>3</td>\n",
       "      <td>3</td>\n",
       "      <td>...</td>\n",
       "      <td>3</td>\n",
       "      <td>3</td>\n",
       "      <td>3</td>\n",
       "      <td>3</td>\n",
       "      <td>3</td>\n",
       "      <td>3</td>\n",
       "      <td>3</td>\n",
       "      <td>3</td>\n",
       "      <td>3</td>\n",
       "      <td>3</td>\n",
       "    </tr>\n",
       "    <tr>\n",
       "      <th>Bob Marley &amp; The Wailers</th>\n",
       "      <td>3</td>\n",
       "      <td>3</td>\n",
       "      <td>3</td>\n",
       "      <td>3</td>\n",
       "      <td>3</td>\n",
       "      <td>3</td>\n",
       "      <td>3</td>\n",
       "      <td>3</td>\n",
       "      <td>3</td>\n",
       "      <td>3</td>\n",
       "      <td>...</td>\n",
       "      <td>3</td>\n",
       "      <td>3</td>\n",
       "      <td>3</td>\n",
       "      <td>3</td>\n",
       "      <td>3</td>\n",
       "      <td>3</td>\n",
       "      <td>3</td>\n",
       "      <td>3</td>\n",
       "      <td>3</td>\n",
       "      <td>3</td>\n",
       "    </tr>\n",
       "    <tr>\n",
       "      <th>Otis Redding</th>\n",
       "      <td>3</td>\n",
       "      <td>3</td>\n",
       "      <td>3</td>\n",
       "      <td>3</td>\n",
       "      <td>3</td>\n",
       "      <td>3</td>\n",
       "      <td>3</td>\n",
       "      <td>3</td>\n",
       "      <td>3</td>\n",
       "      <td>3</td>\n",
       "      <td>...</td>\n",
       "      <td>3</td>\n",
       "      <td>3</td>\n",
       "      <td>3</td>\n",
       "      <td>3</td>\n",
       "      <td>3</td>\n",
       "      <td>3</td>\n",
       "      <td>3</td>\n",
       "      <td>3</td>\n",
       "      <td>3</td>\n",
       "      <td>3</td>\n",
       "    </tr>\n",
       "    <tr>\n",
       "      <th>Maggie Rogers</th>\n",
       "      <td>3</td>\n",
       "      <td>3</td>\n",
       "      <td>3</td>\n",
       "      <td>3</td>\n",
       "      <td>3</td>\n",
       "      <td>3</td>\n",
       "      <td>3</td>\n",
       "      <td>3</td>\n",
       "      <td>3</td>\n",
       "      <td>3</td>\n",
       "      <td>...</td>\n",
       "      <td>3</td>\n",
       "      <td>3</td>\n",
       "      <td>3</td>\n",
       "      <td>3</td>\n",
       "      <td>3</td>\n",
       "      <td>3</td>\n",
       "      <td>3</td>\n",
       "      <td>3</td>\n",
       "      <td>3</td>\n",
       "      <td>3</td>\n",
       "    </tr>\n",
       "    <tr>\n",
       "      <th>SZA</th>\n",
       "      <td>3</td>\n",
       "      <td>3</td>\n",
       "      <td>3</td>\n",
       "      <td>3</td>\n",
       "      <td>3</td>\n",
       "      <td>3</td>\n",
       "      <td>3</td>\n",
       "      <td>3</td>\n",
       "      <td>3</td>\n",
       "      <td>3</td>\n",
       "      <td>...</td>\n",
       "      <td>3</td>\n",
       "      <td>3</td>\n",
       "      <td>3</td>\n",
       "      <td>3</td>\n",
       "      <td>3</td>\n",
       "      <td>3</td>\n",
       "      <td>3</td>\n",
       "      <td>3</td>\n",
       "      <td>3</td>\n",
       "      <td>3</td>\n",
       "    </tr>\n",
       "    <tr>\n",
       "      <th>H.E.R.</th>\n",
       "      <td>2</td>\n",
       "      <td>2</td>\n",
       "      <td>2</td>\n",
       "      <td>2</td>\n",
       "      <td>2</td>\n",
       "      <td>2</td>\n",
       "      <td>2</td>\n",
       "      <td>2</td>\n",
       "      <td>2</td>\n",
       "      <td>2</td>\n",
       "      <td>...</td>\n",
       "      <td>2</td>\n",
       "      <td>2</td>\n",
       "      <td>2</td>\n",
       "      <td>2</td>\n",
       "      <td>2</td>\n",
       "      <td>2</td>\n",
       "      <td>2</td>\n",
       "      <td>2</td>\n",
       "      <td>2</td>\n",
       "      <td>2</td>\n",
       "    </tr>\n",
       "    <tr>\n",
       "      <th>D'Angelo</th>\n",
       "      <td>2</td>\n",
       "      <td>2</td>\n",
       "      <td>2</td>\n",
       "      <td>2</td>\n",
       "      <td>2</td>\n",
       "      <td>2</td>\n",
       "      <td>2</td>\n",
       "      <td>2</td>\n",
       "      <td>2</td>\n",
       "      <td>2</td>\n",
       "      <td>...</td>\n",
       "      <td>2</td>\n",
       "      <td>2</td>\n",
       "      <td>2</td>\n",
       "      <td>2</td>\n",
       "      <td>2</td>\n",
       "      <td>2</td>\n",
       "      <td>2</td>\n",
       "      <td>2</td>\n",
       "      <td>2</td>\n",
       "      <td>2</td>\n",
       "    </tr>\n",
       "    <tr>\n",
       "      <th>Drake,Rihanna</th>\n",
       "      <td>2</td>\n",
       "      <td>2</td>\n",
       "      <td>2</td>\n",
       "      <td>2</td>\n",
       "      <td>2</td>\n",
       "      <td>2</td>\n",
       "      <td>2</td>\n",
       "      <td>2</td>\n",
       "      <td>2</td>\n",
       "      <td>2</td>\n",
       "      <td>...</td>\n",
       "      <td>2</td>\n",
       "      <td>2</td>\n",
       "      <td>2</td>\n",
       "      <td>2</td>\n",
       "      <td>2</td>\n",
       "      <td>2</td>\n",
       "      <td>2</td>\n",
       "      <td>2</td>\n",
       "      <td>2</td>\n",
       "      <td>2</td>\n",
       "    </tr>\n",
       "    <tr>\n",
       "      <th>Billie Eilish</th>\n",
       "      <td>2</td>\n",
       "      <td>2</td>\n",
       "      <td>2</td>\n",
       "      <td>2</td>\n",
       "      <td>2</td>\n",
       "      <td>2</td>\n",
       "      <td>2</td>\n",
       "      <td>2</td>\n",
       "      <td>2</td>\n",
       "      <td>2</td>\n",
       "      <td>...</td>\n",
       "      <td>2</td>\n",
       "      <td>2</td>\n",
       "      <td>2</td>\n",
       "      <td>2</td>\n",
       "      <td>2</td>\n",
       "      <td>2</td>\n",
       "      <td>2</td>\n",
       "      <td>2</td>\n",
       "      <td>2</td>\n",
       "      <td>2</td>\n",
       "    </tr>\n",
       "    <tr>\n",
       "      <th>Aretha Franklin</th>\n",
       "      <td>2</td>\n",
       "      <td>2</td>\n",
       "      <td>2</td>\n",
       "      <td>2</td>\n",
       "      <td>2</td>\n",
       "      <td>2</td>\n",
       "      <td>2</td>\n",
       "      <td>2</td>\n",
       "      <td>2</td>\n",
       "      <td>2</td>\n",
       "      <td>...</td>\n",
       "      <td>2</td>\n",
       "      <td>2</td>\n",
       "      <td>2</td>\n",
       "      <td>2</td>\n",
       "      <td>2</td>\n",
       "      <td>2</td>\n",
       "      <td>2</td>\n",
       "      <td>2</td>\n",
       "      <td>2</td>\n",
       "      <td>2</td>\n",
       "    </tr>\n",
       "    <tr>\n",
       "      <th>Toots &amp; The Maytals</th>\n",
       "      <td>2</td>\n",
       "      <td>2</td>\n",
       "      <td>2</td>\n",
       "      <td>2</td>\n",
       "      <td>2</td>\n",
       "      <td>2</td>\n",
       "      <td>2</td>\n",
       "      <td>2</td>\n",
       "      <td>2</td>\n",
       "      <td>2</td>\n",
       "      <td>...</td>\n",
       "      <td>2</td>\n",
       "      <td>2</td>\n",
       "      <td>2</td>\n",
       "      <td>2</td>\n",
       "      <td>2</td>\n",
       "      <td>2</td>\n",
       "      <td>2</td>\n",
       "      <td>2</td>\n",
       "      <td>2</td>\n",
       "      <td>2</td>\n",
       "    </tr>\n",
       "    <tr>\n",
       "      <th>Nas</th>\n",
       "      <td>2</td>\n",
       "      <td>2</td>\n",
       "      <td>2</td>\n",
       "      <td>2</td>\n",
       "      <td>2</td>\n",
       "      <td>2</td>\n",
       "      <td>2</td>\n",
       "      <td>2</td>\n",
       "      <td>2</td>\n",
       "      <td>2</td>\n",
       "      <td>...</td>\n",
       "      <td>2</td>\n",
       "      <td>2</td>\n",
       "      <td>2</td>\n",
       "      <td>2</td>\n",
       "      <td>2</td>\n",
       "      <td>2</td>\n",
       "      <td>2</td>\n",
       "      <td>2</td>\n",
       "      <td>2</td>\n",
       "      <td>2</td>\n",
       "    </tr>\n",
       "    <tr>\n",
       "      <th>Original Koffee</th>\n",
       "      <td>2</td>\n",
       "      <td>2</td>\n",
       "      <td>2</td>\n",
       "      <td>2</td>\n",
       "      <td>2</td>\n",
       "      <td>2</td>\n",
       "      <td>2</td>\n",
       "      <td>2</td>\n",
       "      <td>2</td>\n",
       "      <td>2</td>\n",
       "      <td>...</td>\n",
       "      <td>2</td>\n",
       "      <td>2</td>\n",
       "      <td>2</td>\n",
       "      <td>2</td>\n",
       "      <td>2</td>\n",
       "      <td>2</td>\n",
       "      <td>2</td>\n",
       "      <td>2</td>\n",
       "      <td>2</td>\n",
       "      <td>2</td>\n",
       "    </tr>\n",
       "    <tr>\n",
       "      <th>Rihanna</th>\n",
       "      <td>2</td>\n",
       "      <td>2</td>\n",
       "      <td>2</td>\n",
       "      <td>2</td>\n",
       "      <td>2</td>\n",
       "      <td>2</td>\n",
       "      <td>2</td>\n",
       "      <td>2</td>\n",
       "      <td>2</td>\n",
       "      <td>2</td>\n",
       "      <td>...</td>\n",
       "      <td>2</td>\n",
       "      <td>2</td>\n",
       "      <td>2</td>\n",
       "      <td>2</td>\n",
       "      <td>2</td>\n",
       "      <td>2</td>\n",
       "      <td>2</td>\n",
       "      <td>2</td>\n",
       "      <td>2</td>\n",
       "      <td>2</td>\n",
       "    </tr>\n",
       "    <tr>\n",
       "      <th>Tems</th>\n",
       "      <td>2</td>\n",
       "      <td>2</td>\n",
       "      <td>2</td>\n",
       "      <td>2</td>\n",
       "      <td>2</td>\n",
       "      <td>2</td>\n",
       "      <td>2</td>\n",
       "      <td>2</td>\n",
       "      <td>2</td>\n",
       "      <td>2</td>\n",
       "      <td>...</td>\n",
       "      <td>2</td>\n",
       "      <td>2</td>\n",
       "      <td>2</td>\n",
       "      <td>2</td>\n",
       "      <td>2</td>\n",
       "      <td>2</td>\n",
       "      <td>2</td>\n",
       "      <td>2</td>\n",
       "      <td>2</td>\n",
       "      <td>2</td>\n",
       "    </tr>\n",
       "    <tr>\n",
       "      <th>Rema</th>\n",
       "      <td>2</td>\n",
       "      <td>2</td>\n",
       "      <td>2</td>\n",
       "      <td>2</td>\n",
       "      <td>2</td>\n",
       "      <td>2</td>\n",
       "      <td>2</td>\n",
       "      <td>2</td>\n",
       "      <td>2</td>\n",
       "      <td>2</td>\n",
       "      <td>...</td>\n",
       "      <td>2</td>\n",
       "      <td>2</td>\n",
       "      <td>2</td>\n",
       "      <td>2</td>\n",
       "      <td>2</td>\n",
       "      <td>2</td>\n",
       "      <td>2</td>\n",
       "      <td>2</td>\n",
       "      <td>2</td>\n",
       "      <td>2</td>\n",
       "    </tr>\n",
       "    <tr>\n",
       "      <th>The Spinners</th>\n",
       "      <td>2</td>\n",
       "      <td>2</td>\n",
       "      <td>2</td>\n",
       "      <td>2</td>\n",
       "      <td>2</td>\n",
       "      <td>2</td>\n",
       "      <td>2</td>\n",
       "      <td>2</td>\n",
       "      <td>2</td>\n",
       "      <td>2</td>\n",
       "      <td>...</td>\n",
       "      <td>2</td>\n",
       "      <td>2</td>\n",
       "      <td>2</td>\n",
       "      <td>2</td>\n",
       "      <td>2</td>\n",
       "      <td>2</td>\n",
       "      <td>2</td>\n",
       "      <td>2</td>\n",
       "      <td>2</td>\n",
       "      <td>2</td>\n",
       "    </tr>\n",
       "  </tbody>\n",
       "</table>\n",
       "<p>20 rows × 26 columns</p>\n",
       "</div>"
      ],
      "text/plain": [
       "                          track_id  track_name  track_album_name  \\\n",
       "track_artist                                                       \n",
       "Bob Dylan                        4           4                 4   \n",
       "Stevie Wonder                    4           4                 4   \n",
       "The Rolling Stones               4           4                 4   \n",
       "Beyoncé                          3           3                 3   \n",
       "Bob Marley & The Wailers         3           3                 3   \n",
       "Otis Redding                     3           3                 3   \n",
       "Maggie Rogers                    3           3                 3   \n",
       "SZA                              3           3                 3   \n",
       "H.E.R.                           2           2                 2   \n",
       "D'Angelo                         2           2                 2   \n",
       "Drake,Rihanna                    2           2                 2   \n",
       "Billie Eilish                    2           2                 2   \n",
       "Aretha Franklin                  2           2                 2   \n",
       "Toots & The Maytals              2           2                 2   \n",
       "Nas                              2           2                 2   \n",
       "Original Koffee                  2           2                 2   \n",
       "Rihanna                          2           2                 2   \n",
       "Tems                             2           2                 2   \n",
       "Rema                             2           2                 2   \n",
       "The Spinners                     2           2                 2   \n",
       "\n",
       "                          artist_gender  track_album_release_year  \\\n",
       "track_artist                                                        \n",
       "Bob Dylan                             4                         4   \n",
       "Stevie Wonder                         4                         4   \n",
       "The Rolling Stones                    4                         4   \n",
       "Beyoncé                               3                         3   \n",
       "Bob Marley & The Wailers              3                         3   \n",
       "Otis Redding                          3                         3   \n",
       "Maggie Rogers                         3                         3   \n",
       "SZA                                   3                         3   \n",
       "H.E.R.                                2                         2   \n",
       "D'Angelo                              2                         2   \n",
       "Drake,Rihanna                         2                         2   \n",
       "Billie Eilish                         2                         2   \n",
       "Aretha Franklin                       2                         2   \n",
       "Toots & The Maytals                   2                         2   \n",
       "Nas                                   2                         2   \n",
       "Original Koffee                       2                         2   \n",
       "Rihanna                               2                         2   \n",
       "Tems                                  2                         2   \n",
       "Rema                                  2                         2   \n",
       "The Spinners                          2                         2   \n",
       "\n",
       "                          duration_min  track_popularity  genres  \\\n",
       "track_artist                                                       \n",
       "Bob Dylan                            4                 4       4   \n",
       "Stevie Wonder                        4                 4       4   \n",
       "The Rolling Stones                   4                 4       4   \n",
       "Beyoncé                              3                 3       3   \n",
       "Bob Marley & The Wailers             3                 3       3   \n",
       "Otis Redding                         3                 3       3   \n",
       "Maggie Rogers                        3                 3       3   \n",
       "SZA                                  3                 3       3   \n",
       "H.E.R.                               2                 2       2   \n",
       "D'Angelo                             2                 2       2   \n",
       "Drake,Rihanna                        2                 2       2   \n",
       "Billie Eilish                        2                 2       2   \n",
       "Aretha Franklin                      2                 2       2   \n",
       "Toots & The Maytals                  2                 2       2   \n",
       "Nas                                  2                 2       2   \n",
       "Original Koffee                      2                 2       2   \n",
       "Rihanna                              2                 2       2   \n",
       "Tems                                 2                 2       2   \n",
       "Rema                                 2                 2       2   \n",
       "The Spinners                         2                 2       2   \n",
       "\n",
       "                          record_label  danceability  ...  instrumentalness  \\\n",
       "track_artist                                          ...                     \n",
       "Bob Dylan                            4             4  ...                 4   \n",
       "Stevie Wonder                        4             4  ...                 4   \n",
       "The Rolling Stones                   4             4  ...                 4   \n",
       "Beyoncé                              3             3  ...                 3   \n",
       "Bob Marley & The Wailers             3             3  ...                 3   \n",
       "Otis Redding                         3             3  ...                 3   \n",
       "Maggie Rogers                        3             3  ...                 3   \n",
       "SZA                                  3             3  ...                 3   \n",
       "H.E.R.                               2             2  ...                 2   \n",
       "D'Angelo                             2             2  ...                 2   \n",
       "Drake,Rihanna                        2             2  ...                 2   \n",
       "Billie Eilish                        2             2  ...                 2   \n",
       "Aretha Franklin                      2             2  ...                 2   \n",
       "Toots & The Maytals                  2             2  ...                 2   \n",
       "Nas                                  2             2  ...                 2   \n",
       "Original Koffee                      2             2  ...                 2   \n",
       "Rihanna                              2             2  ...                 2   \n",
       "Tems                                 2             2  ...                 2   \n",
       "Rema                                 2             2  ...                 2   \n",
       "The Spinners                         2             2  ...                 2   \n",
       "\n",
       "                          liveness  valence  tempo  time_signature  \\\n",
       "track_artist                                                         \n",
       "Bob Dylan                        4        4      4               4   \n",
       "Stevie Wonder                    4        4      4               4   \n",
       "The Rolling Stones               4        4      4               4   \n",
       "Beyoncé                          3        3      3               3   \n",
       "Bob Marley & The Wailers         3        3      3               3   \n",
       "Otis Redding                     3        3      3               3   \n",
       "Maggie Rogers                    3        3      3               3   \n",
       "SZA                              3        3      3               3   \n",
       "H.E.R.                           2        2      2               2   \n",
       "D'Angelo                         2        2      2               2   \n",
       "Drake,Rihanna                    2        2      2               2   \n",
       "Billie Eilish                    2        2      2               2   \n",
       "Aretha Franklin                  2        2      2               2   \n",
       "Toots & The Maytals              2        2      2               2   \n",
       "Nas                              2        2      2               2   \n",
       "Original Koffee                  2        2      2               2   \n",
       "Rihanna                          2        2      2               2   \n",
       "Tems                             2        2      2               2   \n",
       "Rema                             2        2      2               2   \n",
       "The Spinners                     2        2      2               2   \n",
       "\n",
       "                          Playlist_year  artist_id  artist_name  \\\n",
       "track_artist                                                      \n",
       "Bob Dylan                             4          4            4   \n",
       "Stevie Wonder                         4          4            4   \n",
       "The Rolling Stones                    4          4            4   \n",
       "Beyoncé                               3          3            3   \n",
       "Bob Marley & The Wailers              3          3            3   \n",
       "Otis Redding                          3          3            3   \n",
       "Maggie Rogers                         3          3            3   \n",
       "SZA                                   3          3            3   \n",
       "H.E.R.                                2          2            2   \n",
       "D'Angelo                              2          2            2   \n",
       "Drake,Rihanna                         2          2            2   \n",
       "Billie Eilish                         2          2            2   \n",
       "Aretha Franklin                       2          2            2   \n",
       "Toots & The Maytals                   2          2            2   \n",
       "Nas                                   2          2            2   \n",
       "Original Koffee                       2          2            2   \n",
       "Rihanna                               2          2            2   \n",
       "Tems                                  2          2            2   \n",
       "Rema                                  2          2            2   \n",
       "The Spinners                          2          2            2   \n",
       "\n",
       "                          artist_followers  artist_popularity  \n",
       "track_artist                                                   \n",
       "Bob Dylan                                4                  4  \n",
       "Stevie Wonder                            4                  4  \n",
       "The Rolling Stones                       4                  4  \n",
       "Beyoncé                                  3                  3  \n",
       "Bob Marley & The Wailers                 3                  3  \n",
       "Otis Redding                             3                  3  \n",
       "Maggie Rogers                            3                  3  \n",
       "SZA                                      3                  3  \n",
       "H.E.R.                                   2                  2  \n",
       "D'Angelo                                 2                  2  \n",
       "Drake,Rihanna                            2                  2  \n",
       "Billie Eilish                            2                  2  \n",
       "Aretha Franklin                          2                  2  \n",
       "Toots & The Maytals                      2                  2  \n",
       "Nas                                      2                  2  \n",
       "Original Koffee                          2                  2  \n",
       "Rihanna                                  2                  2  \n",
       "Tems                                     2                  2  \n",
       "Rema                                     2                  2  \n",
       "The Spinners                             2                  2  \n",
       "\n",
       "[20 rows x 26 columns]"
      ]
     },
     "execution_count": 16,
     "metadata": {},
     "output_type": "execute_result"
    }
   ],
   "source": [
    "grouped_by_artist = df.groupby(\"track_artist\").count()\n",
    "grouped_by_artist.sort_values(\"track_name\", ascending=False).head(20)"
   ]
  },
  {
   "cell_type": "markdown",
   "metadata": {
    "id": "yL6o92p8jlbw"
   },
   "source": [
    "##Release Year"
   ]
  },
  {
   "cell_type": "code",
   "execution_count": 37,
   "metadata": {
    "colab": {
     "base_uri": "https://localhost:8080/",
     "height": 1835
    },
    "id": "iujiACpE38Fp",
    "outputId": "f3e3a647-a5e3-43f2-920b-aa298ed121d7"
   },
   "outputs": [
    {
     "data": {
      "text/html": [
       "<div>\n",
       "<style scoped>\n",
       "    .dataframe tbody tr th:only-of-type {\n",
       "        vertical-align: middle;\n",
       "    }\n",
       "\n",
       "    .dataframe tbody tr th {\n",
       "        vertical-align: top;\n",
       "    }\n",
       "\n",
       "    .dataframe thead th {\n",
       "        text-align: right;\n",
       "    }\n",
       "</style>\n",
       "<table border=\"1\" class=\"dataframe\">\n",
       "  <thead>\n",
       "    <tr style=\"text-align: right;\">\n",
       "      <th></th>\n",
       "      <th>track_id</th>\n",
       "      <th>track_name</th>\n",
       "      <th>track_album_name</th>\n",
       "      <th>track_artist</th>\n",
       "      <th>artist_gender</th>\n",
       "      <th>duration_min</th>\n",
       "      <th>track_popularity</th>\n",
       "      <th>genres</th>\n",
       "      <th>record_label</th>\n",
       "      <th>danceability</th>\n",
       "      <th>...</th>\n",
       "      <th>liveness</th>\n",
       "      <th>valence</th>\n",
       "      <th>tempo</th>\n",
       "      <th>time_signature</th>\n",
       "      <th>Playlist_year</th>\n",
       "      <th>artist_id</th>\n",
       "      <th>artist_name</th>\n",
       "      <th>artist_followers</th>\n",
       "      <th>artist_popularity</th>\n",
       "      <th>decade</th>\n",
       "    </tr>\n",
       "    <tr>\n",
       "      <th>track_album_release_year</th>\n",
       "      <th></th>\n",
       "      <th></th>\n",
       "      <th></th>\n",
       "      <th></th>\n",
       "      <th></th>\n",
       "      <th></th>\n",
       "      <th></th>\n",
       "      <th></th>\n",
       "      <th></th>\n",
       "      <th></th>\n",
       "      <th></th>\n",
       "      <th></th>\n",
       "      <th></th>\n",
       "      <th></th>\n",
       "      <th></th>\n",
       "      <th></th>\n",
       "      <th></th>\n",
       "      <th></th>\n",
       "      <th></th>\n",
       "      <th></th>\n",
       "      <th></th>\n",
       "    </tr>\n",
       "  </thead>\n",
       "  <tbody>\n",
       "    <tr>\n",
       "      <th>2020</th>\n",
       "      <td>32</td>\n",
       "      <td>32</td>\n",
       "      <td>32</td>\n",
       "      <td>32</td>\n",
       "      <td>32</td>\n",
       "      <td>32</td>\n",
       "      <td>32</td>\n",
       "      <td>32</td>\n",
       "      <td>32</td>\n",
       "      <td>32</td>\n",
       "      <td>...</td>\n",
       "      <td>32</td>\n",
       "      <td>32</td>\n",
       "      <td>32</td>\n",
       "      <td>32</td>\n",
       "      <td>32</td>\n",
       "      <td>32</td>\n",
       "      <td>32</td>\n",
       "      <td>32</td>\n",
       "      <td>32</td>\n",
       "      <td>32</td>\n",
       "    </tr>\n",
       "    <tr>\n",
       "      <th>2019</th>\n",
       "      <td>23</td>\n",
       "      <td>23</td>\n",
       "      <td>23</td>\n",
       "      <td>23</td>\n",
       "      <td>23</td>\n",
       "      <td>23</td>\n",
       "      <td>23</td>\n",
       "      <td>23</td>\n",
       "      <td>23</td>\n",
       "      <td>23</td>\n",
       "      <td>...</td>\n",
       "      <td>23</td>\n",
       "      <td>23</td>\n",
       "      <td>23</td>\n",
       "      <td>23</td>\n",
       "      <td>23</td>\n",
       "      <td>23</td>\n",
       "      <td>23</td>\n",
       "      <td>23</td>\n",
       "      <td>23</td>\n",
       "      <td>23</td>\n",
       "    </tr>\n",
       "    <tr>\n",
       "      <th>2023</th>\n",
       "      <td>21</td>\n",
       "      <td>21</td>\n",
       "      <td>21</td>\n",
       "      <td>21</td>\n",
       "      <td>21</td>\n",
       "      <td>21</td>\n",
       "      <td>21</td>\n",
       "      <td>21</td>\n",
       "      <td>21</td>\n",
       "      <td>21</td>\n",
       "      <td>...</td>\n",
       "      <td>21</td>\n",
       "      <td>21</td>\n",
       "      <td>21</td>\n",
       "      <td>21</td>\n",
       "      <td>21</td>\n",
       "      <td>21</td>\n",
       "      <td>21</td>\n",
       "      <td>21</td>\n",
       "      <td>21</td>\n",
       "      <td>21</td>\n",
       "    </tr>\n",
       "    <tr>\n",
       "      <th>2022</th>\n",
       "      <td>19</td>\n",
       "      <td>19</td>\n",
       "      <td>19</td>\n",
       "      <td>19</td>\n",
       "      <td>19</td>\n",
       "      <td>19</td>\n",
       "      <td>19</td>\n",
       "      <td>19</td>\n",
       "      <td>19</td>\n",
       "      <td>19</td>\n",
       "      <td>...</td>\n",
       "      <td>19</td>\n",
       "      <td>19</td>\n",
       "      <td>19</td>\n",
       "      <td>19</td>\n",
       "      <td>19</td>\n",
       "      <td>19</td>\n",
       "      <td>19</td>\n",
       "      <td>19</td>\n",
       "      <td>19</td>\n",
       "      <td>19</td>\n",
       "    </tr>\n",
       "    <tr>\n",
       "      <th>2024</th>\n",
       "      <td>18</td>\n",
       "      <td>18</td>\n",
       "      <td>18</td>\n",
       "      <td>18</td>\n",
       "      <td>18</td>\n",
       "      <td>18</td>\n",
       "      <td>18</td>\n",
       "      <td>18</td>\n",
       "      <td>18</td>\n",
       "      <td>18</td>\n",
       "      <td>...</td>\n",
       "      <td>18</td>\n",
       "      <td>18</td>\n",
       "      <td>18</td>\n",
       "      <td>18</td>\n",
       "      <td>18</td>\n",
       "      <td>18</td>\n",
       "      <td>18</td>\n",
       "      <td>18</td>\n",
       "      <td>18</td>\n",
       "      <td>18</td>\n",
       "    </tr>\n",
       "  </tbody>\n",
       "</table>\n",
       "<p>5 rows × 27 columns</p>\n",
       "</div>"
      ],
      "text/plain": [
       "                          track_id  track_name  track_album_name  \\\n",
       "track_album_release_year                                           \n",
       "2020                            32          32                32   \n",
       "2019                            23          23                23   \n",
       "2023                            21          21                21   \n",
       "2022                            19          19                19   \n",
       "2024                            18          18                18   \n",
       "\n",
       "                          track_artist  artist_gender  duration_min  \\\n",
       "track_album_release_year                                              \n",
       "2020                                32             32            32   \n",
       "2019                                23             23            23   \n",
       "2023                                21             21            21   \n",
       "2022                                19             19            19   \n",
       "2024                                18             18            18   \n",
       "\n",
       "                          track_popularity  genres  record_label  \\\n",
       "track_album_release_year                                           \n",
       "2020                                    32      32            32   \n",
       "2019                                    23      23            23   \n",
       "2023                                    21      21            21   \n",
       "2022                                    19      19            19   \n",
       "2024                                    18      18            18   \n",
       "\n",
       "                          danceability  ...  liveness  valence  tempo  \\\n",
       "track_album_release_year                ...                             \n",
       "2020                                32  ...        32       32     32   \n",
       "2019                                23  ...        23       23     23   \n",
       "2023                                21  ...        21       21     21   \n",
       "2022                                19  ...        19       19     19   \n",
       "2024                                18  ...        18       18     18   \n",
       "\n",
       "                          time_signature  Playlist_year  artist_id  \\\n",
       "track_album_release_year                                             \n",
       "2020                                  32             32         32   \n",
       "2019                                  23             23         23   \n",
       "2023                                  21             21         21   \n",
       "2022                                  19             19         19   \n",
       "2024                                  18             18         18   \n",
       "\n",
       "                          artist_name  artist_followers  artist_popularity  \\\n",
       "track_album_release_year                                                     \n",
       "2020                               32                32                 32   \n",
       "2019                               23                23                 23   \n",
       "2023                               21                21                 21   \n",
       "2022                               19                19                 19   \n",
       "2024                               18                18                 18   \n",
       "\n",
       "                          decade  \n",
       "track_album_release_year          \n",
       "2020                          32  \n",
       "2019                          23  \n",
       "2023                          21  \n",
       "2022                          19  \n",
       "2024                          18  \n",
       "\n",
       "[5 rows x 27 columns]"
      ]
     },
     "execution_count": 37,
     "metadata": {},
     "output_type": "execute_result"
    }
   ],
   "source": [
    "grouped_by_year = df.groupby(\"track_album_release_year\").count()\n",
    "grouped_by_year.sort_values(\"track_name\", ascending=False).head(5)"
   ]
  },
  {
   "cell_type": "markdown",
   "metadata": {
    "id": "ixiuxSTsjsaI"
   },
   "source": [
    "Which music era does Obama prefer?"
   ]
  },
  {
   "cell_type": "code",
   "execution_count": 39,
   "metadata": {},
   "outputs": [
    {
     "data": {
      "text/html": [
       "<div>\n",
       "<style scoped>\n",
       "    .dataframe tbody tr th:only-of-type {\n",
       "        vertical-align: middle;\n",
       "    }\n",
       "\n",
       "    .dataframe tbody tr th {\n",
       "        vertical-align: top;\n",
       "    }\n",
       "\n",
       "    .dataframe thead th {\n",
       "        text-align: right;\n",
       "    }\n",
       "</style>\n",
       "<table border=\"1\" class=\"dataframe\">\n",
       "  <thead>\n",
       "    <tr style=\"text-align: right;\">\n",
       "      <th></th>\n",
       "      <th>track_id</th>\n",
       "      <th>track_name</th>\n",
       "      <th>track_album_name</th>\n",
       "      <th>track_artist</th>\n",
       "      <th>artist_gender</th>\n",
       "      <th>track_album_release_year</th>\n",
       "      <th>duration_min</th>\n",
       "      <th>track_popularity</th>\n",
       "      <th>genres</th>\n",
       "      <th>record_label</th>\n",
       "      <th>...</th>\n",
       "      <th>instrumentalness</th>\n",
       "      <th>liveness</th>\n",
       "      <th>valence</th>\n",
       "      <th>tempo</th>\n",
       "      <th>time_signature</th>\n",
       "      <th>Playlist_year</th>\n",
       "      <th>artist_id</th>\n",
       "      <th>artist_name</th>\n",
       "      <th>artist_followers</th>\n",
       "      <th>artist_popularity</th>\n",
       "    </tr>\n",
       "    <tr>\n",
       "      <th>decade</th>\n",
       "      <th></th>\n",
       "      <th></th>\n",
       "      <th></th>\n",
       "      <th></th>\n",
       "      <th></th>\n",
       "      <th></th>\n",
       "      <th></th>\n",
       "      <th></th>\n",
       "      <th></th>\n",
       "      <th></th>\n",
       "      <th></th>\n",
       "      <th></th>\n",
       "      <th></th>\n",
       "      <th></th>\n",
       "      <th></th>\n",
       "      <th></th>\n",
       "      <th></th>\n",
       "      <th></th>\n",
       "      <th></th>\n",
       "      <th></th>\n",
       "      <th></th>\n",
       "    </tr>\n",
       "  </thead>\n",
       "  <tbody>\n",
       "    <tr>\n",
       "      <th>2020</th>\n",
       "      <td>104</td>\n",
       "      <td>104</td>\n",
       "      <td>104</td>\n",
       "      <td>104</td>\n",
       "      <td>104</td>\n",
       "      <td>104</td>\n",
       "      <td>104</td>\n",
       "      <td>104</td>\n",
       "      <td>104</td>\n",
       "      <td>104</td>\n",
       "      <td>...</td>\n",
       "      <td>104</td>\n",
       "      <td>104</td>\n",
       "      <td>104</td>\n",
       "      <td>104</td>\n",
       "      <td>104</td>\n",
       "      <td>104</td>\n",
       "      <td>104</td>\n",
       "      <td>104</td>\n",
       "      <td>104</td>\n",
       "      <td>104</td>\n",
       "    </tr>\n",
       "    <tr>\n",
       "      <th>2010</th>\n",
       "      <td>48</td>\n",
       "      <td>48</td>\n",
       "      <td>48</td>\n",
       "      <td>48</td>\n",
       "      <td>48</td>\n",
       "      <td>48</td>\n",
       "      <td>48</td>\n",
       "      <td>48</td>\n",
       "      <td>48</td>\n",
       "      <td>48</td>\n",
       "      <td>...</td>\n",
       "      <td>48</td>\n",
       "      <td>48</td>\n",
       "      <td>48</td>\n",
       "      <td>48</td>\n",
       "      <td>48</td>\n",
       "      <td>48</td>\n",
       "      <td>48</td>\n",
       "      <td>48</td>\n",
       "      <td>48</td>\n",
       "      <td>48</td>\n",
       "    </tr>\n",
       "    <tr>\n",
       "      <th>1970</th>\n",
       "      <td>23</td>\n",
       "      <td>23</td>\n",
       "      <td>23</td>\n",
       "      <td>23</td>\n",
       "      <td>23</td>\n",
       "      <td>23</td>\n",
       "      <td>23</td>\n",
       "      <td>23</td>\n",
       "      <td>23</td>\n",
       "      <td>23</td>\n",
       "      <td>...</td>\n",
       "      <td>23</td>\n",
       "      <td>23</td>\n",
       "      <td>23</td>\n",
       "      <td>23</td>\n",
       "      <td>23</td>\n",
       "      <td>23</td>\n",
       "      <td>23</td>\n",
       "      <td>23</td>\n",
       "      <td>23</td>\n",
       "      <td>23</td>\n",
       "    </tr>\n",
       "    <tr>\n",
       "      <th>1960</th>\n",
       "      <td>22</td>\n",
       "      <td>22</td>\n",
       "      <td>22</td>\n",
       "      <td>22</td>\n",
       "      <td>22</td>\n",
       "      <td>22</td>\n",
       "      <td>22</td>\n",
       "      <td>22</td>\n",
       "      <td>22</td>\n",
       "      <td>22</td>\n",
       "      <td>...</td>\n",
       "      <td>22</td>\n",
       "      <td>22</td>\n",
       "      <td>22</td>\n",
       "      <td>22</td>\n",
       "      <td>22</td>\n",
       "      <td>22</td>\n",
       "      <td>22</td>\n",
       "      <td>22</td>\n",
       "      <td>22</td>\n",
       "      <td>22</td>\n",
       "    </tr>\n",
       "    <tr>\n",
       "      <th>2000</th>\n",
       "      <td>21</td>\n",
       "      <td>21</td>\n",
       "      <td>21</td>\n",
       "      <td>21</td>\n",
       "      <td>21</td>\n",
       "      <td>21</td>\n",
       "      <td>21</td>\n",
       "      <td>21</td>\n",
       "      <td>21</td>\n",
       "      <td>21</td>\n",
       "      <td>...</td>\n",
       "      <td>21</td>\n",
       "      <td>21</td>\n",
       "      <td>21</td>\n",
       "      <td>21</td>\n",
       "      <td>21</td>\n",
       "      <td>21</td>\n",
       "      <td>21</td>\n",
       "      <td>21</td>\n",
       "      <td>21</td>\n",
       "      <td>21</td>\n",
       "    </tr>\n",
       "  </tbody>\n",
       "</table>\n",
       "<p>5 rows × 27 columns</p>\n",
       "</div>"
      ],
      "text/plain": [
       "        track_id  track_name  track_album_name  track_artist  artist_gender  \\\n",
       "decade                                                                        \n",
       "2020         104         104               104           104            104   \n",
       "2010          48          48                48            48             48   \n",
       "1970          23          23                23            23             23   \n",
       "1960          22          22                22            22             22   \n",
       "2000          21          21                21            21             21   \n",
       "\n",
       "        track_album_release_year  duration_min  track_popularity  genres  \\\n",
       "decade                                                                     \n",
       "2020                         104           104               104     104   \n",
       "2010                          48            48                48      48   \n",
       "1970                          23            23                23      23   \n",
       "1960                          22            22                22      22   \n",
       "2000                          21            21                21      21   \n",
       "\n",
       "        record_label  ...  instrumentalness  liveness  valence  tempo  \\\n",
       "decade                ...                                               \n",
       "2020             104  ...               104       104      104    104   \n",
       "2010              48  ...                48        48       48     48   \n",
       "1970              23  ...                23        23       23     23   \n",
       "1960              22  ...                22        22       22     22   \n",
       "2000              21  ...                21        21       21     21   \n",
       "\n",
       "        time_signature  Playlist_year  artist_id  artist_name  \\\n",
       "decade                                                          \n",
       "2020               104            104        104          104   \n",
       "2010                48             48         48           48   \n",
       "1970                23             23         23           23   \n",
       "1960                22             22         22           22   \n",
       "2000                21             21         21           21   \n",
       "\n",
       "        artist_followers  artist_popularity  \n",
       "decade                                       \n",
       "2020                 104                104  \n",
       "2010                  48                 48  \n",
       "1970                  23                 23  \n",
       "1960                  22                 22  \n",
       "2000                  21                 21  \n",
       "\n",
       "[5 rows x 27 columns]"
      ]
     },
     "execution_count": 39,
     "metadata": {},
     "output_type": "execute_result"
    }
   ],
   "source": [
    "grouped_by_decade = df.groupby(\"decade\").count()\n",
    "grouped_by_decade.sort_values(\"track_name\", ascending=False).head(5)"
   ]
  },
  {
   "cell_type": "code",
   "execution_count": 42,
   "metadata": {
    "colab": {
     "base_uri": "https://localhost:8080/",
     "height": 564
    },
    "id": "YpNPzFHWn6QB",
    "outputId": "2075a541-c9a1-40c1-9bd2-9a4fbeff9e2f"
   },
   "outputs": [
    {
     "data": {
      "image/png": "[encoded data removed]",
      "text/plain": [
       "<Figure size 1400x600 with 1 Axes>"
      ]
     },
     "metadata": {},
     "output_type": "display_data"
    }
   ],
   "source": [
    "plt.figure(figsize=(14, 6))\n",
    "bar_width = 3\n",
    "\n",
    "plt.bar(grouped_by_decade.index, grouped_by_decade['track_name'], width=bar_width)\n",
    "\n",
    "plt.xticks(\n",
    "    ticks=grouped_by_decade.index,\n",
    "    labels=grouped_by_decade.index,\n",
    "    rotation=45,\n",
    ")\n",
    "\n",
    "plt.xlabel('Decade')\n",
    "plt.ylabel('Number of Songs')\n",
    "plt.title('Songs per Decade')\n",
    "\n",
    "plt.tight_layout()  # Prevent label overlap\n",
    "plt.show()\n"
   ]
  },
  {
   "cell_type": "code",
   "execution_count": 43,
   "metadata": {
    "colab": {
     "base_uri": "https://localhost:8080/"
    },
    "id": "nkRqi4Q9LpRs",
    "outputId": "cc899b26-690f-464d-fa13-bede3b1b1cd4"
   },
   "outputs": [
    {
     "name": "stdout",
     "output_type": "stream",
     "text": [
      "1954\n"
     ]
    }
   ],
   "source": [
    "print(df[\"track_album_release_year\"].min())"
   ]
  },
  {
   "cell_type": "code",
   "execution_count": 44,
   "metadata": {
    "colab": {
     "base_uri": "https://localhost:8080/"
    },
    "id": "Y-THWEjoLyF-",
    "outputId": "cdbff030-3e95-4924-b728-a3c533e82e55"
   },
   "outputs": [
    {
     "name": "stdout",
     "output_type": "stream",
     "text": [
      "2024\n"
     ]
    }
   ],
   "source": [
    "print(df[\"track_album_release_year\"].max())"
   ]
  },
  {
   "cell_type": "markdown",
   "metadata": {
    "id": "JpueOL7lo-Oj"
   },
   "source": [
    "##Popularity analysis"
   ]
  },
  {
   "cell_type": "code",
   "execution_count": 68,
   "metadata": {},
   "outputs": [
    {
     "name": "stdout",
     "output_type": "stream",
     "text": [
      "object\n",
      "0    [49]\n",
      "1    [72]\n",
      "2    [56]\n",
      "3    [90]\n",
      "4    [70]\n",
      "Name: artist_popularity, dtype: object\n"
     ]
    }
   ],
   "source": [
    "print(df['artist_popularity'].dtype)\n",
    "print(df['artist_popularity'].head())"
   ]
  },
  {
   "cell_type": "code",
   "execution_count": 69,
   "metadata": {},
   "outputs": [
    {
     "name": "stdout",
     "output_type": "stream",
     "text": [
      "                   track_id                          track_name  \\\n",
      "0    7qEKZP3nOqWpEQlANPccOx                              Espera   \n",
      "1    68vxG1i6RSmrsY9mRdqDgG                             Burning   \n",
      "2    3buy5Ooz6uNL48W1yBUzbM                           Seventeen   \n",
      "3    6Vmow8PuUaU7W1T2WWLZk2                             Go Gina   \n",
      "4    0k664IuFwVP557Gnx7RhIl                               Juice   \n",
      "..                      ...                                 ...   \n",
      "254  26q6YTrXt9l8qshIveiTX9    Rebirth Of Slick (Cool Like Dat)   \n",
      "255  6MdqqkQ8sSC0WB4i8PyRuQ                          No Diggity   \n",
      "256  1eDI5oU04SLsXl0TfxfwYf                        Love Me JeJe   \n",
      "257  3Zm9ZCH5iQcpp1tdvU9rb7                             BAD BOY   \n",
      "258  5Xhqe9xu6bKRSqLj1mS1SB  If You Love Somebody Set Them Free   \n",
      "\n",
      "                                  track_album_name  \\\n",
      "0                                        Esperanza   \n",
      "1                          Heard It In A Past Life   \n",
      "2                                        Seventeen   \n",
      "3                                             Ctrl   \n",
      "4                                   Cuz I Love You   \n",
      "..                                             ...   \n",
      "254  Reachin' (A New Refutation Of Time And Space)   \n",
      "255                                  Another Level   \n",
      "256                               Born in the Wild   \n",
      "257             LOS MARCIANOS Vol.1: Dei V Version   \n",
      "258                  The Dream Of The Blue Turtles   \n",
      "\n",
      "                                   track_artist artist_gender  \\\n",
      "0                            Esperanza Spalding             F   \n",
      "1                                 Maggie Rogers             F   \n",
      "2                              Sharon Van Etten             F   \n",
      "3                                           SZA             F   \n",
      "4                                         Lizzo             F   \n",
      "..                                          ...           ...   \n",
      "254                             Digable Planets           N/A   \n",
      "255               Blackstreet,Dr. Dre,Queen Pen           N/A   \n",
      "256                                        Tems             F   \n",
      "257  Chris Jedi,Gaby Music,Dei V,Anuel AA,Ozuna             M   \n",
      "258                                       Sting             M   \n",
      "\n",
      "     track_album_release_year  duration_min  track_popularity      genres  \\\n",
      "0                        2008          4.64                29        Jazz   \n",
      "1                        2019          3.55                53       Indie   \n",
      "2                        2019          4.43                 0       Indie   \n",
      "3                        2017          2.69                61     Hip Hop   \n",
      "4                        2019          3.25                66     Hip Hop   \n",
      "..                        ...           ...               ...         ...   \n",
      "254                      1993          4.35                59     Hip Hop   \n",
      "255                      1996          5.08                76     Hip Hop   \n",
      "256                      2024          2.97                72   Afrobeats   \n",
      "257                      2024          3.92                59   Reggaeton   \n",
      "258                      1985          4.27                55  Electronic   \n",
      "\n",
      "                           record_label  ...  liveness  valence tempo  \\\n",
      "0                              Heads Up  ...      11.0     21.0   152   \n",
      "1                       Capitol Records  ...      11.0     28.0   110   \n",
      "2                            Jagjaguwar  ...       7.0     24.0   127   \n",
      "3    Top Dawg Entertainment/RCA Records  ...      39.0     46.0    80   \n",
      "4                    Nice Life/Atlantic  ...      40.0     84.0   120   \n",
      "..                                  ...  ...       ...      ...   ...   \n",
      "254                    Pendulum Records  ...      11.0     57.0    98   \n",
      "255                          Interscope  ...      28.0     67.0    89   \n",
      "256               RCA Records/Since 93'  ...      11.0     53.0   104   \n",
      "257               La Familia Records DD  ...      42.0     63.0    95   \n",
      "258                                 A&M  ...      32.0     82.0   125   \n",
      "\n",
      "     time_signature Playlist_year  \\\n",
      "0                 1          2019   \n",
      "1                 4          2019   \n",
      "2                 4          2019   \n",
      "3                 4          2019   \n",
      "4                 4          2019   \n",
      "..              ...           ...   \n",
      "254               4          2024   \n",
      "255               4          2024   \n",
      "256               4          2024   \n",
      "257               4          2024   \n",
      "258               4          2024   \n",
      "\n",
      "                                             artist_id  \\\n",
      "0                             [5bepW5vcdRzheNc0F8lHJ5]   \n",
      "1                             [4NZvixzsSefsNiIqXn0NDe]   \n",
      "2                             [2wJ4vsxWd7df7dRU4KcoDe]   \n",
      "3                             [7tYKF4w9nC0nq9CsPZTHyP]   \n",
      "4                             [56oDRnqbIiwx4mymNEv7dS]   \n",
      "..                                                 ...   \n",
      "254                           [0gqIrDRL7CEPBWMmkuZPdQ]   \n",
      "255  [2P3cjUru4H3fhSXXNxE9kA, 6DPYiyq5kWVQS4RGwxzPC...   \n",
      "256                           [687cZJR45JO7jhk1LHIbgq]   \n",
      "257  [0qTZZWLzuD59Un5r1speHm, 1r3tpVQ08jFAA2P4xzV5o...   \n",
      "258                           [0Ty63ceoRnnJKVEYP0VQpk]   \n",
      "\n",
      "                                          artist_name  \\\n",
      "0                                [Esperanza Spalding]   \n",
      "1                                     [Maggie Rogers]   \n",
      "2                                  [Sharon Van Etten]   \n",
      "3                                               [SZA]   \n",
      "4                                             [Lizzo]   \n",
      "..                                                ...   \n",
      "254                                 [Digable Planets]   \n",
      "255                 [Blackstreet, Dr. Dre, Queen Pen]   \n",
      "256                                            [Tems]   \n",
      "257  [Chris Jedi, Gaby Music, Dei V, Anuel AA, Ozuna]   \n",
      "258                                           [Sting]   \n",
      "\n",
      "                                  artist_followers     artist_popularity  \\\n",
      "0                                         [399132]                  [49]   \n",
      "1                                        [1166373]                  [72]   \n",
      "2                                         [541804]                  [56]   \n",
      "3                                       [24229902]                  [90]   \n",
      "4                                        [5714695]                  [70]   \n",
      "..                                             ...                   ...   \n",
      "254                                       [443108]                  [53]   \n",
      "255                      [857447, 12768999, 53109]          [65, 82, 63]   \n",
      "256                                      [2516746]                  [78]   \n",
      "257  [2650931, 79896, 1418497, 38747602, 37653503]  [70, 66, 81, 88, 87]   \n",
      "258                                      [3488030]                  [73]   \n",
      "\n",
      "     decade  \n",
      "0      2000  \n",
      "1      2010  \n",
      "2      2010  \n",
      "3      2010  \n",
      "4      2010  \n",
      "..      ...  \n",
      "254    1990  \n",
      "255    1990  \n",
      "256    2020  \n",
      "257    2020  \n",
      "258    1980  \n",
      "\n",
      "[259 rows x 28 columns]\n"
     ]
    }
   ],
   "source": [
    "non_numeric = df[~df['artist_popularity'].apply(lambda x: isinstance(x, (int, float)))]\n",
    "print(non_numeric)"
   ]
  },
  {
   "cell_type": "code",
   "execution_count": null,
   "metadata": {
    "colab": {
     "base_uri": "https://localhost:8080/",
     "height": 743
    },
    "id": "0zUHrTtWpAem",
    "outputId": "1321cbfa-8d04-45cf-db55-348c490fbb9d"
   },
   "outputs": [],
   "source": [
    "artist_popularity = df.groupby(\"track_artist\")[\"artist_popularity\"].mean()\n",
    "artist_popularity.sort_values(ascending=False).head(20)"
   ]
  },
  {
   "cell_type": "code",
   "execution_count": null,
   "metadata": {},
   "outputs": [],
   "source": [
    "artist_followers = df.groupby(\"track_artist\")[\"artist_followers\"].mean()\n",
    "artist_followers.sort_values(ascending=False).head(20)"
   ]
  },
  {
   "cell_type": "code",
   "execution_count": 70,
   "metadata": {
    "colab": {
     "base_uri": "https://localhost:8080/",
     "height": 743
    },
    "id": "YAVIJ16rpBQh",
    "outputId": "098e4d51-c794-485b-d213-9ff16ee7d854"
   },
   "outputs": [
    {
     "data": {
      "text/plain": [
       "track_name\n",
       "MILLION DOLLAR BABY                             90.0\n",
       "Stargazing                                      89.0\n",
       "CHIHIRO                                         88.0\n",
       "A Bar Song (Tipsy)                              88.0\n",
       "PERRO NEGRO                                     85.0\n",
       "Snooze                                          85.0\n",
       "i like the way you kiss me                      85.0\n",
       "Best Part (feat. H.E.R.)                        84.0\n",
       "Brown Eyed Girl                                 83.0\n",
       "Dancing In the Dark                             82.0\n",
       "Fast Car                                        82.0\n",
       "La Bebe - Remix                                 81.0\n",
       "Ojitos Lindos                                   81.0\n",
       "Could You Be Loved                              80.0\n",
       "365                                             80.0\n",
       "Lil Boo Thang                                   79.0\n",
       "California Love - Original Version              79.0\n",
       "(Sittin' On) the Dock of the Bay                78.0\n",
       "Work                                            77.0\n",
       "(I Can't Get No) Satisfaction - Mono Version    76.0\n",
       "Name: track_popularity, dtype: float64"
      ]
     },
     "execution_count": 70,
     "metadata": {},
     "output_type": "execute_result"
    }
   ],
   "source": [
    "track_popularity = df.groupby(\"track_name\")[\"track_popularity\"].mean()\n",
    "track_popularity.sort_values(ascending=False).head(20)"
   ]
  },
  {
   "cell_type": "code",
   "execution_count": 47,
   "metadata": {
    "colab": {
     "base_uri": "https://localhost:8080/"
    },
    "id": "LKAxnQDFqwU8",
    "outputId": "8a4f5115-1a72-4728-b798-5622f986f6a2"
   },
   "outputs": [
    {
     "name": "stdout",
     "output_type": "stream",
     "text": [
      "Average Track Popularity:  47.31782945736434\n",
      "Median Track Popularity:  50.0\n",
      "Max Track Popularity:  90.0\n",
      "Min Track Popularity:  0.0\n"
     ]
    }
   ],
   "source": [
    "print(\"Average Track Popularity: \", track_popularity.mean())\n",
    "print(\"Median Track Popularity: \", track_popularity.median())\n",
    "print(\"Max Track Popularity: \", track_popularity.max())\n",
    "print(\"Min Track Popularity: \", track_popularity.min())"
   ]
  },
  {
   "cell_type": "code",
   "execution_count": null,
   "metadata": {
    "colab": {
     "base_uri": "https://localhost:8080/"
    },
    "id": "dMK6f0fzuVPY",
    "outputId": "1a0fe50e-79fa-4a6f-c9a8-c40f1dee399c"
   },
   "outputs": [],
   "source": [
    "print(\"Average Artist Popularity: \", artist_popularity.mean())\n",
    "print(\"Median Artist Popularity: \", artist_popularity.median())\n",
    "print(\"Max Artist Popularity: \", artist_popularity.max())\n",
    "print(\"Min Artist Popularity: \", artist_popularity.min())"
   ]
  },
  {
   "cell_type": "code",
   "execution_count": null,
   "metadata": {
    "colab": {
     "base_uri": "https://localhost:8080/",
     "height": 607
    },
    "id": "lslYe6p0MbRN",
    "outputId": "745987f1-d87b-45be-8263-ed327b23e821"
   },
   "outputs": [],
   "source": [
    "# Set up the figure for Artist Popularity with two subplots (barplot and scatterplot) side by side\n",
    "fig, (ax1, ax2) = plt.subplots(1, 2, figsize=(25, 6))\n",
    "\n",
    "# Bar Plot on the first subplot\n",
    "ax1.bar(artist_popularity, artist_popularity, color='#1f77b4')\n",
    "ax1.axhline(y=artist_popularity.mean(), color='red', linestyle='--', label='Average Popularity')\n",
    "ax1.set_xlabel('Artist')\n",
    "ax1.set_ylabel('Popularity')\n",
    "ax1.set_title('Artist Popularity')\n",
    "ax1.legend()\n",
    "\n",
    "# Scatter Plot on the second subplot\n",
    "ax2.scatter(range(len(artist_popularity)), artist_popularity, color='skyblue')\n",
    "ax2.axhline(y=artist_popularity.mean(), color='red', linestyle='--', label='Average Popularity')\n",
    "ax2.set_xlabel('Artist')\n",
    "ax2.set_ylabel('Popularity')\n",
    "ax2.set_title('Artist Popularity')\n",
    "ax2.legend()\n",
    "\n",
    "# Adjust layout and show plot\n",
    "plt.tight_layout()\n",
    "plt.show()"
   ]
  },
  {
   "cell_type": "markdown",
   "metadata": {
    "id": "T0FvVqvcTx_s"
   },
   "source": [
    "##Track Duration"
   ]
  },
  {
   "cell_type": "markdown",
   "metadata": {
    "id": "dY5M6GtDT06C"
   },
   "source": [
    "Does Obama prefer short or long songs?"
   ]
  },
  {
   "cell_type": "code",
   "execution_count": 60,
   "metadata": {
    "colab": {
     "base_uri": "https://localhost:8080/"
    },
    "id": "uaxxLcTZMydZ",
    "outputId": "f44c0c51-0491-48a9-81be-0fa50987a529"
   },
   "outputs": [
    {
     "name": "stdout",
     "output_type": "stream",
     "text": [
      "The average duration for a song in Obama's playlists is 3.8449806949806953 minutes.\n",
      "The median duration for a song in Obama's playlists is 3.67 minutes.\n",
      "The standard deviation for a song in Obama's playlists is 1.2594530542064293 minutes.\n",
      "The shortest song in Obama's playlists is 1.28 minutes.\n",
      "The longest song in Obama's playlists is 13.45 minutes.\n"
     ]
    }
   ],
   "source": [
    "print(\"The average duration for a song in Obama's playlists is\",df[\"duration_min\"].mean(),\"minutes.\")\n",
    "print(\"The median duration for a song in Obama's playlists is\",df[\"duration_min\"].median(),\"minutes.\")\n",
    "print(\"The standard deviation for a song in Obama's playlists is\",df[\"duration_min\"].std(),\"minutes.\")\n",
    "print(\"The shortest song in Obama's playlists is\",df[\"duration_min\"].min(),\"minutes.\")\n",
    "print(\"The longest song in Obama's playlists is\",df[\"duration_min\"].max(),\"minutes.\")"
   ]
  },
  {
   "cell_type": "code",
   "execution_count": 58,
   "metadata": {
    "colab": {
     "base_uri": "https://localhost:8080/",
     "height": 564
    },
    "id": "4EMsK0EgUNyt",
    "outputId": "d1b95afd-031d-46fd-9caa-4406fcb32c1e"
   },
   "outputs": [
    {
     "data": {
      "image/png": "[encoded data removed]",
      "text/plain": [
       "<Figure size 1000x600 with 1 Axes>"
      ]
     },
     "metadata": {},
     "output_type": "display_data"
    }
   ],
   "source": [
    "#histogram of duration of songs\n",
    "plt.figure(figsize=(10, 6))\n",
    "plt.hist(df['duration_min'], bins=30, color='#1f77b4')\n",
    "plt.xlabel('Duration (min)')\n",
    "plt.ylabel('Frequency')\n",
    "plt.title('Distribution of Song Durations')\n",
    "plt.show()"
   ]
  },
  {
   "cell_type": "markdown",
   "metadata": {
    "id": "igZP53pIVGIB"
   },
   "source": [
    "##Music Features"
   ]
  },
  {
   "cell_type": "code",
   "execution_count": 61,
   "metadata": {
    "colab": {
     "base_uri": "https://localhost:8080/"
    },
    "id": "39FQoRnhMJJ6",
    "outputId": "cd574268-565b-4cba-c930-a635e400d904"
   },
   "outputs": [
    {
     "name": "stdout",
     "output_type": "stream",
     "text": [
      "64.27953667953669\n"
     ]
    }
   ],
   "source": [
    "print(df[\"danceability\"].mean())"
   ]
  },
  {
   "cell_type": "code",
   "execution_count": 62,
   "metadata": {
    "colab": {
     "base_uri": "https://localhost:8080/"
    },
    "id": "3kfV8iQQMSpe",
    "outputId": "55fc0006-f6ae-45d0-cddf-f580827442d0"
   },
   "outputs": [
    {
     "name": "stdout",
     "output_type": "stream",
     "text": [
      "-8.332393822393822\n"
     ]
    }
   ],
   "source": [
    "print(df[\"loudness\"].mean())"
   ]
  },
  {
   "cell_type": "code",
   "execution_count": 63,
   "metadata": {
    "colab": {
     "base_uri": "https://localhost:8080/"
    },
    "id": "JCrs7T-XMYTc",
    "outputId": "a87adba0-2970-47d3-e38c-ded24cccaad8"
   },
   "outputs": [
    {
     "name": "stdout",
     "output_type": "stream",
     "text": [
      "56.48440154440154\n"
     ]
    }
   ],
   "source": [
    "print(df[\"valence\"].mean())"
   ]
  },
  {
   "cell_type": "code",
   "execution_count": 64,
   "metadata": {
    "colab": {
     "base_uri": "https://localhost:8080/",
     "height": 241
    },
    "id": "003GD_BdMcMu",
    "outputId": "ed24df37-a2e6-4cb0-b042-d9ea6de07c6a"
   },
   "outputs": [
    {
     "name": "stdout",
     "output_type": "stream",
     "text": [
      "time_signature\n",
      "4    230\n",
      "3     25\n",
      "1      3\n",
      "5      1\n",
      "Name: count, dtype: int64\n"
     ]
    }
   ],
   "source": [
    "print(df[\"time_signature\"].value_counts())"
   ]
  },
  {
   "cell_type": "code",
   "execution_count": 65,
   "metadata": {
    "colab": {
     "base_uri": "https://localhost:8080/",
     "height": 178
    },
    "id": "lbqH79qsMlKJ",
    "outputId": "14883970-4091-4409-b19c-f98a26d03156"
   },
   "outputs": [
    {
     "name": "stdout",
     "output_type": "stream",
     "text": [
      "mode\n",
      "Major    154\n",
      "minor     92\n",
      "Minor     13\n",
      "Name: count, dtype: int64\n"
     ]
    }
   ],
   "source": [
    "print(df[\"mode\"].value_counts())"
   ]
  },
  {
   "cell_type": "code",
   "execution_count": 66,
   "metadata": {
    "colab": {
     "base_uri": "https://localhost:8080/",
     "height": 1000
    },
    "id": "3Wx6OBVuVZsw",
    "outputId": "d3cab8e2-9143-40ea-d2ed-85c9770eee7d"
   },
   "outputs": [
    {
     "data": {
      "image/png": "[encoded data removed]",
      "text/plain": [
       "<Figure size 2000x2000 with 9 Axes>"
      ]
     },
     "metadata": {},
     "output_type": "display_data"
    }
   ],
   "source": [
    "plt.figure(figsize=(20,20))\n",
    "\n",
    "for i,category in enumerate(['danceability', 'energy', 'loudness', 'speechiness', 'instrumentalness', 'acousticness', 'liveness', 'valence', 'tempo']):\n",
    "    plt.subplot(3, 3, i+1)\n",
    "    plt.hist(df[category], bins=30)\n",
    "    plt.text(plt.xlim()[1] - (plt.xlim()[1] - plt.xlim()[0])*0.3,\n",
    "                plt.ylim()[1]*0.9, r'$\\mu=$'+str(df[category].mean())[:7], fontsize=12)\n",
    "    plt.xlabel('Value')\n",
    "    plt.ylabel('Num Tracks')\n",
    "    plt.title(category)\n",
    "\n",
    "plt.tight_layout(h_pad=2)"
   ]
  },
  {
   "cell_type": "code",
   "execution_count": 67,
   "metadata": {
    "colab": {
     "base_uri": "https://localhost:8080/",
     "height": 407
    },
    "id": "6aYx1areXcrm",
    "outputId": "db9cc13c-a675-4a25-f157-d5303b0bbd03"
   },
   "outputs": [
    {
     "data": {
      "image/png": "[encoded data removed]",
      "text/plain": [
       "<Figure size 1500x400 with 3 Axes>"
      ]
     },
     "metadata": {},
     "output_type": "display_data"
    }
   ],
   "source": [
    "plt.figure(figsize=(15, 4))\n",
    "\n",
    "plt.subplot(1, 3, 1)\n",
    "sns.countplot(df, x='time_signature', hue='time_signature', legend=False)\n",
    "plt.xlabel('Beats per measure')\n",
    "plt.ylabel('Num Tracks')\n",
    "plt.title('Time Signature')\n",
    "\n",
    "plt.subplot(1, 3, 2)\n",
    "sns.countplot(df, x='key', hue='key', palette='flare', legend=False)\n",
    "plt.xticks(ticks=plt.xticks()[0], labels=['C', 'C#', 'D', 'D#', 'E', 'F', 'F#', 'G', 'G#', 'A', 'A#', 'B'])\n",
    "plt.ylabel('Num Tracks')\n",
    "plt.title('Key')\n",
    "\n",
    "plt.subplot(1, 3, 3)\n",
    "sns.countplot(df, x='mode', hue='mode', legend=False)\n",
    "plt.xticks(ticks=[0, 1], labels=['Major', 'Minor'])  # Set ticks to match labels\n",
    "plt.ylabel('Num Tracks')\n",
    "plt.title('Major vs Minor Key')\n",
    "\n",
    "plt.tight_layout(w_pad=2)"
   ]
  },
  {
   "cell_type": "markdown",
   "metadata": {
    "id": "-7KJ4fmBtz0G"
   },
   "source": [
    "the vast majority of the tracks are in 4/4 time signature but interestingly enough the majority of the tracks are in G major, A major and D minor. About 2/3 of the tracks are in minor key. Maybe this is the reason for a relatively balanced valence of 0,56? Tracks in B major are obviously not very attractive to Obama.\n"
   ]
  }
 ],
 "metadata": {
  "colab": {
   "provenance": []
  },
  "kernelspec": {
   "display_name": "Python 3",
   "name": "python3"
  },
  "language_info": {
   "codemirror_mode": {
    "name": "ipython",
    "version": 3
   },
   "file_extension": ".py",
   "mimetype": "text/x-python",
   "name": "python",
   "nbconvert_exporter": "python",
   "pygments_lexer": "ipython3",
   "version": "3.13.0"
  }
 },
 "nbformat": 4,
 "nbformat_minor": 0
}
