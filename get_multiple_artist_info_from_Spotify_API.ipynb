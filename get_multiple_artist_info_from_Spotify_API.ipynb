{
 "cells": [
  {
   "cell_type": "code",
   "execution_count": 1,
   "metadata": {
    "id": "ordpd-564eYz"
   },
   "outputs": [],
   "source": [
    "import pandas as pd\n",
    "import numpy as np\n",
    "import requests\n",
    "import time"
   ]
  },
  {
   "cell_type": "code",
   "execution_count": null,
   "metadata": {},
   "outputs": [],
   "source": [
    "pip install pandas-gbq"
   ]
  },
  {
   "cell_type": "markdown",
   "metadata": {
    "id": "FY6_VmLaHp5z"
   },
   "source": [
    "## Connect to BQ\n"
   ]
  },
  {
   "cell_type": "code",
   "execution_count": 3,
   "metadata": {},
   "outputs": [],
   "source": [
    "from google.oauth2 import service_account\n",
    "from google.cloud import bigquery\n"
   ]
  },
  {
   "cell_type": "code",
   "execution_count": 4,
   "metadata": {
    "colab": {
     "base_uri": "https://localhost:8080/",
     "height": 357
    },
    "id": "xdWOluKnXQDL",
    "outputId": "52e4c50a-031a-44be-85ac-ce6010716d22"
   },
   "outputs": [],
   "source": [
    "credentials = service_account.Credentials.from_service_account_file(\n",
    "'d:/Users/Ramona/Desktop/music-recommendation-system-24-3d0d21fb1f8b.json')\n",
    "# music-recommendation-system-24-3d0d21fb1f8b.json is the service account JSON file. Save the file locally on your device and add the path here.\n",
    "# make sure that the slashes in the path are '/' and not '\\'\n",
    "\n",
    "project_id = 'music-recommendation-system-24'\n",
    "client = bigquery.Client(credentials= credentials,project=project_id)"
   ]
  },
  {
   "cell_type": "markdown",
   "metadata": {
    "id": "b32mVJEtnCjF"
   },
   "source": [
    "Query BQ"
   ]
  },
  {
   "cell_type": "code",
   "execution_count": 54,
   "metadata": {
    "id": "BIXUg7k-mlay"
   },
   "outputs": [],
   "source": [
    "query_job = client.query(\"\"\"\n",
    "   SELECT\n",
    "      *\n",
    "   FROM `music-recommendation-system-24.top_100.2024_spotify_top_100_cleaned_csv`\n",
    "   \"\"\")\n",
    "#put the query in three quote marks\n",
    "\n",
    "results = query_job.result() # Wait for the job to complete.\n",
    "\n",
    "rows = [dict(row) for row in results]\n",
    "\n",
    "# Convert the list of dictionaries to a DataFrame\n",
    "df_bq = pd.DataFrame(rows)"
   ]
  },
  {
   "cell_type": "markdown",
   "metadata": {
    "id": "n8wLhNfKm1P8"
   },
   "source": [
    "Getting the Access Token using Client_id and Client_secret"
   ]
  },
  {
   "cell_type": "code",
   "execution_count": null,
   "metadata": {
    "id": "rFmC1HfY553j"
   },
   "outputs": [],
   "source": [
    "import requests\n",
    "import base64\n",
    "\n",
    "# Replace with your own client ID and client secret\n",
    "CLIENT_ID = ''\n",
    "CLIENT_SECRET = ''\n",
    "\n",
    "def get_access_token(client_id, client_secret):\n",
    "    # Base64 encode client_id and client_secret\n",
    "    auth_str = f\"{client_id}:{client_secret}\"\n",
    "    b64_auth_str = base64.b64encode(auth_str.encode()).decode()\n",
    "\n",
    "    # Define the token endpoint and headers\n",
    "    url = \"https://accounts.spotify.com/api/token\"\n",
    "    headers = {\n",
    "        \"Authorization\": f\"Basic {b64_auth_str}\"\n",
    "    }\n",
    "    data = {\n",
    "        \"grant_type\": \"client_credentials\"\n",
    "    }\n",
    "\n",
    "    # Make the request to get the token\n",
    "    response = requests.post(url, headers=headers, data=data)\n",
    "    if response.status_code == 200:\n",
    "        token = response.json().get('access_token')\n",
    "        return token\n",
    "    else:\n",
    "        raise Exception(\"Could not get access token\")"
   ]
  },
  {
   "cell_type": "code",
   "execution_count": 67,
   "metadata": {
    "id": "HRUjoE1N9Otn"
   },
   "outputs": [],
   "source": [
    "# Call the function to get the access token\n",
    "\n",
    "token = get_access_token(CLIENT_ID, CLIENT_SECRET)"
   ]
  },
  {
   "cell_type": "markdown",
   "metadata": {
    "id": "dvv-mUf2MkTL"
   },
   "source": [
    "# Attempt to get all artists' info and store them as lists instead of a value"
   ]
  },
  {
   "cell_type": "code",
   "execution_count": 68,
   "metadata": {
    "colab": {
     "base_uri": "https://localhost:8080/",
     "height": 211
    },
    "collapsed": true,
    "id": "5NFYPEGxMvWO",
    "outputId": "9866f72d-107a-413a-b732-e9705aa9522d"
   },
   "outputs": [],
   "source": [
    "# Create a dictionary to store data. Later on will be converted to a Data Frame\n",
    "\n",
    "d = {\n",
    "    'track_id' : [],\n",
    "    'artist_id' : [],\n",
    "    'artist_name' : [],\n",
    "    'artist_followers' : [],\n",
    "    'artist_popularity' : []\n",
    "}\n",
    "\n",
    "# iterate over track_ids\n",
    "\n",
    "for id in df_bq['track_id']:\n",
    "\n",
    "    # Add track_id\n",
    "    d['track_id'].append(id)\n",
    "\n",
    "    # use the track id to make an API call to get the artist id\n",
    "    endpoint = f\"https://api.spotify.com/v1/tracks/{id}\"\n",
    "\n",
    "\n",
    "    # API call\n",
    "    response = requests.get(endpoint, headers={'Authorization' : f\"Bearer {token}\"})\n",
    "    time.sleep(30)\n",
    "    # give the response a variable name\n",
    "    track_response = response.json()\n",
    "\n",
    "    # Extract artist_id (Here, I4m only taking the first element of the list 'artists', you should iterate over all of them)\n",
    "\n",
    "    art_names = []\n",
    "    art_followers = []\n",
    "    art_ids = []\n",
    "    art_popularities = []\n",
    "\n",
    "    # get a list of all artists' ids\n",
    "\n",
    "    for artist in track_response['artists'] :\n",
    "\n",
    "      art_ids.append(artist['id'])\n",
    "\n",
    "    # You should iterate over all elements of the list that contains all artists_ids and make an API call for each of them\n",
    "    # artist endpoint to get artist's info\n",
    "\n",
    "    for artist_id in art_ids :\n",
    "\n",
    "      artist_endpoint = f\"https://api.spotify.com/v1/artists/{artist_id}\"\n",
    "\n",
    "      artist_response = requests.get(artist_endpoint, headers={'Authorization' : f\"Bearer {token}\"}).json()\n",
    "\n",
    "      # Get artist data\n",
    "\n",
    "      followers = artist_response['followers']['total']\n",
    "\n",
    "      name = artist_response['name']\n",
    "\n",
    "      popularity = artist_response['popularity']\n",
    "\n",
    "      art_names.append(name)\n",
    "      art_followers.append(followers)\n",
    "      art_popularities.append(popularity)\n",
    "\n",
    "\n",
    "    # append data to the dictionary\n",
    "    # SHould add the populated lists of info about all artists\n",
    "    d['artist_name'].append(art_names)\n",
    "    d['artist_followers'].append(art_followers)\n",
    "    d['artist_popularity'].append(art_popularities)\n",
    "    d['artist_id'].append(art_ids)\n",
    "    \n",
    "\n"
   ]
  },
  {
   "cell_type": "code",
   "execution_count": 69,
   "metadata": {},
   "outputs": [
    {
     "data": {
      "text/html": [
       "<div>\n",
       "<style scoped>\n",
       "    .dataframe tbody tr th:only-of-type {\n",
       "        vertical-align: middle;\n",
       "    }\n",
       "\n",
       "    .dataframe tbody tr th {\n",
       "        vertical-align: top;\n",
       "    }\n",
       "\n",
       "    .dataframe thead th {\n",
       "        text-align: right;\n",
       "    }\n",
       "</style>\n",
       "<table border=\"1\" class=\"dataframe\">\n",
       "  <thead>\n",
       "    <tr style=\"text-align: right;\">\n",
       "      <th></th>\n",
       "      <th>track_id</th>\n",
       "      <th>artist_id</th>\n",
       "      <th>artist_name</th>\n",
       "      <th>artist_followers</th>\n",
       "      <th>artist_popularity</th>\n",
       "    </tr>\n",
       "  </thead>\n",
       "  <tbody>\n",
       "    <tr>\n",
       "      <th>0</th>\n",
       "      <td>0nrRP2bk19rLc0orkWPQk2</td>\n",
       "      <td>[1vCWHaC5f2uS3yhpwWbIA6]</td>\n",
       "      <td>[Avicii]</td>\n",
       "      <td>[23107521]</td>\n",
       "      <td>[81]</td>\n",
       "    </tr>\n",
       "    <tr>\n",
       "      <th>1</th>\n",
       "      <td>7BqHUALzNBTanL6OvsqmC1</td>\n",
       "      <td>[64KEffDW9EtZ1y2vBYgq8T, 7EQ0qTo7fWT7DPxmxtSYEc]</td>\n",
       "      <td>[Marshmello, Bastille]</td>\n",
       "      <td>[33882258, 5582338]</td>\n",
       "      <td>[84, 76]</td>\n",
       "    </tr>\n",
       "    <tr>\n",
       "      <th>2</th>\n",
       "      <td>2YWjW3wwQIBLNhxWKBQd16</td>\n",
       "      <td>[738wLrAtLtCtFOLvQBXOXp, 0bdfiayQAKewqEvaU6rXC...</td>\n",
       "      <td>[Major Lazer, MØ, DJ Snake]</td>\n",
       "      <td>[6206097, 1458940, 8910877]</td>\n",
       "      <td>[77, 72, 79]</td>\n",
       "    </tr>\n",
       "    <tr>\n",
       "      <th>3</th>\n",
       "      <td>0lYBSQXN6rCTvUZvg9S0lU</td>\n",
       "      <td>[540vIaP2JwjQb9dm3aArA4, 1uNFoZAHBGtllmzznpCI3s]</td>\n",
       "      <td>[DJ Snake, Justin Bieber]</td>\n",
       "      <td>[8910877, 78641625]</td>\n",
       "      <td>[79, 91]</td>\n",
       "    </tr>\n",
       "    <tr>\n",
       "      <th>4</th>\n",
       "      <td>6v3KW9xbzN5yKLt9YKDYA2</td>\n",
       "      <td>[7n2wHs1TKAczGzO7Dd2rGr, 4nDoRrQiYLoBzwC5BhVJzF]</td>\n",
       "      <td>[Shawn Mendes, Camila Cabello]</td>\n",
       "      <td>[43635681, 34041015]</td>\n",
       "      <td>[85, 82]</td>\n",
       "    </tr>\n",
       "    <tr>\n",
       "      <th>...</th>\n",
       "      <td>...</td>\n",
       "      <td>...</td>\n",
       "      <td>...</td>\n",
       "      <td>...</td>\n",
       "      <td>...</td>\n",
       "    </tr>\n",
       "    <tr>\n",
       "      <th>95</th>\n",
       "      <td>2Ch7LmS7r2Gy2kc64wv3Bz</td>\n",
       "      <td>[1Xyo4u8uXC1ZmMpatF05PJ]</td>\n",
       "      <td>[The Weeknd]</td>\n",
       "      <td>[94260543]</td>\n",
       "      <td>[96]</td>\n",
       "    </tr>\n",
       "    <tr>\n",
       "      <th>96</th>\n",
       "      <td>5KReHDo8W8w9bKTY3KxPy3</td>\n",
       "      <td>[0gadJ2b9A4SKsB1RFkBb66]</td>\n",
       "      <td>[Passenger]</td>\n",
       "      <td>[3419887]</td>\n",
       "      <td>[72]</td>\n",
       "    </tr>\n",
       "    <tr>\n",
       "      <th>97</th>\n",
       "      <td>7yq4Qj7cqayVTp3FF9CWbm</td>\n",
       "      <td>[10exVja0key0uqUkk6LJRT]</td>\n",
       "      <td>[Vance Joy]</td>\n",
       "      <td>[3199643]</td>\n",
       "      <td>[78]</td>\n",
       "    </tr>\n",
       "    <tr>\n",
       "      <th>98</th>\n",
       "      <td>3hRV0jL3vUpRrcy398teAU</td>\n",
       "      <td>[6ltzsmQQbmdoHHbLZ4ZN25]</td>\n",
       "      <td>[Lord Huron]</td>\n",
       "      <td>[1765546]</td>\n",
       "      <td>[78]</td>\n",
       "    </tr>\n",
       "    <tr>\n",
       "      <th>99</th>\n",
       "      <td>7gHs73wELdeycvS48JfIos</td>\n",
       "      <td>[7vk5e3vY1uw9plTHJAMwjN]</td>\n",
       "      <td>[Alan Walker]</td>\n",
       "      <td>[39725669]</td>\n",
       "      <td>[82]</td>\n",
       "    </tr>\n",
       "  </tbody>\n",
       "</table>\n",
       "<p>100 rows × 5 columns</p>\n",
       "</div>"
      ],
      "text/plain": [
       "                  track_id                                          artist_id  \\\n",
       "0   0nrRP2bk19rLc0orkWPQk2                           [1vCWHaC5f2uS3yhpwWbIA6]   \n",
       "1   7BqHUALzNBTanL6OvsqmC1   [64KEffDW9EtZ1y2vBYgq8T, 7EQ0qTo7fWT7DPxmxtSYEc]   \n",
       "2   2YWjW3wwQIBLNhxWKBQd16  [738wLrAtLtCtFOLvQBXOXp, 0bdfiayQAKewqEvaU6rXC...   \n",
       "3   0lYBSQXN6rCTvUZvg9S0lU   [540vIaP2JwjQb9dm3aArA4, 1uNFoZAHBGtllmzznpCI3s]   \n",
       "4   6v3KW9xbzN5yKLt9YKDYA2   [7n2wHs1TKAczGzO7Dd2rGr, 4nDoRrQiYLoBzwC5BhVJzF]   \n",
       "..                     ...                                                ...   \n",
       "95  2Ch7LmS7r2Gy2kc64wv3Bz                           [1Xyo4u8uXC1ZmMpatF05PJ]   \n",
       "96  5KReHDo8W8w9bKTY3KxPy3                           [0gadJ2b9A4SKsB1RFkBb66]   \n",
       "97  7yq4Qj7cqayVTp3FF9CWbm                           [10exVja0key0uqUkk6LJRT]   \n",
       "98  3hRV0jL3vUpRrcy398teAU                           [6ltzsmQQbmdoHHbLZ4ZN25]   \n",
       "99  7gHs73wELdeycvS48JfIos                           [7vk5e3vY1uw9plTHJAMwjN]   \n",
       "\n",
       "                       artist_name             artist_followers  \\\n",
       "0                         [Avicii]                   [23107521]   \n",
       "1           [Marshmello, Bastille]          [33882258, 5582338]   \n",
       "2      [Major Lazer, MØ, DJ Snake]  [6206097, 1458940, 8910877]   \n",
       "3        [DJ Snake, Justin Bieber]          [8910877, 78641625]   \n",
       "4   [Shawn Mendes, Camila Cabello]         [43635681, 34041015]   \n",
       "..                             ...                          ...   \n",
       "95                    [The Weeknd]                   [94260543]   \n",
       "96                     [Passenger]                    [3419887]   \n",
       "97                     [Vance Joy]                    [3199643]   \n",
       "98                    [Lord Huron]                    [1765546]   \n",
       "99                   [Alan Walker]                   [39725669]   \n",
       "\n",
       "   artist_popularity  \n",
       "0               [81]  \n",
       "1           [84, 76]  \n",
       "2       [77, 72, 79]  \n",
       "3           [79, 91]  \n",
       "4           [85, 82]  \n",
       "..               ...  \n",
       "95              [96]  \n",
       "96              [72]  \n",
       "97              [78]  \n",
       "98              [78]  \n",
       "99              [82]  \n",
       "\n",
       "[100 rows x 5 columns]"
      ]
     },
     "execution_count": 69,
     "metadata": {},
     "output_type": "execute_result"
    }
   ],
   "source": [
    "pd.DataFrame(d)"
   ]
  },
  {
   "cell_type": "code",
   "execution_count": 70,
   "metadata": {},
   "outputs": [
    {
     "name": "stdout",
     "output_type": "stream",
     "text": [
      "<class 'pandas.core.frame.DataFrame'>\n",
      "RangeIndex: 100 entries, 0 to 99\n",
      "Data columns (total 5 columns):\n",
      " #   Column             Non-Null Count  Dtype \n",
      "---  ------             --------------  ----- \n",
      " 0   track_id           100 non-null    object\n",
      " 1   artist_id          100 non-null    object\n",
      " 2   artist_name        100 non-null    object\n",
      " 3   artist_followers   100 non-null    object\n",
      " 4   artist_popularity  100 non-null    object\n",
      "dtypes: object(5)\n",
      "memory usage: 4.0+ KB\n"
     ]
    }
   ],
   "source": [
    "df_artists = pd.DataFrame(d)\n",
    "df_artists.info()"
   ]
  },
  {
   "cell_type": "code",
   "execution_count": 74,
   "metadata": {},
   "outputs": [
    {
     "data": {
      "text/html": [
       "<div>\n",
       "<style scoped>\n",
       "    .dataframe tbody tr th:only-of-type {\n",
       "        vertical-align: middle;\n",
       "    }\n",
       "\n",
       "    .dataframe tbody tr th {\n",
       "        vertical-align: top;\n",
       "    }\n",
       "\n",
       "    .dataframe thead th {\n",
       "        text-align: right;\n",
       "    }\n",
       "</style>\n",
       "<table border=\"1\" class=\"dataframe\">\n",
       "  <thead>\n",
       "    <tr style=\"text-align: right;\">\n",
       "      <th></th>\n",
       "      <th>track_id</th>\n",
       "      <th>artist_id</th>\n",
       "      <th>artist_name</th>\n",
       "      <th>artist_followers</th>\n",
       "      <th>artist_popularity</th>\n",
       "    </tr>\n",
       "  </thead>\n",
       "  <tbody>\n",
       "    <tr>\n",
       "      <th>0</th>\n",
       "      <td>0nrRP2bk19rLc0orkWPQk2</td>\n",
       "      <td>[1vCWHaC5f2uS3yhpwWbIA6]</td>\n",
       "      <td>[Avicii]</td>\n",
       "      <td>[23107521]</td>\n",
       "      <td>[81]</td>\n",
       "    </tr>\n",
       "    <tr>\n",
       "      <th>1</th>\n",
       "      <td>7BqHUALzNBTanL6OvsqmC1</td>\n",
       "      <td>[64KEffDW9EtZ1y2vBYgq8T, 7EQ0qTo7fWT7DPxmxtSYEc]</td>\n",
       "      <td>[Marshmello, Bastille]</td>\n",
       "      <td>[33882258, 5582338]</td>\n",
       "      <td>[84, 76]</td>\n",
       "    </tr>\n",
       "    <tr>\n",
       "      <th>2</th>\n",
       "      <td>2YWjW3wwQIBLNhxWKBQd16</td>\n",
       "      <td>[738wLrAtLtCtFOLvQBXOXp, 0bdfiayQAKewqEvaU6rXC...</td>\n",
       "      <td>[Major Lazer, MØ, DJ Snake]</td>\n",
       "      <td>[6206097, 1458940, 8910877]</td>\n",
       "      <td>[77, 72, 79]</td>\n",
       "    </tr>\n",
       "    <tr>\n",
       "      <th>3</th>\n",
       "      <td>0lYBSQXN6rCTvUZvg9S0lU</td>\n",
       "      <td>[540vIaP2JwjQb9dm3aArA4, 1uNFoZAHBGtllmzznpCI3s]</td>\n",
       "      <td>[DJ Snake, Justin Bieber]</td>\n",
       "      <td>[8910877, 78641625]</td>\n",
       "      <td>[79, 91]</td>\n",
       "    </tr>\n",
       "    <tr>\n",
       "      <th>4</th>\n",
       "      <td>6v3KW9xbzN5yKLt9YKDYA2</td>\n",
       "      <td>[7n2wHs1TKAczGzO7Dd2rGr, 4nDoRrQiYLoBzwC5BhVJzF]</td>\n",
       "      <td>[Shawn Mendes, Camila Cabello]</td>\n",
       "      <td>[43635681, 34041015]</td>\n",
       "      <td>[85, 82]</td>\n",
       "    </tr>\n",
       "    <tr>\n",
       "      <th>...</th>\n",
       "      <td>...</td>\n",
       "      <td>...</td>\n",
       "      <td>...</td>\n",
       "      <td>...</td>\n",
       "      <td>...</td>\n",
       "    </tr>\n",
       "    <tr>\n",
       "      <th>95</th>\n",
       "      <td>2Ch7LmS7r2Gy2kc64wv3Bz</td>\n",
       "      <td>[1Xyo4u8uXC1ZmMpatF05PJ]</td>\n",
       "      <td>[The Weeknd]</td>\n",
       "      <td>[94260543]</td>\n",
       "      <td>[96]</td>\n",
       "    </tr>\n",
       "    <tr>\n",
       "      <th>96</th>\n",
       "      <td>5KReHDo8W8w9bKTY3KxPy3</td>\n",
       "      <td>[0gadJ2b9A4SKsB1RFkBb66]</td>\n",
       "      <td>[Passenger]</td>\n",
       "      <td>[3419887]</td>\n",
       "      <td>[72]</td>\n",
       "    </tr>\n",
       "    <tr>\n",
       "      <th>97</th>\n",
       "      <td>7yq4Qj7cqayVTp3FF9CWbm</td>\n",
       "      <td>[10exVja0key0uqUkk6LJRT]</td>\n",
       "      <td>[Vance Joy]</td>\n",
       "      <td>[3199643]</td>\n",
       "      <td>[78]</td>\n",
       "    </tr>\n",
       "    <tr>\n",
       "      <th>98</th>\n",
       "      <td>3hRV0jL3vUpRrcy398teAU</td>\n",
       "      <td>[6ltzsmQQbmdoHHbLZ4ZN25]</td>\n",
       "      <td>[Lord Huron]</td>\n",
       "      <td>[1765546]</td>\n",
       "      <td>[78]</td>\n",
       "    </tr>\n",
       "    <tr>\n",
       "      <th>99</th>\n",
       "      <td>7gHs73wELdeycvS48JfIos</td>\n",
       "      <td>[7vk5e3vY1uw9plTHJAMwjN]</td>\n",
       "      <td>[Alan Walker]</td>\n",
       "      <td>[39725669]</td>\n",
       "      <td>[82]</td>\n",
       "    </tr>\n",
       "  </tbody>\n",
       "</table>\n",
       "<p>100 rows × 5 columns</p>\n",
       "</div>"
      ],
      "text/plain": [
       "                  track_id                                          artist_id  \\\n",
       "0   0nrRP2bk19rLc0orkWPQk2                           [1vCWHaC5f2uS3yhpwWbIA6]   \n",
       "1   7BqHUALzNBTanL6OvsqmC1   [64KEffDW9EtZ1y2vBYgq8T, 7EQ0qTo7fWT7DPxmxtSYEc]   \n",
       "2   2YWjW3wwQIBLNhxWKBQd16  [738wLrAtLtCtFOLvQBXOXp, 0bdfiayQAKewqEvaU6rXC...   \n",
       "3   0lYBSQXN6rCTvUZvg9S0lU   [540vIaP2JwjQb9dm3aArA4, 1uNFoZAHBGtllmzznpCI3s]   \n",
       "4   6v3KW9xbzN5yKLt9YKDYA2   [7n2wHs1TKAczGzO7Dd2rGr, 4nDoRrQiYLoBzwC5BhVJzF]   \n",
       "..                     ...                                                ...   \n",
       "95  2Ch7LmS7r2Gy2kc64wv3Bz                           [1Xyo4u8uXC1ZmMpatF05PJ]   \n",
       "96  5KReHDo8W8w9bKTY3KxPy3                           [0gadJ2b9A4SKsB1RFkBb66]   \n",
       "97  7yq4Qj7cqayVTp3FF9CWbm                           [10exVja0key0uqUkk6LJRT]   \n",
       "98  3hRV0jL3vUpRrcy398teAU                           [6ltzsmQQbmdoHHbLZ4ZN25]   \n",
       "99  7gHs73wELdeycvS48JfIos                           [7vk5e3vY1uw9plTHJAMwjN]   \n",
       "\n",
       "                       artist_name             artist_followers  \\\n",
       "0                         [Avicii]                   [23107521]   \n",
       "1           [Marshmello, Bastille]          [33882258, 5582338]   \n",
       "2      [Major Lazer, MØ, DJ Snake]  [6206097, 1458940, 8910877]   \n",
       "3        [DJ Snake, Justin Bieber]          [8910877, 78641625]   \n",
       "4   [Shawn Mendes, Camila Cabello]         [43635681, 34041015]   \n",
       "..                             ...                          ...   \n",
       "95                    [The Weeknd]                   [94260543]   \n",
       "96                     [Passenger]                    [3419887]   \n",
       "97                     [Vance Joy]                    [3199643]   \n",
       "98                    [Lord Huron]                    [1765546]   \n",
       "99                   [Alan Walker]                   [39725669]   \n",
       "\n",
       "   artist_popularity  \n",
       "0               [81]  \n",
       "1           [84, 76]  \n",
       "2       [77, 72, 79]  \n",
       "3           [79, 91]  \n",
       "4           [85, 82]  \n",
       "..               ...  \n",
       "95              [96]  \n",
       "96              [72]  \n",
       "97              [78]  \n",
       "98              [78]  \n",
       "99              [82]  \n",
       "\n",
       "[100 rows x 5 columns]"
      ]
     },
     "execution_count": 74,
     "metadata": {},
     "output_type": "execute_result"
    }
   ],
   "source": [
    "df_artists"
   ]
  },
  {
   "cell_type": "code",
   "execution_count": null,
   "metadata": {
    "id": "uQnwB6v5HZSh"
   },
   "outputs": [],
   "source": [
    "#merge df_bq with df_artists\n",
    "df_bq = pd.merge(df_bq, df_artists, on='track_id')"
   ]
  },
  {
   "cell_type": "code",
   "execution_count": null,
   "metadata": {
    "id": "f0PEjqOjHo9s"
   },
   "outputs": [
    {
     "name": "stderr",
     "output_type": "stream",
     "text": [
      "C:\\Users\\ramon\\AppData\\Local\\Temp\\ipykernel_48332\\3975331509.py:12: FutureWarning: to_gbq is deprecated and will be removed in a future version. Please use pandas_gbq.to_gbq instead: https://pandas-gbq.readthedocs.io/en/latest/api.html#pandas_gbq.to_gbq\n",
      "  df_artists.to_gbq(\n",
      "100%|██████████| 1/1 [00:00<?, ?it/s]"
     ]
    },
    {
     "name": "stdout",
     "output_type": "stream",
     "text": [
      "DataFrame saved to BigQuery table 'df_artists'.\n"
     ]
    },
    {
     "name": "stderr",
     "output_type": "stream",
     "text": [
      "\n"
     ]
    }
   ],
   "source": [
    "#save merged to gbq\n",
    "# Define your project ID and BigQuery table ID (including dataset name)\n",
    "project_id = 'music-recommendation-system-24'\n",
    "table_id = 'top_100.df_artists'  # Replace 'your_dataset_name' with your actual dataset name\n",
    "\n",
    "# Load the credentials from your service account file\n",
    "credentials = service_account.Credentials.from_service_account_file(\n",
    "    'd:/Users/Ramona/Desktop/music-recommendation-system-24-3d0d21fb1f8b.json'\n",
    ")\n",
    "\n",
    "# Save DataFrame to BigQuery\n",
    "df_bq.to_gbq(\n",
    "    destination_table=table_id,\n",
    "    project_id=project_id,\n",
    "    credentials=credentials,\n",
    "    if_exists='replace'  # Use 'append' to add data if the table already exists\n",
    ")\n",
    "\n",
    "print(\"DataFrame saved to BigQuery table 'df_artists'.\")"
   ]
  }
 ],
 "metadata": {
  "colab": {
   "provenance": []
  },
  "kernelspec": {
   "display_name": "Python 3",
   "name": "python3"
  },
  "language_info": {
   "codemirror_mode": {
    "name": "ipython",
    "version": 3
   },
   "file_extension": ".py",
   "mimetype": "text/x-python",
   "name": "python",
   "nbconvert_exporter": "python",
   "pygments_lexer": "ipython3",
   "version": "3.11.7"
  }
 },
 "nbformat": 4,
 "nbformat_minor": 0
}
