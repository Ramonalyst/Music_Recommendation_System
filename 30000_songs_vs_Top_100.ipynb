{
  "nbformat": 4,
  "nbformat_minor": 0,
  "metadata": {
    "colab": {
      "provenance": []
    },
    "kernelspec": {
      "name": "python3",
      "display_name": "Python 3"
    },
    "language_info": {
      "name": "python"
    }
  },
  "cells": [
    {
      "cell_type": "markdown",
      "source": [
        "# Loading the data\n"
      ],
      "metadata": {
        "id": "CwrqSXTnGI1d"
      }
    },
    {
      "cell_type": "code",
      "execution_count": 2,
      "metadata": {
        "id": "B-r3w_JV96zi"
      },
      "outputs": [],
      "source": [
        "import pandas as pd\n",
        "import plotly.express as px\n",
        "from plotly.subplots import make_subplots\n"
      ]
    },
    {
      "cell_type": "code",
      "source": [
        "import matplotlib.pyplot as plt\n",
        "import numpy as np\n",
        "import seaborn as sns"
      ],
      "metadata": {
        "id": "ltRCFSjf-9G_"
      },
      "execution_count": 3,
      "outputs": []
    },
    {
      "cell_type": "code",
      "source": [
        "from google.colab import drive\n",
        "drive.mount('/content/drive')"
      ],
      "metadata": {
        "colab": {
          "base_uri": "https://localhost:8080/"
        },
        "id": "7JKuW_N_FE8m",
        "outputId": "5a39d896-dbb2-40fa-8436-cbad51ae64b1"
      },
      "execution_count": 4,
      "outputs": [
        {
          "output_type": "stream",
          "name": "stdout",
          "text": [
            "Mounted at /content/drive\n"
          ]
        }
      ]
    },
    {
      "cell_type": "code",
      "source": [
        "df_top_100 = pd.read_csv('/content/drive/MyDrive/2024_spotify_top_100_cleaned.csv')\n",
        "df_30000_songs = pd.read_csv('/content/drive/MyDrive/spotify_songs_cleaned_V1 (1).csv')"
      ],
      "metadata": {
        "id": "DgZRNRmZ_Q6F"
      },
      "execution_count": 5,
      "outputs": []
    },
    {
      "cell_type": "markdown",
      "source": [
        "# Data Exploration\n"
      ],
      "metadata": {
        "id": "xM-PJjIHGOpS"
      }
    },
    {
      "cell_type": "code",
      "source": [
        "df_top_100.shape"
      ],
      "metadata": {
        "colab": {
          "base_uri": "https://localhost:8080/"
        },
        "id": "0Aggq2n2GUqY",
        "outputId": "7c0abb98-ce11-4735-861e-84a35420581f"
      },
      "execution_count": 6,
      "outputs": [
        {
          "output_type": "execute_result",
          "data": {
            "text/plain": [
              "(100, 21)"
            ]
          },
          "metadata": {},
          "execution_count": 6
        }
      ]
    },
    {
      "cell_type": "code",
      "source": [
        "df_30000_songs.shape"
      ],
      "metadata": {
        "colab": {
          "base_uri": "https://localhost:8080/"
        },
        "id": "Qk5pWeT3GuY9",
        "outputId": "47f562db-3b4d-4649-c914-2aafd4f24e4b"
      },
      "execution_count": 7,
      "outputs": [
        {
          "output_type": "execute_result",
          "data": {
            "text/plain": [
              "(32833, 23)"
            ]
          },
          "metadata": {},
          "execution_count": 7
        }
      ]
    },
    {
      "cell_type": "code",
      "source": [
        "print(df_top_100.columns)"
      ],
      "metadata": {
        "colab": {
          "base_uri": "https://localhost:8080/"
        },
        "id": "k67LlZKjG2rp",
        "outputId": "a360d722-72eb-4929-84c2-3df33f36c9cb"
      },
      "execution_count": 8,
      "outputs": [
        {
          "output_type": "stream",
          "name": "stdout",
          "text": [
            "Index(['track_id', 'track_name', 'track_artist', 'track_popularity',\n",
            "       'track_album_name', 'track_album_release_year', 'duration_min',\n",
            "       'genres', 'record_label', 'danceability', 'energy', 'key_name',\n",
            "       'loudness', 'mode', 'speechiness', 'acousticness', 'instrumentalness',\n",
            "       'liveness', 'valence', 'tempo', 'time_signature'],\n",
            "      dtype='object')\n"
          ]
        }
      ]
    },
    {
      "cell_type": "code",
      "source": [
        "print(df_30000_songs.columns)"
      ],
      "metadata": {
        "colab": {
          "base_uri": "https://localhost:8080/"
        },
        "id": "sYz4tk1tG-pQ",
        "outputId": "00af5ed4-bb6b-4448-c5a7-143862044ddf"
      },
      "execution_count": 9,
      "outputs": [
        {
          "output_type": "stream",
          "name": "stdout",
          "text": [
            "Index(['track_id', 'track_name', 'track_artist', 'track_popularity',\n",
            "       'track_album_id', 'track_album_name', 'track_album_release_year',\n",
            "       'playlist_name', 'playlist_id', 'playlist_genre', 'playlist_subgenre',\n",
            "       'danceability', 'energy', 'key_name', 'loudness', 'mode', 'speechiness',\n",
            "       'acousticness', 'instrumentalness', 'liveness', 'valence', 'tempo',\n",
            "       'duration_ms'],\n",
            "      dtype='object')\n"
          ]
        }
      ]
    },
    {
      "cell_type": "code",
      "source": [
        "df_top_100.info()"
      ],
      "metadata": {
        "colab": {
          "base_uri": "https://localhost:8080/"
        },
        "id": "FMyy76RJHZXE",
        "outputId": "3a9f6d1e-113a-44a5-f38e-cbff50877d5d"
      },
      "execution_count": 10,
      "outputs": [
        {
          "output_type": "stream",
          "name": "stdout",
          "text": [
            "<class 'pandas.core.frame.DataFrame'>\n",
            "RangeIndex: 100 entries, 0 to 99\n",
            "Data columns (total 21 columns):\n",
            " #   Column                    Non-Null Count  Dtype  \n",
            "---  ------                    --------------  -----  \n",
            " 0   track_id                  100 non-null    object \n",
            " 1   track_name                100 non-null    object \n",
            " 2   track_artist              100 non-null    object \n",
            " 3   track_popularity          100 non-null    int64  \n",
            " 4   track_album_name          100 non-null    object \n",
            " 5   track_album_release_year  100 non-null    int64  \n",
            " 6   duration_min              100 non-null    float64\n",
            " 7   genres                    100 non-null    object \n",
            " 8   record_label              100 non-null    object \n",
            " 9   danceability              100 non-null    object \n",
            " 10  energy                    100 non-null    object \n",
            " 11  key_name                  100 non-null    object \n",
            " 12  loudness                  100 non-null    float64\n",
            " 13  mode                      100 non-null    object \n",
            " 14  speechiness               100 non-null    object \n",
            " 15  acousticness              100 non-null    object \n",
            " 16  instrumentalness          100 non-null    object \n",
            " 17  liveness                  100 non-null    object \n",
            " 18  valence                   100 non-null    object \n",
            " 19  tempo                     100 non-null    float64\n",
            " 20  time_signature            100 non-null    int64  \n",
            "dtypes: float64(3), int64(3), object(15)\n",
            "memory usage: 16.5+ KB\n"
          ]
        }
      ]
    },
    {
      "cell_type": "code",
      "source": [
        "df_30000_songs.info()"
      ],
      "metadata": {
        "colab": {
          "base_uri": "https://localhost:8080/"
        },
        "id": "AMHs3GaAHfbE",
        "outputId": "171f2b06-12da-455a-8858-94419ac6bbe5"
      },
      "execution_count": 11,
      "outputs": [
        {
          "output_type": "stream",
          "name": "stdout",
          "text": [
            "<class 'pandas.core.frame.DataFrame'>\n",
            "RangeIndex: 32833 entries, 0 to 32832\n",
            "Data columns (total 23 columns):\n",
            " #   Column                    Non-Null Count  Dtype  \n",
            "---  ------                    --------------  -----  \n",
            " 0   track_id                  32833 non-null  object \n",
            " 1   track_name                32828 non-null  object \n",
            " 2   track_artist              32828 non-null  object \n",
            " 3   track_popularity          32833 non-null  int64  \n",
            " 4   track_album_id            32833 non-null  object \n",
            " 5   track_album_name          32828 non-null  object \n",
            " 6   track_album_release_year  32833 non-null  int64  \n",
            " 7   playlist_name             32833 non-null  object \n",
            " 8   playlist_id               32833 non-null  object \n",
            " 9   playlist_genre            32833 non-null  object \n",
            " 10  playlist_subgenre         32833 non-null  object \n",
            " 11  danceability              32833 non-null  object \n",
            " 12  energy                    32833 non-null  object \n",
            " 13  key_name                  32833 non-null  object \n",
            " 14  loudness                  32833 non-null  float64\n",
            " 15  mode                      32833 non-null  object \n",
            " 16  speechiness               32833 non-null  object \n",
            " 17  acousticness              32833 non-null  object \n",
            " 18  instrumentalness          32833 non-null  object \n",
            " 19  liveness                  32833 non-null  object \n",
            " 20  valence                   32833 non-null  object \n",
            " 21  tempo                     32833 non-null  int64  \n",
            " 22  duration_ms               32833 non-null  int64  \n",
            "dtypes: float64(1), int64(4), object(18)\n",
            "memory usage: 5.8+ MB\n"
          ]
        }
      ]
    },
    {
      "cell_type": "markdown",
      "source": [
        "# Data Cleaning"
      ],
      "metadata": {
        "id": "sB7bq3I4M8Bs"
      }
    },
    {
      "cell_type": "code",
      "source": [
        "for feature in [\"valence\", \"danceability\", \"loudness\", \"energy\", \"acousticness\", \"instrumentalness\", \"liveness\", \"speechiness\"]:\n",
        "  df_top_100[feature] = df_top_100[feature].astype(str).str.replace('%', '').str.replace(',', '.')\n",
        "\n",
        "  df_top_100[feature] = pd.to_numeric(df_top_100[feature], errors='coerce')"
      ],
      "metadata": {
        "id": "aNZT1jNcMI5z"
      },
      "execution_count": 12,
      "outputs": []
    },
    {
      "cell_type": "code",
      "source": [
        "df_top_100.info()"
      ],
      "metadata": {
        "colab": {
          "base_uri": "https://localhost:8080/"
        },
        "id": "OwI_Ua3iMxvN",
        "outputId": "c140a83e-5c4e-4162-da21-4267f4d6a919"
      },
      "execution_count": 13,
      "outputs": [
        {
          "output_type": "stream",
          "name": "stdout",
          "text": [
            "<class 'pandas.core.frame.DataFrame'>\n",
            "RangeIndex: 100 entries, 0 to 99\n",
            "Data columns (total 21 columns):\n",
            " #   Column                    Non-Null Count  Dtype  \n",
            "---  ------                    --------------  -----  \n",
            " 0   track_id                  100 non-null    object \n",
            " 1   track_name                100 non-null    object \n",
            " 2   track_artist              100 non-null    object \n",
            " 3   track_popularity          100 non-null    int64  \n",
            " 4   track_album_name          100 non-null    object \n",
            " 5   track_album_release_year  100 non-null    int64  \n",
            " 6   duration_min              100 non-null    float64\n",
            " 7   genres                    100 non-null    object \n",
            " 8   record_label              100 non-null    object \n",
            " 9   danceability              100 non-null    float64\n",
            " 10  energy                    100 non-null    float64\n",
            " 11  key_name                  100 non-null    object \n",
            " 12  loudness                  100 non-null    float64\n",
            " 13  mode                      100 non-null    object \n",
            " 14  speechiness               100 non-null    float64\n",
            " 15  acousticness              100 non-null    float64\n",
            " 16  instrumentalness          100 non-null    float64\n",
            " 17  liveness                  100 non-null    float64\n",
            " 18  valence                   100 non-null    float64\n",
            " 19  tempo                     100 non-null    float64\n",
            " 20  time_signature            100 non-null    int64  \n",
            "dtypes: float64(10), int64(3), object(8)\n",
            "memory usage: 16.5+ KB\n"
          ]
        }
      ]
    },
    {
      "cell_type": "code",
      "source": [
        "for feature in [\"valence\", \"danceability\", \"loudness\", \"energy\", \"acousticness\", \"instrumentalness\", \"liveness\", \"speechiness\"]:\n",
        "  df_30000_songs[feature] = df_30000_songs[feature].astype(str).str.replace('%', '').str.replace(',', '.')\n",
        "\n",
        "  df_30000_songs[feature] = pd.to_numeric(df_30000_songs[feature], errors='coerce')"
      ],
      "metadata": {
        "id": "fX31CfnMM3_u"
      },
      "execution_count": 14,
      "outputs": []
    },
    {
      "cell_type": "code",
      "source": [
        "df_30000_songs.info()"
      ],
      "metadata": {
        "colab": {
          "base_uri": "https://localhost:8080/"
        },
        "id": "WBR_9O2XNR2l",
        "outputId": "3bd6adba-c520-4c37-87fa-aacd237ad049"
      },
      "execution_count": 15,
      "outputs": [
        {
          "output_type": "stream",
          "name": "stdout",
          "text": [
            "<class 'pandas.core.frame.DataFrame'>\n",
            "RangeIndex: 32833 entries, 0 to 32832\n",
            "Data columns (total 23 columns):\n",
            " #   Column                    Non-Null Count  Dtype  \n",
            "---  ------                    --------------  -----  \n",
            " 0   track_id                  32833 non-null  object \n",
            " 1   track_name                32828 non-null  object \n",
            " 2   track_artist              32828 non-null  object \n",
            " 3   track_popularity          32833 non-null  int64  \n",
            " 4   track_album_id            32833 non-null  object \n",
            " 5   track_album_name          32828 non-null  object \n",
            " 6   track_album_release_year  32833 non-null  int64  \n",
            " 7   playlist_name             32833 non-null  object \n",
            " 8   playlist_id               32833 non-null  object \n",
            " 9   playlist_genre            32833 non-null  object \n",
            " 10  playlist_subgenre         32833 non-null  object \n",
            " 11  danceability              32833 non-null  float64\n",
            " 12  energy                    32833 non-null  float64\n",
            " 13  key_name                  32833 non-null  object \n",
            " 14  loudness                  32833 non-null  float64\n",
            " 15  mode                      32833 non-null  object \n",
            " 16  speechiness               32833 non-null  float64\n",
            " 17  acousticness              32833 non-null  float64\n",
            " 18  instrumentalness          32833 non-null  float64\n",
            " 19  liveness                  32833 non-null  float64\n",
            " 20  valence                   32833 non-null  float64\n",
            " 21  tempo                     32833 non-null  int64  \n",
            " 22  duration_ms               32833 non-null  int64  \n",
            "dtypes: float64(8), int64(4), object(11)\n",
            "memory usage: 5.8+ MB\n"
          ]
        }
      ]
    },
    {
      "cell_type": "markdown",
      "source": [
        "# Musical Features Exploration"
      ],
      "metadata": {
        "id": "g64Bi4Q2Nbim"
      }
    },
    {
      "cell_type": "markdown",
      "source": [
        "# Genres Comparison\n"
      ],
      "metadata": {
        "id": "BEPQGgQ9PyhZ"
      }
    },
    {
      "cell_type": "code",
      "source": [
        "# Compute the sorted counts for the first DataFrame\n",
        "sorted_counts_top_100 = df_top_100[\"genres\"].value_counts().sort_values(ascending=False)\n",
        "sorted_genres_top_100 = sorted_counts_top_100.index.tolist()\n",
        "\n",
        "# Compute the sorted counts for the second DataFrame\n",
        "sorted_counts_30000_songs = df_30000_songs[\"playlist_genre\"].value_counts().sort_values(ascending=False)\n",
        "sorted_genres_30000_songs = sorted_counts_30000_songs.index.tolist()\n",
        "\n",
        "# Create subplots with 1 row and 2 columns\n",
        "fig = make_subplots(rows=1, cols=2, subplot_titles=(\"Top 100 Genres Count\", \"30000 Songs Genres Count\"))\n",
        "\n",
        "# Create first bar chart (sorted) and add it to the first column\n",
        "fig_top_100 = px.bar(\n",
        "    x=sorted_genres_top_100,\n",
        "    y=sorted_counts_top_100,\n",
        "    title=\"Genres Count for Top 100\",\n",
        "    labels={'x': 'Genres', 'y': 'Count'}\n",
        ")\n",
        "for trace in fig_top_100['data']:\n",
        "    fig.add_trace(trace, row=1, col=1)\n",
        "\n",
        "# Create second bar chart (sorted) and add it to the second column\n",
        "fig_30000_songs = px.bar(\n",
        "    x=sorted_genres_30000_songs,\n",
        "    y=sorted_counts_30000_songs,\n",
        "    title=\"Genres Count for 30000 Songs\",\n",
        "    labels={'x': 'Genres', 'y': 'Count'}\n",
        ")\n",
        "for trace in fig_30000_songs['data']:\n",
        "    fig.add_trace(trace, row=1, col=2)\n",
        "\n",
        "# Update layout to fit the titles and adjust the appearance\n",
        "fig.update_layout(title_text=\"Comparison of Genres Count (Sorted by Count)\", showlegend=False)\n",
        "\n",
        "# Show the combined plot\n",
        "fig.show()"
      ],
      "metadata": {
        "colab": {
          "base_uri": "https://localhost:8080/",
          "height": 542
        },
        "id": "0_pV1ZY_NhG1",
        "outputId": "c649688f-8453-4072-c7b5-f128008a8d0d"
      },
      "execution_count": 16,
      "outputs": [
        {
          "output_type": "display_data",
          "data": {
            "text/html": [
              "<html>\n",
              "<head><meta charset=\"utf-8\" /></head>\n",
              "<body>\n",
              "    <div>            <script src=\"https://cdnjs.cloudflare.com/ajax/libs/mathjax/2.7.5/MathJax.js?config=TeX-AMS-MML_SVG\"></script><script type=\"text/javascript\">if (window.MathJax && window.MathJax.Hub && window.MathJax.Hub.Config) {window.MathJax.Hub.Config({SVG: {font: \"STIX-Web\"}});}</script>                <script type=\"text/javascript\">window.PlotlyConfig = {MathJaxConfig: 'local'};</script>\n",
              "        <script charset=\"utf-8\" src=\"https://cdn.plot.ly/plotly-2.35.2.min.js\"></script>                <div id=\"c735840a-071a-4742-9ab4-7bee26c0e800\" class=\"plotly-graph-div\" style=\"height:525px; width:100%;\"></div>            <script type=\"text/javascript\">                                    window.PLOTLYENV=window.PLOTLYENV || {};                                    if (document.getElementById(\"c735840a-071a-4742-9ab4-7bee26c0e800\")) {                    Plotly.newPlot(                        \"c735840a-071a-4742-9ab4-7bee26c0e800\",                        [{\"alignmentgroup\":\"True\",\"hovertemplate\":\"Genres=%{x}\\u003cbr\\u003eCount=%{y}\\u003cextra\\u003e\\u003c\\u002fextra\\u003e\",\"legendgroup\":\"\",\"marker\":{\"color\":\"#636efa\",\"pattern\":{\"shape\":\"\"}},\"name\":\"\",\"offsetgroup\":\"\",\"orientation\":\"v\",\"showlegend\":false,\"textposition\":\"auto\",\"x\":[\"Pop\",\"Rap\",\"Rock\",\"UK Pop\",\"Pop\\u002fR&B\",\"EDM\",\"Folk-Pop\",\"Indie Folk\",\"electro house\"],\"xaxis\":\"x\",\"y\":[30,25,17,14,6,4,2,1,1],\"yaxis\":\"y\",\"type\":\"bar\"},{\"alignmentgroup\":\"True\",\"hovertemplate\":\"Genres=%{x}\\u003cbr\\u003eCount=%{y}\\u003cextra\\u003e\\u003c\\u002fextra\\u003e\",\"legendgroup\":\"\",\"marker\":{\"color\":\"#636efa\",\"pattern\":{\"shape\":\"\"}},\"name\":\"\",\"offsetgroup\":\"\",\"orientation\":\"v\",\"showlegend\":false,\"textposition\":\"auto\",\"x\":[\"edm\",\"rap\",\"pop\",\"r&b\",\"latin\",\"rock\"],\"xaxis\":\"x2\",\"y\":[6043,5746,5507,5431,5155,4951],\"yaxis\":\"y2\",\"type\":\"bar\"}],                        {\"template\":{\"data\":{\"histogram2dcontour\":[{\"type\":\"histogram2dcontour\",\"colorbar\":{\"outlinewidth\":0,\"ticks\":\"\"},\"colorscale\":[[0.0,\"#0d0887\"],[0.1111111111111111,\"#46039f\"],[0.2222222222222222,\"#7201a8\"],[0.3333333333333333,\"#9c179e\"],[0.4444444444444444,\"#bd3786\"],[0.5555555555555556,\"#d8576b\"],[0.6666666666666666,\"#ed7953\"],[0.7777777777777778,\"#fb9f3a\"],[0.8888888888888888,\"#fdca26\"],[1.0,\"#f0f921\"]]}],\"choropleth\":[{\"type\":\"choropleth\",\"colorbar\":{\"outlinewidth\":0,\"ticks\":\"\"}}],\"histogram2d\":[{\"type\":\"histogram2d\",\"colorbar\":{\"outlinewidth\":0,\"ticks\":\"\"},\"colorscale\":[[0.0,\"#0d0887\"],[0.1111111111111111,\"#46039f\"],[0.2222222222222222,\"#7201a8\"],[0.3333333333333333,\"#9c179e\"],[0.4444444444444444,\"#bd3786\"],[0.5555555555555556,\"#d8576b\"],[0.6666666666666666,\"#ed7953\"],[0.7777777777777778,\"#fb9f3a\"],[0.8888888888888888,\"#fdca26\"],[1.0,\"#f0f921\"]]}],\"heatmap\":[{\"type\":\"heatmap\",\"colorbar\":{\"outlinewidth\":0,\"ticks\":\"\"},\"colorscale\":[[0.0,\"#0d0887\"],[0.1111111111111111,\"#46039f\"],[0.2222222222222222,\"#7201a8\"],[0.3333333333333333,\"#9c179e\"],[0.4444444444444444,\"#bd3786\"],[0.5555555555555556,\"#d8576b\"],[0.6666666666666666,\"#ed7953\"],[0.7777777777777778,\"#fb9f3a\"],[0.8888888888888888,\"#fdca26\"],[1.0,\"#f0f921\"]]}],\"heatmapgl\":[{\"type\":\"heatmapgl\",\"colorbar\":{\"outlinewidth\":0,\"ticks\":\"\"},\"colorscale\":[[0.0,\"#0d0887\"],[0.1111111111111111,\"#46039f\"],[0.2222222222222222,\"#7201a8\"],[0.3333333333333333,\"#9c179e\"],[0.4444444444444444,\"#bd3786\"],[0.5555555555555556,\"#d8576b\"],[0.6666666666666666,\"#ed7953\"],[0.7777777777777778,\"#fb9f3a\"],[0.8888888888888888,\"#fdca26\"],[1.0,\"#f0f921\"]]}],\"contourcarpet\":[{\"type\":\"contourcarpet\",\"colorbar\":{\"outlinewidth\":0,\"ticks\":\"\"}}],\"contour\":[{\"type\":\"contour\",\"colorbar\":{\"outlinewidth\":0,\"ticks\":\"\"},\"colorscale\":[[0.0,\"#0d0887\"],[0.1111111111111111,\"#46039f\"],[0.2222222222222222,\"#7201a8\"],[0.3333333333333333,\"#9c179e\"],[0.4444444444444444,\"#bd3786\"],[0.5555555555555556,\"#d8576b\"],[0.6666666666666666,\"#ed7953\"],[0.7777777777777778,\"#fb9f3a\"],[0.8888888888888888,\"#fdca26\"],[1.0,\"#f0f921\"]]}],\"surface\":[{\"type\":\"surface\",\"colorbar\":{\"outlinewidth\":0,\"ticks\":\"\"},\"colorscale\":[[0.0,\"#0d0887\"],[0.1111111111111111,\"#46039f\"],[0.2222222222222222,\"#7201a8\"],[0.3333333333333333,\"#9c179e\"],[0.4444444444444444,\"#bd3786\"],[0.5555555555555556,\"#d8576b\"],[0.6666666666666666,\"#ed7953\"],[0.7777777777777778,\"#fb9f3a\"],[0.8888888888888888,\"#fdca26\"],[1.0,\"#f0f921\"]]}],\"mesh3d\":[{\"type\":\"mesh3d\",\"colorbar\":{\"outlinewidth\":0,\"ticks\":\"\"}}],\"scatter\":[{\"fillpattern\":{\"fillmode\":\"overlay\",\"size\":10,\"solidity\":0.2},\"type\":\"scatter\"}],\"parcoords\":[{\"type\":\"parcoords\",\"line\":{\"colorbar\":{\"outlinewidth\":0,\"ticks\":\"\"}}}],\"scatterpolargl\":[{\"type\":\"scatterpolargl\",\"marker\":{\"colorbar\":{\"outlinewidth\":0,\"ticks\":\"\"}}}],\"bar\":[{\"error_x\":{\"color\":\"#2a3f5f\"},\"error_y\":{\"color\":\"#2a3f5f\"},\"marker\":{\"line\":{\"color\":\"#E5ECF6\",\"width\":0.5},\"pattern\":{\"fillmode\":\"overlay\",\"size\":10,\"solidity\":0.2}},\"type\":\"bar\"}],\"scattergeo\":[{\"type\":\"scattergeo\",\"marker\":{\"colorbar\":{\"outlinewidth\":0,\"ticks\":\"\"}}}],\"scatterpolar\":[{\"type\":\"scatterpolar\",\"marker\":{\"colorbar\":{\"outlinewidth\":0,\"ticks\":\"\"}}}],\"histogram\":[{\"marker\":{\"pattern\":{\"fillmode\":\"overlay\",\"size\":10,\"solidity\":0.2}},\"type\":\"histogram\"}],\"scattergl\":[{\"type\":\"scattergl\",\"marker\":{\"colorbar\":{\"outlinewidth\":0,\"ticks\":\"\"}}}],\"scatter3d\":[{\"type\":\"scatter3d\",\"line\":{\"colorbar\":{\"outlinewidth\":0,\"ticks\":\"\"}},\"marker\":{\"colorbar\":{\"outlinewidth\":0,\"ticks\":\"\"}}}],\"scattermapbox\":[{\"type\":\"scattermapbox\",\"marker\":{\"colorbar\":{\"outlinewidth\":0,\"ticks\":\"\"}}}],\"scatterternary\":[{\"type\":\"scatterternary\",\"marker\":{\"colorbar\":{\"outlinewidth\":0,\"ticks\":\"\"}}}],\"scattercarpet\":[{\"type\":\"scattercarpet\",\"marker\":{\"colorbar\":{\"outlinewidth\":0,\"ticks\":\"\"}}}],\"carpet\":[{\"aaxis\":{\"endlinecolor\":\"#2a3f5f\",\"gridcolor\":\"white\",\"linecolor\":\"white\",\"minorgridcolor\":\"white\",\"startlinecolor\":\"#2a3f5f\"},\"baxis\":{\"endlinecolor\":\"#2a3f5f\",\"gridcolor\":\"white\",\"linecolor\":\"white\",\"minorgridcolor\":\"white\",\"startlinecolor\":\"#2a3f5f\"},\"type\":\"carpet\"}],\"table\":[{\"cells\":{\"fill\":{\"color\":\"#EBF0F8\"},\"line\":{\"color\":\"white\"}},\"header\":{\"fill\":{\"color\":\"#C8D4E3\"},\"line\":{\"color\":\"white\"}},\"type\":\"table\"}],\"barpolar\":[{\"marker\":{\"line\":{\"color\":\"#E5ECF6\",\"width\":0.5},\"pattern\":{\"fillmode\":\"overlay\",\"size\":10,\"solidity\":0.2}},\"type\":\"barpolar\"}],\"pie\":[{\"automargin\":true,\"type\":\"pie\"}]},\"layout\":{\"autotypenumbers\":\"strict\",\"colorway\":[\"#636efa\",\"#EF553B\",\"#00cc96\",\"#ab63fa\",\"#FFA15A\",\"#19d3f3\",\"#FF6692\",\"#B6E880\",\"#FF97FF\",\"#FECB52\"],\"font\":{\"color\":\"#2a3f5f\"},\"hovermode\":\"closest\",\"hoverlabel\":{\"align\":\"left\"},\"paper_bgcolor\":\"white\",\"plot_bgcolor\":\"#E5ECF6\",\"polar\":{\"bgcolor\":\"#E5ECF6\",\"angularaxis\":{\"gridcolor\":\"white\",\"linecolor\":\"white\",\"ticks\":\"\"},\"radialaxis\":{\"gridcolor\":\"white\",\"linecolor\":\"white\",\"ticks\":\"\"}},\"ternary\":{\"bgcolor\":\"#E5ECF6\",\"aaxis\":{\"gridcolor\":\"white\",\"linecolor\":\"white\",\"ticks\":\"\"},\"baxis\":{\"gridcolor\":\"white\",\"linecolor\":\"white\",\"ticks\":\"\"},\"caxis\":{\"gridcolor\":\"white\",\"linecolor\":\"white\",\"ticks\":\"\"}},\"coloraxis\":{\"colorbar\":{\"outlinewidth\":0,\"ticks\":\"\"}},\"colorscale\":{\"sequential\":[[0.0,\"#0d0887\"],[0.1111111111111111,\"#46039f\"],[0.2222222222222222,\"#7201a8\"],[0.3333333333333333,\"#9c179e\"],[0.4444444444444444,\"#bd3786\"],[0.5555555555555556,\"#d8576b\"],[0.6666666666666666,\"#ed7953\"],[0.7777777777777778,\"#fb9f3a\"],[0.8888888888888888,\"#fdca26\"],[1.0,\"#f0f921\"]],\"sequentialminus\":[[0.0,\"#0d0887\"],[0.1111111111111111,\"#46039f\"],[0.2222222222222222,\"#7201a8\"],[0.3333333333333333,\"#9c179e\"],[0.4444444444444444,\"#bd3786\"],[0.5555555555555556,\"#d8576b\"],[0.6666666666666666,\"#ed7953\"],[0.7777777777777778,\"#fb9f3a\"],[0.8888888888888888,\"#fdca26\"],[1.0,\"#f0f921\"]],\"diverging\":[[0,\"#8e0152\"],[0.1,\"#c51b7d\"],[0.2,\"#de77ae\"],[0.3,\"#f1b6da\"],[0.4,\"#fde0ef\"],[0.5,\"#f7f7f7\"],[0.6,\"#e6f5d0\"],[0.7,\"#b8e186\"],[0.8,\"#7fbc41\"],[0.9,\"#4d9221\"],[1,\"#276419\"]]},\"xaxis\":{\"gridcolor\":\"white\",\"linecolor\":\"white\",\"ticks\":\"\",\"title\":{\"standoff\":15},\"zerolinecolor\":\"white\",\"automargin\":true,\"zerolinewidth\":2},\"yaxis\":{\"gridcolor\":\"white\",\"linecolor\":\"white\",\"ticks\":\"\",\"title\":{\"standoff\":15},\"zerolinecolor\":\"white\",\"automargin\":true,\"zerolinewidth\":2},\"scene\":{\"xaxis\":{\"backgroundcolor\":\"#E5ECF6\",\"gridcolor\":\"white\",\"linecolor\":\"white\",\"showbackground\":true,\"ticks\":\"\",\"zerolinecolor\":\"white\",\"gridwidth\":2},\"yaxis\":{\"backgroundcolor\":\"#E5ECF6\",\"gridcolor\":\"white\",\"linecolor\":\"white\",\"showbackground\":true,\"ticks\":\"\",\"zerolinecolor\":\"white\",\"gridwidth\":2},\"zaxis\":{\"backgroundcolor\":\"#E5ECF6\",\"gridcolor\":\"white\",\"linecolor\":\"white\",\"showbackground\":true,\"ticks\":\"\",\"zerolinecolor\":\"white\",\"gridwidth\":2}},\"shapedefaults\":{\"line\":{\"color\":\"#2a3f5f\"}},\"annotationdefaults\":{\"arrowcolor\":\"#2a3f5f\",\"arrowhead\":0,\"arrowwidth\":1},\"geo\":{\"bgcolor\":\"white\",\"landcolor\":\"#E5ECF6\",\"subunitcolor\":\"white\",\"showland\":true,\"showlakes\":true,\"lakecolor\":\"white\"},\"title\":{\"x\":0.05},\"mapbox\":{\"style\":\"light\"}}},\"xaxis\":{\"anchor\":\"y\",\"domain\":[0.0,0.45]},\"yaxis\":{\"anchor\":\"x\",\"domain\":[0.0,1.0]},\"xaxis2\":{\"anchor\":\"y2\",\"domain\":[0.55,1.0]},\"yaxis2\":{\"anchor\":\"x2\",\"domain\":[0.0,1.0]},\"annotations\":[{\"font\":{\"size\":16},\"showarrow\":false,\"text\":\"Top 100 Genres Count\",\"x\":0.225,\"xanchor\":\"center\",\"xref\":\"paper\",\"y\":1.0,\"yanchor\":\"bottom\",\"yref\":\"paper\"},{\"font\":{\"size\":16},\"showarrow\":false,\"text\":\"30000 Songs Genres Count\",\"x\":0.775,\"xanchor\":\"center\",\"xref\":\"paper\",\"y\":1.0,\"yanchor\":\"bottom\",\"yref\":\"paper\"}],\"title\":{\"text\":\"Comparison of Genres Count (Sorted by Count)\"},\"showlegend\":false},                        {\"responsive\": true}                    ).then(function(){\n",
              "                            \n",
              "var gd = document.getElementById('c735840a-071a-4742-9ab4-7bee26c0e800');\n",
              "var x = new MutationObserver(function (mutations, observer) {{\n",
              "        var display = window.getComputedStyle(gd).display;\n",
              "        if (!display || display === 'none') {{\n",
              "            console.log([gd, 'removed!']);\n",
              "            Plotly.purge(gd);\n",
              "            observer.disconnect();\n",
              "        }}\n",
              "}});\n",
              "\n",
              "// Listen for the removal of the full notebook cells\n",
              "var notebookContainer = gd.closest('#notebook-container');\n",
              "if (notebookContainer) {{\n",
              "    x.observe(notebookContainer, {childList: true});\n",
              "}}\n",
              "\n",
              "// Listen for the clearing of the current output cell\n",
              "var outputEl = gd.closest('.output');\n",
              "if (outputEl) {{\n",
              "    x.observe(outputEl, {childList: true});\n",
              "}}\n",
              "\n",
              "                        })                };                            </script>        </div>\n",
              "</body>\n",
              "</html>"
            ]
          },
          "metadata": {}
        }
      ]
    },
    {
      "cell_type": "markdown",
      "source": [
        "# Artist"
      ],
      "metadata": {
        "id": "TuKx68tNo-oo"
      }
    },
    {
      "cell_type": "code",
      "source": [
        "# Group and sort by artist for the Obama dataset\n",
        "grouped_by_artist_top_100 = df_top_100.groupby(\"track_artist\").count()\n",
        "top_artists_top_100 = grouped_by_artist_top_100.sort_values(\"track_name\", ascending=False).head(20)\n",
        "\n",
        "# Group and sort by artist for the Top 100 dataset\n",
        "grouped_by_artist_30000_songs = df_30000_songs.groupby(\"track_artist\").count()\n",
        "top_artists_30000_songs = grouped_by_artist_30000_songs.sort_values(\"track_name\", ascending=False).head(20)\n",
        "\n",
        "# Create subplots with 1 row and 2 columns\n",
        "fig = make_subplots(rows=1, cols=2, subplot_titles=(\"Top 20 Artists by Track Count (Top 100)\", \"Top 20 Artists by Track Count (30000 songs)\"))\n",
        "\n",
        "# Create bar chart for the Obama dataset and add to first column\n",
        "fig_obama = px.bar(\n",
        "    top_artists_top_100,\n",
        "    x=top_artists_top_100.index,\n",
        "    y=\"track_name\",\n",
        "    title=\"Top 20 Artists by Track Count (Top 100)\",\n",
        "    labels={'x': 'Artist', 'track_name': 'Track Count'}\n",
        ")\n",
        "for trace in fig_obama['data']:\n",
        "    fig.add_trace(trace, row=1, col=1)\n",
        "\n",
        "# Create bar chart for the Top 100 dataset and add to second column\n",
        "fig_top_100 = px.bar(\n",
        "    top_artists_30000_songs,\n",
        "    x=top_artists_30000_songs.index,\n",
        "    y=\"track_name\",\n",
        "    title=\"Top 20 Artists by Track Count (30000 songs)\",\n",
        "    labels={'x': 'Artist', 'track_name': 'Track Count'}\n",
        ")\n",
        "for trace in fig_top_100['data']:\n",
        "    fig.add_trace(trace, row=1, col=2)\n",
        "\n",
        "# Update layout for better readability and set y-axis range for the second plot\n",
        "fig.update_layout(\n",
        "    title_text=\"Top 20 Artists by Track Count Comparison\",\n",
        "    showlegend=False,\n",
        "    xaxis_tickangle=-45,\n",
        "    xaxis2_tickangle=-45,\n",
        "    yaxis2_range=[0, 8.5]  # Sets the y-axis range for the second plot (30 000 songs dataset) to go up to 8\n",
        ")\n",
        "\n",
        "# Show the combined plot\n",
        "fig.show()"
      ],
      "metadata": {
        "colab": {
          "base_uri": "https://localhost:8080/",
          "height": 542
        },
        "id": "wRz8TbthpEn2",
        "outputId": "d889ca95-f10b-42bd-8be9-583e01cb55ef"
      },
      "execution_count": 17,
      "outputs": [
        {
          "output_type": "display_data",
          "data": {
            "text/html": [
              "<html>\n",
              "<head><meta charset=\"utf-8\" /></head>\n",
              "<body>\n",
              "    <div>            <script src=\"https://cdnjs.cloudflare.com/ajax/libs/mathjax/2.7.5/MathJax.js?config=TeX-AMS-MML_SVG\"></script><script type=\"text/javascript\">if (window.MathJax && window.MathJax.Hub && window.MathJax.Hub.Config) {window.MathJax.Hub.Config({SVG: {font: \"STIX-Web\"}});}</script>                <script type=\"text/javascript\">window.PlotlyConfig = {MathJaxConfig: 'local'};</script>\n",
              "        <script charset=\"utf-8\" src=\"https://cdn.plot.ly/plotly-2.35.2.min.js\"></script>                <div id=\"b8e50f73-35e0-4abd-adfe-ff0ae71707c4\" class=\"plotly-graph-div\" style=\"height:525px; width:100%;\"></div>            <script type=\"text/javascript\">                                    window.PLOTLYENV=window.PLOTLYENV || {};                                    if (document.getElementById(\"b8e50f73-35e0-4abd-adfe-ff0ae71707c4\")) {                    Plotly.newPlot(                        \"b8e50f73-35e0-4abd-adfe-ff0ae71707c4\",                        [{\"alignmentgroup\":\"True\",\"hovertemplate\":\"track_artist=%{x}\\u003cbr\\u003eTrack Count=%{y}\\u003cextra\\u003e\\u003c\\u002fextra\\u003e\",\"legendgroup\":\"\",\"marker\":{\"color\":\"#636efa\",\"pattern\":{\"shape\":\"\"}},\"name\":\"\",\"offsetgroup\":\"\",\"orientation\":\"v\",\"showlegend\":false,\"textposition\":\"auto\",\"x\":[\"Ed Sheeran\",\"The Weeknd\",\"Bruno Mars\",\"Dua Lipa\",\"Imagine Dragons\",\"Coldplay\",\"Shawn Mendes\",\"Olivia Rodrigo\",\"Sam Smith\",\"Queen\",\"Harry Styles\",\"Travis Scott\",\"XXXTENTACION\",\"Arctic Monkeys\",\"Eminem\",\"Post Malone,21 Savage\",\"SZA\",\"Post Malone,Swae Lee\",\"Post Malone,Quavo\",\"Adele\"],\"xaxis\":\"x\",\"y\":[4,4,4,3,3,3,2,2,2,2,2,2,2,2,2,1,1,1,1,1],\"yaxis\":\"y\",\"type\":\"bar\"},{\"alignmentgroup\":\"True\",\"hovertemplate\":\"track_artist=%{x}\\u003cbr\\u003eTrack Count=%{y}\\u003cextra\\u003e\\u003c\\u002fextra\\u003e\",\"legendgroup\":\"\",\"marker\":{\"color\":\"#636efa\",\"pattern\":{\"shape\":\"\"}},\"name\":\"\",\"offsetgroup\":\"\",\"orientation\":\"v\",\"showlegend\":false,\"textposition\":\"auto\",\"x\":[\"Martin Garrix\",\"Queen\",\"The Chainsmokers\",\"David Guetta\",\"Don Omar\",\"Drake\",\"Dimitri Vegas & Like Mike\",\"Calvin Harris\",\"Hardwell\",\"Kygo\",\"Guns N' Roses\",\"The Weeknd\",\"Avicii\",\"J Balvin\",\"Maroon 5\",\"Ed Sheeran\",\"Major Lazer\",\"Tiësto\",\"Daddy Yankee\",\"Logic\"],\"xaxis\":\"x2\",\"y\":[161,136,123,110,102,100,93,91,84,83,79,76,74,72,71,69,67,66,66,66],\"yaxis\":\"y2\",\"type\":\"bar\"}],                        {\"template\":{\"data\":{\"histogram2dcontour\":[{\"type\":\"histogram2dcontour\",\"colorbar\":{\"outlinewidth\":0,\"ticks\":\"\"},\"colorscale\":[[0.0,\"#0d0887\"],[0.1111111111111111,\"#46039f\"],[0.2222222222222222,\"#7201a8\"],[0.3333333333333333,\"#9c179e\"],[0.4444444444444444,\"#bd3786\"],[0.5555555555555556,\"#d8576b\"],[0.6666666666666666,\"#ed7953\"],[0.7777777777777778,\"#fb9f3a\"],[0.8888888888888888,\"#fdca26\"],[1.0,\"#f0f921\"]]}],\"choropleth\":[{\"type\":\"choropleth\",\"colorbar\":{\"outlinewidth\":0,\"ticks\":\"\"}}],\"histogram2d\":[{\"type\":\"histogram2d\",\"colorbar\":{\"outlinewidth\":0,\"ticks\":\"\"},\"colorscale\":[[0.0,\"#0d0887\"],[0.1111111111111111,\"#46039f\"],[0.2222222222222222,\"#7201a8\"],[0.3333333333333333,\"#9c179e\"],[0.4444444444444444,\"#bd3786\"],[0.5555555555555556,\"#d8576b\"],[0.6666666666666666,\"#ed7953\"],[0.7777777777777778,\"#fb9f3a\"],[0.8888888888888888,\"#fdca26\"],[1.0,\"#f0f921\"]]}],\"heatmap\":[{\"type\":\"heatmap\",\"colorbar\":{\"outlinewidth\":0,\"ticks\":\"\"},\"colorscale\":[[0.0,\"#0d0887\"],[0.1111111111111111,\"#46039f\"],[0.2222222222222222,\"#7201a8\"],[0.3333333333333333,\"#9c179e\"],[0.4444444444444444,\"#bd3786\"],[0.5555555555555556,\"#d8576b\"],[0.6666666666666666,\"#ed7953\"],[0.7777777777777778,\"#fb9f3a\"],[0.8888888888888888,\"#fdca26\"],[1.0,\"#f0f921\"]]}],\"heatmapgl\":[{\"type\":\"heatmapgl\",\"colorbar\":{\"outlinewidth\":0,\"ticks\":\"\"},\"colorscale\":[[0.0,\"#0d0887\"],[0.1111111111111111,\"#46039f\"],[0.2222222222222222,\"#7201a8\"],[0.3333333333333333,\"#9c179e\"],[0.4444444444444444,\"#bd3786\"],[0.5555555555555556,\"#d8576b\"],[0.6666666666666666,\"#ed7953\"],[0.7777777777777778,\"#fb9f3a\"],[0.8888888888888888,\"#fdca26\"],[1.0,\"#f0f921\"]]}],\"contourcarpet\":[{\"type\":\"contourcarpet\",\"colorbar\":{\"outlinewidth\":0,\"ticks\":\"\"}}],\"contour\":[{\"type\":\"contour\",\"colorbar\":{\"outlinewidth\":0,\"ticks\":\"\"},\"colorscale\":[[0.0,\"#0d0887\"],[0.1111111111111111,\"#46039f\"],[0.2222222222222222,\"#7201a8\"],[0.3333333333333333,\"#9c179e\"],[0.4444444444444444,\"#bd3786\"],[0.5555555555555556,\"#d8576b\"],[0.6666666666666666,\"#ed7953\"],[0.7777777777777778,\"#fb9f3a\"],[0.8888888888888888,\"#fdca26\"],[1.0,\"#f0f921\"]]}],\"surface\":[{\"type\":\"surface\",\"colorbar\":{\"outlinewidth\":0,\"ticks\":\"\"},\"colorscale\":[[0.0,\"#0d0887\"],[0.1111111111111111,\"#46039f\"],[0.2222222222222222,\"#7201a8\"],[0.3333333333333333,\"#9c179e\"],[0.4444444444444444,\"#bd3786\"],[0.5555555555555556,\"#d8576b\"],[0.6666666666666666,\"#ed7953\"],[0.7777777777777778,\"#fb9f3a\"],[0.8888888888888888,\"#fdca26\"],[1.0,\"#f0f921\"]]}],\"mesh3d\":[{\"type\":\"mesh3d\",\"colorbar\":{\"outlinewidth\":0,\"ticks\":\"\"}}],\"scatter\":[{\"fillpattern\":{\"fillmode\":\"overlay\",\"size\":10,\"solidity\":0.2},\"type\":\"scatter\"}],\"parcoords\":[{\"type\":\"parcoords\",\"line\":{\"colorbar\":{\"outlinewidth\":0,\"ticks\":\"\"}}}],\"scatterpolargl\":[{\"type\":\"scatterpolargl\",\"marker\":{\"colorbar\":{\"outlinewidth\":0,\"ticks\":\"\"}}}],\"bar\":[{\"error_x\":{\"color\":\"#2a3f5f\"},\"error_y\":{\"color\":\"#2a3f5f\"},\"marker\":{\"line\":{\"color\":\"#E5ECF6\",\"width\":0.5},\"pattern\":{\"fillmode\":\"overlay\",\"size\":10,\"solidity\":0.2}},\"type\":\"bar\"}],\"scattergeo\":[{\"type\":\"scattergeo\",\"marker\":{\"colorbar\":{\"outlinewidth\":0,\"ticks\":\"\"}}}],\"scatterpolar\":[{\"type\":\"scatterpolar\",\"marker\":{\"colorbar\":{\"outlinewidth\":0,\"ticks\":\"\"}}}],\"histogram\":[{\"marker\":{\"pattern\":{\"fillmode\":\"overlay\",\"size\":10,\"solidity\":0.2}},\"type\":\"histogram\"}],\"scattergl\":[{\"type\":\"scattergl\",\"marker\":{\"colorbar\":{\"outlinewidth\":0,\"ticks\":\"\"}}}],\"scatter3d\":[{\"type\":\"scatter3d\",\"line\":{\"colorbar\":{\"outlinewidth\":0,\"ticks\":\"\"}},\"marker\":{\"colorbar\":{\"outlinewidth\":0,\"ticks\":\"\"}}}],\"scattermapbox\":[{\"type\":\"scattermapbox\",\"marker\":{\"colorbar\":{\"outlinewidth\":0,\"ticks\":\"\"}}}],\"scatterternary\":[{\"type\":\"scatterternary\",\"marker\":{\"colorbar\":{\"outlinewidth\":0,\"ticks\":\"\"}}}],\"scattercarpet\":[{\"type\":\"scattercarpet\",\"marker\":{\"colorbar\":{\"outlinewidth\":0,\"ticks\":\"\"}}}],\"carpet\":[{\"aaxis\":{\"endlinecolor\":\"#2a3f5f\",\"gridcolor\":\"white\",\"linecolor\":\"white\",\"minorgridcolor\":\"white\",\"startlinecolor\":\"#2a3f5f\"},\"baxis\":{\"endlinecolor\":\"#2a3f5f\",\"gridcolor\":\"white\",\"linecolor\":\"white\",\"minorgridcolor\":\"white\",\"startlinecolor\":\"#2a3f5f\"},\"type\":\"carpet\"}],\"table\":[{\"cells\":{\"fill\":{\"color\":\"#EBF0F8\"},\"line\":{\"color\":\"white\"}},\"header\":{\"fill\":{\"color\":\"#C8D4E3\"},\"line\":{\"color\":\"white\"}},\"type\":\"table\"}],\"barpolar\":[{\"marker\":{\"line\":{\"color\":\"#E5ECF6\",\"width\":0.5},\"pattern\":{\"fillmode\":\"overlay\",\"size\":10,\"solidity\":0.2}},\"type\":\"barpolar\"}],\"pie\":[{\"automargin\":true,\"type\":\"pie\"}]},\"layout\":{\"autotypenumbers\":\"strict\",\"colorway\":[\"#636efa\",\"#EF553B\",\"#00cc96\",\"#ab63fa\",\"#FFA15A\",\"#19d3f3\",\"#FF6692\",\"#B6E880\",\"#FF97FF\",\"#FECB52\"],\"font\":{\"color\":\"#2a3f5f\"},\"hovermode\":\"closest\",\"hoverlabel\":{\"align\":\"left\"},\"paper_bgcolor\":\"white\",\"plot_bgcolor\":\"#E5ECF6\",\"polar\":{\"bgcolor\":\"#E5ECF6\",\"angularaxis\":{\"gridcolor\":\"white\",\"linecolor\":\"white\",\"ticks\":\"\"},\"radialaxis\":{\"gridcolor\":\"white\",\"linecolor\":\"white\",\"ticks\":\"\"}},\"ternary\":{\"bgcolor\":\"#E5ECF6\",\"aaxis\":{\"gridcolor\":\"white\",\"linecolor\":\"white\",\"ticks\":\"\"},\"baxis\":{\"gridcolor\":\"white\",\"linecolor\":\"white\",\"ticks\":\"\"},\"caxis\":{\"gridcolor\":\"white\",\"linecolor\":\"white\",\"ticks\":\"\"}},\"coloraxis\":{\"colorbar\":{\"outlinewidth\":0,\"ticks\":\"\"}},\"colorscale\":{\"sequential\":[[0.0,\"#0d0887\"],[0.1111111111111111,\"#46039f\"],[0.2222222222222222,\"#7201a8\"],[0.3333333333333333,\"#9c179e\"],[0.4444444444444444,\"#bd3786\"],[0.5555555555555556,\"#d8576b\"],[0.6666666666666666,\"#ed7953\"],[0.7777777777777778,\"#fb9f3a\"],[0.8888888888888888,\"#fdca26\"],[1.0,\"#f0f921\"]],\"sequentialminus\":[[0.0,\"#0d0887\"],[0.1111111111111111,\"#46039f\"],[0.2222222222222222,\"#7201a8\"],[0.3333333333333333,\"#9c179e\"],[0.4444444444444444,\"#bd3786\"],[0.5555555555555556,\"#d8576b\"],[0.6666666666666666,\"#ed7953\"],[0.7777777777777778,\"#fb9f3a\"],[0.8888888888888888,\"#fdca26\"],[1.0,\"#f0f921\"]],\"diverging\":[[0,\"#8e0152\"],[0.1,\"#c51b7d\"],[0.2,\"#de77ae\"],[0.3,\"#f1b6da\"],[0.4,\"#fde0ef\"],[0.5,\"#f7f7f7\"],[0.6,\"#e6f5d0\"],[0.7,\"#b8e186\"],[0.8,\"#7fbc41\"],[0.9,\"#4d9221\"],[1,\"#276419\"]]},\"xaxis\":{\"gridcolor\":\"white\",\"linecolor\":\"white\",\"ticks\":\"\",\"title\":{\"standoff\":15},\"zerolinecolor\":\"white\",\"automargin\":true,\"zerolinewidth\":2},\"yaxis\":{\"gridcolor\":\"white\",\"linecolor\":\"white\",\"ticks\":\"\",\"title\":{\"standoff\":15},\"zerolinecolor\":\"white\",\"automargin\":true,\"zerolinewidth\":2},\"scene\":{\"xaxis\":{\"backgroundcolor\":\"#E5ECF6\",\"gridcolor\":\"white\",\"linecolor\":\"white\",\"showbackground\":true,\"ticks\":\"\",\"zerolinecolor\":\"white\",\"gridwidth\":2},\"yaxis\":{\"backgroundcolor\":\"#E5ECF6\",\"gridcolor\":\"white\",\"linecolor\":\"white\",\"showbackground\":true,\"ticks\":\"\",\"zerolinecolor\":\"white\",\"gridwidth\":2},\"zaxis\":{\"backgroundcolor\":\"#E5ECF6\",\"gridcolor\":\"white\",\"linecolor\":\"white\",\"showbackground\":true,\"ticks\":\"\",\"zerolinecolor\":\"white\",\"gridwidth\":2}},\"shapedefaults\":{\"line\":{\"color\":\"#2a3f5f\"}},\"annotationdefaults\":{\"arrowcolor\":\"#2a3f5f\",\"arrowhead\":0,\"arrowwidth\":1},\"geo\":{\"bgcolor\":\"white\",\"landcolor\":\"#E5ECF6\",\"subunitcolor\":\"white\",\"showland\":true,\"showlakes\":true,\"lakecolor\":\"white\"},\"title\":{\"x\":0.05},\"mapbox\":{\"style\":\"light\"}}},\"xaxis\":{\"anchor\":\"y\",\"domain\":[0.0,0.45],\"tickangle\":-45},\"yaxis\":{\"anchor\":\"x\",\"domain\":[0.0,1.0]},\"xaxis2\":{\"anchor\":\"y2\",\"domain\":[0.55,1.0],\"tickangle\":-45},\"yaxis2\":{\"anchor\":\"x2\",\"domain\":[0.0,1.0],\"range\":[0,8.5]},\"annotations\":[{\"font\":{\"size\":16},\"showarrow\":false,\"text\":\"Top 20 Artists by Track Count (Top 100)\",\"x\":0.225,\"xanchor\":\"center\",\"xref\":\"paper\",\"y\":1.0,\"yanchor\":\"bottom\",\"yref\":\"paper\"},{\"font\":{\"size\":16},\"showarrow\":false,\"text\":\"Top 20 Artists by Track Count (30000 songs)\",\"x\":0.775,\"xanchor\":\"center\",\"xref\":\"paper\",\"y\":1.0,\"yanchor\":\"bottom\",\"yref\":\"paper\"}],\"title\":{\"text\":\"Top 20 Artists by Track Count Comparison\"},\"showlegend\":false},                        {\"responsive\": true}                    ).then(function(){\n",
              "                            \n",
              "var gd = document.getElementById('b8e50f73-35e0-4abd-adfe-ff0ae71707c4');\n",
              "var x = new MutationObserver(function (mutations, observer) {{\n",
              "        var display = window.getComputedStyle(gd).display;\n",
              "        if (!display || display === 'none') {{\n",
              "            console.log([gd, 'removed!']);\n",
              "            Plotly.purge(gd);\n",
              "            observer.disconnect();\n",
              "        }}\n",
              "}});\n",
              "\n",
              "// Listen for the removal of the full notebook cells\n",
              "var notebookContainer = gd.closest('#notebook-container');\n",
              "if (notebookContainer) {{\n",
              "    x.observe(notebookContainer, {childList: true});\n",
              "}}\n",
              "\n",
              "// Listen for the clearing of the current output cell\n",
              "var outputEl = gd.closest('.output');\n",
              "if (outputEl) {{\n",
              "    x.observe(outputEl, {childList: true});\n",
              "}}\n",
              "\n",
              "                        })                };                            </script>        </div>\n",
              "</body>\n",
              "</html>"
            ]
          },
          "metadata": {}
        }
      ]
    },
    {
      "cell_type": "code",
      "source": [
        "print(\"The oldest song in the Top 100 streamed songs on Spotify as of 2024 is from the year\",df_top_100[\"track_album_release_year\"].min())\n",
        "print(\"The oldest song in the 30000 songs playlists is from the year\",df_30000_songs[\"track_album_release_year\"].min())"
      ],
      "metadata": {
        "colab": {
          "base_uri": "https://localhost:8080/"
        },
        "id": "2XLHI5UDJ53N",
        "outputId": "71839660-11eb-4e2d-f065-4a5e823d8c5c"
      },
      "execution_count": 18,
      "outputs": [
        {
          "output_type": "stream",
          "name": "stdout",
          "text": [
            "The oldest song in the Top 100 streamed songs on Spotify as of 2024 is from the year 1905\n",
            "The oldest song in the 30000 songs playlists is from the year 1957\n"
          ]
        }
      ]
    },
    {
      "cell_type": "code",
      "source": [
        "df_top_100[df_top_100[\"track_album_release_year\"] == 1905]"
      ],
      "metadata": {
        "colab": {
          "base_uri": "https://localhost:8080/",
          "height": 196
        },
        "id": "bz3wOF2kKQGk",
        "outputId": "fa087a0f-d04f-40c8-b869-af371645bdc3"
      },
      "execution_count": 19,
      "outputs": [
        {
          "output_type": "execute_result",
          "data": {
            "text/plain": [
              "                  track_id      track_name track_artist  track_popularity  \\\n",
              "51  003vvx7Niy0yvhvHt4a68B  Mr. Brightside  The Killers                85   \n",
              "77  60a0Rd6pjrkxjPbaKzXjfq      In the End  Linkin Park                87   \n",
              "\n",
              "                 track_album_name  track_album_release_year  duration_min  \\\n",
              "51                       Hot Fuss                      1905          3.72   \n",
              "77  Hybrid Theory (Bonus Edition)                      1905          3.61   \n",
              "\n",
              "   genres    record_label  danceability  ...  key_name loudness   mode  \\\n",
              "51   Rock  Island Records          35.2  ...        C#    -5.23  Major   \n",
              "77    Rap  Warner Records          55.6  ...        D#    -5.87  Minor   \n",
              "\n",
              "   speechiness  acousticness  instrumentalness  liveness  valence   tempo  \\\n",
              "51        7.47          0.12               0.0      9.95     23.6  148.03   \n",
              "77        5.84          0.96               0.0     20.90     40.0  105.14   \n",
              "\n",
              "    time_signature  \n",
              "51               4  \n",
              "77               4  \n",
              "\n",
              "[2 rows x 21 columns]"
            ],
            "text/html": [
              "\n",
              "  <div id=\"df-4e326e73-72b6-4a6a-9256-7bca9c0d484e\" class=\"colab-df-container\">\n",
              "    <div>\n",
              "<style scoped>\n",
              "    .dataframe tbody tr th:only-of-type {\n",
              "        vertical-align: middle;\n",
              "    }\n",
              "\n",
              "    .dataframe tbody tr th {\n",
              "        vertical-align: top;\n",
              "    }\n",
              "\n",
              "    .dataframe thead th {\n",
              "        text-align: right;\n",
              "    }\n",
              "</style>\n",
              "<table border=\"1\" class=\"dataframe\">\n",
              "  <thead>\n",
              "    <tr style=\"text-align: right;\">\n",
              "      <th></th>\n",
              "      <th>track_id</th>\n",
              "      <th>track_name</th>\n",
              "      <th>track_artist</th>\n",
              "      <th>track_popularity</th>\n",
              "      <th>track_album_name</th>\n",
              "      <th>track_album_release_year</th>\n",
              "      <th>duration_min</th>\n",
              "      <th>genres</th>\n",
              "      <th>record_label</th>\n",
              "      <th>danceability</th>\n",
              "      <th>...</th>\n",
              "      <th>key_name</th>\n",
              "      <th>loudness</th>\n",
              "      <th>mode</th>\n",
              "      <th>speechiness</th>\n",
              "      <th>acousticness</th>\n",
              "      <th>instrumentalness</th>\n",
              "      <th>liveness</th>\n",
              "      <th>valence</th>\n",
              "      <th>tempo</th>\n",
              "      <th>time_signature</th>\n",
              "    </tr>\n",
              "  </thead>\n",
              "  <tbody>\n",
              "    <tr>\n",
              "      <th>51</th>\n",
              "      <td>003vvx7Niy0yvhvHt4a68B</td>\n",
              "      <td>Mr. Brightside</td>\n",
              "      <td>The Killers</td>\n",
              "      <td>85</td>\n",
              "      <td>Hot Fuss</td>\n",
              "      <td>1905</td>\n",
              "      <td>3.72</td>\n",
              "      <td>Rock</td>\n",
              "      <td>Island Records</td>\n",
              "      <td>35.2</td>\n",
              "      <td>...</td>\n",
              "      <td>C#</td>\n",
              "      <td>-5.23</td>\n",
              "      <td>Major</td>\n",
              "      <td>7.47</td>\n",
              "      <td>0.12</td>\n",
              "      <td>0.0</td>\n",
              "      <td>9.95</td>\n",
              "      <td>23.6</td>\n",
              "      <td>148.03</td>\n",
              "      <td>4</td>\n",
              "    </tr>\n",
              "    <tr>\n",
              "      <th>77</th>\n",
              "      <td>60a0Rd6pjrkxjPbaKzXjfq</td>\n",
              "      <td>In the End</td>\n",
              "      <td>Linkin Park</td>\n",
              "      <td>87</td>\n",
              "      <td>Hybrid Theory (Bonus Edition)</td>\n",
              "      <td>1905</td>\n",
              "      <td>3.61</td>\n",
              "      <td>Rap</td>\n",
              "      <td>Warner Records</td>\n",
              "      <td>55.6</td>\n",
              "      <td>...</td>\n",
              "      <td>D#</td>\n",
              "      <td>-5.87</td>\n",
              "      <td>Minor</td>\n",
              "      <td>5.84</td>\n",
              "      <td>0.96</td>\n",
              "      <td>0.0</td>\n",
              "      <td>20.90</td>\n",
              "      <td>40.0</td>\n",
              "      <td>105.14</td>\n",
              "      <td>4</td>\n",
              "    </tr>\n",
              "  </tbody>\n",
              "</table>\n",
              "<p>2 rows × 21 columns</p>\n",
              "</div>\n",
              "    <div class=\"colab-df-buttons\">\n",
              "\n",
              "  <div class=\"colab-df-container\">\n",
              "    <button class=\"colab-df-convert\" onclick=\"convertToInteractive('df-4e326e73-72b6-4a6a-9256-7bca9c0d484e')\"\n",
              "            title=\"Convert this dataframe to an interactive table.\"\n",
              "            style=\"display:none;\">\n",
              "\n",
              "  <svg xmlns=\"http://www.w3.org/2000/svg\" height=\"24px\" viewBox=\"0 -960 960 960\">\n",
              "    <path d=\"M120-120v-720h720v720H120Zm60-500h600v-160H180v160Zm220 220h160v-160H400v160Zm0 220h160v-160H400v160ZM180-400h160v-160H180v160Zm440 0h160v-160H620v160ZM180-180h160v-160H180v160Zm440 0h160v-160H620v160Z\"/>\n",
              "  </svg>\n",
              "    </button>\n",
              "\n",
              "  <style>\n",
              "    .colab-df-container {\n",
              "      display:flex;\n",
              "      gap: 12px;\n",
              "    }\n",
              "\n",
              "    .colab-df-convert {\n",
              "      background-color: #E8F0FE;\n",
              "      border: none;\n",
              "      border-radius: 50%;\n",
              "      cursor: pointer;\n",
              "      display: none;\n",
              "      fill: #1967D2;\n",
              "      height: 32px;\n",
              "      padding: 0 0 0 0;\n",
              "      width: 32px;\n",
              "    }\n",
              "\n",
              "    .colab-df-convert:hover {\n",
              "      background-color: #E2EBFA;\n",
              "      box-shadow: 0px 1px 2px rgba(60, 64, 67, 0.3), 0px 1px 3px 1px rgba(60, 64, 67, 0.15);\n",
              "      fill: #174EA6;\n",
              "    }\n",
              "\n",
              "    .colab-df-buttons div {\n",
              "      margin-bottom: 4px;\n",
              "    }\n",
              "\n",
              "    [theme=dark] .colab-df-convert {\n",
              "      background-color: #3B4455;\n",
              "      fill: #D2E3FC;\n",
              "    }\n",
              "\n",
              "    [theme=dark] .colab-df-convert:hover {\n",
              "      background-color: #434B5C;\n",
              "      box-shadow: 0px 1px 3px 1px rgba(0, 0, 0, 0.15);\n",
              "      filter: drop-shadow(0px 1px 2px rgba(0, 0, 0, 0.3));\n",
              "      fill: #FFFFFF;\n",
              "    }\n",
              "  </style>\n",
              "\n",
              "    <script>\n",
              "      const buttonEl =\n",
              "        document.querySelector('#df-4e326e73-72b6-4a6a-9256-7bca9c0d484e button.colab-df-convert');\n",
              "      buttonEl.style.display =\n",
              "        google.colab.kernel.accessAllowed ? 'block' : 'none';\n",
              "\n",
              "      async function convertToInteractive(key) {\n",
              "        const element = document.querySelector('#df-4e326e73-72b6-4a6a-9256-7bca9c0d484e');\n",
              "        const dataTable =\n",
              "          await google.colab.kernel.invokeFunction('convertToInteractive',\n",
              "                                                    [key], {});\n",
              "        if (!dataTable) return;\n",
              "\n",
              "        const docLinkHtml = 'Like what you see? Visit the ' +\n",
              "          '<a target=\"_blank\" href=https://colab.research.google.com/notebooks/data_table.ipynb>data table notebook</a>'\n",
              "          + ' to learn more about interactive tables.';\n",
              "        element.innerHTML = '';\n",
              "        dataTable['output_type'] = 'display_data';\n",
              "        await google.colab.output.renderOutput(dataTable, element);\n",
              "        const docLink = document.createElement('div');\n",
              "        docLink.innerHTML = docLinkHtml;\n",
              "        element.appendChild(docLink);\n",
              "      }\n",
              "    </script>\n",
              "  </div>\n",
              "\n",
              "\n",
              "<div id=\"df-01861dbd-c891-4f85-8711-e3d0b65b8184\">\n",
              "  <button class=\"colab-df-quickchart\" onclick=\"quickchart('df-01861dbd-c891-4f85-8711-e3d0b65b8184')\"\n",
              "            title=\"Suggest charts\"\n",
              "            style=\"display:none;\">\n",
              "\n",
              "<svg xmlns=\"http://www.w3.org/2000/svg\" height=\"24px\"viewBox=\"0 0 24 24\"\n",
              "     width=\"24px\">\n",
              "    <g>\n",
              "        <path d=\"M19 3H5c-1.1 0-2 .9-2 2v14c0 1.1.9 2 2 2h14c1.1 0 2-.9 2-2V5c0-1.1-.9-2-2-2zM9 17H7v-7h2v7zm4 0h-2V7h2v10zm4 0h-2v-4h2v4z\"/>\n",
              "    </g>\n",
              "</svg>\n",
              "  </button>\n",
              "\n",
              "<style>\n",
              "  .colab-df-quickchart {\n",
              "      --bg-color: #E8F0FE;\n",
              "      --fill-color: #1967D2;\n",
              "      --hover-bg-color: #E2EBFA;\n",
              "      --hover-fill-color: #174EA6;\n",
              "      --disabled-fill-color: #AAA;\n",
              "      --disabled-bg-color: #DDD;\n",
              "  }\n",
              "\n",
              "  [theme=dark] .colab-df-quickchart {\n",
              "      --bg-color: #3B4455;\n",
              "      --fill-color: #D2E3FC;\n",
              "      --hover-bg-color: #434B5C;\n",
              "      --hover-fill-color: #FFFFFF;\n",
              "      --disabled-bg-color: #3B4455;\n",
              "      --disabled-fill-color: #666;\n",
              "  }\n",
              "\n",
              "  .colab-df-quickchart {\n",
              "    background-color: var(--bg-color);\n",
              "    border: none;\n",
              "    border-radius: 50%;\n",
              "    cursor: pointer;\n",
              "    display: none;\n",
              "    fill: var(--fill-color);\n",
              "    height: 32px;\n",
              "    padding: 0;\n",
              "    width: 32px;\n",
              "  }\n",
              "\n",
              "  .colab-df-quickchart:hover {\n",
              "    background-color: var(--hover-bg-color);\n",
              "    box-shadow: 0 1px 2px rgba(60, 64, 67, 0.3), 0 1px 3px 1px rgba(60, 64, 67, 0.15);\n",
              "    fill: var(--button-hover-fill-color);\n",
              "  }\n",
              "\n",
              "  .colab-df-quickchart-complete:disabled,\n",
              "  .colab-df-quickchart-complete:disabled:hover {\n",
              "    background-color: var(--disabled-bg-color);\n",
              "    fill: var(--disabled-fill-color);\n",
              "    box-shadow: none;\n",
              "  }\n",
              "\n",
              "  .colab-df-spinner {\n",
              "    border: 2px solid var(--fill-color);\n",
              "    border-color: transparent;\n",
              "    border-bottom-color: var(--fill-color);\n",
              "    animation:\n",
              "      spin 1s steps(1) infinite;\n",
              "  }\n",
              "\n",
              "  @keyframes spin {\n",
              "    0% {\n",
              "      border-color: transparent;\n",
              "      border-bottom-color: var(--fill-color);\n",
              "      border-left-color: var(--fill-color);\n",
              "    }\n",
              "    20% {\n",
              "      border-color: transparent;\n",
              "      border-left-color: var(--fill-color);\n",
              "      border-top-color: var(--fill-color);\n",
              "    }\n",
              "    30% {\n",
              "      border-color: transparent;\n",
              "      border-left-color: var(--fill-color);\n",
              "      border-top-color: var(--fill-color);\n",
              "      border-right-color: var(--fill-color);\n",
              "    }\n",
              "    40% {\n",
              "      border-color: transparent;\n",
              "      border-right-color: var(--fill-color);\n",
              "      border-top-color: var(--fill-color);\n",
              "    }\n",
              "    60% {\n",
              "      border-color: transparent;\n",
              "      border-right-color: var(--fill-color);\n",
              "    }\n",
              "    80% {\n",
              "      border-color: transparent;\n",
              "      border-right-color: var(--fill-color);\n",
              "      border-bottom-color: var(--fill-color);\n",
              "    }\n",
              "    90% {\n",
              "      border-color: transparent;\n",
              "      border-bottom-color: var(--fill-color);\n",
              "    }\n",
              "  }\n",
              "</style>\n",
              "\n",
              "  <script>\n",
              "    async function quickchart(key) {\n",
              "      const quickchartButtonEl =\n",
              "        document.querySelector('#' + key + ' button');\n",
              "      quickchartButtonEl.disabled = true;  // To prevent multiple clicks.\n",
              "      quickchartButtonEl.classList.add('colab-df-spinner');\n",
              "      try {\n",
              "        const charts = await google.colab.kernel.invokeFunction(\n",
              "            'suggestCharts', [key], {});\n",
              "      } catch (error) {\n",
              "        console.error('Error during call to suggestCharts:', error);\n",
              "      }\n",
              "      quickchartButtonEl.classList.remove('colab-df-spinner');\n",
              "      quickchartButtonEl.classList.add('colab-df-quickchart-complete');\n",
              "    }\n",
              "    (() => {\n",
              "      let quickchartButtonEl =\n",
              "        document.querySelector('#df-01861dbd-c891-4f85-8711-e3d0b65b8184 button');\n",
              "      quickchartButtonEl.style.display =\n",
              "        google.colab.kernel.accessAllowed ? 'block' : 'none';\n",
              "    })();\n",
              "  </script>\n",
              "</div>\n",
              "\n",
              "    </div>\n",
              "  </div>\n"
            ],
            "application/vnd.google.colaboratory.intrinsic+json": {
              "type": "dataframe"
            }
          },
          "metadata": {},
          "execution_count": 19
        }
      ]
    },
    {
      "cell_type": "code",
      "source": [
        "df_top_100.loc[df_top_100[\"track_name\"] == \"Mr. Brightside\", \"track_album_release_year\"] = 2004\n",
        "df_top_100.loc[df_top_100[\"track_name\"] == \"In the End\", \"track_album_release_year\"] = 2000"
      ],
      "metadata": {
        "id": "gT7xmT4TKXv2"
      },
      "execution_count": 20,
      "outputs": []
    },
    {
      "cell_type": "code",
      "source": [
        "df_top_100[df_top_100[\"track_album_release_year\"] == 1978]"
      ],
      "metadata": {
        "colab": {
          "base_uri": "https://localhost:8080/",
          "height": 182
        },
        "id": "L67dXAtkKdI4",
        "outputId": "931383d6-608d-4b6c-a351-b31e95114d95"
      },
      "execution_count": 21,
      "outputs": [
        {
          "output_type": "execute_result",
          "data": {
            "text/plain": [
              "                  track_id                           track_name track_artist  \\\n",
              "87  5T8EDUDqKcs6OSOwEsfqG7  Don't Stop Me Now - Remastered 2011        Queen   \n",
              "\n",
              "    track_popularity      track_album_name  track_album_release_year  \\\n",
              "87                81  Jazz (2011 Remaster)                      1978   \n",
              "\n",
              "    duration_min genres record_label  danceability  ...  key_name loudness  \\\n",
              "87          3.49   Rock          EMI          55.9  ...         F   -5.276   \n",
              "\n",
              "     mode speechiness  acousticness  instrumentalness  liveness  valence  \\\n",
              "87  Major        17.0          4.75              0.02      77.6     60.9   \n",
              "\n",
              "    tempo  time_signature  \n",
              "87  156.3               4  \n",
              "\n",
              "[1 rows x 21 columns]"
            ],
            "text/html": [
              "\n",
              "  <div id=\"df-6765f2d1-3bb5-45f0-bf7f-a447855cef20\" class=\"colab-df-container\">\n",
              "    <div>\n",
              "<style scoped>\n",
              "    .dataframe tbody tr th:only-of-type {\n",
              "        vertical-align: middle;\n",
              "    }\n",
              "\n",
              "    .dataframe tbody tr th {\n",
              "        vertical-align: top;\n",
              "    }\n",
              "\n",
              "    .dataframe thead th {\n",
              "        text-align: right;\n",
              "    }\n",
              "</style>\n",
              "<table border=\"1\" class=\"dataframe\">\n",
              "  <thead>\n",
              "    <tr style=\"text-align: right;\">\n",
              "      <th></th>\n",
              "      <th>track_id</th>\n",
              "      <th>track_name</th>\n",
              "      <th>track_artist</th>\n",
              "      <th>track_popularity</th>\n",
              "      <th>track_album_name</th>\n",
              "      <th>track_album_release_year</th>\n",
              "      <th>duration_min</th>\n",
              "      <th>genres</th>\n",
              "      <th>record_label</th>\n",
              "      <th>danceability</th>\n",
              "      <th>...</th>\n",
              "      <th>key_name</th>\n",
              "      <th>loudness</th>\n",
              "      <th>mode</th>\n",
              "      <th>speechiness</th>\n",
              "      <th>acousticness</th>\n",
              "      <th>instrumentalness</th>\n",
              "      <th>liveness</th>\n",
              "      <th>valence</th>\n",
              "      <th>tempo</th>\n",
              "      <th>time_signature</th>\n",
              "    </tr>\n",
              "  </thead>\n",
              "  <tbody>\n",
              "    <tr>\n",
              "      <th>87</th>\n",
              "      <td>5T8EDUDqKcs6OSOwEsfqG7</td>\n",
              "      <td>Don't Stop Me Now - Remastered 2011</td>\n",
              "      <td>Queen</td>\n",
              "      <td>81</td>\n",
              "      <td>Jazz (2011 Remaster)</td>\n",
              "      <td>1978</td>\n",
              "      <td>3.49</td>\n",
              "      <td>Rock</td>\n",
              "      <td>EMI</td>\n",
              "      <td>55.9</td>\n",
              "      <td>...</td>\n",
              "      <td>F</td>\n",
              "      <td>-5.276</td>\n",
              "      <td>Major</td>\n",
              "      <td>17.0</td>\n",
              "      <td>4.75</td>\n",
              "      <td>0.02</td>\n",
              "      <td>77.6</td>\n",
              "      <td>60.9</td>\n",
              "      <td>156.3</td>\n",
              "      <td>4</td>\n",
              "    </tr>\n",
              "  </tbody>\n",
              "</table>\n",
              "<p>1 rows × 21 columns</p>\n",
              "</div>\n",
              "    <div class=\"colab-df-buttons\">\n",
              "\n",
              "  <div class=\"colab-df-container\">\n",
              "    <button class=\"colab-df-convert\" onclick=\"convertToInteractive('df-6765f2d1-3bb5-45f0-bf7f-a447855cef20')\"\n",
              "            title=\"Convert this dataframe to an interactive table.\"\n",
              "            style=\"display:none;\">\n",
              "\n",
              "  <svg xmlns=\"http://www.w3.org/2000/svg\" height=\"24px\" viewBox=\"0 -960 960 960\">\n",
              "    <path d=\"M120-120v-720h720v720H120Zm60-500h600v-160H180v160Zm220 220h160v-160H400v160Zm0 220h160v-160H400v160ZM180-400h160v-160H180v160Zm440 0h160v-160H620v160ZM180-180h160v-160H180v160Zm440 0h160v-160H620v160Z\"/>\n",
              "  </svg>\n",
              "    </button>\n",
              "\n",
              "  <style>\n",
              "    .colab-df-container {\n",
              "      display:flex;\n",
              "      gap: 12px;\n",
              "    }\n",
              "\n",
              "    .colab-df-convert {\n",
              "      background-color: #E8F0FE;\n",
              "      border: none;\n",
              "      border-radius: 50%;\n",
              "      cursor: pointer;\n",
              "      display: none;\n",
              "      fill: #1967D2;\n",
              "      height: 32px;\n",
              "      padding: 0 0 0 0;\n",
              "      width: 32px;\n",
              "    }\n",
              "\n",
              "    .colab-df-convert:hover {\n",
              "      background-color: #E2EBFA;\n",
              "      box-shadow: 0px 1px 2px rgba(60, 64, 67, 0.3), 0px 1px 3px 1px rgba(60, 64, 67, 0.15);\n",
              "      fill: #174EA6;\n",
              "    }\n",
              "\n",
              "    .colab-df-buttons div {\n",
              "      margin-bottom: 4px;\n",
              "    }\n",
              "\n",
              "    [theme=dark] .colab-df-convert {\n",
              "      background-color: #3B4455;\n",
              "      fill: #D2E3FC;\n",
              "    }\n",
              "\n",
              "    [theme=dark] .colab-df-convert:hover {\n",
              "      background-color: #434B5C;\n",
              "      box-shadow: 0px 1px 3px 1px rgba(0, 0, 0, 0.15);\n",
              "      filter: drop-shadow(0px 1px 2px rgba(0, 0, 0, 0.3));\n",
              "      fill: #FFFFFF;\n",
              "    }\n",
              "  </style>\n",
              "\n",
              "    <script>\n",
              "      const buttonEl =\n",
              "        document.querySelector('#df-6765f2d1-3bb5-45f0-bf7f-a447855cef20 button.colab-df-convert');\n",
              "      buttonEl.style.display =\n",
              "        google.colab.kernel.accessAllowed ? 'block' : 'none';\n",
              "\n",
              "      async function convertToInteractive(key) {\n",
              "        const element = document.querySelector('#df-6765f2d1-3bb5-45f0-bf7f-a447855cef20');\n",
              "        const dataTable =\n",
              "          await google.colab.kernel.invokeFunction('convertToInteractive',\n",
              "                                                    [key], {});\n",
              "        if (!dataTable) return;\n",
              "\n",
              "        const docLinkHtml = 'Like what you see? Visit the ' +\n",
              "          '<a target=\"_blank\" href=https://colab.research.google.com/notebooks/data_table.ipynb>data table notebook</a>'\n",
              "          + ' to learn more about interactive tables.';\n",
              "        element.innerHTML = '';\n",
              "        dataTable['output_type'] = 'display_data';\n",
              "        await google.colab.output.renderOutput(dataTable, element);\n",
              "        const docLink = document.createElement('div');\n",
              "        docLink.innerHTML = docLinkHtml;\n",
              "        element.appendChild(docLink);\n",
              "      }\n",
              "    </script>\n",
              "  </div>\n",
              "\n",
              "\n",
              "    </div>\n",
              "  </div>\n"
            ],
            "application/vnd.google.colaboratory.intrinsic+json": {
              "type": "dataframe"
            }
          },
          "metadata": {},
          "execution_count": 21
        }
      ]
    },
    {
      "cell_type": "code",
      "source": [
        "df_30000_songs[df_30000_songs[\"track_album_release_year\"] == 1957]"
      ],
      "metadata": {
        "colab": {
          "base_uri": "https://localhost:8080/",
          "height": 248
        },
        "id": "inroFhnVKivP",
        "outputId": "5edd88f0-c602-4f5c-aa16-6da96d417f07"
      },
      "execution_count": 22,
      "outputs": [
        {
          "output_type": "execute_result",
          "data": {
            "text/plain": [
              "                     track_id                   track_name    track_artist  \\\n",
              "13408  6qb0O5HW7H4q6R0AbP38Ko  Long Tall Sally (The Thing)  Little Richard   \n",
              "22723  7DJsL4jyXA39GDiHFQYQ0t                  Mess Around     Ray Charles   \n",
              "\n",
              "       track_popularity          track_album_id  \\\n",
              "13408                 1  4CfyfJWb1HSabAjdcLeThs   \n",
              "22723                59  0cw6Sv7IwZ87aLPPvNPSd0   \n",
              "\n",
              "                                    track_album_name  \\\n",
              "13408  Here's Little Richard [Remastered & Expanded]   \n",
              "22723   Ray Charles (aka: Hallelujah, I Love Her So)   \n",
              "\n",
              "       track_album_release_year  \\\n",
              "13408                      1957   \n",
              "22723                      1957   \n",
              "\n",
              "                                           playlist_name  \\\n",
              "13408                                         Blues Rock   \n",
              "22723  The 1950s/1960s/1970s/1980s/1990s/2000s/2010s ...   \n",
              "\n",
              "                  playlist_id playlist_genre  ... key_name  loudness   mode  \\\n",
              "13408  56dbowk1V5ycS5jW7DSvi5           rock  ...        F    -5.023  Major   \n",
              "22723  1S7BckuYIkEazeNKOSM0uA            r&b  ...       G#    -2.981  Major   \n",
              "\n",
              "      speechiness  acousticness instrumentalness  liveness  valence  tempo  \\\n",
              "13408        9.73          76.8              0.0      8.41     91.7    184   \n",
              "22723        6.40          43.7              0.0      5.60     90.6    149   \n",
              "\n",
              "       duration_ms  \n",
              "13408       131853  \n",
              "22723       160227  \n",
              "\n",
              "[2 rows x 23 columns]"
            ],
            "text/html": [
              "\n",
              "  <div id=\"df-218c2613-cb05-4a56-bd74-35862a2ea216\" class=\"colab-df-container\">\n",
              "    <div>\n",
              "<style scoped>\n",
              "    .dataframe tbody tr th:only-of-type {\n",
              "        vertical-align: middle;\n",
              "    }\n",
              "\n",
              "    .dataframe tbody tr th {\n",
              "        vertical-align: top;\n",
              "    }\n",
              "\n",
              "    .dataframe thead th {\n",
              "        text-align: right;\n",
              "    }\n",
              "</style>\n",
              "<table border=\"1\" class=\"dataframe\">\n",
              "  <thead>\n",
              "    <tr style=\"text-align: right;\">\n",
              "      <th></th>\n",
              "      <th>track_id</th>\n",
              "      <th>track_name</th>\n",
              "      <th>track_artist</th>\n",
              "      <th>track_popularity</th>\n",
              "      <th>track_album_id</th>\n",
              "      <th>track_album_name</th>\n",
              "      <th>track_album_release_year</th>\n",
              "      <th>playlist_name</th>\n",
              "      <th>playlist_id</th>\n",
              "      <th>playlist_genre</th>\n",
              "      <th>...</th>\n",
              "      <th>key_name</th>\n",
              "      <th>loudness</th>\n",
              "      <th>mode</th>\n",
              "      <th>speechiness</th>\n",
              "      <th>acousticness</th>\n",
              "      <th>instrumentalness</th>\n",
              "      <th>liveness</th>\n",
              "      <th>valence</th>\n",
              "      <th>tempo</th>\n",
              "      <th>duration_ms</th>\n",
              "    </tr>\n",
              "  </thead>\n",
              "  <tbody>\n",
              "    <tr>\n",
              "      <th>13408</th>\n",
              "      <td>6qb0O5HW7H4q6R0AbP38Ko</td>\n",
              "      <td>Long Tall Sally (The Thing)</td>\n",
              "      <td>Little Richard</td>\n",
              "      <td>1</td>\n",
              "      <td>4CfyfJWb1HSabAjdcLeThs</td>\n",
              "      <td>Here's Little Richard [Remastered &amp; Expanded]</td>\n",
              "      <td>1957</td>\n",
              "      <td>Blues Rock</td>\n",
              "      <td>56dbowk1V5ycS5jW7DSvi5</td>\n",
              "      <td>rock</td>\n",
              "      <td>...</td>\n",
              "      <td>F</td>\n",
              "      <td>-5.023</td>\n",
              "      <td>Major</td>\n",
              "      <td>9.73</td>\n",
              "      <td>76.8</td>\n",
              "      <td>0.0</td>\n",
              "      <td>8.41</td>\n",
              "      <td>91.7</td>\n",
              "      <td>184</td>\n",
              "      <td>131853</td>\n",
              "    </tr>\n",
              "    <tr>\n",
              "      <th>22723</th>\n",
              "      <td>7DJsL4jyXA39GDiHFQYQ0t</td>\n",
              "      <td>Mess Around</td>\n",
              "      <td>Ray Charles</td>\n",
              "      <td>59</td>\n",
              "      <td>0cw6Sv7IwZ87aLPPvNPSd0</td>\n",
              "      <td>Ray Charles (aka: Hallelujah, I Love Her So)</td>\n",
              "      <td>1957</td>\n",
              "      <td>The 1950s/1960s/1970s/1980s/1990s/2000s/2010s ...</td>\n",
              "      <td>1S7BckuYIkEazeNKOSM0uA</td>\n",
              "      <td>r&amp;b</td>\n",
              "      <td>...</td>\n",
              "      <td>G#</td>\n",
              "      <td>-2.981</td>\n",
              "      <td>Major</td>\n",
              "      <td>6.40</td>\n",
              "      <td>43.7</td>\n",
              "      <td>0.0</td>\n",
              "      <td>5.60</td>\n",
              "      <td>90.6</td>\n",
              "      <td>149</td>\n",
              "      <td>160227</td>\n",
              "    </tr>\n",
              "  </tbody>\n",
              "</table>\n",
              "<p>2 rows × 23 columns</p>\n",
              "</div>\n",
              "    <div class=\"colab-df-buttons\">\n",
              "\n",
              "  <div class=\"colab-df-container\">\n",
              "    <button class=\"colab-df-convert\" onclick=\"convertToInteractive('df-218c2613-cb05-4a56-bd74-35862a2ea216')\"\n",
              "            title=\"Convert this dataframe to an interactive table.\"\n",
              "            style=\"display:none;\">\n",
              "\n",
              "  <svg xmlns=\"http://www.w3.org/2000/svg\" height=\"24px\" viewBox=\"0 -960 960 960\">\n",
              "    <path d=\"M120-120v-720h720v720H120Zm60-500h600v-160H180v160Zm220 220h160v-160H400v160Zm0 220h160v-160H400v160ZM180-400h160v-160H180v160Zm440 0h160v-160H620v160ZM180-180h160v-160H180v160Zm440 0h160v-160H620v160Z\"/>\n",
              "  </svg>\n",
              "    </button>\n",
              "\n",
              "  <style>\n",
              "    .colab-df-container {\n",
              "      display:flex;\n",
              "      gap: 12px;\n",
              "    }\n",
              "\n",
              "    .colab-df-convert {\n",
              "      background-color: #E8F0FE;\n",
              "      border: none;\n",
              "      border-radius: 50%;\n",
              "      cursor: pointer;\n",
              "      display: none;\n",
              "      fill: #1967D2;\n",
              "      height: 32px;\n",
              "      padding: 0 0 0 0;\n",
              "      width: 32px;\n",
              "    }\n",
              "\n",
              "    .colab-df-convert:hover {\n",
              "      background-color: #E2EBFA;\n",
              "      box-shadow: 0px 1px 2px rgba(60, 64, 67, 0.3), 0px 1px 3px 1px rgba(60, 64, 67, 0.15);\n",
              "      fill: #174EA6;\n",
              "    }\n",
              "\n",
              "    .colab-df-buttons div {\n",
              "      margin-bottom: 4px;\n",
              "    }\n",
              "\n",
              "    [theme=dark] .colab-df-convert {\n",
              "      background-color: #3B4455;\n",
              "      fill: #D2E3FC;\n",
              "    }\n",
              "\n",
              "    [theme=dark] .colab-df-convert:hover {\n",
              "      background-color: #434B5C;\n",
              "      box-shadow: 0px 1px 3px 1px rgba(0, 0, 0, 0.15);\n",
              "      filter: drop-shadow(0px 1px 2px rgba(0, 0, 0, 0.3));\n",
              "      fill: #FFFFFF;\n",
              "    }\n",
              "  </style>\n",
              "\n",
              "    <script>\n",
              "      const buttonEl =\n",
              "        document.querySelector('#df-218c2613-cb05-4a56-bd74-35862a2ea216 button.colab-df-convert');\n",
              "      buttonEl.style.display =\n",
              "        google.colab.kernel.accessAllowed ? 'block' : 'none';\n",
              "\n",
              "      async function convertToInteractive(key) {\n",
              "        const element = document.querySelector('#df-218c2613-cb05-4a56-bd74-35862a2ea216');\n",
              "        const dataTable =\n",
              "          await google.colab.kernel.invokeFunction('convertToInteractive',\n",
              "                                                    [key], {});\n",
              "        if (!dataTable) return;\n",
              "\n",
              "        const docLinkHtml = 'Like what you see? Visit the ' +\n",
              "          '<a target=\"_blank\" href=https://colab.research.google.com/notebooks/data_table.ipynb>data table notebook</a>'\n",
              "          + ' to learn more about interactive tables.';\n",
              "        element.innerHTML = '';\n",
              "        dataTable['output_type'] = 'display_data';\n",
              "        await google.colab.output.renderOutput(dataTable, element);\n",
              "        const docLink = document.createElement('div');\n",
              "        docLink.innerHTML = docLinkHtml;\n",
              "        element.appendChild(docLink);\n",
              "      }\n",
              "    </script>\n",
              "  </div>\n",
              "\n",
              "\n",
              "<div id=\"df-8c7838ac-3087-46c0-9584-1ebfb0736c9c\">\n",
              "  <button class=\"colab-df-quickchart\" onclick=\"quickchart('df-8c7838ac-3087-46c0-9584-1ebfb0736c9c')\"\n",
              "            title=\"Suggest charts\"\n",
              "            style=\"display:none;\">\n",
              "\n",
              "<svg xmlns=\"http://www.w3.org/2000/svg\" height=\"24px\"viewBox=\"0 0 24 24\"\n",
              "     width=\"24px\">\n",
              "    <g>\n",
              "        <path d=\"M19 3H5c-1.1 0-2 .9-2 2v14c0 1.1.9 2 2 2h14c1.1 0 2-.9 2-2V5c0-1.1-.9-2-2-2zM9 17H7v-7h2v7zm4 0h-2V7h2v10zm4 0h-2v-4h2v4z\"/>\n",
              "    </g>\n",
              "</svg>\n",
              "  </button>\n",
              "\n",
              "<style>\n",
              "  .colab-df-quickchart {\n",
              "      --bg-color: #E8F0FE;\n",
              "      --fill-color: #1967D2;\n",
              "      --hover-bg-color: #E2EBFA;\n",
              "      --hover-fill-color: #174EA6;\n",
              "      --disabled-fill-color: #AAA;\n",
              "      --disabled-bg-color: #DDD;\n",
              "  }\n",
              "\n",
              "  [theme=dark] .colab-df-quickchart {\n",
              "      --bg-color: #3B4455;\n",
              "      --fill-color: #D2E3FC;\n",
              "      --hover-bg-color: #434B5C;\n",
              "      --hover-fill-color: #FFFFFF;\n",
              "      --disabled-bg-color: #3B4455;\n",
              "      --disabled-fill-color: #666;\n",
              "  }\n",
              "\n",
              "  .colab-df-quickchart {\n",
              "    background-color: var(--bg-color);\n",
              "    border: none;\n",
              "    border-radius: 50%;\n",
              "    cursor: pointer;\n",
              "    display: none;\n",
              "    fill: var(--fill-color);\n",
              "    height: 32px;\n",
              "    padding: 0;\n",
              "    width: 32px;\n",
              "  }\n",
              "\n",
              "  .colab-df-quickchart:hover {\n",
              "    background-color: var(--hover-bg-color);\n",
              "    box-shadow: 0 1px 2px rgba(60, 64, 67, 0.3), 0 1px 3px 1px rgba(60, 64, 67, 0.15);\n",
              "    fill: var(--button-hover-fill-color);\n",
              "  }\n",
              "\n",
              "  .colab-df-quickchart-complete:disabled,\n",
              "  .colab-df-quickchart-complete:disabled:hover {\n",
              "    background-color: var(--disabled-bg-color);\n",
              "    fill: var(--disabled-fill-color);\n",
              "    box-shadow: none;\n",
              "  }\n",
              "\n",
              "  .colab-df-spinner {\n",
              "    border: 2px solid var(--fill-color);\n",
              "    border-color: transparent;\n",
              "    border-bottom-color: var(--fill-color);\n",
              "    animation:\n",
              "      spin 1s steps(1) infinite;\n",
              "  }\n",
              "\n",
              "  @keyframes spin {\n",
              "    0% {\n",
              "      border-color: transparent;\n",
              "      border-bottom-color: var(--fill-color);\n",
              "      border-left-color: var(--fill-color);\n",
              "    }\n",
              "    20% {\n",
              "      border-color: transparent;\n",
              "      border-left-color: var(--fill-color);\n",
              "      border-top-color: var(--fill-color);\n",
              "    }\n",
              "    30% {\n",
              "      border-color: transparent;\n",
              "      border-left-color: var(--fill-color);\n",
              "      border-top-color: var(--fill-color);\n",
              "      border-right-color: var(--fill-color);\n",
              "    }\n",
              "    40% {\n",
              "      border-color: transparent;\n",
              "      border-right-color: var(--fill-color);\n",
              "      border-top-color: var(--fill-color);\n",
              "    }\n",
              "    60% {\n",
              "      border-color: transparent;\n",
              "      border-right-color: var(--fill-color);\n",
              "    }\n",
              "    80% {\n",
              "      border-color: transparent;\n",
              "      border-right-color: var(--fill-color);\n",
              "      border-bottom-color: var(--fill-color);\n",
              "    }\n",
              "    90% {\n",
              "      border-color: transparent;\n",
              "      border-bottom-color: var(--fill-color);\n",
              "    }\n",
              "  }\n",
              "</style>\n",
              "\n",
              "  <script>\n",
              "    async function quickchart(key) {\n",
              "      const quickchartButtonEl =\n",
              "        document.querySelector('#' + key + ' button');\n",
              "      quickchartButtonEl.disabled = true;  // To prevent multiple clicks.\n",
              "      quickchartButtonEl.classList.add('colab-df-spinner');\n",
              "      try {\n",
              "        const charts = await google.colab.kernel.invokeFunction(\n",
              "            'suggestCharts', [key], {});\n",
              "      } catch (error) {\n",
              "        console.error('Error during call to suggestCharts:', error);\n",
              "      }\n",
              "      quickchartButtonEl.classList.remove('colab-df-spinner');\n",
              "      quickchartButtonEl.classList.add('colab-df-quickchart-complete');\n",
              "    }\n",
              "    (() => {\n",
              "      let quickchartButtonEl =\n",
              "        document.querySelector('#df-8c7838ac-3087-46c0-9584-1ebfb0736c9c button');\n",
              "      quickchartButtonEl.style.display =\n",
              "        google.colab.kernel.accessAllowed ? 'block' : 'none';\n",
              "    })();\n",
              "  </script>\n",
              "</div>\n",
              "\n",
              "    </div>\n",
              "  </div>\n"
            ],
            "application/vnd.google.colaboratory.intrinsic+json": {
              "type": "dataframe"
            }
          },
          "metadata": {},
          "execution_count": 22
        }
      ]
    },
    {
      "cell_type": "code",
      "source": [
        "print(\"Average track popularity for 30000 songs playlist: \", round(df_30000_songs[\"track_popularity\"].mean(),2))\n",
        "print(\"Average track popularity for the top 100 streamed songs as of 2024: \", round(df_top_100[\"track_popularity\"].mean(),2))\n",
        "\n",
        "print(\"\")\n",
        "\n",
        "print(\"Median track popularity for 30000 songs playlist: \", round(df_30000_songs[\"track_popularity\"].median(),2))\n",
        "print(\"Median track popularity for the top 100 streamed songs as of 2024: \", round(df_top_100[\"track_popularity\"].median(),2))\n",
        "\n",
        "print(\"\")\n",
        "\n",
        "print(\"Max track popularity for 30000 songs playlist: \", round(df_30000_songs[\"track_popularity\"].max(),2))\n",
        "print(\"Max track popularity for the top 100 streamed songs as of 2024: \", round(df_top_100[\"track_popularity\"].max(),2))\n",
        "\n",
        "print(\"\")\n",
        "\n",
        "print(\"Min track popularity for 30000 songs playlist: \", round(df_30000_songs[\"track_popularity\"].min(),2))\n",
        "print(\"Min track popularity for the top 100 streamed songs as of 2024: \", round(df_top_100[\"track_popularity\"].min(),2))\n"
      ],
      "metadata": {
        "colab": {
          "base_uri": "https://localhost:8080/"
        },
        "id": "UJDEt8WML4TQ",
        "outputId": "5ebcf98b-7192-4106-f439-7f6f3b1036ff"
      },
      "execution_count": 23,
      "outputs": [
        {
          "output_type": "stream",
          "name": "stdout",
          "text": [
            "Average track popularity for 30000 songs playlist:  42.48\n",
            "Average track popularity for the top 100 streamed songs as of 2024:  81.05\n",
            "\n",
            "Median track popularity for 30000 songs playlist:  45.0\n",
            "Median track popularity for the top 100 streamed songs as of 2024:  82.0\n",
            "\n",
            "Max track popularity for 30000 songs playlist:  100\n",
            "Max track popularity for the top 100 streamed songs as of 2024:  90\n",
            "\n",
            "Min track popularity for 30000 songs playlist:  0\n",
            "Min track popularity for the top 100 streamed songs as of 2024:  52\n"
          ]
        }
      ]
    },
    {
      "cell_type": "code",
      "source": [
        "df_30000_songs['duration_min'] = df_30000_songs['duration_ms'] / 60000\n",
        "\n",
        "# Check the first few rows to confirm the new column\n",
        "df_30000_songs[['duration_ms', 'duration_min']].head()"
      ],
      "metadata": {
        "colab": {
          "base_uri": "https://localhost:8080/",
          "height": 206
        },
        "id": "qsehP8U8UKab",
        "outputId": "3b8247af-c7ed-4669-94ad-71b6e21d57c3"
      },
      "execution_count": 24,
      "outputs": [
        {
          "output_type": "execute_result",
          "data": {
            "text/plain": [
              "   duration_ms  duration_min\n",
              "0       194754      3.245900\n",
              "1       162600      2.710000\n",
              "2       176616      2.943600\n",
              "3       169093      2.818217\n",
              "4       189052      3.150867"
            ],
            "text/html": [
              "\n",
              "  <div id=\"df-768ab05f-f715-444f-92c6-018bd9b52cdf\" class=\"colab-df-container\">\n",
              "    <div>\n",
              "<style scoped>\n",
              "    .dataframe tbody tr th:only-of-type {\n",
              "        vertical-align: middle;\n",
              "    }\n",
              "\n",
              "    .dataframe tbody tr th {\n",
              "        vertical-align: top;\n",
              "    }\n",
              "\n",
              "    .dataframe thead th {\n",
              "        text-align: right;\n",
              "    }\n",
              "</style>\n",
              "<table border=\"1\" class=\"dataframe\">\n",
              "  <thead>\n",
              "    <tr style=\"text-align: right;\">\n",
              "      <th></th>\n",
              "      <th>duration_ms</th>\n",
              "      <th>duration_min</th>\n",
              "    </tr>\n",
              "  </thead>\n",
              "  <tbody>\n",
              "    <tr>\n",
              "      <th>0</th>\n",
              "      <td>194754</td>\n",
              "      <td>3.245900</td>\n",
              "    </tr>\n",
              "    <tr>\n",
              "      <th>1</th>\n",
              "      <td>162600</td>\n",
              "      <td>2.710000</td>\n",
              "    </tr>\n",
              "    <tr>\n",
              "      <th>2</th>\n",
              "      <td>176616</td>\n",
              "      <td>2.943600</td>\n",
              "    </tr>\n",
              "    <tr>\n",
              "      <th>3</th>\n",
              "      <td>169093</td>\n",
              "      <td>2.818217</td>\n",
              "    </tr>\n",
              "    <tr>\n",
              "      <th>4</th>\n",
              "      <td>189052</td>\n",
              "      <td>3.150867</td>\n",
              "    </tr>\n",
              "  </tbody>\n",
              "</table>\n",
              "</div>\n",
              "    <div class=\"colab-df-buttons\">\n",
              "\n",
              "  <div class=\"colab-df-container\">\n",
              "    <button class=\"colab-df-convert\" onclick=\"convertToInteractive('df-768ab05f-f715-444f-92c6-018bd9b52cdf')\"\n",
              "            title=\"Convert this dataframe to an interactive table.\"\n",
              "            style=\"display:none;\">\n",
              "\n",
              "  <svg xmlns=\"http://www.w3.org/2000/svg\" height=\"24px\" viewBox=\"0 -960 960 960\">\n",
              "    <path d=\"M120-120v-720h720v720H120Zm60-500h600v-160H180v160Zm220 220h160v-160H400v160Zm0 220h160v-160H400v160ZM180-400h160v-160H180v160Zm440 0h160v-160H620v160ZM180-180h160v-160H180v160Zm440 0h160v-160H620v160Z\"/>\n",
              "  </svg>\n",
              "    </button>\n",
              "\n",
              "  <style>\n",
              "    .colab-df-container {\n",
              "      display:flex;\n",
              "      gap: 12px;\n",
              "    }\n",
              "\n",
              "    .colab-df-convert {\n",
              "      background-color: #E8F0FE;\n",
              "      border: none;\n",
              "      border-radius: 50%;\n",
              "      cursor: pointer;\n",
              "      display: none;\n",
              "      fill: #1967D2;\n",
              "      height: 32px;\n",
              "      padding: 0 0 0 0;\n",
              "      width: 32px;\n",
              "    }\n",
              "\n",
              "    .colab-df-convert:hover {\n",
              "      background-color: #E2EBFA;\n",
              "      box-shadow: 0px 1px 2px rgba(60, 64, 67, 0.3), 0px 1px 3px 1px rgba(60, 64, 67, 0.15);\n",
              "      fill: #174EA6;\n",
              "    }\n",
              "\n",
              "    .colab-df-buttons div {\n",
              "      margin-bottom: 4px;\n",
              "    }\n",
              "\n",
              "    [theme=dark] .colab-df-convert {\n",
              "      background-color: #3B4455;\n",
              "      fill: #D2E3FC;\n",
              "    }\n",
              "\n",
              "    [theme=dark] .colab-df-convert:hover {\n",
              "      background-color: #434B5C;\n",
              "      box-shadow: 0px 1px 3px 1px rgba(0, 0, 0, 0.15);\n",
              "      filter: drop-shadow(0px 1px 2px rgba(0, 0, 0, 0.3));\n",
              "      fill: #FFFFFF;\n",
              "    }\n",
              "  </style>\n",
              "\n",
              "    <script>\n",
              "      const buttonEl =\n",
              "        document.querySelector('#df-768ab05f-f715-444f-92c6-018bd9b52cdf button.colab-df-convert');\n",
              "      buttonEl.style.display =\n",
              "        google.colab.kernel.accessAllowed ? 'block' : 'none';\n",
              "\n",
              "      async function convertToInteractive(key) {\n",
              "        const element = document.querySelector('#df-768ab05f-f715-444f-92c6-018bd9b52cdf');\n",
              "        const dataTable =\n",
              "          await google.colab.kernel.invokeFunction('convertToInteractive',\n",
              "                                                    [key], {});\n",
              "        if (!dataTable) return;\n",
              "\n",
              "        const docLinkHtml = 'Like what you see? Visit the ' +\n",
              "          '<a target=\"_blank\" href=https://colab.research.google.com/notebooks/data_table.ipynb>data table notebook</a>'\n",
              "          + ' to learn more about interactive tables.';\n",
              "        element.innerHTML = '';\n",
              "        dataTable['output_type'] = 'display_data';\n",
              "        await google.colab.output.renderOutput(dataTable, element);\n",
              "        const docLink = document.createElement('div');\n",
              "        docLink.innerHTML = docLinkHtml;\n",
              "        element.appendChild(docLink);\n",
              "      }\n",
              "    </script>\n",
              "  </div>\n",
              "\n",
              "\n",
              "<div id=\"df-8405ee77-11c3-4acb-821f-d90f8c3c33a8\">\n",
              "  <button class=\"colab-df-quickchart\" onclick=\"quickchart('df-8405ee77-11c3-4acb-821f-d90f8c3c33a8')\"\n",
              "            title=\"Suggest charts\"\n",
              "            style=\"display:none;\">\n",
              "\n",
              "<svg xmlns=\"http://www.w3.org/2000/svg\" height=\"24px\"viewBox=\"0 0 24 24\"\n",
              "     width=\"24px\">\n",
              "    <g>\n",
              "        <path d=\"M19 3H5c-1.1 0-2 .9-2 2v14c0 1.1.9 2 2 2h14c1.1 0 2-.9 2-2V5c0-1.1-.9-2-2-2zM9 17H7v-7h2v7zm4 0h-2V7h2v10zm4 0h-2v-4h2v4z\"/>\n",
              "    </g>\n",
              "</svg>\n",
              "  </button>\n",
              "\n",
              "<style>\n",
              "  .colab-df-quickchart {\n",
              "      --bg-color: #E8F0FE;\n",
              "      --fill-color: #1967D2;\n",
              "      --hover-bg-color: #E2EBFA;\n",
              "      --hover-fill-color: #174EA6;\n",
              "      --disabled-fill-color: #AAA;\n",
              "      --disabled-bg-color: #DDD;\n",
              "  }\n",
              "\n",
              "  [theme=dark] .colab-df-quickchart {\n",
              "      --bg-color: #3B4455;\n",
              "      --fill-color: #D2E3FC;\n",
              "      --hover-bg-color: #434B5C;\n",
              "      --hover-fill-color: #FFFFFF;\n",
              "      --disabled-bg-color: #3B4455;\n",
              "      --disabled-fill-color: #666;\n",
              "  }\n",
              "\n",
              "  .colab-df-quickchart {\n",
              "    background-color: var(--bg-color);\n",
              "    border: none;\n",
              "    border-radius: 50%;\n",
              "    cursor: pointer;\n",
              "    display: none;\n",
              "    fill: var(--fill-color);\n",
              "    height: 32px;\n",
              "    padding: 0;\n",
              "    width: 32px;\n",
              "  }\n",
              "\n",
              "  .colab-df-quickchart:hover {\n",
              "    background-color: var(--hover-bg-color);\n",
              "    box-shadow: 0 1px 2px rgba(60, 64, 67, 0.3), 0 1px 3px 1px rgba(60, 64, 67, 0.15);\n",
              "    fill: var(--button-hover-fill-color);\n",
              "  }\n",
              "\n",
              "  .colab-df-quickchart-complete:disabled,\n",
              "  .colab-df-quickchart-complete:disabled:hover {\n",
              "    background-color: var(--disabled-bg-color);\n",
              "    fill: var(--disabled-fill-color);\n",
              "    box-shadow: none;\n",
              "  }\n",
              "\n",
              "  .colab-df-spinner {\n",
              "    border: 2px solid var(--fill-color);\n",
              "    border-color: transparent;\n",
              "    border-bottom-color: var(--fill-color);\n",
              "    animation:\n",
              "      spin 1s steps(1) infinite;\n",
              "  }\n",
              "\n",
              "  @keyframes spin {\n",
              "    0% {\n",
              "      border-color: transparent;\n",
              "      border-bottom-color: var(--fill-color);\n",
              "      border-left-color: var(--fill-color);\n",
              "    }\n",
              "    20% {\n",
              "      border-color: transparent;\n",
              "      border-left-color: var(--fill-color);\n",
              "      border-top-color: var(--fill-color);\n",
              "    }\n",
              "    30% {\n",
              "      border-color: transparent;\n",
              "      border-left-color: var(--fill-color);\n",
              "      border-top-color: var(--fill-color);\n",
              "      border-right-color: var(--fill-color);\n",
              "    }\n",
              "    40% {\n",
              "      border-color: transparent;\n",
              "      border-right-color: var(--fill-color);\n",
              "      border-top-color: var(--fill-color);\n",
              "    }\n",
              "    60% {\n",
              "      border-color: transparent;\n",
              "      border-right-color: var(--fill-color);\n",
              "    }\n",
              "    80% {\n",
              "      border-color: transparent;\n",
              "      border-right-color: var(--fill-color);\n",
              "      border-bottom-color: var(--fill-color);\n",
              "    }\n",
              "    90% {\n",
              "      border-color: transparent;\n",
              "      border-bottom-color: var(--fill-color);\n",
              "    }\n",
              "  }\n",
              "</style>\n",
              "\n",
              "  <script>\n",
              "    async function quickchart(key) {\n",
              "      const quickchartButtonEl =\n",
              "        document.querySelector('#' + key + ' button');\n",
              "      quickchartButtonEl.disabled = true;  // To prevent multiple clicks.\n",
              "      quickchartButtonEl.classList.add('colab-df-spinner');\n",
              "      try {\n",
              "        const charts = await google.colab.kernel.invokeFunction(\n",
              "            'suggestCharts', [key], {});\n",
              "      } catch (error) {\n",
              "        console.error('Error during call to suggestCharts:', error);\n",
              "      }\n",
              "      quickchartButtonEl.classList.remove('colab-df-spinner');\n",
              "      quickchartButtonEl.classList.add('colab-df-quickchart-complete');\n",
              "    }\n",
              "    (() => {\n",
              "      let quickchartButtonEl =\n",
              "        document.querySelector('#df-8405ee77-11c3-4acb-821f-d90f8c3c33a8 button');\n",
              "      quickchartButtonEl.style.display =\n",
              "        google.colab.kernel.accessAllowed ? 'block' : 'none';\n",
              "    })();\n",
              "  </script>\n",
              "</div>\n",
              "\n",
              "    </div>\n",
              "  </div>\n"
            ],
            "application/vnd.google.colaboratory.intrinsic+json": {
              "type": "dataframe",
              "summary": "{\n  \"name\": \"df_30000_songs[['duration_ms', 'duration_min']]\",\n  \"rows\": 5,\n  \"fields\": [\n    {\n      \"column\": \"duration_ms\",\n      \"properties\": {\n        \"dtype\": \"number\",\n        \"std\": 13419,\n        \"min\": 162600,\n        \"max\": 194754,\n        \"num_unique_values\": 5,\n        \"samples\": [\n          162600,\n          189052,\n          176616\n        ],\n        \"semantic_type\": \"\",\n        \"description\": \"\"\n      }\n    },\n    {\n      \"column\": \"duration_min\",\n      \"properties\": {\n        \"dtype\": \"number\",\n        \"std\": 0.2236624875416825,\n        \"min\": 2.71,\n        \"max\": 3.2459,\n        \"num_unique_values\": 5,\n        \"samples\": [\n          2.71,\n          3.1508666666666665,\n          2.9436\n        ],\n        \"semantic_type\": \"\",\n        \"description\": \"\"\n      }\n    }\n  ]\n}"
            }
          },
          "metadata": {},
          "execution_count": 24
        }
      ]
    },
    {
      "cell_type": "code",
      "source": [
        "print(\"Average track duration for 30000 songs playlist: \", round(df_30000_songs[\"duration_min\"].mean(),2))\n",
        "print(\"Average track duration for the top 100 streamed songs as of 2024: \", round(df_top_100[\"duration_min\"].mean(),2))\n",
        "\n",
        "print(\"\")\n",
        "\n",
        "print(\"Standard deviation of track duration for 30000 songs playlist: \", round(df_30000_songs[\"duration_min\"].std(),2))\n",
        "print(\"Standard deviation of track duration for the  top 100 streamed songs as of 2024: \", round(df_top_100[\"duration_min\"].std(),2))\n",
        "\n",
        "print(\"\")\n",
        "\n",
        "print(\"Median track duration for 30000 songs playlist: \", round(df_30000_songs[\"duration_min\"].median(),2))\n",
        "print(\"Median track duration for the top 100 streamed songs as of 2024: \", round(df_top_100[\"duration_min\"].median(),2))\n",
        "\n",
        "print(\"\")\n",
        "\n",
        "print(\"Max track duration for 30000 songs playlist: \", round(df_30000_songs[\"duration_min\"].max(),2))\n",
        "print(\"Max track duration for the top 100 streamed songs as of 2024: \", round(df_top_100[\"duration_min\"].max(),2))\n",
        "\n",
        "print(\"\")\n",
        "\n",
        "print(\"Min track duration for 30000 songs playlist: \", round(df_30000_songs[\"duration_min\"].min(),2))\n",
        "print(\"Min track duration for the top 100 streamed songs as of 2024: \", round(df_top_100[\"duration_min\"].min(),2))"
      ],
      "metadata": {
        "colab": {
          "base_uri": "https://localhost:8080/"
        },
        "id": "L6o2_zkTQzNv",
        "outputId": "2a33131b-307d-46c4-e704-42b5d6da137e"
      },
      "execution_count": 25,
      "outputs": [
        {
          "output_type": "stream",
          "name": "stdout",
          "text": [
            "Average track duration for 30000 songs playlist:  3.76\n",
            "Average track duration for the top 100 streamed songs as of 2024:  3.71\n",
            "\n",
            "Standard deviation of track duration for 30000 songs playlist:  1.0\n",
            "Standard deviation of track duration for the  top 100 streamed songs as of 2024:  0.69\n",
            "\n",
            "Median track duration for 30000 songs playlist:  3.6\n",
            "Median track duration for the top 100 streamed songs as of 2024:  3.58\n",
            "\n",
            "Max track duration for 30000 songs playlist:  8.63\n",
            "Max track duration for the top 100 streamed songs as of 2024:  5.92\n",
            "\n",
            "Min track duration for 30000 songs playlist:  0.07\n",
            "Min track duration for the top 100 streamed songs as of 2024:  1.99\n"
          ]
        }
      ]
    },
    {
      "cell_type": "markdown",
      "source": [
        "# Music and Sonic Features"
      ],
      "metadata": {
        "id": "AOtql5ckUtx1"
      }
    },
    {
      "cell_type": "markdown",
      "source": [
        "# Valence"
      ],
      "metadata": {
        "id": "BbOthpzWU0-_"
      }
    },
    {
      "cell_type": "code",
      "source": [
        "print(\"Average track valence for 30000 songs playlist: \",round(df_30000_songs[\"valence\"].mean(),2),\"%.\")\n",
        "print(\"Average track valence for the top 100 streamed songs as of 2024: \",round(df_top_100[\"valence\"].mean(),2),\"%.\")"
      ],
      "metadata": {
        "colab": {
          "base_uri": "https://localhost:8080/"
        },
        "id": "I2Pc0jq1UyOc",
        "outputId": "f4b1502c-d378-4a88-ab99-d59326c6071f"
      },
      "execution_count": 26,
      "outputs": [
        {
          "output_type": "stream",
          "name": "stdout",
          "text": [
            "Average track valence for 30000 songs playlist:  51.06 %.\n",
            "Average track valence for the top 100 streamed songs as of 2024:  48.91 %.\n"
          ]
        }
      ]
    },
    {
      "cell_type": "markdown",
      "source": [
        "# Danceability"
      ],
      "metadata": {
        "id": "LE063Hq3XNyr"
      }
    },
    {
      "cell_type": "code",
      "source": [
        "print(\"Average track danceability for 30000 songs playlist: \",round(df_30000_songs[\"danceability\"].mean(),2),\"%.\")\n",
        "print(\"Average track danceability for the 100 streamed songs as of 2024: \",round(df_top_100[\"danceability\"].mean(),2),\"%.\")"
      ],
      "metadata": {
        "colab": {
          "base_uri": "https://localhost:8080/"
        },
        "id": "31O2-4aeXRpn",
        "outputId": "425758f6-1f56-443a-90bd-dc6672c6413c"
      },
      "execution_count": 27,
      "outputs": [
        {
          "output_type": "stream",
          "name": "stdout",
          "text": [
            "Average track danceability for 30000 songs playlist:  65.48 %.\n",
            "Average track danceability for the 100 streamed songs as of 2024:  63.81 %.\n"
          ]
        }
      ]
    },
    {
      "cell_type": "markdown",
      "source": [
        "## Energy"
      ],
      "metadata": {
        "id": "TxK9sF0dXwJF"
      }
    },
    {
      "cell_type": "code",
      "source": [
        "print(\"Average track energy for 30000 songs playlist: \",round(df_30000_songs[\"energy\"].mean(),2),\"%.\")\n",
        "print(\"Average track energy for the top 100 streamed songs as of 2024: \",round(df_top_100[\"energy\"].mean(),2),\"%.\")"
      ],
      "metadata": {
        "colab": {
          "base_uri": "https://localhost:8080/"
        },
        "id": "7j-dckEGXz34",
        "outputId": "323bdc2a-0a8f-4348-a42f-a0b9c59aab16"
      },
      "execution_count": 28,
      "outputs": [
        {
          "output_type": "stream",
          "name": "stdout",
          "text": [
            "Average track energy for 30000 songs playlist:  69.86 %.\n",
            "Average track energy for the top 100 streamed songs as of 2024:  62.74 %.\n"
          ]
        }
      ]
    },
    {
      "cell_type": "markdown",
      "source": [
        "# Loudness"
      ],
      "metadata": {
        "id": "gPuBEYhRY_o1"
      }
    },
    {
      "cell_type": "code",
      "source": [
        "print(\"Average track loudness for 30000 songs playlist: \",round(df_30000_songs[\"loudness\"].mean(),2),\"dB.\")\n",
        "print(\"Average track loudness for the top 100 streamed songs as of 2024: \",round(df_top_100[\"loudness\"].mean(),2),\"dB.\")"
      ],
      "metadata": {
        "colab": {
          "base_uri": "https://localhost:8080/"
        },
        "id": "jc6Uu-H8Y2-b",
        "outputId": "9db70232-21a5-4355-95bc-ab48867226fe"
      },
      "execution_count": 29,
      "outputs": [
        {
          "output_type": "stream",
          "name": "stdout",
          "text": [
            "Average track loudness for 30000 songs playlist:  -6.72 dB.\n",
            "Average track loudness for the top 100 streamed songs as of 2024:  -6.2 dB.\n"
          ]
        }
      ]
    },
    {
      "cell_type": "markdown",
      "source": [
        "# Speechiness"
      ],
      "metadata": {
        "id": "iyv9pnQ5ZNHE"
      }
    },
    {
      "cell_type": "code",
      "source": [
        "print(\"Average track speechiness for 30000 songs playlist: \",round(df_30000_songs[\"speechiness\"].mean(),2),\"%.\")\n",
        "print(\"Average track speechiness for the top 100 streamed songs as of 2024: \",round(df_top_100[\"speechiness\"].mean(),2),\"%.\")"
      ],
      "metadata": {
        "colab": {
          "base_uri": "https://localhost:8080/"
        },
        "id": "RJKTf3XdZRup",
        "outputId": "78863086-fdc3-4fed-bfab-f6f666ff4a8a"
      },
      "execution_count": 30,
      "outputs": [
        {
          "output_type": "stream",
          "name": "stdout",
          "text": [
            "Average track speechiness for 30000 songs playlist:  10.71 %.\n",
            "Average track speechiness for the top 100 streamed songs as of 2024:  8.59 %.\n"
          ]
        }
      ]
    },
    {
      "cell_type": "markdown",
      "source": [
        "# Instrumentalness"
      ],
      "metadata": {
        "id": "7DPLRNJWZcgr"
      }
    },
    {
      "cell_type": "code",
      "source": [
        "print(\"Average track instrumentalness for 30000 songs playlist: \",round(df_30000_songs[\"instrumentalness\"].mean(),2),\"%.\")\n",
        "print(\"Average track instrumentalness for the top 100 streamed songs as of 2024: \",round(df_top_100[\"instrumentalness\"].mean(),2),\"%.\")"
      ],
      "metadata": {
        "colab": {
          "base_uri": "https://localhost:8080/"
        },
        "id": "BoYtoYWdZhoi",
        "outputId": "e5203777-87a3-4e9b-ac14-8492110339e3"
      },
      "execution_count": 31,
      "outputs": [
        {
          "output_type": "stream",
          "name": "stdout",
          "text": [
            "Average track instrumentalness for 30000 songs playlist:  8.47 %.\n",
            "Average track instrumentalness for the top 100 streamed songs as of 2024:  0.77 %.\n"
          ]
        }
      ]
    },
    {
      "cell_type": "markdown",
      "source": [
        "# Acousticness"
      ],
      "metadata": {
        "id": "1Wx07wbCZztK"
      }
    },
    {
      "cell_type": "code",
      "source": [
        "print(\"Average track acousticness for 30000 songs playlist: \",round(df_30000_songs[\"acousticness\"].mean(),2),\"%.\")\n",
        "print(\"Average track acousticness for the top 100 streamed songs as of 2024: \",round(df_top_100[\"acousticness\"].mean(),2),\"%.\")"
      ],
      "metadata": {
        "colab": {
          "base_uri": "https://localhost:8080/"
        },
        "id": "kiDBDfZWZ6A3",
        "outputId": "9679237a-e3cb-4338-ab61-ef6142cab20d"
      },
      "execution_count": 32,
      "outputs": [
        {
          "output_type": "stream",
          "name": "stdout",
          "text": [
            "Average track acousticness for 30000 songs playlist:  17.53 %.\n",
            "Average track acousticness for the top 100 streamed songs as of 2024:  25.32 %.\n"
          ]
        }
      ]
    },
    {
      "cell_type": "markdown",
      "source": [
        "# Liveness"
      ],
      "metadata": {
        "id": "LcGecUVsaE6m"
      }
    },
    {
      "cell_type": "code",
      "source": [
        "print(\"Average track liveness for 30000 songs playlist: \",round(df_30000_songs[\"liveness\"].mean(),2),\"%.\")\n",
        "print(\"Average track liveness for the top 100 streamed songs as of 2024: \",round(df_top_100[\"liveness\"].mean(),2),\"%.\")"
      ],
      "metadata": {
        "colab": {
          "base_uri": "https://localhost:8080/"
        },
        "id": "6buD35syaIsp",
        "outputId": "ddd5d297-cf2d-4f53-f85c-11299edd219b"
      },
      "execution_count": 33,
      "outputs": [
        {
          "output_type": "stream",
          "name": "stdout",
          "text": [
            "Average track liveness for 30000 songs playlist:  19.02 %.\n",
            "Average track liveness for the top 100 streamed songs as of 2024:  16.1 %.\n"
          ]
        }
      ]
    },
    {
      "cell_type": "code",
      "source": [
        "# Compute the mode counts for both DataFrames\n",
        "Spotify_30000_songs_mode = df_30000_songs[\"mode\"].value_counts(normalize=True).rename(\"30000_songs\")\n",
        "top_100_mode = df_top_100[\"mode\"].value_counts(normalize=True).rename(\"Top 100\")\n",
        "\n",
        "# Combine both counts into a single DataFrame\n",
        "combined_mode = pd.concat([Spotify_30000_songs_mode, top_100_mode], axis=1)\n",
        "\n",
        "# Fill NaN values with 0 if some time signatures don't appear in both datasets\n",
        "combined_mode = combined_mode.fillna(0)\n",
        "\n",
        "# Convert ratios to percentages and round to the nearest integer\n",
        "combined_mode = combined_mode * 100\n",
        "combined_mode = combined_mode.round(0).astype(int)\n",
        "\n",
        "# Display the combined table with ratios\n",
        "print(combined_mode)"
      ],
      "metadata": {
        "colab": {
          "base_uri": "https://localhost:8080/"
        },
        "id": "7DBqxV1raXXJ",
        "outputId": "92367c8b-b70c-44ce-e209-7159a20713f5"
      },
      "execution_count": 34,
      "outputs": [
        {
          "output_type": "stream",
          "name": "stdout",
          "text": [
            "       30000_songs  Top 100\n",
            "mode                       \n",
            "Major           57       65\n",
            "minor           43        0\n",
            "Minor            0       35\n"
          ]
        }
      ]
    },
    {
      "cell_type": "code",
      "source": [
        "plt.figure(figsize=(20, 20))\n",
        "\n",
        "# Overlay histograms for each category\n",
        "for i, category in enumerate(['danceability', 'energy', 'loudness', 'speechiness', 'instrumentalness', 'acousticness', 'liveness', 'valence', 'tempo']):\n",
        "    plt.subplot(3, 3, i + 1)\n",
        "\n",
        "    # Plot the 30000 songs dataset histogram with transparency\n",
        "    plt.hist(df_30000_songs[category], bins=30, alpha=0.5, label='30000 songs', color='indigo')\n",
        "\n",
        "    # Plot the Top 100 dataset histogram with transparency\n",
        "    plt.hist(df_top_100[category], bins=30, alpha=0.5, label='Top 100', color='skyblue')\n",
        "\n",
        "    # Display the mean for 30000 songs dataset\n",
        "    plt.text(plt.xlim()[1] - (plt.xlim()[1] - plt.xlim()[0]) * 0.3,\n",
        "             plt.ylim()[1] * 0.9, r'$\\mu=$' + str(df_30000_songs[category].mean())[:7], fontsize=12)\n",
        "\n",
        "    # Display the mean for Top 100 dataset\n",
        "    plt.text(plt.xlim()[1] - (plt.xlim()[1] - plt.xlim()[0]) * 0.3,\n",
        "             plt.ylim()[1] * 0.8, r'$\\mu=$' + str(df_top_100[category].mean())[:7], fontsize=12)\n",
        "\n",
        "    plt.xlabel('Value')\n",
        "    plt.ylabel('Num Tracks')\n",
        "    plt.title(category)\n",
        "    plt.legend()\n",
        "\n",
        "# Adjust layout\n",
        "plt.tight_layout(h_pad=2)\n",
        "plt.show()"
      ],
      "metadata": {
        "colab": {
          "base_uri": "https://localhost:8080/",
          "height": 1000
        },
        "id": "BJzSSVSUO7XL",
        "outputId": "0f8b62d0-b295-4e46-f038-af8851f17468"
      },
      "execution_count": 36,
      "outputs": [
        {
          "output_type": "display_data",
          "data": {
            "text/plain": [
              "<Figure size 2000x2000 with 9 Axes>"
            ],
            "image/png": "[encoded data removed]"
          },
          "metadata": {}
        }
      ]
    },
    {
      "cell_type": "code",
      "source": [
        "plt.figure(figsize=(15, 4))\n",
        "\n",
        "\n",
        "plt.subplot(1, 3, 2)\n",
        "sns.countplot(df_30000_songs, x='key_name', hue='key_name', palette='flare', legend=False)\n",
        "plt.xticks(ticks=plt.xticks()[0], labels=['C', 'C#', 'D', 'D#', 'E', 'F', 'F#', 'G', 'G#', 'A', 'A#', 'B'])\n",
        "plt.ylabel('Num Tracks')\n",
        "plt.title('Key')\n",
        "\n",
        "plt.subplot(1, 3, 3)\n",
        "sns.countplot(df_30000_songs, x='mode', hue='mode', legend=False)\n",
        "plt.xticks(ticks=plt.xticks()[0], labels=['Major', 'minor'])\n",
        "plt.ylabel('Num Tracks')\n",
        "plt.title('Major vs Minor mode')\n",
        "\n",
        "plt.tight_layout(w_pad=2)\n",
        "plt.show()\n",
        "\n",
        "plt.figure(figsize=(15, 4))\n",
        "\n",
        "plt.subplot(1, 3, 2)\n",
        "sns.countplot(df_top_100, x='key_name', hue='key_name', palette='flare', legend=False)\n",
        "plt.xticks(ticks=plt.xticks()[0], labels=['C', 'C#', 'D', 'D#', 'E', 'F', 'F#', 'G', 'G#', 'A', 'A#', 'B'])\n",
        "plt.ylabel('Num Tracks')\n",
        "plt.title('Key distribution')\n",
        "\n",
        "plt.subplot(1, 3, 3)\n",
        "sns.countplot(df_top_100, x='mode', hue='mode', legend=False)\n",
        "plt.xticks(ticks=plt.xticks()[0], labels=['Major', 'minor'])\n",
        "plt.ylabel('Num Tracks')\n",
        "plt.title('Major vs Minor mode distribution')\n",
        "\n",
        "plt.tight_layout(w_pad=2)\n",
        "plt.show()"
      ],
      "metadata": {
        "colab": {
          "base_uri": "https://localhost:8080/",
          "height": 797
        },
        "id": "FvBxmuFITg1-",
        "outputId": "56289d75-3d27-4f08-ef50-edc11c1c3f6a"
      },
      "execution_count": 38,
      "outputs": [
        {
          "output_type": "display_data",
          "data": {
            "text/plain": [
              "<Figure size 1500x400 with 2 Axes>"
            ],
            "image/png": "[encoded data removed]"
          },
          "metadata": {}
        },
        {
          "output_type": "display_data",
          "data": {
            "text/plain": [
              "<Figure size 1500x400 with 2 Axes>"
            ],
            "image/png": "[encoded data removed]"
          },
          "metadata": {}
        }
      ]
    }
  ]
}