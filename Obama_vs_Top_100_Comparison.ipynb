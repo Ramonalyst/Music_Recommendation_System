{
 "cells": [
  {
   "cell_type": "markdown",
   "metadata": {
    "id": "waHsB5RZqs0L"
   },
   "source": [
    "# Loading the data"
   ]
  },
  {
   "cell_type": "code",
   "execution_count": 74,
   "metadata": {
    "id": "epP_jTQ6toQx"
   },
   "outputs": [],
   "source": [
    "import pandas as pd\n",
    "import plotly.express as px\n",
    "from plotly.subplots import make_subplots\n",
    "import matplotlib.pyplot as plt\n",
    "import numpy as np\n",
    "import seaborn as sns"
   ]
  },
  {
   "cell_type": "code",
   "execution_count": 75,
   "metadata": {},
   "outputs": [],
   "source": [
    "from google.cloud import bigquery     # If you are working locally, make sure you have Google Cloud library installed\n",
    "import pandas as pd\n",
    "from google.oauth2 import service_account\n",
    "\n",
    "import pyarrow.parquet as pq"
   ]
  },
  {
   "cell_type": "code",
   "execution_count": 76,
   "metadata": {},
   "outputs": [],
   "source": [
    "# Connect to BQ\n",
    "\n",
    "credentials = service_account.Credentials.from_service_account_file(\n",
    "'/Users/mariegeorgescudehillerin/Desktop/Le Wagon/Project/music-recommendation-system-24-e7b0bc87bbb3.json')\n",
    "# music-recommendation-system-24-3d0d21fb1f8b.json is the service account JSON file. Save the file locally on your device and add the path here. \n",
    "# make sure that the slashes in the path are '/' and not '\\'\n",
    "\n",
    "project_id = 'music-recommendation-system-24'\n",
    "client = bigquery.Client(credentials= credentials,project=project_id)"
   ]
  },
  {
   "cell_type": "code",
   "execution_count": 62,
   "metadata": {
    "id": "WT-EbCKztub6"
   },
   "outputs": [],
   "source": [
    "# Query BQ\n",
    "\n",
    "query_job = client.query(\"\"\"\n",
    "   SELECT \n",
    "      *\n",
    "   FROM `music-recommendation-system-24.obama_playlists.BO_playlist_2019_2024_artist_enriched` \n",
    "   LIMIT 1000\"\"\")\n",
    "#but the query in three quote marks\n",
    "\n",
    "\n",
    "results = query_job.result() # Wait for the job to complete.\n",
    "\n",
    "rows = [dict(row) for row in results]\n",
    "\n",
    "# Convert the list of dictionaries to a DataFrame\n",
    "df_obama = pd.DataFrame(rows)\n",
    "\n",
    "\n",
    "\n",
    "\n"
   ]
  },
  {
   "cell_type": "code",
   "execution_count": 63,
   "metadata": {},
   "outputs": [],
   "source": [
    "# Query BQ\n",
    "\n",
    "query_job = client.query(\"\"\"\n",
    "   SELECT \n",
    "      *\n",
    "   FROM `music-recommendation-system-24.top_100.2024_spotify_top_100_artist_enriched` \n",
    "   LIMIT 1000\"\"\")\n",
    "#but the query in three quote marks\n",
    "\n",
    "\n",
    "results = query_job.result() # Wait for the job to complete.\n",
    "\n",
    "rows = [dict(row) for row in results]\n",
    "\n",
    "# Convert the list of dictionaries to a DataFrame\n",
    "df_top_100 = pd.DataFrame(rows)"
   ]
  },
  {
   "cell_type": "markdown",
   "metadata": {
    "id": "v0XCv4gYtqpn"
   },
   "source": [
    "#Data Exploration"
   ]
  },
  {
   "cell_type": "code",
   "execution_count": 64,
   "metadata": {
    "colab": {
     "base_uri": "https://localhost:8080/"
    },
    "id": "XY_hQd2F0j_D",
    "outputId": "9dbcfa4b-c60f-49fc-a7be-166c0ad86fc5"
   },
   "outputs": [
    {
     "name": "stdout",
     "output_type": "stream",
     "text": [
      "Spotify's top 100 streamed songs' dataframe has 100 songs and 26 attributes.\n",
      "\n",
      "Obama's playlists' dataframe shape has 259 songs and 27 attributes.\n"
     ]
    }
   ],
   "source": [
    "print(\"Spotify's top 100 streamed songs' dataframe has\", df_top_100.shape[0], \"songs and\", df_top_100.shape[1], \"attributes.\")\n",
    "print()\n",
    "print(\"Obama's playlists' dataframe shape has\",df_obama.shape[0], \"songs and\", df_obama.shape[1], \"attributes.\")"
   ]
  },
  {
   "cell_type": "code",
   "execution_count": 65,
   "metadata": {
    "colab": {
     "base_uri": "https://localhost:8080/"
    },
    "collapsed": true,
    "id": "ghwD-XvbICPh",
    "outputId": "8e6e8688-a83c-4ace-eeca-f101fab765cc"
   },
   "outputs": [
    {
     "name": "stdout",
     "output_type": "stream",
     "text": [
      "<class 'pandas.core.frame.DataFrame'>\n",
      "RangeIndex: 259 entries, 0 to 258\n",
      "Data columns (total 27 columns):\n",
      " #   Column                    Non-Null Count  Dtype  \n",
      "---  ------                    --------------  -----  \n",
      " 0   track_id                  259 non-null    object \n",
      " 1   track_name                259 non-null    object \n",
      " 2   track_album_name          259 non-null    object \n",
      " 3   track_artist              259 non-null    object \n",
      " 4   artist_gender             259 non-null    object \n",
      " 5   track_album_release_year  259 non-null    object \n",
      " 6   duration_min              259 non-null    float64\n",
      " 7   track_popularity          259 non-null    int64  \n",
      " 8   genres                    259 non-null    object \n",
      " 9   record_label              259 non-null    object \n",
      " 10  danceability              259 non-null    float64\n",
      " 11  energy                    259 non-null    float64\n",
      " 12  key                       259 non-null    object \n",
      " 13  loudness                  259 non-null    float64\n",
      " 14  mode                      259 non-null    object \n",
      " 15  speechiness               259 non-null    float64\n",
      " 16  acousticness              259 non-null    float64\n",
      " 17  instrumentalness          259 non-null    float64\n",
      " 18  liveness                  259 non-null    float64\n",
      " 19  valence                   259 non-null    float64\n",
      " 20  tempo                     259 non-null    int64  \n",
      " 21  time_signature            259 non-null    int64  \n",
      " 22  Playlist_year             259 non-null    int64  \n",
      " 23  artist_id                 259 non-null    object \n",
      " 24  artist_name               259 non-null    object \n",
      " 25  artist_followers          259 non-null    object \n",
      " 26  artist_popularity         259 non-null    object \n",
      "dtypes: float64(9), int64(4), object(14)\n",
      "memory usage: 54.8+ KB\n"
     ]
    }
   ],
   "source": [
    "df_obama.info()"
   ]
  },
  {
   "cell_type": "code",
   "execution_count": 66,
   "metadata": {
    "colab": {
     "base_uri": "https://localhost:8080/"
    },
    "id": "0XvrmT8vwgY-",
    "outputId": "2cc5c128-848e-4394-d0fb-137ef67bef96"
   },
   "outputs": [
    {
     "name": "stdout",
     "output_type": "stream",
     "text": [
      "<class 'pandas.core.frame.DataFrame'>\n",
      "RangeIndex: 100 entries, 0 to 99\n",
      "Data columns (total 26 columns):\n",
      " #   Column                    Non-Null Count  Dtype  \n",
      "---  ------                    --------------  -----  \n",
      " 0   track_id                  100 non-null    object \n",
      " 1   track_name                100 non-null    object \n",
      " 2   track_artist              100 non-null    object \n",
      " 3   track_popularity          100 non-null    int64  \n",
      " 4   track_album_name          100 non-null    object \n",
      " 5   track_album_release_year  100 non-null    int64  \n",
      " 6   duration_min              100 non-null    float64\n",
      " 7   genres                    100 non-null    object \n",
      " 8   record_label              100 non-null    object \n",
      " 9   danceability              100 non-null    float64\n",
      " 10  energy                    100 non-null    float64\n",
      " 11  key_name                  100 non-null    object \n",
      " 12  loudness                  100 non-null    float64\n",
      " 13  mode                      100 non-null    object \n",
      " 14  speechiness               100 non-null    float64\n",
      " 15  acousticness              100 non-null    float64\n",
      " 16  instrumentalness          100 non-null    float64\n",
      " 17  liveness                  100 non-null    float64\n",
      " 18  valence                   100 non-null    float64\n",
      " 19  tempo                     100 non-null    int64  \n",
      " 20  time_signature            100 non-null    int64  \n",
      " 21  track_id_1                100 non-null    object \n",
      " 22  artist_id                 100 non-null    object \n",
      " 23  artist_name               100 non-null    object \n",
      " 24  artist_followers          100 non-null    object \n",
      " 25  artist_popularity         100 non-null    object \n",
      "dtypes: float64(9), int64(4), object(13)\n",
      "memory usage: 20.4+ KB\n"
     ]
    }
   ],
   "source": [
    "df_top_100.info()"
   ]
  },
  {
   "cell_type": "markdown",
   "metadata": {
    "id": "yRNv9tACuaV6"
   },
   "source": [
    "#Data cleaning"
   ]
  },
  {
   "cell_type": "code",
   "execution_count": 67,
   "metadata": {
    "id": "9O_OEZksL0Ja"
   },
   "outputs": [],
   "source": [
    "df_obama[\"track_album_release_year\"] = df_obama[\"track_album_release_year\"].str.replace(r'\\D', '', regex=True).astype(int)"
   ]
  },
  {
   "cell_type": "code",
   "execution_count": 68,
   "metadata": {
    "colab": {
     "base_uri": "https://localhost:8080/"
    },
    "id": "3IeaujdgwOF5",
    "outputId": "dda3bd78-a9c4-4364-af02-01d7c34e2f33"
   },
   "outputs": [
    {
     "name": "stdout",
     "output_type": "stream",
     "text": [
      "<class 'pandas.core.frame.DataFrame'>\n",
      "RangeIndex: 259 entries, 0 to 258\n",
      "Data columns (total 27 columns):\n",
      " #   Column                    Non-Null Count  Dtype  \n",
      "---  ------                    --------------  -----  \n",
      " 0   track_id                  259 non-null    object \n",
      " 1   track_name                259 non-null    object \n",
      " 2   track_album_name          259 non-null    object \n",
      " 3   track_artist              259 non-null    object \n",
      " 4   artist_gender             259 non-null    object \n",
      " 5   track_album_release_year  259 non-null    int64  \n",
      " 6   duration_min              259 non-null    float64\n",
      " 7   track_popularity          259 non-null    int64  \n",
      " 8   genres                    259 non-null    object \n",
      " 9   record_label              259 non-null    object \n",
      " 10  danceability              259 non-null    float64\n",
      " 11  energy                    259 non-null    float64\n",
      " 12  key                       259 non-null    object \n",
      " 13  loudness                  259 non-null    float64\n",
      " 14  mode                      259 non-null    object \n",
      " 15  speechiness               259 non-null    float64\n",
      " 16  acousticness              259 non-null    float64\n",
      " 17  instrumentalness          259 non-null    float64\n",
      " 18  liveness                  259 non-null    float64\n",
      " 19  valence                   259 non-null    float64\n",
      " 20  tempo                     259 non-null    int64  \n",
      " 21  time_signature            259 non-null    int64  \n",
      " 22  Playlist_year             259 non-null    int64  \n",
      " 23  artist_id                 259 non-null    object \n",
      " 24  artist_name               259 non-null    object \n",
      " 25  artist_followers          259 non-null    object \n",
      " 26  artist_popularity         259 non-null    object \n",
      "dtypes: float64(9), int64(5), object(13)\n",
      "memory usage: 54.8+ KB\n"
     ]
    }
   ],
   "source": [
    "df_obama.info()"
   ]
  },
  {
   "cell_type": "markdown",
   "metadata": {},
   "source": [
    "Data enriching"
   ]
  },
  {
   "cell_type": "code",
   "execution_count": 69,
   "metadata": {},
   "outputs": [],
   "source": [
    "df_obama['decade'] = (df_obama['track_album_release_year'] // 10) * 10\n",
    "df_top_100['decade'] = (df_top_100['track_album_release_year'] // 10) * 10\n"
   ]
  },
  {
   "cell_type": "markdown",
   "metadata": {
    "id": "2JywzIRgqpfG"
   },
   "source": [
    "Musical features Exploration"
   ]
  },
  {
   "cell_type": "markdown",
   "metadata": {},
   "source": [
    "Genres comparison"
   ]
  },
  {
   "cell_type": "code",
   "execution_count": 70,
   "metadata": {
    "colab": {
     "base_uri": "https://localhost:8080/",
     "height": 542
    },
    "id": "rcn5AYnpxWQR",
    "outputId": "da63ea20-9495-4689-f786-45ef7caf5aa0"
   },
   "outputs": [
    {
     "data": {
      "application/vnd.plotly.v1+json": {
       "config": {
        "plotlyServerURL": "https://plot.ly"
       },
       "data": [
        {
         "alignmentgroup": "True",
         "hovertemplate": "Genres=%{x}<br>Count=%{y}<extra></extra>",
         "legendgroup": "",
         "marker": {
          "color": "#636efa",
          "pattern": {
           "shape": ""
          }
         },
         "name": "",
         "offsetgroup": "",
         "orientation": "v",
         "showlegend": false,
         "textposition": "auto",
         "type": "bar",
         "x": [
          "Hip Hop",
          "R&B",
          "Soul/Funk/Motown",
          "Rock",
          "Jazz",
          "Pop",
          "Folk",
          "Afrobeats",
          "Reggaeton",
          "Reggae",
          "Electronic",
          "House/Dance",
          "Rap",
          "Indie",
          "Latin",
          "World",
          "pakistani indie",
          "Fado"
         ],
         "xaxis": "x",
         "y": [
          58,
          40,
          38,
          32,
          26,
          15,
          9,
          9,
          6,
          6,
          6,
          3,
          3,
          2,
          2,
          2,
          1,
          1
         ],
         "yaxis": "y"
        },
        {
         "alignmentgroup": "True",
         "hovertemplate": "Genres=%{x}<br>Count=%{y}<extra></extra>",
         "legendgroup": "",
         "marker": {
          "color": "#636efa",
          "pattern": {
           "shape": ""
          }
         },
         "name": "",
         "offsetgroup": "",
         "orientation": "v",
         "showlegend": false,
         "textposition": "auto",
         "type": "bar",
         "x": [
          "Pop",
          "Rap",
          "Rock",
          "UK Pop",
          "Pop/R&B",
          "EDM",
          "Folk-Pop",
          "Indie Folk",
          "electro house"
         ],
         "xaxis": "x2",
         "y": [
          30,
          25,
          17,
          14,
          6,
          4,
          2,
          1,
          1
         ],
         "yaxis": "y2"
        }
       ],
       "layout": {
        "annotations": [
         {
          "font": {
           "size": 16
          },
          "showarrow": false,
          "text": "Obama's favorite genres",
          "x": 0.225,
          "xanchor": "center",
          "xref": "paper",
          "y": 1,
          "yanchor": "bottom",
          "yref": "paper"
         },
         {
          "font": {
           "size": 16
          },
          "showarrow": false,
          "text": "Top 100 genres",
          "x": 0.775,
          "xanchor": "center",
          "xref": "paper",
          "y": 1,
          "yanchor": "bottom",
          "yref": "paper"
         }
        ],
        "showlegend": false,
        "template": {
         "data": {
          "bar": [
           {
            "error_x": {
             "color": "#2a3f5f"
            },
            "error_y": {
             "color": "#2a3f5f"
            },
            "marker": {
             "line": {
              "color": "#E5ECF6",
              "width": 0.5
             },
             "pattern": {
              "fillmode": "overlay",
              "size": 10,
              "solidity": 0.2
             }
            },
            "type": "bar"
           }
          ],
          "barpolar": [
           {
            "marker": {
             "line": {
              "color": "#E5ECF6",
              "width": 0.5
             },
             "pattern": {
              "fillmode": "overlay",
              "size": 10,
              "solidity": 0.2
             }
            },
            "type": "barpolar"
           }
          ],
          "carpet": [
           {
            "aaxis": {
             "endlinecolor": "#2a3f5f",
             "gridcolor": "white",
             "linecolor": "white",
             "minorgridcolor": "white",
             "startlinecolor": "#2a3f5f"
            },
            "baxis": {
             "endlinecolor": "#2a3f5f",
             "gridcolor": "white",
             "linecolor": "white",
             "minorgridcolor": "white",
             "startlinecolor": "#2a3f5f"
            },
            "type": "carpet"
           }
          ],
          "choropleth": [
           {
            "colorbar": {
             "outlinewidth": 0,
             "ticks": ""
            },
            "type": "choropleth"
           }
          ],
          "contour": [
           {
            "colorbar": {
             "outlinewidth": 0,
             "ticks": ""
            },
            "colorscale": [
             [
              0,
              "#0d0887"
             ],
             [
              0.1111111111111111,
              "#46039f"
             ],
             [
              0.2222222222222222,
              "#7201a8"
             ],
             [
              0.3333333333333333,
              "#9c179e"
             ],
             [
              0.4444444444444444,
              "#bd3786"
             ],
             [
              0.5555555555555556,
              "#d8576b"
             ],
             [
              0.6666666666666666,
              "#ed7953"
             ],
             [
              0.7777777777777778,
              "#fb9f3a"
             ],
             [
              0.8888888888888888,
              "#fdca26"
             ],
             [
              1,
              "#f0f921"
             ]
            ],
            "type": "contour"
           }
          ],
          "contourcarpet": [
           {
            "colorbar": {
             "outlinewidth": 0,
             "ticks": ""
            },
            "type": "contourcarpet"
           }
          ],
          "heatmap": [
           {
            "colorbar": {
             "outlinewidth": 0,
             "ticks": ""
            },
            "colorscale": [
             [
              0,
              "#0d0887"
             ],
             [
              0.1111111111111111,
              "#46039f"
             ],
             [
              0.2222222222222222,
              "#7201a8"
             ],
             [
              0.3333333333333333,
              "#9c179e"
             ],
             [
              0.4444444444444444,
              "#bd3786"
             ],
             [
              0.5555555555555556,
              "#d8576b"
             ],
             [
              0.6666666666666666,
              "#ed7953"
             ],
             [
              0.7777777777777778,
              "#fb9f3a"
             ],
             [
              0.8888888888888888,
              "#fdca26"
             ],
             [
              1,
              "#f0f921"
             ]
            ],
            "type": "heatmap"
           }
          ],
          "heatmapgl": [
           {
            "colorbar": {
             "outlinewidth": 0,
             "ticks": ""
            },
            "colorscale": [
             [
              0,
              "#0d0887"
             ],
             [
              0.1111111111111111,
              "#46039f"
             ],
             [
              0.2222222222222222,
              "#7201a8"
             ],
             [
              0.3333333333333333,
              "#9c179e"
             ],
             [
              0.4444444444444444,
              "#bd3786"
             ],
             [
              0.5555555555555556,
              "#d8576b"
             ],
             [
              0.6666666666666666,
              "#ed7953"
             ],
             [
              0.7777777777777778,
              "#fb9f3a"
             ],
             [
              0.8888888888888888,
              "#fdca26"
             ],
             [
              1,
              "#f0f921"
             ]
            ],
            "type": "heatmapgl"
           }
          ],
          "histogram": [
           {
            "marker": {
             "pattern": {
              "fillmode": "overlay",
              "size": 10,
              "solidity": 0.2
             }
            },
            "type": "histogram"
           }
          ],
          "histogram2d": [
           {
            "colorbar": {
             "outlinewidth": 0,
             "ticks": ""
            },
            "colorscale": [
             [
              0,
              "#0d0887"
             ],
             [
              0.1111111111111111,
              "#46039f"
             ],
             [
              0.2222222222222222,
              "#7201a8"
             ],
             [
              0.3333333333333333,
              "#9c179e"
             ],
             [
              0.4444444444444444,
              "#bd3786"
             ],
             [
              0.5555555555555556,
              "#d8576b"
             ],
             [
              0.6666666666666666,
              "#ed7953"
             ],
             [
              0.7777777777777778,
              "#fb9f3a"
             ],
             [
              0.8888888888888888,
              "#fdca26"
             ],
             [
              1,
              "#f0f921"
             ]
            ],
            "type": "histogram2d"
           }
          ],
          "histogram2dcontour": [
           {
            "colorbar": {
             "outlinewidth": 0,
             "ticks": ""
            },
            "colorscale": [
             [
              0,
              "#0d0887"
             ],
             [
              0.1111111111111111,
              "#46039f"
             ],
             [
              0.2222222222222222,
              "#7201a8"
             ],
             [
              0.3333333333333333,
              "#9c179e"
             ],
             [
              0.4444444444444444,
              "#bd3786"
             ],
             [
              0.5555555555555556,
              "#d8576b"
             ],
             [
              0.6666666666666666,
              "#ed7953"
             ],
             [
              0.7777777777777778,
              "#fb9f3a"
             ],
             [
              0.8888888888888888,
              "#fdca26"
             ],
             [
              1,
              "#f0f921"
             ]
            ],
            "type": "histogram2dcontour"
           }
          ],
          "mesh3d": [
           {
            "colorbar": {
             "outlinewidth": 0,
             "ticks": ""
            },
            "type": "mesh3d"
           }
          ],
          "parcoords": [
           {
            "line": {
             "colorbar": {
              "outlinewidth": 0,
              "ticks": ""
             }
            },
            "type": "parcoords"
           }
          ],
          "pie": [
           {
            "automargin": true,
            "type": "pie"
           }
          ],
          "scatter": [
           {
            "fillpattern": {
             "fillmode": "overlay",
             "size": 10,
             "solidity": 0.2
            },
            "type": "scatter"
           }
          ],
          "scatter3d": [
           {
            "line": {
             "colorbar": {
              "outlinewidth": 0,
              "ticks": ""
             }
            },
            "marker": {
             "colorbar": {
              "outlinewidth": 0,
              "ticks": ""
             }
            },
            "type": "scatter3d"
           }
          ],
          "scattercarpet": [
           {
            "marker": {
             "colorbar": {
              "outlinewidth": 0,
              "ticks": ""
             }
            },
            "type": "scattercarpet"
           }
          ],
          "scattergeo": [
           {
            "marker": {
             "colorbar": {
              "outlinewidth": 0,
              "ticks": ""
             }
            },
            "type": "scattergeo"
           }
          ],
          "scattergl": [
           {
            "marker": {
             "colorbar": {
              "outlinewidth": 0,
              "ticks": ""
             }
            },
            "type": "scattergl"
           }
          ],
          "scattermapbox": [
           {
            "marker": {
             "colorbar": {
              "outlinewidth": 0,
              "ticks": ""
             }
            },
            "type": "scattermapbox"
           }
          ],
          "scatterpolar": [
           {
            "marker": {
             "colorbar": {
              "outlinewidth": 0,
              "ticks": ""
             }
            },
            "type": "scatterpolar"
           }
          ],
          "scatterpolargl": [
           {
            "marker": {
             "colorbar": {
              "outlinewidth": 0,
              "ticks": ""
             }
            },
            "type": "scatterpolargl"
           }
          ],
          "scatterternary": [
           {
            "marker": {
             "colorbar": {
              "outlinewidth": 0,
              "ticks": ""
             }
            },
            "type": "scatterternary"
           }
          ],
          "surface": [
           {
            "colorbar": {
             "outlinewidth": 0,
             "ticks": ""
            },
            "colorscale": [
             [
              0,
              "#0d0887"
             ],
             [
              0.1111111111111111,
              "#46039f"
             ],
             [
              0.2222222222222222,
              "#7201a8"
             ],
             [
              0.3333333333333333,
              "#9c179e"
             ],
             [
              0.4444444444444444,
              "#bd3786"
             ],
             [
              0.5555555555555556,
              "#d8576b"
             ],
             [
              0.6666666666666666,
              "#ed7953"
             ],
             [
              0.7777777777777778,
              "#fb9f3a"
             ],
             [
              0.8888888888888888,
              "#fdca26"
             ],
             [
              1,
              "#f0f921"
             ]
            ],
            "type": "surface"
           }
          ],
          "table": [
           {
            "cells": {
             "fill": {
              "color": "#EBF0F8"
             },
             "line": {
              "color": "white"
             }
            },
            "header": {
             "fill": {
              "color": "#C8D4E3"
             },
             "line": {
              "color": "white"
             }
            },
            "type": "table"
           }
          ]
         },
         "layout": {
          "annotationdefaults": {
           "arrowcolor": "#2a3f5f",
           "arrowhead": 0,
           "arrowwidth": 1
          },
          "autotypenumbers": "strict",
          "coloraxis": {
           "colorbar": {
            "outlinewidth": 0,
            "ticks": ""
           }
          },
          "colorscale": {
           "diverging": [
            [
             0,
             "#8e0152"
            ],
            [
             0.1,
             "#c51b7d"
            ],
            [
             0.2,
             "#de77ae"
            ],
            [
             0.3,
             "#f1b6da"
            ],
            [
             0.4,
             "#fde0ef"
            ],
            [
             0.5,
             "#f7f7f7"
            ],
            [
             0.6,
             "#e6f5d0"
            ],
            [
             0.7,
             "#b8e186"
            ],
            [
             0.8,
             "#7fbc41"
            ],
            [
             0.9,
             "#4d9221"
            ],
            [
             1,
             "#276419"
            ]
           ],
           "sequential": [
            [
             0,
             "#0d0887"
            ],
            [
             0.1111111111111111,
             "#46039f"
            ],
            [
             0.2222222222222222,
             "#7201a8"
            ],
            [
             0.3333333333333333,
             "#9c179e"
            ],
            [
             0.4444444444444444,
             "#bd3786"
            ],
            [
             0.5555555555555556,
             "#d8576b"
            ],
            [
             0.6666666666666666,
             "#ed7953"
            ],
            [
             0.7777777777777778,
             "#fb9f3a"
            ],
            [
             0.8888888888888888,
             "#fdca26"
            ],
            [
             1,
             "#f0f921"
            ]
           ],
           "sequentialminus": [
            [
             0,
             "#0d0887"
            ],
            [
             0.1111111111111111,
             "#46039f"
            ],
            [
             0.2222222222222222,
             "#7201a8"
            ],
            [
             0.3333333333333333,
             "#9c179e"
            ],
            [
             0.4444444444444444,
             "#bd3786"
            ],
            [
             0.5555555555555556,
             "#d8576b"
            ],
            [
             0.6666666666666666,
             "#ed7953"
            ],
            [
             0.7777777777777778,
             "#fb9f3a"
            ],
            [
             0.8888888888888888,
             "#fdca26"
            ],
            [
             1,
             "#f0f921"
            ]
           ]
          },
          "colorway": [
           "#636efa",
           "#EF553B",
           "#00cc96",
           "#ab63fa",
           "#FFA15A",
           "#19d3f3",
           "#FF6692",
           "#B6E880",
           "#FF97FF",
           "#FECB52"
          ],
          "font": {
           "color": "#2a3f5f"
          },
          "geo": {
           "bgcolor": "white",
           "lakecolor": "white",
           "landcolor": "#E5ECF6",
           "showlakes": true,
           "showland": true,
           "subunitcolor": "white"
          },
          "hoverlabel": {
           "align": "left"
          },
          "hovermode": "closest",
          "mapbox": {
           "style": "light"
          },
          "paper_bgcolor": "white",
          "plot_bgcolor": "#E5ECF6",
          "polar": {
           "angularaxis": {
            "gridcolor": "white",
            "linecolor": "white",
            "ticks": ""
           },
           "bgcolor": "#E5ECF6",
           "radialaxis": {
            "gridcolor": "white",
            "linecolor": "white",
            "ticks": ""
           }
          },
          "scene": {
           "xaxis": {
            "backgroundcolor": "#E5ECF6",
            "gridcolor": "white",
            "gridwidth": 2,
            "linecolor": "white",
            "showbackground": true,
            "ticks": "",
            "zerolinecolor": "white"
           },
           "yaxis": {
            "backgroundcolor": "#E5ECF6",
            "gridcolor": "white",
            "gridwidth": 2,
            "linecolor": "white",
            "showbackground": true,
            "ticks": "",
            "zerolinecolor": "white"
           },
           "zaxis": {
            "backgroundcolor": "#E5ECF6",
            "gridcolor": "white",
            "gridwidth": 2,
            "linecolor": "white",
            "showbackground": true,
            "ticks": "",
            "zerolinecolor": "white"
           }
          },
          "shapedefaults": {
           "line": {
            "color": "#2a3f5f"
           }
          },
          "ternary": {
           "aaxis": {
            "gridcolor": "white",
            "linecolor": "white",
            "ticks": ""
           },
           "baxis": {
            "gridcolor": "white",
            "linecolor": "white",
            "ticks": ""
           },
           "bgcolor": "#E5ECF6",
           "caxis": {
            "gridcolor": "white",
            "linecolor": "white",
            "ticks": ""
           }
          },
          "title": {
           "x": 0.05
          },
          "xaxis": {
           "automargin": true,
           "gridcolor": "white",
           "linecolor": "white",
           "ticks": "",
           "title": {
            "standoff": 15
           },
           "zerolinecolor": "white",
           "zerolinewidth": 2
          },
          "yaxis": {
           "automargin": true,
           "gridcolor": "white",
           "linecolor": "white",
           "ticks": "",
           "title": {
            "standoff": 15
           },
           "zerolinecolor": "white",
           "zerolinewidth": 2
          }
         }
        },
        "title": {
         "text": "Genre comparison"
        },
        "xaxis": {
         "anchor": "y",
         "domain": [
          0,
          0.45
         ]
        },
        "xaxis2": {
         "anchor": "y2",
         "domain": [
          0.55,
          1
         ]
        },
        "yaxis": {
         "anchor": "x",
         "domain": [
          0,
          1
         ]
        },
        "yaxis2": {
         "anchor": "x2",
         "domain": [
          0,
          1
         ]
        }
       }
      }
     },
     "metadata": {},
     "output_type": "display_data"
    }
   ],
   "source": [
    "# Compute the sorted counts for the first DataFrame\n",
    "sorted_counts_obama = df_obama[\"genres\"].value_counts().sort_values(ascending=False)\n",
    "sorted_genres_obama = sorted_counts_obama.index.tolist()\n",
    "\n",
    "# Compute the sorted counts for the second DataFrame\n",
    "sorted_counts_top_100 = df_top_100[\"genres\"].value_counts().sort_values(ascending=False)\n",
    "sorted_genres_top_100 = sorted_counts_top_100.index.tolist()\n",
    "\n",
    "# Create subplots with 1 row and 2 columns\n",
    "fig = make_subplots(rows=1, cols=2, subplot_titles=(\"Obama's favorite genres\", \"Top 100 genres\"))\n",
    "\n",
    "# Create first bar chart (sorted) and add it to the first column\n",
    "fig_obama = px.bar(\n",
    "    x=sorted_genres_obama,\n",
    "    y=sorted_counts_obama,\n",
    "    title=\"Genres Count for Obama\",\n",
    "    labels={'x': 'Genres', 'y': 'Count'}\n",
    ")\n",
    "for trace in fig_obama['data']:\n",
    "    fig.add_trace(trace, row=1, col=1)\n",
    "\n",
    "# Create second bar chart (sorted) and add it to the second column\n",
    "fig_top_100 = px.bar(\n",
    "    x=sorted_genres_top_100,\n",
    "    y=sorted_counts_top_100,\n",
    "    title=\"Genres Count for Top 100\",\n",
    "    labels={'x': 'Genres', 'y': 'Count'}\n",
    ")\n",
    "for trace in fig_top_100['data']:\n",
    "    fig.add_trace(trace, row=1, col=2)\n",
    "\n",
    "# Update layout to fit the titles and adjust the appearance\n",
    "fig.update_layout(title_text=\"Genre comparison\", showlegend=False)\n",
    "\n",
    "# Show the combined plot\n",
    "fig.show()"
   ]
  },
  {
   "cell_type": "markdown",
   "metadata": {
    "id": "8PPJ8z41jhwR"
   },
   "source": [
    "Artists"
   ]
  },
  {
   "cell_type": "code",
   "execution_count": 71,
   "metadata": {
    "colab": {
     "base_uri": "https://localhost:8080/",
     "height": 542
    },
    "id": "KhJaLQ4FI3Hm",
    "outputId": "7d49ee43-5b65-400e-8ee9-ffb1d330d1d7"
   },
   "outputs": [
    {
     "data": {
      "application/vnd.plotly.v1+json": {
       "config": {
        "plotlyServerURL": "https://plot.ly"
       },
       "data": [
        {
         "alignmentgroup": "True",
         "hovertemplate": "track_artist=%{x}<br>Track Count=%{y}<extra></extra>",
         "legendgroup": "",
         "marker": {
          "color": "#636efa",
          "pattern": {
           "shape": ""
          }
         },
         "name": "",
         "offsetgroup": "",
         "orientation": "v",
         "showlegend": false,
         "textposition": "auto",
         "type": "bar",
         "x": [
          "Bob Dylan",
          "Stevie Wonder",
          "The Rolling Stones",
          "Beyoncé",
          "Bob Marley & The Wailers",
          "Otis Redding",
          "Maggie Rogers",
          "SZA",
          "H.E.R.",
          "D'Angelo",
          "Drake,Rihanna",
          "Billie Eilish",
          "Aretha Franklin",
          "Toots & The Maytals",
          "Nas",
          "Original Koffee",
          "Rihanna",
          "Tems",
          "Rema",
          "The Spinners"
         ],
         "xaxis": "x",
         "y": [
          4,
          4,
          4,
          3,
          3,
          3,
          3,
          3,
          2,
          2,
          2,
          2,
          2,
          2,
          2,
          2,
          2,
          2,
          2,
          2
         ],
         "yaxis": "y"
        },
        {
         "alignmentgroup": "True",
         "hovertemplate": "track_artist=%{x}<br>Track Count=%{y}<extra></extra>",
         "legendgroup": "",
         "marker": {
          "color": "#636efa",
          "pattern": {
           "shape": ""
          }
         },
         "name": "",
         "offsetgroup": "",
         "orientation": "v",
         "showlegend": false,
         "textposition": "auto",
         "type": "bar",
         "x": [
          "Bruno Mars",
          "Ed Sheeran",
          "The Weeknd",
          "Coldplay",
          "Dua Lipa",
          "Imagine Dragons",
          "Sam Smith",
          "Harry Styles",
          "Eminem",
          "Olivia Rodrigo",
          "Arctic Monkeys",
          "Shawn Mendes",
          "XXXTENTACION",
          "Queen",
          "Travis Scott",
          "Camila Cabello,Young Thug",
          "Bad Bunny,JHAYCO",
          "Avicii",
          "Alan Walker",
          "Ariana Grande"
         ],
         "xaxis": "x2",
         "y": [
          4,
          4,
          4,
          3,
          3,
          3,
          2,
          2,
          2,
          2,
          2,
          2,
          2,
          2,
          2,
          1,
          1,
          1,
          1,
          1
         ],
         "yaxis": "y2"
        }
       ],
       "layout": {
        "annotations": [
         {
          "font": {
           "size": 16
          },
          "showarrow": false,
          "text": "Top 20 Artists by Track Count (Obama)",
          "x": 0.225,
          "xanchor": "center",
          "xref": "paper",
          "y": 1,
          "yanchor": "bottom",
          "yref": "paper"
         },
         {
          "font": {
           "size": 16
          },
          "showarrow": false,
          "text": "Top 20 Artists by Track Count (Top 100)",
          "x": 0.775,
          "xanchor": "center",
          "xref": "paper",
          "y": 1,
          "yanchor": "bottom",
          "yref": "paper"
         }
        ],
        "showlegend": false,
        "template": {
         "data": {
          "bar": [
           {
            "error_x": {
             "color": "#2a3f5f"
            },
            "error_y": {
             "color": "#2a3f5f"
            },
            "marker": {
             "line": {
              "color": "#E5ECF6",
              "width": 0.5
             },
             "pattern": {
              "fillmode": "overlay",
              "size": 10,
              "solidity": 0.2
             }
            },
            "type": "bar"
           }
          ],
          "barpolar": [
           {
            "marker": {
             "line": {
              "color": "#E5ECF6",
              "width": 0.5
             },
             "pattern": {
              "fillmode": "overlay",
              "size": 10,
              "solidity": 0.2
             }
            },
            "type": "barpolar"
           }
          ],
          "carpet": [
           {
            "aaxis": {
             "endlinecolor": "#2a3f5f",
             "gridcolor": "white",
             "linecolor": "white",
             "minorgridcolor": "white",
             "startlinecolor": "#2a3f5f"
            },
            "baxis": {
             "endlinecolor": "#2a3f5f",
             "gridcolor": "white",
             "linecolor": "white",
             "minorgridcolor": "white",
             "startlinecolor": "#2a3f5f"
            },
            "type": "carpet"
           }
          ],
          "choropleth": [
           {
            "colorbar": {
             "outlinewidth": 0,
             "ticks": ""
            },
            "type": "choropleth"
           }
          ],
          "contour": [
           {
            "colorbar": {
             "outlinewidth": 0,
             "ticks": ""
            },
            "colorscale": [
             [
              0,
              "#0d0887"
             ],
             [
              0.1111111111111111,
              "#46039f"
             ],
             [
              0.2222222222222222,
              "#7201a8"
             ],
             [
              0.3333333333333333,
              "#9c179e"
             ],
             [
              0.4444444444444444,
              "#bd3786"
             ],
             [
              0.5555555555555556,
              "#d8576b"
             ],
             [
              0.6666666666666666,
              "#ed7953"
             ],
             [
              0.7777777777777778,
              "#fb9f3a"
             ],
             [
              0.8888888888888888,
              "#fdca26"
             ],
             [
              1,
              "#f0f921"
             ]
            ],
            "type": "contour"
           }
          ],
          "contourcarpet": [
           {
            "colorbar": {
             "outlinewidth": 0,
             "ticks": ""
            },
            "type": "contourcarpet"
           }
          ],
          "heatmap": [
           {
            "colorbar": {
             "outlinewidth": 0,
             "ticks": ""
            },
            "colorscale": [
             [
              0,
              "#0d0887"
             ],
             [
              0.1111111111111111,
              "#46039f"
             ],
             [
              0.2222222222222222,
              "#7201a8"
             ],
             [
              0.3333333333333333,
              "#9c179e"
             ],
             [
              0.4444444444444444,
              "#bd3786"
             ],
             [
              0.5555555555555556,
              "#d8576b"
             ],
             [
              0.6666666666666666,
              "#ed7953"
             ],
             [
              0.7777777777777778,
              "#fb9f3a"
             ],
             [
              0.8888888888888888,
              "#fdca26"
             ],
             [
              1,
              "#f0f921"
             ]
            ],
            "type": "heatmap"
           }
          ],
          "heatmapgl": [
           {
            "colorbar": {
             "outlinewidth": 0,
             "ticks": ""
            },
            "colorscale": [
             [
              0,
              "#0d0887"
             ],
             [
              0.1111111111111111,
              "#46039f"
             ],
             [
              0.2222222222222222,
              "#7201a8"
             ],
             [
              0.3333333333333333,
              "#9c179e"
             ],
             [
              0.4444444444444444,
              "#bd3786"
             ],
             [
              0.5555555555555556,
              "#d8576b"
             ],
             [
              0.6666666666666666,
              "#ed7953"
             ],
             [
              0.7777777777777778,
              "#fb9f3a"
             ],
             [
              0.8888888888888888,
              "#fdca26"
             ],
             [
              1,
              "#f0f921"
             ]
            ],
            "type": "heatmapgl"
           }
          ],
          "histogram": [
           {
            "marker": {
             "pattern": {
              "fillmode": "overlay",
              "size": 10,
              "solidity": 0.2
             }
            },
            "type": "histogram"
           }
          ],
          "histogram2d": [
           {
            "colorbar": {
             "outlinewidth": 0,
             "ticks": ""
            },
            "colorscale": [
             [
              0,
              "#0d0887"
             ],
             [
              0.1111111111111111,
              "#46039f"
             ],
             [
              0.2222222222222222,
              "#7201a8"
             ],
             [
              0.3333333333333333,
              "#9c179e"
             ],
             [
              0.4444444444444444,
              "#bd3786"
             ],
             [
              0.5555555555555556,
              "#d8576b"
             ],
             [
              0.6666666666666666,
              "#ed7953"
             ],
             [
              0.7777777777777778,
              "#fb9f3a"
             ],
             [
              0.8888888888888888,
              "#fdca26"
             ],
             [
              1,
              "#f0f921"
             ]
            ],
            "type": "histogram2d"
           }
          ],
          "histogram2dcontour": [
           {
            "colorbar": {
             "outlinewidth": 0,
             "ticks": ""
            },
            "colorscale": [
             [
              0,
              "#0d0887"
             ],
             [
              0.1111111111111111,
              "#46039f"
             ],
             [
              0.2222222222222222,
              "#7201a8"
             ],
             [
              0.3333333333333333,
              "#9c179e"
             ],
             [
              0.4444444444444444,
              "#bd3786"
             ],
             [
              0.5555555555555556,
              "#d8576b"
             ],
             [
              0.6666666666666666,
              "#ed7953"
             ],
             [
              0.7777777777777778,
              "#fb9f3a"
             ],
             [
              0.8888888888888888,
              "#fdca26"
             ],
             [
              1,
              "#f0f921"
             ]
            ],
            "type": "histogram2dcontour"
           }
          ],
          "mesh3d": [
           {
            "colorbar": {
             "outlinewidth": 0,
             "ticks": ""
            },
            "type": "mesh3d"
           }
          ],
          "parcoords": [
           {
            "line": {
             "colorbar": {
              "outlinewidth": 0,
              "ticks": ""
             }
            },
            "type": "parcoords"
           }
          ],
          "pie": [
           {
            "automargin": true,
            "type": "pie"
           }
          ],
          "scatter": [
           {
            "fillpattern": {
             "fillmode": "overlay",
             "size": 10,
             "solidity": 0.2
            },
            "type": "scatter"
           }
          ],
          "scatter3d": [
           {
            "line": {
             "colorbar": {
              "outlinewidth": 0,
              "ticks": ""
             }
            },
            "marker": {
             "colorbar": {
              "outlinewidth": 0,
              "ticks": ""
             }
            },
            "type": "scatter3d"
           }
          ],
          "scattercarpet": [
           {
            "marker": {
             "colorbar": {
              "outlinewidth": 0,
              "ticks": ""
             }
            },
            "type": "scattercarpet"
           }
          ],
          "scattergeo": [
           {
            "marker": {
             "colorbar": {
              "outlinewidth": 0,
              "ticks": ""
             }
            },
            "type": "scattergeo"
           }
          ],
          "scattergl": [
           {
            "marker": {
             "colorbar": {
              "outlinewidth": 0,
              "ticks": ""
             }
            },
            "type": "scattergl"
           }
          ],
          "scattermapbox": [
           {
            "marker": {
             "colorbar": {
              "outlinewidth": 0,
              "ticks": ""
             }
            },
            "type": "scattermapbox"
           }
          ],
          "scatterpolar": [
           {
            "marker": {
             "colorbar": {
              "outlinewidth": 0,
              "ticks": ""
             }
            },
            "type": "scatterpolar"
           }
          ],
          "scatterpolargl": [
           {
            "marker": {
             "colorbar": {
              "outlinewidth": 0,
              "ticks": ""
             }
            },
            "type": "scatterpolargl"
           }
          ],
          "scatterternary": [
           {
            "marker": {
             "colorbar": {
              "outlinewidth": 0,
              "ticks": ""
             }
            },
            "type": "scatterternary"
           }
          ],
          "surface": [
           {
            "colorbar": {
             "outlinewidth": 0,
             "ticks": ""
            },
            "colorscale": [
             [
              0,
              "#0d0887"
             ],
             [
              0.1111111111111111,
              "#46039f"
             ],
             [
              0.2222222222222222,
              "#7201a8"
             ],
             [
              0.3333333333333333,
              "#9c179e"
             ],
             [
              0.4444444444444444,
              "#bd3786"
             ],
             [
              0.5555555555555556,
              "#d8576b"
             ],
             [
              0.6666666666666666,
              "#ed7953"
             ],
             [
              0.7777777777777778,
              "#fb9f3a"
             ],
             [
              0.8888888888888888,
              "#fdca26"
             ],
             [
              1,
              "#f0f921"
             ]
            ],
            "type": "surface"
           }
          ],
          "table": [
           {
            "cells": {
             "fill": {
              "color": "#EBF0F8"
             },
             "line": {
              "color": "white"
             }
            },
            "header": {
             "fill": {
              "color": "#C8D4E3"
             },
             "line": {
              "color": "white"
             }
            },
            "type": "table"
           }
          ]
         },
         "layout": {
          "annotationdefaults": {
           "arrowcolor": "#2a3f5f",
           "arrowhead": 0,
           "arrowwidth": 1
          },
          "autotypenumbers": "strict",
          "coloraxis": {
           "colorbar": {
            "outlinewidth": 0,
            "ticks": ""
           }
          },
          "colorscale": {
           "diverging": [
            [
             0,
             "#8e0152"
            ],
            [
             0.1,
             "#c51b7d"
            ],
            [
             0.2,
             "#de77ae"
            ],
            [
             0.3,
             "#f1b6da"
            ],
            [
             0.4,
             "#fde0ef"
            ],
            [
             0.5,
             "#f7f7f7"
            ],
            [
             0.6,
             "#e6f5d0"
            ],
            [
             0.7,
             "#b8e186"
            ],
            [
             0.8,
             "#7fbc41"
            ],
            [
             0.9,
             "#4d9221"
            ],
            [
             1,
             "#276419"
            ]
           ],
           "sequential": [
            [
             0,
             "#0d0887"
            ],
            [
             0.1111111111111111,
             "#46039f"
            ],
            [
             0.2222222222222222,
             "#7201a8"
            ],
            [
             0.3333333333333333,
             "#9c179e"
            ],
            [
             0.4444444444444444,
             "#bd3786"
            ],
            [
             0.5555555555555556,
             "#d8576b"
            ],
            [
             0.6666666666666666,
             "#ed7953"
            ],
            [
             0.7777777777777778,
             "#fb9f3a"
            ],
            [
             0.8888888888888888,
             "#fdca26"
            ],
            [
             1,
             "#f0f921"
            ]
           ],
           "sequentialminus": [
            [
             0,
             "#0d0887"
            ],
            [
             0.1111111111111111,
             "#46039f"
            ],
            [
             0.2222222222222222,
             "#7201a8"
            ],
            [
             0.3333333333333333,
             "#9c179e"
            ],
            [
             0.4444444444444444,
             "#bd3786"
            ],
            [
             0.5555555555555556,
             "#d8576b"
            ],
            [
             0.6666666666666666,
             "#ed7953"
            ],
            [
             0.7777777777777778,
             "#fb9f3a"
            ],
            [
             0.8888888888888888,
             "#fdca26"
            ],
            [
             1,
             "#f0f921"
            ]
           ]
          },
          "colorway": [
           "#636efa",
           "#EF553B",
           "#00cc96",
           "#ab63fa",
           "#FFA15A",
           "#19d3f3",
           "#FF6692",
           "#B6E880",
           "#FF97FF",
           "#FECB52"
          ],
          "font": {
           "color": "#2a3f5f"
          },
          "geo": {
           "bgcolor": "white",
           "lakecolor": "white",
           "landcolor": "#E5ECF6",
           "showlakes": true,
           "showland": true,
           "subunitcolor": "white"
          },
          "hoverlabel": {
           "align": "left"
          },
          "hovermode": "closest",
          "mapbox": {
           "style": "light"
          },
          "paper_bgcolor": "white",
          "plot_bgcolor": "#E5ECF6",
          "polar": {
           "angularaxis": {
            "gridcolor": "white",
            "linecolor": "white",
            "ticks": ""
           },
           "bgcolor": "#E5ECF6",
           "radialaxis": {
            "gridcolor": "white",
            "linecolor": "white",
            "ticks": ""
           }
          },
          "scene": {
           "xaxis": {
            "backgroundcolor": "#E5ECF6",
            "gridcolor": "white",
            "gridwidth": 2,
            "linecolor": "white",
            "showbackground": true,
            "ticks": "",
            "zerolinecolor": "white"
           },
           "yaxis": {
            "backgroundcolor": "#E5ECF6",
            "gridcolor": "white",
            "gridwidth": 2,
            "linecolor": "white",
            "showbackground": true,
            "ticks": "",
            "zerolinecolor": "white"
           },
           "zaxis": {
            "backgroundcolor": "#E5ECF6",
            "gridcolor": "white",
            "gridwidth": 2,
            "linecolor": "white",
            "showbackground": true,
            "ticks": "",
            "zerolinecolor": "white"
           }
          },
          "shapedefaults": {
           "line": {
            "color": "#2a3f5f"
           }
          },
          "ternary": {
           "aaxis": {
            "gridcolor": "white",
            "linecolor": "white",
            "ticks": ""
           },
           "baxis": {
            "gridcolor": "white",
            "linecolor": "white",
            "ticks": ""
           },
           "bgcolor": "#E5ECF6",
           "caxis": {
            "gridcolor": "white",
            "linecolor": "white",
            "ticks": ""
           }
          },
          "title": {
           "x": 0.05
          },
          "xaxis": {
           "automargin": true,
           "gridcolor": "white",
           "linecolor": "white",
           "ticks": "",
           "title": {
            "standoff": 15
           },
           "zerolinecolor": "white",
           "zerolinewidth": 2
          },
          "yaxis": {
           "automargin": true,
           "gridcolor": "white",
           "linecolor": "white",
           "ticks": "",
           "title": {
            "standoff": 15
           },
           "zerolinecolor": "white",
           "zerolinewidth": 2
          }
         }
        },
        "title": {
         "text": "Top 20 Artists by Track Count Comparison"
        },
        "xaxis": {
         "anchor": "y",
         "domain": [
          0,
          0.45
         ],
         "tickangle": -45
        },
        "xaxis2": {
         "anchor": "y2",
         "domain": [
          0.55,
          1
         ],
         "tickangle": -45
        },
        "yaxis": {
         "anchor": "x",
         "domain": [
          0,
          1
         ]
        },
        "yaxis2": {
         "anchor": "x2",
         "domain": [
          0,
          1
         ],
         "range": [
          0,
          4.5
         ]
        }
       }
      }
     },
     "metadata": {},
     "output_type": "display_data"
    }
   ],
   "source": [
    "\n",
    "# Group and sort by artist for the Obama dataset\n",
    "grouped_by_artist_obama = df_obama.groupby(\"track_artist\").count()\n",
    "top_artists_obama = grouped_by_artist_obama.sort_values(\"track_name\", ascending=False).head(20)\n",
    "\n",
    "# Group and sort by artist for the Top 100 dataset\n",
    "grouped_by_artist_top_100 = df_top_100.groupby(\"track_artist\").count()\n",
    "top_artists_top_100 = grouped_by_artist_top_100.sort_values(\"track_name\", ascending=False).head(20)\n",
    "\n",
    "# Create subplots with 1 row and 2 columns\n",
    "fig = make_subplots(rows=1, cols=2, subplot_titles=(\"Top 20 Artists by Track Count (Obama)\", \"Top 20 Artists by Track Count (Top 100)\"))\n",
    "\n",
    "# Create bar chart for the Obama dataset and add to first column\n",
    "fig_obama = px.bar(\n",
    "    top_artists_obama,\n",
    "    x=top_artists_obama.index,\n",
    "    y=\"track_name\",\n",
    "    title=\"Top 20 Artists by Track Count (Obama)\",\n",
    "    labels={'x': 'Artist', 'track_name': 'Track Count'}\n",
    ")\n",
    "for trace in fig_obama['data']:\n",
    "    fig.add_trace(trace, row=1, col=1)\n",
    "\n",
    "# Create bar chart for the Top 100 dataset and add to second column\n",
    "fig_top_100 = px.bar(\n",
    "    top_artists_top_100,\n",
    "    x=top_artists_top_100.index,\n",
    "    y=\"track_name\",\n",
    "    title=\"Top 20 Artists by Track Count (Top 100)\",\n",
    "    labels={'x': 'Artist', 'track_name': 'Track Count'}\n",
    ")\n",
    "for trace in fig_top_100['data']:\n",
    "    fig.add_trace(trace, row=1, col=2)\n",
    "\n",
    "# Update layout for better readability and set y-axis range for the second plot\n",
    "fig.update_layout(\n",
    "    title_text=\"Top 20 Artists by Track Count Comparison\",\n",
    "    showlegend=False,\n",
    "    xaxis_tickangle=-45,\n",
    "    xaxis2_tickangle=-45,\n",
    "    yaxis2_range=[0, 4.5]  # Sets the y-axis range for the second plot (Top 100 dataset) to go up to 8\n",
    ")\n",
    "\n",
    "# Show the combined plot\n",
    "fig.show()"
   ]
  },
  {
   "cell_type": "markdown",
   "metadata": {},
   "source": [
    "Popularity analysis"
   ]
  },
  {
   "cell_type": "code",
   "execution_count": 57,
   "metadata": {},
   "outputs": [
    {
     "name": "stdout",
     "output_type": "stream",
     "text": [
      "47.41312741312741\n",
      "81.05\n"
     ]
    }
   ],
   "source": [
    "print(df_obama[\"track_popularity\"].mean())\n",
    "print(df_top_100[\"track_popularity\"].mean())"
   ]
  },
  {
   "cell_type": "code",
   "execution_count": 72,
   "metadata": {},
   "outputs": [
    {
     "data": {
      "text/plain": [
       "track_name\n",
       "MILLION DOLLAR BABY    90.0\n",
       "Stargazing             89.0\n",
       "CHIHIRO                88.0\n",
       "A Bar Song (Tipsy)     88.0\n",
       "PERRO NEGRO            85.0\n",
       "Name: track_popularity, dtype: float64"
      ]
     },
     "execution_count": 72,
     "metadata": {},
     "output_type": "execute_result"
    }
   ],
   "source": [
    "track_popularity_obama = df_obama.groupby(\"track_name\")[\"track_popularity\"].mean()\n",
    "track_popularity_obama.sort_values(ascending=False).head(5)"
   ]
  },
  {
   "cell_type": "code",
   "execution_count": 73,
   "metadata": {},
   "outputs": [
    {
     "data": {
      "text/plain": [
       "track_name\n",
       "I Wanna Be Yours    90.0\n",
       "Sweater Weather     90.0\n",
       "Cruel Summer        89.0\n",
       "The Night We Met    88.0\n",
       "Yellow              88.0\n",
       "Name: track_popularity, dtype: float64"
      ]
     },
     "execution_count": 73,
     "metadata": {},
     "output_type": "execute_result"
    }
   ],
   "source": [
    "track_popularity_top_100 = df_top_100.groupby(\"track_name\")[\"track_popularity\"].mean()\n",
    "track_popularity_top_100.sort_values(ascending=False).head(5)"
   ]
  },
  {
   "cell_type": "markdown",
   "metadata": {},
   "source": [
    "Artist popularity"
   ]
  },
  {
   "cell_type": "code",
   "execution_count": null,
   "metadata": {},
   "outputs": [],
   "source": [
    "df_obama[\"artist_pop_mean\"]=df_obama[\"artist_popularity\"].map(lambda x : np.mean(x))\n",
    "df_top_100[\"artist_pop_mean\"]=df_top_100[\"artist_popularity\"].map(lambda x : np.mean(x))"
   ]
  },
  {
   "cell_type": "code",
   "execution_count": 79,
   "metadata": {},
   "outputs": [
    {
     "data": {
      "text/plain": [
       "track_artist\n",
       "Billie Eilish     96.0\n",
       "Drake,Rihanna     94.0\n",
       "Bad Bunny,Feid    93.5\n",
       "Rihanna           93.0\n",
       "Drake,Lil Baby    91.5\n",
       "Name: artist_pop_mean, dtype: float64"
      ]
     },
     "execution_count": 79,
     "metadata": {},
     "output_type": "execute_result"
    }
   ],
   "source": [
    "obama_artist_popularity = df_obama.groupby(\"track_artist\")[\"artist_pop_mean\"].mean()\n",
    "obama_artist_popularity.sort_values(ascending=False).head(5)"
   ]
  },
  {
   "cell_type": "code",
   "execution_count": 81,
   "metadata": {},
   "outputs": [
    {
     "data": {
      "text/plain": [
       "track_artist\n",
       "Taylor Swift     100.0\n",
       "Bruno Mars        96.0\n",
       "Drake             96.0\n",
       "Billie Eilish     96.0\n",
       "The Weeknd        96.0\n",
       "Name: artist_pop_mean, dtype: float64"
      ]
     },
     "execution_count": 81,
     "metadata": {},
     "output_type": "execute_result"
    }
   ],
   "source": [
    "top_100_artist_popularity = df_top_100.groupby(\"track_artist\")[\"artist_pop_mean\"].mean()\n",
    "top_100_artist_popularity.sort_values(ascending=False).head(5)"
   ]
  },
  {
   "cell_type": "code",
   "execution_count": 83,
   "metadata": {},
   "outputs": [
    {
     "name": "stdout",
     "output_type": "stream",
     "text": [
      "67.39\n",
      "86.31 2\n"
     ]
    }
   ],
   "source": [
    "print(round(df_obama[\"artist_pop_mean\"].mean(),2))\n",
    "print(round(df_top_100[\"artist_pop_mean\"]).mean(),2)"
   ]
  },
  {
   "cell_type": "markdown",
   "metadata": {},
   "source": [
    "Artist followers"
   ]
  },
  {
   "cell_type": "code",
   "execution_count": 87,
   "metadata": {},
   "outputs": [],
   "source": [
    "df_obama[\"artist_flwrs_mean\"]=df_obama[\"artist_followers\"].map(lambda x : np.mean(x))\n",
    "df_top_100[\"artist_flwrs_mean\"]=df_top_100[\"artist_followers\"].map(lambda x : np.mean(x))"
   ]
  },
  {
   "cell_type": "code",
   "execution_count": 88,
   "metadata": {},
   "outputs": [
    {
     "data": {
      "text/plain": [
       "track_artist\n",
       "Billie Eilish     1.020579e+08\n",
       "Drake,Rihanna     7.846154e+07\n",
       "Rihanna           7.104427e+07\n",
       "Drake,Lil Baby    5.611372e+07\n",
       "Bad Bunny,Feid    5.078598e+07\n",
       "Name: artist_flwrs_mean, dtype: float64"
      ]
     },
     "execution_count": 88,
     "metadata": {},
     "output_type": "execute_result"
    }
   ],
   "source": [
    "obama_artist_followers = df_obama.groupby(\"track_artist\")[\"artist_flwrs_mean\"].mean()\n",
    "obama_artist_followers.sort_values(ascending=False).head(5)"
   ]
  },
  {
   "cell_type": "code",
   "execution_count": 89,
   "metadata": {},
   "outputs": [
    {
     "data": {
      "text/plain": [
       "track_artist\n",
       "Taylor Swift     125722435.0\n",
       "Ed Sheeran       117121257.0\n",
       "Billie Eilish    102057941.0\n",
       "Ariana Grande    100973915.0\n",
       "The Weeknd        94260543.0\n",
       "Name: artist_flwrs_mean, dtype: float64"
      ]
     },
     "execution_count": 89,
     "metadata": {},
     "output_type": "execute_result"
    }
   ],
   "source": [
    "top_100_artist_followers = df_top_100.groupby(\"track_artist\")[\"artist_flwrs_mean\"].mean()\n",
    "top_100_artist_followers.sort_values(ascending=False).head(5)"
   ]
  },
  {
   "cell_type": "code",
   "execution_count": 90,
   "metadata": {},
   "outputs": [
    {
     "name": "stdout",
     "output_type": "stream",
     "text": [
      "7301349.74\n",
      "41264419.93 2\n"
     ]
    }
   ],
   "source": [
    "print(round(df_obama[\"artist_flwrs_mean\"].mean(),2))\n",
    "print(round(df_top_100[\"artist_flwrs_mean\"]).mean(),2)"
   ]
  },
  {
   "cell_type": "markdown",
   "metadata": {},
   "source": [
    "Musical eras"
   ]
  },
  {
   "cell_type": "code",
   "execution_count": 48,
   "metadata": {
    "colab": {
     "base_uri": "https://localhost:8080/",
     "height": 568
    },
    "id": "YpNPzFHWn6QB",
    "outputId": "9a9f785e-0c8a-454b-ea05-a803558516dd"
   },
   "outputs": [
    {
     "data": {
      "image/png": "[encoded data removed]",
      "text/plain": [
       "<Figure size 1200x600 with 1 Axes>"
      ]
     },
     "metadata": {},
     "output_type": "display_data"
    }
   ],
   "source": [
    "# Group by 'year' to get the count of 'track_name' for each year\n",
    "df_top_100_grouped_by_year = df_top_100.groupby('track_album_release_year')['track_name'].count().reset_index()\n",
    "df_obama_grouped_by_year = df_obama.groupby('track_album_release_year')['track_name'].count().reset_index()\n",
    "\n",
    "# Define the consistent set of years from both dataframes\n",
    "all_years = sorted(set(df_top_100_grouped_by_year['track_album_release_year']).union(\n",
    "    set(df_obama_grouped_by_year['track_album_release_year'])\n",
    "))\n",
    "\n",
    "# Reindex both dataframes to include all years, filling missing values with 0\n",
    "df_top_100_grouped_by_year = df_top_100_grouped_by_year.set_index('track_album_release_year').reindex(all_years, fill_value=0).reset_index()\n",
    "df_obama_grouped_by_year = df_obama_grouped_by_year.set_index('track_album_release_year').reindex(all_years, fill_value=0).reset_index()\n",
    "\n",
    "# Update the x-axis years to the consistent set\n",
    "years = df_top_100_grouped_by_year['track_album_release_year']\n",
    "\n",
    "# Create the figure and axis\n",
    "plt.figure(figsize=(12, 6))  # Increase the figure size for better readability\n",
    "\n",
    "# Set the positions for the bars\n",
    "x_top_100 = np.arange(len(df_top_100_grouped_by_year)) * 2  # Increase the spacing between bars\n",
    "x_obama = x_top_100 + 0.8  # Shift Obama bars further to the right\n",
    "\n",
    "# Plot the Top 100 dataset with a specific color and label\n",
    "plt.bar(x_top_100,\n",
    "        df_top_100_grouped_by_year['track_name'],\n",
    "        color='skyblue',\n",
    "        width=0.8,  # Increase width to make the bars more visible\n",
    "        label='Top 100')\n",
    "\n",
    "# Plot the Obama dataset with a different color and label\n",
    "plt.bar(x_obama,\n",
    "        df_obama_grouped_by_year['track_name'],\n",
    "        color='indigo',\n",
    "        width=0.8,  # Increase width to make the bars more visible\n",
    "        label='Obama')\n",
    "\n",
    "# Set the x-ticks to show the years correctly with larger spacing\n",
    "plt.xticks(x_top_100 + 0.4, years, rotation=45, ha='right')  # Rotate and adjust the alignment of x-ticks\n",
    "\n",
    "# Set labels and title\n",
    "plt.xlabel('Year')\n",
    "plt.ylabel('Number of Songs')\n",
    "plt.title('Songs per Year Comparison')\n",
    "plt.legend()\n",
    "\n",
    "# Display the plot\n",
    "plt.tight_layout()  # Automatically adjust the layout for better fit\n",
    "plt.show()\n",
    "\n",
    "\n"
   ]
  },
  {
   "cell_type": "code",
   "execution_count": 24,
   "metadata": {},
   "outputs": [],
   "source": [
    "df_obama_grouped_by_decade = df_obama.groupby(\"decade\").count().reset_index()\n",
    "df_top_100_grouped_by_decade = df_top_100.groupby(\"decade\").count().reset_index()\n"
   ]
  },
  {
   "cell_type": "code",
   "execution_count": 52,
   "metadata": {},
   "outputs": [
    {
     "data": {
      "image/png": "[encoded data removed]",
      "text/plain": [
       "<Figure size 1200x600 with 1 Axes>"
      ]
     },
     "metadata": {},
     "output_type": "display_data"
    }
   ],
   "source": [
    "\n",
    "# Define the consistent set of decades from both dataframes\n",
    "all_decades = sorted(set(df_top_100_grouped_by_decade['decade']).union(\n",
    "    set(df_obama_grouped_by_decade['decade'])\n",
    "))\n",
    "\n",
    "# Reindex both dataframes to include all years, filling missing values with 0\n",
    "df_top_100_grouped_by_decade = df_top_100_grouped_by_decade.set_index('decade').reindex(all_decades, fill_value=0).reset_index()\n",
    "df_obama_grouped_by_decade = df_obama_grouped_by_decade.set_index('decade').reindex(all_decades, fill_value=0).reset_index()\n",
    "\n",
    "# Update the x-axis years to the consistent set\n",
    "decades = df_top_100_grouped_by_decade['decade']\n",
    "\n",
    "# Create the figure and axis\n",
    "plt.figure(figsize=(12, 6))  # Increase the figure size for better readability\n",
    "\n",
    "# Set the positions for the bars\n",
    "x_top_100 = np.arange(len(df_top_100_grouped_by_decade)) * 2  # Increase the spacing between bars\n",
    "x_obama = x_top_100 + 0.8  # Shift Obama bars further to the right\n",
    "\n",
    "# Plot the Top 100 dataset with a specific color and label\n",
    "plt.bar(x_top_100,\n",
    "        df_top_100_grouped_by_decade['track_name'],\n",
    "        color='skyblue',\n",
    "        width=0.8,  # Increase width to make the bars more visible\n",
    "        label='Top 100')\n",
    "\n",
    "# Plot the Obama dataset with a different color and label\n",
    "plt.bar(x_obama,\n",
    "        df_obama_grouped_by_decade['track_name'],\n",
    "        color='indigo',\n",
    "        width=0.8,  # Increase width to make the bars more visible\n",
    "        label='Obama')\n",
    "\n",
    "# Set the x-ticks to show the years correctly with larger spacing\n",
    "plt.xticks(x_top_100 + 0.4, decades, rotation=45, ha='right')  # Rotate and adjust the alignment of x-ticks\n",
    "\n",
    "# Set labels and title\n",
    "plt.xlabel('Decade')\n",
    "plt.ylabel('Number of Songs')\n",
    "plt.title('Decades comparison')\n",
    "plt.legend()\n",
    "\n",
    "# Display the plot\n",
    "plt.tight_layout()  # Automatically adjust the layout for better fit\n",
    "plt.show()"
   ]
  },
  {
   "cell_type": "code",
   "execution_count": 28,
   "metadata": {
    "colab": {
     "base_uri": "https://localhost:8080/"
    },
    "id": "nkRqi4Q9LpRs",
    "outputId": "b5392d74-708d-4770-bbee-bf4b391bd791"
   },
   "outputs": [
    {
     "name": "stdout",
     "output_type": "stream",
     "text": [
      "The oldest Top 100 song is from the year 1905\n"
     ]
    }
   ],
   "source": [
    "print(\"The oldest Top 100 song is from the year\",df_top_100[\"track_album_release_year\"].min())"
   ]
  },
  {
   "cell_type": "markdown",
   "metadata": {},
   "source": [
    "That sounds strange! Let's check that:"
   ]
  },
  {
   "cell_type": "code",
   "execution_count": 29,
   "metadata": {
    "colab": {
     "base_uri": "https://localhost:8080/",
     "height": 196
    },
    "id": "dUc1oWTmy2_H",
    "outputId": "def980a5-4642-4acb-eb4a-a09d7950ce14"
   },
   "outputs": [
    {
     "data": {
      "text/html": [
       "<div>\n",
       "<style scoped>\n",
       "    .dataframe tbody tr th:only-of-type {\n",
       "        vertical-align: middle;\n",
       "    }\n",
       "\n",
       "    .dataframe tbody tr th {\n",
       "        vertical-align: top;\n",
       "    }\n",
       "\n",
       "    .dataframe thead th {\n",
       "        text-align: right;\n",
       "    }\n",
       "</style>\n",
       "<table border=\"1\" class=\"dataframe\">\n",
       "  <thead>\n",
       "    <tr style=\"text-align: right;\">\n",
       "      <th></th>\n",
       "      <th>track_id</th>\n",
       "      <th>track_name</th>\n",
       "      <th>track_artist</th>\n",
       "      <th>track_popularity</th>\n",
       "      <th>track_album_name</th>\n",
       "      <th>track_album_release_year</th>\n",
       "      <th>duration_min</th>\n",
       "      <th>genres</th>\n",
       "      <th>record_label</th>\n",
       "      <th>danceability</th>\n",
       "      <th>...</th>\n",
       "      <th>liveness</th>\n",
       "      <th>valence</th>\n",
       "      <th>tempo</th>\n",
       "      <th>time_signature</th>\n",
       "      <th>track_id_1</th>\n",
       "      <th>artist_id</th>\n",
       "      <th>artist_name</th>\n",
       "      <th>artist_followers</th>\n",
       "      <th>artist_popularity</th>\n",
       "      <th>decade</th>\n",
       "    </tr>\n",
       "  </thead>\n",
       "  <tbody>\n",
       "    <tr>\n",
       "      <th>51</th>\n",
       "      <td>60a0Rd6pjrkxjPbaKzXjfq</td>\n",
       "      <td>In the End</td>\n",
       "      <td>Linkin Park</td>\n",
       "      <td>87</td>\n",
       "      <td>Hybrid Theory (Bonus Edition)</td>\n",
       "      <td>1905</td>\n",
       "      <td>3.61</td>\n",
       "      <td>Rap</td>\n",
       "      <td>Warner Records</td>\n",
       "      <td>55.6</td>\n",
       "      <td>...</td>\n",
       "      <td>20.90</td>\n",
       "      <td>40.0</td>\n",
       "      <td>105</td>\n",
       "      <td>4</td>\n",
       "      <td>60a0Rd6pjrkxjPbaKzXjfq</td>\n",
       "      <td>[6XyY86QOPPrYVGvF9ch6wz]</td>\n",
       "      <td>[Linkin Park]</td>\n",
       "      <td>[27487288]</td>\n",
       "      <td>[92]</td>\n",
       "      <td>1900</td>\n",
       "    </tr>\n",
       "    <tr>\n",
       "      <th>59</th>\n",
       "      <td>003vvx7Niy0yvhvHt4a68B</td>\n",
       "      <td>Mr. Brightside</td>\n",
       "      <td>The Killers</td>\n",
       "      <td>85</td>\n",
       "      <td>Hot Fuss</td>\n",
       "      <td>1905</td>\n",
       "      <td>3.72</td>\n",
       "      <td>Rock</td>\n",
       "      <td>Island Records</td>\n",
       "      <td>35.2</td>\n",
       "      <td>...</td>\n",
       "      <td>9.95</td>\n",
       "      <td>23.6</td>\n",
       "      <td>148</td>\n",
       "      <td>4</td>\n",
       "      <td>003vvx7Niy0yvhvHt4a68B</td>\n",
       "      <td>[0C0XlULifJtAgn6ZNCW2eu]</td>\n",
       "      <td>[The Killers]</td>\n",
       "      <td>[7543718]</td>\n",
       "      <td>[79]</td>\n",
       "      <td>1900</td>\n",
       "    </tr>\n",
       "  </tbody>\n",
       "</table>\n",
       "<p>2 rows × 27 columns</p>\n",
       "</div>"
      ],
      "text/plain": [
       "                  track_id      track_name track_artist  track_popularity  \\\n",
       "51  60a0Rd6pjrkxjPbaKzXjfq      In the End  Linkin Park                87   \n",
       "59  003vvx7Niy0yvhvHt4a68B  Mr. Brightside  The Killers                85   \n",
       "\n",
       "                 track_album_name  track_album_release_year  duration_min  \\\n",
       "51  Hybrid Theory (Bonus Edition)                      1905          3.61   \n",
       "59                       Hot Fuss                      1905          3.72   \n",
       "\n",
       "   genres    record_label  danceability  ...  liveness valence  tempo  \\\n",
       "51    Rap  Warner Records          55.6  ...     20.90    40.0    105   \n",
       "59   Rock  Island Records          35.2  ...      9.95    23.6    148   \n",
       "\n",
       "   time_signature              track_id_1                 artist_id  \\\n",
       "51              4  60a0Rd6pjrkxjPbaKzXjfq  [6XyY86QOPPrYVGvF9ch6wz]   \n",
       "59              4  003vvx7Niy0yvhvHt4a68B  [0C0XlULifJtAgn6ZNCW2eu]   \n",
       "\n",
       "      artist_name  artist_followers  artist_popularity  decade  \n",
       "51  [Linkin Park]        [27487288]               [92]    1900  \n",
       "59  [The Killers]         [7543718]               [79]    1900  \n",
       "\n",
       "[2 rows x 27 columns]"
      ]
     },
     "execution_count": 29,
     "metadata": {},
     "output_type": "execute_result"
    }
   ],
   "source": [
    "df_top_100[df_top_100[\"track_album_release_year\"] == 1905]"
   ]
  },
  {
   "cell_type": "markdown",
   "metadata": {
    "id": "sXeR19Yf10Df"
   },
   "source": [
    "There might be a slight hiccup here 😆"
   ]
  },
  {
   "cell_type": "code",
   "execution_count": 30,
   "metadata": {
    "id": "chmAQkyX16fa"
   },
   "outputs": [],
   "source": [
    "#The Killers' Mr. Brightside was actually released in 2004, and Linkin Park's In the End, in 2000. Let's update those rows.\n",
    "\n",
    "df_top_100.loc[df_top_100[\"track_name\"] == \"Mr. Brightside\", \"track_album_release_year\"] = 2004\n",
    "df_top_100.loc[df_top_100[\"track_name\"] == \"In the End\", \"track_album_release_year\"] = 2000"
   ]
  },
  {
   "cell_type": "code",
   "execution_count": 33,
   "metadata": {
    "colab": {
     "base_uri": "https://localhost:8080/"
    },
    "id": "kc48kPJS2Xe7",
    "outputId": "24dd0f3e-02da-4d52-8050-b5145c62a5b0"
   },
   "outputs": [
    {
     "name": "stdout",
     "output_type": "stream",
     "text": [
      "The oldest Top 100 song is from the year 1978 , whereas the oldest song in Obama's playlists dates from 1954 .\n"
     ]
    }
   ],
   "source": [
    "print(\"The oldest Top 100 song is from the year\",df_top_100[\"track_album_release_year\"].min(),\", whereas the oldest song in Obama's playlists dates from\",df_obama[\"track_album_release_year\"].min(),\".\")"
   ]
  },
  {
   "cell_type": "code",
   "execution_count": 41,
   "metadata": {
    "colab": {
     "base_uri": "https://localhost:8080/",
     "height": 182
    },
    "id": "jfRWOO212a6K",
    "outputId": "455758e3-5e34-4d77-b7e8-0d89dc4f06c4"
   },
   "outputs": [
    {
     "data": {
      "text/html": [
       "<div>\n",
       "<style scoped>\n",
       "    .dataframe tbody tr th:only-of-type {\n",
       "        vertical-align: middle;\n",
       "    }\n",
       "\n",
       "    .dataframe tbody tr th {\n",
       "        vertical-align: top;\n",
       "    }\n",
       "\n",
       "    .dataframe thead th {\n",
       "        text-align: right;\n",
       "    }\n",
       "</style>\n",
       "<table border=\"1\" class=\"dataframe\">\n",
       "  <thead>\n",
       "    <tr style=\"text-align: right;\">\n",
       "      <th></th>\n",
       "      <th>track_id</th>\n",
       "      <th>track_name</th>\n",
       "      <th>track_artist</th>\n",
       "      <th>track_popularity</th>\n",
       "      <th>track_album_name</th>\n",
       "      <th>track_album_release_year</th>\n",
       "      <th>duration_min</th>\n",
       "      <th>genres</th>\n",
       "      <th>record_label</th>\n",
       "      <th>danceability</th>\n",
       "      <th>...</th>\n",
       "      <th>liveness</th>\n",
       "      <th>valence</th>\n",
       "      <th>tempo</th>\n",
       "      <th>time_signature</th>\n",
       "      <th>track_id_1</th>\n",
       "      <th>artist_id</th>\n",
       "      <th>artist_name</th>\n",
       "      <th>artist_followers</th>\n",
       "      <th>artist_popularity</th>\n",
       "      <th>decade</th>\n",
       "    </tr>\n",
       "  </thead>\n",
       "  <tbody>\n",
       "    <tr>\n",
       "      <th>62</th>\n",
       "      <td>5T8EDUDqKcs6OSOwEsfqG7</td>\n",
       "      <td>Don't Stop Me Now - Remastered 2011</td>\n",
       "      <td>Queen</td>\n",
       "      <td>81</td>\n",
       "      <td>Jazz (2011 Remaster)</td>\n",
       "      <td>1978</td>\n",
       "      <td>3.49</td>\n",
       "      <td>Rock</td>\n",
       "      <td>EMI</td>\n",
       "      <td>55.9</td>\n",
       "      <td>...</td>\n",
       "      <td>77.6</td>\n",
       "      <td>60.9</td>\n",
       "      <td>156</td>\n",
       "      <td>4</td>\n",
       "      <td>5T8EDUDqKcs6OSOwEsfqG7</td>\n",
       "      <td>[1dfeR4HaWDbWqFHLkxsg1d]</td>\n",
       "      <td>[Queen]</td>\n",
       "      <td>[51861948]</td>\n",
       "      <td>[86]</td>\n",
       "      <td>1970</td>\n",
       "    </tr>\n",
       "  </tbody>\n",
       "</table>\n",
       "<p>1 rows × 27 columns</p>\n",
       "</div>"
      ],
      "text/plain": [
       "                  track_id                           track_name track_artist  \\\n",
       "62  5T8EDUDqKcs6OSOwEsfqG7  Don't Stop Me Now - Remastered 2011        Queen   \n",
       "\n",
       "    track_popularity      track_album_name  track_album_release_year  \\\n",
       "62                81  Jazz (2011 Remaster)                      1978   \n",
       "\n",
       "    duration_min genres record_label  danceability  ...  liveness valence  \\\n",
       "62          3.49   Rock          EMI          55.9  ...      77.6    60.9   \n",
       "\n",
       "    tempo time_signature              track_id_1                 artist_id  \\\n",
       "62    156              4  5T8EDUDqKcs6OSOwEsfqG7  [1dfeR4HaWDbWqFHLkxsg1d]   \n",
       "\n",
       "    artist_name  artist_followers  artist_popularity  decade  \n",
       "62      [Queen]        [51861948]               [86]    1970  \n",
       "\n",
       "[1 rows x 27 columns]"
      ]
     },
     "execution_count": 41,
     "metadata": {},
     "output_type": "execute_result"
    }
   ],
   "source": [
    "df_top_100[df_top_100[\"track_album_release_year\"] == 1978]"
   ]
  },
  {
   "cell_type": "code",
   "execution_count": 42,
   "metadata": {
    "colab": {
     "base_uri": "https://localhost:8080/",
     "height": 165
    },
    "id": "DDk461_5NdCK",
    "outputId": "4d09b2f7-312c-4b18-a669-646f64cd9acf"
   },
   "outputs": [
    {
     "data": {
      "text/html": [
       "<div>\n",
       "<style scoped>\n",
       "    .dataframe tbody tr th:only-of-type {\n",
       "        vertical-align: middle;\n",
       "    }\n",
       "\n",
       "    .dataframe tbody tr th {\n",
       "        vertical-align: top;\n",
       "    }\n",
       "\n",
       "    .dataframe thead th {\n",
       "        text-align: right;\n",
       "    }\n",
       "</style>\n",
       "<table border=\"1\" class=\"dataframe\">\n",
       "  <thead>\n",
       "    <tr style=\"text-align: right;\">\n",
       "      <th></th>\n",
       "      <th>track_id</th>\n",
       "      <th>track_name</th>\n",
       "      <th>track_album_name</th>\n",
       "      <th>track_artist</th>\n",
       "      <th>artist_gender</th>\n",
       "      <th>track_album_release_year</th>\n",
       "      <th>duration_min</th>\n",
       "      <th>track_popularity</th>\n",
       "      <th>genres</th>\n",
       "      <th>record_label</th>\n",
       "      <th>...</th>\n",
       "      <th>liveness</th>\n",
       "      <th>valence</th>\n",
       "      <th>tempo</th>\n",
       "      <th>time_signature</th>\n",
       "      <th>Playlist_year</th>\n",
       "      <th>artist_id</th>\n",
       "      <th>artist_name</th>\n",
       "      <th>artist_followers</th>\n",
       "      <th>artist_popularity</th>\n",
       "      <th>decade</th>\n",
       "    </tr>\n",
       "  </thead>\n",
       "  <tbody>\n",
       "    <tr>\n",
       "      <th>5</th>\n",
       "      <td>2cvztQuBIxwV38kg1Ydaww</td>\n",
       "      <td>How High The Moon - 1st Take</td>\n",
       "      <td>Lullabies Of Birdland</td>\n",
       "      <td>Ella Fitzgerald</td>\n",
       "      <td>F</td>\n",
       "      <td>1954</td>\n",
       "      <td>3.26</td>\n",
       "      <td>41</td>\n",
       "      <td>Jazz</td>\n",
       "      <td>Verve Reissues</td>\n",
       "      <td>...</td>\n",
       "      <td>11.0</td>\n",
       "      <td>63.0</td>\n",
       "      <td>113</td>\n",
       "      <td>4</td>\n",
       "      <td>2019</td>\n",
       "      <td>[5V0MlUE1Bft0mbLlND7FJz]</td>\n",
       "      <td>[Ella Fitzgerald]</td>\n",
       "      <td>[2559247]</td>\n",
       "      <td>[70]</td>\n",
       "      <td>1950</td>\n",
       "    </tr>\n",
       "  </tbody>\n",
       "</table>\n",
       "<p>1 rows × 28 columns</p>\n",
       "</div>"
      ],
      "text/plain": [
       "                 track_id                    track_name  \\\n",
       "5  2cvztQuBIxwV38kg1Ydaww  How High The Moon - 1st Take   \n",
       "\n",
       "        track_album_name     track_artist artist_gender  \\\n",
       "5  Lullabies Of Birdland  Ella Fitzgerald             F   \n",
       "\n",
       "   track_album_release_year  duration_min  track_popularity genres  \\\n",
       "5                      1954          3.26                41   Jazz   \n",
       "\n",
       "     record_label  ...  liveness  valence tempo  time_signature Playlist_year  \\\n",
       "5  Verve Reissues  ...      11.0     63.0   113               4          2019   \n",
       "\n",
       "                  artist_id        artist_name  artist_followers  \\\n",
       "5  [5V0MlUE1Bft0mbLlND7FJz]  [Ella Fitzgerald]         [2559247]   \n",
       "\n",
       "   artist_popularity  decade  \n",
       "5               [70]    1950  \n",
       "\n",
       "[1 rows x 28 columns]"
      ]
     },
     "execution_count": 42,
     "metadata": {},
     "output_type": "execute_result"
    }
   ],
   "source": [
    "df_obama[df_obama[\"track_album_release_year\"] == 1954]"
   ]
  },
  {
   "cell_type": "code",
   "execution_count": 51,
   "metadata": {
    "colab": {
     "base_uri": "https://localhost:8080/"
    },
    "id": "LKAxnQDFqwU8",
    "outputId": "7f3d90c1-50f3-427a-d6ec-712300f5075e"
   },
   "outputs": [
    {
     "name": "stdout",
     "output_type": "stream",
     "text": [
      "Average track popularity for Obama's playlists:  47.41\n",
      "Average track popularity for the 100 streamed songs as of 2024:  81.05\n",
      "\n",
      "Median track popularity for Obama's playlists:  50.0\n",
      "Median track popularity for the 100 streamed songs as of 2024:  82.0\n",
      "\n",
      "Max track popularity for Obama's playlists:  90\n",
      "Max track popularity for the 100 streamed songs as of 2024:  90\n",
      "\n",
      "Min track popularity for Obama's playlists:  0\n",
      "Min track popularity for the 100 streamed songs as of 2024:  52\n"
     ]
    }
   ],
   "source": [
    "print(\"Average track popularity for Obama's playlists: \", round(df_obama[\"track_popularity\"].mean(),2))\n",
    "print(\"Average track popularity for the 100 streamed songs as of 2024: \", round(df_top_100[\"track_popularity\"].mean(),2))\n",
    "\n",
    "print(\"\")\n",
    "\n",
    "print(\"Median track popularity for Obama's playlists: \", round(df_obama[\"track_popularity\"].median(),2))\n",
    "print(\"Median track popularity for the 100 streamed songs as of 2024: \", round(df_top_100[\"track_popularity\"].median(),2))\n",
    "\n",
    "print(\"\")\n",
    "\n",
    "print(\"Max track popularity for Obama's playlists: \", round(df_obama[\"track_popularity\"].max(),2))\n",
    "print(\"Max track popularity for the 100 streamed songs as of 2024: \", round(df_top_100[\"track_popularity\"].max(),2))\n",
    "\n",
    "print(\"\")\n",
    "\n",
    "print(\"Min track popularity for Obama's playlists: \", round(df_obama[\"track_popularity\"].min(),2))\n",
    "print(\"Min track popularity for the 100 streamed songs as of 2024: \", round(df_top_100[\"track_popularity\"].min(),2))\n"
   ]
  },
  {
   "cell_type": "code",
   "execution_count": 45,
   "metadata": {
    "colab": {
     "base_uri": "https://localhost:8080/"
    },
    "id": "uaxxLcTZMydZ",
    "outputId": "0b9c2190-6df8-4015-cdf3-58025aa8389e"
   },
   "outputs": [
    {
     "name": "stdout",
     "output_type": "stream",
     "text": [
      "Average track duration for Obama's playlists:  3.84\n",
      "Average track duration for the 100 streamed songs as of 2024:  3.71\n",
      "\n",
      "Standard deviation of track duration for Obama's playlists:  1.26\n",
      "Standard deviation of track duration for the 100 streamed songs as of 2024:  0.69\n",
      "\n",
      "Median track duration for Obama's playlists:  3.67\n",
      "Median track duration for the 100 streamed songs as of 2024:  3.58\n",
      "\n",
      "Max track duration for Obama's playlists:  13.45\n",
      "Max track duration for the 100 streamed songs as of 2024:  5.92\n",
      "\n",
      "Min track duration for Obama's playlists:  1.28\n",
      "Min track duration for the 100 streamed songs as of 2024:  1.99\n"
     ]
    }
   ],
   "source": [
    "print(\"Average track duration for Obama's playlists: \", round(df_obama[\"duration_min\"].mean(),2))\n",
    "print(\"Average track duration for the 100 streamed songs as of 2024: \", round(df_top_100[\"duration_min\"].mean(),2))\n",
    "\n",
    "print(\"\")\n",
    "\n",
    "print(\"Standard deviation of track duration for Obama's playlists: \", round(df_obama[\"duration_min\"].std(),2))\n",
    "print(\"Standard deviation of track duration for the 100 streamed songs as of 2024: \", round(df_top_100[\"duration_min\"].std(),2))\n",
    "\n",
    "print(\"\")\n",
    "\n",
    "print(\"Median track duration for Obama's playlists: \", round(df_obama[\"duration_min\"].median(),2))\n",
    "print(\"Median track duration for the 100 streamed songs as of 2024: \", round(df_top_100[\"duration_min\"].median(),2))\n",
    "\n",
    "print(\"\")\n",
    "\n",
    "print(\"Max track duration for Obama's playlists: \", round(df_obama[\"duration_min\"].max(),2))\n",
    "print(\"Max track duration for the 100 streamed songs as of 2024: \", round(df_top_100[\"duration_min\"].max(),2))\n",
    "\n",
    "print(\"\")\n",
    "\n",
    "print(\"Min track duration for Obama's playlists: \", round(df_obama[\"duration_min\"].min(),2))\n",
    "print(\"Min track duration for the 100 streamed songs as of 2024: \", round(df_top_100[\"duration_min\"].min(),2))"
   ]
  },
  {
   "cell_type": "code",
   "execution_count": 123,
   "metadata": {
    "colab": {
     "base_uri": "https://localhost:8080/",
     "height": 564
    },
    "id": "4EMsK0EgUNyt",
    "outputId": "b24a98c7-2d43-4cc6-ac9c-2c8414d81bb0"
   },
   "outputs": [
    {
     "data": {
      "image/png": "[encoded data removed]",
      "text/plain": [
       "<Figure size 1000x600 with 1 Axes>"
      ]
     },
     "metadata": {},
     "output_type": "display_data"
    }
   ],
   "source": [
    "plt.figure(figsize=(10, 6))\n",
    "\n",
    "# Plot the Obama dataset histogram with normalized frequency (density)\n",
    "plt.hist(df_obama['duration_min'], bins=30, color='indigo', alpha=1, density=True, label=\"Obama's Songs\")\n",
    "\n",
    "# Plot the Top 100 dataset histogram with normalized frequency (density)\n",
    "plt.hist(df_top_100['duration_min'], bins=30, color='skyblue', alpha=0.8, density=True, label='Top 100 Songs')\n",
    "\n",
    "# Labels and title\n",
    "plt.xlabel('Duration (min)')\n",
    "plt.ylabel('Frequency (ratio)')\n",
    "plt.title('Distribution of Song Durations')\n",
    "\n",
    "# Add a legend to differentiate the two distributions\n",
    "plt.legend()\n",
    "\n",
    "# Display the plot\n",
    "plt.show()"
   ]
  },
  {
   "cell_type": "markdown",
   "metadata": {
    "id": "igZP53pIVGIB"
   },
   "source": [
    "##Music & sonic Features"
   ]
  },
  {
   "cell_type": "markdown",
   "metadata": {
    "id": "6h4XBbC7TF_n"
   },
   "source": [
    "###Valence 🎭"
   ]
  },
  {
   "cell_type": "code",
   "execution_count": 125,
   "metadata": {
    "colab": {
     "base_uri": "https://localhost:8080/"
    },
    "id": "EnwUhqPDSNJx",
    "outputId": "80c32125-70bc-452e-d2f8-af786788e6be"
   },
   "outputs": [
    {
     "name": "stdout",
     "output_type": "stream",
     "text": [
      "Average track valence for Obama's playlists:  56.48 %.\n",
      "Average track valence for the 100 streamed songs as of 2024:  48.91 %.\n"
     ]
    }
   ],
   "source": [
    "print(\"Average track valence for Obama's playlists: \",round(df_obama[\"valence\"].mean(),2),\"%.\")\n",
    "print(\"Average track valence for the 100 streamed songs as of 2024: \",round(df_top_100[\"valence\"].mean(),2),\"%.\")\n"
   ]
  },
  {
   "cell_type": "markdown",
   "metadata": {
    "id": "vLQgxEDjSOui"
   },
   "source": [
    "###Danceability 💃"
   ]
  },
  {
   "cell_type": "code",
   "execution_count": 126,
   "metadata": {
    "colab": {
     "base_uri": "https://localhost:8080/"
    },
    "id": "39FQoRnhMJJ6",
    "outputId": "17c9bcf9-f8a4-4f93-dd7e-7f0c939df023"
   },
   "outputs": [
    {
     "name": "stdout",
     "output_type": "stream",
     "text": [
      "Average track danceability for Obama's playlists:  64.28 %.\n",
      "Average track danceability for the 100 streamed songs as of 2024:  63.81 %.\n",
      "Standard deviation of track danceability for Obama's playlists:  15.96\n",
      "Standard deviation of track danceability for the 100 streamed songs as of 2024:  13.83\n",
      "\n",
      "Median track danceability for Obama's playlists:  65.0\n",
      "Median track danceability for the 100 streamed songs as of 2024:  63.25\n",
      "\n",
      "Max track danceability for Obama's playlists:  96.0\n",
      "Max track danceability for the 100 streamed songs as of 2024:  90.8\n",
      "\n",
      "Min track danceability for Obama's playlists:  27.0\n",
      "Min track danceability for the 100 streamed songs as of 2024:  35.1\n"
     ]
    }
   ],
   "source": [
    "print(\"Average track danceability for Obama's playlists: \",round(df_obama[\"danceability\"].mean(),2),\"%.\")\n",
    "print(\"Average track danceability for the 100 streamed songs as of 2024: \",round(df_top_100[\"danceability\"].mean(),2),\"%.\")\n",
    "\n",
    "print(\"Standard deviation of track danceability for Obama's playlists: \", round(df_obama[\"danceability\"].std(),2))\n",
    "print(\"Standard deviation of track danceability for the 100 streamed songs as of 2024: \", round(df_top_100[\"danceability\"].std(),2))\n",
    "\n",
    "print(\"\")\n",
    "\n",
    "print(\"Median track danceability for Obama's playlists: \", round(df_obama[\"danceability\"].median(),2))\n",
    "print(\"Median track danceability for the 100 streamed songs as of 2024: \", round(df_top_100[\"danceability\"].median(),2))\n",
    "\n",
    "print(\"\")\n",
    "\n",
    "print(\"Max track danceability for Obama's playlists: \", round(df_obama[\"danceability\"].max(),2))\n",
    "print(\"Max track danceability for the 100 streamed songs as of 2024: \", round(df_top_100[\"danceability\"].max(),2))\n",
    "\n",
    "print(\"\")\n",
    "\n",
    "print(\"Min track danceability for Obama's playlists: \", round(df_obama[\"danceability\"].min(),2))\n",
    "print(\"Min track danceability for the 100 streamed songs as of 2024: \", round(df_top_100[\"danceability\"].min(),2))\n",
    "\n"
   ]
  },
  {
   "cell_type": "code",
   "execution_count": 127,
   "metadata": {},
   "outputs": [
    {
     "data": {
      "text/html": [
       "<div>\n",
       "<style scoped>\n",
       "    .dataframe tbody tr th:only-of-type {\n",
       "        vertical-align: middle;\n",
       "    }\n",
       "\n",
       "    .dataframe tbody tr th {\n",
       "        vertical-align: top;\n",
       "    }\n",
       "\n",
       "    .dataframe thead th {\n",
       "        text-align: right;\n",
       "    }\n",
       "</style>\n",
       "<table border=\"1\" class=\"dataframe\">\n",
       "  <thead>\n",
       "    <tr style=\"text-align: right;\">\n",
       "      <th></th>\n",
       "      <th>track_id</th>\n",
       "      <th>track_name</th>\n",
       "      <th>track_album_name</th>\n",
       "      <th>track_artist</th>\n",
       "      <th>artist_id</th>\n",
       "      <th>artist_followers</th>\n",
       "      <th>artist_popularity</th>\n",
       "      <th>artist_gender</th>\n",
       "      <th>track_album_release_year</th>\n",
       "      <th>duration_min</th>\n",
       "      <th>...</th>\n",
       "      <th>loudness</th>\n",
       "      <th>mode</th>\n",
       "      <th>speechiness</th>\n",
       "      <th>acousticness</th>\n",
       "      <th>instrumentalness</th>\n",
       "      <th>liveness</th>\n",
       "      <th>valence</th>\n",
       "      <th>tempo</th>\n",
       "      <th>time_signature</th>\n",
       "      <th>Playlist_year</th>\n",
       "    </tr>\n",
       "  </thead>\n",
       "  <tbody>\n",
       "    <tr>\n",
       "      <th>75</th>\n",
       "      <td>0PXukVbYpvz40KcEFKnIw7</td>\n",
       "      <td>Don't Rush (feat. Headie One)</td>\n",
       "      <td>Don't Rush (feat. Headie One)</td>\n",
       "      <td>Young T &amp; Bugsey,Headie One</td>\n",
       "      <td>6M6XXCcO5gI68XpIlrUL3Z</td>\n",
       "      <td>368255.0</td>\n",
       "      <td>56.0</td>\n",
       "      <td>M</td>\n",
       "      <td>2019</td>\n",
       "      <td>3.46</td>\n",
       "      <td>...</td>\n",
       "      <td>-8.68</td>\n",
       "      <td>Major</td>\n",
       "      <td>27.0</td>\n",
       "      <td>20.0</td>\n",
       "      <td>0.0</td>\n",
       "      <td>16.0</td>\n",
       "      <td>32.0</td>\n",
       "      <td>108</td>\n",
       "      <td>4</td>\n",
       "      <td>2020</td>\n",
       "    </tr>\n",
       "  </tbody>\n",
       "</table>\n",
       "<p>1 rows × 26 columns</p>\n",
       "</div>"
      ],
      "text/plain": [
       "                  track_id                     track_name  \\\n",
       "75  0PXukVbYpvz40KcEFKnIw7  Don't Rush (feat. Headie One)   \n",
       "\n",
       "                 track_album_name                 track_artist  \\\n",
       "75  Don't Rush (feat. Headie One)  Young T & Bugsey,Headie One   \n",
       "\n",
       "                 artist_id  artist_followers  artist_popularity artist_gender  \\\n",
       "75  6M6XXCcO5gI68XpIlrUL3Z          368255.0               56.0             M   \n",
       "\n",
       "    track_album_release_year  duration_min  ...  loudness   mode speechiness  \\\n",
       "75                      2019          3.46  ...     -8.68  Major        27.0   \n",
       "\n",
       "    acousticness  instrumentalness liveness  valence tempo  time_signature  \\\n",
       "75          20.0               0.0     16.0     32.0   108               4   \n",
       "\n",
       "    Playlist_year  \n",
       "75           2020  \n",
       "\n",
       "[1 rows x 26 columns]"
      ]
     },
     "execution_count": 127,
     "metadata": {},
     "output_type": "execute_result"
    }
   ],
   "source": [
    "df_obama[df_obama[\"danceability\"] == 96]"
   ]
  },
  {
   "cell_type": "markdown",
   "metadata": {
    "id": "oJzEyAU4SSxl"
   },
   "source": [
    "###Energy 🥄"
   ]
  },
  {
   "cell_type": "code",
   "execution_count": 128,
   "metadata": {
    "colab": {
     "base_uri": "https://localhost:8080/"
    },
    "id": "dryB7zZI1ot6",
    "outputId": "b4dca196-f636-44c0-a053-a6a42b9814c2"
   },
   "outputs": [
    {
     "name": "stdout",
     "output_type": "stream",
     "text": [
      "Average track energy for Obama's playlists:  58.33 %.\n",
      "Average track energy for the 100 streamed songs as of 2024:  62.74 %.\n"
     ]
    }
   ],
   "source": [
    "print(\"Average track energy for Obama's playlists: \",round(df_obama[\"energy\"].mean(),2),\"%.\")\n",
    "print(\"Average track energy for the 100 streamed songs as of 2024: \",round(df_top_100[\"energy\"].mean(),2),\"%.\")"
   ]
  },
  {
   "cell_type": "markdown",
   "metadata": {
    "id": "m8kNkM1uSaRe"
   },
   "source": [
    "###Loudness 🔊"
   ]
  },
  {
   "cell_type": "code",
   "execution_count": 129,
   "metadata": {
    "colab": {
     "base_uri": "https://localhost:8080/"
    },
    "id": "3kfV8iQQMSpe",
    "outputId": "52677bbd-cb46-4608-eed7-6488b66f1419"
   },
   "outputs": [
    {
     "name": "stdout",
     "output_type": "stream",
     "text": [
      "Average track loudness for Obama's playlists:  -8.33 dB.\n",
      "Average track loudness for the 100 streamed songs as of 2024:  -6.2 dB.\n"
     ]
    }
   ],
   "source": [
    "print(\"Average track loudness for Obama's playlists: \",round(df_obama[\"loudness\"].mean(),2),\"dB.\")\n",
    "print(\"Average track loudness for the 100 streamed songs as of 2024: \",round(df_top_100[\"loudness\"].mean(),2),\"dB.\")"
   ]
  },
  {
   "cell_type": "markdown",
   "metadata": {
    "id": "cTAx-9h-SdET"
   },
   "source": [
    "###Speechiness 🗣"
   ]
  },
  {
   "cell_type": "code",
   "execution_count": 130,
   "metadata": {
    "colab": {
     "base_uri": "https://localhost:8080/"
    },
    "id": "JCrs7T-XMYTc",
    "outputId": "12ead011-6b70-4cb8-c003-1b068898f1b3"
   },
   "outputs": [
    {
     "name": "stdout",
     "output_type": "stream",
     "text": [
      "Average track speechiness for Obama's playlists:  10.42 %.\n",
      "Average track speechiness for the 100 streamed songs as of 2024:  8.59 %.\n"
     ]
    }
   ],
   "source": [
    "print(\"Average track speechiness for Obama's playlists: \",round(df_obama[\"speechiness\"].mean(),2),\"%.\")\n",
    "print(\"Average track speechiness for the 100 streamed songs as of 2024: \",round(df_top_100[\"speechiness\"].mean(),2),\"%.\")"
   ]
  },
  {
   "cell_type": "markdown",
   "metadata": {
    "id": "E_BMhicMSlve"
   },
   "source": [
    "###Instrumentalness 🎼"
   ]
  },
  {
   "cell_type": "code",
   "execution_count": 131,
   "metadata": {
    "colab": {
     "base_uri": "https://localhost:8080/"
    },
    "id": "1S94FhOlGSzT",
    "outputId": "f224e96a-f07b-4c3b-c902-e1851e0a3ab0"
   },
   "outputs": [
    {
     "name": "stdout",
     "output_type": "stream",
     "text": [
      "Average track instrumentalness for Obama's playlists:  3.24 %.\n",
      "Average track instrumentalness for the 100 streamed songs as of 2024:  0.77 %.\n"
     ]
    }
   ],
   "source": [
    "print(\"Average track instrumentalness for Obama's playlists: \",round(df_obama[\"instrumentalness\"].mean(),2),\"%.\")\n",
    "print(\"Average track instrumentalness for the 100 streamed songs as of 2024: \",round(df_top_100[\"instrumentalness\"].mean(),2),\"%.\")"
   ]
  },
  {
   "cell_type": "markdown",
   "metadata": {
    "id": "7WVtFX6TSsIT"
   },
   "source": [
    "###Acousticness 🎙"
   ]
  },
  {
   "cell_type": "code",
   "execution_count": 132,
   "metadata": {
    "colab": {
     "base_uri": "https://localhost:8080/"
    },
    "id": "JuH28GAxGVLP",
    "outputId": "feb6478e-f780-4636-9fef-b99666ec7dc2"
   },
   "outputs": [
    {
     "name": "stdout",
     "output_type": "stream",
     "text": [
      "Average track acousticness for Obama's playlists:  31.22 %.\n",
      "Average track acousticness for the 100 streamed songs as of 2024:  25.32 %.\n"
     ]
    }
   ],
   "source": [
    "print(\"Average track acousticness for Obama's playlists: \",round(df_obama[\"acousticness\"].mean(),2),\"%.\")\n",
    "print(\"Average track acousticness for the 100 streamed songs as of 2024: \",round(df_top_100[\"acousticness\"].mean(),2),\"%.\")"
   ]
  },
  {
   "cell_type": "markdown",
   "metadata": {
    "id": "BrL9LpQoS1KF"
   },
   "source": [
    "###Liveness 🥁"
   ]
  },
  {
   "cell_type": "code",
   "execution_count": 133,
   "metadata": {
    "colab": {
     "base_uri": "https://localhost:8080/"
    },
    "id": "SnMV-8lDSNQ4",
    "outputId": "b6f8c1bd-459e-475e-baf0-553a6ada27ca"
   },
   "outputs": [
    {
     "name": "stdout",
     "output_type": "stream",
     "text": [
      "Average track liveness for Obama's playlists:  16.92 %.\n",
      "Average track liveness for the 100 streamed songs as of 2024:  16.1 %.\n"
     ]
    }
   ],
   "source": [
    "print(\"Average track liveness for Obama's playlists: \",round(df_obama[\"liveness\"].mean(),2),\"%.\")\n",
    "print(\"Average track liveness for the 100 streamed songs as of 2024: \",round(df_top_100[\"liveness\"].mean(),2),\"%.\")"
   ]
  },
  {
   "cell_type": "code",
   "execution_count": 135,
   "metadata": {
    "colab": {
     "base_uri": "https://localhost:8080/"
    },
    "id": "003GD_BdMcMu",
    "outputId": "6a9ab979-8880-4fd0-ea6a-d5c31c13d656"
   },
   "outputs": [
    {
     "name": "stdout",
     "output_type": "stream",
     "text": [
      "                Obama  Top 100\n",
      "time_signature                \n",
      "4                  89       98\n",
      "3                  10        2\n",
      "1                   1        0\n",
      "5                   0        0\n"
     ]
    }
   ],
   "source": [
    "# Compute the time signature counts for both DataFrames\n",
    "obama_time_signatures = df_obama[\"time_signature\"].value_counts(normalize=True).rename(\"Obama\")\n",
    "top_100_time_signatures = df_top_100[\"time_signature\"].value_counts(normalize=True).rename(\"Top 100\")\n",
    "\n",
    "# Combine both counts into a single DataFrame\n",
    "combined_time_signatures = pd.concat([obama_time_signatures, top_100_time_signatures], axis=1)\n",
    "\n",
    "# Fill NaN values with 0 if some time signatures don't appear in both datasets\n",
    "combined_time_signatures = combined_time_signatures.fillna(0)\n",
    "\n",
    "# Convert ratios to percentages and round to the nearest integer\n",
    "combined_time_signatures = combined_time_signatures * 100\n",
    "combined_time_signatures = combined_time_signatures.round(0).astype(int)\n",
    "\n",
    "# Display the combined table with ratios\n",
    "print(combined_time_signatures)"
   ]
  },
  {
   "cell_type": "code",
   "execution_count": 136,
   "metadata": {
    "colab": {
     "base_uri": "https://localhost:8080/"
    },
    "id": "lbqH79qsMlKJ",
    "outputId": "01aaae94-6f4c-4781-d897-9e3b5bc33242"
   },
   "outputs": [
    {
     "name": "stdout",
     "output_type": "stream",
     "text": [
      "       Obama  Top 100\n",
      "mode                 \n",
      "Major     59       65\n",
      "minor     36        0\n",
      "Minor      5       35\n"
     ]
    }
   ],
   "source": [
    "# Compute the mode counts for both DataFrames\n",
    "obama_modes = df_obama[\"mode\"].value_counts(normalize=True).rename(\"Obama\")\n",
    "top_100_modes = df_top_100[\"mode\"].value_counts(normalize=True).rename(\"Top 100\")\n",
    "\n",
    "# Combine both counts into a single DataFrame\n",
    "combined_modes = pd.concat([obama_modes, top_100_modes], axis=1)\n",
    "\n",
    "# Fill NaN values with 0 if some time signatures don't appear in both datasets\n",
    "combined_modes = combined_modes.fillna(0)\n",
    "\n",
    "# Convert ratios to percentages and round to the nearest integer\n",
    "combined_modes = combined_modes * 100\n",
    "combined_modes = combined_modes.round(0).astype(int)\n",
    "\n",
    "# Display the combined table with ratios\n",
    "print(combined_modes)"
   ]
  },
  {
   "cell_type": "code",
   "execution_count": 137,
   "metadata": {
    "colab": {
     "base_uri": "https://localhost:8080/",
     "height": 1000
    },
    "id": "3Wx6OBVuVZsw",
    "outputId": "418dbf6b-4aab-4b40-e2ae-74e9d653c904"
   },
   "outputs": [
    {
     "data": {
      "image/png": "[encoded data removed]",
      "text/plain": [
       "<Figure size 2000x2000 with 9 Axes>"
      ]
     },
     "metadata": {},
     "output_type": "display_data"
    }
   ],
   "source": [
    "\n",
    "plt.figure(figsize=(20, 20))\n",
    "\n",
    "# Overlay histograms for each category\n",
    "for i, category in enumerate(['danceability', 'energy', 'loudness', 'speechiness', 'instrumentalness', 'acousticness', 'liveness', 'valence', 'tempo']):\n",
    "    plt.subplot(3, 3, i + 1)\n",
    "\n",
    "    # Plot the Obama dataset histogram with transparency\n",
    "    plt.hist(df_obama[category], bins=30, alpha=0.5, label='Obama', color='indigo')\n",
    "\n",
    "    # Plot the Top 100 dataset histogram with transparency\n",
    "    plt.hist(df_top_100[category], bins=30, alpha=0.5, label='Top 100', color='skyblue')\n",
    "\n",
    "    # Display the mean for Obama dataset\n",
    "    plt.text(plt.xlim()[1] - (plt.xlim()[1] - plt.xlim()[0]) * 0.3,\n",
    "             plt.ylim()[1] * 0.9, r'$\\mu=$' + str(df_obama[category].mean())[:7], fontsize=12)\n",
    "\n",
    "    # Display the mean for Top 100 dataset\n",
    "    plt.text(plt.xlim()[1] - (plt.xlim()[1] - plt.xlim()[0]) * 0.3,\n",
    "             plt.ylim()[1] * 0.8, r'$\\mu=$' + str(df_top_100[category].mean())[:7], fontsize=12)\n",
    "\n",
    "    plt.xlabel('Value')\n",
    "    plt.ylabel('Num Tracks')\n",
    "    plt.title(category)\n",
    "    plt.legend()\n",
    "\n",
    "# Adjust layout\n",
    "plt.tight_layout(h_pad=2)\n",
    "plt.show()"
   ]
  },
  {
   "cell_type": "code",
   "execution_count": 138,
   "metadata": {
    "colab": {
     "base_uri": "https://localhost:8080/",
     "height": 599
    },
    "id": "6aYx1areXcrm",
    "outputId": "b11a4940-9002-4414-aec6-926bec984557"
   },
   "outputs": [
    {
     "ename": "ValueError",
     "evalue": "The number of FixedLocator locations (3), usually from a call to set_ticks, does not match the number of labels (2).",
     "output_type": "error",
     "traceback": [
      "\u001b[0;31m---------------------------------------------------------------------------\u001b[0m",
      "\u001b[0;31mValueError\u001b[0m                                Traceback (most recent call last)",
      "Cell \u001b[0;32mIn[138], line 17\u001b[0m\n\u001b[1;32m     15\u001b[0m plt\u001b[38;5;241m.\u001b[39msubplot(\u001b[38;5;241m1\u001b[39m, \u001b[38;5;241m3\u001b[39m, \u001b[38;5;241m3\u001b[39m)\n\u001b[1;32m     16\u001b[0m sns\u001b[38;5;241m.\u001b[39mcountplot(df_obama, x\u001b[38;5;241m=\u001b[39m\u001b[38;5;124m'\u001b[39m\u001b[38;5;124mmode\u001b[39m\u001b[38;5;124m'\u001b[39m, hue\u001b[38;5;241m=\u001b[39m\u001b[38;5;124m'\u001b[39m\u001b[38;5;124mmode\u001b[39m\u001b[38;5;124m'\u001b[39m, legend\u001b[38;5;241m=\u001b[39m\u001b[38;5;28;01mFalse\u001b[39;00m)\n\u001b[0;32m---> 17\u001b[0m \u001b[43mplt\u001b[49m\u001b[38;5;241;43m.\u001b[39;49m\u001b[43mxticks\u001b[49m\u001b[43m(\u001b[49m\u001b[43mticks\u001b[49m\u001b[38;5;241;43m=\u001b[39;49m\u001b[43mplt\u001b[49m\u001b[38;5;241;43m.\u001b[39;49m\u001b[43mxticks\u001b[49m\u001b[43m(\u001b[49m\u001b[43m)\u001b[49m\u001b[43m[\u001b[49m\u001b[38;5;241;43m0\u001b[39;49m\u001b[43m]\u001b[49m\u001b[43m,\u001b[49m\u001b[43m \u001b[49m\u001b[43mlabels\u001b[49m\u001b[38;5;241;43m=\u001b[39;49m\u001b[43m[\u001b[49m\u001b[38;5;124;43m'\u001b[39;49m\u001b[38;5;124;43mMajor\u001b[39;49m\u001b[38;5;124;43m'\u001b[39;49m\u001b[43m,\u001b[49m\u001b[43m \u001b[49m\u001b[38;5;124;43m'\u001b[39;49m\u001b[38;5;124;43mminor\u001b[39;49m\u001b[38;5;124;43m'\u001b[39;49m\u001b[43m]\u001b[49m\u001b[43m)\u001b[49m\n\u001b[1;32m     18\u001b[0m plt\u001b[38;5;241m.\u001b[39mylabel(\u001b[38;5;124m'\u001b[39m\u001b[38;5;124mNum Tracks\u001b[39m\u001b[38;5;124m'\u001b[39m)\n\u001b[1;32m     19\u001b[0m plt\u001b[38;5;241m.\u001b[39mtitle(\u001b[38;5;124m'\u001b[39m\u001b[38;5;124mMajor vs Minor mode\u001b[39m\u001b[38;5;124m'\u001b[39m)\n",
      "File \u001b[0;32m/Library/Frameworks/Python.framework/Versions/3.13/lib/python3.13/site-packages/matplotlib/pyplot.py:2229\u001b[0m, in \u001b[0;36mxticks\u001b[0;34m(ticks, labels, minor, **kwargs)\u001b[0m\n\u001b[1;32m   2227\u001b[0m         l\u001b[38;5;241m.\u001b[39m_internal_update(kwargs)\n\u001b[1;32m   2228\u001b[0m \u001b[38;5;28;01melse\u001b[39;00m:\n\u001b[0;32m-> 2229\u001b[0m     labels_out \u001b[38;5;241m=\u001b[39m \u001b[43max\u001b[49m\u001b[38;5;241;43m.\u001b[39;49m\u001b[43mset_xticklabels\u001b[49m\u001b[43m(\u001b[49m\u001b[43mlabels\u001b[49m\u001b[43m,\u001b[49m\u001b[43m \u001b[49m\u001b[43mminor\u001b[49m\u001b[38;5;241;43m=\u001b[39;49m\u001b[43mminor\u001b[49m\u001b[43m,\u001b[49m\u001b[43m \u001b[49m\u001b[38;5;241;43m*\u001b[39;49m\u001b[38;5;241;43m*\u001b[39;49m\u001b[43mkwargs\u001b[49m\u001b[43m)\u001b[49m\n\u001b[1;32m   2231\u001b[0m \u001b[38;5;28;01mreturn\u001b[39;00m locs, labels_out\n",
      "File \u001b[0;32m/Library/Frameworks/Python.framework/Versions/3.13/lib/python3.13/site-packages/matplotlib/axes/_base.py:74\u001b[0m, in \u001b[0;36m_axis_method_wrapper.__set_name__.<locals>.wrapper\u001b[0;34m(self, *args, **kwargs)\u001b[0m\n\u001b[1;32m     73\u001b[0m \u001b[38;5;28;01mdef\u001b[39;00m \u001b[38;5;21mwrapper\u001b[39m(\u001b[38;5;28mself\u001b[39m, \u001b[38;5;241m*\u001b[39margs, \u001b[38;5;241m*\u001b[39m\u001b[38;5;241m*\u001b[39mkwargs):\n\u001b[0;32m---> 74\u001b[0m     \u001b[38;5;28;01mreturn\u001b[39;00m \u001b[43mget_method\u001b[49m\u001b[43m(\u001b[49m\u001b[38;5;28;43mself\u001b[39;49m\u001b[43m)\u001b[49m\u001b[43m(\u001b[49m\u001b[38;5;241;43m*\u001b[39;49m\u001b[43margs\u001b[49m\u001b[43m,\u001b[49m\u001b[43m \u001b[49m\u001b[38;5;241;43m*\u001b[39;49m\u001b[38;5;241;43m*\u001b[39;49m\u001b[43mkwargs\u001b[49m\u001b[43m)\u001b[49m\n",
      "File \u001b[0;32m/Library/Frameworks/Python.framework/Versions/3.13/lib/python3.13/site-packages/matplotlib/axis.py:2071\u001b[0m, in \u001b[0;36mAxis.set_ticklabels\u001b[0;34m(self, labels, minor, fontdict, **kwargs)\u001b[0m\n\u001b[1;32m   2067\u001b[0m \u001b[38;5;28;01melif\u001b[39;00m \u001b[38;5;28misinstance\u001b[39m(locator, mticker\u001b[38;5;241m.\u001b[39mFixedLocator):\n\u001b[1;32m   2068\u001b[0m     \u001b[38;5;66;03m# Passing [] as a list of labels is often used as a way to\u001b[39;00m\n\u001b[1;32m   2069\u001b[0m     \u001b[38;5;66;03m# remove all tick labels, so only error for > 0 labels\u001b[39;00m\n\u001b[1;32m   2070\u001b[0m     \u001b[38;5;28;01mif\u001b[39;00m \u001b[38;5;28mlen\u001b[39m(locator\u001b[38;5;241m.\u001b[39mlocs) \u001b[38;5;241m!=\u001b[39m \u001b[38;5;28mlen\u001b[39m(labels) \u001b[38;5;129;01mand\u001b[39;00m \u001b[38;5;28mlen\u001b[39m(labels) \u001b[38;5;241m!=\u001b[39m \u001b[38;5;241m0\u001b[39m:\n\u001b[0;32m-> 2071\u001b[0m         \u001b[38;5;28;01mraise\u001b[39;00m \u001b[38;5;167;01mValueError\u001b[39;00m(\n\u001b[1;32m   2072\u001b[0m             \u001b[38;5;124m\"\u001b[39m\u001b[38;5;124mThe number of FixedLocator locations\u001b[39m\u001b[38;5;124m\"\u001b[39m\n\u001b[1;32m   2073\u001b[0m             \u001b[38;5;124mf\u001b[39m\u001b[38;5;124m\"\u001b[39m\u001b[38;5;124m (\u001b[39m\u001b[38;5;132;01m{\u001b[39;00m\u001b[38;5;28mlen\u001b[39m(locator\u001b[38;5;241m.\u001b[39mlocs)\u001b[38;5;132;01m}\u001b[39;00m\u001b[38;5;124m), usually from a call to\u001b[39m\u001b[38;5;124m\"\u001b[39m\n\u001b[1;32m   2074\u001b[0m             \u001b[38;5;124m\"\u001b[39m\u001b[38;5;124m set_ticks, does not match\u001b[39m\u001b[38;5;124m\"\u001b[39m\n\u001b[1;32m   2075\u001b[0m             \u001b[38;5;124mf\u001b[39m\u001b[38;5;124m\"\u001b[39m\u001b[38;5;124m the number of labels (\u001b[39m\u001b[38;5;132;01m{\u001b[39;00m\u001b[38;5;28mlen\u001b[39m(labels)\u001b[38;5;132;01m}\u001b[39;00m\u001b[38;5;124m).\u001b[39m\u001b[38;5;124m\"\u001b[39m)\n\u001b[1;32m   2076\u001b[0m     tickd \u001b[38;5;241m=\u001b[39m {loc: lab \u001b[38;5;28;01mfor\u001b[39;00m loc, lab \u001b[38;5;129;01min\u001b[39;00m \u001b[38;5;28mzip\u001b[39m(locator\u001b[38;5;241m.\u001b[39mlocs, labels)}\n\u001b[1;32m   2077\u001b[0m     func \u001b[38;5;241m=\u001b[39m functools\u001b[38;5;241m.\u001b[39mpartial(\u001b[38;5;28mself\u001b[39m\u001b[38;5;241m.\u001b[39m_format_with_dict, tickd)\n",
      "\u001b[0;31mValueError\u001b[0m: The number of FixedLocator locations (3), usually from a call to set_ticks, does not match the number of labels (2)."
     ]
    },
    {
     "data": {
      "image/png": "[encoded data removed]",
      "text/plain": [
       "<Figure size 1500x400 with 3 Axes>"
      ]
     },
     "metadata": {},
     "output_type": "display_data"
    }
   ],
   "source": [
    "plt.figure(figsize=(15, 4))\n",
    "\n",
    "plt.subplot(1, 3, 1)\n",
    "sns.countplot(df_obama, x='time_signature', hue='time_signature', legend=False)\n",
    "plt.xlabel('Beats per measure')\n",
    "plt.ylabel('Num Tracks')\n",
    "plt.title('Time signature')\n",
    "\n",
    "plt.subplot(1, 3, 2)\n",
    "sns.countplot(df_obama, x='key', hue='key', palette='flare', legend=False)\n",
    "plt.xticks(ticks=plt.xticks()[0], labels=['C', 'C#', 'D', 'D#', 'E', 'F', 'F#', 'G', 'G#', 'A', 'A#', 'B'])\n",
    "plt.ylabel('Num Tracks')\n",
    "plt.title('Key')\n",
    "\n",
    "plt.subplot(1, 3, 3)\n",
    "sns.countplot(df_obama, x='mode', hue='mode', legend=False)\n",
    "plt.xticks(ticks=plt.xticks()[0], labels=['Major', 'minor'])\n",
    "plt.ylabel('Num Tracks')\n",
    "plt.title('Major vs Minor mode')\n",
    "\n",
    "plt.tight_layout(w_pad=2)\n",
    "plt.show()\n",
    "\n",
    "\n",
    "plt.figure(figsize=(15, 4))\n",
    "\n",
    "plt.subplot(1, 3, 1)\n",
    "sns.countplot(df_top_100, x='time_signature', hue='time_signature', legend=False)\n",
    "plt.xlabel('Beats per measure')\n",
    "plt.ylabel('Num Tracks')\n",
    "plt.title('Time signature distribution')\n",
    "\n",
    "plt.subplot(1, 3, 2)\n",
    "sns.countplot(df_top_100, x='key_name', hue='key_name', palette='flare', legend=False)\n",
    "plt.xticks(ticks=plt.xticks()[0], labels=['C', 'C#', 'D', 'D#', 'E', 'F', 'F#', 'G', 'G#', 'A', 'A#', 'B'])\n",
    "plt.ylabel('Num Tracks')\n",
    "plt.title('Key distribution')\n",
    "\n",
    "plt.subplot(1, 3, 3)\n",
    "sns.countplot(df_top_100, x='mode', hue='mode', legend=False)\n",
    "plt.xticks(ticks=plt.xticks()[0], labels=['Major', 'minor'])\n",
    "plt.ylabel('Num Tracks')\n",
    "plt.title('Major vs Minor mode distribution')\n",
    "\n",
    "plt.tight_layout(w_pad=2)\n",
    "plt.show()"
   ]
  }
 ],
 "metadata": {
  "colab": {
   "provenance": []
  },
  "kernelspec": {
   "display_name": "Python 3",
   "name": "python3"
  },
  "language_info": {
   "codemirror_mode": {
    "name": "ipython",
    "version": 3
   },
   "file_extension": ".py",
   "mimetype": "text/x-python",
   "name": "python",
   "nbconvert_exporter": "python",
   "pygments_lexer": "ipython3",
   "version": "3.13.0"
  }
 },
 "nbformat": 4,
 "nbformat_minor": 0
}
