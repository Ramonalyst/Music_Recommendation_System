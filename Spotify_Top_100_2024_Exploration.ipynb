{
 "cells": [
  {
   "cell_type": "markdown",
   "metadata": {
    "id": "waHsB5RZqs0L"
   },
   "source": [
    "# Loading the data"
   ]
  },
  {
   "cell_type": "code",
   "execution_count": null,
   "metadata": {},
   "outputs": [],
   "source": [
    "!python3 -m ensurepip --upgrade\n",
    "!python3 -m pip install pandas plotly"
   ]
  },
  {
   "cell_type": "code",
   "execution_count": null,
   "metadata": {},
   "outputs": [],
   "source": [
    "!python3 -m pip install matplotlib numpy seaborn"
   ]
  },
  {
   "cell_type": "code",
   "execution_count": 1,
   "metadata": {
    "id": "epP_jTQ6toQx"
   },
   "outputs": [],
   "source": [
    "import pandas as pd\n",
    "import plotly.express as px"
   ]
  },
  {
   "cell_type": "code",
   "execution_count": 2,
   "metadata": {
    "id": "n_1IsNjLcTmo"
   },
   "outputs": [],
   "source": [
    "import matplotlib.pyplot as plt\n",
    "import numpy as np\n",
    "import seaborn as sns"
   ]
  },
  {
   "cell_type": "code",
   "execution_count": 81,
   "metadata": {
    "id": "WT-EbCKztub6"
   },
   "outputs": [],
   "source": [
    "df = pd.read_csv(\"/Users/mariegeorgescudehillerin/Downloads/2024_spotify_top_100_cleaned.csv\")"
   ]
  },
  {
   "cell_type": "markdown",
   "metadata": {
    "id": "v0XCv4gYtqpn"
   },
   "source": [
    "#Data Exploration"
   ]
  },
  {
   "cell_type": "code",
   "execution_count": 66,
   "metadata": {
    "colab": {
     "base_uri": "https://localhost:8080/"
    },
    "id": "XY_hQd2F0j_D",
    "outputId": "f2b85597-8e32-43fb-87c8-96ab58dc0baf"
   },
   "outputs": [
    {
     "data": {
      "text/plain": [
       "(100, 21)"
      ]
     },
     "execution_count": 66,
     "metadata": {},
     "output_type": "execute_result"
    }
   ],
   "source": [
    "df.shape"
   ]
  },
  {
   "cell_type": "code",
   "execution_count": 5,
   "metadata": {
    "colab": {
     "base_uri": "https://localhost:8080/",
     "height": 708
    },
    "id": "_Er42d71m4zY",
    "outputId": "ab29936a-06ea-4e6f-8c0d-ea5e18ec6050"
   },
   "outputs": [
    {
     "data": {
      "text/html": [
       "<div>\n",
       "<style scoped>\n",
       "    .dataframe tbody tr th:only-of-type {\n",
       "        vertical-align: middle;\n",
       "    }\n",
       "\n",
       "    .dataframe tbody tr th {\n",
       "        vertical-align: top;\n",
       "    }\n",
       "\n",
       "    .dataframe thead th {\n",
       "        text-align: right;\n",
       "    }\n",
       "</style>\n",
       "<table border=\"1\" class=\"dataframe\">\n",
       "  <thead>\n",
       "    <tr style=\"text-align: right;\">\n",
       "      <th></th>\n",
       "      <th>Column Names</th>\n",
       "    </tr>\n",
       "  </thead>\n",
       "  <tbody>\n",
       "    <tr>\n",
       "      <th>0</th>\n",
       "      <td>track_id</td>\n",
       "    </tr>\n",
       "    <tr>\n",
       "      <th>1</th>\n",
       "      <td>track_name</td>\n",
       "    </tr>\n",
       "    <tr>\n",
       "      <th>2</th>\n",
       "      <td>track_artist</td>\n",
       "    </tr>\n",
       "    <tr>\n",
       "      <th>3</th>\n",
       "      <td>track_popularity</td>\n",
       "    </tr>\n",
       "    <tr>\n",
       "      <th>4</th>\n",
       "      <td>track_album_name</td>\n",
       "    </tr>\n",
       "    <tr>\n",
       "      <th>5</th>\n",
       "      <td>track_album_release_year</td>\n",
       "    </tr>\n",
       "    <tr>\n",
       "      <th>6</th>\n",
       "      <td>duration_min</td>\n",
       "    </tr>\n",
       "    <tr>\n",
       "      <th>7</th>\n",
       "      <td>Genres</td>\n",
       "    </tr>\n",
       "    <tr>\n",
       "      <th>8</th>\n",
       "      <td>record_label</td>\n",
       "    </tr>\n",
       "    <tr>\n",
       "      <th>9</th>\n",
       "      <td>danceability</td>\n",
       "    </tr>\n",
       "    <tr>\n",
       "      <th>10</th>\n",
       "      <td>energy</td>\n",
       "    </tr>\n",
       "    <tr>\n",
       "      <th>11</th>\n",
       "      <td>key_name</td>\n",
       "    </tr>\n",
       "    <tr>\n",
       "      <th>12</th>\n",
       "      <td>loudness</td>\n",
       "    </tr>\n",
       "    <tr>\n",
       "      <th>13</th>\n",
       "      <td>mode</td>\n",
       "    </tr>\n",
       "    <tr>\n",
       "      <th>14</th>\n",
       "      <td>speechiness</td>\n",
       "    </tr>\n",
       "    <tr>\n",
       "      <th>15</th>\n",
       "      <td>acousticness</td>\n",
       "    </tr>\n",
       "    <tr>\n",
       "      <th>16</th>\n",
       "      <td>instrumentalness</td>\n",
       "    </tr>\n",
       "    <tr>\n",
       "      <th>17</th>\n",
       "      <td>liveliness</td>\n",
       "    </tr>\n",
       "    <tr>\n",
       "      <th>18</th>\n",
       "      <td>valence</td>\n",
       "    </tr>\n",
       "    <tr>\n",
       "      <th>19</th>\n",
       "      <td>tempo</td>\n",
       "    </tr>\n",
       "    <tr>\n",
       "      <th>20</th>\n",
       "      <td>Time Signature</td>\n",
       "    </tr>\n",
       "  </tbody>\n",
       "</table>\n",
       "</div>"
      ],
      "text/plain": [
       "                Column Names\n",
       "0                   track_id\n",
       "1                 track_name\n",
       "2               track_artist\n",
       "3           track_popularity\n",
       "4           track_album_name\n",
       "5   track_album_release_year\n",
       "6               duration_min\n",
       "7                     Genres\n",
       "8               record_label\n",
       "9               danceability\n",
       "10                    energy\n",
       "11                  key_name\n",
       "12                  loudness\n",
       "13                      mode\n",
       "14               speechiness\n",
       "15              acousticness\n",
       "16          instrumentalness\n",
       "17                liveliness\n",
       "18                   valence\n",
       "19                     tempo\n",
       "20            Time Signature"
      ]
     },
     "execution_count": 5,
     "metadata": {},
     "output_type": "execute_result"
    }
   ],
   "source": [
    "pd.DataFrame(df.columns, columns=[\"Column Names\"])"
   ]
  },
  {
   "cell_type": "code",
   "execution_count": 6,
   "metadata": {
    "colab": {
     "base_uri": "https://localhost:8080/"
    },
    "id": "ghwD-XvbICPh",
    "outputId": "6f8008de-8b33-4746-d4b7-5612c70fc01a"
   },
   "outputs": [
    {
     "name": "stdout",
     "output_type": "stream",
     "text": [
      "<class 'pandas.core.frame.DataFrame'>\n",
      "RangeIndex: 100 entries, 0 to 99\n",
      "Data columns (total 21 columns):\n",
      " #   Column                    Non-Null Count  Dtype  \n",
      "---  ------                    --------------  -----  \n",
      " 0   track_id                  100 non-null    object \n",
      " 1   track_name                100 non-null    object \n",
      " 2   track_artist              100 non-null    object \n",
      " 3   track_popularity          100 non-null    int64  \n",
      " 4   track_album_name          100 non-null    object \n",
      " 5   track_album_release_year  100 non-null    int64  \n",
      " 6   duration_min              100 non-null    float64\n",
      " 7   Genres                    100 non-null    object \n",
      " 8   record_label              100 non-null    object \n",
      " 9   danceability              100 non-null    object \n",
      " 10  energy                    100 non-null    object \n",
      " 11  key_name                  100 non-null    object \n",
      " 12  loudness                  100 non-null    float64\n",
      " 13  mode                      100 non-null    object \n",
      " 14  speechiness               100 non-null    object \n",
      " 15  acousticness              100 non-null    object \n",
      " 16  instrumentalness          100 non-null    object \n",
      " 17  liveliness                100 non-null    object \n",
      " 18  valence                   100 non-null    object \n",
      " 19  tempo                     100 non-null    float64\n",
      " 20  Time Signature            100 non-null    int64  \n",
      "dtypes: float64(3), int64(3), object(15)\n",
      "memory usage: 16.5+ KB\n"
     ]
    }
   ],
   "source": [
    "df.info()"
   ]
  },
  {
   "cell_type": "code",
   "execution_count": 7,
   "metadata": {
    "colab": {
     "base_uri": "https://localhost:8080/",
     "height": 377
    },
    "id": "Eh6dnVKS0yCN",
    "outputId": "85eafb4a-5a1a-4ff8-b95d-9cc3af7aa98f"
   },
   "outputs": [
    {
     "data": {
      "text/html": [
       "<div>\n",
       "<style scoped>\n",
       "    .dataframe tbody tr th:only-of-type {\n",
       "        vertical-align: middle;\n",
       "    }\n",
       "\n",
       "    .dataframe tbody tr th {\n",
       "        vertical-align: top;\n",
       "    }\n",
       "\n",
       "    .dataframe thead th {\n",
       "        text-align: right;\n",
       "    }\n",
       "</style>\n",
       "<table border=\"1\" class=\"dataframe\">\n",
       "  <thead>\n",
       "    <tr style=\"text-align: right;\">\n",
       "      <th></th>\n",
       "      <th>track_id</th>\n",
       "      <th>track_name</th>\n",
       "      <th>track_artist</th>\n",
       "      <th>track_popularity</th>\n",
       "      <th>track_album_name</th>\n",
       "      <th>track_album_release_year</th>\n",
       "      <th>duration_min</th>\n",
       "      <th>Genres</th>\n",
       "      <th>record_label</th>\n",
       "      <th>danceability</th>\n",
       "      <th>...</th>\n",
       "      <th>key_name</th>\n",
       "      <th>loudness</th>\n",
       "      <th>mode</th>\n",
       "      <th>speechiness</th>\n",
       "      <th>acousticness</th>\n",
       "      <th>instrumentalness</th>\n",
       "      <th>liveliness</th>\n",
       "      <th>valence</th>\n",
       "      <th>tempo</th>\n",
       "      <th>Time Signature</th>\n",
       "    </tr>\n",
       "  </thead>\n",
       "  <tbody>\n",
       "    <tr>\n",
       "      <th>0</th>\n",
       "      <td>0VjIjW4GlUZAMYd2vXMi3b</td>\n",
       "      <td>Blinding Lights</td>\n",
       "      <td>The Weeknd</td>\n",
       "      <td>87</td>\n",
       "      <td>After Hours</td>\n",
       "      <td>2020</td>\n",
       "      <td>3.33</td>\n",
       "      <td>Pop/R&amp;B</td>\n",
       "      <td>Republic Records</td>\n",
       "      <td>51.30%</td>\n",
       "      <td>...</td>\n",
       "      <td>C#</td>\n",
       "      <td>-5.940</td>\n",
       "      <td>Major</td>\n",
       "      <td>5.98%</td>\n",
       "      <td>0.14%</td>\n",
       "      <td>0.01%</td>\n",
       "      <td>8.97%</td>\n",
       "      <td>33.40%</td>\n",
       "      <td>171.00</td>\n",
       "      <td>4</td>\n",
       "    </tr>\n",
       "    <tr>\n",
       "      <th>1</th>\n",
       "      <td>7qiZfU4dY1lWllzX7mPBI3</td>\n",
       "      <td>Shape of You</td>\n",
       "      <td>Ed Sheeran</td>\n",
       "      <td>85</td>\n",
       "      <td>÷ (Deluxe)</td>\n",
       "      <td>2017</td>\n",
       "      <td>3.90</td>\n",
       "      <td>UK Pop</td>\n",
       "      <td>Atlantic Records UK</td>\n",
       "      <td>82.50%</td>\n",
       "      <td>...</td>\n",
       "      <td>C#</td>\n",
       "      <td>-3.183</td>\n",
       "      <td>Minor</td>\n",
       "      <td>8.02%</td>\n",
       "      <td>58.10%</td>\n",
       "      <td>0.00%</td>\n",
       "      <td>9.31%</td>\n",
       "      <td>93.10%</td>\n",
       "      <td>95.98</td>\n",
       "      <td>4</td>\n",
       "    </tr>\n",
       "    <tr>\n",
       "      <th>2</th>\n",
       "      <td>7qEHsqek33rTcFNT9PFqLf</td>\n",
       "      <td>Someone You Loved</td>\n",
       "      <td>Lewis Capaldi</td>\n",
       "      <td>86</td>\n",
       "      <td>Divinely Uninspired To A Hellish Extent</td>\n",
       "      <td>2019</td>\n",
       "      <td>3.04</td>\n",
       "      <td>UK Pop</td>\n",
       "      <td>Vertigo Berlin</td>\n",
       "      <td>50.10%</td>\n",
       "      <td>...</td>\n",
       "      <td>C#</td>\n",
       "      <td>-5.679</td>\n",
       "      <td>Major</td>\n",
       "      <td>3.19%</td>\n",
       "      <td>75.10%</td>\n",
       "      <td>0.00%</td>\n",
       "      <td>10.50%</td>\n",
       "      <td>44.60%</td>\n",
       "      <td>109.89</td>\n",
       "      <td>4</td>\n",
       "    </tr>\n",
       "    <tr>\n",
       "      <th>3</th>\n",
       "      <td>4Dvkj6JhhA12EX05fT7y2e</td>\n",
       "      <td>As It Was</td>\n",
       "      <td>Harry Styles</td>\n",
       "      <td>87</td>\n",
       "      <td>Harry's House</td>\n",
       "      <td>2022</td>\n",
       "      <td>2.79</td>\n",
       "      <td>Pop</td>\n",
       "      <td>Columbia</td>\n",
       "      <td>52.00%</td>\n",
       "      <td>...</td>\n",
       "      <td>F#</td>\n",
       "      <td>-5.338</td>\n",
       "      <td>Minor</td>\n",
       "      <td>5.57%</td>\n",
       "      <td>34.20%</td>\n",
       "      <td>0.10%</td>\n",
       "      <td>31.10%</td>\n",
       "      <td>66.20%</td>\n",
       "      <td>173.93</td>\n",
       "      <td>4</td>\n",
       "    </tr>\n",
       "    <tr>\n",
       "      <th>4</th>\n",
       "      <td>3KkXRkHbMCARz0aVfEt68P</td>\n",
       "      <td>Sunflower - Spider-Man: Into the Spider-Verse</td>\n",
       "      <td>Post Malone,Swae Lee</td>\n",
       "      <td>79</td>\n",
       "      <td>Spider-Man: Into the Spider-Verse (Soundtrack ...</td>\n",
       "      <td>2018</td>\n",
       "      <td>2.63</td>\n",
       "      <td>Rap</td>\n",
       "      <td>Universal Records</td>\n",
       "      <td>76.00%</td>\n",
       "      <td>...</td>\n",
       "      <td>D</td>\n",
       "      <td>-5.574</td>\n",
       "      <td>Major</td>\n",
       "      <td>4.67%</td>\n",
       "      <td>55.20%</td>\n",
       "      <td>0.00%</td>\n",
       "      <td>7.03%</td>\n",
       "      <td>91.30%</td>\n",
       "      <td>89.91</td>\n",
       "      <td>4</td>\n",
       "    </tr>\n",
       "  </tbody>\n",
       "</table>\n",
       "<p>5 rows × 21 columns</p>\n",
       "</div>"
      ],
      "text/plain": [
       "                 track_id                                     track_name  \\\n",
       "0  0VjIjW4GlUZAMYd2vXMi3b                                Blinding Lights   \n",
       "1  7qiZfU4dY1lWllzX7mPBI3                                   Shape of You   \n",
       "2  7qEHsqek33rTcFNT9PFqLf                              Someone You Loved   \n",
       "3  4Dvkj6JhhA12EX05fT7y2e                                      As It Was   \n",
       "4  3KkXRkHbMCARz0aVfEt68P  Sunflower - Spider-Man: Into the Spider-Verse   \n",
       "\n",
       "           track_artist  track_popularity  \\\n",
       "0            The Weeknd                87   \n",
       "1            Ed Sheeran                85   \n",
       "2         Lewis Capaldi                86   \n",
       "3          Harry Styles                87   \n",
       "4  Post Malone,Swae Lee                79   \n",
       "\n",
       "                                    track_album_name  \\\n",
       "0                                        After Hours   \n",
       "1                                         ÷ (Deluxe)   \n",
       "2            Divinely Uninspired To A Hellish Extent   \n",
       "3                                      Harry's House   \n",
       "4  Spider-Man: Into the Spider-Verse (Soundtrack ...   \n",
       "\n",
       "   track_album_release_year  duration_min   Genres         record_label  \\\n",
       "0                      2020          3.33  Pop/R&B     Republic Records   \n",
       "1                      2017          3.90   UK Pop  Atlantic Records UK   \n",
       "2                      2019          3.04   UK Pop       Vertigo Berlin   \n",
       "3                      2022          2.79      Pop             Columbia   \n",
       "4                      2018          2.63      Rap    Universal Records   \n",
       "\n",
       "  danceability  ... key_name loudness   mode speechiness acousticness  \\\n",
       "0       51.30%  ...       C#   -5.940  Major       5.98%        0.14%   \n",
       "1       82.50%  ...       C#   -3.183  Minor       8.02%       58.10%   \n",
       "2       50.10%  ...       C#   -5.679  Major       3.19%       75.10%   \n",
       "3       52.00%  ...       F#   -5.338  Minor       5.57%       34.20%   \n",
       "4       76.00%  ...        D   -5.574  Major       4.67%       55.20%   \n",
       "\n",
       "  instrumentalness liveliness valence   tempo  Time Signature  \n",
       "0            0.01%      8.97%  33.40%  171.00               4  \n",
       "1            0.00%      9.31%  93.10%   95.98               4  \n",
       "2            0.00%     10.50%  44.60%  109.89               4  \n",
       "3            0.10%     31.10%  66.20%  173.93               4  \n",
       "4            0.00%      7.03%  91.30%   89.91               4  \n",
       "\n",
       "[5 rows x 21 columns]"
      ]
     },
     "execution_count": 7,
     "metadata": {},
     "output_type": "execute_result"
    }
   ],
   "source": [
    "df.head()"
   ]
  },
  {
   "cell_type": "markdown",
   "metadata": {
    "id": "yRNv9tACuaV6"
   },
   "source": [
    "#Data cleaning"
   ]
  },
  {
   "cell_type": "code",
   "execution_count": 82,
   "metadata": {
    "id": "96pxLeHeDtmT"
   },
   "outputs": [],
   "source": [
    "for feature in [\"valence\", \"danceability\", \"energy\", \"acousticness\", \"instrumentalness\", \"liveliness\", \"speechiness\"]:\n",
    "  df[feature] = df[feature].str.replace('%', '').astype(float)"
   ]
  },
  {
   "cell_type": "code",
   "execution_count": 9,
   "metadata": {
    "colab": {
     "base_uri": "https://localhost:8080/"
    },
    "id": "xbw2qLLJtGlF",
    "outputId": "c9840698-9360-44fa-ae26-c91aa93f030a"
   },
   "outputs": [
    {
     "name": "stdout",
     "output_type": "stream",
     "text": [
      "<class 'pandas.core.frame.DataFrame'>\n",
      "RangeIndex: 100 entries, 0 to 99\n",
      "Data columns (total 21 columns):\n",
      " #   Column                    Non-Null Count  Dtype  \n",
      "---  ------                    --------------  -----  \n",
      " 0   track_id                  100 non-null    object \n",
      " 1   track_name                100 non-null    object \n",
      " 2   track_artist              100 non-null    object \n",
      " 3   track_popularity          100 non-null    int64  \n",
      " 4   track_album_name          100 non-null    object \n",
      " 5   track_album_release_year  100 non-null    int64  \n",
      " 6   duration_min              100 non-null    float64\n",
      " 7   Genres                    100 non-null    object \n",
      " 8   record_label              100 non-null    object \n",
      " 9   danceability              100 non-null    float64\n",
      " 10  energy                    100 non-null    float64\n",
      " 11  key_name                  100 non-null    object \n",
      " 12  loudness                  100 non-null    float64\n",
      " 13  mode                      100 non-null    object \n",
      " 14  speechiness               100 non-null    float64\n",
      " 15  acousticness              100 non-null    float64\n",
      " 16  instrumentalness          100 non-null    float64\n",
      " 17  liveliness                100 non-null    float64\n",
      " 18  valence                   100 non-null    float64\n",
      " 19  tempo                     100 non-null    float64\n",
      " 20  Time Signature            100 non-null    int64  \n",
      "dtypes: float64(10), int64(3), object(8)\n",
      "memory usage: 16.5+ KB\n"
     ]
    }
   ],
   "source": [
    "df.info()"
   ]
  },
  {
   "cell_type": "code",
   "execution_count": 83,
   "metadata": {},
   "outputs": [
    {
     "name": "stdout",
     "output_type": "stream",
     "text": [
      "                  track_id                                     track_name  \\\n",
      "0   0VjIjW4GlUZAMYd2vXMi3b                                Blinding Lights   \n",
      "1   7qiZfU4dY1lWllzX7mPBI3                                   Shape of You   \n",
      "2   7qEHsqek33rTcFNT9PFqLf                              Someone You Loved   \n",
      "3   4Dvkj6JhhA12EX05fT7y2e                                      As It Was   \n",
      "4   3KkXRkHbMCARz0aVfEt68P  Sunflower - Spider-Man: Into the Spider-Verse   \n",
      "..                     ...                                            ...   \n",
      "95  2xLMifQCjDGFmkHkpNLD9h                                     SICKO MODE   \n",
      "96  7m9OqQk4RVRkw9JJdeAw96                                 Jocelyn Flores   \n",
      "97  3ee8Jmje8o58CHK66QrVC2                                           SAD!   \n",
      "98  0vbtURX4qv1l7besfwmnD8            I Took A Pill In Ibiza - Seeb Remix   \n",
      "99  7gHs73wELdeycvS48JfIos                                          Faded   \n",
      "\n",
      "            track_artist  track_popularity  \\\n",
      "0             The Weeknd                87   \n",
      "1             Ed Sheeran                85   \n",
      "2          Lewis Capaldi                86   \n",
      "3           Harry Styles                87   \n",
      "4   Post Malone,Swae Lee                79   \n",
      "..                   ...               ...   \n",
      "95          Travis Scott                81   \n",
      "96          XXXTENTACION                79   \n",
      "97          XXXTENTACION                78   \n",
      "98      Mike Posner,Seeb                79   \n",
      "99           Alan Walker                69   \n",
      "\n",
      "                                     track_album_name  \\\n",
      "0                                         After Hours   \n",
      "1                                          ÷ (Deluxe)   \n",
      "2             Divinely Uninspired To A Hellish Extent   \n",
      "3                                       Harry's House   \n",
      "4   Spider-Man: Into the Spider-Verse (Soundtrack ...   \n",
      "..                                                ...   \n",
      "95                                         ASTROWORLD   \n",
      "96                                                 17   \n",
      "97                                                  ?   \n",
      "98                                   At Night, Alone.   \n",
      "99                                              Faded   \n",
      "\n",
      "    track_album_release_year  duration_min         Genres  \\\n",
      "0                       2020          3.33        Pop/R&B   \n",
      "1                       2017          3.90         UK Pop   \n",
      "2                       2019          3.04         UK Pop   \n",
      "3                       2022          2.79            Pop   \n",
      "4                       2018          2.63            Rap   \n",
      "..                       ...           ...            ...   \n",
      "95                      2018          5.21            Rap   \n",
      "96                      2017          1.99            Rap   \n",
      "97                      2018          2.78            Rap   \n",
      "98                      2016          3.30            Rap   \n",
      "99                      2015          3.54  electro house   \n",
      "\n",
      "                      record_label  danceability  ...  key_name loudness  \\\n",
      "0                 Republic Records          51.3  ...        C#   -5.940   \n",
      "1              Atlantic Records UK          82.5  ...        C#   -3.183   \n",
      "2                   Vertigo Berlin          50.1  ...        C#   -5.679   \n",
      "3                         Columbia          52.0  ...        F#   -5.338   \n",
      "4                Universal Records          76.0  ...         D   -5.574   \n",
      "..                             ...           ...  ...       ...      ...   \n",
      "95              Cactus Jack / Epic          83.4  ...        G#   -3.714   \n",
      "96      Bad Vibes Forever / EMPIRE          87.2  ...         C   -9.144   \n",
      "97          Bad Vibes Forever, LLC          74.0  ...        G#   -4.880   \n",
      "98  Monster Mountain, LLC / Island          66.4  ...         G   -6.645   \n",
      "99                  Kreatell Music          58.9  ...        F#   -5.097   \n",
      "\n",
      "     mode speechiness  acousticness  instrumentalness  liveness  valence  \\\n",
      "0   Major        5.98          0.14              0.01      8.97     33.4   \n",
      "1   Minor        8.02         58.10              0.00      9.31     93.1   \n",
      "2   Major        3.19         75.10              0.00     10.50     44.6   \n",
      "3   Minor        5.57         34.20              0.10     31.10     66.2   \n",
      "4   Major        4.67         55.20              0.00      7.03     91.3   \n",
      "..    ...         ...           ...               ...       ...      ...   \n",
      "95  Major       22.20          0.51              0.00     12.40     44.6   \n",
      "96  Minor       24.20         46.90              0.00     29.70     43.7   \n",
      "97  Major       14.50         25.80              0.37     12.30     47.3   \n",
      "98  Minor       11.10          3.53              0.00      8.43     71.0   \n",
      "99  Major        3.06          2.91              0.00     11.10     16.6   \n",
      "\n",
      "     tempo  Time Signature  \n",
      "0   171.00               4  \n",
      "1    95.98               4  \n",
      "2   109.89               4  \n",
      "3   173.93               4  \n",
      "4    89.91               4  \n",
      "..     ...             ...  \n",
      "95  155.01               4  \n",
      "96  134.02               4  \n",
      "97   75.02               4  \n",
      "98  101.97               4  \n",
      "99   90.01               4  \n",
      "\n",
      "[100 rows x 21 columns]\n"
     ]
    }
   ],
   "source": [
    "df = df.rename(columns={\"liveliness\": \"liveness\"})\n",
    "\n",
    "print(df)"
   ]
  },
  {
   "cell_type": "code",
   "execution_count": 56,
   "metadata": {
    "id": "rv9ZifH63kfA"
   },
   "outputs": [
    {
     "name": "stdout",
     "output_type": "stream",
     "text": [
      "0     False\n",
      "1     False\n",
      "2     False\n",
      "3     False\n",
      "4     False\n",
      "      ...  \n",
      "95    False\n",
      "96    False\n",
      "97    False\n",
      "98    False\n",
      "99    False\n",
      "Length: 100, dtype: bool\n"
     ]
    }
   ],
   "source": [
    "duplicates = df.duplicated()\n",
    "print(duplicates)"
   ]
  },
  {
   "cell_type": "code",
   "execution_count": 57,
   "metadata": {
    "colab": {
     "base_uri": "https://localhost:8080/"
    },
    "id": "5GL_stdI_G91",
    "outputId": "46516879-c61a-4af8-f912-06bfb3083547"
   },
   "outputs": [
    {
     "name": "stdout",
     "output_type": "stream",
     "text": [
      "0\n"
     ]
    }
   ],
   "source": [
    "print(duplicates.sum())"
   ]
  },
  {
   "cell_type": "markdown",
   "metadata": {
    "id": "2JywzIRgqpfG"
   },
   "source": [
    "#Musical features Exploration"
   ]
  },
  {
   "cell_type": "markdown",
   "metadata": {
    "id": "XOorLCycKc7_"
   },
   "source": [
    "#Data visualization"
   ]
  },
  {
   "cell_type": "code",
   "execution_count": 58,
   "metadata": {
    "colab": {
     "base_uri": "https://localhost:8080/",
     "height": 542
    },
    "id": "kO2G_qg7XhLt",
    "outputId": "1dedc11a-b3f1-4c92-e8fd-0731709a3fb2"
   },
   "outputs": [
    {
     "data": {
      "application/vnd.plotly.v1+json": {
       "config": {
        "plotlyServerURL": "https://plot.ly"
       },
       "data": [
        {
         "alignmentgroup": "True",
         "hovertemplate": "Genres=%{x}<br>count=%{y}<extra></extra>",
         "legendgroup": "",
         "marker": {
          "color": "#636efa",
          "pattern": {
           "shape": ""
          }
         },
         "name": "",
         "offsetgroup": "",
         "orientation": "v",
         "showlegend": false,
         "textposition": "auto",
         "type": "bar",
         "x": [
          "Pop/R&B",
          "UK Pop",
          "UK Pop",
          "Pop",
          "Rap",
          "Pop/R&B",
          "Rap",
          "Pop",
          "Rock",
          "Rock",
          "Pop",
          "Rock",
          "UK Pop",
          "Rap",
          "UK Pop",
          "Pop/R&B",
          "Pop",
          "Pop",
          "Pop",
          "Pop",
          "UK Pop",
          "Folk-Pop",
          "Rock",
          "Pop",
          "Rap",
          "UK Pop",
          "Rock",
          "Rap",
          "Rap",
          "Rock",
          "Pop",
          "UK Pop",
          "Rap",
          "Pop",
          "Rap",
          "Pop",
          "Pop",
          "Rock",
          "Pop",
          "Pop",
          "Rock",
          "EDM",
          "Pop/R&B",
          "Rock",
          "Pop/R&B",
          "Rock",
          "Indie Folk",
          "Rap",
          "Folk-Pop",
          "Rap",
          "Pop",
          "Rock",
          "Pop",
          "Rap",
          "Rock",
          "Rap",
          "Pop",
          "Pop",
          "Pop",
          "Pop",
          "UK Pop",
          "Rap",
          "Pop",
          "Pop",
          "UK Pop",
          "Rap",
          "Pop",
          "EDM",
          "UK Pop",
          "UK Pop",
          "UK Pop",
          "Rap",
          "Rap",
          "Pop",
          "Rock",
          "Rap",
          "Rap",
          "Rap",
          "EDM",
          "Pop",
          "Pop",
          "EDM",
          "Pop",
          "Rock",
          "Rock",
          "Pop",
          "Rap",
          "Rock",
          "UK Pop",
          "UK Pop",
          "Pop",
          "Pop",
          "Rap",
          "Rock",
          "Pop/R&B",
          "Rap",
          "Rap",
          "Rap",
          "Rap",
          "electro house"
         ],
         "xaxis": "x",
         "y": [
          1,
          1,
          1,
          1,
          1,
          1,
          1,
          1,
          1,
          1,
          1,
          1,
          1,
          1,
          1,
          1,
          1,
          1,
          1,
          1,
          1,
          1,
          1,
          1,
          1,
          1,
          1,
          1,
          1,
          1,
          1,
          1,
          1,
          1,
          1,
          1,
          1,
          1,
          1,
          1,
          1,
          1,
          1,
          1,
          1,
          1,
          1,
          1,
          1,
          1,
          1,
          1,
          1,
          1,
          1,
          1,
          1,
          1,
          1,
          1,
          1,
          1,
          1,
          1,
          1,
          1,
          1,
          1,
          1,
          1,
          1,
          1,
          1,
          1,
          1,
          1,
          1,
          1,
          1,
          1,
          1,
          1,
          1,
          1,
          1,
          1,
          1,
          1,
          1,
          1,
          1,
          1,
          1,
          1,
          1,
          1,
          1,
          1,
          1,
          1
         ],
         "yaxis": "y"
        }
       ],
       "layout": {
        "barmode": "relative",
        "legend": {
         "tracegroupgap": 0
        },
        "template": {
         "data": {
          "bar": [
           {
            "error_x": {
             "color": "#2a3f5f"
            },
            "error_y": {
             "color": "#2a3f5f"
            },
            "marker": {
             "line": {
              "color": "#E5ECF6",
              "width": 0.5
             },
             "pattern": {
              "fillmode": "overlay",
              "size": 10,
              "solidity": 0.2
             }
            },
            "type": "bar"
           }
          ],
          "barpolar": [
           {
            "marker": {
             "line": {
              "color": "#E5ECF6",
              "width": 0.5
             },
             "pattern": {
              "fillmode": "overlay",
              "size": 10,
              "solidity": 0.2
             }
            },
            "type": "barpolar"
           }
          ],
          "carpet": [
           {
            "aaxis": {
             "endlinecolor": "#2a3f5f",
             "gridcolor": "white",
             "linecolor": "white",
             "minorgridcolor": "white",
             "startlinecolor": "#2a3f5f"
            },
            "baxis": {
             "endlinecolor": "#2a3f5f",
             "gridcolor": "white",
             "linecolor": "white",
             "minorgridcolor": "white",
             "startlinecolor": "#2a3f5f"
            },
            "type": "carpet"
           }
          ],
          "choropleth": [
           {
            "colorbar": {
             "outlinewidth": 0,
             "ticks": ""
            },
            "type": "choropleth"
           }
          ],
          "contour": [
           {
            "colorbar": {
             "outlinewidth": 0,
             "ticks": ""
            },
            "colorscale": [
             [
              0,
              "#0d0887"
             ],
             [
              0.1111111111111111,
              "#46039f"
             ],
             [
              0.2222222222222222,
              "#7201a8"
             ],
             [
              0.3333333333333333,
              "#9c179e"
             ],
             [
              0.4444444444444444,
              "#bd3786"
             ],
             [
              0.5555555555555556,
              "#d8576b"
             ],
             [
              0.6666666666666666,
              "#ed7953"
             ],
             [
              0.7777777777777778,
              "#fb9f3a"
             ],
             [
              0.8888888888888888,
              "#fdca26"
             ],
             [
              1,
              "#f0f921"
             ]
            ],
            "type": "contour"
           }
          ],
          "contourcarpet": [
           {
            "colorbar": {
             "outlinewidth": 0,
             "ticks": ""
            },
            "type": "contourcarpet"
           }
          ],
          "heatmap": [
           {
            "colorbar": {
             "outlinewidth": 0,
             "ticks": ""
            },
            "colorscale": [
             [
              0,
              "#0d0887"
             ],
             [
              0.1111111111111111,
              "#46039f"
             ],
             [
              0.2222222222222222,
              "#7201a8"
             ],
             [
              0.3333333333333333,
              "#9c179e"
             ],
             [
              0.4444444444444444,
              "#bd3786"
             ],
             [
              0.5555555555555556,
              "#d8576b"
             ],
             [
              0.6666666666666666,
              "#ed7953"
             ],
             [
              0.7777777777777778,
              "#fb9f3a"
             ],
             [
              0.8888888888888888,
              "#fdca26"
             ],
             [
              1,
              "#f0f921"
             ]
            ],
            "type": "heatmap"
           }
          ],
          "heatmapgl": [
           {
            "colorbar": {
             "outlinewidth": 0,
             "ticks": ""
            },
            "colorscale": [
             [
              0,
              "#0d0887"
             ],
             [
              0.1111111111111111,
              "#46039f"
             ],
             [
              0.2222222222222222,
              "#7201a8"
             ],
             [
              0.3333333333333333,
              "#9c179e"
             ],
             [
              0.4444444444444444,
              "#bd3786"
             ],
             [
              0.5555555555555556,
              "#d8576b"
             ],
             [
              0.6666666666666666,
              "#ed7953"
             ],
             [
              0.7777777777777778,
              "#fb9f3a"
             ],
             [
              0.8888888888888888,
              "#fdca26"
             ],
             [
              1,
              "#f0f921"
             ]
            ],
            "type": "heatmapgl"
           }
          ],
          "histogram": [
           {
            "marker": {
             "pattern": {
              "fillmode": "overlay",
              "size": 10,
              "solidity": 0.2
             }
            },
            "type": "histogram"
           }
          ],
          "histogram2d": [
           {
            "colorbar": {
             "outlinewidth": 0,
             "ticks": ""
            },
            "colorscale": [
             [
              0,
              "#0d0887"
             ],
             [
              0.1111111111111111,
              "#46039f"
             ],
             [
              0.2222222222222222,
              "#7201a8"
             ],
             [
              0.3333333333333333,
              "#9c179e"
             ],
             [
              0.4444444444444444,
              "#bd3786"
             ],
             [
              0.5555555555555556,
              "#d8576b"
             ],
             [
              0.6666666666666666,
              "#ed7953"
             ],
             [
              0.7777777777777778,
              "#fb9f3a"
             ],
             [
              0.8888888888888888,
              "#fdca26"
             ],
             [
              1,
              "#f0f921"
             ]
            ],
            "type": "histogram2d"
           }
          ],
          "histogram2dcontour": [
           {
            "colorbar": {
             "outlinewidth": 0,
             "ticks": ""
            },
            "colorscale": [
             [
              0,
              "#0d0887"
             ],
             [
              0.1111111111111111,
              "#46039f"
             ],
             [
              0.2222222222222222,
              "#7201a8"
             ],
             [
              0.3333333333333333,
              "#9c179e"
             ],
             [
              0.4444444444444444,
              "#bd3786"
             ],
             [
              0.5555555555555556,
              "#d8576b"
             ],
             [
              0.6666666666666666,
              "#ed7953"
             ],
             [
              0.7777777777777778,
              "#fb9f3a"
             ],
             [
              0.8888888888888888,
              "#fdca26"
             ],
             [
              1,
              "#f0f921"
             ]
            ],
            "type": "histogram2dcontour"
           }
          ],
          "mesh3d": [
           {
            "colorbar": {
             "outlinewidth": 0,
             "ticks": ""
            },
            "type": "mesh3d"
           }
          ],
          "parcoords": [
           {
            "line": {
             "colorbar": {
              "outlinewidth": 0,
              "ticks": ""
             }
            },
            "type": "parcoords"
           }
          ],
          "pie": [
           {
            "automargin": true,
            "type": "pie"
           }
          ],
          "scatter": [
           {
            "fillpattern": {
             "fillmode": "overlay",
             "size": 10,
             "solidity": 0.2
            },
            "type": "scatter"
           }
          ],
          "scatter3d": [
           {
            "line": {
             "colorbar": {
              "outlinewidth": 0,
              "ticks": ""
             }
            },
            "marker": {
             "colorbar": {
              "outlinewidth": 0,
              "ticks": ""
             }
            },
            "type": "scatter3d"
           }
          ],
          "scattercarpet": [
           {
            "marker": {
             "colorbar": {
              "outlinewidth": 0,
              "ticks": ""
             }
            },
            "type": "scattercarpet"
           }
          ],
          "scattergeo": [
           {
            "marker": {
             "colorbar": {
              "outlinewidth": 0,
              "ticks": ""
             }
            },
            "type": "scattergeo"
           }
          ],
          "scattergl": [
           {
            "marker": {
             "colorbar": {
              "outlinewidth": 0,
              "ticks": ""
             }
            },
            "type": "scattergl"
           }
          ],
          "scattermapbox": [
           {
            "marker": {
             "colorbar": {
              "outlinewidth": 0,
              "ticks": ""
             }
            },
            "type": "scattermapbox"
           }
          ],
          "scatterpolar": [
           {
            "marker": {
             "colorbar": {
              "outlinewidth": 0,
              "ticks": ""
             }
            },
            "type": "scatterpolar"
           }
          ],
          "scatterpolargl": [
           {
            "marker": {
             "colorbar": {
              "outlinewidth": 0,
              "ticks": ""
             }
            },
            "type": "scatterpolargl"
           }
          ],
          "scatterternary": [
           {
            "marker": {
             "colorbar": {
              "outlinewidth": 0,
              "ticks": ""
             }
            },
            "type": "scatterternary"
           }
          ],
          "surface": [
           {
            "colorbar": {
             "outlinewidth": 0,
             "ticks": ""
            },
            "colorscale": [
             [
              0,
              "#0d0887"
             ],
             [
              0.1111111111111111,
              "#46039f"
             ],
             [
              0.2222222222222222,
              "#7201a8"
             ],
             [
              0.3333333333333333,
              "#9c179e"
             ],
             [
              0.4444444444444444,
              "#bd3786"
             ],
             [
              0.5555555555555556,
              "#d8576b"
             ],
             [
              0.6666666666666666,
              "#ed7953"
             ],
             [
              0.7777777777777778,
              "#fb9f3a"
             ],
             [
              0.8888888888888888,
              "#fdca26"
             ],
             [
              1,
              "#f0f921"
             ]
            ],
            "type": "surface"
           }
          ],
          "table": [
           {
            "cells": {
             "fill": {
              "color": "#EBF0F8"
             },
             "line": {
              "color": "white"
             }
            },
            "header": {
             "fill": {
              "color": "#C8D4E3"
             },
             "line": {
              "color": "white"
             }
            },
            "type": "table"
           }
          ]
         },
         "layout": {
          "annotationdefaults": {
           "arrowcolor": "#2a3f5f",
           "arrowhead": 0,
           "arrowwidth": 1
          },
          "autotypenumbers": "strict",
          "coloraxis": {
           "colorbar": {
            "outlinewidth": 0,
            "ticks": ""
           }
          },
          "colorscale": {
           "diverging": [
            [
             0,
             "#8e0152"
            ],
            [
             0.1,
             "#c51b7d"
            ],
            [
             0.2,
             "#de77ae"
            ],
            [
             0.3,
             "#f1b6da"
            ],
            [
             0.4,
             "#fde0ef"
            ],
            [
             0.5,
             "#f7f7f7"
            ],
            [
             0.6,
             "#e6f5d0"
            ],
            [
             0.7,
             "#b8e186"
            ],
            [
             0.8,
             "#7fbc41"
            ],
            [
             0.9,
             "#4d9221"
            ],
            [
             1,
             "#276419"
            ]
           ],
           "sequential": [
            [
             0,
             "#0d0887"
            ],
            [
             0.1111111111111111,
             "#46039f"
            ],
            [
             0.2222222222222222,
             "#7201a8"
            ],
            [
             0.3333333333333333,
             "#9c179e"
            ],
            [
             0.4444444444444444,
             "#bd3786"
            ],
            [
             0.5555555555555556,
             "#d8576b"
            ],
            [
             0.6666666666666666,
             "#ed7953"
            ],
            [
             0.7777777777777778,
             "#fb9f3a"
            ],
            [
             0.8888888888888888,
             "#fdca26"
            ],
            [
             1,
             "#f0f921"
            ]
           ],
           "sequentialminus": [
            [
             0,
             "#0d0887"
            ],
            [
             0.1111111111111111,
             "#46039f"
            ],
            [
             0.2222222222222222,
             "#7201a8"
            ],
            [
             0.3333333333333333,
             "#9c179e"
            ],
            [
             0.4444444444444444,
             "#bd3786"
            ],
            [
             0.5555555555555556,
             "#d8576b"
            ],
            [
             0.6666666666666666,
             "#ed7953"
            ],
            [
             0.7777777777777778,
             "#fb9f3a"
            ],
            [
             0.8888888888888888,
             "#fdca26"
            ],
            [
             1,
             "#f0f921"
            ]
           ]
          },
          "colorway": [
           "#636efa",
           "#EF553B",
           "#00cc96",
           "#ab63fa",
           "#FFA15A",
           "#19d3f3",
           "#FF6692",
           "#B6E880",
           "#FF97FF",
           "#FECB52"
          ],
          "font": {
           "color": "#2a3f5f"
          },
          "geo": {
           "bgcolor": "white",
           "lakecolor": "white",
           "landcolor": "#E5ECF6",
           "showlakes": true,
           "showland": true,
           "subunitcolor": "white"
          },
          "hoverlabel": {
           "align": "left"
          },
          "hovermode": "closest",
          "mapbox": {
           "style": "light"
          },
          "paper_bgcolor": "white",
          "plot_bgcolor": "#E5ECF6",
          "polar": {
           "angularaxis": {
            "gridcolor": "white",
            "linecolor": "white",
            "ticks": ""
           },
           "bgcolor": "#E5ECF6",
           "radialaxis": {
            "gridcolor": "white",
            "linecolor": "white",
            "ticks": ""
           }
          },
          "scene": {
           "xaxis": {
            "backgroundcolor": "#E5ECF6",
            "gridcolor": "white",
            "gridwidth": 2,
            "linecolor": "white",
            "showbackground": true,
            "ticks": "",
            "zerolinecolor": "white"
           },
           "yaxis": {
            "backgroundcolor": "#E5ECF6",
            "gridcolor": "white",
            "gridwidth": 2,
            "linecolor": "white",
            "showbackground": true,
            "ticks": "",
            "zerolinecolor": "white"
           },
           "zaxis": {
            "backgroundcolor": "#E5ECF6",
            "gridcolor": "white",
            "gridwidth": 2,
            "linecolor": "white",
            "showbackground": true,
            "ticks": "",
            "zerolinecolor": "white"
           }
          },
          "shapedefaults": {
           "line": {
            "color": "#2a3f5f"
           }
          },
          "ternary": {
           "aaxis": {
            "gridcolor": "white",
            "linecolor": "white",
            "ticks": ""
           },
           "baxis": {
            "gridcolor": "white",
            "linecolor": "white",
            "ticks": ""
           },
           "bgcolor": "#E5ECF6",
           "caxis": {
            "gridcolor": "white",
            "linecolor": "white",
            "ticks": ""
           }
          },
          "title": {
           "x": 0.05
          },
          "xaxis": {
           "automargin": true,
           "gridcolor": "white",
           "linecolor": "white",
           "ticks": "",
           "title": {
            "standoff": 15
           },
           "zerolinecolor": "white",
           "zerolinewidth": 2
          },
          "yaxis": {
           "automargin": true,
           "gridcolor": "white",
           "linecolor": "white",
           "ticks": "",
           "title": {
            "standoff": 15
           },
           "zerolinecolor": "white",
           "zerolinewidth": 2
          }
         }
        },
        "title": {
         "text": "genres Count"
        },
        "xaxis": {
         "anchor": "y",
         "categoryarray": [
          "Pop",
          "Rap",
          "Rock",
          "UK Pop",
          "Pop/R&B",
          "EDM",
          "Folk-Pop",
          "Indie Folk",
          "electro house"
         ],
         "categoryorder": "array",
         "domain": [
          0,
          1
         ],
         "title": {
          "text": "Genres"
         }
        },
        "yaxis": {
         "anchor": "x",
         "domain": [
          0,
          1
         ],
         "title": {
          "text": "count"
         }
        }
       }
      }
     },
     "metadata": {},
     "output_type": "display_data"
    }
   ],
   "source": [
    "sorted_counts = df[\"Genres\"].value_counts().sort_values(ascending=False)\n",
    "sorted_genres = sorted_counts.index.tolist()\n",
    "\n",
    "fig = px.bar(df, x=\"Genres\", title=\"genres Count\",\n",
    "             category_orders={\"Genres\": sorted_genres})\n",
    "fig.show()"
   ]
  },
  {
   "cell_type": "markdown",
   "metadata": {
    "id": "8PPJ8z41jhwR"
   },
   "source": [
    "##Artists"
   ]
  },
  {
   "cell_type": "code",
   "execution_count": 59,
   "metadata": {
    "colab": {
     "base_uri": "https://localhost:8080/",
     "height": 832
    },
    "id": "f7OL31s46o8k",
    "outputId": "82591359-7774-4871-d362-aa02de34a2d0"
   },
   "outputs": [
    {
     "data": {
      "text/html": [
       "<div>\n",
       "<style scoped>\n",
       "    .dataframe tbody tr th:only-of-type {\n",
       "        vertical-align: middle;\n",
       "    }\n",
       "\n",
       "    .dataframe tbody tr th {\n",
       "        vertical-align: top;\n",
       "    }\n",
       "\n",
       "    .dataframe thead th {\n",
       "        text-align: right;\n",
       "    }\n",
       "</style>\n",
       "<table border=\"1\" class=\"dataframe\">\n",
       "  <thead>\n",
       "    <tr style=\"text-align: right;\">\n",
       "      <th></th>\n",
       "      <th>track_id</th>\n",
       "      <th>track_name</th>\n",
       "      <th>track_popularity</th>\n",
       "      <th>track_album_name</th>\n",
       "      <th>track_album_release_year</th>\n",
       "      <th>duration_min</th>\n",
       "      <th>Genres</th>\n",
       "      <th>record_label</th>\n",
       "      <th>danceability</th>\n",
       "      <th>energy</th>\n",
       "      <th>key_name</th>\n",
       "      <th>loudness</th>\n",
       "      <th>mode</th>\n",
       "      <th>speechiness</th>\n",
       "      <th>acousticness</th>\n",
       "      <th>instrumentalness</th>\n",
       "      <th>liveness</th>\n",
       "      <th>valence</th>\n",
       "      <th>tempo</th>\n",
       "      <th>Time Signature</th>\n",
       "    </tr>\n",
       "    <tr>\n",
       "      <th>track_artist</th>\n",
       "      <th></th>\n",
       "      <th></th>\n",
       "      <th></th>\n",
       "      <th></th>\n",
       "      <th></th>\n",
       "      <th></th>\n",
       "      <th></th>\n",
       "      <th></th>\n",
       "      <th></th>\n",
       "      <th></th>\n",
       "      <th></th>\n",
       "      <th></th>\n",
       "      <th></th>\n",
       "      <th></th>\n",
       "      <th></th>\n",
       "      <th></th>\n",
       "      <th></th>\n",
       "      <th></th>\n",
       "      <th></th>\n",
       "      <th></th>\n",
       "    </tr>\n",
       "  </thead>\n",
       "  <tbody>\n",
       "    <tr>\n",
       "      <th>Bruno Mars</th>\n",
       "      <td>4</td>\n",
       "      <td>4</td>\n",
       "      <td>4</td>\n",
       "      <td>4</td>\n",
       "      <td>4</td>\n",
       "      <td>4</td>\n",
       "      <td>4</td>\n",
       "      <td>4</td>\n",
       "      <td>4</td>\n",
       "      <td>4</td>\n",
       "      <td>4</td>\n",
       "      <td>4</td>\n",
       "      <td>4</td>\n",
       "      <td>4</td>\n",
       "      <td>4</td>\n",
       "      <td>4</td>\n",
       "      <td>4</td>\n",
       "      <td>4</td>\n",
       "      <td>4</td>\n",
       "      <td>4</td>\n",
       "    </tr>\n",
       "    <tr>\n",
       "      <th>Ed Sheeran</th>\n",
       "      <td>4</td>\n",
       "      <td>4</td>\n",
       "      <td>4</td>\n",
       "      <td>4</td>\n",
       "      <td>4</td>\n",
       "      <td>4</td>\n",
       "      <td>4</td>\n",
       "      <td>4</td>\n",
       "      <td>4</td>\n",
       "      <td>4</td>\n",
       "      <td>4</td>\n",
       "      <td>4</td>\n",
       "      <td>4</td>\n",
       "      <td>4</td>\n",
       "      <td>4</td>\n",
       "      <td>4</td>\n",
       "      <td>4</td>\n",
       "      <td>4</td>\n",
       "      <td>4</td>\n",
       "      <td>4</td>\n",
       "    </tr>\n",
       "    <tr>\n",
       "      <th>The Weeknd</th>\n",
       "      <td>4</td>\n",
       "      <td>4</td>\n",
       "      <td>4</td>\n",
       "      <td>4</td>\n",
       "      <td>4</td>\n",
       "      <td>4</td>\n",
       "      <td>4</td>\n",
       "      <td>4</td>\n",
       "      <td>4</td>\n",
       "      <td>4</td>\n",
       "      <td>4</td>\n",
       "      <td>4</td>\n",
       "      <td>4</td>\n",
       "      <td>4</td>\n",
       "      <td>4</td>\n",
       "      <td>4</td>\n",
       "      <td>4</td>\n",
       "      <td>4</td>\n",
       "      <td>4</td>\n",
       "      <td>4</td>\n",
       "    </tr>\n",
       "    <tr>\n",
       "      <th>Coldplay</th>\n",
       "      <td>3</td>\n",
       "      <td>3</td>\n",
       "      <td>3</td>\n",
       "      <td>3</td>\n",
       "      <td>3</td>\n",
       "      <td>3</td>\n",
       "      <td>3</td>\n",
       "      <td>3</td>\n",
       "      <td>3</td>\n",
       "      <td>3</td>\n",
       "      <td>3</td>\n",
       "      <td>3</td>\n",
       "      <td>3</td>\n",
       "      <td>3</td>\n",
       "      <td>3</td>\n",
       "      <td>3</td>\n",
       "      <td>3</td>\n",
       "      <td>3</td>\n",
       "      <td>3</td>\n",
       "      <td>3</td>\n",
       "    </tr>\n",
       "    <tr>\n",
       "      <th>Dua Lipa</th>\n",
       "      <td>3</td>\n",
       "      <td>3</td>\n",
       "      <td>3</td>\n",
       "      <td>3</td>\n",
       "      <td>3</td>\n",
       "      <td>3</td>\n",
       "      <td>3</td>\n",
       "      <td>3</td>\n",
       "      <td>3</td>\n",
       "      <td>3</td>\n",
       "      <td>3</td>\n",
       "      <td>3</td>\n",
       "      <td>3</td>\n",
       "      <td>3</td>\n",
       "      <td>3</td>\n",
       "      <td>3</td>\n",
       "      <td>3</td>\n",
       "      <td>3</td>\n",
       "      <td>3</td>\n",
       "      <td>3</td>\n",
       "    </tr>\n",
       "    <tr>\n",
       "      <th>Imagine Dragons</th>\n",
       "      <td>3</td>\n",
       "      <td>3</td>\n",
       "      <td>3</td>\n",
       "      <td>3</td>\n",
       "      <td>3</td>\n",
       "      <td>3</td>\n",
       "      <td>3</td>\n",
       "      <td>3</td>\n",
       "      <td>3</td>\n",
       "      <td>3</td>\n",
       "      <td>3</td>\n",
       "      <td>3</td>\n",
       "      <td>3</td>\n",
       "      <td>3</td>\n",
       "      <td>3</td>\n",
       "      <td>3</td>\n",
       "      <td>3</td>\n",
       "      <td>3</td>\n",
       "      <td>3</td>\n",
       "      <td>3</td>\n",
       "    </tr>\n",
       "    <tr>\n",
       "      <th>Sam Smith</th>\n",
       "      <td>2</td>\n",
       "      <td>2</td>\n",
       "      <td>2</td>\n",
       "      <td>2</td>\n",
       "      <td>2</td>\n",
       "      <td>2</td>\n",
       "      <td>2</td>\n",
       "      <td>2</td>\n",
       "      <td>2</td>\n",
       "      <td>2</td>\n",
       "      <td>2</td>\n",
       "      <td>2</td>\n",
       "      <td>2</td>\n",
       "      <td>2</td>\n",
       "      <td>2</td>\n",
       "      <td>2</td>\n",
       "      <td>2</td>\n",
       "      <td>2</td>\n",
       "      <td>2</td>\n",
       "      <td>2</td>\n",
       "    </tr>\n",
       "    <tr>\n",
       "      <th>Harry Styles</th>\n",
       "      <td>2</td>\n",
       "      <td>2</td>\n",
       "      <td>2</td>\n",
       "      <td>2</td>\n",
       "      <td>2</td>\n",
       "      <td>2</td>\n",
       "      <td>2</td>\n",
       "      <td>2</td>\n",
       "      <td>2</td>\n",
       "      <td>2</td>\n",
       "      <td>2</td>\n",
       "      <td>2</td>\n",
       "      <td>2</td>\n",
       "      <td>2</td>\n",
       "      <td>2</td>\n",
       "      <td>2</td>\n",
       "      <td>2</td>\n",
       "      <td>2</td>\n",
       "      <td>2</td>\n",
       "      <td>2</td>\n",
       "    </tr>\n",
       "    <tr>\n",
       "      <th>Eminem</th>\n",
       "      <td>2</td>\n",
       "      <td>2</td>\n",
       "      <td>2</td>\n",
       "      <td>2</td>\n",
       "      <td>2</td>\n",
       "      <td>2</td>\n",
       "      <td>2</td>\n",
       "      <td>2</td>\n",
       "      <td>2</td>\n",
       "      <td>2</td>\n",
       "      <td>2</td>\n",
       "      <td>2</td>\n",
       "      <td>2</td>\n",
       "      <td>2</td>\n",
       "      <td>2</td>\n",
       "      <td>2</td>\n",
       "      <td>2</td>\n",
       "      <td>2</td>\n",
       "      <td>2</td>\n",
       "      <td>2</td>\n",
       "    </tr>\n",
       "    <tr>\n",
       "      <th>Olivia Rodrigo</th>\n",
       "      <td>2</td>\n",
       "      <td>2</td>\n",
       "      <td>2</td>\n",
       "      <td>2</td>\n",
       "      <td>2</td>\n",
       "      <td>2</td>\n",
       "      <td>2</td>\n",
       "      <td>2</td>\n",
       "      <td>2</td>\n",
       "      <td>2</td>\n",
       "      <td>2</td>\n",
       "      <td>2</td>\n",
       "      <td>2</td>\n",
       "      <td>2</td>\n",
       "      <td>2</td>\n",
       "      <td>2</td>\n",
       "      <td>2</td>\n",
       "      <td>2</td>\n",
       "      <td>2</td>\n",
       "      <td>2</td>\n",
       "    </tr>\n",
       "    <tr>\n",
       "      <th>Arctic Monkeys</th>\n",
       "      <td>2</td>\n",
       "      <td>2</td>\n",
       "      <td>2</td>\n",
       "      <td>2</td>\n",
       "      <td>2</td>\n",
       "      <td>2</td>\n",
       "      <td>2</td>\n",
       "      <td>2</td>\n",
       "      <td>2</td>\n",
       "      <td>2</td>\n",
       "      <td>2</td>\n",
       "      <td>2</td>\n",
       "      <td>2</td>\n",
       "      <td>2</td>\n",
       "      <td>2</td>\n",
       "      <td>2</td>\n",
       "      <td>2</td>\n",
       "      <td>2</td>\n",
       "      <td>2</td>\n",
       "      <td>2</td>\n",
       "    </tr>\n",
       "    <tr>\n",
       "      <th>Shawn Mendes</th>\n",
       "      <td>2</td>\n",
       "      <td>2</td>\n",
       "      <td>2</td>\n",
       "      <td>2</td>\n",
       "      <td>2</td>\n",
       "      <td>2</td>\n",
       "      <td>2</td>\n",
       "      <td>2</td>\n",
       "      <td>2</td>\n",
       "      <td>2</td>\n",
       "      <td>2</td>\n",
       "      <td>2</td>\n",
       "      <td>2</td>\n",
       "      <td>2</td>\n",
       "      <td>2</td>\n",
       "      <td>2</td>\n",
       "      <td>2</td>\n",
       "      <td>2</td>\n",
       "      <td>2</td>\n",
       "      <td>2</td>\n",
       "    </tr>\n",
       "    <tr>\n",
       "      <th>XXXTENTACION</th>\n",
       "      <td>2</td>\n",
       "      <td>2</td>\n",
       "      <td>2</td>\n",
       "      <td>2</td>\n",
       "      <td>2</td>\n",
       "      <td>2</td>\n",
       "      <td>2</td>\n",
       "      <td>2</td>\n",
       "      <td>2</td>\n",
       "      <td>2</td>\n",
       "      <td>2</td>\n",
       "      <td>2</td>\n",
       "      <td>2</td>\n",
       "      <td>2</td>\n",
       "      <td>2</td>\n",
       "      <td>2</td>\n",
       "      <td>2</td>\n",
       "      <td>2</td>\n",
       "      <td>2</td>\n",
       "      <td>2</td>\n",
       "    </tr>\n",
       "    <tr>\n",
       "      <th>Queen</th>\n",
       "      <td>2</td>\n",
       "      <td>2</td>\n",
       "      <td>2</td>\n",
       "      <td>2</td>\n",
       "      <td>2</td>\n",
       "      <td>2</td>\n",
       "      <td>2</td>\n",
       "      <td>2</td>\n",
       "      <td>2</td>\n",
       "      <td>2</td>\n",
       "      <td>2</td>\n",
       "      <td>2</td>\n",
       "      <td>2</td>\n",
       "      <td>2</td>\n",
       "      <td>2</td>\n",
       "      <td>2</td>\n",
       "      <td>2</td>\n",
       "      <td>2</td>\n",
       "      <td>2</td>\n",
       "      <td>2</td>\n",
       "    </tr>\n",
       "    <tr>\n",
       "      <th>Travis Scott</th>\n",
       "      <td>2</td>\n",
       "      <td>2</td>\n",
       "      <td>2</td>\n",
       "      <td>2</td>\n",
       "      <td>2</td>\n",
       "      <td>2</td>\n",
       "      <td>2</td>\n",
       "      <td>2</td>\n",
       "      <td>2</td>\n",
       "      <td>2</td>\n",
       "      <td>2</td>\n",
       "      <td>2</td>\n",
       "      <td>2</td>\n",
       "      <td>2</td>\n",
       "      <td>2</td>\n",
       "      <td>2</td>\n",
       "      <td>2</td>\n",
       "      <td>2</td>\n",
       "      <td>2</td>\n",
       "      <td>2</td>\n",
       "    </tr>\n",
       "    <tr>\n",
       "      <th>Camila Cabello,Young Thug</th>\n",
       "      <td>1</td>\n",
       "      <td>1</td>\n",
       "      <td>1</td>\n",
       "      <td>1</td>\n",
       "      <td>1</td>\n",
       "      <td>1</td>\n",
       "      <td>1</td>\n",
       "      <td>1</td>\n",
       "      <td>1</td>\n",
       "      <td>1</td>\n",
       "      <td>1</td>\n",
       "      <td>1</td>\n",
       "      <td>1</td>\n",
       "      <td>1</td>\n",
       "      <td>1</td>\n",
       "      <td>1</td>\n",
       "      <td>1</td>\n",
       "      <td>1</td>\n",
       "      <td>1</td>\n",
       "      <td>1</td>\n",
       "    </tr>\n",
       "    <tr>\n",
       "      <th>Bad Bunny,JHAYCO</th>\n",
       "      <td>1</td>\n",
       "      <td>1</td>\n",
       "      <td>1</td>\n",
       "      <td>1</td>\n",
       "      <td>1</td>\n",
       "      <td>1</td>\n",
       "      <td>1</td>\n",
       "      <td>1</td>\n",
       "      <td>1</td>\n",
       "      <td>1</td>\n",
       "      <td>1</td>\n",
       "      <td>1</td>\n",
       "      <td>1</td>\n",
       "      <td>1</td>\n",
       "      <td>1</td>\n",
       "      <td>1</td>\n",
       "      <td>1</td>\n",
       "      <td>1</td>\n",
       "      <td>1</td>\n",
       "      <td>1</td>\n",
       "    </tr>\n",
       "    <tr>\n",
       "      <th>Avicii</th>\n",
       "      <td>1</td>\n",
       "      <td>1</td>\n",
       "      <td>1</td>\n",
       "      <td>1</td>\n",
       "      <td>1</td>\n",
       "      <td>1</td>\n",
       "      <td>1</td>\n",
       "      <td>1</td>\n",
       "      <td>1</td>\n",
       "      <td>1</td>\n",
       "      <td>1</td>\n",
       "      <td>1</td>\n",
       "      <td>1</td>\n",
       "      <td>1</td>\n",
       "      <td>1</td>\n",
       "      <td>1</td>\n",
       "      <td>1</td>\n",
       "      <td>1</td>\n",
       "      <td>1</td>\n",
       "      <td>1</td>\n",
       "    </tr>\n",
       "    <tr>\n",
       "      <th>Alan Walker</th>\n",
       "      <td>1</td>\n",
       "      <td>1</td>\n",
       "      <td>1</td>\n",
       "      <td>1</td>\n",
       "      <td>1</td>\n",
       "      <td>1</td>\n",
       "      <td>1</td>\n",
       "      <td>1</td>\n",
       "      <td>1</td>\n",
       "      <td>1</td>\n",
       "      <td>1</td>\n",
       "      <td>1</td>\n",
       "      <td>1</td>\n",
       "      <td>1</td>\n",
       "      <td>1</td>\n",
       "      <td>1</td>\n",
       "      <td>1</td>\n",
       "      <td>1</td>\n",
       "      <td>1</td>\n",
       "      <td>1</td>\n",
       "    </tr>\n",
       "    <tr>\n",
       "      <th>Ariana Grande</th>\n",
       "      <td>1</td>\n",
       "      <td>1</td>\n",
       "      <td>1</td>\n",
       "      <td>1</td>\n",
       "      <td>1</td>\n",
       "      <td>1</td>\n",
       "      <td>1</td>\n",
       "      <td>1</td>\n",
       "      <td>1</td>\n",
       "      <td>1</td>\n",
       "      <td>1</td>\n",
       "      <td>1</td>\n",
       "      <td>1</td>\n",
       "      <td>1</td>\n",
       "      <td>1</td>\n",
       "      <td>1</td>\n",
       "      <td>1</td>\n",
       "      <td>1</td>\n",
       "      <td>1</td>\n",
       "      <td>1</td>\n",
       "    </tr>\n",
       "  </tbody>\n",
       "</table>\n",
       "</div>"
      ],
      "text/plain": [
       "                           track_id  track_name  track_popularity  \\\n",
       "track_artist                                                        \n",
       "Bruno Mars                        4           4                 4   \n",
       "Ed Sheeran                        4           4                 4   \n",
       "The Weeknd                        4           4                 4   \n",
       "Coldplay                          3           3                 3   \n",
       "Dua Lipa                          3           3                 3   \n",
       "Imagine Dragons                   3           3                 3   \n",
       "Sam Smith                         2           2                 2   \n",
       "Harry Styles                      2           2                 2   \n",
       "Eminem                            2           2                 2   \n",
       "Olivia Rodrigo                    2           2                 2   \n",
       "Arctic Monkeys                    2           2                 2   \n",
       "Shawn Mendes                      2           2                 2   \n",
       "XXXTENTACION                      2           2                 2   \n",
       "Queen                             2           2                 2   \n",
       "Travis Scott                      2           2                 2   \n",
       "Camila Cabello,Young Thug         1           1                 1   \n",
       "Bad Bunny,JHAYCO                  1           1                 1   \n",
       "Avicii                            1           1                 1   \n",
       "Alan Walker                       1           1                 1   \n",
       "Ariana Grande                     1           1                 1   \n",
       "\n",
       "                           track_album_name  track_album_release_year  \\\n",
       "track_artist                                                            \n",
       "Bruno Mars                                4                         4   \n",
       "Ed Sheeran                                4                         4   \n",
       "The Weeknd                                4                         4   \n",
       "Coldplay                                  3                         3   \n",
       "Dua Lipa                                  3                         3   \n",
       "Imagine Dragons                           3                         3   \n",
       "Sam Smith                                 2                         2   \n",
       "Harry Styles                              2                         2   \n",
       "Eminem                                    2                         2   \n",
       "Olivia Rodrigo                            2                         2   \n",
       "Arctic Monkeys                            2                         2   \n",
       "Shawn Mendes                              2                         2   \n",
       "XXXTENTACION                              2                         2   \n",
       "Queen                                     2                         2   \n",
       "Travis Scott                              2                         2   \n",
       "Camila Cabello,Young Thug                 1                         1   \n",
       "Bad Bunny,JHAYCO                          1                         1   \n",
       "Avicii                                    1                         1   \n",
       "Alan Walker                               1                         1   \n",
       "Ariana Grande                             1                         1   \n",
       "\n",
       "                           duration_min  Genres  record_label  danceability  \\\n",
       "track_artist                                                                  \n",
       "Bruno Mars                            4       4             4             4   \n",
       "Ed Sheeran                            4       4             4             4   \n",
       "The Weeknd                            4       4             4             4   \n",
       "Coldplay                              3       3             3             3   \n",
       "Dua Lipa                              3       3             3             3   \n",
       "Imagine Dragons                       3       3             3             3   \n",
       "Sam Smith                             2       2             2             2   \n",
       "Harry Styles                          2       2             2             2   \n",
       "Eminem                                2       2             2             2   \n",
       "Olivia Rodrigo                        2       2             2             2   \n",
       "Arctic Monkeys                        2       2             2             2   \n",
       "Shawn Mendes                          2       2             2             2   \n",
       "XXXTENTACION                          2       2             2             2   \n",
       "Queen                                 2       2             2             2   \n",
       "Travis Scott                          2       2             2             2   \n",
       "Camila Cabello,Young Thug             1       1             1             1   \n",
       "Bad Bunny,JHAYCO                      1       1             1             1   \n",
       "Avicii                                1       1             1             1   \n",
       "Alan Walker                           1       1             1             1   \n",
       "Ariana Grande                         1       1             1             1   \n",
       "\n",
       "                           energy  key_name  loudness  mode  speechiness  \\\n",
       "track_artist                                                               \n",
       "Bruno Mars                      4         4         4     4            4   \n",
       "Ed Sheeran                      4         4         4     4            4   \n",
       "The Weeknd                      4         4         4     4            4   \n",
       "Coldplay                        3         3         3     3            3   \n",
       "Dua Lipa                        3         3         3     3            3   \n",
       "Imagine Dragons                 3         3         3     3            3   \n",
       "Sam Smith                       2         2         2     2            2   \n",
       "Harry Styles                    2         2         2     2            2   \n",
       "Eminem                          2         2         2     2            2   \n",
       "Olivia Rodrigo                  2         2         2     2            2   \n",
       "Arctic Monkeys                  2         2         2     2            2   \n",
       "Shawn Mendes                    2         2         2     2            2   \n",
       "XXXTENTACION                    2         2         2     2            2   \n",
       "Queen                           2         2         2     2            2   \n",
       "Travis Scott                    2         2         2     2            2   \n",
       "Camila Cabello,Young Thug       1         1         1     1            1   \n",
       "Bad Bunny,JHAYCO                1         1         1     1            1   \n",
       "Avicii                          1         1         1     1            1   \n",
       "Alan Walker                     1         1         1     1            1   \n",
       "Ariana Grande                   1         1         1     1            1   \n",
       "\n",
       "                           acousticness  instrumentalness  liveness  valence  \\\n",
       "track_artist                                                                   \n",
       "Bruno Mars                            4                 4         4        4   \n",
       "Ed Sheeran                            4                 4         4        4   \n",
       "The Weeknd                            4                 4         4        4   \n",
       "Coldplay                              3                 3         3        3   \n",
       "Dua Lipa                              3                 3         3        3   \n",
       "Imagine Dragons                       3                 3         3        3   \n",
       "Sam Smith                             2                 2         2        2   \n",
       "Harry Styles                          2                 2         2        2   \n",
       "Eminem                                2                 2         2        2   \n",
       "Olivia Rodrigo                        2                 2         2        2   \n",
       "Arctic Monkeys                        2                 2         2        2   \n",
       "Shawn Mendes                          2                 2         2        2   \n",
       "XXXTENTACION                          2                 2         2        2   \n",
       "Queen                                 2                 2         2        2   \n",
       "Travis Scott                          2                 2         2        2   \n",
       "Camila Cabello,Young Thug             1                 1         1        1   \n",
       "Bad Bunny,JHAYCO                      1                 1         1        1   \n",
       "Avicii                                1                 1         1        1   \n",
       "Alan Walker                           1                 1         1        1   \n",
       "Ariana Grande                         1                 1         1        1   \n",
       "\n",
       "                           tempo  Time Signature  \n",
       "track_artist                                      \n",
       "Bruno Mars                     4               4  \n",
       "Ed Sheeran                     4               4  \n",
       "The Weeknd                     4               4  \n",
       "Coldplay                       3               3  \n",
       "Dua Lipa                       3               3  \n",
       "Imagine Dragons                3               3  \n",
       "Sam Smith                      2               2  \n",
       "Harry Styles                   2               2  \n",
       "Eminem                         2               2  \n",
       "Olivia Rodrigo                 2               2  \n",
       "Arctic Monkeys                 2               2  \n",
       "Shawn Mendes                   2               2  \n",
       "XXXTENTACION                   2               2  \n",
       "Queen                          2               2  \n",
       "Travis Scott                   2               2  \n",
       "Camila Cabello,Young Thug      1               1  \n",
       "Bad Bunny,JHAYCO               1               1  \n",
       "Avicii                         1               1  \n",
       "Alan Walker                    1               1  \n",
       "Ariana Grande                  1               1  "
      ]
     },
     "execution_count": 59,
     "metadata": {},
     "output_type": "execute_result"
    }
   ],
   "source": [
    "grouped_by_artist = df.groupby(\"track_artist\").count()\n",
    "grouped_by_artist.sort_values(\"track_name\", ascending=False).head(20)"
   ]
  },
  {
   "cell_type": "markdown",
   "metadata": {
    "id": "yL6o92p8jlbw"
   },
   "source": [
    "##Release Year"
   ]
  },
  {
   "cell_type": "markdown",
   "metadata": {
    "id": "ixiuxSTsjsaI"
   },
   "source": [
    "Which year is predominant in the Top 100 streamed songs?"
   ]
  },
  {
   "cell_type": "code",
   "execution_count": 60,
   "metadata": {
    "colab": {
     "base_uri": "https://localhost:8080/",
     "height": 839
    },
    "collapsed": true,
    "id": "iujiACpE38Fp",
    "outputId": "3017f37c-199c-4c85-966e-97346757cf35"
   },
   "outputs": [
    {
     "data": {
      "text/html": [
       "<div>\n",
       "<style scoped>\n",
       "    .dataframe tbody tr th:only-of-type {\n",
       "        vertical-align: middle;\n",
       "    }\n",
       "\n",
       "    .dataframe tbody tr th {\n",
       "        vertical-align: top;\n",
       "    }\n",
       "\n",
       "    .dataframe thead th {\n",
       "        text-align: right;\n",
       "    }\n",
       "</style>\n",
       "<table border=\"1\" class=\"dataframe\">\n",
       "  <thead>\n",
       "    <tr style=\"text-align: right;\">\n",
       "      <th></th>\n",
       "      <th>track_id</th>\n",
       "      <th>track_name</th>\n",
       "      <th>track_artist</th>\n",
       "      <th>track_popularity</th>\n",
       "      <th>track_album_name</th>\n",
       "      <th>duration_min</th>\n",
       "      <th>Genres</th>\n",
       "      <th>record_label</th>\n",
       "      <th>danceability</th>\n",
       "      <th>energy</th>\n",
       "      <th>key_name</th>\n",
       "      <th>loudness</th>\n",
       "      <th>mode</th>\n",
       "      <th>speechiness</th>\n",
       "      <th>acousticness</th>\n",
       "      <th>instrumentalness</th>\n",
       "      <th>liveness</th>\n",
       "      <th>valence</th>\n",
       "      <th>tempo</th>\n",
       "      <th>Time Signature</th>\n",
       "    </tr>\n",
       "    <tr>\n",
       "      <th>track_album_release_year</th>\n",
       "      <th></th>\n",
       "      <th></th>\n",
       "      <th></th>\n",
       "      <th></th>\n",
       "      <th></th>\n",
       "      <th></th>\n",
       "      <th></th>\n",
       "      <th></th>\n",
       "      <th></th>\n",
       "      <th></th>\n",
       "      <th></th>\n",
       "      <th></th>\n",
       "      <th></th>\n",
       "      <th></th>\n",
       "      <th></th>\n",
       "      <th></th>\n",
       "      <th></th>\n",
       "      <th></th>\n",
       "      <th></th>\n",
       "      <th></th>\n",
       "    </tr>\n",
       "  </thead>\n",
       "  <tbody>\n",
       "    <tr>\n",
       "      <th>2023</th>\n",
       "      <td>1</td>\n",
       "      <td>1</td>\n",
       "      <td>1</td>\n",
       "      <td>1</td>\n",
       "      <td>1</td>\n",
       "      <td>1</td>\n",
       "      <td>1</td>\n",
       "      <td>1</td>\n",
       "      <td>1</td>\n",
       "      <td>1</td>\n",
       "      <td>1</td>\n",
       "      <td>1</td>\n",
       "      <td>1</td>\n",
       "      <td>1</td>\n",
       "      <td>1</td>\n",
       "      <td>1</td>\n",
       "      <td>1</td>\n",
       "      <td>1</td>\n",
       "      <td>1</td>\n",
       "      <td>1</td>\n",
       "    </tr>\n",
       "    <tr>\n",
       "      <th>2022</th>\n",
       "      <td>2</td>\n",
       "      <td>2</td>\n",
       "      <td>2</td>\n",
       "      <td>2</td>\n",
       "      <td>2</td>\n",
       "      <td>2</td>\n",
       "      <td>2</td>\n",
       "      <td>2</td>\n",
       "      <td>2</td>\n",
       "      <td>2</td>\n",
       "      <td>2</td>\n",
       "      <td>2</td>\n",
       "      <td>2</td>\n",
       "      <td>2</td>\n",
       "      <td>2</td>\n",
       "      <td>2</td>\n",
       "      <td>2</td>\n",
       "      <td>2</td>\n",
       "      <td>2</td>\n",
       "      <td>2</td>\n",
       "    </tr>\n",
       "    <tr>\n",
       "      <th>2021</th>\n",
       "      <td>6</td>\n",
       "      <td>6</td>\n",
       "      <td>6</td>\n",
       "      <td>6</td>\n",
       "      <td>6</td>\n",
       "      <td>6</td>\n",
       "      <td>6</td>\n",
       "      <td>6</td>\n",
       "      <td>6</td>\n",
       "      <td>6</td>\n",
       "      <td>6</td>\n",
       "      <td>6</td>\n",
       "      <td>6</td>\n",
       "      <td>6</td>\n",
       "      <td>6</td>\n",
       "      <td>6</td>\n",
       "      <td>6</td>\n",
       "      <td>6</td>\n",
       "      <td>6</td>\n",
       "      <td>6</td>\n",
       "    </tr>\n",
       "    <tr>\n",
       "      <th>2020</th>\n",
       "      <td>7</td>\n",
       "      <td>7</td>\n",
       "      <td>7</td>\n",
       "      <td>7</td>\n",
       "      <td>7</td>\n",
       "      <td>7</td>\n",
       "      <td>7</td>\n",
       "      <td>7</td>\n",
       "      <td>7</td>\n",
       "      <td>7</td>\n",
       "      <td>7</td>\n",
       "      <td>7</td>\n",
       "      <td>7</td>\n",
       "      <td>7</td>\n",
       "      <td>7</td>\n",
       "      <td>7</td>\n",
       "      <td>7</td>\n",
       "      <td>7</td>\n",
       "      <td>7</td>\n",
       "      <td>7</td>\n",
       "    </tr>\n",
       "    <tr>\n",
       "      <th>2019</th>\n",
       "      <td>8</td>\n",
       "      <td>8</td>\n",
       "      <td>8</td>\n",
       "      <td>8</td>\n",
       "      <td>8</td>\n",
       "      <td>8</td>\n",
       "      <td>8</td>\n",
       "      <td>8</td>\n",
       "      <td>8</td>\n",
       "      <td>8</td>\n",
       "      <td>8</td>\n",
       "      <td>8</td>\n",
       "      <td>8</td>\n",
       "      <td>8</td>\n",
       "      <td>8</td>\n",
       "      <td>8</td>\n",
       "      <td>8</td>\n",
       "      <td>8</td>\n",
       "      <td>8</td>\n",
       "      <td>8</td>\n",
       "    </tr>\n",
       "    <tr>\n",
       "      <th>2018</th>\n",
       "      <td>12</td>\n",
       "      <td>12</td>\n",
       "      <td>12</td>\n",
       "      <td>12</td>\n",
       "      <td>12</td>\n",
       "      <td>12</td>\n",
       "      <td>12</td>\n",
       "      <td>12</td>\n",
       "      <td>12</td>\n",
       "      <td>12</td>\n",
       "      <td>12</td>\n",
       "      <td>12</td>\n",
       "      <td>12</td>\n",
       "      <td>12</td>\n",
       "      <td>12</td>\n",
       "      <td>12</td>\n",
       "      <td>12</td>\n",
       "      <td>12</td>\n",
       "      <td>12</td>\n",
       "      <td>12</td>\n",
       "    </tr>\n",
       "    <tr>\n",
       "      <th>2017</th>\n",
       "      <td>13</td>\n",
       "      <td>13</td>\n",
       "      <td>13</td>\n",
       "      <td>13</td>\n",
       "      <td>13</td>\n",
       "      <td>13</td>\n",
       "      <td>13</td>\n",
       "      <td>13</td>\n",
       "      <td>13</td>\n",
       "      <td>13</td>\n",
       "      <td>13</td>\n",
       "      <td>13</td>\n",
       "      <td>13</td>\n",
       "      <td>13</td>\n",
       "      <td>13</td>\n",
       "      <td>13</td>\n",
       "      <td>13</td>\n",
       "      <td>13</td>\n",
       "      <td>13</td>\n",
       "      <td>13</td>\n",
       "    </tr>\n",
       "    <tr>\n",
       "      <th>2016</th>\n",
       "      <td>10</td>\n",
       "      <td>10</td>\n",
       "      <td>10</td>\n",
       "      <td>10</td>\n",
       "      <td>10</td>\n",
       "      <td>10</td>\n",
       "      <td>10</td>\n",
       "      <td>10</td>\n",
       "      <td>10</td>\n",
       "      <td>10</td>\n",
       "      <td>10</td>\n",
       "      <td>10</td>\n",
       "      <td>10</td>\n",
       "      <td>10</td>\n",
       "      <td>10</td>\n",
       "      <td>10</td>\n",
       "      <td>10</td>\n",
       "      <td>10</td>\n",
       "      <td>10</td>\n",
       "      <td>10</td>\n",
       "    </tr>\n",
       "    <tr>\n",
       "      <th>2015</th>\n",
       "      <td>7</td>\n",
       "      <td>7</td>\n",
       "      <td>7</td>\n",
       "      <td>7</td>\n",
       "      <td>7</td>\n",
       "      <td>7</td>\n",
       "      <td>7</td>\n",
       "      <td>7</td>\n",
       "      <td>7</td>\n",
       "      <td>7</td>\n",
       "      <td>7</td>\n",
       "      <td>7</td>\n",
       "      <td>7</td>\n",
       "      <td>7</td>\n",
       "      <td>7</td>\n",
       "      <td>7</td>\n",
       "      <td>7</td>\n",
       "      <td>7</td>\n",
       "      <td>7</td>\n",
       "      <td>7</td>\n",
       "    </tr>\n",
       "    <tr>\n",
       "      <th>2014</th>\n",
       "      <td>7</td>\n",
       "      <td>7</td>\n",
       "      <td>7</td>\n",
       "      <td>7</td>\n",
       "      <td>7</td>\n",
       "      <td>7</td>\n",
       "      <td>7</td>\n",
       "      <td>7</td>\n",
       "      <td>7</td>\n",
       "      <td>7</td>\n",
       "      <td>7</td>\n",
       "      <td>7</td>\n",
       "      <td>7</td>\n",
       "      <td>7</td>\n",
       "      <td>7</td>\n",
       "      <td>7</td>\n",
       "      <td>7</td>\n",
       "      <td>7</td>\n",
       "      <td>7</td>\n",
       "      <td>7</td>\n",
       "    </tr>\n",
       "    <tr>\n",
       "      <th>2013</th>\n",
       "      <td>7</td>\n",
       "      <td>7</td>\n",
       "      <td>7</td>\n",
       "      <td>7</td>\n",
       "      <td>7</td>\n",
       "      <td>7</td>\n",
       "      <td>7</td>\n",
       "      <td>7</td>\n",
       "      <td>7</td>\n",
       "      <td>7</td>\n",
       "      <td>7</td>\n",
       "      <td>7</td>\n",
       "      <td>7</td>\n",
       "      <td>7</td>\n",
       "      <td>7</td>\n",
       "      <td>7</td>\n",
       "      <td>7</td>\n",
       "      <td>7</td>\n",
       "      <td>7</td>\n",
       "      <td>7</td>\n",
       "    </tr>\n",
       "    <tr>\n",
       "      <th>2012</th>\n",
       "      <td>5</td>\n",
       "      <td>5</td>\n",
       "      <td>5</td>\n",
       "      <td>5</td>\n",
       "      <td>5</td>\n",
       "      <td>5</td>\n",
       "      <td>5</td>\n",
       "      <td>5</td>\n",
       "      <td>5</td>\n",
       "      <td>5</td>\n",
       "      <td>5</td>\n",
       "      <td>5</td>\n",
       "      <td>5</td>\n",
       "      <td>5</td>\n",
       "      <td>5</td>\n",
       "      <td>5</td>\n",
       "      <td>5</td>\n",
       "      <td>5</td>\n",
       "      <td>5</td>\n",
       "      <td>5</td>\n",
       "    </tr>\n",
       "    <tr>\n",
       "      <th>2011</th>\n",
       "      <td>2</td>\n",
       "      <td>2</td>\n",
       "      <td>2</td>\n",
       "      <td>2</td>\n",
       "      <td>2</td>\n",
       "      <td>2</td>\n",
       "      <td>2</td>\n",
       "      <td>2</td>\n",
       "      <td>2</td>\n",
       "      <td>2</td>\n",
       "      <td>2</td>\n",
       "      <td>2</td>\n",
       "      <td>2</td>\n",
       "      <td>2</td>\n",
       "      <td>2</td>\n",
       "      <td>2</td>\n",
       "      <td>2</td>\n",
       "      <td>2</td>\n",
       "      <td>2</td>\n",
       "      <td>2</td>\n",
       "    </tr>\n",
       "    <tr>\n",
       "      <th>2010</th>\n",
       "      <td>1</td>\n",
       "      <td>1</td>\n",
       "      <td>1</td>\n",
       "      <td>1</td>\n",
       "      <td>1</td>\n",
       "      <td>1</td>\n",
       "      <td>1</td>\n",
       "      <td>1</td>\n",
       "      <td>1</td>\n",
       "      <td>1</td>\n",
       "      <td>1</td>\n",
       "      <td>1</td>\n",
       "      <td>1</td>\n",
       "      <td>1</td>\n",
       "      <td>1</td>\n",
       "      <td>1</td>\n",
       "      <td>1</td>\n",
       "      <td>1</td>\n",
       "      <td>1</td>\n",
       "      <td>1</td>\n",
       "    </tr>\n",
       "    <tr>\n",
       "      <th>2008</th>\n",
       "      <td>1</td>\n",
       "      <td>1</td>\n",
       "      <td>1</td>\n",
       "      <td>1</td>\n",
       "      <td>1</td>\n",
       "      <td>1</td>\n",
       "      <td>1</td>\n",
       "      <td>1</td>\n",
       "      <td>1</td>\n",
       "      <td>1</td>\n",
       "      <td>1</td>\n",
       "      <td>1</td>\n",
       "      <td>1</td>\n",
       "      <td>1</td>\n",
       "      <td>1</td>\n",
       "      <td>1</td>\n",
       "      <td>1</td>\n",
       "      <td>1</td>\n",
       "      <td>1</td>\n",
       "      <td>1</td>\n",
       "    </tr>\n",
       "    <tr>\n",
       "      <th>2004</th>\n",
       "      <td>1</td>\n",
       "      <td>1</td>\n",
       "      <td>1</td>\n",
       "      <td>1</td>\n",
       "      <td>1</td>\n",
       "      <td>1</td>\n",
       "      <td>1</td>\n",
       "      <td>1</td>\n",
       "      <td>1</td>\n",
       "      <td>1</td>\n",
       "      <td>1</td>\n",
       "      <td>1</td>\n",
       "      <td>1</td>\n",
       "      <td>1</td>\n",
       "      <td>1</td>\n",
       "      <td>1</td>\n",
       "      <td>1</td>\n",
       "      <td>1</td>\n",
       "      <td>1</td>\n",
       "      <td>1</td>\n",
       "    </tr>\n",
       "    <tr>\n",
       "      <th>2002</th>\n",
       "      <td>3</td>\n",
       "      <td>3</td>\n",
       "      <td>3</td>\n",
       "      <td>3</td>\n",
       "      <td>3</td>\n",
       "      <td>3</td>\n",
       "      <td>3</td>\n",
       "      <td>3</td>\n",
       "      <td>3</td>\n",
       "      <td>3</td>\n",
       "      <td>3</td>\n",
       "      <td>3</td>\n",
       "      <td>3</td>\n",
       "      <td>3</td>\n",
       "      <td>3</td>\n",
       "      <td>3</td>\n",
       "      <td>3</td>\n",
       "      <td>3</td>\n",
       "      <td>3</td>\n",
       "      <td>3</td>\n",
       "    </tr>\n",
       "    <tr>\n",
       "      <th>2000</th>\n",
       "      <td>2</td>\n",
       "      <td>2</td>\n",
       "      <td>2</td>\n",
       "      <td>2</td>\n",
       "      <td>2</td>\n",
       "      <td>2</td>\n",
       "      <td>2</td>\n",
       "      <td>2</td>\n",
       "      <td>2</td>\n",
       "      <td>2</td>\n",
       "      <td>2</td>\n",
       "      <td>2</td>\n",
       "      <td>2</td>\n",
       "      <td>2</td>\n",
       "      <td>2</td>\n",
       "      <td>2</td>\n",
       "      <td>2</td>\n",
       "      <td>2</td>\n",
       "      <td>2</td>\n",
       "      <td>2</td>\n",
       "    </tr>\n",
       "    <tr>\n",
       "      <th>1991</th>\n",
       "      <td>1</td>\n",
       "      <td>1</td>\n",
       "      <td>1</td>\n",
       "      <td>1</td>\n",
       "      <td>1</td>\n",
       "      <td>1</td>\n",
       "      <td>1</td>\n",
       "      <td>1</td>\n",
       "      <td>1</td>\n",
       "      <td>1</td>\n",
       "      <td>1</td>\n",
       "      <td>1</td>\n",
       "      <td>1</td>\n",
       "      <td>1</td>\n",
       "      <td>1</td>\n",
       "      <td>1</td>\n",
       "      <td>1</td>\n",
       "      <td>1</td>\n",
       "      <td>1</td>\n",
       "      <td>1</td>\n",
       "    </tr>\n",
       "    <tr>\n",
       "      <th>1985</th>\n",
       "      <td>1</td>\n",
       "      <td>1</td>\n",
       "      <td>1</td>\n",
       "      <td>1</td>\n",
       "      <td>1</td>\n",
       "      <td>1</td>\n",
       "      <td>1</td>\n",
       "      <td>1</td>\n",
       "      <td>1</td>\n",
       "      <td>1</td>\n",
       "      <td>1</td>\n",
       "      <td>1</td>\n",
       "      <td>1</td>\n",
       "      <td>1</td>\n",
       "      <td>1</td>\n",
       "      <td>1</td>\n",
       "      <td>1</td>\n",
       "      <td>1</td>\n",
       "      <td>1</td>\n",
       "      <td>1</td>\n",
       "    </tr>\n",
       "    <tr>\n",
       "      <th>1983</th>\n",
       "      <td>1</td>\n",
       "      <td>1</td>\n",
       "      <td>1</td>\n",
       "      <td>1</td>\n",
       "      <td>1</td>\n",
       "      <td>1</td>\n",
       "      <td>1</td>\n",
       "      <td>1</td>\n",
       "      <td>1</td>\n",
       "      <td>1</td>\n",
       "      <td>1</td>\n",
       "      <td>1</td>\n",
       "      <td>1</td>\n",
       "      <td>1</td>\n",
       "      <td>1</td>\n",
       "      <td>1</td>\n",
       "      <td>1</td>\n",
       "      <td>1</td>\n",
       "      <td>1</td>\n",
       "      <td>1</td>\n",
       "    </tr>\n",
       "    <tr>\n",
       "      <th>1981</th>\n",
       "      <td>1</td>\n",
       "      <td>1</td>\n",
       "      <td>1</td>\n",
       "      <td>1</td>\n",
       "      <td>1</td>\n",
       "      <td>1</td>\n",
       "      <td>1</td>\n",
       "      <td>1</td>\n",
       "      <td>1</td>\n",
       "      <td>1</td>\n",
       "      <td>1</td>\n",
       "      <td>1</td>\n",
       "      <td>1</td>\n",
       "      <td>1</td>\n",
       "      <td>1</td>\n",
       "      <td>1</td>\n",
       "      <td>1</td>\n",
       "      <td>1</td>\n",
       "      <td>1</td>\n",
       "      <td>1</td>\n",
       "    </tr>\n",
       "    <tr>\n",
       "      <th>1978</th>\n",
       "      <td>1</td>\n",
       "      <td>1</td>\n",
       "      <td>1</td>\n",
       "      <td>1</td>\n",
       "      <td>1</td>\n",
       "      <td>1</td>\n",
       "      <td>1</td>\n",
       "      <td>1</td>\n",
       "      <td>1</td>\n",
       "      <td>1</td>\n",
       "      <td>1</td>\n",
       "      <td>1</td>\n",
       "      <td>1</td>\n",
       "      <td>1</td>\n",
       "      <td>1</td>\n",
       "      <td>1</td>\n",
       "      <td>1</td>\n",
       "      <td>1</td>\n",
       "      <td>1</td>\n",
       "      <td>1</td>\n",
       "    </tr>\n",
       "  </tbody>\n",
       "</table>\n",
       "</div>"
      ],
      "text/plain": [
       "                          track_id  track_name  track_artist  \\\n",
       "track_album_release_year                                       \n",
       "2023                             1           1             1   \n",
       "2022                             2           2             2   \n",
       "2021                             6           6             6   \n",
       "2020                             7           7             7   \n",
       "2019                             8           8             8   \n",
       "2018                            12          12            12   \n",
       "2017                            13          13            13   \n",
       "2016                            10          10            10   \n",
       "2015                             7           7             7   \n",
       "2014                             7           7             7   \n",
       "2013                             7           7             7   \n",
       "2012                             5           5             5   \n",
       "2011                             2           2             2   \n",
       "2010                             1           1             1   \n",
       "2008                             1           1             1   \n",
       "2004                             1           1             1   \n",
       "2002                             3           3             3   \n",
       "2000                             2           2             2   \n",
       "1991                             1           1             1   \n",
       "1985                             1           1             1   \n",
       "1983                             1           1             1   \n",
       "1981                             1           1             1   \n",
       "1978                             1           1             1   \n",
       "\n",
       "                          track_popularity  track_album_name  duration_min  \\\n",
       "track_album_release_year                                                     \n",
       "2023                                     1                 1             1   \n",
       "2022                                     2                 2             2   \n",
       "2021                                     6                 6             6   \n",
       "2020                                     7                 7             7   \n",
       "2019                                     8                 8             8   \n",
       "2018                                    12                12            12   \n",
       "2017                                    13                13            13   \n",
       "2016                                    10                10            10   \n",
       "2015                                     7                 7             7   \n",
       "2014                                     7                 7             7   \n",
       "2013                                     7                 7             7   \n",
       "2012                                     5                 5             5   \n",
       "2011                                     2                 2             2   \n",
       "2010                                     1                 1             1   \n",
       "2008                                     1                 1             1   \n",
       "2004                                     1                 1             1   \n",
       "2002                                     3                 3             3   \n",
       "2000                                     2                 2             2   \n",
       "1991                                     1                 1             1   \n",
       "1985                                     1                 1             1   \n",
       "1983                                     1                 1             1   \n",
       "1981                                     1                 1             1   \n",
       "1978                                     1                 1             1   \n",
       "\n",
       "                          Genres  record_label  danceability  energy  \\\n",
       "track_album_release_year                                               \n",
       "2023                           1             1             1       1   \n",
       "2022                           2             2             2       2   \n",
       "2021                           6             6             6       6   \n",
       "2020                           7             7             7       7   \n",
       "2019                           8             8             8       8   \n",
       "2018                          12            12            12      12   \n",
       "2017                          13            13            13      13   \n",
       "2016                          10            10            10      10   \n",
       "2015                           7             7             7       7   \n",
       "2014                           7             7             7       7   \n",
       "2013                           7             7             7       7   \n",
       "2012                           5             5             5       5   \n",
       "2011                           2             2             2       2   \n",
       "2010                           1             1             1       1   \n",
       "2008                           1             1             1       1   \n",
       "2004                           1             1             1       1   \n",
       "2002                           3             3             3       3   \n",
       "2000                           2             2             2       2   \n",
       "1991                           1             1             1       1   \n",
       "1985                           1             1             1       1   \n",
       "1983                           1             1             1       1   \n",
       "1981                           1             1             1       1   \n",
       "1978                           1             1             1       1   \n",
       "\n",
       "                          key_name  loudness  mode  speechiness  acousticness  \\\n",
       "track_album_release_year                                                        \n",
       "2023                             1         1     1            1             1   \n",
       "2022                             2         2     2            2             2   \n",
       "2021                             6         6     6            6             6   \n",
       "2020                             7         7     7            7             7   \n",
       "2019                             8         8     8            8             8   \n",
       "2018                            12        12    12           12            12   \n",
       "2017                            13        13    13           13            13   \n",
       "2016                            10        10    10           10            10   \n",
       "2015                             7         7     7            7             7   \n",
       "2014                             7         7     7            7             7   \n",
       "2013                             7         7     7            7             7   \n",
       "2012                             5         5     5            5             5   \n",
       "2011                             2         2     2            2             2   \n",
       "2010                             1         1     1            1             1   \n",
       "2008                             1         1     1            1             1   \n",
       "2004                             1         1     1            1             1   \n",
       "2002                             3         3     3            3             3   \n",
       "2000                             2         2     2            2             2   \n",
       "1991                             1         1     1            1             1   \n",
       "1985                             1         1     1            1             1   \n",
       "1983                             1         1     1            1             1   \n",
       "1981                             1         1     1            1             1   \n",
       "1978                             1         1     1            1             1   \n",
       "\n",
       "                          instrumentalness  liveness  valence  tempo  \\\n",
       "track_album_release_year                                               \n",
       "2023                                     1         1        1      1   \n",
       "2022                                     2         2        2      2   \n",
       "2021                                     6         6        6      6   \n",
       "2020                                     7         7        7      7   \n",
       "2019                                     8         8        8      8   \n",
       "2018                                    12        12       12     12   \n",
       "2017                                    13        13       13     13   \n",
       "2016                                    10        10       10     10   \n",
       "2015                                     7         7        7      7   \n",
       "2014                                     7         7        7      7   \n",
       "2013                                     7         7        7      7   \n",
       "2012                                     5         5        5      5   \n",
       "2011                                     2         2        2      2   \n",
       "2010                                     1         1        1      1   \n",
       "2008                                     1         1        1      1   \n",
       "2004                                     1         1        1      1   \n",
       "2002                                     3         3        3      3   \n",
       "2000                                     2         2        2      2   \n",
       "1991                                     1         1        1      1   \n",
       "1985                                     1         1        1      1   \n",
       "1983                                     1         1        1      1   \n",
       "1981                                     1         1        1      1   \n",
       "1978                                     1         1        1      1   \n",
       "\n",
       "                          Time Signature  \n",
       "track_album_release_year                  \n",
       "2023                                   1  \n",
       "2022                                   2  \n",
       "2021                                   6  \n",
       "2020                                   7  \n",
       "2019                                   8  \n",
       "2018                                  12  \n",
       "2017                                  13  \n",
       "2016                                  10  \n",
       "2015                                   7  \n",
       "2014                                   7  \n",
       "2013                                   7  \n",
       "2012                                   5  \n",
       "2011                                   2  \n",
       "2010                                   1  \n",
       "2008                                   1  \n",
       "2004                                   1  \n",
       "2002                                   3  \n",
       "2000                                   2  \n",
       "1991                                   1  \n",
       "1985                                   1  \n",
       "1983                                   1  \n",
       "1981                                   1  \n",
       "1978                                   1  "
      ]
     },
     "execution_count": 60,
     "metadata": {},
     "output_type": "execute_result"
    }
   ],
   "source": [
    "grouped_by_year = df.groupby(\"track_album_release_year\").count()\n",
    "grouped_by_year.sort_values(\"track_album_release_year\", ascending=False)"
   ]
  },
  {
   "cell_type": "code",
   "execution_count": 61,
   "metadata": {
    "colab": {
     "base_uri": "https://localhost:8080/",
     "height": 564
    },
    "id": "YpNPzFHWn6QB",
    "outputId": "3555b4a2-b3c8-4ea2-e95f-4d5f3e1f332f"
   },
   "outputs": [
    {
     "data": {
      "image/png": "[encoded data removed]",
      "text/plain": [
       "<Figure size 1000x600 with 1 Axes>"
      ]
     },
     "metadata": {},
     "output_type": "display_data"
    }
   ],
   "source": [
    "#visualize number of songs (track_name) per year\n",
    "plt.figure(figsize=(10, 6))\n",
    "plt.bar(grouped_by_year.index, grouped_by_year['track_name'])\n",
    "plt.xlabel('Year')\n",
    "plt.ylabel('Number of Songs')\n",
    "plt.title('Songs per year');\n"
   ]
  },
  {
   "cell_type": "code",
   "execution_count": 62,
   "metadata": {
    "colab": {
     "base_uri": "https://localhost:8080/",
     "height": 564
    },
    "id": "Z2Fh2FQExk4M",
    "outputId": "b044fb6d-7889-4b16-c7f1-395cb6883726"
   },
   "outputs": [
    {
     "data": {
      "image/png": "[encoded data removed]",
      "text/plain": [
       "<Figure size 1000x600 with 1 Axes>"
      ]
     },
     "metadata": {},
     "output_type": "display_data"
    }
   ],
   "source": [
    "# Filter for the years 2010-2025\n",
    "filtered_data = grouped_by_year[(grouped_by_year.index >= 2010) & (grouped_by_year.index <= 2025)]\n",
    "\n",
    "plt.figure(figsize=(10, 6))\n",
    "plt.bar(filtered_data.index, filtered_data[\"track_name\"])  # Assuming 'track_count' is the column with song counts\n",
    "plt.xlabel(\"Year\")\n",
    "plt.ylabel(\"Number of Songs\")\n",
    "plt.title(\"Songs per Year (2010-2025)\")\n",
    "plt.show()"
   ]
  },
  {
   "cell_type": "code",
   "execution_count": 68,
   "metadata": {
    "colab": {
     "base_uri": "https://localhost:8080/"
    },
    "id": "nkRqi4Q9LpRs",
    "outputId": "fd87dde5-1843-4685-8ca3-b78342be46f3"
   },
   "outputs": [
    {
     "name": "stdout",
     "output_type": "stream",
     "text": [
      "1905\n"
     ]
    }
   ],
   "source": [
    "print(df[\"track_album_release_year\"].min())"
   ]
  },
  {
   "cell_type": "code",
   "execution_count": 69,
   "metadata": {
    "colab": {
     "base_uri": "https://localhost:8080/",
     "height": 214
    },
    "id": "dUc1oWTmy2_H",
    "outputId": "d7c59b8b-7896-4a8f-b95e-0ec035836975"
   },
   "outputs": [
    {
     "data": {
      "text/html": [
       "<div>\n",
       "<style scoped>\n",
       "    .dataframe tbody tr th:only-of-type {\n",
       "        vertical-align: middle;\n",
       "    }\n",
       "\n",
       "    .dataframe tbody tr th {\n",
       "        vertical-align: top;\n",
       "    }\n",
       "\n",
       "    .dataframe thead th {\n",
       "        text-align: right;\n",
       "    }\n",
       "</style>\n",
       "<table border=\"1\" class=\"dataframe\">\n",
       "  <thead>\n",
       "    <tr style=\"text-align: right;\">\n",
       "      <th></th>\n",
       "      <th>track_id</th>\n",
       "      <th>track_name</th>\n",
       "      <th>track_artist</th>\n",
       "      <th>track_popularity</th>\n",
       "      <th>track_album_name</th>\n",
       "      <th>track_album_release_year</th>\n",
       "      <th>duration_min</th>\n",
       "      <th>Genres</th>\n",
       "      <th>record_label</th>\n",
       "      <th>danceability</th>\n",
       "      <th>...</th>\n",
       "      <th>key_name</th>\n",
       "      <th>loudness</th>\n",
       "      <th>mode</th>\n",
       "      <th>speechiness</th>\n",
       "      <th>acousticness</th>\n",
       "      <th>instrumentalness</th>\n",
       "      <th>liveness</th>\n",
       "      <th>valence</th>\n",
       "      <th>tempo</th>\n",
       "      <th>Time Signature</th>\n",
       "    </tr>\n",
       "  </thead>\n",
       "  <tbody>\n",
       "    <tr>\n",
       "      <th>51</th>\n",
       "      <td>003vvx7Niy0yvhvHt4a68B</td>\n",
       "      <td>Mr. Brightside</td>\n",
       "      <td>The Killers</td>\n",
       "      <td>85</td>\n",
       "      <td>Hot Fuss</td>\n",
       "      <td>1905</td>\n",
       "      <td>3.72</td>\n",
       "      <td>Rock</td>\n",
       "      <td>Island Records</td>\n",
       "      <td>35.20%</td>\n",
       "      <td>...</td>\n",
       "      <td>C#</td>\n",
       "      <td>-5.23</td>\n",
       "      <td>Major</td>\n",
       "      <td>7.47%</td>\n",
       "      <td>0.12%</td>\n",
       "      <td>0.00%</td>\n",
       "      <td>9.95%</td>\n",
       "      <td>23.60%</td>\n",
       "      <td>148.03</td>\n",
       "      <td>4</td>\n",
       "    </tr>\n",
       "    <tr>\n",
       "      <th>77</th>\n",
       "      <td>60a0Rd6pjrkxjPbaKzXjfq</td>\n",
       "      <td>In the End</td>\n",
       "      <td>Linkin Park</td>\n",
       "      <td>87</td>\n",
       "      <td>Hybrid Theory (Bonus Edition)</td>\n",
       "      <td>1905</td>\n",
       "      <td>3.61</td>\n",
       "      <td>Rap</td>\n",
       "      <td>Warner Records</td>\n",
       "      <td>55.60%</td>\n",
       "      <td>...</td>\n",
       "      <td>D#</td>\n",
       "      <td>-5.87</td>\n",
       "      <td>Minor</td>\n",
       "      <td>5.84%</td>\n",
       "      <td>0.96%</td>\n",
       "      <td>0.00%</td>\n",
       "      <td>20.90%</td>\n",
       "      <td>40.00%</td>\n",
       "      <td>105.14</td>\n",
       "      <td>4</td>\n",
       "    </tr>\n",
       "  </tbody>\n",
       "</table>\n",
       "<p>2 rows × 21 columns</p>\n",
       "</div>"
      ],
      "text/plain": [
       "                  track_id      track_name track_artist  track_popularity  \\\n",
       "51  003vvx7Niy0yvhvHt4a68B  Mr. Brightside  The Killers                85   \n",
       "77  60a0Rd6pjrkxjPbaKzXjfq      In the End  Linkin Park                87   \n",
       "\n",
       "                 track_album_name  track_album_release_year  duration_min  \\\n",
       "51                       Hot Fuss                      1905          3.72   \n",
       "77  Hybrid Theory (Bonus Edition)                      1905          3.61   \n",
       "\n",
       "   Genres    record_label danceability  ... key_name loudness   mode  \\\n",
       "51   Rock  Island Records       35.20%  ...       C#    -5.23  Major   \n",
       "77    Rap  Warner Records       55.60%  ...       D#    -5.87  Minor   \n",
       "\n",
       "   speechiness acousticness instrumentalness liveness valence   tempo  \\\n",
       "51       7.47%        0.12%            0.00%    9.95%  23.60%  148.03   \n",
       "77       5.84%        0.96%            0.00%   20.90%  40.00%  105.14   \n",
       "\n",
       "    Time Signature  \n",
       "51               4  \n",
       "77               4  \n",
       "\n",
       "[2 rows x 21 columns]"
      ]
     },
     "execution_count": 69,
     "metadata": {},
     "output_type": "execute_result"
    }
   ],
   "source": [
    "df[df[\"track_album_release_year\"] == 1905]"
   ]
  },
  {
   "cell_type": "markdown",
   "metadata": {},
   "source": [
    "There might be a slight hiccup here 😆"
   ]
  },
  {
   "cell_type": "code",
   "execution_count": 70,
   "metadata": {
    "id": "chmAQkyX16fa"
   },
   "outputs": [],
   "source": [
    "#The Killers' Mr. Brightside was actually released in 2004, and Linkin Park's In the End, in 2000. Let's update those rows.\n",
    "\n",
    "df.loc[df[\"track_name\"] == \"Mr. Brightside\", \"track_album_release_year\"] = 2004\n",
    "df.loc[df[\"track_name\"] == \"In the End\", \"track_album_release_year\"] = 2000"
   ]
  },
  {
   "cell_type": "code",
   "execution_count": 71,
   "metadata": {
    "colab": {
     "base_uri": "https://localhost:8080/"
    },
    "id": "kc48kPJS2Xe7",
    "outputId": "2d156909-b3f9-412f-e10c-d84863acd0ed"
   },
   "outputs": [
    {
     "name": "stdout",
     "output_type": "stream",
     "text": [
      "1978\n"
     ]
    }
   ],
   "source": [
    "print(df[\"track_album_release_year\"].min())"
   ]
  },
  {
   "cell_type": "code",
   "execution_count": 72,
   "metadata": {
    "colab": {
     "base_uri": "https://localhost:8080/",
     "height": 200
    },
    "id": "jfRWOO212a6K",
    "outputId": "982e6697-5659-4177-f10f-de2202e14f2e"
   },
   "outputs": [
    {
     "data": {
      "text/html": [
       "<div>\n",
       "<style scoped>\n",
       "    .dataframe tbody tr th:only-of-type {\n",
       "        vertical-align: middle;\n",
       "    }\n",
       "\n",
       "    .dataframe tbody tr th {\n",
       "        vertical-align: top;\n",
       "    }\n",
       "\n",
       "    .dataframe thead th {\n",
       "        text-align: right;\n",
       "    }\n",
       "</style>\n",
       "<table border=\"1\" class=\"dataframe\">\n",
       "  <thead>\n",
       "    <tr style=\"text-align: right;\">\n",
       "      <th></th>\n",
       "      <th>track_id</th>\n",
       "      <th>track_name</th>\n",
       "      <th>track_artist</th>\n",
       "      <th>track_popularity</th>\n",
       "      <th>track_album_name</th>\n",
       "      <th>track_album_release_year</th>\n",
       "      <th>duration_min</th>\n",
       "      <th>Genres</th>\n",
       "      <th>record_label</th>\n",
       "      <th>danceability</th>\n",
       "      <th>...</th>\n",
       "      <th>key_name</th>\n",
       "      <th>loudness</th>\n",
       "      <th>mode</th>\n",
       "      <th>speechiness</th>\n",
       "      <th>acousticness</th>\n",
       "      <th>instrumentalness</th>\n",
       "      <th>liveness</th>\n",
       "      <th>valence</th>\n",
       "      <th>tempo</th>\n",
       "      <th>Time Signature</th>\n",
       "    </tr>\n",
       "  </thead>\n",
       "  <tbody>\n",
       "    <tr>\n",
       "      <th>87</th>\n",
       "      <td>5T8EDUDqKcs6OSOwEsfqG7</td>\n",
       "      <td>Don't Stop Me Now - Remastered 2011</td>\n",
       "      <td>Queen</td>\n",
       "      <td>81</td>\n",
       "      <td>Jazz (2011 Remaster)</td>\n",
       "      <td>1978</td>\n",
       "      <td>3.49</td>\n",
       "      <td>Rock</td>\n",
       "      <td>EMI</td>\n",
       "      <td>55.90%</td>\n",
       "      <td>...</td>\n",
       "      <td>F</td>\n",
       "      <td>-5.276</td>\n",
       "      <td>Major</td>\n",
       "      <td>17.00%</td>\n",
       "      <td>4.75%</td>\n",
       "      <td>0.02%</td>\n",
       "      <td>77.60%</td>\n",
       "      <td>60.90%</td>\n",
       "      <td>156.3</td>\n",
       "      <td>4</td>\n",
       "    </tr>\n",
       "  </tbody>\n",
       "</table>\n",
       "<p>1 rows × 21 columns</p>\n",
       "</div>"
      ],
      "text/plain": [
       "                  track_id                           track_name track_artist  \\\n",
       "87  5T8EDUDqKcs6OSOwEsfqG7  Don't Stop Me Now - Remastered 2011        Queen   \n",
       "\n",
       "    track_popularity      track_album_name  track_album_release_year  \\\n",
       "87                81  Jazz (2011 Remaster)                      1978   \n",
       "\n",
       "    duration_min Genres record_label danceability  ... key_name loudness  \\\n",
       "87          3.49   Rock          EMI       55.90%  ...        F   -5.276   \n",
       "\n",
       "     mode speechiness acousticness instrumentalness liveness valence  tempo  \\\n",
       "87  Major      17.00%        4.75%            0.02%   77.60%  60.90%  156.3   \n",
       "\n",
       "    Time Signature  \n",
       "87               4  \n",
       "\n",
       "[1 rows x 21 columns]"
      ]
     },
     "execution_count": 72,
     "metadata": {},
     "output_type": "execute_result"
    }
   ],
   "source": [
    "df[df[\"track_album_release_year\"] == 1978]"
   ]
  },
  {
   "cell_type": "code",
   "execution_count": 73,
   "metadata": {
    "colab": {
     "base_uri": "https://localhost:8080/"
    },
    "id": "Y-THWEjoLyF-",
    "outputId": "4e395a51-6d27-4309-c8f4-061105fcd976"
   },
   "outputs": [
    {
     "name": "stdout",
     "output_type": "stream",
     "text": [
      "2023\n"
     ]
    }
   ],
   "source": [
    "print(df[\"track_album_release_year\"].max())"
   ]
  },
  {
   "cell_type": "code",
   "execution_count": 74,
   "metadata": {
    "colab": {
     "base_uri": "https://localhost:8080/",
     "height": 165
    },
    "id": "Z3wG4_PR2mlJ",
    "outputId": "556d27d5-d667-4b39-8979-74de05d279f7"
   },
   "outputs": [
    {
     "data": {
      "text/html": [
       "<div>\n",
       "<style scoped>\n",
       "    .dataframe tbody tr th:only-of-type {\n",
       "        vertical-align: middle;\n",
       "    }\n",
       "\n",
       "    .dataframe tbody tr th {\n",
       "        vertical-align: top;\n",
       "    }\n",
       "\n",
       "    .dataframe thead th {\n",
       "        text-align: right;\n",
       "    }\n",
       "</style>\n",
       "<table border=\"1\" class=\"dataframe\">\n",
       "  <thead>\n",
       "    <tr style=\"text-align: right;\">\n",
       "      <th></th>\n",
       "      <th>track_id</th>\n",
       "      <th>track_name</th>\n",
       "      <th>track_artist</th>\n",
       "      <th>track_popularity</th>\n",
       "      <th>track_album_name</th>\n",
       "      <th>track_album_release_year</th>\n",
       "      <th>duration_min</th>\n",
       "      <th>Genres</th>\n",
       "      <th>record_label</th>\n",
       "      <th>danceability</th>\n",
       "      <th>...</th>\n",
       "      <th>key_name</th>\n",
       "      <th>loudness</th>\n",
       "      <th>mode</th>\n",
       "      <th>speechiness</th>\n",
       "      <th>acousticness</th>\n",
       "      <th>instrumentalness</th>\n",
       "      <th>liveness</th>\n",
       "      <th>valence</th>\n",
       "      <th>tempo</th>\n",
       "      <th>Time Signature</th>\n",
       "    </tr>\n",
       "  </thead>\n",
       "  <tbody>\n",
       "    <tr>\n",
       "      <th>82</th>\n",
       "      <td>7DSAEUvxU8FajXtRloy8M0</td>\n",
       "      <td>Flowers</td>\n",
       "      <td>Miley Cyrus</td>\n",
       "      <td>87</td>\n",
       "      <td>Endless Summer Vacation</td>\n",
       "      <td>2023</td>\n",
       "      <td>3.34</td>\n",
       "      <td>Pop</td>\n",
       "      <td>Columbia</td>\n",
       "      <td>70.60%</td>\n",
       "      <td>...</td>\n",
       "      <td>C</td>\n",
       "      <td>-4.775</td>\n",
       "      <td>Major</td>\n",
       "      <td>6.33%</td>\n",
       "      <td>5.84%</td>\n",
       "      <td>0.01%</td>\n",
       "      <td>2.32%</td>\n",
       "      <td>63.20%</td>\n",
       "      <td>118.05</td>\n",
       "      <td>4</td>\n",
       "    </tr>\n",
       "  </tbody>\n",
       "</table>\n",
       "<p>1 rows × 21 columns</p>\n",
       "</div>"
      ],
      "text/plain": [
       "                  track_id track_name track_artist  track_popularity  \\\n",
       "82  7DSAEUvxU8FajXtRloy8M0    Flowers  Miley Cyrus                87   \n",
       "\n",
       "           track_album_name  track_album_release_year  duration_min Genres  \\\n",
       "82  Endless Summer Vacation                      2023          3.34    Pop   \n",
       "\n",
       "   record_label danceability  ... key_name loudness   mode speechiness  \\\n",
       "82     Columbia       70.60%  ...        C   -4.775  Major       6.33%   \n",
       "\n",
       "   acousticness instrumentalness liveness valence   tempo  Time Signature  \n",
       "82        5.84%            0.01%    2.32%  63.20%  118.05               4  \n",
       "\n",
       "[1 rows x 21 columns]"
      ]
     },
     "execution_count": 74,
     "metadata": {},
     "output_type": "execute_result"
    }
   ],
   "source": [
    "df[df[\"track_album_release_year\"] == 2023]"
   ]
  },
  {
   "cell_type": "markdown",
   "metadata": {
    "id": "JpueOL7lo-Oj"
   },
   "source": [
    "##Popularity"
   ]
  },
  {
   "cell_type": "code",
   "execution_count": 75,
   "metadata": {
    "colab": {
     "base_uri": "https://localhost:8080/",
     "height": 743
    },
    "id": "YAVIJ16rpBQh",
    "outputId": "52e2ad48-2424-4e6b-e82a-7abc77a2a024"
   },
   "outputs": [
    {
     "data": {
      "text/plain": [
       "track_name\n",
       "I Wanna Be Yours            90.0\n",
       "Sweater Weather             90.0\n",
       "Cruel Summer                89.0\n",
       "The Night We Met            88.0\n",
       "Yellow                      88.0\n",
       "Flowers                     87.0\n",
       "When I Was Your Man         87.0\n",
       "Locked out of Heaven        87.0\n",
       "In the End                  87.0\n",
       "As It Was                   87.0\n",
       "Blinding Lights             87.0\n",
       "Starboy                     87.0\n",
       "Someone You Loved           86.0\n",
       "Something Just Like This    86.0\n",
       "Another Love                86.0\n",
       "Every Breath You Take       86.0\n",
       "goosebumps                  86.0\n",
       "That's What I Like          86.0\n",
       "lovely (with Khalid)        86.0\n",
       "Viva La Vida                86.0\n",
       "Name: track_popularity, dtype: float64"
      ]
     },
     "execution_count": 75,
     "metadata": {},
     "output_type": "execute_result"
    }
   ],
   "source": [
    "track_popularity = df.groupby(\"track_name\")[\"track_popularity\"].mean()\n",
    "track_popularity.sort_values(ascending=False).head(20)"
   ]
  },
  {
   "cell_type": "code",
   "execution_count": 76,
   "metadata": {
    "colab": {
     "base_uri": "https://localhost:8080/"
    },
    "id": "LKAxnQDFqwU8",
    "outputId": "db661800-47f5-420f-c1c6-78d1b35758f7"
   },
   "outputs": [
    {
     "name": "stdout",
     "output_type": "stream",
     "text": [
      "Average track popularity:  81.05\n",
      "Max track popularity:  90.0\n",
      "Min track popularity:  52.0\n"
     ]
    }
   ],
   "source": [
    "print(\"Average track popularity: \", round(track_popularity.mean(),2))\n",
    "#print(\"Median track popularity: \", track_popularity.median())\n",
    "print(\"Max track popularity: \", track_popularity.max())\n",
    "print(\"Min track popularity: \", track_popularity.min())"
   ]
  },
  {
   "cell_type": "markdown",
   "metadata": {
    "id": "T0FvVqvcTx_s"
   },
   "source": [
    "##Track Duration"
   ]
  },
  {
   "cell_type": "code",
   "execution_count": 79,
   "metadata": {
    "colab": {
     "base_uri": "https://localhost:8080/"
    },
    "id": "uaxxLcTZMydZ",
    "outputId": "bec47814-3579-4a46-d192-c8a03f0de3da"
   },
   "outputs": [
    {
     "name": "stdout",
     "output_type": "stream",
     "text": [
      "Average track duration:  3.71\n",
      "Max track duration:  5.92\n",
      "Min track duration:  1.99\n"
     ]
    }
   ],
   "source": [
    "print(\"Average track duration: \", round(df[\"duration_min\"].mean(),2))\n",
    "#print(\"Median track duration: \", df[\"duration_min\"].median())\n",
    "print(\"Max track duration: \", df[\"duration_min\"].max())\n",
    "print(\"Min track duration: \", df[\"duration_min\"].min())"
   ]
  },
  {
   "cell_type": "code",
   "execution_count": 32,
   "metadata": {
    "colab": {
     "base_uri": "https://localhost:8080/",
     "height": 564
    },
    "id": "4EMsK0EgUNyt",
    "outputId": "2a7a783b-2d3d-4a7f-c585-a22b90ce1b3d"
   },
   "outputs": [
    {
     "data": {
      "image/png": "[encoded data removed]",
      "text/plain": [
       "<Figure size 1000x600 with 1 Axes>"
      ]
     },
     "metadata": {},
     "output_type": "display_data"
    }
   ],
   "source": [
    "#histogram of duration of songs\n",
    "plt.figure(figsize=(10, 6))\n",
    "plt.hist(df['duration_min'], bins=30, color='#1f77b4')\n",
    "plt.xlabel('Duration (min)')\n",
    "plt.ylabel('Frequency')\n",
    "plt.title('Distribution of Song Durations')\n",
    "plt.show()"
   ]
  },
  {
   "cell_type": "markdown",
   "metadata": {
    "id": "igZP53pIVGIB"
   },
   "source": [
    "##Music & sonic Features"
   ]
  },
  {
   "cell_type": "code",
   "execution_count": 84,
   "metadata": {
    "colab": {
     "base_uri": "https://localhost:8080/"
    },
    "id": "39FQoRnhMJJ6",
    "outputId": "12e7acd0-5141-4c88-8ec5-b5fb7a24f8c0"
   },
   "outputs": [
    {
     "name": "stdout",
     "output_type": "stream",
     "text": [
      "Average track danceability:  63.81\n",
      "Max track danceability:  90.8\n",
      "Min track danceability:  35.1\n"
     ]
    }
   ],
   "source": [
    "#In comparison, Obama playlists' average danceability is 63.65% -- almost identical!\n",
    "print(\"Average track danceability: \", round(df[\"danceability\"].mean(),2))\n",
    "#print(\"Median Track danceability: \", round(df[\"danceability\"].median(),2))\n",
    "print(\"Max track danceability: \", round(df[\"danceability\"].max(),2))\n",
    "print(\"Min track danceability: \", round(df[\"danceability\"].min(),2))\n"
   ]
  },
  {
   "cell_type": "code",
   "execution_count": 85,
   "metadata": {
    "colab": {
     "base_uri": "https://localhost:8080/"
    },
    "id": "dryB7zZI1ot6",
    "outputId": "844ed5db-8008-4d2f-a226-e25abca44140"
   },
   "outputs": [
    {
     "name": "stdout",
     "output_type": "stream",
     "text": [
      "Average track energy:  62.74\n",
      "Max track energy:  92.2\n",
      "Min track energy:  26.4\n"
     ]
    }
   ],
   "source": [
    "#In comparison, Obama playlists' average energy is xxx.\n",
    "print(\"Average track energy: \", round(df[\"energy\"].mean(),2))\n",
    "#print(\"Median Track energy: \", round(df[\"energy\"].median(),2))\n",
    "print(\"Max track energy: \", round(df[\"energy\"].max(),2))\n",
    "print(\"Min track energy: \", round(df[\"energy\"].min(),2))"
   ]
  },
  {
   "cell_type": "code",
   "execution_count": 86,
   "metadata": {
    "colab": {
     "base_uri": "https://localhost:8080/"
    },
    "id": "3kfV8iQQMSpe",
    "outputId": "3ea7e467-dd67-4f3b-dc5d-ddeb93ea0810"
   },
   "outputs": [
    {
     "name": "stdout",
     "output_type": "stream",
     "text": [
      "Average track loudness:  -6.2\n",
      "Max track loudness:  -2.28\n",
      "Min track loudness:  -10.96\n"
     ]
    }
   ],
   "source": [
    "#In comparison, Obama playlists' average loudness is -8.2: here, the difference shows there are more \"non-commercial\" songs in Obama's playlists.\n",
    "print(\"Average track loudness: \", round(df[\"loudness\"].mean(),2))\n",
    "#print(\"Median Track loudness: \", round(df[\"loudness\"].median(),2))\n",
    "print(\"Max track loudness: \", round(df[\"loudness\"].max(),2))\n",
    "print(\"Min track loudness: \", round(df[\"loudness\"].min(),2))"
   ]
  },
  {
   "cell_type": "code",
   "execution_count": 87,
   "metadata": {
    "colab": {
     "base_uri": "https://localhost:8080/"
    },
    "id": "JCrs7T-XMYTc",
    "outputId": "78dac0aa-5f57-44c0-ed13-39d55834ec5d"
   },
   "outputs": [
    {
     "name": "stdout",
     "output_type": "stream",
     "text": [
      "Average track valence:  48.91\n",
      "Max track valence:  96.9\n",
      "Min track valence:  5.9\n"
     ]
    }
   ],
   "source": [
    "#In comparison, Obama playlists exhibits a slightly happier feeling, with an average valence of 55%.\n",
    "print(\"Average track valence: \", round(df[\"valence\"].mean(),2))\n",
    "#print(\"Median Track valence: \", round(df[\"valence\"].median(),2))\n",
    "print(\"Max track valence: \", round(df[\"valence\"].max(),2))\n",
    "print(\"Min track valence: \", round(df[\"valence\"].min(),2))"
   ]
  },
  {
   "cell_type": "code",
   "execution_count": 88,
   "metadata": {
    "colab": {
     "base_uri": "https://localhost:8080/"
    },
    "id": "1S94FhOlGSzT",
    "outputId": "04926d63-e8cc-48d6-d13c-a1815bb0df41"
   },
   "outputs": [
    {
     "name": "stdout",
     "output_type": "stream",
     "text": [
      "Average track liveness:  16.1\n",
      "Max track liveness:  77.6\n",
      "Min track liveness:  2.32\n"
     ]
    }
   ],
   "source": [
    "print(\"Average track liveness: \", round(df[\"liveness\"].mean(),2))\n",
    "#print(\"Median Track liveness: \", round(df[\"liveness\"].median(),2))\n",
    "print(\"Max track liveness: \", round(df[\"liveness\"].max(),2))\n",
    "print(\"Min track liveness: \", round(df[\"liveness\"].min(),2))"
   ]
  },
  {
   "cell_type": "code",
   "execution_count": 89,
   "metadata": {
    "colab": {
     "base_uri": "https://localhost:8080/"
    },
    "id": "JuH28GAxGVLP",
    "outputId": "ab574cca-c840-4a1c-a66c-d4ca5eec29e5"
   },
   "outputs": [
    {
     "name": "stdout",
     "output_type": "stream",
     "text": [
      "Average track speechiness:  8.59\n",
      "Max track speechiness:  43.8\n",
      "Min track speechiness:  2.32\n"
     ]
    }
   ],
   "source": [
    "print(\"Average track speechiness: \", round(df[\"speechiness\"].mean(),2))\n",
    "#print(\"Median Track speechiness: \", round(df[\"speechiness\"].median(),2))\n",
    "print(\"Max track speechiness: \", round(df[\"speechiness\"].max(),2))\n",
    "print(\"Min track speechiness: \", round(df[\"speechiness\"].min(),2))"
   ]
  },
  {
   "cell_type": "code",
   "execution_count": 91,
   "metadata": {
    "colab": {
     "base_uri": "https://localhost:8080/",
     "height": 178
    },
    "id": "003GD_BdMcMu",
    "outputId": "fefcb1fa-c9b1-47d6-f29a-30a194821a7b"
   },
   "outputs": [
    {
     "name": "stdout",
     "output_type": "stream",
     "text": [
      "Time Signature\n",
      "4    98\n",
      "3     2\n",
      "Name: count, dtype: int64\n"
     ]
    }
   ],
   "source": [
    "#An overwhelming maority of 4/4 songs, which is to be expected with most streamed songs!\n",
    "print(df[\"Time Signature\"].value_counts())"
   ]
  },
  {
   "cell_type": "code",
   "execution_count": 98,
   "metadata": {
    "colab": {
     "base_uri": "https://localhost:8080/",
     "height": 178
    },
    "id": "lbqH79qsMlKJ",
    "outputId": "148898b1-ab2a-4a85-f147-f8ae642670d9"
   },
   "outputs": [
    {
     "data": {
      "text/plain": [
       "mode\n",
       "Major    65\n",
       "Minor    35\n",
       "Name: count, dtype: int64"
      ]
     },
     "execution_count": 98,
     "metadata": {},
     "output_type": "execute_result"
    }
   ],
   "source": [
    "df[\"mode\"].value_counts()"
   ]
  },
  {
   "cell_type": "code",
   "execution_count": 100,
   "metadata": {
    "colab": {
     "base_uri": "https://localhost:8080/",
     "height": 672
    },
    "id": "3Wx6OBVuVZsw",
    "outputId": "35be2ecd-d24b-4e3c-898b-dfa4480ac399"
   },
   "outputs": [
    {
     "data": {
      "image/png": "[encoded data removed]",
      "text/plain": [
       "<Figure size 2000x2000 with 9 Axes>"
      ]
     },
     "metadata": {},
     "output_type": "display_data"
    }
   ],
   "source": [
    "plt.figure(figsize=(20,20))\n",
    "\n",
    "for i,category in enumerate(['danceability', 'energy', 'loudness', 'speechiness', 'instrumentalness', 'acousticness', 'liveness', 'valence', 'tempo']):\n",
    "    plt.subplot(3, 3, i+1)\n",
    "    plt.hist(df[category], bins=30)\n",
    "    plt.text(plt.xlim()[1] - (plt.xlim()[1] - plt.xlim()[0])*0.3,\n",
    "                plt.ylim()[1]*0.9, r'$\\mu=$'+str(df[category].mean())[:7], fontsize=12)\n",
    "    plt.xlabel('Value')\n",
    "    plt.ylabel('Num Tracks')\n",
    "    plt.title(category)\n",
    "\n",
    "plt.tight_layout(h_pad=2)"
   ]
  },
  {
   "cell_type": "code",
   "execution_count": 101,
   "metadata": {
    "colab": {
     "base_uri": "https://localhost:8080/",
     "height": 188
    },
    "id": "6aYx1areXcrm",
    "outputId": "37c6f392-a606-4cc8-8f35-3fb42d493245"
   },
   "outputs": [
    {
     "data": {
      "image/png": "[encoded data removed]",
      "text/plain": [
       "<Figure size 1500x400 with 3 Axes>"
      ]
     },
     "metadata": {},
     "output_type": "display_data"
    }
   ],
   "source": [
    "plt.figure(figsize=(15, 4))\n",
    "\n",
    "plt.subplot(1, 3, 1)\n",
    "sns.countplot(df, x='Time Signature', hue='Time Signature', legend=False)\n",
    "plt.xlabel('Beats per measure')\n",
    "plt.ylabel('Num Tracks')\n",
    "plt.title('Time Signature')\n",
    "\n",
    "plt.subplot(1, 3, 2)\n",
    "sns.countplot(df, x='key_name', hue='key_name', palette='flare', legend=False)\n",
    "plt.xticks(ticks=plt.xticks()[0], labels=['C', 'C#', 'D', 'D#', 'E', 'F', 'F#', 'G', 'G#', 'A', 'A#', 'B'])\n",
    "plt.ylabel('Num Tracks')\n",
    "plt.title('key_name')\n",
    "\n",
    "plt.subplot(1, 3, 3)\n",
    "sns.countplot(df, x='mode', hue='mode', legend=False)\n",
    "plt.xticks(ticks=plt.xticks()[0], labels=['Major', 'minor'])\n",
    "plt.ylabel('Num Tracks')\n",
    "plt.title('Major vs Minor Key')\n",
    "\n",
    "plt.tight_layout(w_pad=2)\n",
    "plt.show()"
   ]
  }
 ],
 "metadata": {
  "colab": {
   "provenance": []
  },
  "kernelspec": {
   "display_name": "Python 3",
   "name": "python3"
  },
  "language_info": {
   "codemirror_mode": {
    "name": "ipython",
    "version": 3
   },
   "file_extension": ".py",
   "mimetype": "text/x-python",
   "name": "python",
   "nbconvert_exporter": "python",
   "pygments_lexer": "ipython3",
   "version": "3.13.0"
  }
 },
 "nbformat": 4,
 "nbformat_minor": 0
}
