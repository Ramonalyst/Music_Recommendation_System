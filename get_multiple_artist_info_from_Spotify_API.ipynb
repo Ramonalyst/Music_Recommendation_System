{
 "cells": [
  {
   "cell_type": "code",
   "execution_count": 1,
   "metadata": {
    "id": "ordpd-564eYz"
   },
   "outputs": [],
   "source": [
    "import pandas as pd\n",
    "import numpy as np\n",
    "import requests\n",
    "import time"
   ]
  },
  {
   "cell_type": "code",
   "execution_count": null,
   "metadata": {},
   "outputs": [],
   "source": [
    "pip install pandas-gbq"
   ]
  },
  {
   "cell_type": "markdown",
   "metadata": {
    "id": "FY6_VmLaHp5z"
   },
   "source": [
    "## Connect to BQ\n"
   ]
  },
  {
   "cell_type": "code",
   "execution_count": 6,
   "metadata": {},
   "outputs": [],
   "source": [
    "from google.oauth2 import service_account\n",
    "from google.cloud import bigquery\n"
   ]
  },
  {
   "cell_type": "code",
   "execution_count": 7,
   "metadata": {
    "colab": {
     "base_uri": "https://localhost:8080/",
     "height": 357
    },
    "id": "xdWOluKnXQDL",
    "outputId": "52e4c50a-031a-44be-85ac-ce6010716d22"
   },
   "outputs": [],
   "source": [
    "credentials = service_account.Credentials.from_service_account_file(\n",
    "'d:/Users/Ramona/Desktop/music-recommendation-system-24-3d0d21fb1f8b.json')\n",
    "# music-recommendation-system-24-3d0d21fb1f8b.json is the service account JSON file. Save the file locally on your device and add the path here.\n",
    "# make sure that the slashes in the path are '/' and not '\\'\n",
    "\n",
    "project_id = 'music-recommendation-system-24'\n",
    "client = bigquery.Client(credentials= credentials,project=project_id)"
   ]
  },
  {
   "cell_type": "markdown",
   "metadata": {
    "id": "b32mVJEtnCjF"
   },
   "source": [
    "##Query BQ"
   ]
  },
  {
   "cell_type": "code",
   "execution_count": null,
   "metadata": {
    "id": "BIXUg7k-mlay"
   },
   "outputs": [],
   "source": [
    "query_job = client.query(\"\"\"\n",
    "   SELECT\n",
    "      *\n",
    "   FROM `music-recommendation-system-24.obama_playlists.barack_obamas_playlist_2019-2024_clean_enriched_csv`\n",
    "   \"\"\")\n",
    "#put the query in three quote marks\n",
    "\n",
    "results = query_job.result() # Wait for the job to complete.\n",
    "\n",
    "rows = [dict(row) for row in results]\n",
    "\n",
    "# Convert the list of dictionaries to a DataFrame\n",
    "df_bq = pd.DataFrame(rows)"
   ]
  },
  {
   "cell_type": "markdown",
   "metadata": {
    "id": "n8wLhNfKm1P8"
   },
   "source": [
    "##Getting the Access Token using Client_id and Client_secret"
   ]
  },
  {
   "cell_type": "code",
   "execution_count": 23,
   "metadata": {
    "id": "rFmC1HfY553j"
   },
   "outputs": [],
   "source": [
    "import requests\n",
    "import base64\n",
    "\n",
    "# Replace with your own client ID and client secret\n",
    "CLIENT_ID = 'fffcb85f26d44129b1b51ec8edc4e0e0'\n",
    "CLIENT_SECRET = '045459b5bf14446aa76c737eb617dd4f'\n",
    "\n",
    "def get_access_token(client_id, client_secret):\n",
    "    # Base64 encode client_id and client_secret\n",
    "    auth_str = f\"{client_id}:{client_secret}\"\n",
    "    b64_auth_str = base64.b64encode(auth_str.encode()).decode()\n",
    "\n",
    "    # Define the token endpoint and headers\n",
    "    url = \"https://accounts.spotify.com/api/token\"\n",
    "    headers = {\n",
    "        \"Authorization\": f\"Basic {b64_auth_str}\"\n",
    "    }\n",
    "    data = {\n",
    "        \"grant_type\": \"client_credentials\"\n",
    "    }\n",
    "\n",
    "    # Make the request to get the token\n",
    "    response = requests.post(url, headers=headers, data=data)\n",
    "    if response.status_code == 200:\n",
    "        token = response.json().get('access_token')\n",
    "        return token\n",
    "    else:\n",
    "        raise Exception(\"Could not get access token\")"
   ]
  },
  {
   "cell_type": "code",
   "execution_count": 24,
   "metadata": {
    "id": "HRUjoE1N9Otn"
   },
   "outputs": [],
   "source": [
    "# Call the function to get the access token\n",
    "\n",
    "token = get_access_token(CLIENT_ID, CLIENT_SECRET)"
   ]
  },
  {
   "cell_type": "markdown",
   "metadata": {
    "id": "dvv-mUf2MkTL"
   },
   "source": [
    "# Attempt to get all artists' info and store them as lists instead of a value"
   ]
  },
  {
   "cell_type": "code",
   "execution_count": null,
   "metadata": {
    "colab": {
     "base_uri": "https://localhost:8080/",
     "height": 211
    },
    "collapsed": true,
    "id": "5NFYPEGxMvWO",
    "outputId": "9866f72d-107a-413a-b732-e9705aa9522d"
   },
   "outputs": [],
   "source": [
    "# Create a dictionary to store data. Later on will be converted to a Data Frame\n",
    "\n",
    "d = {\n",
    "    'track_id' : [],\n",
    "    'artist_id' : [],\n",
    "    'artist_name' : [],\n",
    "    'artist_followers' : [],\n",
    "    'artist_popularity' : []\n",
    "}\n",
    "\n",
    "# Define the batch size\n",
    "batch_size = 25\n",
    "\n",
    "# Iterate over 'track_id' values in batches\n",
    "for start in range(0, len(df_bq['track_id']), batch_size):\n",
    "    track_ids_batch = df_bq['track_id'][start:start + batch_size]\n",
    "\n",
    "    # Iterate over each track_id in the current batch\n",
    "    for id in track_ids_batch:\n",
    "\n",
    "        # Add track_id to dictionary\n",
    "        d['track_id'].append(id)\n",
    "\n",
    "        # use the track id to make an API call to get the artist id\n",
    "        endpoint = f\"https://api.spotify.com/v1/tracks/{id}\"\n",
    "\n",
    "        while True:\n",
    "            response = requests.get(endpoint, headers={'Authorization': f\"Bearer {token}\"})\n",
    "\n",
    "            # If we hit the rate limit, wait for the specified time and retry\n",
    "            if response.status_code != 200:\n",
    "                retry_after = int(response.headers.get('Retry-After', 30))  # Default to 30 seconds if not provided\n",
    "                print(f\"Rate limit hit. Retrying after {retry_after} seconds...\")\n",
    "                time.sleep(retry_after)\n",
    "                continue  # Retry the request\n",
    "\n",
    "            elif response.status_code == 200:\n",
    "                track_response = response.json()\n",
    "                break  # Exit the loop if the request is successful\n",
    "            else:\n",
    "                print(f\"Error: {response.status_code} - {response.text}\")\n",
    "                break  # Exit loop on any other error\n",
    "\n",
    "    # creating lists to store in the info of multiple artists\n",
    "\n",
    "    art_names = []\n",
    "    art_followers = []\n",
    "    art_ids = []\n",
    "    art_popularities = []\n",
    "\n",
    "    # get a list of all artists' ids\n",
    "\n",
    "    for artist in track_response['artists'] :\n",
    "\n",
    "      art_ids.append(artist['id'])\n",
    "\n",
    "    # You should iterate over all elements of the list that contains all artists_ids and make an API call for each of them\n",
    "    # artist endpoint to get artist's info\n",
    "\n",
    "    for artist_id in art_ids:\n",
    "        artist_endpoint = f\"https://api.spotify.com/v1/artists/{artist_id}\"\n",
    "\n",
    "        while True:\n",
    "            artist_response = requests.get(artist_endpoint, headers={'Authorization': f\"Bearer {token}\"})\n",
    "\n",
    "            # Check for rate limit and wait if needed\n",
    "            if artist_response.status_code != 200:\n",
    "                retry_after = int(artist_response.headers.get('Retry-After', 30))\n",
    "                print(f\"Rate limit hit. Retrying after {retry_after} seconds...\")\n",
    "                time.sleep(retry_after)\n",
    "                continue  # Retry the request\n",
    "\n",
    "            elif artist_response.status_code == 200:\n",
    "                artist_data = artist_response.json()\n",
    "                break  # Exit the loop if the request is successful\n",
    "            else:\n",
    "                print(f\"Error: {artist_response.status_code} - {artist_response.text}\")\n",
    "                break  # Exit loop on any other error\n",
    "\n",
    "        # Extract and store artist data\n",
    "        art_names.append(artist_data['name'])\n",
    "        art_followers.append(artist_data['followers']['total'])\n",
    "        art_popularities.append(artist_data['popularity'])\n",
    "\n",
    "    # Append data to the dictionary\n",
    "    d['artist_name'].append(art_names)\n",
    "    d['artist_followers'].append(art_followers)\n",
    "    d['artist_popularity'].append(art_popularities)\n",
    "    d['artist_id'].append(art_ids)\n",
    "\n"
   ]
  },
  {
   "cell_type": "code",
   "execution_count": null,
   "metadata": {
    "id": "piIPrBDKsGur"
   },
   "outputs": [],
   "source": [
    "pd.DataFrame(d)"
   ]
  },
  {
   "cell_type": "code",
   "execution_count": null,
   "metadata": {
    "id": "TH9gdBi2F_dq"
   },
   "outputs": [],
   "source": [
    "df_artists = pd.DataFrame(d)\n",
    "df_artists.info()"
   ]
  },
  {
   "cell_type": "code",
   "execution_count": 18,
   "metadata": {
    "id": "uQnwB6v5HZSh"
   },
   "outputs": [],
   "source": [
    "#merge df_obama_21 with df_artists\n",
    "df_bq = pd.merge(df_bq, df_artists, on='track_id')"
   ]
  },
  {
   "cell_type": "code",
   "execution_count": null,
   "metadata": {
    "id": "f0PEjqOjHo9s"
   },
   "outputs": [],
   "source": [
    "#save merged to gbq\n",
    "# Define your project ID and BigQuery table ID (including dataset name)\n",
    "project_id = 'music-recommendation-system-24'\n",
    "table_id = 'obama_playlists.barack_obamas_playlist_2019-2024_artist_enriched_v1'  # Replace 'your_dataset_name' with your actual dataset name\n",
    "\n",
    "# Load the credentials from your service account file\n",
    "credentials = service_account.Credentials.from_service_account_file(\n",
    "    'd:/Users/Ramona/Desktop/music-recommendation-system-24-3d0d21fb1f8b.json'\n",
    ")\n",
    "\n",
    "# Save DataFrame to BigQuery\n",
    "df_bq.to_gbq(\n",
    "    destination_table=table_id,\n",
    "    project_id=project_id,\n",
    "    credentials=credentials,\n",
    "    if_exists='replace'  # Use 'append' to add data if the table already exists\n",
    ")\n",
    "\n",
    "print(\"DataFrame saved to BigQuery table 'barack_obamas_playlist_2019-2024_artist_enriched_v1'.\")"
   ]
  }
 ],
 "metadata": {
  "colab": {
   "provenance": []
  },
  "kernelspec": {
   "display_name": "Python 3",
   "name": "python3"
  },
  "language_info": {
   "codemirror_mode": {
    "name": "ipython",
    "version": 3
   },
   "file_extension": ".py",
   "mimetype": "text/x-python",
   "name": "python",
   "nbconvert_exporter": "python",
   "pygments_lexer": "ipython3",
   "version": "3.11.7"
  }
 },
 "nbformat": 4,
 "nbformat_minor": 0
}
