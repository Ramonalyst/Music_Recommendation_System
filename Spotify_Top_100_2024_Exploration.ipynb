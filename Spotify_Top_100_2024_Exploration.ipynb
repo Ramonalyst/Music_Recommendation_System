{
 "cells": [
  {
   "cell_type": "markdown",
   "metadata": {
    "id": "waHsB5RZqs0L"
   },
   "source": [
    "# Loading the data"
   ]
  },
  {
   "cell_type": "code",
   "execution_count": 1,
   "metadata": {},
   "outputs": [],
   "source": [
    "import pandas as pd\n",
    "import plotly.express as px\n",
    "from plotly.subplots import make_subplots\n",
    "import matplotlib.pyplot as plt\n",
    "import numpy as np\n",
    "import seaborn as sns"
   ]
  },
  {
   "cell_type": "code",
   "execution_count": 2,
   "metadata": {},
   "outputs": [],
   "source": [
    "\n",
    "from google.cloud import bigquery     # If you are working locally, make sure you have Google Cloud library installed\n",
    "import pandas as pd\n",
    "from google.oauth2 import service_account\n",
    "\n",
    "\n",
    "import pyarrow.parquet as pq"
   ]
  },
  {
   "cell_type": "code",
   "execution_count": 3,
   "metadata": {
    "id": "epP_jTQ6toQx"
   },
   "outputs": [],
   "source": [
    "\n",
    "# Connect to BQ\n",
    "\n",
    "\n",
    "credentials = service_account.Credentials.from_service_account_file(\n",
    "'/Users/mariegeorgescudehillerin/Desktop/Le Wagon/Project/music-recommendation-system-24-e7b0bc87bbb3.json')\n",
    "# music-recommendation-system-24-3d0d21fb1f8b.json is the service account JSON file. Save the file locally on your device and add the path here.\n",
    "# make sure that the slashes in the path are '/' and not '\\'\n",
    "\n",
    "\n",
    "project_id = 'music-recommendation-system-24'\n",
    "client = bigquery.Client(credentials= credentials,project=project_id)"
   ]
  },
  {
   "cell_type": "code",
   "execution_count": 4,
   "metadata": {
    "id": "n_1IsNjLcTmo"
   },
   "outputs": [],
   "source": [
    "# Query BQ\n",
    "\n",
    "\n",
    "query_job = client.query(\"\"\"\n",
    "  SELECT\n",
    "     *\n",
    "  FROM `music-recommendation-system-24.top_100.2024_spotify_top_100_artist_enriched`\n",
    "  LIMIT 1000\"\"\")\n",
    "#but the query in three quote marks\n",
    "\n",
    "\n",
    "\n",
    "\n",
    "results = query_job.result() # Wait for the job to complete.\n",
    "\n",
    "\n",
    "rows = [dict(row) for row in results]\n",
    "\n",
    "\n",
    "# Convert the list of dictionaries to a DataFrame\n",
    "df = pd.DataFrame(rows)"
   ]
  },
  {
   "cell_type": "markdown",
   "metadata": {
    "id": "v0XCv4gYtqpn"
   },
   "source": [
    "#Data Exploration"
   ]
  },
  {
   "cell_type": "code",
   "execution_count": 5,
   "metadata": {
    "colab": {
     "base_uri": "https://localhost:8080/"
    },
    "id": "XY_hQd2F0j_D",
    "outputId": "f2b85597-8e32-43fb-87c8-96ab58dc0baf"
   },
   "outputs": [
    {
     "data": {
      "text/plain": [
       "(100, 26)"
      ]
     },
     "execution_count": 5,
     "metadata": {},
     "output_type": "execute_result"
    }
   ],
   "source": [
    "df.shape"
   ]
  },
  {
   "cell_type": "code",
   "execution_count": 6,
   "metadata": {
    "colab": {
     "base_uri": "https://localhost:8080/",
     "height": 708
    },
    "id": "_Er42d71m4zY",
    "outputId": "ab29936a-06ea-4e6f-8c0d-ea5e18ec6050"
   },
   "outputs": [
    {
     "data": {
      "text/html": [
       "<div>\n",
       "<style scoped>\n",
       "    .dataframe tbody tr th:only-of-type {\n",
       "        vertical-align: middle;\n",
       "    }\n",
       "\n",
       "    .dataframe tbody tr th {\n",
       "        vertical-align: top;\n",
       "    }\n",
       "\n",
       "    .dataframe thead th {\n",
       "        text-align: right;\n",
       "    }\n",
       "</style>\n",
       "<table border=\"1\" class=\"dataframe\">\n",
       "  <thead>\n",
       "    <tr style=\"text-align: right;\">\n",
       "      <th></th>\n",
       "      <th>Column Names</th>\n",
       "    </tr>\n",
       "  </thead>\n",
       "  <tbody>\n",
       "    <tr>\n",
       "      <th>0</th>\n",
       "      <td>track_id</td>\n",
       "    </tr>\n",
       "    <tr>\n",
       "      <th>1</th>\n",
       "      <td>track_name</td>\n",
       "    </tr>\n",
       "    <tr>\n",
       "      <th>2</th>\n",
       "      <td>track_artist</td>\n",
       "    </tr>\n",
       "    <tr>\n",
       "      <th>3</th>\n",
       "      <td>track_popularity</td>\n",
       "    </tr>\n",
       "    <tr>\n",
       "      <th>4</th>\n",
       "      <td>track_album_name</td>\n",
       "    </tr>\n",
       "    <tr>\n",
       "      <th>5</th>\n",
       "      <td>track_album_release_year</td>\n",
       "    </tr>\n",
       "    <tr>\n",
       "      <th>6</th>\n",
       "      <td>duration_min</td>\n",
       "    </tr>\n",
       "    <tr>\n",
       "      <th>7</th>\n",
       "      <td>genres</td>\n",
       "    </tr>\n",
       "    <tr>\n",
       "      <th>8</th>\n",
       "      <td>record_label</td>\n",
       "    </tr>\n",
       "    <tr>\n",
       "      <th>9</th>\n",
       "      <td>danceability</td>\n",
       "    </tr>\n",
       "    <tr>\n",
       "      <th>10</th>\n",
       "      <td>energy</td>\n",
       "    </tr>\n",
       "    <tr>\n",
       "      <th>11</th>\n",
       "      <td>key_name</td>\n",
       "    </tr>\n",
       "    <tr>\n",
       "      <th>12</th>\n",
       "      <td>loudness</td>\n",
       "    </tr>\n",
       "    <tr>\n",
       "      <th>13</th>\n",
       "      <td>mode</td>\n",
       "    </tr>\n",
       "    <tr>\n",
       "      <th>14</th>\n",
       "      <td>speechiness</td>\n",
       "    </tr>\n",
       "    <tr>\n",
       "      <th>15</th>\n",
       "      <td>acousticness</td>\n",
       "    </tr>\n",
       "    <tr>\n",
       "      <th>16</th>\n",
       "      <td>instrumentalness</td>\n",
       "    </tr>\n",
       "    <tr>\n",
       "      <th>17</th>\n",
       "      <td>liveness</td>\n",
       "    </tr>\n",
       "    <tr>\n",
       "      <th>18</th>\n",
       "      <td>valence</td>\n",
       "    </tr>\n",
       "    <tr>\n",
       "      <th>19</th>\n",
       "      <td>tempo</td>\n",
       "    </tr>\n",
       "    <tr>\n",
       "      <th>20</th>\n",
       "      <td>time_signature</td>\n",
       "    </tr>\n",
       "    <tr>\n",
       "      <th>21</th>\n",
       "      <td>track_id_1</td>\n",
       "    </tr>\n",
       "    <tr>\n",
       "      <th>22</th>\n",
       "      <td>artist_id</td>\n",
       "    </tr>\n",
       "    <tr>\n",
       "      <th>23</th>\n",
       "      <td>artist_name</td>\n",
       "    </tr>\n",
       "    <tr>\n",
       "      <th>24</th>\n",
       "      <td>artist_followers</td>\n",
       "    </tr>\n",
       "    <tr>\n",
       "      <th>25</th>\n",
       "      <td>artist_popularity</td>\n",
       "    </tr>\n",
       "  </tbody>\n",
       "</table>\n",
       "</div>"
      ],
      "text/plain": [
       "                Column Names\n",
       "0                   track_id\n",
       "1                 track_name\n",
       "2               track_artist\n",
       "3           track_popularity\n",
       "4           track_album_name\n",
       "5   track_album_release_year\n",
       "6               duration_min\n",
       "7                     genres\n",
       "8               record_label\n",
       "9               danceability\n",
       "10                    energy\n",
       "11                  key_name\n",
       "12                  loudness\n",
       "13                      mode\n",
       "14               speechiness\n",
       "15              acousticness\n",
       "16          instrumentalness\n",
       "17                  liveness\n",
       "18                   valence\n",
       "19                     tempo\n",
       "20            time_signature\n",
       "21                track_id_1\n",
       "22                 artist_id\n",
       "23               artist_name\n",
       "24          artist_followers\n",
       "25         artist_popularity"
      ]
     },
     "execution_count": 6,
     "metadata": {},
     "output_type": "execute_result"
    }
   ],
   "source": [
    "pd.DataFrame(df.columns, columns=[\"Column Names\"])"
   ]
  },
  {
   "cell_type": "code",
   "execution_count": 7,
   "metadata": {
    "colab": {
     "base_uri": "https://localhost:8080/"
    },
    "id": "ghwD-XvbICPh",
    "outputId": "6f8008de-8b33-4746-d4b7-5612c70fc01a"
   },
   "outputs": [
    {
     "name": "stdout",
     "output_type": "stream",
     "text": [
      "<class 'pandas.core.frame.DataFrame'>\n",
      "RangeIndex: 100 entries, 0 to 99\n",
      "Data columns (total 26 columns):\n",
      " #   Column                    Non-Null Count  Dtype  \n",
      "---  ------                    --------------  -----  \n",
      " 0   track_id                  100 non-null    object \n",
      " 1   track_name                100 non-null    object \n",
      " 2   track_artist              100 non-null    object \n",
      " 3   track_popularity          100 non-null    int64  \n",
      " 4   track_album_name          100 non-null    object \n",
      " 5   track_album_release_year  100 non-null    int64  \n",
      " 6   duration_min              100 non-null    float64\n",
      " 7   genres                    100 non-null    object \n",
      " 8   record_label              100 non-null    object \n",
      " 9   danceability              100 non-null    float64\n",
      " 10  energy                    100 non-null    float64\n",
      " 11  key_name                  100 non-null    object \n",
      " 12  loudness                  100 non-null    float64\n",
      " 13  mode                      100 non-null    object \n",
      " 14  speechiness               100 non-null    float64\n",
      " 15  acousticness              100 non-null    float64\n",
      " 16  instrumentalness          100 non-null    float64\n",
      " 17  liveness                  100 non-null    float64\n",
      " 18  valence                   100 non-null    float64\n",
      " 19  tempo                     100 non-null    int64  \n",
      " 20  time_signature            100 non-null    int64  \n",
      " 21  track_id_1                100 non-null    object \n",
      " 22  artist_id                 100 non-null    object \n",
      " 23  artist_name               100 non-null    object \n",
      " 24  artist_followers          100 non-null    object \n",
      " 25  artist_popularity         100 non-null    object \n",
      "dtypes: float64(9), int64(4), object(13)\n",
      "memory usage: 20.4+ KB\n"
     ]
    }
   ],
   "source": [
    "df.info()"
   ]
  },
  {
   "cell_type": "code",
   "execution_count": 8,
   "metadata": {
    "colab": {
     "base_uri": "https://localhost:8080/",
     "height": 377
    },
    "id": "Eh6dnVKS0yCN",
    "outputId": "85eafb4a-5a1a-4ff8-b95d-9cc3af7aa98f"
   },
   "outputs": [
    {
     "data": {
      "text/html": [
       "<div>\n",
       "<style scoped>\n",
       "    .dataframe tbody tr th:only-of-type {\n",
       "        vertical-align: middle;\n",
       "    }\n",
       "\n",
       "    .dataframe tbody tr th {\n",
       "        vertical-align: top;\n",
       "    }\n",
       "\n",
       "    .dataframe thead th {\n",
       "        text-align: right;\n",
       "    }\n",
       "</style>\n",
       "<table border=\"1\" class=\"dataframe\">\n",
       "  <thead>\n",
       "    <tr style=\"text-align: right;\">\n",
       "      <th></th>\n",
       "      <th>track_id</th>\n",
       "      <th>track_name</th>\n",
       "      <th>track_artist</th>\n",
       "      <th>track_popularity</th>\n",
       "      <th>track_album_name</th>\n",
       "      <th>track_album_release_year</th>\n",
       "      <th>duration_min</th>\n",
       "      <th>genres</th>\n",
       "      <th>record_label</th>\n",
       "      <th>danceability</th>\n",
       "      <th>...</th>\n",
       "      <th>instrumentalness</th>\n",
       "      <th>liveness</th>\n",
       "      <th>valence</th>\n",
       "      <th>tempo</th>\n",
       "      <th>time_signature</th>\n",
       "      <th>track_id_1</th>\n",
       "      <th>artist_id</th>\n",
       "      <th>artist_name</th>\n",
       "      <th>artist_followers</th>\n",
       "      <th>artist_popularity</th>\n",
       "    </tr>\n",
       "  </thead>\n",
       "  <tbody>\n",
       "    <tr>\n",
       "      <th>0</th>\n",
       "      <td>0nrRP2bk19rLc0orkWPQk2</td>\n",
       "      <td>Wake Me Up</td>\n",
       "      <td>Avicii</td>\n",
       "      <td>83</td>\n",
       "      <td>TRUE</td>\n",
       "      <td>2013</td>\n",
       "      <td>4.12</td>\n",
       "      <td>EDM</td>\n",
       "      <td>Universal Music AB</td>\n",
       "      <td>53.2</td>\n",
       "      <td>...</td>\n",
       "      <td>0.12</td>\n",
       "      <td>16.10</td>\n",
       "      <td>64.3</td>\n",
       "      <td>124</td>\n",
       "      <td>4</td>\n",
       "      <td>0nrRP2bk19rLc0orkWPQk2</td>\n",
       "      <td>[1vCWHaC5f2uS3yhpwWbIA6]</td>\n",
       "      <td>[Avicii]</td>\n",
       "      <td>[23107521]</td>\n",
       "      <td>[81]</td>\n",
       "    </tr>\n",
       "    <tr>\n",
       "      <th>1</th>\n",
       "      <td>0lYBSQXN6rCTvUZvg9S0lU</td>\n",
       "      <td>Let Me Love You</td>\n",
       "      <td>DJ Snake,Justin Bieber</td>\n",
       "      <td>83</td>\n",
       "      <td>Encore</td>\n",
       "      <td>2016</td>\n",
       "      <td>3.43</td>\n",
       "      <td>EDM</td>\n",
       "      <td>DJ Snake Def Jam</td>\n",
       "      <td>47.5</td>\n",
       "      <td>...</td>\n",
       "      <td>0.00</td>\n",
       "      <td>13.50</td>\n",
       "      <td>15.9</td>\n",
       "      <td>200</td>\n",
       "      <td>4</td>\n",
       "      <td>0lYBSQXN6rCTvUZvg9S0lU</td>\n",
       "      <td>[540vIaP2JwjQb9dm3aArA4, 1uNFoZAHBGtllmzznpCI3s]</td>\n",
       "      <td>[DJ Snake, Justin Bieber]</td>\n",
       "      <td>[8910877, 78641625]</td>\n",
       "      <td>[79, 91]</td>\n",
       "    </tr>\n",
       "    <tr>\n",
       "      <th>2</th>\n",
       "      <td>7BqHUALzNBTanL6OvsqmC1</td>\n",
       "      <td>Happier</td>\n",
       "      <td>Marshmello,Bastille</td>\n",
       "      <td>82</td>\n",
       "      <td>Happier</td>\n",
       "      <td>2018</td>\n",
       "      <td>3.57</td>\n",
       "      <td>EDM</td>\n",
       "      <td>Joytime Collective</td>\n",
       "      <td>68.7</td>\n",
       "      <td>...</td>\n",
       "      <td>0.00</td>\n",
       "      <td>16.70</td>\n",
       "      <td>67.1</td>\n",
       "      <td>100</td>\n",
       "      <td>4</td>\n",
       "      <td>7BqHUALzNBTanL6OvsqmC1</td>\n",
       "      <td>[64KEffDW9EtZ1y2vBYgq8T, 7EQ0qTo7fWT7DPxmxtSYEc]</td>\n",
       "      <td>[Marshmello, Bastille]</td>\n",
       "      <td>[33882258, 5582338]</td>\n",
       "      <td>[84, 76]</td>\n",
       "    </tr>\n",
       "    <tr>\n",
       "      <th>3</th>\n",
       "      <td>2YWjW3wwQIBLNhxWKBQd16</td>\n",
       "      <td>Lean On (feat. MØ &amp; DJ Snake)</td>\n",
       "      <td>Major Lazer,MØ,DJ Snake</td>\n",
       "      <td>77</td>\n",
       "      <td>Peace Is The Mission : Extended</td>\n",
       "      <td>2015</td>\n",
       "      <td>2.94</td>\n",
       "      <td>EDM</td>\n",
       "      <td>Third Pardee Records</td>\n",
       "      <td>72.3</td>\n",
       "      <td>...</td>\n",
       "      <td>0.12</td>\n",
       "      <td>56.50</td>\n",
       "      <td>27.4</td>\n",
       "      <td>98</td>\n",
       "      <td>4</td>\n",
       "      <td>2YWjW3wwQIBLNhxWKBQd16</td>\n",
       "      <td>[738wLrAtLtCtFOLvQBXOXp, 0bdfiayQAKewqEvaU6rXC...</td>\n",
       "      <td>[Major Lazer, MØ, DJ Snake]</td>\n",
       "      <td>[6206097, 1458940, 8910877]</td>\n",
       "      <td>[77, 72, 79]</td>\n",
       "    </tr>\n",
       "    <tr>\n",
       "      <th>4</th>\n",
       "      <td>4cktbXiXOapiLBMprHFErI</td>\n",
       "      <td>Memories</td>\n",
       "      <td>Maroon 5</td>\n",
       "      <td>81</td>\n",
       "      <td>JORDI (Deluxe)</td>\n",
       "      <td>2021</td>\n",
       "      <td>3.16</td>\n",
       "      <td>Pop</td>\n",
       "      <td>Interscope Records*</td>\n",
       "      <td>77.5</td>\n",
       "      <td>...</td>\n",
       "      <td>0.00</td>\n",
       "      <td>8.21</td>\n",
       "      <td>59.5</td>\n",
       "      <td>91</td>\n",
       "      <td>4</td>\n",
       "      <td>4cktbXiXOapiLBMprHFErI</td>\n",
       "      <td>[04gDigrS5kc9YWfZHwBETP]</td>\n",
       "      <td>[Maroon 5]</td>\n",
       "      <td>[43145812]</td>\n",
       "      <td>[87]</td>\n",
       "    </tr>\n",
       "  </tbody>\n",
       "</table>\n",
       "<p>5 rows × 26 columns</p>\n",
       "</div>"
      ],
      "text/plain": [
       "                 track_id                     track_name  \\\n",
       "0  0nrRP2bk19rLc0orkWPQk2                     Wake Me Up   \n",
       "1  0lYBSQXN6rCTvUZvg9S0lU                Let Me Love You   \n",
       "2  7BqHUALzNBTanL6OvsqmC1                        Happier   \n",
       "3  2YWjW3wwQIBLNhxWKBQd16  Lean On (feat. MØ & DJ Snake)   \n",
       "4  4cktbXiXOapiLBMprHFErI                       Memories   \n",
       "\n",
       "              track_artist  track_popularity                 track_album_name  \\\n",
       "0                   Avicii                83                             TRUE   \n",
       "1   DJ Snake,Justin Bieber                83                           Encore   \n",
       "2      Marshmello,Bastille                82                          Happier   \n",
       "3  Major Lazer,MØ,DJ Snake                77  Peace Is The Mission : Extended   \n",
       "4                 Maroon 5                81                   JORDI (Deluxe)   \n",
       "\n",
       "   track_album_release_year  duration_min genres          record_label  \\\n",
       "0                      2013          4.12    EDM    Universal Music AB   \n",
       "1                      2016          3.43    EDM      DJ Snake Def Jam   \n",
       "2                      2018          3.57    EDM    Joytime Collective   \n",
       "3                      2015          2.94    EDM  Third Pardee Records   \n",
       "4                      2021          3.16    Pop   Interscope Records*   \n",
       "\n",
       "   danceability  ...  instrumentalness liveness  valence tempo  \\\n",
       "0          53.2  ...              0.12    16.10     64.3   124   \n",
       "1          47.5  ...              0.00    13.50     15.9   200   \n",
       "2          68.7  ...              0.00    16.70     67.1   100   \n",
       "3          72.3  ...              0.12    56.50     27.4    98   \n",
       "4          77.5  ...              0.00     8.21     59.5    91   \n",
       "\n",
       "   time_signature              track_id_1  \\\n",
       "0               4  0nrRP2bk19rLc0orkWPQk2   \n",
       "1               4  0lYBSQXN6rCTvUZvg9S0lU   \n",
       "2               4  7BqHUALzNBTanL6OvsqmC1   \n",
       "3               4  2YWjW3wwQIBLNhxWKBQd16   \n",
       "4               4  4cktbXiXOapiLBMprHFErI   \n",
       "\n",
       "                                           artist_id  \\\n",
       "0                           [1vCWHaC5f2uS3yhpwWbIA6]   \n",
       "1   [540vIaP2JwjQb9dm3aArA4, 1uNFoZAHBGtllmzznpCI3s]   \n",
       "2   [64KEffDW9EtZ1y2vBYgq8T, 7EQ0qTo7fWT7DPxmxtSYEc]   \n",
       "3  [738wLrAtLtCtFOLvQBXOXp, 0bdfiayQAKewqEvaU6rXC...   \n",
       "4                           [04gDigrS5kc9YWfZHwBETP]   \n",
       "\n",
       "                   artist_name             artist_followers  artist_popularity  \n",
       "0                     [Avicii]                   [23107521]               [81]  \n",
       "1    [DJ Snake, Justin Bieber]          [8910877, 78641625]           [79, 91]  \n",
       "2       [Marshmello, Bastille]          [33882258, 5582338]           [84, 76]  \n",
       "3  [Major Lazer, MØ, DJ Snake]  [6206097, 1458940, 8910877]       [77, 72, 79]  \n",
       "4                   [Maroon 5]                   [43145812]               [87]  \n",
       "\n",
       "[5 rows x 26 columns]"
      ]
     },
     "execution_count": 8,
     "metadata": {},
     "output_type": "execute_result"
    }
   ],
   "source": [
    "df.head()"
   ]
  },
  {
   "cell_type": "markdown",
   "metadata": {
    "id": "yRNv9tACuaV6"
   },
   "source": [
    "#Data enriching"
   ]
  },
  {
   "cell_type": "code",
   "execution_count": 29,
   "metadata": {},
   "outputs": [],
   "source": [
    "df['decade'] = (df['track_album_release_year'] // 10) * 10\n"
   ]
  },
  {
   "cell_type": "markdown",
   "metadata": {
    "id": "2JywzIRgqpfG"
   },
   "source": [
    "#Musical features Exploration"
   ]
  },
  {
   "cell_type": "markdown",
   "metadata": {
    "id": "XOorLCycKc7_"
   },
   "source": [
    "#Data visualization"
   ]
  },
  {
   "cell_type": "code",
   "execution_count": 10,
   "metadata": {
    "colab": {
     "base_uri": "https://localhost:8080/",
     "height": 542
    },
    "id": "kO2G_qg7XhLt",
    "outputId": "1dedc11a-b3f1-4c92-e8fd-0731709a3fb2"
   },
   "outputs": [
    {
     "data": {
      "application/vnd.plotly.v1+json": {
       "config": {
        "plotlyServerURL": "https://plot.ly"
       },
       "data": [
        {
         "alignmentgroup": "True",
         "hovertemplate": "genres=%{x}<br>count=%{y}<extra></extra>",
         "legendgroup": "",
         "marker": {
          "color": "#636efa",
          "pattern": {
           "shape": ""
          }
         },
         "name": "",
         "offsetgroup": "",
         "orientation": "v",
         "showlegend": false,
         "textposition": "auto",
         "type": "bar",
         "x": [
          "EDM",
          "EDM",
          "EDM",
          "EDM",
          "Pop",
          "Pop",
          "Pop",
          "Pop",
          "Pop",
          "Pop",
          "Pop",
          "Pop",
          "Pop",
          "Pop",
          "Pop",
          "Pop",
          "Pop",
          "Pop",
          "Pop",
          "Pop",
          "Pop",
          "Pop",
          "Pop",
          "Pop",
          "Pop",
          "Pop",
          "Pop",
          "Pop",
          "Pop",
          "Pop",
          "Pop",
          "Pop",
          "Pop",
          "Pop",
          "Rap",
          "Rap",
          "Rap",
          "Rap",
          "Rap",
          "Rap",
          "Rap",
          "Rap",
          "Rap",
          "Rap",
          "Rap",
          "Rap",
          "Rap",
          "Rap",
          "Rap",
          "Rap",
          "Rap",
          "Rap",
          "Rap",
          "Rap",
          "Rap",
          "Rap",
          "Rap",
          "Rap",
          "Rap",
          "Rock",
          "Rock",
          "Rock",
          "Rock",
          "Rock",
          "Rock",
          "Rock",
          "Rock",
          "Rock",
          "Rock",
          "Rock",
          "Rock",
          "Rock",
          "Rock",
          "Rock",
          "Rock",
          "Rock",
          "UK Pop",
          "UK Pop",
          "UK Pop",
          "UK Pop",
          "UK Pop",
          "UK Pop",
          "UK Pop",
          "UK Pop",
          "UK Pop",
          "UK Pop",
          "UK Pop",
          "UK Pop",
          "UK Pop",
          "UK Pop",
          "Pop/R&B",
          "Pop/R&B",
          "Pop/R&B",
          "Pop/R&B",
          "Pop/R&B",
          "Pop/R&B",
          "Folk-Pop",
          "Folk-Pop",
          "Indie Folk",
          "electro house"
         ],
         "xaxis": "x",
         "y": [
          1,
          1,
          1,
          1,
          1,
          1,
          1,
          1,
          1,
          1,
          1,
          1,
          1,
          1,
          1,
          1,
          1,
          1,
          1,
          1,
          1,
          1,
          1,
          1,
          1,
          1,
          1,
          1,
          1,
          1,
          1,
          1,
          1,
          1,
          1,
          1,
          1,
          1,
          1,
          1,
          1,
          1,
          1,
          1,
          1,
          1,
          1,
          1,
          1,
          1,
          1,
          1,
          1,
          1,
          1,
          1,
          1,
          1,
          1,
          1,
          1,
          1,
          1,
          1,
          1,
          1,
          1,
          1,
          1,
          1,
          1,
          1,
          1,
          1,
          1,
          1,
          1,
          1,
          1,
          1,
          1,
          1,
          1,
          1,
          1,
          1,
          1,
          1,
          1,
          1,
          1,
          1,
          1,
          1,
          1,
          1,
          1,
          1,
          1,
          1
         ],
         "yaxis": "y"
        }
       ],
       "layout": {
        "barmode": "relative",
        "legend": {
         "tracegroupgap": 0
        },
        "template": {
         "data": {
          "bar": [
           {
            "error_x": {
             "color": "#2a3f5f"
            },
            "error_y": {
             "color": "#2a3f5f"
            },
            "marker": {
             "line": {
              "color": "#E5ECF6",
              "width": 0.5
             },
             "pattern": {
              "fillmode": "overlay",
              "size": 10,
              "solidity": 0.2
             }
            },
            "type": "bar"
           }
          ],
          "barpolar": [
           {
            "marker": {
             "line": {
              "color": "#E5ECF6",
              "width": 0.5
             },
             "pattern": {
              "fillmode": "overlay",
              "size": 10,
              "solidity": 0.2
             }
            },
            "type": "barpolar"
           }
          ],
          "carpet": [
           {
            "aaxis": {
             "endlinecolor": "#2a3f5f",
             "gridcolor": "white",
             "linecolor": "white",
             "minorgridcolor": "white",
             "startlinecolor": "#2a3f5f"
            },
            "baxis": {
             "endlinecolor": "#2a3f5f",
             "gridcolor": "white",
             "linecolor": "white",
             "minorgridcolor": "white",
             "startlinecolor": "#2a3f5f"
            },
            "type": "carpet"
           }
          ],
          "choropleth": [
           {
            "colorbar": {
             "outlinewidth": 0,
             "ticks": ""
            },
            "type": "choropleth"
           }
          ],
          "contour": [
           {
            "colorbar": {
             "outlinewidth": 0,
             "ticks": ""
            },
            "colorscale": [
             [
              0,
              "#0d0887"
             ],
             [
              0.1111111111111111,
              "#46039f"
             ],
             [
              0.2222222222222222,
              "#7201a8"
             ],
             [
              0.3333333333333333,
              "#9c179e"
             ],
             [
              0.4444444444444444,
              "#bd3786"
             ],
             [
              0.5555555555555556,
              "#d8576b"
             ],
             [
              0.6666666666666666,
              "#ed7953"
             ],
             [
              0.7777777777777778,
              "#fb9f3a"
             ],
             [
              0.8888888888888888,
              "#fdca26"
             ],
             [
              1,
              "#f0f921"
             ]
            ],
            "type": "contour"
           }
          ],
          "contourcarpet": [
           {
            "colorbar": {
             "outlinewidth": 0,
             "ticks": ""
            },
            "type": "contourcarpet"
           }
          ],
          "heatmap": [
           {
            "colorbar": {
             "outlinewidth": 0,
             "ticks": ""
            },
            "colorscale": [
             [
              0,
              "#0d0887"
             ],
             [
              0.1111111111111111,
              "#46039f"
             ],
             [
              0.2222222222222222,
              "#7201a8"
             ],
             [
              0.3333333333333333,
              "#9c179e"
             ],
             [
              0.4444444444444444,
              "#bd3786"
             ],
             [
              0.5555555555555556,
              "#d8576b"
             ],
             [
              0.6666666666666666,
              "#ed7953"
             ],
             [
              0.7777777777777778,
              "#fb9f3a"
             ],
             [
              0.8888888888888888,
              "#fdca26"
             ],
             [
              1,
              "#f0f921"
             ]
            ],
            "type": "heatmap"
           }
          ],
          "heatmapgl": [
           {
            "colorbar": {
             "outlinewidth": 0,
             "ticks": ""
            },
            "colorscale": [
             [
              0,
              "#0d0887"
             ],
             [
              0.1111111111111111,
              "#46039f"
             ],
             [
              0.2222222222222222,
              "#7201a8"
             ],
             [
              0.3333333333333333,
              "#9c179e"
             ],
             [
              0.4444444444444444,
              "#bd3786"
             ],
             [
              0.5555555555555556,
              "#d8576b"
             ],
             [
              0.6666666666666666,
              "#ed7953"
             ],
             [
              0.7777777777777778,
              "#fb9f3a"
             ],
             [
              0.8888888888888888,
              "#fdca26"
             ],
             [
              1,
              "#f0f921"
             ]
            ],
            "type": "heatmapgl"
           }
          ],
          "histogram": [
           {
            "marker": {
             "pattern": {
              "fillmode": "overlay",
              "size": 10,
              "solidity": 0.2
             }
            },
            "type": "histogram"
           }
          ],
          "histogram2d": [
           {
            "colorbar": {
             "outlinewidth": 0,
             "ticks": ""
            },
            "colorscale": [
             [
              0,
              "#0d0887"
             ],
             [
              0.1111111111111111,
              "#46039f"
             ],
             [
              0.2222222222222222,
              "#7201a8"
             ],
             [
              0.3333333333333333,
              "#9c179e"
             ],
             [
              0.4444444444444444,
              "#bd3786"
             ],
             [
              0.5555555555555556,
              "#d8576b"
             ],
             [
              0.6666666666666666,
              "#ed7953"
             ],
             [
              0.7777777777777778,
              "#fb9f3a"
             ],
             [
              0.8888888888888888,
              "#fdca26"
             ],
             [
              1,
              "#f0f921"
             ]
            ],
            "type": "histogram2d"
           }
          ],
          "histogram2dcontour": [
           {
            "colorbar": {
             "outlinewidth": 0,
             "ticks": ""
            },
            "colorscale": [
             [
              0,
              "#0d0887"
             ],
             [
              0.1111111111111111,
              "#46039f"
             ],
             [
              0.2222222222222222,
              "#7201a8"
             ],
             [
              0.3333333333333333,
              "#9c179e"
             ],
             [
              0.4444444444444444,
              "#bd3786"
             ],
             [
              0.5555555555555556,
              "#d8576b"
             ],
             [
              0.6666666666666666,
              "#ed7953"
             ],
             [
              0.7777777777777778,
              "#fb9f3a"
             ],
             [
              0.8888888888888888,
              "#fdca26"
             ],
             [
              1,
              "#f0f921"
             ]
            ],
            "type": "histogram2dcontour"
           }
          ],
          "mesh3d": [
           {
            "colorbar": {
             "outlinewidth": 0,
             "ticks": ""
            },
            "type": "mesh3d"
           }
          ],
          "parcoords": [
           {
            "line": {
             "colorbar": {
              "outlinewidth": 0,
              "ticks": ""
             }
            },
            "type": "parcoords"
           }
          ],
          "pie": [
           {
            "automargin": true,
            "type": "pie"
           }
          ],
          "scatter": [
           {
            "fillpattern": {
             "fillmode": "overlay",
             "size": 10,
             "solidity": 0.2
            },
            "type": "scatter"
           }
          ],
          "scatter3d": [
           {
            "line": {
             "colorbar": {
              "outlinewidth": 0,
              "ticks": ""
             }
            },
            "marker": {
             "colorbar": {
              "outlinewidth": 0,
              "ticks": ""
             }
            },
            "type": "scatter3d"
           }
          ],
          "scattercarpet": [
           {
            "marker": {
             "colorbar": {
              "outlinewidth": 0,
              "ticks": ""
             }
            },
            "type": "scattercarpet"
           }
          ],
          "scattergeo": [
           {
            "marker": {
             "colorbar": {
              "outlinewidth": 0,
              "ticks": ""
             }
            },
            "type": "scattergeo"
           }
          ],
          "scattergl": [
           {
            "marker": {
             "colorbar": {
              "outlinewidth": 0,
              "ticks": ""
             }
            },
            "type": "scattergl"
           }
          ],
          "scattermapbox": [
           {
            "marker": {
             "colorbar": {
              "outlinewidth": 0,
              "ticks": ""
             }
            },
            "type": "scattermapbox"
           }
          ],
          "scatterpolar": [
           {
            "marker": {
             "colorbar": {
              "outlinewidth": 0,
              "ticks": ""
             }
            },
            "type": "scatterpolar"
           }
          ],
          "scatterpolargl": [
           {
            "marker": {
             "colorbar": {
              "outlinewidth": 0,
              "ticks": ""
             }
            },
            "type": "scatterpolargl"
           }
          ],
          "scatterternary": [
           {
            "marker": {
             "colorbar": {
              "outlinewidth": 0,
              "ticks": ""
             }
            },
            "type": "scatterternary"
           }
          ],
          "surface": [
           {
            "colorbar": {
             "outlinewidth": 0,
             "ticks": ""
            },
            "colorscale": [
             [
              0,
              "#0d0887"
             ],
             [
              0.1111111111111111,
              "#46039f"
             ],
             [
              0.2222222222222222,
              "#7201a8"
             ],
             [
              0.3333333333333333,
              "#9c179e"
             ],
             [
              0.4444444444444444,
              "#bd3786"
             ],
             [
              0.5555555555555556,
              "#d8576b"
             ],
             [
              0.6666666666666666,
              "#ed7953"
             ],
             [
              0.7777777777777778,
              "#fb9f3a"
             ],
             [
              0.8888888888888888,
              "#fdca26"
             ],
             [
              1,
              "#f0f921"
             ]
            ],
            "type": "surface"
           }
          ],
          "table": [
           {
            "cells": {
             "fill": {
              "color": "#EBF0F8"
             },
             "line": {
              "color": "white"
             }
            },
            "header": {
             "fill": {
              "color": "#C8D4E3"
             },
             "line": {
              "color": "white"
             }
            },
            "type": "table"
           }
          ]
         },
         "layout": {
          "annotationdefaults": {
           "arrowcolor": "#2a3f5f",
           "arrowhead": 0,
           "arrowwidth": 1
          },
          "autotypenumbers": "strict",
          "coloraxis": {
           "colorbar": {
            "outlinewidth": 0,
            "ticks": ""
           }
          },
          "colorscale": {
           "diverging": [
            [
             0,
             "#8e0152"
            ],
            [
             0.1,
             "#c51b7d"
            ],
            [
             0.2,
             "#de77ae"
            ],
            [
             0.3,
             "#f1b6da"
            ],
            [
             0.4,
             "#fde0ef"
            ],
            [
             0.5,
             "#f7f7f7"
            ],
            [
             0.6,
             "#e6f5d0"
            ],
            [
             0.7,
             "#b8e186"
            ],
            [
             0.8,
             "#7fbc41"
            ],
            [
             0.9,
             "#4d9221"
            ],
            [
             1,
             "#276419"
            ]
           ],
           "sequential": [
            [
             0,
             "#0d0887"
            ],
            [
             0.1111111111111111,
             "#46039f"
            ],
            [
             0.2222222222222222,
             "#7201a8"
            ],
            [
             0.3333333333333333,
             "#9c179e"
            ],
            [
             0.4444444444444444,
             "#bd3786"
            ],
            [
             0.5555555555555556,
             "#d8576b"
            ],
            [
             0.6666666666666666,
             "#ed7953"
            ],
            [
             0.7777777777777778,
             "#fb9f3a"
            ],
            [
             0.8888888888888888,
             "#fdca26"
            ],
            [
             1,
             "#f0f921"
            ]
           ],
           "sequentialminus": [
            [
             0,
             "#0d0887"
            ],
            [
             0.1111111111111111,
             "#46039f"
            ],
            [
             0.2222222222222222,
             "#7201a8"
            ],
            [
             0.3333333333333333,
             "#9c179e"
            ],
            [
             0.4444444444444444,
             "#bd3786"
            ],
            [
             0.5555555555555556,
             "#d8576b"
            ],
            [
             0.6666666666666666,
             "#ed7953"
            ],
            [
             0.7777777777777778,
             "#fb9f3a"
            ],
            [
             0.8888888888888888,
             "#fdca26"
            ],
            [
             1,
             "#f0f921"
            ]
           ]
          },
          "colorway": [
           "#636efa",
           "#EF553B",
           "#00cc96",
           "#ab63fa",
           "#FFA15A",
           "#19d3f3",
           "#FF6692",
           "#B6E880",
           "#FF97FF",
           "#FECB52"
          ],
          "font": {
           "color": "#2a3f5f"
          },
          "geo": {
           "bgcolor": "white",
           "lakecolor": "white",
           "landcolor": "#E5ECF6",
           "showlakes": true,
           "showland": true,
           "subunitcolor": "white"
          },
          "hoverlabel": {
           "align": "left"
          },
          "hovermode": "closest",
          "mapbox": {
           "style": "light"
          },
          "paper_bgcolor": "white",
          "plot_bgcolor": "#E5ECF6",
          "polar": {
           "angularaxis": {
            "gridcolor": "white",
            "linecolor": "white",
            "ticks": ""
           },
           "bgcolor": "#E5ECF6",
           "radialaxis": {
            "gridcolor": "white",
            "linecolor": "white",
            "ticks": ""
           }
          },
          "scene": {
           "xaxis": {
            "backgroundcolor": "#E5ECF6",
            "gridcolor": "white",
            "gridwidth": 2,
            "linecolor": "white",
            "showbackground": true,
            "ticks": "",
            "zerolinecolor": "white"
           },
           "yaxis": {
            "backgroundcolor": "#E5ECF6",
            "gridcolor": "white",
            "gridwidth": 2,
            "linecolor": "white",
            "showbackground": true,
            "ticks": "",
            "zerolinecolor": "white"
           },
           "zaxis": {
            "backgroundcolor": "#E5ECF6",
            "gridcolor": "white",
            "gridwidth": 2,
            "linecolor": "white",
            "showbackground": true,
            "ticks": "",
            "zerolinecolor": "white"
           }
          },
          "shapedefaults": {
           "line": {
            "color": "#2a3f5f"
           }
          },
          "ternary": {
           "aaxis": {
            "gridcolor": "white",
            "linecolor": "white",
            "ticks": ""
           },
           "baxis": {
            "gridcolor": "white",
            "linecolor": "white",
            "ticks": ""
           },
           "bgcolor": "#E5ECF6",
           "caxis": {
            "gridcolor": "white",
            "linecolor": "white",
            "ticks": ""
           }
          },
          "title": {
           "x": 0.05
          },
          "xaxis": {
           "automargin": true,
           "gridcolor": "white",
           "linecolor": "white",
           "ticks": "",
           "title": {
            "standoff": 15
           },
           "zerolinecolor": "white",
           "zerolinewidth": 2
          },
          "yaxis": {
           "automargin": true,
           "gridcolor": "white",
           "linecolor": "white",
           "ticks": "",
           "title": {
            "standoff": 15
           },
           "zerolinecolor": "white",
           "zerolinewidth": 2
          }
         }
        },
        "title": {
         "text": "genres Count"
        },
        "xaxis": {
         "anchor": "y",
         "categoryarray": [
          "Pop",
          "Rap",
          "Rock",
          "UK Pop",
          "Pop/R&B",
          "EDM",
          "Folk-Pop",
          "Indie Folk",
          "electro house"
         ],
         "categoryorder": "array",
         "domain": [
          0,
          1
         ],
         "title": {
          "text": "genres"
         }
        },
        "yaxis": {
         "anchor": "x",
         "domain": [
          0,
          1
         ],
         "title": {
          "text": "count"
         }
        }
       }
      }
     },
     "metadata": {},
     "output_type": "display_data"
    }
   ],
   "source": [
    "sorted_counts = df[\"genres\"].value_counts().sort_values(ascending=False)\n",
    "sorted_genres = sorted_counts.index.tolist()\n",
    "\n",
    "fig = px.bar(df, x=\"genres\", title=\"genres Count\",\n",
    "             category_orders={\"genres\": sorted_genres})\n",
    "fig.show()"
   ]
  },
  {
   "cell_type": "markdown",
   "metadata": {
    "id": "8PPJ8z41jhwR"
   },
   "source": [
    "##Artists"
   ]
  },
  {
   "cell_type": "code",
   "execution_count": 12,
   "metadata": {
    "colab": {
     "base_uri": "https://localhost:8080/",
     "height": 832
    },
    "id": "f7OL31s46o8k",
    "outputId": "82591359-7774-4871-d362-aa02de34a2d0"
   },
   "outputs": [
    {
     "data": {
      "text/html": [
       "<div>\n",
       "<style scoped>\n",
       "    .dataframe tbody tr th:only-of-type {\n",
       "        vertical-align: middle;\n",
       "    }\n",
       "\n",
       "    .dataframe tbody tr th {\n",
       "        vertical-align: top;\n",
       "    }\n",
       "\n",
       "    .dataframe thead th {\n",
       "        text-align: right;\n",
       "    }\n",
       "</style>\n",
       "<table border=\"1\" class=\"dataframe\">\n",
       "  <thead>\n",
       "    <tr style=\"text-align: right;\">\n",
       "      <th></th>\n",
       "      <th>track_id</th>\n",
       "      <th>track_name</th>\n",
       "      <th>track_popularity</th>\n",
       "      <th>track_album_name</th>\n",
       "      <th>track_album_release_year</th>\n",
       "      <th>duration_min</th>\n",
       "      <th>genres</th>\n",
       "      <th>record_label</th>\n",
       "      <th>danceability</th>\n",
       "      <th>energy</th>\n",
       "      <th>...</th>\n",
       "      <th>instrumentalness</th>\n",
       "      <th>liveness</th>\n",
       "      <th>valence</th>\n",
       "      <th>tempo</th>\n",
       "      <th>time_signature</th>\n",
       "      <th>track_id_1</th>\n",
       "      <th>artist_id</th>\n",
       "      <th>artist_name</th>\n",
       "      <th>artist_followers</th>\n",
       "      <th>artist_popularity</th>\n",
       "    </tr>\n",
       "    <tr>\n",
       "      <th>track_artist</th>\n",
       "      <th></th>\n",
       "      <th></th>\n",
       "      <th></th>\n",
       "      <th></th>\n",
       "      <th></th>\n",
       "      <th></th>\n",
       "      <th></th>\n",
       "      <th></th>\n",
       "      <th></th>\n",
       "      <th></th>\n",
       "      <th></th>\n",
       "      <th></th>\n",
       "      <th></th>\n",
       "      <th></th>\n",
       "      <th></th>\n",
       "      <th></th>\n",
       "      <th></th>\n",
       "      <th></th>\n",
       "      <th></th>\n",
       "      <th></th>\n",
       "      <th></th>\n",
       "    </tr>\n",
       "  </thead>\n",
       "  <tbody>\n",
       "    <tr>\n",
       "      <th>Bruno Mars</th>\n",
       "      <td>4</td>\n",
       "      <td>4</td>\n",
       "      <td>4</td>\n",
       "      <td>4</td>\n",
       "      <td>4</td>\n",
       "      <td>4</td>\n",
       "      <td>4</td>\n",
       "      <td>4</td>\n",
       "      <td>4</td>\n",
       "      <td>4</td>\n",
       "      <td>...</td>\n",
       "      <td>4</td>\n",
       "      <td>4</td>\n",
       "      <td>4</td>\n",
       "      <td>4</td>\n",
       "      <td>4</td>\n",
       "      <td>4</td>\n",
       "      <td>4</td>\n",
       "      <td>4</td>\n",
       "      <td>4</td>\n",
       "      <td>4</td>\n",
       "    </tr>\n",
       "    <tr>\n",
       "      <th>Ed Sheeran</th>\n",
       "      <td>4</td>\n",
       "      <td>4</td>\n",
       "      <td>4</td>\n",
       "      <td>4</td>\n",
       "      <td>4</td>\n",
       "      <td>4</td>\n",
       "      <td>4</td>\n",
       "      <td>4</td>\n",
       "      <td>4</td>\n",
       "      <td>4</td>\n",
       "      <td>...</td>\n",
       "      <td>4</td>\n",
       "      <td>4</td>\n",
       "      <td>4</td>\n",
       "      <td>4</td>\n",
       "      <td>4</td>\n",
       "      <td>4</td>\n",
       "      <td>4</td>\n",
       "      <td>4</td>\n",
       "      <td>4</td>\n",
       "      <td>4</td>\n",
       "    </tr>\n",
       "    <tr>\n",
       "      <th>The Weeknd</th>\n",
       "      <td>4</td>\n",
       "      <td>4</td>\n",
       "      <td>4</td>\n",
       "      <td>4</td>\n",
       "      <td>4</td>\n",
       "      <td>4</td>\n",
       "      <td>4</td>\n",
       "      <td>4</td>\n",
       "      <td>4</td>\n",
       "      <td>4</td>\n",
       "      <td>...</td>\n",
       "      <td>4</td>\n",
       "      <td>4</td>\n",
       "      <td>4</td>\n",
       "      <td>4</td>\n",
       "      <td>4</td>\n",
       "      <td>4</td>\n",
       "      <td>4</td>\n",
       "      <td>4</td>\n",
       "      <td>4</td>\n",
       "      <td>4</td>\n",
       "    </tr>\n",
       "    <tr>\n",
       "      <th>Coldplay</th>\n",
       "      <td>3</td>\n",
       "      <td>3</td>\n",
       "      <td>3</td>\n",
       "      <td>3</td>\n",
       "      <td>3</td>\n",
       "      <td>3</td>\n",
       "      <td>3</td>\n",
       "      <td>3</td>\n",
       "      <td>3</td>\n",
       "      <td>3</td>\n",
       "      <td>...</td>\n",
       "      <td>3</td>\n",
       "      <td>3</td>\n",
       "      <td>3</td>\n",
       "      <td>3</td>\n",
       "      <td>3</td>\n",
       "      <td>3</td>\n",
       "      <td>3</td>\n",
       "      <td>3</td>\n",
       "      <td>3</td>\n",
       "      <td>3</td>\n",
       "    </tr>\n",
       "    <tr>\n",
       "      <th>Dua Lipa</th>\n",
       "      <td>3</td>\n",
       "      <td>3</td>\n",
       "      <td>3</td>\n",
       "      <td>3</td>\n",
       "      <td>3</td>\n",
       "      <td>3</td>\n",
       "      <td>3</td>\n",
       "      <td>3</td>\n",
       "      <td>3</td>\n",
       "      <td>3</td>\n",
       "      <td>...</td>\n",
       "      <td>3</td>\n",
       "      <td>3</td>\n",
       "      <td>3</td>\n",
       "      <td>3</td>\n",
       "      <td>3</td>\n",
       "      <td>3</td>\n",
       "      <td>3</td>\n",
       "      <td>3</td>\n",
       "      <td>3</td>\n",
       "      <td>3</td>\n",
       "    </tr>\n",
       "  </tbody>\n",
       "</table>\n",
       "<p>5 rows × 25 columns</p>\n",
       "</div>"
      ],
      "text/plain": [
       "              track_id  track_name  track_popularity  track_album_name  \\\n",
       "track_artist                                                             \n",
       "Bruno Mars           4           4                 4                 4   \n",
       "Ed Sheeran           4           4                 4                 4   \n",
       "The Weeknd           4           4                 4                 4   \n",
       "Coldplay             3           3                 3                 3   \n",
       "Dua Lipa             3           3                 3                 3   \n",
       "\n",
       "              track_album_release_year  duration_min  genres  record_label  \\\n",
       "track_artist                                                                 \n",
       "Bruno Mars                           4             4       4             4   \n",
       "Ed Sheeran                           4             4       4             4   \n",
       "The Weeknd                           4             4       4             4   \n",
       "Coldplay                             3             3       3             3   \n",
       "Dua Lipa                             3             3       3             3   \n",
       "\n",
       "              danceability  energy  ...  instrumentalness  liveness  valence  \\\n",
       "track_artist                        ...                                        \n",
       "Bruno Mars               4       4  ...                 4         4        4   \n",
       "Ed Sheeran               4       4  ...                 4         4        4   \n",
       "The Weeknd               4       4  ...                 4         4        4   \n",
       "Coldplay                 3       3  ...                 3         3        3   \n",
       "Dua Lipa                 3       3  ...                 3         3        3   \n",
       "\n",
       "              tempo  time_signature  track_id_1  artist_id  artist_name  \\\n",
       "track_artist                                                              \n",
       "Bruno Mars        4               4           4          4            4   \n",
       "Ed Sheeran        4               4           4          4            4   \n",
       "The Weeknd        4               4           4          4            4   \n",
       "Coldplay          3               3           3          3            3   \n",
       "Dua Lipa          3               3           3          3            3   \n",
       "\n",
       "              artist_followers  artist_popularity  \n",
       "track_artist                                       \n",
       "Bruno Mars                   4                  4  \n",
       "Ed Sheeran                   4                  4  \n",
       "The Weeknd                   4                  4  \n",
       "Coldplay                     3                  3  \n",
       "Dua Lipa                     3                  3  \n",
       "\n",
       "[5 rows x 25 columns]"
      ]
     },
     "execution_count": 12,
     "metadata": {},
     "output_type": "execute_result"
    }
   ],
   "source": [
    "grouped_by_artist = df.groupby(\"track_artist\").count()\n",
    "grouped_by_artist.sort_values(\"track_name\", ascending=False).head(5)"
   ]
  },
  {
   "cell_type": "markdown",
   "metadata": {
    "id": "yL6o92p8jlbw"
   },
   "source": [
    "##Musical eras"
   ]
  },
  {
   "cell_type": "markdown",
   "metadata": {
    "id": "ixiuxSTsjsaI"
   },
   "source": [
    "Which year is predominant in the Top 100 streamed songs?"
   ]
  },
  {
   "cell_type": "code",
   "execution_count": 13,
   "metadata": {
    "colab": {
     "base_uri": "https://localhost:8080/",
     "height": 839
    },
    "collapsed": true,
    "id": "iujiACpE38Fp",
    "outputId": "3017f37c-199c-4c85-966e-97346757cf35"
   },
   "outputs": [
    {
     "data": {
      "text/html": [
       "<div>\n",
       "<style scoped>\n",
       "    .dataframe tbody tr th:only-of-type {\n",
       "        vertical-align: middle;\n",
       "    }\n",
       "\n",
       "    .dataframe tbody tr th {\n",
       "        vertical-align: top;\n",
       "    }\n",
       "\n",
       "    .dataframe thead th {\n",
       "        text-align: right;\n",
       "    }\n",
       "</style>\n",
       "<table border=\"1\" class=\"dataframe\">\n",
       "  <thead>\n",
       "    <tr style=\"text-align: right;\">\n",
       "      <th></th>\n",
       "      <th>track_id</th>\n",
       "      <th>track_name</th>\n",
       "      <th>track_artist</th>\n",
       "      <th>track_popularity</th>\n",
       "      <th>track_album_name</th>\n",
       "      <th>duration_min</th>\n",
       "      <th>genres</th>\n",
       "      <th>record_label</th>\n",
       "      <th>danceability</th>\n",
       "      <th>energy</th>\n",
       "      <th>...</th>\n",
       "      <th>instrumentalness</th>\n",
       "      <th>liveness</th>\n",
       "      <th>valence</th>\n",
       "      <th>tempo</th>\n",
       "      <th>time_signature</th>\n",
       "      <th>track_id_1</th>\n",
       "      <th>artist_id</th>\n",
       "      <th>artist_name</th>\n",
       "      <th>artist_followers</th>\n",
       "      <th>artist_popularity</th>\n",
       "    </tr>\n",
       "    <tr>\n",
       "      <th>track_album_release_year</th>\n",
       "      <th></th>\n",
       "      <th></th>\n",
       "      <th></th>\n",
       "      <th></th>\n",
       "      <th></th>\n",
       "      <th></th>\n",
       "      <th></th>\n",
       "      <th></th>\n",
       "      <th></th>\n",
       "      <th></th>\n",
       "      <th></th>\n",
       "      <th></th>\n",
       "      <th></th>\n",
       "      <th></th>\n",
       "      <th></th>\n",
       "      <th></th>\n",
       "      <th></th>\n",
       "      <th></th>\n",
       "      <th></th>\n",
       "      <th></th>\n",
       "      <th></th>\n",
       "    </tr>\n",
       "  </thead>\n",
       "  <tbody>\n",
       "    <tr>\n",
       "      <th>2023</th>\n",
       "      <td>1</td>\n",
       "      <td>1</td>\n",
       "      <td>1</td>\n",
       "      <td>1</td>\n",
       "      <td>1</td>\n",
       "      <td>1</td>\n",
       "      <td>1</td>\n",
       "      <td>1</td>\n",
       "      <td>1</td>\n",
       "      <td>1</td>\n",
       "      <td>...</td>\n",
       "      <td>1</td>\n",
       "      <td>1</td>\n",
       "      <td>1</td>\n",
       "      <td>1</td>\n",
       "      <td>1</td>\n",
       "      <td>1</td>\n",
       "      <td>1</td>\n",
       "      <td>1</td>\n",
       "      <td>1</td>\n",
       "      <td>1</td>\n",
       "    </tr>\n",
       "    <tr>\n",
       "      <th>2022</th>\n",
       "      <td>2</td>\n",
       "      <td>2</td>\n",
       "      <td>2</td>\n",
       "      <td>2</td>\n",
       "      <td>2</td>\n",
       "      <td>2</td>\n",
       "      <td>2</td>\n",
       "      <td>2</td>\n",
       "      <td>2</td>\n",
       "      <td>2</td>\n",
       "      <td>...</td>\n",
       "      <td>2</td>\n",
       "      <td>2</td>\n",
       "      <td>2</td>\n",
       "      <td>2</td>\n",
       "      <td>2</td>\n",
       "      <td>2</td>\n",
       "      <td>2</td>\n",
       "      <td>2</td>\n",
       "      <td>2</td>\n",
       "      <td>2</td>\n",
       "    </tr>\n",
       "    <tr>\n",
       "      <th>2021</th>\n",
       "      <td>6</td>\n",
       "      <td>6</td>\n",
       "      <td>6</td>\n",
       "      <td>6</td>\n",
       "      <td>6</td>\n",
       "      <td>6</td>\n",
       "      <td>6</td>\n",
       "      <td>6</td>\n",
       "      <td>6</td>\n",
       "      <td>6</td>\n",
       "      <td>...</td>\n",
       "      <td>6</td>\n",
       "      <td>6</td>\n",
       "      <td>6</td>\n",
       "      <td>6</td>\n",
       "      <td>6</td>\n",
       "      <td>6</td>\n",
       "      <td>6</td>\n",
       "      <td>6</td>\n",
       "      <td>6</td>\n",
       "      <td>6</td>\n",
       "    </tr>\n",
       "    <tr>\n",
       "      <th>2020</th>\n",
       "      <td>7</td>\n",
       "      <td>7</td>\n",
       "      <td>7</td>\n",
       "      <td>7</td>\n",
       "      <td>7</td>\n",
       "      <td>7</td>\n",
       "      <td>7</td>\n",
       "      <td>7</td>\n",
       "      <td>7</td>\n",
       "      <td>7</td>\n",
       "      <td>...</td>\n",
       "      <td>7</td>\n",
       "      <td>7</td>\n",
       "      <td>7</td>\n",
       "      <td>7</td>\n",
       "      <td>7</td>\n",
       "      <td>7</td>\n",
       "      <td>7</td>\n",
       "      <td>7</td>\n",
       "      <td>7</td>\n",
       "      <td>7</td>\n",
       "    </tr>\n",
       "    <tr>\n",
       "      <th>2019</th>\n",
       "      <td>8</td>\n",
       "      <td>8</td>\n",
       "      <td>8</td>\n",
       "      <td>8</td>\n",
       "      <td>8</td>\n",
       "      <td>8</td>\n",
       "      <td>8</td>\n",
       "      <td>8</td>\n",
       "      <td>8</td>\n",
       "      <td>8</td>\n",
       "      <td>...</td>\n",
       "      <td>8</td>\n",
       "      <td>8</td>\n",
       "      <td>8</td>\n",
       "      <td>8</td>\n",
       "      <td>8</td>\n",
       "      <td>8</td>\n",
       "      <td>8</td>\n",
       "      <td>8</td>\n",
       "      <td>8</td>\n",
       "      <td>8</td>\n",
       "    </tr>\n",
       "  </tbody>\n",
       "</table>\n",
       "<p>5 rows × 25 columns</p>\n",
       "</div>"
      ],
      "text/plain": [
       "                          track_id  track_name  track_artist  \\\n",
       "track_album_release_year                                       \n",
       "2023                             1           1             1   \n",
       "2022                             2           2             2   \n",
       "2021                             6           6             6   \n",
       "2020                             7           7             7   \n",
       "2019                             8           8             8   \n",
       "\n",
       "                          track_popularity  track_album_name  duration_min  \\\n",
       "track_album_release_year                                                     \n",
       "2023                                     1                 1             1   \n",
       "2022                                     2                 2             2   \n",
       "2021                                     6                 6             6   \n",
       "2020                                     7                 7             7   \n",
       "2019                                     8                 8             8   \n",
       "\n",
       "                          genres  record_label  danceability  energy  ...  \\\n",
       "track_album_release_year                                              ...   \n",
       "2023                           1             1             1       1  ...   \n",
       "2022                           2             2             2       2  ...   \n",
       "2021                           6             6             6       6  ...   \n",
       "2020                           7             7             7       7  ...   \n",
       "2019                           8             8             8       8  ...   \n",
       "\n",
       "                          instrumentalness  liveness  valence  tempo  \\\n",
       "track_album_release_year                                               \n",
       "2023                                     1         1        1      1   \n",
       "2022                                     2         2        2      2   \n",
       "2021                                     6         6        6      6   \n",
       "2020                                     7         7        7      7   \n",
       "2019                                     8         8        8      8   \n",
       "\n",
       "                          time_signature  track_id_1  artist_id  artist_name  \\\n",
       "track_album_release_year                                                       \n",
       "2023                                   1           1          1            1   \n",
       "2022                                   2           2          2            2   \n",
       "2021                                   6           6          6            6   \n",
       "2020                                   7           7          7            7   \n",
       "2019                                   8           8          8            8   \n",
       "\n",
       "                          artist_followers  artist_popularity  \n",
       "track_album_release_year                                       \n",
       "2023                                     1                  1  \n",
       "2022                                     2                  2  \n",
       "2021                                     6                  6  \n",
       "2020                                     7                  7  \n",
       "2019                                     8                  8  \n",
       "\n",
       "[5 rows x 25 columns]"
      ]
     },
     "execution_count": 13,
     "metadata": {},
     "output_type": "execute_result"
    }
   ],
   "source": [
    "grouped_by_year = df.groupby(\"track_album_release_year\").count()\n",
    "grouped_by_year.sort_values(\"track_album_release_year\", ascending=False).head(5)"
   ]
  },
  {
   "cell_type": "code",
   "execution_count": 14,
   "metadata": {
    "colab": {
     "base_uri": "https://localhost:8080/",
     "height": 564
    },
    "id": "YpNPzFHWn6QB",
    "outputId": "3555b4a2-b3c8-4ea2-e95f-4d5f3e1f332f"
   },
   "outputs": [
    {
     "data": {
      "image/png": "[encoded data removed]",
      "text/plain": [
       "<Figure size 1000x600 with 1 Axes>"
      ]
     },
     "metadata": {},
     "output_type": "display_data"
    }
   ],
   "source": [
    "#visualize number of songs (track_name) per year\n",
    "plt.figure(figsize=(10, 6))\n",
    "plt.bar(grouped_by_year.index, grouped_by_year['track_name'])\n",
    "plt.xlabel('Year')\n",
    "plt.ylabel('Number of Songs')\n",
    "plt.title('Songs per year');\n"
   ]
  },
  {
   "cell_type": "code",
   "execution_count": 15,
   "metadata": {
    "colab": {
     "base_uri": "https://localhost:8080/",
     "height": 564
    },
    "id": "Z2Fh2FQExk4M",
    "outputId": "b044fb6d-7889-4b16-c7f1-395cb6883726"
   },
   "outputs": [
    {
     "data": {
      "image/png": "[encoded data removed]",
      "text/plain": [
       "<Figure size 1000x600 with 1 Axes>"
      ]
     },
     "metadata": {},
     "output_type": "display_data"
    }
   ],
   "source": [
    "# Filter for the years 2010-2025\n",
    "filtered_data = grouped_by_year[(grouped_by_year.index >= 2010) & (grouped_by_year.index <= 2025)]\n",
    "\n",
    "plt.figure(figsize=(10, 6))\n",
    "plt.bar(filtered_data.index, filtered_data[\"track_name\"])  # Assuming 'track_count' is the column with song counts\n",
    "plt.xlabel(\"Year\")\n",
    "plt.ylabel(\"Number of Songs\")\n",
    "plt.title(\"Songs per Year (2010-2025)\")\n",
    "plt.show()"
   ]
  },
  {
   "cell_type": "code",
   "execution_count": 30,
   "metadata": {},
   "outputs": [
    {
     "data": {
      "text/html": [
       "<div>\n",
       "<style scoped>\n",
       "    .dataframe tbody tr th:only-of-type {\n",
       "        vertical-align: middle;\n",
       "    }\n",
       "\n",
       "    .dataframe tbody tr th {\n",
       "        vertical-align: top;\n",
       "    }\n",
       "\n",
       "    .dataframe thead th {\n",
       "        text-align: right;\n",
       "    }\n",
       "</style>\n",
       "<table border=\"1\" class=\"dataframe\">\n",
       "  <thead>\n",
       "    <tr style=\"text-align: right;\">\n",
       "      <th></th>\n",
       "      <th>track_id</th>\n",
       "      <th>track_name</th>\n",
       "      <th>track_artist</th>\n",
       "      <th>track_popularity</th>\n",
       "      <th>track_album_name</th>\n",
       "      <th>track_album_release_year</th>\n",
       "      <th>duration_min</th>\n",
       "      <th>genres</th>\n",
       "      <th>record_label</th>\n",
       "      <th>danceability</th>\n",
       "      <th>...</th>\n",
       "      <th>instrumentalness</th>\n",
       "      <th>liveness</th>\n",
       "      <th>valence</th>\n",
       "      <th>tempo</th>\n",
       "      <th>time_signature</th>\n",
       "      <th>track_id_1</th>\n",
       "      <th>artist_id</th>\n",
       "      <th>artist_name</th>\n",
       "      <th>artist_followers</th>\n",
       "      <th>artist_popularity</th>\n",
       "    </tr>\n",
       "    <tr>\n",
       "      <th>decade</th>\n",
       "      <th></th>\n",
       "      <th></th>\n",
       "      <th></th>\n",
       "      <th></th>\n",
       "      <th></th>\n",
       "      <th></th>\n",
       "      <th></th>\n",
       "      <th></th>\n",
       "      <th></th>\n",
       "      <th></th>\n",
       "      <th></th>\n",
       "      <th></th>\n",
       "      <th></th>\n",
       "      <th></th>\n",
       "      <th></th>\n",
       "      <th></th>\n",
       "      <th></th>\n",
       "      <th></th>\n",
       "      <th></th>\n",
       "      <th></th>\n",
       "      <th></th>\n",
       "    </tr>\n",
       "  </thead>\n",
       "  <tbody>\n",
       "    <tr>\n",
       "      <th>2010</th>\n",
       "      <td>72</td>\n",
       "      <td>72</td>\n",
       "      <td>72</td>\n",
       "      <td>72</td>\n",
       "      <td>72</td>\n",
       "      <td>72</td>\n",
       "      <td>72</td>\n",
       "      <td>72</td>\n",
       "      <td>72</td>\n",
       "      <td>72</td>\n",
       "      <td>...</td>\n",
       "      <td>72</td>\n",
       "      <td>72</td>\n",
       "      <td>72</td>\n",
       "      <td>72</td>\n",
       "      <td>72</td>\n",
       "      <td>72</td>\n",
       "      <td>72</td>\n",
       "      <td>72</td>\n",
       "      <td>72</td>\n",
       "      <td>72</td>\n",
       "    </tr>\n",
       "    <tr>\n",
       "      <th>2020</th>\n",
       "      <td>16</td>\n",
       "      <td>16</td>\n",
       "      <td>16</td>\n",
       "      <td>16</td>\n",
       "      <td>16</td>\n",
       "      <td>16</td>\n",
       "      <td>16</td>\n",
       "      <td>16</td>\n",
       "      <td>16</td>\n",
       "      <td>16</td>\n",
       "      <td>...</td>\n",
       "      <td>16</td>\n",
       "      <td>16</td>\n",
       "      <td>16</td>\n",
       "      <td>16</td>\n",
       "      <td>16</td>\n",
       "      <td>16</td>\n",
       "      <td>16</td>\n",
       "      <td>16</td>\n",
       "      <td>16</td>\n",
       "      <td>16</td>\n",
       "    </tr>\n",
       "    <tr>\n",
       "      <th>2000</th>\n",
       "      <td>7</td>\n",
       "      <td>7</td>\n",
       "      <td>7</td>\n",
       "      <td>7</td>\n",
       "      <td>7</td>\n",
       "      <td>7</td>\n",
       "      <td>7</td>\n",
       "      <td>7</td>\n",
       "      <td>7</td>\n",
       "      <td>7</td>\n",
       "      <td>...</td>\n",
       "      <td>7</td>\n",
       "      <td>7</td>\n",
       "      <td>7</td>\n",
       "      <td>7</td>\n",
       "      <td>7</td>\n",
       "      <td>7</td>\n",
       "      <td>7</td>\n",
       "      <td>7</td>\n",
       "      <td>7</td>\n",
       "      <td>7</td>\n",
       "    </tr>\n",
       "    <tr>\n",
       "      <th>1980</th>\n",
       "      <td>3</td>\n",
       "      <td>3</td>\n",
       "      <td>3</td>\n",
       "      <td>3</td>\n",
       "      <td>3</td>\n",
       "      <td>3</td>\n",
       "      <td>3</td>\n",
       "      <td>3</td>\n",
       "      <td>3</td>\n",
       "      <td>3</td>\n",
       "      <td>...</td>\n",
       "      <td>3</td>\n",
       "      <td>3</td>\n",
       "      <td>3</td>\n",
       "      <td>3</td>\n",
       "      <td>3</td>\n",
       "      <td>3</td>\n",
       "      <td>3</td>\n",
       "      <td>3</td>\n",
       "      <td>3</td>\n",
       "      <td>3</td>\n",
       "    </tr>\n",
       "    <tr>\n",
       "      <th>1970</th>\n",
       "      <td>1</td>\n",
       "      <td>1</td>\n",
       "      <td>1</td>\n",
       "      <td>1</td>\n",
       "      <td>1</td>\n",
       "      <td>1</td>\n",
       "      <td>1</td>\n",
       "      <td>1</td>\n",
       "      <td>1</td>\n",
       "      <td>1</td>\n",
       "      <td>...</td>\n",
       "      <td>1</td>\n",
       "      <td>1</td>\n",
       "      <td>1</td>\n",
       "      <td>1</td>\n",
       "      <td>1</td>\n",
       "      <td>1</td>\n",
       "      <td>1</td>\n",
       "      <td>1</td>\n",
       "      <td>1</td>\n",
       "      <td>1</td>\n",
       "    </tr>\n",
       "  </tbody>\n",
       "</table>\n",
       "<p>5 rows × 26 columns</p>\n",
       "</div>"
      ],
      "text/plain": [
       "        track_id  track_name  track_artist  track_popularity  \\\n",
       "decade                                                         \n",
       "2010          72          72            72                72   \n",
       "2020          16          16            16                16   \n",
       "2000           7           7             7                 7   \n",
       "1980           3           3             3                 3   \n",
       "1970           1           1             1                 1   \n",
       "\n",
       "        track_album_name  track_album_release_year  duration_min  genres  \\\n",
       "decade                                                                     \n",
       "2010                  72                        72            72      72   \n",
       "2020                  16                        16            16      16   \n",
       "2000                   7                         7             7       7   \n",
       "1980                   3                         3             3       3   \n",
       "1970                   1                         1             1       1   \n",
       "\n",
       "        record_label  danceability  ...  instrumentalness  liveness  valence  \\\n",
       "decade                              ...                                        \n",
       "2010              72            72  ...                72        72       72   \n",
       "2020              16            16  ...                16        16       16   \n",
       "2000               7             7  ...                 7         7        7   \n",
       "1980               3             3  ...                 3         3        3   \n",
       "1970               1             1  ...                 1         1        1   \n",
       "\n",
       "        tempo  time_signature  track_id_1  artist_id  artist_name  \\\n",
       "decade                                                              \n",
       "2010       72              72          72         72           72   \n",
       "2020       16              16          16         16           16   \n",
       "2000        7               7           7          7            7   \n",
       "1980        3               3           3          3            3   \n",
       "1970        1               1           1          1            1   \n",
       "\n",
       "        artist_followers  artist_popularity  \n",
       "decade                                       \n",
       "2010                  72                 72  \n",
       "2020                  16                 16  \n",
       "2000                   7                  7  \n",
       "1980                   3                  3  \n",
       "1970                   1                  1  \n",
       "\n",
       "[5 rows x 26 columns]"
      ]
     },
     "execution_count": 30,
     "metadata": {},
     "output_type": "execute_result"
    }
   ],
   "source": [
    "grouped_by_decade = df.groupby(\"decade\").count()\n",
    "grouped_by_decade.sort_values(\"track_name\", ascending=False).head(5)"
   ]
  },
  {
   "cell_type": "code",
   "execution_count": 31,
   "metadata": {},
   "outputs": [
    {
     "data": {
      "image/png": "[encoded data removed]",
      "text/plain": [
       "<Figure size 1400x600 with 1 Axes>"
      ]
     },
     "metadata": {},
     "output_type": "display_data"
    }
   ],
   "source": [
    "plt.figure(figsize=(14, 6))\n",
    "bar_width = 3\n",
    "\n",
    "plt.bar(grouped_by_decade.index, grouped_by_decade['track_name'], width=bar_width)\n",
    "\n",
    "plt.xticks(\n",
    "    ticks=grouped_by_decade.index,\n",
    "    labels=grouped_by_decade.index,\n",
    "    rotation=45,\n",
    ")\n",
    "\n",
    "plt.xlabel('Decade')\n",
    "plt.ylabel('Number of Songs')\n",
    "plt.title('Songs per Decade')\n",
    "\n",
    "plt.tight_layout()  # Prevent label overlap\n",
    "plt.show()"
   ]
  },
  {
   "cell_type": "code",
   "execution_count": 32,
   "metadata": {
    "colab": {
     "base_uri": "https://localhost:8080/"
    },
    "id": "nkRqi4Q9LpRs",
    "outputId": "fd87dde5-1843-4685-8ca3-b78342be46f3"
   },
   "outputs": [
    {
     "name": "stdout",
     "output_type": "stream",
     "text": [
      "1978\n"
     ]
    }
   ],
   "source": [
    "print(df[\"track_album_release_year\"].min())"
   ]
  },
  {
   "cell_type": "code",
   "execution_count": 17,
   "metadata": {
    "colab": {
     "base_uri": "https://localhost:8080/",
     "height": 214
    },
    "id": "dUc1oWTmy2_H",
    "outputId": "d7c59b8b-7896-4a8f-b95e-0ec035836975"
   },
   "outputs": [
    {
     "data": {
      "text/html": [
       "<div>\n",
       "<style scoped>\n",
       "    .dataframe tbody tr th:only-of-type {\n",
       "        vertical-align: middle;\n",
       "    }\n",
       "\n",
       "    .dataframe tbody tr th {\n",
       "        vertical-align: top;\n",
       "    }\n",
       "\n",
       "    .dataframe thead th {\n",
       "        text-align: right;\n",
       "    }\n",
       "</style>\n",
       "<table border=\"1\" class=\"dataframe\">\n",
       "  <thead>\n",
       "    <tr style=\"text-align: right;\">\n",
       "      <th></th>\n",
       "      <th>track_id</th>\n",
       "      <th>track_name</th>\n",
       "      <th>track_artist</th>\n",
       "      <th>track_popularity</th>\n",
       "      <th>track_album_name</th>\n",
       "      <th>track_album_release_year</th>\n",
       "      <th>duration_min</th>\n",
       "      <th>genres</th>\n",
       "      <th>record_label</th>\n",
       "      <th>danceability</th>\n",
       "      <th>...</th>\n",
       "      <th>instrumentalness</th>\n",
       "      <th>liveness</th>\n",
       "      <th>valence</th>\n",
       "      <th>tempo</th>\n",
       "      <th>time_signature</th>\n",
       "      <th>track_id_1</th>\n",
       "      <th>artist_id</th>\n",
       "      <th>artist_name</th>\n",
       "      <th>artist_followers</th>\n",
       "      <th>artist_popularity</th>\n",
       "    </tr>\n",
       "  </thead>\n",
       "  <tbody>\n",
       "    <tr>\n",
       "      <th>51</th>\n",
       "      <td>60a0Rd6pjrkxjPbaKzXjfq</td>\n",
       "      <td>In the End</td>\n",
       "      <td>Linkin Park</td>\n",
       "      <td>87</td>\n",
       "      <td>Hybrid Theory (Bonus Edition)</td>\n",
       "      <td>1905</td>\n",
       "      <td>3.61</td>\n",
       "      <td>Rap</td>\n",
       "      <td>Warner Records</td>\n",
       "      <td>55.6</td>\n",
       "      <td>...</td>\n",
       "      <td>0.0</td>\n",
       "      <td>20.90</td>\n",
       "      <td>40.0</td>\n",
       "      <td>105</td>\n",
       "      <td>4</td>\n",
       "      <td>60a0Rd6pjrkxjPbaKzXjfq</td>\n",
       "      <td>[6XyY86QOPPrYVGvF9ch6wz]</td>\n",
       "      <td>[Linkin Park]</td>\n",
       "      <td>[27487288]</td>\n",
       "      <td>[92]</td>\n",
       "    </tr>\n",
       "    <tr>\n",
       "      <th>59</th>\n",
       "      <td>003vvx7Niy0yvhvHt4a68B</td>\n",
       "      <td>Mr. Brightside</td>\n",
       "      <td>The Killers</td>\n",
       "      <td>85</td>\n",
       "      <td>Hot Fuss</td>\n",
       "      <td>1905</td>\n",
       "      <td>3.72</td>\n",
       "      <td>Rock</td>\n",
       "      <td>Island Records</td>\n",
       "      <td>35.2</td>\n",
       "      <td>...</td>\n",
       "      <td>0.0</td>\n",
       "      <td>9.95</td>\n",
       "      <td>23.6</td>\n",
       "      <td>148</td>\n",
       "      <td>4</td>\n",
       "      <td>003vvx7Niy0yvhvHt4a68B</td>\n",
       "      <td>[0C0XlULifJtAgn6ZNCW2eu]</td>\n",
       "      <td>[The Killers]</td>\n",
       "      <td>[7543718]</td>\n",
       "      <td>[79]</td>\n",
       "    </tr>\n",
       "  </tbody>\n",
       "</table>\n",
       "<p>2 rows × 26 columns</p>\n",
       "</div>"
      ],
      "text/plain": [
       "                  track_id      track_name track_artist  track_popularity  \\\n",
       "51  60a0Rd6pjrkxjPbaKzXjfq      In the End  Linkin Park                87   \n",
       "59  003vvx7Niy0yvhvHt4a68B  Mr. Brightside  The Killers                85   \n",
       "\n",
       "                 track_album_name  track_album_release_year  duration_min  \\\n",
       "51  Hybrid Theory (Bonus Edition)                      1905          3.61   \n",
       "59                       Hot Fuss                      1905          3.72   \n",
       "\n",
       "   genres    record_label  danceability  ...  instrumentalness liveness  \\\n",
       "51    Rap  Warner Records          55.6  ...               0.0    20.90   \n",
       "59   Rock  Island Records          35.2  ...               0.0     9.95   \n",
       "\n",
       "    valence tempo  time_signature              track_id_1  \\\n",
       "51     40.0   105               4  60a0Rd6pjrkxjPbaKzXjfq   \n",
       "59     23.6   148               4  003vvx7Niy0yvhvHt4a68B   \n",
       "\n",
       "                   artist_id    artist_name  artist_followers  \\\n",
       "51  [6XyY86QOPPrYVGvF9ch6wz]  [Linkin Park]        [27487288]   \n",
       "59  [0C0XlULifJtAgn6ZNCW2eu]  [The Killers]         [7543718]   \n",
       "\n",
       "    artist_popularity  \n",
       "51               [92]  \n",
       "59               [79]  \n",
       "\n",
       "[2 rows x 26 columns]"
      ]
     },
     "execution_count": 17,
     "metadata": {},
     "output_type": "execute_result"
    }
   ],
   "source": [
    "df[df[\"track_album_release_year\"] == 1905]"
   ]
  },
  {
   "cell_type": "markdown",
   "metadata": {},
   "source": [
    "There might be a slight hiccup here 😆"
   ]
  },
  {
   "cell_type": "code",
   "execution_count": 18,
   "metadata": {
    "id": "chmAQkyX16fa"
   },
   "outputs": [],
   "source": [
    "#The Killers' Mr. Brightside was actually released in 2004, and Linkin Park's In the End, in 2000. Let's update those rows.\n",
    "\n",
    "df.loc[df[\"track_name\"] == \"Mr. Brightside\", \"track_album_release_year\"] = 2004\n",
    "df.loc[df[\"track_name\"] == \"In the End\", \"track_album_release_year\"] = 2000"
   ]
  },
  {
   "cell_type": "code",
   "execution_count": 19,
   "metadata": {
    "colab": {
     "base_uri": "https://localhost:8080/"
    },
    "id": "kc48kPJS2Xe7",
    "outputId": "2d156909-b3f9-412f-e10c-d84863acd0ed"
   },
   "outputs": [
    {
     "name": "stdout",
     "output_type": "stream",
     "text": [
      "1978\n"
     ]
    }
   ],
   "source": [
    "print(df[\"track_album_release_year\"].min())"
   ]
  },
  {
   "cell_type": "code",
   "execution_count": 20,
   "metadata": {
    "colab": {
     "base_uri": "https://localhost:8080/",
     "height": 200
    },
    "id": "jfRWOO212a6K",
    "outputId": "982e6697-5659-4177-f10f-de2202e14f2e"
   },
   "outputs": [
    {
     "data": {
      "text/html": [
       "<div>\n",
       "<style scoped>\n",
       "    .dataframe tbody tr th:only-of-type {\n",
       "        vertical-align: middle;\n",
       "    }\n",
       "\n",
       "    .dataframe tbody tr th {\n",
       "        vertical-align: top;\n",
       "    }\n",
       "\n",
       "    .dataframe thead th {\n",
       "        text-align: right;\n",
       "    }\n",
       "</style>\n",
       "<table border=\"1\" class=\"dataframe\">\n",
       "  <thead>\n",
       "    <tr style=\"text-align: right;\">\n",
       "      <th></th>\n",
       "      <th>track_id</th>\n",
       "      <th>track_name</th>\n",
       "      <th>track_artist</th>\n",
       "      <th>track_popularity</th>\n",
       "      <th>track_album_name</th>\n",
       "      <th>track_album_release_year</th>\n",
       "      <th>duration_min</th>\n",
       "      <th>genres</th>\n",
       "      <th>record_label</th>\n",
       "      <th>danceability</th>\n",
       "      <th>...</th>\n",
       "      <th>instrumentalness</th>\n",
       "      <th>liveness</th>\n",
       "      <th>valence</th>\n",
       "      <th>tempo</th>\n",
       "      <th>time_signature</th>\n",
       "      <th>track_id_1</th>\n",
       "      <th>artist_id</th>\n",
       "      <th>artist_name</th>\n",
       "      <th>artist_followers</th>\n",
       "      <th>artist_popularity</th>\n",
       "    </tr>\n",
       "  </thead>\n",
       "  <tbody>\n",
       "    <tr>\n",
       "      <th>62</th>\n",
       "      <td>5T8EDUDqKcs6OSOwEsfqG7</td>\n",
       "      <td>Don't Stop Me Now - Remastered 2011</td>\n",
       "      <td>Queen</td>\n",
       "      <td>81</td>\n",
       "      <td>Jazz (2011 Remaster)</td>\n",
       "      <td>1978</td>\n",
       "      <td>3.49</td>\n",
       "      <td>Rock</td>\n",
       "      <td>EMI</td>\n",
       "      <td>55.9</td>\n",
       "      <td>...</td>\n",
       "      <td>0.02</td>\n",
       "      <td>77.6</td>\n",
       "      <td>60.9</td>\n",
       "      <td>156</td>\n",
       "      <td>4</td>\n",
       "      <td>5T8EDUDqKcs6OSOwEsfqG7</td>\n",
       "      <td>[1dfeR4HaWDbWqFHLkxsg1d]</td>\n",
       "      <td>[Queen]</td>\n",
       "      <td>[51861948]</td>\n",
       "      <td>[86]</td>\n",
       "    </tr>\n",
       "  </tbody>\n",
       "</table>\n",
       "<p>1 rows × 26 columns</p>\n",
       "</div>"
      ],
      "text/plain": [
       "                  track_id                           track_name track_artist  \\\n",
       "62  5T8EDUDqKcs6OSOwEsfqG7  Don't Stop Me Now - Remastered 2011        Queen   \n",
       "\n",
       "    track_popularity      track_album_name  track_album_release_year  \\\n",
       "62                81  Jazz (2011 Remaster)                      1978   \n",
       "\n",
       "    duration_min genres record_label  danceability  ...  instrumentalness  \\\n",
       "62          3.49   Rock          EMI          55.9  ...              0.02   \n",
       "\n",
       "   liveness  valence tempo  time_signature              track_id_1  \\\n",
       "62     77.6     60.9   156               4  5T8EDUDqKcs6OSOwEsfqG7   \n",
       "\n",
       "                   artist_id  artist_name  artist_followers  artist_popularity  \n",
       "62  [1dfeR4HaWDbWqFHLkxsg1d]      [Queen]        [51861948]               [86]  \n",
       "\n",
       "[1 rows x 26 columns]"
      ]
     },
     "execution_count": 20,
     "metadata": {},
     "output_type": "execute_result"
    }
   ],
   "source": [
    "df[df[\"track_album_release_year\"] == 1978]"
   ]
  },
  {
   "cell_type": "code",
   "execution_count": 21,
   "metadata": {
    "colab": {
     "base_uri": "https://localhost:8080/"
    },
    "id": "Y-THWEjoLyF-",
    "outputId": "4e395a51-6d27-4309-c8f4-061105fcd976"
   },
   "outputs": [
    {
     "name": "stdout",
     "output_type": "stream",
     "text": [
      "2023\n"
     ]
    }
   ],
   "source": [
    "print(df[\"track_album_release_year\"].max())"
   ]
  },
  {
   "cell_type": "code",
   "execution_count": 22,
   "metadata": {
    "colab": {
     "base_uri": "https://localhost:8080/",
     "height": 165
    },
    "id": "Z3wG4_PR2mlJ",
    "outputId": "556d27d5-d667-4b39-8979-74de05d279f7"
   },
   "outputs": [
    {
     "data": {
      "text/html": [
       "<div>\n",
       "<style scoped>\n",
       "    .dataframe tbody tr th:only-of-type {\n",
       "        vertical-align: middle;\n",
       "    }\n",
       "\n",
       "    .dataframe tbody tr th {\n",
       "        vertical-align: top;\n",
       "    }\n",
       "\n",
       "    .dataframe thead th {\n",
       "        text-align: right;\n",
       "    }\n",
       "</style>\n",
       "<table border=\"1\" class=\"dataframe\">\n",
       "  <thead>\n",
       "    <tr style=\"text-align: right;\">\n",
       "      <th></th>\n",
       "      <th>track_id</th>\n",
       "      <th>track_name</th>\n",
       "      <th>track_artist</th>\n",
       "      <th>track_popularity</th>\n",
       "      <th>track_album_name</th>\n",
       "      <th>track_album_release_year</th>\n",
       "      <th>duration_min</th>\n",
       "      <th>genres</th>\n",
       "      <th>record_label</th>\n",
       "      <th>danceability</th>\n",
       "      <th>...</th>\n",
       "      <th>instrumentalness</th>\n",
       "      <th>liveness</th>\n",
       "      <th>valence</th>\n",
       "      <th>tempo</th>\n",
       "      <th>time_signature</th>\n",
       "      <th>track_id_1</th>\n",
       "      <th>artist_id</th>\n",
       "      <th>artist_name</th>\n",
       "      <th>artist_followers</th>\n",
       "      <th>artist_popularity</th>\n",
       "    </tr>\n",
       "  </thead>\n",
       "  <tbody>\n",
       "    <tr>\n",
       "      <th>23</th>\n",
       "      <td>7DSAEUvxU8FajXtRloy8M0</td>\n",
       "      <td>Flowers</td>\n",
       "      <td>Miley Cyrus</td>\n",
       "      <td>87</td>\n",
       "      <td>Endless Summer Vacation</td>\n",
       "      <td>2023</td>\n",
       "      <td>3.34</td>\n",
       "      <td>Pop</td>\n",
       "      <td>Columbia</td>\n",
       "      <td>70.6</td>\n",
       "      <td>...</td>\n",
       "      <td>0.01</td>\n",
       "      <td>2.32</td>\n",
       "      <td>63.2</td>\n",
       "      <td>118</td>\n",
       "      <td>4</td>\n",
       "      <td>7DSAEUvxU8FajXtRloy8M0</td>\n",
       "      <td>[5YGY8feqx7naU7z4HrwZM6]</td>\n",
       "      <td>[Miley Cyrus]</td>\n",
       "      <td>[25024026]</td>\n",
       "      <td>[84]</td>\n",
       "    </tr>\n",
       "  </tbody>\n",
       "</table>\n",
       "<p>1 rows × 26 columns</p>\n",
       "</div>"
      ],
      "text/plain": [
       "                  track_id track_name track_artist  track_popularity  \\\n",
       "23  7DSAEUvxU8FajXtRloy8M0    Flowers  Miley Cyrus                87   \n",
       "\n",
       "           track_album_name  track_album_release_year  duration_min genres  \\\n",
       "23  Endless Summer Vacation                      2023          3.34    Pop   \n",
       "\n",
       "   record_label  danceability  ...  instrumentalness liveness  valence tempo  \\\n",
       "23     Columbia          70.6  ...              0.01     2.32     63.2   118   \n",
       "\n",
       "    time_signature              track_id_1                 artist_id  \\\n",
       "23               4  7DSAEUvxU8FajXtRloy8M0  [5YGY8feqx7naU7z4HrwZM6]   \n",
       "\n",
       "      artist_name  artist_followers  artist_popularity  \n",
       "23  [Miley Cyrus]        [25024026]               [84]  \n",
       "\n",
       "[1 rows x 26 columns]"
      ]
     },
     "execution_count": 22,
     "metadata": {},
     "output_type": "execute_result"
    }
   ],
   "source": [
    "df[df[\"track_album_release_year\"] == 2023]"
   ]
  },
  {
   "cell_type": "markdown",
   "metadata": {
    "id": "JpueOL7lo-Oj"
   },
   "source": [
    "##Popularity"
   ]
  },
  {
   "cell_type": "code",
   "execution_count": 23,
   "metadata": {
    "colab": {
     "base_uri": "https://localhost:8080/",
     "height": 743
    },
    "id": "YAVIJ16rpBQh",
    "outputId": "52e2ad48-2424-4e6b-e82a-7abc77a2a024"
   },
   "outputs": [
    {
     "data": {
      "text/plain": [
       "track_name\n",
       "I Wanna Be Yours            90.0\n",
       "Sweater Weather             90.0\n",
       "Cruel Summer                89.0\n",
       "The Night We Met            88.0\n",
       "Yellow                      88.0\n",
       "Flowers                     87.0\n",
       "When I Was Your Man         87.0\n",
       "Locked out of Heaven        87.0\n",
       "In the End                  87.0\n",
       "As It Was                   87.0\n",
       "Blinding Lights             87.0\n",
       "Starboy                     87.0\n",
       "Someone You Loved           86.0\n",
       "Something Just Like This    86.0\n",
       "Another Love                86.0\n",
       "Every Breath You Take       86.0\n",
       "goosebumps                  86.0\n",
       "That's What I Like          86.0\n",
       "lovely (with Khalid)        86.0\n",
       "Viva La Vida                86.0\n",
       "Name: track_popularity, dtype: float64"
      ]
     },
     "execution_count": 23,
     "metadata": {},
     "output_type": "execute_result"
    }
   ],
   "source": [
    "track_popularity = df.groupby(\"track_name\")[\"track_popularity\"].mean()\n",
    "track_popularity.sort_values(ascending=False).head(20)"
   ]
  },
  {
   "cell_type": "code",
   "execution_count": 38,
   "metadata": {},
   "outputs": [
    {
     "name": "stdout",
     "output_type": "stream",
     "text": [
      "81.04545454545455\n"
     ]
    }
   ],
   "source": [
    "print(track_popularity.mean())"
   ]
  },
  {
   "cell_type": "code",
   "execution_count": 24,
   "metadata": {
    "colab": {
     "base_uri": "https://localhost:8080/"
    },
    "id": "LKAxnQDFqwU8",
    "outputId": "db661800-47f5-420f-c1c6-78d1b35758f7"
   },
   "outputs": [
    {
     "name": "stdout",
     "output_type": "stream",
     "text": [
      "Average track popularity:  81.05\n",
      "Median track popularity:  82.0\n",
      "Max track popularity:  90.0\n",
      "Min track popularity:  52.0\n"
     ]
    }
   ],
   "source": [
    "print(\"Average track popularity: \", round(track_popularity.mean(),2))\n",
    "print(\"Median track popularity: \", track_popularity.median())\n",
    "print(\"Max track popularity: \", track_popularity.max())\n",
    "print(\"Min track popularity: \", track_popularity.min())"
   ]
  },
  {
   "cell_type": "code",
   "execution_count": 33,
   "metadata": {},
   "outputs": [],
   "source": [
    "df[\"artist_pop_mean\"]=df[\"artist_popularity\"].map(lambda x : np.mean(x))"
   ]
  },
  {
   "cell_type": "code",
   "execution_count": 34,
   "metadata": {},
   "outputs": [
    {
     "data": {
      "text/plain": [
       "track_artist\n",
       "Taylor Swift     100.0\n",
       "Bruno Mars        96.0\n",
       "Drake             96.0\n",
       "Billie Eilish     96.0\n",
       "The Weeknd        96.0\n",
       "Name: artist_pop_mean, dtype: float64"
      ]
     },
     "execution_count": 34,
     "metadata": {},
     "output_type": "execute_result"
    }
   ],
   "source": [
    "artist_popularity = df.groupby(\"track_artist\")[\"artist_pop_mean\"].mean()\n",
    "artist_popularity.sort_values(ascending=False).head(5)"
   ]
  },
  {
   "cell_type": "code",
   "execution_count": 47,
   "metadata": {},
   "outputs": [
    {
     "name": "stdout",
     "output_type": "stream",
     "text": [
      "86.3\n"
     ]
    }
   ],
   "source": [
    "print(round(df[\"artist_pop_mean\"].mean(),2))"
   ]
  },
  {
   "cell_type": "code",
   "execution_count": 35,
   "metadata": {},
   "outputs": [],
   "source": [
    "df[\"artist_flwrs_mean\"]=df[\"artist_followers\"].map(lambda x : np.mean(x))"
   ]
  },
  {
   "cell_type": "code",
   "execution_count": 36,
   "metadata": {},
   "outputs": [
    {
     "data": {
      "text/plain": [
       "track_artist\n",
       "Taylor Swift     125722435.0\n",
       "Ed Sheeran       117121257.0\n",
       "Billie Eilish    102057941.0\n",
       "Ariana Grande    100973915.0\n",
       "The Weeknd        94260543.0\n",
       "Name: artist_flwrs_mean, dtype: float64"
      ]
     },
     "execution_count": 36,
     "metadata": {},
     "output_type": "execute_result"
    }
   ],
   "source": [
    "artist_followers = df.groupby(\"track_artist\")[\"artist_flwrs_mean\"].mean()\n",
    "artist_followers.sort_values(ascending=False).head(5)"
   ]
  },
  {
   "cell_type": "code",
   "execution_count": 44,
   "metadata": {},
   "outputs": [
    {
     "name": "stdout",
     "output_type": "stream",
     "text": [
      "41264419\n"
     ]
    }
   ],
   "source": [
    "print(int(df[\"artist_flwrs_mean\"].mean()))"
   ]
  },
  {
   "cell_type": "markdown",
   "metadata": {
    "id": "T0FvVqvcTx_s"
   },
   "source": [
    "##Track Duration"
   ]
  },
  {
   "cell_type": "code",
   "execution_count": 49,
   "metadata": {
    "colab": {
     "base_uri": "https://localhost:8080/"
    },
    "id": "uaxxLcTZMydZ",
    "outputId": "bec47814-3579-4a46-d192-c8a03f0de3da"
   },
   "outputs": [
    {
     "name": "stdout",
     "output_type": "stream",
     "text": [
      "Average track duration:  3.71\n",
      "Median track duration:  3.585\n",
      "Max track duration:  5.92\n",
      "Min track duration:  1.99\n"
     ]
    }
   ],
   "source": [
    "print(\"Average track duration: \", round(df[\"duration_min\"].mean(),2))\n",
    "print(\"Median track duration: \", df[\"duration_min\"].median())\n",
    "print(\"Max track duration: \", df[\"duration_min\"].max())\n",
    "print(\"Min track duration: \", df[\"duration_min\"].min())"
   ]
  },
  {
   "cell_type": "code",
   "execution_count": 50,
   "metadata": {
    "colab": {
     "base_uri": "https://localhost:8080/",
     "height": 564
    },
    "id": "4EMsK0EgUNyt",
    "outputId": "2a7a783b-2d3d-4a7f-c585-a22b90ce1b3d"
   },
   "outputs": [
    {
     "data": {
      "image/png": "[encoded data removed]",
      "text/plain": [
       "<Figure size 1000x600 with 1 Axes>"
      ]
     },
     "metadata": {},
     "output_type": "display_data"
    }
   ],
   "source": [
    "#histogram of duration of songs\n",
    "plt.figure(figsize=(10, 6))\n",
    "plt.hist(df['duration_min'], bins=30, color='#1f77b4')\n",
    "plt.xlabel('Duration (min)')\n",
    "plt.ylabel('Frequency')\n",
    "plt.title('Distribution of Song Durations')\n",
    "plt.show()"
   ]
  },
  {
   "cell_type": "markdown",
   "metadata": {
    "id": "igZP53pIVGIB"
   },
   "source": [
    "##Music & sonic Features"
   ]
  },
  {
   "cell_type": "code",
   "execution_count": 51,
   "metadata": {
    "colab": {
     "base_uri": "https://localhost:8080/"
    },
    "id": "39FQoRnhMJJ6",
    "outputId": "12e7acd0-5141-4c88-8ec5-b5fb7a24f8c0"
   },
   "outputs": [
    {
     "name": "stdout",
     "output_type": "stream",
     "text": [
      "Average track danceability:  63.81\n",
      "Median Track danceability:  63.25\n",
      "Max track danceability:  90.8\n",
      "Min track danceability:  35.1\n"
     ]
    }
   ],
   "source": [
    "#In comparison, Obama playlists' average danceability is 63.65% -- almost identical!\n",
    "print(\"Average track danceability: \", round(df[\"danceability\"].mean(),2))\n",
    "print(\"Median Track danceability: \", round(df[\"danceability\"].median(),2))\n",
    "print(\"Max track danceability: \", round(df[\"danceability\"].max(),2))\n",
    "print(\"Min track danceability: \", round(df[\"danceability\"].min(),2))\n"
   ]
  },
  {
   "cell_type": "code",
   "execution_count": 53,
   "metadata": {
    "colab": {
     "base_uri": "https://localhost:8080/"
    },
    "id": "dryB7zZI1ot6",
    "outputId": "844ed5db-8008-4d2f-a226-e25abca44140"
   },
   "outputs": [
    {
     "name": "stdout",
     "output_type": "stream",
     "text": [
      "Average track energy:  62.74\n",
      "Max track energy:  92.2\n",
      "Min track energy:  26.4\n"
     ]
    }
   ],
   "source": [
    "#In comparison, Obama playlists' average energy is xxx.\n",
    "print(\"Average track energy: \", round(df[\"energy\"].mean(),2))\n",
    "#print(\"Median Track energy: \", round(df[\"energy\"].median(),2))\n",
    "print(\"Max track energy: \", round(df[\"energy\"].max(),2))\n",
    "print(\"Min track energy: \", round(df[\"energy\"].min(),2))"
   ]
  },
  {
   "cell_type": "code",
   "execution_count": 54,
   "metadata": {
    "colab": {
     "base_uri": "https://localhost:8080/"
    },
    "id": "3kfV8iQQMSpe",
    "outputId": "3ea7e467-dd67-4f3b-dc5d-ddeb93ea0810"
   },
   "outputs": [
    {
     "name": "stdout",
     "output_type": "stream",
     "text": [
      "Average track loudness:  -6.2\n",
      "Max track loudness:  -2.28\n",
      "Min track loudness:  -10.96\n"
     ]
    }
   ],
   "source": [
    "#In comparison, Obama playlists' average loudness is -8.2: here, the difference shows there are more \"non-commercial\" songs in Obama's playlists.\n",
    "print(\"Average track loudness: \", round(df[\"loudness\"].mean(),2))\n",
    "#print(\"Median Track loudness: \", round(df[\"loudness\"].median(),2))\n",
    "print(\"Max track loudness: \", round(df[\"loudness\"].max(),2))\n",
    "print(\"Min track loudness: \", round(df[\"loudness\"].min(),2))"
   ]
  },
  {
   "cell_type": "code",
   "execution_count": 55,
   "metadata": {
    "colab": {
     "base_uri": "https://localhost:8080/"
    },
    "id": "JCrs7T-XMYTc",
    "outputId": "78dac0aa-5f57-44c0-ed13-39d55834ec5d"
   },
   "outputs": [
    {
     "name": "stdout",
     "output_type": "stream",
     "text": [
      "Average track valence:  48.91\n",
      "Max track valence:  96.9\n",
      "Min track valence:  5.9\n"
     ]
    }
   ],
   "source": [
    "#In comparison, Obama playlists exhibits a slightly happier feeling, with an average valence of 55%.\n",
    "print(\"Average track valence: \", round(df[\"valence\"].mean(),2))\n",
    "#print(\"Median Track valence: \", round(df[\"valence\"].median(),2))\n",
    "print(\"Max track valence: \", round(df[\"valence\"].max(),2))\n",
    "print(\"Min track valence: \", round(df[\"valence\"].min(),2))"
   ]
  },
  {
   "cell_type": "code",
   "execution_count": 56,
   "metadata": {
    "colab": {
     "base_uri": "https://localhost:8080/"
    },
    "id": "1S94FhOlGSzT",
    "outputId": "04926d63-e8cc-48d6-d13c-a1815bb0df41"
   },
   "outputs": [
    {
     "name": "stdout",
     "output_type": "stream",
     "text": [
      "Average track liveness:  16.1\n",
      "Max track liveness:  77.6\n",
      "Min track liveness:  2.32\n"
     ]
    }
   ],
   "source": [
    "print(\"Average track liveness: \", round(df[\"liveness\"].mean(),2))\n",
    "#print(\"Median Track liveness: \", round(df[\"liveness\"].median(),2))\n",
    "print(\"Max track liveness: \", round(df[\"liveness\"].max(),2))\n",
    "print(\"Min track liveness: \", round(df[\"liveness\"].min(),2))"
   ]
  },
  {
   "cell_type": "code",
   "execution_count": 57,
   "metadata": {
    "colab": {
     "base_uri": "https://localhost:8080/"
    },
    "id": "JuH28GAxGVLP",
    "outputId": "ab574cca-c840-4a1c-a66c-d4ca5eec29e5"
   },
   "outputs": [
    {
     "name": "stdout",
     "output_type": "stream",
     "text": [
      "Average track speechiness:  8.59\n",
      "Max track speechiness:  43.8\n",
      "Min track speechiness:  2.32\n"
     ]
    }
   ],
   "source": [
    "print(\"Average track speechiness: \", round(df[\"speechiness\"].mean(),2))\n",
    "#print(\"Median Track speechiness: \", round(df[\"speechiness\"].median(),2))\n",
    "print(\"Max track speechiness: \", round(df[\"speechiness\"].max(),2))\n",
    "print(\"Min track speechiness: \", round(df[\"speechiness\"].min(),2))"
   ]
  },
  {
   "cell_type": "code",
   "execution_count": 58,
   "metadata": {
    "colab": {
     "base_uri": "https://localhost:8080/",
     "height": 178
    },
    "id": "003GD_BdMcMu",
    "outputId": "fefcb1fa-c9b1-47d6-f29a-30a194821a7b"
   },
   "outputs": [
    {
     "name": "stdout",
     "output_type": "stream",
     "text": [
      "time_signature\n",
      "4    98\n",
      "3     2\n",
      "Name: count, dtype: int64\n"
     ]
    }
   ],
   "source": [
    "#An overwhelming maority of 4/4 songs, which is to be expected with most streamed songs!\n",
    "print(df[\"time_signature\"].value_counts())"
   ]
  },
  {
   "cell_type": "code",
   "execution_count": 59,
   "metadata": {
    "colab": {
     "base_uri": "https://localhost:8080/",
     "height": 178
    },
    "id": "lbqH79qsMlKJ",
    "outputId": "148898b1-ab2a-4a85-f147-f8ae642670d9"
   },
   "outputs": [
    {
     "data": {
      "text/plain": [
       "mode\n",
       "Major    65\n",
       "Minor    35\n",
       "Name: count, dtype: int64"
      ]
     },
     "execution_count": 59,
     "metadata": {},
     "output_type": "execute_result"
    }
   ],
   "source": [
    "df[\"mode\"].value_counts()"
   ]
  },
  {
   "cell_type": "code",
   "execution_count": 60,
   "metadata": {
    "colab": {
     "base_uri": "https://localhost:8080/",
     "height": 672
    },
    "id": "3Wx6OBVuVZsw",
    "outputId": "35be2ecd-d24b-4e3c-898b-dfa4480ac399"
   },
   "outputs": [
    {
     "data": {
      "image/png": "[encoded data removed]",
      "text/plain": [
       "<Figure size 2000x2000 with 9 Axes>"
      ]
     },
     "metadata": {},
     "output_type": "display_data"
    }
   ],
   "source": [
    "plt.figure(figsize=(20,20))\n",
    "\n",
    "for i,category in enumerate(['danceability', 'energy', 'loudness', 'speechiness', 'instrumentalness', 'acousticness', 'liveness', 'valence', 'tempo']):\n",
    "    plt.subplot(3, 3, i+1)\n",
    "    plt.hist(df[category], bins=30)\n",
    "    plt.text(plt.xlim()[1] - (plt.xlim()[1] - plt.xlim()[0])*0.3,\n",
    "                plt.ylim()[1]*0.9, r'$\\mu=$'+str(df[category].mean())[:7], fontsize=12)\n",
    "    plt.xlabel('Value')\n",
    "    plt.ylabel('Num Tracks')\n",
    "    plt.title(category)\n",
    "\n",
    "plt.tight_layout(h_pad=2)"
   ]
  },
  {
   "cell_type": "code",
   "execution_count": 61,
   "metadata": {
    "colab": {
     "base_uri": "https://localhost:8080/",
     "height": 188
    },
    "id": "6aYx1areXcrm",
    "outputId": "37c6f392-a606-4cc8-8f35-3fb42d493245"
   },
   "outputs": [
    {
     "data": {
      "image/png": "[encoded data removed]",
      "text/plain": [
       "<Figure size 1500x400 with 3 Axes>"
      ]
     },
     "metadata": {},
     "output_type": "display_data"
    }
   ],
   "source": [
    "plt.figure(figsize=(15, 4))\n",
    "\n",
    "plt.subplot(1, 3, 1)\n",
    "sns.countplot(df, x='time_signature', hue='time_signature', legend=False)\n",
    "plt.xlabel('Beats per measure')\n",
    "plt.ylabel('Num Tracks')\n",
    "plt.title('Time Signature')\n",
    "\n",
    "plt.subplot(1, 3, 2)\n",
    "sns.countplot(df, x='key_name', hue='key_name', palette='flare', legend=False)\n",
    "plt.xticks(ticks=plt.xticks()[0], labels=['C', 'C#', 'D', 'D#', 'E', 'F', 'F#', 'G', 'G#', 'A', 'A#', 'B'])\n",
    "plt.ylabel('Num Tracks')\n",
    "plt.title('key_name')\n",
    "\n",
    "plt.subplot(1, 3, 3)\n",
    "sns.countplot(df, x='mode', hue='mode', legend=False)\n",
    "plt.xticks(ticks=plt.xticks()[0], labels=['Major', 'minor'])\n",
    "plt.ylabel('Num Tracks')\n",
    "plt.title('Major vs Minor Key')\n",
    "\n",
    "plt.tight_layout(w_pad=2)\n",
    "plt.show()"
   ]
  }
 ],
 "metadata": {
  "colab": {
   "provenance": []
  },
  "kernelspec": {
   "display_name": "Python 3",
   "name": "python3"
  },
  "language_info": {
   "codemirror_mode": {
    "name": "ipython",
    "version": 3
   },
   "file_extension": ".py",
   "mimetype": "text/x-python",
   "name": "python",
   "nbconvert_exporter": "python",
   "pygments_lexer": "ipython3",
   "version": "3.13.0"
  }
 },
 "nbformat": 4,
 "nbformat_minor": 0
}
