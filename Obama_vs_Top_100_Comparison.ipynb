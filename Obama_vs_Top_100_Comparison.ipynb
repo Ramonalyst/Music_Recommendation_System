{
  "nbformat": 4,
  "nbformat_minor": 0,
  "metadata": {
    "colab": {
      "provenance": []
    },
    "kernelspec": {
      "name": "python3",
      "display_name": "Python 3"
    },
    "language_info": {
      "name": "python"
    }
  },
  "cells": [
    {
      "cell_type": "markdown",
      "source": [
        "# Loading the data"
      ],
      "metadata": {
        "id": "waHsB5RZqs0L"
      }
    },
    {
      "cell_type": "code",
      "source": [
        "import pandas as pd\n",
        "import plotly.express as px\n",
        "from plotly.subplots import make_subplots"
      ],
      "metadata": {
        "id": "epP_jTQ6toQx"
      },
      "execution_count": 1,
      "outputs": []
    },
    {
      "cell_type": "code",
      "source": [
        "import matplotlib.pyplot as plt\n",
        "import numpy as np\n",
        "import seaborn as sns"
      ],
      "metadata": {
        "id": "n_1IsNjLcTmo"
      },
      "execution_count": 2,
      "outputs": []
    },
    {
      "cell_type": "code",
      "source": [
        "df_top_100 = pd.read_csv(\"/content/2024_spotify_top_100_cleaned.csv\")\n",
        "df_obama = pd.read_csv(\"/content/barack_obamas_playlist_2019-2023_clean_enriched.csv\")"
      ],
      "metadata": {
        "id": "WT-EbCKztub6"
      },
      "execution_count": 28,
      "outputs": []
    },
    {
      "cell_type": "markdown",
      "source": [
        "#Data Exploration"
      ],
      "metadata": {
        "id": "v0XCv4gYtqpn"
      }
    },
    {
      "cell_type": "code",
      "source": [
        "print(\"Spotify's top 100 streamed songs' dataframe has\", df_top_100.shape[0], \"songs and\", df_top_100.shape[1], \"attributes.\")\n",
        "print()\n",
        "print(\"Obama's playlists' dataframe shape has\",df_obama.shape[0], \"songs and\", df_obama.shape[1], \"attributes.\")"
      ],
      "metadata": {
        "colab": {
          "base_uri": "https://localhost:8080/"
        },
        "id": "XY_hQd2F0j_D",
        "outputId": "9dbcfa4b-c60f-49fc-a7be-166c0ad86fc5"
      },
      "execution_count": 52,
      "outputs": [
        {
          "output_type": "stream",
          "name": "stdout",
          "text": [
            "Spotify's top 100 streamed songs' dataframe has 100 songs and 21 attributes.\n",
            "\n",
            "Obama's playlists' dataframe shape has 257 songs and 25 attributes.\n"
          ]
        }
      ]
    },
    {
      "cell_type": "code",
      "source": [
        "df_obama.info()"
      ],
      "metadata": {
        "colab": {
          "base_uri": "https://localhost:8080/"
        },
        "id": "ghwD-XvbICPh",
        "outputId": "8e6e8688-a83c-4ace-eeca-f101fab765cc",
        "collapsed": true
      },
      "execution_count": 53,
      "outputs": [
        {
          "output_type": "stream",
          "name": "stdout",
          "text": [
            "<class 'pandas.core.frame.DataFrame'>\n",
            "RangeIndex: 257 entries, 0 to 256\n",
            "Data columns (total 25 columns):\n",
            " #   Column                    Non-Null Count  Dtype  \n",
            "---  ------                    --------------  -----  \n",
            " 0   track_id                  257 non-null    object \n",
            " 1   track_name                257 non-null    object \n",
            " 2   track_album_name          257 non-null    object \n",
            " 3   track_artist              257 non-null    object \n",
            " 4   artist_id                 257 non-null    object \n",
            " 5   artist_followers          257 non-null    int64  \n",
            " 6   artist_popularity         257 non-null    int64  \n",
            " 7   artist_gender             213 non-null    object \n",
            " 8   track_album_release_year  257 non-null    object \n",
            " 9   duration_min              257 non-null    object \n",
            " 10  track_popularity          257 non-null    int64  \n",
            " 11  genres                    257 non-null    object \n",
            " 12  record_label              257 non-null    object \n",
            " 13  danceability              257 non-null    float64\n",
            " 14  energy                    257 non-null    float64\n",
            " 15  key                       257 non-null    object \n",
            " 16  loudness                  257 non-null    float64\n",
            " 17  mode                      257 non-null    object \n",
            " 18  speechiness               257 non-null    float64\n",
            " 19  acousticness              257 non-null    float64\n",
            " 20  instrumentalness          257 non-null    float64\n",
            " 21  liveness                  257 non-null    float64\n",
            " 22  valence                   257 non-null    float64\n",
            " 23  tempo                     257 non-null    int64  \n",
            " 24  time_signature            257 non-null    int64  \n",
            "dtypes: float64(8), int64(5), object(12)\n",
            "memory usage: 50.3+ KB\n"
          ]
        }
      ]
    },
    {
      "cell_type": "code",
      "source": [
        "df_top_100.info()"
      ],
      "metadata": {
        "colab": {
          "base_uri": "https://localhost:8080/"
        },
        "id": "0XvrmT8vwgY-",
        "outputId": "2cc5c128-848e-4394-d0fb-137ef67bef96"
      },
      "execution_count": 54,
      "outputs": [
        {
          "output_type": "stream",
          "name": "stdout",
          "text": [
            "<class 'pandas.core.frame.DataFrame'>\n",
            "RangeIndex: 100 entries, 0 to 99\n",
            "Data columns (total 21 columns):\n",
            " #   Column                    Non-Null Count  Dtype  \n",
            "---  ------                    --------------  -----  \n",
            " 0   track_id                  100 non-null    object \n",
            " 1   track_name                100 non-null    object \n",
            " 2   track_artist              100 non-null    object \n",
            " 3   track_popularity          100 non-null    int64  \n",
            " 4   track_album_name          100 non-null    object \n",
            " 5   track_album_release_year  100 non-null    int64  \n",
            " 6   duration_min              100 non-null    float64\n",
            " 7   genres                    100 non-null    object \n",
            " 8   record_label              100 non-null    object \n",
            " 9   danceability              100 non-null    float64\n",
            " 10  energy                    100 non-null    float64\n",
            " 11  key_name                  100 non-null    object \n",
            " 12  loudness                  100 non-null    float64\n",
            " 13  mode                      100 non-null    object \n",
            " 14  speechiness               100 non-null    float64\n",
            " 15  acousticness              100 non-null    float64\n",
            " 16  instrumentalness          100 non-null    float64\n",
            " 17  liveness                  100 non-null    float64\n",
            " 18  valence                   100 non-null    float64\n",
            " 19  tempo                     100 non-null    float64\n",
            " 20  time_signature            100 non-null    int64  \n",
            "dtypes: float64(10), int64(3), object(8)\n",
            "memory usage: 16.5+ KB\n"
          ]
        }
      ]
    },
    {
      "cell_type": "markdown",
      "source": [
        "#Data cleaning"
      ],
      "metadata": {
        "id": "yRNv9tACuaV6"
      }
    },
    {
      "cell_type": "code",
      "source": [
        "for feature in [\"valence\", \"danceability\", \"loudness\", \"energy\", \"acousticness\", \"instrumentalness\", \"liveness\", \"speechiness\"]:\n",
        "  df_obama[feature] = df_obama[feature].str.replace(',', '.').astype(float)"
      ],
      "metadata": {
        "id": "96pxLeHeDtmT"
      },
      "execution_count": 29,
      "outputs": []
    },
    {
      "cell_type": "code",
      "source": [
        "for feature in [\"valence\", \"danceability\", \"energy\", \"acousticness\", \"instrumentalness\", \"liveness\", \"speechiness\"]:\n",
        "  df_top_100[feature] = df_top_100[feature].str.replace('%', '').astype(float)"
      ],
      "metadata": {
        "id": "6PAZqRTOwBd9"
      },
      "execution_count": 30,
      "outputs": []
    },
    {
      "cell_type": "code",
      "source": [
        "df_obama[\"track_album_release_year\"] = df_obama[\"track_album_release_year\"].str.replace(r'\\D', '', regex=True).astype(int)"
      ],
      "metadata": {
        "id": "9O_OEZksL0Ja"
      },
      "execution_count": 55,
      "outputs": []
    },
    {
      "cell_type": "code",
      "source": [
        "df_obama[\"duration_min\"] = df_obama[\"duration_min\"].str.replace(',', '.').astype(float)"
      ],
      "metadata": {
        "id": "8nIZNTP5OtJE"
      },
      "execution_count": 88,
      "outputs": []
    },
    {
      "cell_type": "code",
      "source": [
        "df_top_100.info()"
      ],
      "metadata": {
        "colab": {
          "base_uri": "https://localhost:8080/"
        },
        "id": "xbw2qLLJtGlF",
        "outputId": "2479094f-d822-48c5-888a-79269516af6e",
        "collapsed": true
      },
      "execution_count": 21,
      "outputs": [
        {
          "output_type": "stream",
          "name": "stdout",
          "text": [
            "<class 'pandas.core.frame.DataFrame'>\n",
            "RangeIndex: 100 entries, 0 to 99\n",
            "Data columns (total 21 columns):\n",
            " #   Column                    Non-Null Count  Dtype  \n",
            "---  ------                    --------------  -----  \n",
            " 0   track_id                  100 non-null    object \n",
            " 1   track_name                100 non-null    object \n",
            " 2   track_artist              100 non-null    object \n",
            " 3   track_popularity          100 non-null    int64  \n",
            " 4   track_album_name          100 non-null    object \n",
            " 5   track_album_release_year  100 non-null    int64  \n",
            " 6   duration_min              100 non-null    float64\n",
            " 7   genres                    100 non-null    object \n",
            " 8   record_label              100 non-null    object \n",
            " 9   danceability              100 non-null    float64\n",
            " 10  energy                    100 non-null    float64\n",
            " 11  key_name                  100 non-null    object \n",
            " 12  loudness                  100 non-null    float64\n",
            " 13  mode                      100 non-null    object \n",
            " 14  speechiness               100 non-null    float64\n",
            " 15  acousticness              100 non-null    float64\n",
            " 16  instrumentalness          100 non-null    float64\n",
            " 17  liveness                  100 non-null    float64\n",
            " 18  valence                   100 non-null    float64\n",
            " 19  tempo                     100 non-null    float64\n",
            " 20  time_signature            100 non-null    int64  \n",
            "dtypes: float64(10), int64(3), object(8)\n",
            "memory usage: 16.5+ KB\n"
          ]
        }
      ]
    },
    {
      "cell_type": "code",
      "source": [
        "df_obama.info()"
      ],
      "metadata": {
        "colab": {
          "base_uri": "https://localhost:8080/"
        },
        "id": "3IeaujdgwOF5",
        "outputId": "dda3bd78-a9c4-4364-af02-01d7c34e2f33"
      },
      "execution_count": 89,
      "outputs": [
        {
          "output_type": "stream",
          "name": "stdout",
          "text": [
            "<class 'pandas.core.frame.DataFrame'>\n",
            "RangeIndex: 257 entries, 0 to 256\n",
            "Data columns (total 25 columns):\n",
            " #   Column                    Non-Null Count  Dtype  \n",
            "---  ------                    --------------  -----  \n",
            " 0   track_id                  257 non-null    object \n",
            " 1   track_name                257 non-null    object \n",
            " 2   track_album_name          257 non-null    object \n",
            " 3   track_artist              257 non-null    object \n",
            " 4   artist_id                 257 non-null    object \n",
            " 5   artist_followers          257 non-null    int64  \n",
            " 6   artist_popularity         257 non-null    int64  \n",
            " 7   artist_gender             213 non-null    object \n",
            " 8   track_album_release_year  257 non-null    int64  \n",
            " 9   duration_min              257 non-null    float64\n",
            " 10  track_popularity          257 non-null    int64  \n",
            " 11  genres                    257 non-null    object \n",
            " 12  record_label              257 non-null    object \n",
            " 13  danceability              257 non-null    float64\n",
            " 14  energy                    257 non-null    float64\n",
            " 15  key                       257 non-null    object \n",
            " 16  loudness                  257 non-null    float64\n",
            " 17  mode                      257 non-null    object \n",
            " 18  speechiness               257 non-null    float64\n",
            " 19  acousticness              257 non-null    float64\n",
            " 20  instrumentalness          257 non-null    float64\n",
            " 21  liveness                  257 non-null    float64\n",
            " 22  valence                   257 non-null    float64\n",
            " 23  tempo                     257 non-null    int64  \n",
            " 24  time_signature            257 non-null    int64  \n",
            "dtypes: float64(9), int64(6), object(10)\n",
            "memory usage: 50.3+ KB\n"
          ]
        }
      ]
    },
    {
      "cell_type": "markdown",
      "source": [
        "#Musical features Exploration"
      ],
      "metadata": {
        "id": "2JywzIRgqpfG"
      }
    },
    {
      "cell_type": "markdown",
      "source": [
        "\n",
        "##Genres comparison"
      ],
      "metadata": {
        "id": "XOorLCycKc7_"
      }
    },
    {
      "cell_type": "code",
      "source": [
        "# Compute the sorted counts for the first DataFrame\n",
        "sorted_counts_obama = df_obama[\"genres\"].value_counts().sort_values(ascending=False)\n",
        "sorted_genres_obama = sorted_counts_obama.index.tolist()\n",
        "\n",
        "# Compute the sorted counts for the second DataFrame\n",
        "sorted_counts_top_100 = df_top_100[\"genres\"].value_counts().sort_values(ascending=False)\n",
        "sorted_genres_top_100 = sorted_counts_top_100.index.tolist()\n",
        "\n",
        "# Create subplots with 1 row and 2 columns\n",
        "fig = make_subplots(rows=1, cols=2, subplot_titles=(\"Obama Genres Count\", \"Top 100 Genres Count\"))\n",
        "\n",
        "# Create first bar chart (sorted) and add it to the first column\n",
        "fig_obama = px.bar(\n",
        "    x=sorted_genres_obama,\n",
        "    y=sorted_counts_obama,\n",
        "    title=\"Genres Count for Obama\",\n",
        "    labels={'x': 'Genres', 'y': 'Count'}\n",
        ")\n",
        "for trace in fig_obama['data']:\n",
        "    fig.add_trace(trace, row=1, col=1)\n",
        "\n",
        "# Create second bar chart (sorted) and add it to the second column\n",
        "fig_top_100 = px.bar(\n",
        "    x=sorted_genres_top_100,\n",
        "    y=sorted_counts_top_100,\n",
        "    title=\"Genres Count for Top 100\",\n",
        "    labels={'x': 'Genres', 'y': 'Count'}\n",
        ")\n",
        "for trace in fig_top_100['data']:\n",
        "    fig.add_trace(trace, row=1, col=2)\n",
        "\n",
        "# Update layout to fit the titles and adjust the appearance\n",
        "fig.update_layout(title_text=\"Comparison of Genres Count (Sorted by Count)\", showlegend=False)\n",
        "\n",
        "# Show the combined plot\n",
        "fig.show()"
      ],
      "metadata": {
        "colab": {
          "base_uri": "https://localhost:8080/",
          "height": 542
        },
        "id": "rcn5AYnpxWQR",
        "outputId": "da63ea20-9495-4689-f786-45ef7caf5aa0"
      },
      "execution_count": 36,
      "outputs": [
        {
          "output_type": "display_data",
          "data": {
            "text/html": [
              "<html>\n",
              "<head><meta charset=\"utf-8\" /></head>\n",
              "<body>\n",
              "    <div>            <script src=\"https://cdnjs.cloudflare.com/ajax/libs/mathjax/2.7.5/MathJax.js?config=TeX-AMS-MML_SVG\"></script><script type=\"text/javascript\">if (window.MathJax && window.MathJax.Hub && window.MathJax.Hub.Config) {window.MathJax.Hub.Config({SVG: {font: \"STIX-Web\"}});}</script>                <script type=\"text/javascript\">window.PlotlyConfig = {MathJaxConfig: 'local'};</script>\n",
              "        <script charset=\"utf-8\" src=\"https://cdn.plot.ly/plotly-2.35.2.min.js\"></script>                <div id=\"c70ecf16-8ac9-432b-9000-e0765ab26639\" class=\"plotly-graph-div\" style=\"height:525px; width:100%;\"></div>            <script type=\"text/javascript\">                                    window.PLOTLYENV=window.PLOTLYENV || {};                                    if (document.getElementById(\"c70ecf16-8ac9-432b-9000-e0765ab26639\")) {                    Plotly.newPlot(                        \"c70ecf16-8ac9-432b-9000-e0765ab26639\",                        [{\"alignmentgroup\":\"True\",\"hovertemplate\":\"Genres=%{x}\\u003cbr\\u003eCount=%{y}\\u003cextra\\u003e\\u003c\\u002fextra\\u003e\",\"legendgroup\":\"\",\"marker\":{\"color\":\"#636efa\",\"pattern\":{\"shape\":\"\"}},\"name\":\"\",\"offsetgroup\":\"\",\"orientation\":\"v\",\"showlegend\":false,\"textposition\":\"auto\",\"x\":[\"Hip Hop\",\"Soul\\u002fFunk\\u002fMotown\",\"Rock\",\"R&B\",\"Jazz\",\"Pop\",\"Afrobeats\",\"Folk\",\"Electronic\",\"EDM\",\"House\\u002fDance\",\"Reggaeton\",\"Latin\",\"Reggae\",\"Punk\",\"Indie\",\"Unknown\",\"Afroswing\",\"Ambient\"],\"xaxis\":\"x\",\"y\":[56,45,39,33,20,15,8,8,6,5,5,4,3,3,2,2,1,1,1],\"yaxis\":\"y\",\"type\":\"bar\"},{\"alignmentgroup\":\"True\",\"hovertemplate\":\"Genres=%{x}\\u003cbr\\u003eCount=%{y}\\u003cextra\\u003e\\u003c\\u002fextra\\u003e\",\"legendgroup\":\"\",\"marker\":{\"color\":\"#636efa\",\"pattern\":{\"shape\":\"\"}},\"name\":\"\",\"offsetgroup\":\"\",\"orientation\":\"v\",\"showlegend\":false,\"textposition\":\"auto\",\"x\":[\"Pop\",\"Rap\",\"Rock\",\"UK Pop\",\"Pop\\u002fR&B\",\"EDM\",\"Folk-Pop\",\"Indie Folk\",\"electro house\"],\"xaxis\":\"x2\",\"y\":[30,25,17,14,6,4,2,1,1],\"yaxis\":\"y2\",\"type\":\"bar\"}],                        {\"template\":{\"data\":{\"histogram2dcontour\":[{\"type\":\"histogram2dcontour\",\"colorbar\":{\"outlinewidth\":0,\"ticks\":\"\"},\"colorscale\":[[0.0,\"#0d0887\"],[0.1111111111111111,\"#46039f\"],[0.2222222222222222,\"#7201a8\"],[0.3333333333333333,\"#9c179e\"],[0.4444444444444444,\"#bd3786\"],[0.5555555555555556,\"#d8576b\"],[0.6666666666666666,\"#ed7953\"],[0.7777777777777778,\"#fb9f3a\"],[0.8888888888888888,\"#fdca26\"],[1.0,\"#f0f921\"]]}],\"choropleth\":[{\"type\":\"choropleth\",\"colorbar\":{\"outlinewidth\":0,\"ticks\":\"\"}}],\"histogram2d\":[{\"type\":\"histogram2d\",\"colorbar\":{\"outlinewidth\":0,\"ticks\":\"\"},\"colorscale\":[[0.0,\"#0d0887\"],[0.1111111111111111,\"#46039f\"],[0.2222222222222222,\"#7201a8\"],[0.3333333333333333,\"#9c179e\"],[0.4444444444444444,\"#bd3786\"],[0.5555555555555556,\"#d8576b\"],[0.6666666666666666,\"#ed7953\"],[0.7777777777777778,\"#fb9f3a\"],[0.8888888888888888,\"#fdca26\"],[1.0,\"#f0f921\"]]}],\"heatmap\":[{\"type\":\"heatmap\",\"colorbar\":{\"outlinewidth\":0,\"ticks\":\"\"},\"colorscale\":[[0.0,\"#0d0887\"],[0.1111111111111111,\"#46039f\"],[0.2222222222222222,\"#7201a8\"],[0.3333333333333333,\"#9c179e\"],[0.4444444444444444,\"#bd3786\"],[0.5555555555555556,\"#d8576b\"],[0.6666666666666666,\"#ed7953\"],[0.7777777777777778,\"#fb9f3a\"],[0.8888888888888888,\"#fdca26\"],[1.0,\"#f0f921\"]]}],\"heatmapgl\":[{\"type\":\"heatmapgl\",\"colorbar\":{\"outlinewidth\":0,\"ticks\":\"\"},\"colorscale\":[[0.0,\"#0d0887\"],[0.1111111111111111,\"#46039f\"],[0.2222222222222222,\"#7201a8\"],[0.3333333333333333,\"#9c179e\"],[0.4444444444444444,\"#bd3786\"],[0.5555555555555556,\"#d8576b\"],[0.6666666666666666,\"#ed7953\"],[0.7777777777777778,\"#fb9f3a\"],[0.8888888888888888,\"#fdca26\"],[1.0,\"#f0f921\"]]}],\"contourcarpet\":[{\"type\":\"contourcarpet\",\"colorbar\":{\"outlinewidth\":0,\"ticks\":\"\"}}],\"contour\":[{\"type\":\"contour\",\"colorbar\":{\"outlinewidth\":0,\"ticks\":\"\"},\"colorscale\":[[0.0,\"#0d0887\"],[0.1111111111111111,\"#46039f\"],[0.2222222222222222,\"#7201a8\"],[0.3333333333333333,\"#9c179e\"],[0.4444444444444444,\"#bd3786\"],[0.5555555555555556,\"#d8576b\"],[0.6666666666666666,\"#ed7953\"],[0.7777777777777778,\"#fb9f3a\"],[0.8888888888888888,\"#fdca26\"],[1.0,\"#f0f921\"]]}],\"surface\":[{\"type\":\"surface\",\"colorbar\":{\"outlinewidth\":0,\"ticks\":\"\"},\"colorscale\":[[0.0,\"#0d0887\"],[0.1111111111111111,\"#46039f\"],[0.2222222222222222,\"#7201a8\"],[0.3333333333333333,\"#9c179e\"],[0.4444444444444444,\"#bd3786\"],[0.5555555555555556,\"#d8576b\"],[0.6666666666666666,\"#ed7953\"],[0.7777777777777778,\"#fb9f3a\"],[0.8888888888888888,\"#fdca26\"],[1.0,\"#f0f921\"]]}],\"mesh3d\":[{\"type\":\"mesh3d\",\"colorbar\":{\"outlinewidth\":0,\"ticks\":\"\"}}],\"scatter\":[{\"fillpattern\":{\"fillmode\":\"overlay\",\"size\":10,\"solidity\":0.2},\"type\":\"scatter\"}],\"parcoords\":[{\"type\":\"parcoords\",\"line\":{\"colorbar\":{\"outlinewidth\":0,\"ticks\":\"\"}}}],\"scatterpolargl\":[{\"type\":\"scatterpolargl\",\"marker\":{\"colorbar\":{\"outlinewidth\":0,\"ticks\":\"\"}}}],\"bar\":[{\"error_x\":{\"color\":\"#2a3f5f\"},\"error_y\":{\"color\":\"#2a3f5f\"},\"marker\":{\"line\":{\"color\":\"#E5ECF6\",\"width\":0.5},\"pattern\":{\"fillmode\":\"overlay\",\"size\":10,\"solidity\":0.2}},\"type\":\"bar\"}],\"scattergeo\":[{\"type\":\"scattergeo\",\"marker\":{\"colorbar\":{\"outlinewidth\":0,\"ticks\":\"\"}}}],\"scatterpolar\":[{\"type\":\"scatterpolar\",\"marker\":{\"colorbar\":{\"outlinewidth\":0,\"ticks\":\"\"}}}],\"histogram\":[{\"marker\":{\"pattern\":{\"fillmode\":\"overlay\",\"size\":10,\"solidity\":0.2}},\"type\":\"histogram\"}],\"scattergl\":[{\"type\":\"scattergl\",\"marker\":{\"colorbar\":{\"outlinewidth\":0,\"ticks\":\"\"}}}],\"scatter3d\":[{\"type\":\"scatter3d\",\"line\":{\"colorbar\":{\"outlinewidth\":0,\"ticks\":\"\"}},\"marker\":{\"colorbar\":{\"outlinewidth\":0,\"ticks\":\"\"}}}],\"scattermapbox\":[{\"type\":\"scattermapbox\",\"marker\":{\"colorbar\":{\"outlinewidth\":0,\"ticks\":\"\"}}}],\"scatterternary\":[{\"type\":\"scatterternary\",\"marker\":{\"colorbar\":{\"outlinewidth\":0,\"ticks\":\"\"}}}],\"scattercarpet\":[{\"type\":\"scattercarpet\",\"marker\":{\"colorbar\":{\"outlinewidth\":0,\"ticks\":\"\"}}}],\"carpet\":[{\"aaxis\":{\"endlinecolor\":\"#2a3f5f\",\"gridcolor\":\"white\",\"linecolor\":\"white\",\"minorgridcolor\":\"white\",\"startlinecolor\":\"#2a3f5f\"},\"baxis\":{\"endlinecolor\":\"#2a3f5f\",\"gridcolor\":\"white\",\"linecolor\":\"white\",\"minorgridcolor\":\"white\",\"startlinecolor\":\"#2a3f5f\"},\"type\":\"carpet\"}],\"table\":[{\"cells\":{\"fill\":{\"color\":\"#EBF0F8\"},\"line\":{\"color\":\"white\"}},\"header\":{\"fill\":{\"color\":\"#C8D4E3\"},\"line\":{\"color\":\"white\"}},\"type\":\"table\"}],\"barpolar\":[{\"marker\":{\"line\":{\"color\":\"#E5ECF6\",\"width\":0.5},\"pattern\":{\"fillmode\":\"overlay\",\"size\":10,\"solidity\":0.2}},\"type\":\"barpolar\"}],\"pie\":[{\"automargin\":true,\"type\":\"pie\"}]},\"layout\":{\"autotypenumbers\":\"strict\",\"colorway\":[\"#636efa\",\"#EF553B\",\"#00cc96\",\"#ab63fa\",\"#FFA15A\",\"#19d3f3\",\"#FF6692\",\"#B6E880\",\"#FF97FF\",\"#FECB52\"],\"font\":{\"color\":\"#2a3f5f\"},\"hovermode\":\"closest\",\"hoverlabel\":{\"align\":\"left\"},\"paper_bgcolor\":\"white\",\"plot_bgcolor\":\"#E5ECF6\",\"polar\":{\"bgcolor\":\"#E5ECF6\",\"angularaxis\":{\"gridcolor\":\"white\",\"linecolor\":\"white\",\"ticks\":\"\"},\"radialaxis\":{\"gridcolor\":\"white\",\"linecolor\":\"white\",\"ticks\":\"\"}},\"ternary\":{\"bgcolor\":\"#E5ECF6\",\"aaxis\":{\"gridcolor\":\"white\",\"linecolor\":\"white\",\"ticks\":\"\"},\"baxis\":{\"gridcolor\":\"white\",\"linecolor\":\"white\",\"ticks\":\"\"},\"caxis\":{\"gridcolor\":\"white\",\"linecolor\":\"white\",\"ticks\":\"\"}},\"coloraxis\":{\"colorbar\":{\"outlinewidth\":0,\"ticks\":\"\"}},\"colorscale\":{\"sequential\":[[0.0,\"#0d0887\"],[0.1111111111111111,\"#46039f\"],[0.2222222222222222,\"#7201a8\"],[0.3333333333333333,\"#9c179e\"],[0.4444444444444444,\"#bd3786\"],[0.5555555555555556,\"#d8576b\"],[0.6666666666666666,\"#ed7953\"],[0.7777777777777778,\"#fb9f3a\"],[0.8888888888888888,\"#fdca26\"],[1.0,\"#f0f921\"]],\"sequentialminus\":[[0.0,\"#0d0887\"],[0.1111111111111111,\"#46039f\"],[0.2222222222222222,\"#7201a8\"],[0.3333333333333333,\"#9c179e\"],[0.4444444444444444,\"#bd3786\"],[0.5555555555555556,\"#d8576b\"],[0.6666666666666666,\"#ed7953\"],[0.7777777777777778,\"#fb9f3a\"],[0.8888888888888888,\"#fdca26\"],[1.0,\"#f0f921\"]],\"diverging\":[[0,\"#8e0152\"],[0.1,\"#c51b7d\"],[0.2,\"#de77ae\"],[0.3,\"#f1b6da\"],[0.4,\"#fde0ef\"],[0.5,\"#f7f7f7\"],[0.6,\"#e6f5d0\"],[0.7,\"#b8e186\"],[0.8,\"#7fbc41\"],[0.9,\"#4d9221\"],[1,\"#276419\"]]},\"xaxis\":{\"gridcolor\":\"white\",\"linecolor\":\"white\",\"ticks\":\"\",\"title\":{\"standoff\":15},\"zerolinecolor\":\"white\",\"automargin\":true,\"zerolinewidth\":2},\"yaxis\":{\"gridcolor\":\"white\",\"linecolor\":\"white\",\"ticks\":\"\",\"title\":{\"standoff\":15},\"zerolinecolor\":\"white\",\"automargin\":true,\"zerolinewidth\":2},\"scene\":{\"xaxis\":{\"backgroundcolor\":\"#E5ECF6\",\"gridcolor\":\"white\",\"linecolor\":\"white\",\"showbackground\":true,\"ticks\":\"\",\"zerolinecolor\":\"white\",\"gridwidth\":2},\"yaxis\":{\"backgroundcolor\":\"#E5ECF6\",\"gridcolor\":\"white\",\"linecolor\":\"white\",\"showbackground\":true,\"ticks\":\"\",\"zerolinecolor\":\"white\",\"gridwidth\":2},\"zaxis\":{\"backgroundcolor\":\"#E5ECF6\",\"gridcolor\":\"white\",\"linecolor\":\"white\",\"showbackground\":true,\"ticks\":\"\",\"zerolinecolor\":\"white\",\"gridwidth\":2}},\"shapedefaults\":{\"line\":{\"color\":\"#2a3f5f\"}},\"annotationdefaults\":{\"arrowcolor\":\"#2a3f5f\",\"arrowhead\":0,\"arrowwidth\":1},\"geo\":{\"bgcolor\":\"white\",\"landcolor\":\"#E5ECF6\",\"subunitcolor\":\"white\",\"showland\":true,\"showlakes\":true,\"lakecolor\":\"white\"},\"title\":{\"x\":0.05},\"mapbox\":{\"style\":\"light\"}}},\"xaxis\":{\"anchor\":\"y\",\"domain\":[0.0,0.45]},\"yaxis\":{\"anchor\":\"x\",\"domain\":[0.0,1.0]},\"xaxis2\":{\"anchor\":\"y2\",\"domain\":[0.55,1.0]},\"yaxis2\":{\"anchor\":\"x2\",\"domain\":[0.0,1.0]},\"annotations\":[{\"font\":{\"size\":16},\"showarrow\":false,\"text\":\"Obama Genres Count\",\"x\":0.225,\"xanchor\":\"center\",\"xref\":\"paper\",\"y\":1.0,\"yanchor\":\"bottom\",\"yref\":\"paper\"},{\"font\":{\"size\":16},\"showarrow\":false,\"text\":\"Top 100 Genres Count\",\"x\":0.775,\"xanchor\":\"center\",\"xref\":\"paper\",\"y\":1.0,\"yanchor\":\"bottom\",\"yref\":\"paper\"}],\"title\":{\"text\":\"Comparison of Genres Count (Sorted by Count)\"},\"showlegend\":false},                        {\"responsive\": true}                    ).then(function(){\n",
              "                            \n",
              "var gd = document.getElementById('c70ecf16-8ac9-432b-9000-e0765ab26639');\n",
              "var x = new MutationObserver(function (mutations, observer) {{\n",
              "        var display = window.getComputedStyle(gd).display;\n",
              "        if (!display || display === 'none') {{\n",
              "            console.log([gd, 'removed!']);\n",
              "            Plotly.purge(gd);\n",
              "            observer.disconnect();\n",
              "        }}\n",
              "}});\n",
              "\n",
              "// Listen for the removal of the full notebook cells\n",
              "var notebookContainer = gd.closest('#notebook-container');\n",
              "if (notebookContainer) {{\n",
              "    x.observe(notebookContainer, {childList: true});\n",
              "}}\n",
              "\n",
              "// Listen for the clearing of the current output cell\n",
              "var outputEl = gd.closest('.output');\n",
              "if (outputEl) {{\n",
              "    x.observe(outputEl, {childList: true});\n",
              "}}\n",
              "\n",
              "                        })                };                            </script>        </div>\n",
              "</body>\n",
              "</html>"
            ]
          },
          "metadata": {}
        }
      ]
    },
    {
      "cell_type": "markdown",
      "source": [
        "##Artists"
      ],
      "metadata": {
        "id": "8PPJ8z41jhwR"
      }
    },
    {
      "cell_type": "code",
      "source": [
        "\n",
        "# Group and sort by artist for the Obama dataset\n",
        "grouped_by_artist_obama = df_obama.groupby(\"track_artist\").count()\n",
        "top_artists_obama = grouped_by_artist_obama.sort_values(\"track_name\", ascending=False).head(20)\n",
        "\n",
        "# Group and sort by artist for the Top 100 dataset\n",
        "grouped_by_artist_top_100 = df_top_100.groupby(\"track_artist\").count()\n",
        "top_artists_top_100 = grouped_by_artist_top_100.sort_values(\"track_name\", ascending=False).head(20)\n",
        "\n",
        "# Create subplots with 1 row and 2 columns\n",
        "fig = make_subplots(rows=1, cols=2, subplot_titles=(\"Top 20 Artists by Track Count (Obama)\", \"Top 20 Artists by Track Count (Top 100)\"))\n",
        "\n",
        "# Create bar chart for the Obama dataset and add to first column\n",
        "fig_obama = px.bar(\n",
        "    top_artists_obama,\n",
        "    x=top_artists_obama.index,\n",
        "    y=\"track_name\",\n",
        "    title=\"Top 20 Artists by Track Count (Obama)\",\n",
        "    labels={'x': 'Artist', 'track_name': 'Track Count'}\n",
        ")\n",
        "for trace in fig_obama['data']:\n",
        "    fig.add_trace(trace, row=1, col=1)\n",
        "\n",
        "# Create bar chart for the Top 100 dataset and add to second column\n",
        "fig_top_100 = px.bar(\n",
        "    top_artists_top_100,\n",
        "    x=top_artists_top_100.index,\n",
        "    y=\"track_name\",\n",
        "    title=\"Top 20 Artists by Track Count (Top 100)\",\n",
        "    labels={'x': 'Artist', 'track_name': 'Track Count'}\n",
        ")\n",
        "for trace in fig_top_100['data']:\n",
        "    fig.add_trace(trace, row=1, col=2)\n",
        "\n",
        "# Update layout for better readability and set y-axis range for the second plot\n",
        "fig.update_layout(\n",
        "    title_text=\"Top 20 Artists by Track Count Comparison\",\n",
        "    showlegend=False,\n",
        "    xaxis_tickangle=-45,\n",
        "    xaxis2_tickangle=-45,\n",
        "    yaxis2_range=[0, 8.5]  # Sets the y-axis range for the second plot (Top 100 dataset) to go up to 8\n",
        ")\n",
        "\n",
        "# Show the combined plot\n",
        "fig.show()"
      ],
      "metadata": {
        "colab": {
          "base_uri": "https://localhost:8080/",
          "height": 542
        },
        "id": "KhJaLQ4FI3Hm",
        "outputId": "7d49ee43-5b65-400e-8ee9-ffb1d330d1d7"
      },
      "execution_count": 42,
      "outputs": [
        {
          "output_type": "display_data",
          "data": {
            "text/html": [
              "<html>\n",
              "<head><meta charset=\"utf-8\" /></head>\n",
              "<body>\n",
              "    <div>            <script src=\"https://cdnjs.cloudflare.com/ajax/libs/mathjax/2.7.5/MathJax.js?config=TeX-AMS-MML_SVG\"></script><script type=\"text/javascript\">if (window.MathJax && window.MathJax.Hub && window.MathJax.Hub.Config) {window.MathJax.Hub.Config({SVG: {font: \"STIX-Web\"}});}</script>                <script type=\"text/javascript\">window.PlotlyConfig = {MathJaxConfig: 'local'};</script>\n",
              "        <script charset=\"utf-8\" src=\"https://cdn.plot.ly/plotly-2.35.2.min.js\"></script>                <div id=\"ab436ce9-6e51-455b-bfa0-4428ffafb4c2\" class=\"plotly-graph-div\" style=\"height:525px; width:100%;\"></div>            <script type=\"text/javascript\">                                    window.PLOTLYENV=window.PLOTLYENV || {};                                    if (document.getElementById(\"ab436ce9-6e51-455b-bfa0-4428ffafb4c2\")) {                    Plotly.newPlot(                        \"ab436ce9-6e51-455b-bfa0-4428ffafb4c2\",                        [{\"alignmentgroup\":\"True\",\"hovertemplate\":\"track_artist=%{x}\\u003cbr\\u003eTrack Count=%{y}\\u003cextra\\u003e\\u003c\\u002fextra\\u003e\",\"legendgroup\":\"\",\"marker\":{\"color\":\"#636efa\",\"pattern\":{\"shape\":\"\"}},\"name\":\"\",\"offsetgroup\":\"\",\"orientation\":\"v\",\"showlegend\":false,\"textposition\":\"auto\",\"x\":[\"Bruce Springsteen\",\"Aretha Franklin\",\"Stevie Wonder\",\"John Coltrane\",\"Maggie Rogers\",\"Nina Simone\",\"Otis Redding\",\"Original Koffee\",\"D'Angelo\",\"Drake,Rihanna\",\"The Chicks\",\"Teyana Taylor\",\"The Dave Brubeck Quartet\",\"CHIKA\",\"Ella Fitzgerald\",\"Nas\",\"Jill Scott\",\"Sheryl Crow\",\"Bob Dylan\",\"The Rolling Stones\"],\"xaxis\":\"x\",\"y\":[8,4,4,3,3,3,3,2,2,2,2,2,2,2,2,2,2,2,2,2],\"yaxis\":\"y\",\"type\":\"bar\"},{\"alignmentgroup\":\"True\",\"hovertemplate\":\"track_artist=%{x}\\u003cbr\\u003eTrack Count=%{y}\\u003cextra\\u003e\\u003c\\u002fextra\\u003e\",\"legendgroup\":\"\",\"marker\":{\"color\":\"#636efa\",\"pattern\":{\"shape\":\"\"}},\"name\":\"\",\"offsetgroup\":\"\",\"orientation\":\"v\",\"showlegend\":false,\"textposition\":\"auto\",\"x\":[\"Ed Sheeran\",\"The Weeknd\",\"Bruno Mars\",\"Dua Lipa\",\"Imagine Dragons\",\"Coldplay\",\"Shawn Mendes\",\"Olivia Rodrigo\",\"Sam Smith\",\"Queen\",\"Harry Styles\",\"Travis Scott\",\"XXXTENTACION\",\"Arctic Monkeys\",\"Eminem\",\"Post Malone,21 Savage\",\"SZA\",\"Post Malone,Swae Lee\",\"Post Malone,Quavo\",\"Adele\"],\"xaxis\":\"x2\",\"y\":[4,4,4,3,3,3,2,2,2,2,2,2,2,2,2,1,1,1,1,1],\"yaxis\":\"y2\",\"type\":\"bar\"}],                        {\"template\":{\"data\":{\"histogram2dcontour\":[{\"type\":\"histogram2dcontour\",\"colorbar\":{\"outlinewidth\":0,\"ticks\":\"\"},\"colorscale\":[[0.0,\"#0d0887\"],[0.1111111111111111,\"#46039f\"],[0.2222222222222222,\"#7201a8\"],[0.3333333333333333,\"#9c179e\"],[0.4444444444444444,\"#bd3786\"],[0.5555555555555556,\"#d8576b\"],[0.6666666666666666,\"#ed7953\"],[0.7777777777777778,\"#fb9f3a\"],[0.8888888888888888,\"#fdca26\"],[1.0,\"#f0f921\"]]}],\"choropleth\":[{\"type\":\"choropleth\",\"colorbar\":{\"outlinewidth\":0,\"ticks\":\"\"}}],\"histogram2d\":[{\"type\":\"histogram2d\",\"colorbar\":{\"outlinewidth\":0,\"ticks\":\"\"},\"colorscale\":[[0.0,\"#0d0887\"],[0.1111111111111111,\"#46039f\"],[0.2222222222222222,\"#7201a8\"],[0.3333333333333333,\"#9c179e\"],[0.4444444444444444,\"#bd3786\"],[0.5555555555555556,\"#d8576b\"],[0.6666666666666666,\"#ed7953\"],[0.7777777777777778,\"#fb9f3a\"],[0.8888888888888888,\"#fdca26\"],[1.0,\"#f0f921\"]]}],\"heatmap\":[{\"type\":\"heatmap\",\"colorbar\":{\"outlinewidth\":0,\"ticks\":\"\"},\"colorscale\":[[0.0,\"#0d0887\"],[0.1111111111111111,\"#46039f\"],[0.2222222222222222,\"#7201a8\"],[0.3333333333333333,\"#9c179e\"],[0.4444444444444444,\"#bd3786\"],[0.5555555555555556,\"#d8576b\"],[0.6666666666666666,\"#ed7953\"],[0.7777777777777778,\"#fb9f3a\"],[0.8888888888888888,\"#fdca26\"],[1.0,\"#f0f921\"]]}],\"heatmapgl\":[{\"type\":\"heatmapgl\",\"colorbar\":{\"outlinewidth\":0,\"ticks\":\"\"},\"colorscale\":[[0.0,\"#0d0887\"],[0.1111111111111111,\"#46039f\"],[0.2222222222222222,\"#7201a8\"],[0.3333333333333333,\"#9c179e\"],[0.4444444444444444,\"#bd3786\"],[0.5555555555555556,\"#d8576b\"],[0.6666666666666666,\"#ed7953\"],[0.7777777777777778,\"#fb9f3a\"],[0.8888888888888888,\"#fdca26\"],[1.0,\"#f0f921\"]]}],\"contourcarpet\":[{\"type\":\"contourcarpet\",\"colorbar\":{\"outlinewidth\":0,\"ticks\":\"\"}}],\"contour\":[{\"type\":\"contour\",\"colorbar\":{\"outlinewidth\":0,\"ticks\":\"\"},\"colorscale\":[[0.0,\"#0d0887\"],[0.1111111111111111,\"#46039f\"],[0.2222222222222222,\"#7201a8\"],[0.3333333333333333,\"#9c179e\"],[0.4444444444444444,\"#bd3786\"],[0.5555555555555556,\"#d8576b\"],[0.6666666666666666,\"#ed7953\"],[0.7777777777777778,\"#fb9f3a\"],[0.8888888888888888,\"#fdca26\"],[1.0,\"#f0f921\"]]}],\"surface\":[{\"type\":\"surface\",\"colorbar\":{\"outlinewidth\":0,\"ticks\":\"\"},\"colorscale\":[[0.0,\"#0d0887\"],[0.1111111111111111,\"#46039f\"],[0.2222222222222222,\"#7201a8\"],[0.3333333333333333,\"#9c179e\"],[0.4444444444444444,\"#bd3786\"],[0.5555555555555556,\"#d8576b\"],[0.6666666666666666,\"#ed7953\"],[0.7777777777777778,\"#fb9f3a\"],[0.8888888888888888,\"#fdca26\"],[1.0,\"#f0f921\"]]}],\"mesh3d\":[{\"type\":\"mesh3d\",\"colorbar\":{\"outlinewidth\":0,\"ticks\":\"\"}}],\"scatter\":[{\"fillpattern\":{\"fillmode\":\"overlay\",\"size\":10,\"solidity\":0.2},\"type\":\"scatter\"}],\"parcoords\":[{\"type\":\"parcoords\",\"line\":{\"colorbar\":{\"outlinewidth\":0,\"ticks\":\"\"}}}],\"scatterpolargl\":[{\"type\":\"scatterpolargl\",\"marker\":{\"colorbar\":{\"outlinewidth\":0,\"ticks\":\"\"}}}],\"bar\":[{\"error_x\":{\"color\":\"#2a3f5f\"},\"error_y\":{\"color\":\"#2a3f5f\"},\"marker\":{\"line\":{\"color\":\"#E5ECF6\",\"width\":0.5},\"pattern\":{\"fillmode\":\"overlay\",\"size\":10,\"solidity\":0.2}},\"type\":\"bar\"}],\"scattergeo\":[{\"type\":\"scattergeo\",\"marker\":{\"colorbar\":{\"outlinewidth\":0,\"ticks\":\"\"}}}],\"scatterpolar\":[{\"type\":\"scatterpolar\",\"marker\":{\"colorbar\":{\"outlinewidth\":0,\"ticks\":\"\"}}}],\"histogram\":[{\"marker\":{\"pattern\":{\"fillmode\":\"overlay\",\"size\":10,\"solidity\":0.2}},\"type\":\"histogram\"}],\"scattergl\":[{\"type\":\"scattergl\",\"marker\":{\"colorbar\":{\"outlinewidth\":0,\"ticks\":\"\"}}}],\"scatter3d\":[{\"type\":\"scatter3d\",\"line\":{\"colorbar\":{\"outlinewidth\":0,\"ticks\":\"\"}},\"marker\":{\"colorbar\":{\"outlinewidth\":0,\"ticks\":\"\"}}}],\"scattermapbox\":[{\"type\":\"scattermapbox\",\"marker\":{\"colorbar\":{\"outlinewidth\":0,\"ticks\":\"\"}}}],\"scatterternary\":[{\"type\":\"scatterternary\",\"marker\":{\"colorbar\":{\"outlinewidth\":0,\"ticks\":\"\"}}}],\"scattercarpet\":[{\"type\":\"scattercarpet\",\"marker\":{\"colorbar\":{\"outlinewidth\":0,\"ticks\":\"\"}}}],\"carpet\":[{\"aaxis\":{\"endlinecolor\":\"#2a3f5f\",\"gridcolor\":\"white\",\"linecolor\":\"white\",\"minorgridcolor\":\"white\",\"startlinecolor\":\"#2a3f5f\"},\"baxis\":{\"endlinecolor\":\"#2a3f5f\",\"gridcolor\":\"white\",\"linecolor\":\"white\",\"minorgridcolor\":\"white\",\"startlinecolor\":\"#2a3f5f\"},\"type\":\"carpet\"}],\"table\":[{\"cells\":{\"fill\":{\"color\":\"#EBF0F8\"},\"line\":{\"color\":\"white\"}},\"header\":{\"fill\":{\"color\":\"#C8D4E3\"},\"line\":{\"color\":\"white\"}},\"type\":\"table\"}],\"barpolar\":[{\"marker\":{\"line\":{\"color\":\"#E5ECF6\",\"width\":0.5},\"pattern\":{\"fillmode\":\"overlay\",\"size\":10,\"solidity\":0.2}},\"type\":\"barpolar\"}],\"pie\":[{\"automargin\":true,\"type\":\"pie\"}]},\"layout\":{\"autotypenumbers\":\"strict\",\"colorway\":[\"#636efa\",\"#EF553B\",\"#00cc96\",\"#ab63fa\",\"#FFA15A\",\"#19d3f3\",\"#FF6692\",\"#B6E880\",\"#FF97FF\",\"#FECB52\"],\"font\":{\"color\":\"#2a3f5f\"},\"hovermode\":\"closest\",\"hoverlabel\":{\"align\":\"left\"},\"paper_bgcolor\":\"white\",\"plot_bgcolor\":\"#E5ECF6\",\"polar\":{\"bgcolor\":\"#E5ECF6\",\"angularaxis\":{\"gridcolor\":\"white\",\"linecolor\":\"white\",\"ticks\":\"\"},\"radialaxis\":{\"gridcolor\":\"white\",\"linecolor\":\"white\",\"ticks\":\"\"}},\"ternary\":{\"bgcolor\":\"#E5ECF6\",\"aaxis\":{\"gridcolor\":\"white\",\"linecolor\":\"white\",\"ticks\":\"\"},\"baxis\":{\"gridcolor\":\"white\",\"linecolor\":\"white\",\"ticks\":\"\"},\"caxis\":{\"gridcolor\":\"white\",\"linecolor\":\"white\",\"ticks\":\"\"}},\"coloraxis\":{\"colorbar\":{\"outlinewidth\":0,\"ticks\":\"\"}},\"colorscale\":{\"sequential\":[[0.0,\"#0d0887\"],[0.1111111111111111,\"#46039f\"],[0.2222222222222222,\"#7201a8\"],[0.3333333333333333,\"#9c179e\"],[0.4444444444444444,\"#bd3786\"],[0.5555555555555556,\"#d8576b\"],[0.6666666666666666,\"#ed7953\"],[0.7777777777777778,\"#fb9f3a\"],[0.8888888888888888,\"#fdca26\"],[1.0,\"#f0f921\"]],\"sequentialminus\":[[0.0,\"#0d0887\"],[0.1111111111111111,\"#46039f\"],[0.2222222222222222,\"#7201a8\"],[0.3333333333333333,\"#9c179e\"],[0.4444444444444444,\"#bd3786\"],[0.5555555555555556,\"#d8576b\"],[0.6666666666666666,\"#ed7953\"],[0.7777777777777778,\"#fb9f3a\"],[0.8888888888888888,\"#fdca26\"],[1.0,\"#f0f921\"]],\"diverging\":[[0,\"#8e0152\"],[0.1,\"#c51b7d\"],[0.2,\"#de77ae\"],[0.3,\"#f1b6da\"],[0.4,\"#fde0ef\"],[0.5,\"#f7f7f7\"],[0.6,\"#e6f5d0\"],[0.7,\"#b8e186\"],[0.8,\"#7fbc41\"],[0.9,\"#4d9221\"],[1,\"#276419\"]]},\"xaxis\":{\"gridcolor\":\"white\",\"linecolor\":\"white\",\"ticks\":\"\",\"title\":{\"standoff\":15},\"zerolinecolor\":\"white\",\"automargin\":true,\"zerolinewidth\":2},\"yaxis\":{\"gridcolor\":\"white\",\"linecolor\":\"white\",\"ticks\":\"\",\"title\":{\"standoff\":15},\"zerolinecolor\":\"white\",\"automargin\":true,\"zerolinewidth\":2},\"scene\":{\"xaxis\":{\"backgroundcolor\":\"#E5ECF6\",\"gridcolor\":\"white\",\"linecolor\":\"white\",\"showbackground\":true,\"ticks\":\"\",\"zerolinecolor\":\"white\",\"gridwidth\":2},\"yaxis\":{\"backgroundcolor\":\"#E5ECF6\",\"gridcolor\":\"white\",\"linecolor\":\"white\",\"showbackground\":true,\"ticks\":\"\",\"zerolinecolor\":\"white\",\"gridwidth\":2},\"zaxis\":{\"backgroundcolor\":\"#E5ECF6\",\"gridcolor\":\"white\",\"linecolor\":\"white\",\"showbackground\":true,\"ticks\":\"\",\"zerolinecolor\":\"white\",\"gridwidth\":2}},\"shapedefaults\":{\"line\":{\"color\":\"#2a3f5f\"}},\"annotationdefaults\":{\"arrowcolor\":\"#2a3f5f\",\"arrowhead\":0,\"arrowwidth\":1},\"geo\":{\"bgcolor\":\"white\",\"landcolor\":\"#E5ECF6\",\"subunitcolor\":\"white\",\"showland\":true,\"showlakes\":true,\"lakecolor\":\"white\"},\"title\":{\"x\":0.05},\"mapbox\":{\"style\":\"light\"}}},\"xaxis\":{\"anchor\":\"y\",\"domain\":[0.0,0.45],\"tickangle\":-45},\"yaxis\":{\"anchor\":\"x\",\"domain\":[0.0,1.0]},\"xaxis2\":{\"anchor\":\"y2\",\"domain\":[0.55,1.0],\"tickangle\":-45},\"yaxis2\":{\"anchor\":\"x2\",\"domain\":[0.0,1.0],\"range\":[0,8.5]},\"annotations\":[{\"font\":{\"size\":16},\"showarrow\":false,\"text\":\"Top 20 Artists by Track Count (Obama)\",\"x\":0.225,\"xanchor\":\"center\",\"xref\":\"paper\",\"y\":1.0,\"yanchor\":\"bottom\",\"yref\":\"paper\"},{\"font\":{\"size\":16},\"showarrow\":false,\"text\":\"Top 20 Artists by Track Count (Top 100)\",\"x\":0.775,\"xanchor\":\"center\",\"xref\":\"paper\",\"y\":1.0,\"yanchor\":\"bottom\",\"yref\":\"paper\"}],\"title\":{\"text\":\"Top 20 Artists by Track Count Comparison\"},\"showlegend\":false},                        {\"responsive\": true}                    ).then(function(){\n",
              "                            \n",
              "var gd = document.getElementById('ab436ce9-6e51-455b-bfa0-4428ffafb4c2');\n",
              "var x = new MutationObserver(function (mutations, observer) {{\n",
              "        var display = window.getComputedStyle(gd).display;\n",
              "        if (!display || display === 'none') {{\n",
              "            console.log([gd, 'removed!']);\n",
              "            Plotly.purge(gd);\n",
              "            observer.disconnect();\n",
              "        }}\n",
              "}});\n",
              "\n",
              "// Listen for the removal of the full notebook cells\n",
              "var notebookContainer = gd.closest('#notebook-container');\n",
              "if (notebookContainer) {{\n",
              "    x.observe(notebookContainer, {childList: true});\n",
              "}}\n",
              "\n",
              "// Listen for the clearing of the current output cell\n",
              "var outputEl = gd.closest('.output');\n",
              "if (outputEl) {{\n",
              "    x.observe(outputEl, {childList: true});\n",
              "}}\n",
              "\n",
              "                        })                };                            </script>        </div>\n",
              "</body>\n",
              "</html>"
            ]
          },
          "metadata": {}
        }
      ]
    },
    {
      "cell_type": "code",
      "source": [
        "# Create the figure and axis\n",
        "plt.figure(figsize=(12, 6))  # Increase the figure size for better readability\n",
        "\n",
        "# Set the positions for the bars\n",
        "x_top_100 = np.arange(len(df_top_100_grouped_by_year)) * 2  # Increase the spacing between bars\n",
        "x_obama = x_top_100 + 0.8  # Shift Obama bars further to the right\n",
        "\n",
        "# Plot the Top 100 dataset with a specific color and label\n",
        "plt.bar(x_top_100,\n",
        "        df_top_100_grouped_by_year['track_name'],\n",
        "        color='skyblue',\n",
        "        width=0.8,  # Increase width to make the bars more visible\n",
        "        label='Top 100')\n",
        "\n",
        "# Plot the Obama dataset with a different color and label\n",
        "plt.bar(x_obama,\n",
        "        df_obama_grouped_by_year['track_name'],\n",
        "        color='indigo',\n",
        "        width=0.8,  # Increase width to make the bars more visible\n",
        "        label='Obama')\n",
        "\n",
        "# Set the x-ticks to show the years correctly with larger spacing\n",
        "plt.xticks(x_top_100 + 0.4, years, rotation=45, ha='right')  # Rotate and adjust the alignment of x-ticks\n",
        "\n",
        "# Set labels and title\n",
        "plt.xlabel('Year')\n",
        "plt.ylabel('Number of Songs')\n",
        "plt.title('Songs per Year Comparison')\n",
        "plt.legend()\n",
        "\n",
        "# Display the plot\n",
        "plt.tight_layout()  # Automatically adjust the layout for better fit\n",
        "plt.show()\n",
        "\n",
        "\n"
      ],
      "metadata": {
        "colab": {
          "base_uri": "https://localhost:8080/",
          "height": 568
        },
        "id": "YpNPzFHWn6QB",
        "outputId": "9a9f785e-0c8a-454b-ea05-a803558516dd"
      },
      "execution_count": 65,
      "outputs": [
        {
          "output_type": "display_data",
          "data": {
            "text/plain": [
              "<Figure size 1200x600 with 1 Axes>"
            ],
            "image/png": "[encoded data removed]"
          },
          "metadata": {}
        }
      ]
    },
    {
      "cell_type": "code",
      "source": [
        "print(\"The oldest song in the Top 100 streamed songs on Spotify as of 2024 is from the year\",df_top_100[\"track_album_release_year\"].min())"
      ],
      "metadata": {
        "colab": {
          "base_uri": "https://localhost:8080/"
        },
        "id": "nkRqi4Q9LpRs",
        "outputId": "b5392d74-708d-4770-bbee-bf4b391bd791"
      },
      "execution_count": 68,
      "outputs": [
        {
          "output_type": "stream",
          "name": "stdout",
          "text": [
            "The oldest song in the Top 100 streamed songs on Spotify as of 2024 is from the year 1905 .\n"
          ]
        }
      ]
    },
    {
      "cell_type": "code",
      "source": [
        "df_top_100[df_top_100[\"track_album_release_year\"] == 1905]"
      ],
      "metadata": {
        "colab": {
          "base_uri": "https://localhost:8080/",
          "height": 196
        },
        "id": "dUc1oWTmy2_H",
        "outputId": "def980a5-4642-4acb-eb4a-a09d7950ce14"
      },
      "execution_count": 69,
      "outputs": [
        {
          "output_type": "execute_result",
          "data": {
            "text/plain": [
              "                  track_id      track_name track_artist  track_popularity  \\\n",
              "51  003vvx7Niy0yvhvHt4a68B  Mr. Brightside  The Killers                85   \n",
              "77  60a0Rd6pjrkxjPbaKzXjfq      In the End  Linkin Park                87   \n",
              "\n",
              "                 track_album_name  track_album_release_year  duration_min  \\\n",
              "51                       Hot Fuss                      1905          3.72   \n",
              "77  Hybrid Theory (Bonus Edition)                      1905          3.61   \n",
              "\n",
              "   genres    record_label  danceability  ...  key_name loudness   mode  \\\n",
              "51   Rock  Island Records          35.2  ...        C#    -5.23  Major   \n",
              "77    Rap  Warner Records          55.6  ...        D#    -5.87  Minor   \n",
              "\n",
              "   speechiness  acousticness  instrumentalness  liveness  valence   tempo  \\\n",
              "51        7.47          0.12               0.0      9.95     23.6  148.03   \n",
              "77        5.84          0.96               0.0     20.90     40.0  105.14   \n",
              "\n",
              "    time_signature  \n",
              "51               4  \n",
              "77               4  \n",
              "\n",
              "[2 rows x 21 columns]"
            ],
            "text/html": [
              "\n",
              "  <div id=\"df-65e3036f-fd90-45a6-b22a-e11dff0639c7\" class=\"colab-df-container\">\n",
              "    <div>\n",
              "<style scoped>\n",
              "    .dataframe tbody tr th:only-of-type {\n",
              "        vertical-align: middle;\n",
              "    }\n",
              "\n",
              "    .dataframe tbody tr th {\n",
              "        vertical-align: top;\n",
              "    }\n",
              "\n",
              "    .dataframe thead th {\n",
              "        text-align: right;\n",
              "    }\n",
              "</style>\n",
              "<table border=\"1\" class=\"dataframe\">\n",
              "  <thead>\n",
              "    <tr style=\"text-align: right;\">\n",
              "      <th></th>\n",
              "      <th>track_id</th>\n",
              "      <th>track_name</th>\n",
              "      <th>track_artist</th>\n",
              "      <th>track_popularity</th>\n",
              "      <th>track_album_name</th>\n",
              "      <th>track_album_release_year</th>\n",
              "      <th>duration_min</th>\n",
              "      <th>genres</th>\n",
              "      <th>record_label</th>\n",
              "      <th>danceability</th>\n",
              "      <th>...</th>\n",
              "      <th>key_name</th>\n",
              "      <th>loudness</th>\n",
              "      <th>mode</th>\n",
              "      <th>speechiness</th>\n",
              "      <th>acousticness</th>\n",
              "      <th>instrumentalness</th>\n",
              "      <th>liveness</th>\n",
              "      <th>valence</th>\n",
              "      <th>tempo</th>\n",
              "      <th>time_signature</th>\n",
              "    </tr>\n",
              "  </thead>\n",
              "  <tbody>\n",
              "    <tr>\n",
              "      <th>51</th>\n",
              "      <td>003vvx7Niy0yvhvHt4a68B</td>\n",
              "      <td>Mr. Brightside</td>\n",
              "      <td>The Killers</td>\n",
              "      <td>85</td>\n",
              "      <td>Hot Fuss</td>\n",
              "      <td>1905</td>\n",
              "      <td>3.72</td>\n",
              "      <td>Rock</td>\n",
              "      <td>Island Records</td>\n",
              "      <td>35.2</td>\n",
              "      <td>...</td>\n",
              "      <td>C#</td>\n",
              "      <td>-5.23</td>\n",
              "      <td>Major</td>\n",
              "      <td>7.47</td>\n",
              "      <td>0.12</td>\n",
              "      <td>0.0</td>\n",
              "      <td>9.95</td>\n",
              "      <td>23.6</td>\n",
              "      <td>148.03</td>\n",
              "      <td>4</td>\n",
              "    </tr>\n",
              "    <tr>\n",
              "      <th>77</th>\n",
              "      <td>60a0Rd6pjrkxjPbaKzXjfq</td>\n",
              "      <td>In the End</td>\n",
              "      <td>Linkin Park</td>\n",
              "      <td>87</td>\n",
              "      <td>Hybrid Theory (Bonus Edition)</td>\n",
              "      <td>1905</td>\n",
              "      <td>3.61</td>\n",
              "      <td>Rap</td>\n",
              "      <td>Warner Records</td>\n",
              "      <td>55.6</td>\n",
              "      <td>...</td>\n",
              "      <td>D#</td>\n",
              "      <td>-5.87</td>\n",
              "      <td>Minor</td>\n",
              "      <td>5.84</td>\n",
              "      <td>0.96</td>\n",
              "      <td>0.0</td>\n",
              "      <td>20.90</td>\n",
              "      <td>40.0</td>\n",
              "      <td>105.14</td>\n",
              "      <td>4</td>\n",
              "    </tr>\n",
              "  </tbody>\n",
              "</table>\n",
              "<p>2 rows × 21 columns</p>\n",
              "</div>\n",
              "    <div class=\"colab-df-buttons\">\n",
              "\n",
              "  <div class=\"colab-df-container\">\n",
              "    <button class=\"colab-df-convert\" onclick=\"convertToInteractive('df-65e3036f-fd90-45a6-b22a-e11dff0639c7')\"\n",
              "            title=\"Convert this dataframe to an interactive table.\"\n",
              "            style=\"display:none;\">\n",
              "\n",
              "  <svg xmlns=\"http://www.w3.org/2000/svg\" height=\"24px\" viewBox=\"0 -960 960 960\">\n",
              "    <path d=\"M120-120v-720h720v720H120Zm60-500h600v-160H180v160Zm220 220h160v-160H400v160Zm0 220h160v-160H400v160ZM180-400h160v-160H180v160Zm440 0h160v-160H620v160ZM180-180h160v-160H180v160Zm440 0h160v-160H620v160Z\"/>\n",
              "  </svg>\n",
              "    </button>\n",
              "\n",
              "  <style>\n",
              "    .colab-df-container {\n",
              "      display:flex;\n",
              "      gap: 12px;\n",
              "    }\n",
              "\n",
              "    .colab-df-convert {\n",
              "      background-color: #E8F0FE;\n",
              "      border: none;\n",
              "      border-radius: 50%;\n",
              "      cursor: pointer;\n",
              "      display: none;\n",
              "      fill: #1967D2;\n",
              "      height: 32px;\n",
              "      padding: 0 0 0 0;\n",
              "      width: 32px;\n",
              "    }\n",
              "\n",
              "    .colab-df-convert:hover {\n",
              "      background-color: #E2EBFA;\n",
              "      box-shadow: 0px 1px 2px rgba(60, 64, 67, 0.3), 0px 1px 3px 1px rgba(60, 64, 67, 0.15);\n",
              "      fill: #174EA6;\n",
              "    }\n",
              "\n",
              "    .colab-df-buttons div {\n",
              "      margin-bottom: 4px;\n",
              "    }\n",
              "\n",
              "    [theme=dark] .colab-df-convert {\n",
              "      background-color: #3B4455;\n",
              "      fill: #D2E3FC;\n",
              "    }\n",
              "\n",
              "    [theme=dark] .colab-df-convert:hover {\n",
              "      background-color: #434B5C;\n",
              "      box-shadow: 0px 1px 3px 1px rgba(0, 0, 0, 0.15);\n",
              "      filter: drop-shadow(0px 1px 2px rgba(0, 0, 0, 0.3));\n",
              "      fill: #FFFFFF;\n",
              "    }\n",
              "  </style>\n",
              "\n",
              "    <script>\n",
              "      const buttonEl =\n",
              "        document.querySelector('#df-65e3036f-fd90-45a6-b22a-e11dff0639c7 button.colab-df-convert');\n",
              "      buttonEl.style.display =\n",
              "        google.colab.kernel.accessAllowed ? 'block' : 'none';\n",
              "\n",
              "      async function convertToInteractive(key) {\n",
              "        const element = document.querySelector('#df-65e3036f-fd90-45a6-b22a-e11dff0639c7');\n",
              "        const dataTable =\n",
              "          await google.colab.kernel.invokeFunction('convertToInteractive',\n",
              "                                                    [key], {});\n",
              "        if (!dataTable) return;\n",
              "\n",
              "        const docLinkHtml = 'Like what you see? Visit the ' +\n",
              "          '<a target=\"_blank\" href=https://colab.research.google.com/notebooks/data_table.ipynb>data table notebook</a>'\n",
              "          + ' to learn more about interactive tables.';\n",
              "        element.innerHTML = '';\n",
              "        dataTable['output_type'] = 'display_data';\n",
              "        await google.colab.output.renderOutput(dataTable, element);\n",
              "        const docLink = document.createElement('div');\n",
              "        docLink.innerHTML = docLinkHtml;\n",
              "        element.appendChild(docLink);\n",
              "      }\n",
              "    </script>\n",
              "  </div>\n",
              "\n",
              "\n",
              "<div id=\"df-1f711e20-8e9e-4097-b05f-fcfe860c9ed0\">\n",
              "  <button class=\"colab-df-quickchart\" onclick=\"quickchart('df-1f711e20-8e9e-4097-b05f-fcfe860c9ed0')\"\n",
              "            title=\"Suggest charts\"\n",
              "            style=\"display:none;\">\n",
              "\n",
              "<svg xmlns=\"http://www.w3.org/2000/svg\" height=\"24px\"viewBox=\"0 0 24 24\"\n",
              "     width=\"24px\">\n",
              "    <g>\n",
              "        <path d=\"M19 3H5c-1.1 0-2 .9-2 2v14c0 1.1.9 2 2 2h14c1.1 0 2-.9 2-2V5c0-1.1-.9-2-2-2zM9 17H7v-7h2v7zm4 0h-2V7h2v10zm4 0h-2v-4h2v4z\"/>\n",
              "    </g>\n",
              "</svg>\n",
              "  </button>\n",
              "\n",
              "<style>\n",
              "  .colab-df-quickchart {\n",
              "      --bg-color: #E8F0FE;\n",
              "      --fill-color: #1967D2;\n",
              "      --hover-bg-color: #E2EBFA;\n",
              "      --hover-fill-color: #174EA6;\n",
              "      --disabled-fill-color: #AAA;\n",
              "      --disabled-bg-color: #DDD;\n",
              "  }\n",
              "\n",
              "  [theme=dark] .colab-df-quickchart {\n",
              "      --bg-color: #3B4455;\n",
              "      --fill-color: #D2E3FC;\n",
              "      --hover-bg-color: #434B5C;\n",
              "      --hover-fill-color: #FFFFFF;\n",
              "      --disabled-bg-color: #3B4455;\n",
              "      --disabled-fill-color: #666;\n",
              "  }\n",
              "\n",
              "  .colab-df-quickchart {\n",
              "    background-color: var(--bg-color);\n",
              "    border: none;\n",
              "    border-radius: 50%;\n",
              "    cursor: pointer;\n",
              "    display: none;\n",
              "    fill: var(--fill-color);\n",
              "    height: 32px;\n",
              "    padding: 0;\n",
              "    width: 32px;\n",
              "  }\n",
              "\n",
              "  .colab-df-quickchart:hover {\n",
              "    background-color: var(--hover-bg-color);\n",
              "    box-shadow: 0 1px 2px rgba(60, 64, 67, 0.3), 0 1px 3px 1px rgba(60, 64, 67, 0.15);\n",
              "    fill: var(--button-hover-fill-color);\n",
              "  }\n",
              "\n",
              "  .colab-df-quickchart-complete:disabled,\n",
              "  .colab-df-quickchart-complete:disabled:hover {\n",
              "    background-color: var(--disabled-bg-color);\n",
              "    fill: var(--disabled-fill-color);\n",
              "    box-shadow: none;\n",
              "  }\n",
              "\n",
              "  .colab-df-spinner {\n",
              "    border: 2px solid var(--fill-color);\n",
              "    border-color: transparent;\n",
              "    border-bottom-color: var(--fill-color);\n",
              "    animation:\n",
              "      spin 1s steps(1) infinite;\n",
              "  }\n",
              "\n",
              "  @keyframes spin {\n",
              "    0% {\n",
              "      border-color: transparent;\n",
              "      border-bottom-color: var(--fill-color);\n",
              "      border-left-color: var(--fill-color);\n",
              "    }\n",
              "    20% {\n",
              "      border-color: transparent;\n",
              "      border-left-color: var(--fill-color);\n",
              "      border-top-color: var(--fill-color);\n",
              "    }\n",
              "    30% {\n",
              "      border-color: transparent;\n",
              "      border-left-color: var(--fill-color);\n",
              "      border-top-color: var(--fill-color);\n",
              "      border-right-color: var(--fill-color);\n",
              "    }\n",
              "    40% {\n",
              "      border-color: transparent;\n",
              "      border-right-color: var(--fill-color);\n",
              "      border-top-color: var(--fill-color);\n",
              "    }\n",
              "    60% {\n",
              "      border-color: transparent;\n",
              "      border-right-color: var(--fill-color);\n",
              "    }\n",
              "    80% {\n",
              "      border-color: transparent;\n",
              "      border-right-color: var(--fill-color);\n",
              "      border-bottom-color: var(--fill-color);\n",
              "    }\n",
              "    90% {\n",
              "      border-color: transparent;\n",
              "      border-bottom-color: var(--fill-color);\n",
              "    }\n",
              "  }\n",
              "</style>\n",
              "\n",
              "  <script>\n",
              "    async function quickchart(key) {\n",
              "      const quickchartButtonEl =\n",
              "        document.querySelector('#' + key + ' button');\n",
              "      quickchartButtonEl.disabled = true;  // To prevent multiple clicks.\n",
              "      quickchartButtonEl.classList.add('colab-df-spinner');\n",
              "      try {\n",
              "        const charts = await google.colab.kernel.invokeFunction(\n",
              "            'suggestCharts', [key], {});\n",
              "      } catch (error) {\n",
              "        console.error('Error during call to suggestCharts:', error);\n",
              "      }\n",
              "      quickchartButtonEl.classList.remove('colab-df-spinner');\n",
              "      quickchartButtonEl.classList.add('colab-df-quickchart-complete');\n",
              "    }\n",
              "    (() => {\n",
              "      let quickchartButtonEl =\n",
              "        document.querySelector('#df-1f711e20-8e9e-4097-b05f-fcfe860c9ed0 button');\n",
              "      quickchartButtonEl.style.display =\n",
              "        google.colab.kernel.accessAllowed ? 'block' : 'none';\n",
              "    })();\n",
              "  </script>\n",
              "</div>\n",
              "\n",
              "    </div>\n",
              "  </div>\n"
            ],
            "application/vnd.google.colaboratory.intrinsic+json": {
              "type": "dataframe"
            }
          },
          "metadata": {},
          "execution_count": 69
        }
      ]
    },
    {
      "cell_type": "markdown",
      "source": [
        "There might be an error here 😆"
      ],
      "metadata": {
        "id": "sXeR19Yf10Df"
      }
    },
    {
      "cell_type": "code",
      "source": [
        "#The Killers' Mr. Brightside was actually released in 2004, and Linkin Park's In the End, in 2000. Let's update those rows.\n",
        "\n",
        "df_top_100.loc[df_top_100[\"track_name\"] == \"Mr. Brightside\", \"track_album_release_year\"] = 2004\n",
        "df_top_100.loc[df_top_100[\"track_name\"] == \"In the End\", \"track_album_release_year\"] = 2000"
      ],
      "metadata": {
        "id": "chmAQkyX16fa"
      },
      "execution_count": 71,
      "outputs": []
    },
    {
      "cell_type": "code",
      "source": [
        "print(\"The oldest song in the Top 100 streamed songs on Spotify as of 2024 is from the year\",df_top_100[\"track_album_release_year\"].min())\n",
        "print(\"The oldest song in Obama's playlists is from the year\",df_obama[\"track_album_release_year\"].min())"
      ],
      "metadata": {
        "colab": {
          "base_uri": "https://localhost:8080/"
        },
        "id": "kc48kPJS2Xe7",
        "outputId": "24dd0f3e-02da-4d52-8050-b5145c62a5b0"
      },
      "execution_count": 74,
      "outputs": [
        {
          "output_type": "stream",
          "name": "stdout",
          "text": [
            "The oldest song in the Top 100 streamed songs on Spotify as of 2024 is from the year 1978\n",
            "The oldest song in Obama's playlists is from the year 1954\n"
          ]
        }
      ]
    },
    {
      "cell_type": "code",
      "source": [
        "df_top_100[df_top_100[\"track_album_release_year\"] == 1978]"
      ],
      "metadata": {
        "colab": {
          "base_uri": "https://localhost:8080/",
          "height": 182
        },
        "id": "jfRWOO212a6K",
        "outputId": "455758e3-5e34-4d77-b7e8-0d89dc4f06c4"
      },
      "execution_count": 79,
      "outputs": [
        {
          "output_type": "execute_result",
          "data": {
            "text/plain": [
              "                  track_id                           track_name track_artist  \\\n",
              "87  5T8EDUDqKcs6OSOwEsfqG7  Don't Stop Me Now - Remastered 2011        Queen   \n",
              "\n",
              "    track_popularity      track_album_name  track_album_release_year  \\\n",
              "87                81  Jazz (2011 Remaster)                      1978   \n",
              "\n",
              "    duration_min genres record_label  danceability  ...  key_name loudness  \\\n",
              "87          3.49   Rock          EMI          55.9  ...         F   -5.276   \n",
              "\n",
              "     mode speechiness  acousticness  instrumentalness  liveness  valence  \\\n",
              "87  Major        17.0          4.75              0.02      77.6     60.9   \n",
              "\n",
              "    tempo  time_signature  \n",
              "87  156.3               4  \n",
              "\n",
              "[1 rows x 21 columns]"
            ],
            "text/html": [
              "\n",
              "  <div id=\"df-9dd16cd4-f7ac-4a6c-9d98-80e7c94e0456\" class=\"colab-df-container\">\n",
              "    <div>\n",
              "<style scoped>\n",
              "    .dataframe tbody tr th:only-of-type {\n",
              "        vertical-align: middle;\n",
              "    }\n",
              "\n",
              "    .dataframe tbody tr th {\n",
              "        vertical-align: top;\n",
              "    }\n",
              "\n",
              "    .dataframe thead th {\n",
              "        text-align: right;\n",
              "    }\n",
              "</style>\n",
              "<table border=\"1\" class=\"dataframe\">\n",
              "  <thead>\n",
              "    <tr style=\"text-align: right;\">\n",
              "      <th></th>\n",
              "      <th>track_id</th>\n",
              "      <th>track_name</th>\n",
              "      <th>track_artist</th>\n",
              "      <th>track_popularity</th>\n",
              "      <th>track_album_name</th>\n",
              "      <th>track_album_release_year</th>\n",
              "      <th>duration_min</th>\n",
              "      <th>genres</th>\n",
              "      <th>record_label</th>\n",
              "      <th>danceability</th>\n",
              "      <th>...</th>\n",
              "      <th>key_name</th>\n",
              "      <th>loudness</th>\n",
              "      <th>mode</th>\n",
              "      <th>speechiness</th>\n",
              "      <th>acousticness</th>\n",
              "      <th>instrumentalness</th>\n",
              "      <th>liveness</th>\n",
              "      <th>valence</th>\n",
              "      <th>tempo</th>\n",
              "      <th>time_signature</th>\n",
              "    </tr>\n",
              "  </thead>\n",
              "  <tbody>\n",
              "    <tr>\n",
              "      <th>87</th>\n",
              "      <td>5T8EDUDqKcs6OSOwEsfqG7</td>\n",
              "      <td>Don't Stop Me Now - Remastered 2011</td>\n",
              "      <td>Queen</td>\n",
              "      <td>81</td>\n",
              "      <td>Jazz (2011 Remaster)</td>\n",
              "      <td>1978</td>\n",
              "      <td>3.49</td>\n",
              "      <td>Rock</td>\n",
              "      <td>EMI</td>\n",
              "      <td>55.9</td>\n",
              "      <td>...</td>\n",
              "      <td>F</td>\n",
              "      <td>-5.276</td>\n",
              "      <td>Major</td>\n",
              "      <td>17.0</td>\n",
              "      <td>4.75</td>\n",
              "      <td>0.02</td>\n",
              "      <td>77.6</td>\n",
              "      <td>60.9</td>\n",
              "      <td>156.3</td>\n",
              "      <td>4</td>\n",
              "    </tr>\n",
              "  </tbody>\n",
              "</table>\n",
              "<p>1 rows × 21 columns</p>\n",
              "</div>\n",
              "    <div class=\"colab-df-buttons\">\n",
              "\n",
              "  <div class=\"colab-df-container\">\n",
              "    <button class=\"colab-df-convert\" onclick=\"convertToInteractive('df-9dd16cd4-f7ac-4a6c-9d98-80e7c94e0456')\"\n",
              "            title=\"Convert this dataframe to an interactive table.\"\n",
              "            style=\"display:none;\">\n",
              "\n",
              "  <svg xmlns=\"http://www.w3.org/2000/svg\" height=\"24px\" viewBox=\"0 -960 960 960\">\n",
              "    <path d=\"M120-120v-720h720v720H120Zm60-500h600v-160H180v160Zm220 220h160v-160H400v160Zm0 220h160v-160H400v160ZM180-400h160v-160H180v160Zm440 0h160v-160H620v160ZM180-180h160v-160H180v160Zm440 0h160v-160H620v160Z\"/>\n",
              "  </svg>\n",
              "    </button>\n",
              "\n",
              "  <style>\n",
              "    .colab-df-container {\n",
              "      display:flex;\n",
              "      gap: 12px;\n",
              "    }\n",
              "\n",
              "    .colab-df-convert {\n",
              "      background-color: #E8F0FE;\n",
              "      border: none;\n",
              "      border-radius: 50%;\n",
              "      cursor: pointer;\n",
              "      display: none;\n",
              "      fill: #1967D2;\n",
              "      height: 32px;\n",
              "      padding: 0 0 0 0;\n",
              "      width: 32px;\n",
              "    }\n",
              "\n",
              "    .colab-df-convert:hover {\n",
              "      background-color: #E2EBFA;\n",
              "      box-shadow: 0px 1px 2px rgba(60, 64, 67, 0.3), 0px 1px 3px 1px rgba(60, 64, 67, 0.15);\n",
              "      fill: #174EA6;\n",
              "    }\n",
              "\n",
              "    .colab-df-buttons div {\n",
              "      margin-bottom: 4px;\n",
              "    }\n",
              "\n",
              "    [theme=dark] .colab-df-convert {\n",
              "      background-color: #3B4455;\n",
              "      fill: #D2E3FC;\n",
              "    }\n",
              "\n",
              "    [theme=dark] .colab-df-convert:hover {\n",
              "      background-color: #434B5C;\n",
              "      box-shadow: 0px 1px 3px 1px rgba(0, 0, 0, 0.15);\n",
              "      filter: drop-shadow(0px 1px 2px rgba(0, 0, 0, 0.3));\n",
              "      fill: #FFFFFF;\n",
              "    }\n",
              "  </style>\n",
              "\n",
              "    <script>\n",
              "      const buttonEl =\n",
              "        document.querySelector('#df-9dd16cd4-f7ac-4a6c-9d98-80e7c94e0456 button.colab-df-convert');\n",
              "      buttonEl.style.display =\n",
              "        google.colab.kernel.accessAllowed ? 'block' : 'none';\n",
              "\n",
              "      async function convertToInteractive(key) {\n",
              "        const element = document.querySelector('#df-9dd16cd4-f7ac-4a6c-9d98-80e7c94e0456');\n",
              "        const dataTable =\n",
              "          await google.colab.kernel.invokeFunction('convertToInteractive',\n",
              "                                                    [key], {});\n",
              "        if (!dataTable) return;\n",
              "\n",
              "        const docLinkHtml = 'Like what you see? Visit the ' +\n",
              "          '<a target=\"_blank\" href=https://colab.research.google.com/notebooks/data_table.ipynb>data table notebook</a>'\n",
              "          + ' to learn more about interactive tables.';\n",
              "        element.innerHTML = '';\n",
              "        dataTable['output_type'] = 'display_data';\n",
              "        await google.colab.output.renderOutput(dataTable, element);\n",
              "        const docLink = document.createElement('div');\n",
              "        docLink.innerHTML = docLinkHtml;\n",
              "        element.appendChild(docLink);\n",
              "      }\n",
              "    </script>\n",
              "  </div>\n",
              "\n",
              "\n",
              "    </div>\n",
              "  </div>\n"
            ],
            "application/vnd.google.colaboratory.intrinsic+json": {
              "type": "dataframe"
            }
          },
          "metadata": {},
          "execution_count": 79
        }
      ]
    },
    {
      "cell_type": "code",
      "source": [
        "df_obama[df_obama[\"track_album_release_year\"] == 1954]"
      ],
      "metadata": {
        "colab": {
          "base_uri": "https://localhost:8080/",
          "height": 165
        },
        "id": "DDk461_5NdCK",
        "outputId": "4d09b2f7-312c-4b18-a669-646f64cd9acf"
      },
      "execution_count": 80,
      "outputs": [
        {
          "output_type": "execute_result",
          "data": {
            "text/plain": [
              "                   track_id                    track_name  \\\n",
              "111  2cvztQuBIxwV38kg1Ydaww  How High The Moon - 1st Take   \n",
              "\n",
              "          track_album_name     track_artist               artist_id  \\\n",
              "111  Lullabies Of Birdland  Ella Fitzgerald  5V0MlUE1Bft0mbLlND7FJz   \n",
              "\n",
              "     artist_followers  artist_popularity artist_gender  \\\n",
              "111           2552446                 69             F   \n",
              "\n",
              "     track_album_release_year duration_min  ...  key loudness   mode  \\\n",
              "111                      1954         3,26  ...    F    -5.18  minor   \n",
              "\n",
              "     speechiness  acousticness instrumentalness  liveness valence  tempo  \\\n",
              "111          0.1          0.81              0.0      0.11    0.63    113   \n",
              "\n",
              "     time_signature  \n",
              "111               4  \n",
              "\n",
              "[1 rows x 25 columns]"
            ],
            "text/html": [
              "\n",
              "  <div id=\"df-862e4cf7-0770-43bd-82ef-f75df3434eee\" class=\"colab-df-container\">\n",
              "    <div>\n",
              "<style scoped>\n",
              "    .dataframe tbody tr th:only-of-type {\n",
              "        vertical-align: middle;\n",
              "    }\n",
              "\n",
              "    .dataframe tbody tr th {\n",
              "        vertical-align: top;\n",
              "    }\n",
              "\n",
              "    .dataframe thead th {\n",
              "        text-align: right;\n",
              "    }\n",
              "</style>\n",
              "<table border=\"1\" class=\"dataframe\">\n",
              "  <thead>\n",
              "    <tr style=\"text-align: right;\">\n",
              "      <th></th>\n",
              "      <th>track_id</th>\n",
              "      <th>track_name</th>\n",
              "      <th>track_album_name</th>\n",
              "      <th>track_artist</th>\n",
              "      <th>artist_id</th>\n",
              "      <th>artist_followers</th>\n",
              "      <th>artist_popularity</th>\n",
              "      <th>artist_gender</th>\n",
              "      <th>track_album_release_year</th>\n",
              "      <th>duration_min</th>\n",
              "      <th>...</th>\n",
              "      <th>key</th>\n",
              "      <th>loudness</th>\n",
              "      <th>mode</th>\n",
              "      <th>speechiness</th>\n",
              "      <th>acousticness</th>\n",
              "      <th>instrumentalness</th>\n",
              "      <th>liveness</th>\n",
              "      <th>valence</th>\n",
              "      <th>tempo</th>\n",
              "      <th>time_signature</th>\n",
              "    </tr>\n",
              "  </thead>\n",
              "  <tbody>\n",
              "    <tr>\n",
              "      <th>111</th>\n",
              "      <td>2cvztQuBIxwV38kg1Ydaww</td>\n",
              "      <td>How High The Moon - 1st Take</td>\n",
              "      <td>Lullabies Of Birdland</td>\n",
              "      <td>Ella Fitzgerald</td>\n",
              "      <td>5V0MlUE1Bft0mbLlND7FJz</td>\n",
              "      <td>2552446</td>\n",
              "      <td>69</td>\n",
              "      <td>F</td>\n",
              "      <td>1954</td>\n",
              "      <td>3,26</td>\n",
              "      <td>...</td>\n",
              "      <td>F</td>\n",
              "      <td>-5.18</td>\n",
              "      <td>minor</td>\n",
              "      <td>0.1</td>\n",
              "      <td>0.81</td>\n",
              "      <td>0.0</td>\n",
              "      <td>0.11</td>\n",
              "      <td>0.63</td>\n",
              "      <td>113</td>\n",
              "      <td>4</td>\n",
              "    </tr>\n",
              "  </tbody>\n",
              "</table>\n",
              "<p>1 rows × 25 columns</p>\n",
              "</div>\n",
              "    <div class=\"colab-df-buttons\">\n",
              "\n",
              "  <div class=\"colab-df-container\">\n",
              "    <button class=\"colab-df-convert\" onclick=\"convertToInteractive('df-862e4cf7-0770-43bd-82ef-f75df3434eee')\"\n",
              "            title=\"Convert this dataframe to an interactive table.\"\n",
              "            style=\"display:none;\">\n",
              "\n",
              "  <svg xmlns=\"http://www.w3.org/2000/svg\" height=\"24px\" viewBox=\"0 -960 960 960\">\n",
              "    <path d=\"M120-120v-720h720v720H120Zm60-500h600v-160H180v160Zm220 220h160v-160H400v160Zm0 220h160v-160H400v160ZM180-400h160v-160H180v160Zm440 0h160v-160H620v160ZM180-180h160v-160H180v160Zm440 0h160v-160H620v160Z\"/>\n",
              "  </svg>\n",
              "    </button>\n",
              "\n",
              "  <style>\n",
              "    .colab-df-container {\n",
              "      display:flex;\n",
              "      gap: 12px;\n",
              "    }\n",
              "\n",
              "    .colab-df-convert {\n",
              "      background-color: #E8F0FE;\n",
              "      border: none;\n",
              "      border-radius: 50%;\n",
              "      cursor: pointer;\n",
              "      display: none;\n",
              "      fill: #1967D2;\n",
              "      height: 32px;\n",
              "      padding: 0 0 0 0;\n",
              "      width: 32px;\n",
              "    }\n",
              "\n",
              "    .colab-df-convert:hover {\n",
              "      background-color: #E2EBFA;\n",
              "      box-shadow: 0px 1px 2px rgba(60, 64, 67, 0.3), 0px 1px 3px 1px rgba(60, 64, 67, 0.15);\n",
              "      fill: #174EA6;\n",
              "    }\n",
              "\n",
              "    .colab-df-buttons div {\n",
              "      margin-bottom: 4px;\n",
              "    }\n",
              "\n",
              "    [theme=dark] .colab-df-convert {\n",
              "      background-color: #3B4455;\n",
              "      fill: #D2E3FC;\n",
              "    }\n",
              "\n",
              "    [theme=dark] .colab-df-convert:hover {\n",
              "      background-color: #434B5C;\n",
              "      box-shadow: 0px 1px 3px 1px rgba(0, 0, 0, 0.15);\n",
              "      filter: drop-shadow(0px 1px 2px rgba(0, 0, 0, 0.3));\n",
              "      fill: #FFFFFF;\n",
              "    }\n",
              "  </style>\n",
              "\n",
              "    <script>\n",
              "      const buttonEl =\n",
              "        document.querySelector('#df-862e4cf7-0770-43bd-82ef-f75df3434eee button.colab-df-convert');\n",
              "      buttonEl.style.display =\n",
              "        google.colab.kernel.accessAllowed ? 'block' : 'none';\n",
              "\n",
              "      async function convertToInteractive(key) {\n",
              "        const element = document.querySelector('#df-862e4cf7-0770-43bd-82ef-f75df3434eee');\n",
              "        const dataTable =\n",
              "          await google.colab.kernel.invokeFunction('convertToInteractive',\n",
              "                                                    [key], {});\n",
              "        if (!dataTable) return;\n",
              "\n",
              "        const docLinkHtml = 'Like what you see? Visit the ' +\n",
              "          '<a target=\"_blank\" href=https://colab.research.google.com/notebooks/data_table.ipynb>data table notebook</a>'\n",
              "          + ' to learn more about interactive tables.';\n",
              "        element.innerHTML = '';\n",
              "        dataTable['output_type'] = 'display_data';\n",
              "        await google.colab.output.renderOutput(dataTable, element);\n",
              "        const docLink = document.createElement('div');\n",
              "        docLink.innerHTML = docLinkHtml;\n",
              "        element.appendChild(docLink);\n",
              "      }\n",
              "    </script>\n",
              "  </div>\n",
              "\n",
              "\n",
              "    </div>\n",
              "  </div>\n"
            ],
            "application/vnd.google.colaboratory.intrinsic+json": {
              "type": "dataframe"
            }
          },
          "metadata": {},
          "execution_count": 80
        }
      ]
    },
    {
      "cell_type": "code",
      "source": [
        "print(\"Average track popularity for Obama's playlists: \", round(df_obama[\"track_popularity\"].mean(),2))\n",
        "print(\"Average track popularity for the 100 streamed songs as of 2024: \", round(df_top_100[\"track_popularity\"].mean(),2))\n",
        "\n",
        "print(\"\")\n",
        "\n",
        "print(\"Median track popularity for Obama's playlists: \", round(df_obama[\"track_popularity\"].median(),2))\n",
        "print(\"Median track popularity for the 100 streamed songs as of 2024: \", round(df_top_100[\"track_popularity\"].median(),2))\n",
        "\n",
        "print(\"\")\n",
        "\n",
        "print(\"Max track popularity for Obama's playlists: \", round(df_obama[\"track_popularity\"].max(),2))\n",
        "print(\"Max track popularity for the 100 streamed songs as of 2024: \", round(df_top_100[\"track_popularity\"].max(),2))\n",
        "\n",
        "print(\"\")\n",
        "\n",
        "print(\"Min track popularity for Obama's playlists: \", round(df_obama[\"track_popularity\"].min(),2))\n",
        "print(\"Min track popularity for the 100 streamed songs as of 2024: \", round(df_top_100[\"track_popularity\"].min(),2))\n"
      ],
      "metadata": {
        "colab": {
          "base_uri": "https://localhost:8080/"
        },
        "id": "LKAxnQDFqwU8",
        "outputId": "7f3d90c1-50f3-427a-d6ec-712300f5075e"
      },
      "execution_count": 86,
      "outputs": [
        {
          "output_type": "stream",
          "name": "stdout",
          "text": [
            "Average track popularity for Obama's playlists:  41.76\n",
            "Average track popularity for the 100 streamed songs as of 2024:  81.05\n",
            "\n",
            "Median track popularity for Obama's playlists:  46.0\n",
            "Median track popularity for the 100 streamed songs as of 2024:  82.0\n",
            "\n",
            "Max track popularity for Obama's playlists:  85\n",
            "Max track popularity for the 100 streamed songs as of 2024:  90\n",
            "\n",
            "Min track popularity for Obama's playlists:  0\n",
            "Min track popularity for the 100 streamed songs as of 2024:  52\n"
          ]
        }
      ]
    },
    {
      "cell_type": "code",
      "source": [
        "print(\"Average track duration for Obama's playlists: \", round(df_obama[\"duration_min\"].mean(),2))\n",
        "print(\"Average track duration for the 100 streamed songs as of 2024: \", round(df_top_100[\"duration_min\"].mean(),2))\n",
        "\n",
        "print(\"\")\n",
        "\n",
        "print(\"Standard deviation of track duration for Obama's playlists: \", round(df_obama[\"duration_min\"].std(),2))\n",
        "print(\"Standard deviation of track duration for the 100 streamed songs as of 2024: \", round(df_top_100[\"duration_min\"].std(),2))\n",
        "\n",
        "print(\"\")\n",
        "\n",
        "print(\"Median track duration for Obama's playlists: \", round(df_obama[\"duration_min\"].median(),2))\n",
        "print(\"Median track duration for the 100 streamed songs as of 2024: \", round(df_top_100[\"duration_min\"].median(),2))\n",
        "\n",
        "print(\"\")\n",
        "\n",
        "print(\"Max track duration for Obama's playlists: \", round(df_obama[\"duration_min\"].max(),2))\n",
        "print(\"Max track duration for the 100 streamed songs as of 2024: \", round(df_top_100[\"duration_min\"].max(),2))\n",
        "\n",
        "print(\"\")\n",
        "\n",
        "print(\"Min track duration for Obama's playlists: \", round(df_obama[\"duration_min\"].min(),2))\n",
        "print(\"Min track duration for the 100 streamed songs as of 2024: \", round(df_top_100[\"duration_min\"].min(),2))"
      ],
      "metadata": {
        "colab": {
          "base_uri": "https://localhost:8080/"
        },
        "id": "uaxxLcTZMydZ",
        "outputId": "0b9c2190-6df8-4015-cdf3-58025aa8389e"
      },
      "execution_count": 117,
      "outputs": [
        {
          "output_type": "stream",
          "name": "stdout",
          "text": [
            "Average track duration for Obama's playlists:  3.83\n",
            "Average track duration for the 100 streamed songs as of 2024:  3.71\n",
            "\n",
            "Standard deviation of track duration for Obama's playlists:  1.12\n",
            "Standard deviation of track duration for the 100 streamed songs as of 2024:  0.69\n",
            "\n",
            "Median track duration for Obama's playlists:  3.64\n",
            "Median track duration for the 100 streamed songs as of 2024:  3.58\n",
            "\n",
            "Max track duration for Obama's playlists:  10.72\n",
            "Max track duration for the 100 streamed songs as of 2024:  5.92\n",
            "\n",
            "Min track duration for Obama's playlists:  1.45\n",
            "Min track duration for the 100 streamed songs as of 2024:  1.99\n"
          ]
        }
      ]
    },
    {
      "cell_type": "code",
      "source": [
        "plt.figure(figsize=(10, 6))\n",
        "\n",
        "# Plot the Obama dataset histogram with normalized frequency (density)\n",
        "plt.hist(df_obama['duration_min'], bins=30, color='indigo', alpha=1, density=True, label=\"Obama's Songs\")\n",
        "\n",
        "# Plot the Top 100 dataset histogram with normalized frequency (density)\n",
        "plt.hist(df_top_100['duration_min'], bins=30, color='skyblue', alpha=0.8, density=True, label='Top 100 Songs')\n",
        "\n",
        "# Labels and title\n",
        "plt.xlabel('Duration (min)')\n",
        "plt.ylabel('Frequency (ratio)')\n",
        "plt.title('Distribution of Song Durations')\n",
        "\n",
        "# Add a legend to differentiate the two distributions\n",
        "plt.legend()\n",
        "\n",
        "# Display the plot\n",
        "plt.show()"
      ],
      "metadata": {
        "colab": {
          "base_uri": "https://localhost:8080/",
          "height": 564
        },
        "id": "4EMsK0EgUNyt",
        "outputId": "b24a98c7-2d43-4cc6-ac9c-2c8414d81bb0"
      },
      "execution_count": 115,
      "outputs": [
        {
          "output_type": "display_data",
          "data": {
            "text/plain": [
              "<Figure size 1000x600 with 1 Axes>"
            ],
            "image/png": "[encoded data removed]"
          },
          "metadata": {}
        }
      ]
    },
    {
      "cell_type": "markdown",
      "source": [
        "##Music & sonic Features"
      ],
      "metadata": {
        "id": "igZP53pIVGIB"
      }
    },
    {
      "cell_type": "markdown",
      "source": [
        "###Valence 🎭"
      ],
      "metadata": {
        "id": "6h4XBbC7TF_n"
      }
    },
    {
      "cell_type": "code",
      "source": [
        "print(\"Average track valence for Obama's playlists: \",round(df_obama[\"valence\"].mean()*100,2),\"%.\")\n",
        "print(\"Average track valence for the 100 streamed songs as of 2024: \",round(df_top_100[\"valence\"].mean(),2),\"%.\")"
      ],
      "metadata": {
        "colab": {
          "base_uri": "https://localhost:8080/"
        },
        "id": "EnwUhqPDSNJx",
        "outputId": "80c32125-70bc-452e-d2f8-af786788e6be"
      },
      "execution_count": 130,
      "outputs": [
        {
          "output_type": "stream",
          "name": "stdout",
          "text": [
            "Average track valence for Obama's playlists:  56.42 %.\n",
            "Average track valence for the 100 streamed songs as of 2024:  48.91 %.\n"
          ]
        }
      ]
    },
    {
      "cell_type": "markdown",
      "source": [
        "###Danceability 💃"
      ],
      "metadata": {
        "id": "vLQgxEDjSOui"
      }
    },
    {
      "cell_type": "code",
      "source": [
        "print(\"Average track danceability for Obama's playlists: \",round(df_obama[\"danceability\"].mean()*100,2),\"%.\")\n",
        "print(\"Average track danceability for the 100 streamed songs as of 2024: \",round(df_top_100[\"danceability\"].mean(),2),\"%.\")"
      ],
      "metadata": {
        "colab": {
          "base_uri": "https://localhost:8080/"
        },
        "id": "39FQoRnhMJJ6",
        "outputId": "17c9bcf9-f8a4-4f93-dd7e-7f0c939df023"
      },
      "execution_count": 123,
      "outputs": [
        {
          "output_type": "stream",
          "name": "stdout",
          "text": [
            "Average track danceability for Obama's playlists:  63.41 %.\n",
            "Average track danceability for the 100 streamed songs as of 2024:  63.81 %.\n"
          ]
        }
      ]
    },
    {
      "cell_type": "markdown",
      "source": [
        "###Energy 🥄"
      ],
      "metadata": {
        "id": "oJzEyAU4SSxl"
      }
    },
    {
      "cell_type": "code",
      "source": [
        "print(\"Average track energy for Obama's playlists: \",round(df_obama[\"energy\"].mean()*100,2),\"%.\")\n",
        "print(\"Average track energy for the 100 streamed songs as of 2024: \",round(df_top_100[\"energy\"].mean(),2),\"%.\")"
      ],
      "metadata": {
        "colab": {
          "base_uri": "https://localhost:8080/"
        },
        "id": "dryB7zZI1ot6",
        "outputId": "b4dca196-f636-44c0-a053-a6a42b9814c2"
      },
      "execution_count": 124,
      "outputs": [
        {
          "output_type": "stream",
          "name": "stdout",
          "text": [
            "Average track energy for Obama's playlists:  59.96 %.\n",
            "Average track energy for the 100 streamed songs as of 2024:  62.74 %.\n"
          ]
        }
      ]
    },
    {
      "cell_type": "markdown",
      "source": [
        "###Loudness 🔊"
      ],
      "metadata": {
        "id": "m8kNkM1uSaRe"
      }
    },
    {
      "cell_type": "code",
      "source": [
        "print(\"Average track loudness for Obama's playlists: \",round(df_obama[\"loudness\"].mean(),2),\"dB.\")\n",
        "print(\"Average track loudness for the 100 streamed songs as of 2024: \",round(df_top_100[\"loudness\"].mean(),2),\"dB.\")"
      ],
      "metadata": {
        "colab": {
          "base_uri": "https://localhost:8080/"
        },
        "id": "3kfV8iQQMSpe",
        "outputId": "52677bbd-cb46-4608-eed7-6488b66f1419"
      },
      "execution_count": 125,
      "outputs": [
        {
          "output_type": "stream",
          "name": "stdout",
          "text": [
            "Average track loudness for Obama's playlists:  -8.26 dB.\n",
            "Average track loudness for the 100 streamed songs as of 2024:  -6.2 dB.\n"
          ]
        }
      ]
    },
    {
      "cell_type": "markdown",
      "source": [
        "###Speechiness 🗣"
      ],
      "metadata": {
        "id": "cTAx-9h-SdET"
      }
    },
    {
      "cell_type": "code",
      "source": [
        "print(\"Average track speechiness for Obama's playlists: \",round(df_obama[\"speechiness\"].mean()*100,2),\"%.\")\n",
        "print(\"Average track speechiness for the 100 streamed songs as of 2024: \",round(df_top_100[\"speechiness\"].mean(),2),\"%.\")"
      ],
      "metadata": {
        "colab": {
          "base_uri": "https://localhost:8080/"
        },
        "id": "JCrs7T-XMYTc",
        "outputId": "12ead011-6b70-4cb8-c003-1b068898f1b3"
      },
      "execution_count": 126,
      "outputs": [
        {
          "output_type": "stream",
          "name": "stdout",
          "text": [
            "Average track speechiness for Obama's playlists:  10.49 %.\n",
            "Average track speechiness for the 100 streamed songs as of 2024:  8.59 %.\n"
          ]
        }
      ]
    },
    {
      "cell_type": "markdown",
      "source": [
        "###Instrumentalness 🎼"
      ],
      "metadata": {
        "id": "E_BMhicMSlve"
      }
    },
    {
      "cell_type": "code",
      "source": [
        "print(\"Average track instrumentalness for Obama's playlists: \",round(df_obama[\"instrumentalness\"].mean()*100,2),\"%.\")\n",
        "print(\"Average track instrumentalness for the 100 streamed songs as of 2024: \",round(df_top_100[\"instrumentalness\"].mean(),2),\"%.\")"
      ],
      "metadata": {
        "colab": {
          "base_uri": "https://localhost:8080/"
        },
        "id": "1S94FhOlGSzT",
        "outputId": "f224e96a-f07b-4c3b-c902-e1851e0a3ab0"
      },
      "execution_count": 127,
      "outputs": [
        {
          "output_type": "stream",
          "name": "stdout",
          "text": [
            "Average track instrumentalness for Obama's playlists:  3.02 %.\n",
            "Average track instrumentalness for the 100 streamed songs as of 2024:  0.77 %.\n"
          ]
        }
      ]
    },
    {
      "cell_type": "markdown",
      "source": [
        "###Acousticness 🎙"
      ],
      "metadata": {
        "id": "7WVtFX6TSsIT"
      }
    },
    {
      "cell_type": "code",
      "source": [
        "print(\"Average track acousticness for Obama's playlists: \",round(df_obama[\"acousticness\"].mean()*100,2),\"%.\")\n",
        "print(\"Average track acousticness for the 100 streamed songs as of 2024: \",round(df_top_100[\"acousticness\"].mean(),2),\"%.\")"
      ],
      "metadata": {
        "colab": {
          "base_uri": "https://localhost:8080/"
        },
        "id": "JuH28GAxGVLP",
        "outputId": "feb6478e-f780-4636-9fef-b99666ec7dc2"
      },
      "execution_count": 128,
      "outputs": [
        {
          "output_type": "stream",
          "name": "stdout",
          "text": [
            "Average track acousticness for Obama's playlists:  27.58 %.\n",
            "Average track acousticness for the 100 streamed songs as of 2024:  25.32 %.\n"
          ]
        }
      ]
    },
    {
      "cell_type": "markdown",
      "source": [
        "###Liveness 🥁"
      ],
      "metadata": {
        "id": "BrL9LpQoS1KF"
      }
    },
    {
      "cell_type": "code",
      "source": [
        "print(\"Average track liveness for Obama's playlists: \",round(df_obama[\"liveness\"].mean()*100,2),\"%.\")\n",
        "print(\"Average track liveness for the 100 streamed songs as of 2024: \",round(df_top_100[\"liveness\"].mean(),2),\"%.\")"
      ],
      "metadata": {
        "colab": {
          "base_uri": "https://localhost:8080/"
        },
        "id": "SnMV-8lDSNQ4",
        "outputId": "b6f8c1bd-459e-475e-baf0-553a6ada27ca"
      },
      "execution_count": 129,
      "outputs": [
        {
          "output_type": "stream",
          "name": "stdout",
          "text": [
            "Average track liveness for Obama's playlists:  17.88 %.\n",
            "Average track liveness for the 100 streamed songs as of 2024:  16.1 %.\n"
          ]
        }
      ]
    },
    {
      "cell_type": "code",
      "source": [
        "df_obama.info()"
      ],
      "metadata": {
        "colab": {
          "base_uri": "https://localhost:8080/"
        },
        "id": "N_SuZi7vTix-",
        "outputId": "e21d4e46-d49c-49d8-b71b-9544d7969bfc"
      },
      "execution_count": 132,
      "outputs": [
        {
          "output_type": "stream",
          "name": "stdout",
          "text": [
            "<class 'pandas.core.frame.DataFrame'>\n",
            "RangeIndex: 257 entries, 0 to 256\n",
            "Data columns (total 25 columns):\n",
            " #   Column                    Non-Null Count  Dtype  \n",
            "---  ------                    --------------  -----  \n",
            " 0   track_id                  257 non-null    object \n",
            " 1   track_name                257 non-null    object \n",
            " 2   track_album_name          257 non-null    object \n",
            " 3   track_artist              257 non-null    object \n",
            " 4   artist_id                 257 non-null    object \n",
            " 5   artist_followers          257 non-null    int64  \n",
            " 6   artist_popularity         257 non-null    int64  \n",
            " 7   artist_gender             213 non-null    object \n",
            " 8   track_album_release_year  257 non-null    int64  \n",
            " 9   duration_min              257 non-null    float64\n",
            " 10  track_popularity          257 non-null    int64  \n",
            " 11  genres                    257 non-null    object \n",
            " 12  record_label              257 non-null    object \n",
            " 13  danceability              257 non-null    float64\n",
            " 14  energy                    257 non-null    float64\n",
            " 15  key                       257 non-null    object \n",
            " 16  loudness                  257 non-null    float64\n",
            " 17  mode                      257 non-null    object \n",
            " 18  speechiness               257 non-null    float64\n",
            " 19  acousticness              257 non-null    float64\n",
            " 20  instrumentalness          257 non-null    float64\n",
            " 21  liveness                  257 non-null    float64\n",
            " 22  valence                   257 non-null    float64\n",
            " 23  tempo                     257 non-null    int64  \n",
            " 24  time_signature            257 non-null    int64  \n",
            "dtypes: float64(9), int64(6), object(10)\n",
            "memory usage: 50.3+ KB\n"
          ]
        }
      ]
    },
    {
      "cell_type": "code",
      "source": [
        "# Compute the time signature counts for both DataFrames\n",
        "obama_time_signatures = df_obama[\"time_signature\"].value_counts(normalize=True).rename(\"Obama\")\n",
        "top_100_time_signatures = df_top_100[\"time_signature\"].value_counts(normalize=True).rename(\"Top 100\")\n",
        "\n",
        "# Combine both counts into a single DataFrame\n",
        "combined_time_signatures = pd.concat([obama_time_signatures, top_100_time_signatures], axis=1)\n",
        "\n",
        "# Fill NaN values with 0 if some time signatures don't appear in both datasets\n",
        "combined_time_signatures = combined_time_signatures.fillna(0)\n",
        "\n",
        "# Convert ratios to percentages and round to the nearest integer\n",
        "combined_time_signatures = combined_time_signatures * 100\n",
        "combined_time_signatures = combined_time_signatures.round(0).astype(int)\n",
        "\n",
        "# Display the combined table with ratios\n",
        "print(combined_time_signatures)"
      ],
      "metadata": {
        "colab": {
          "base_uri": "https://localhost:8080/"
        },
        "id": "003GD_BdMcMu",
        "outputId": "6a9ab979-8880-4fd0-ea6a-d5c31c13d656"
      },
      "execution_count": 143,
      "outputs": [
        {
          "output_type": "stream",
          "name": "stdout",
          "text": [
            "                Obama  Top 100\n",
            "time_signature                \n",
            "4                  92       98\n",
            "3                   7        2\n",
            "1                   1        0\n",
            "5                   1        0\n"
          ]
        }
      ]
    },
    {
      "cell_type": "code",
      "source": [
        "# Compute the mode counts for both DataFrames\n",
        "obama_modes = df_obama[\"mode\"].value_counts(normalize=True).rename(\"Obama\")\n",
        "top_100_modes = df_top_100[\"mode\"].value_counts(normalize=True).rename(\"Top 100\")\n",
        "\n",
        "# Combine both counts into a single DataFrame\n",
        "combined_modes = pd.concat([obama_modes, top_100_modes], axis=1)\n",
        "\n",
        "# Fill NaN values with 0 if some time signatures don't appear in both datasets\n",
        "combined_modes = combined_modes.fillna(0)\n",
        "\n",
        "# Convert ratios to percentages and round to the nearest integer\n",
        "combined_modes = combined_modes * 100\n",
        "combined_modes = combined_modes.round(0).astype(int)\n",
        "\n",
        "# Display the combined table with ratios\n",
        "print(combined_modes)"
      ],
      "metadata": {
        "colab": {
          "base_uri": "https://localhost:8080/"
        },
        "id": "lbqH79qsMlKJ",
        "outputId": "01aaae94-6f4c-4781-d897-9e3b5bc33242"
      },
      "execution_count": 144,
      "outputs": [
        {
          "output_type": "stream",
          "name": "stdout",
          "text": [
            "       Obama  Top 100\n",
            "mode                 \n",
            "Major     58       65\n",
            "minor     42        0\n",
            "Minor      0       35\n"
          ]
        }
      ]
    },
    {
      "cell_type": "code",
      "source": [
        "\n",
        "plt.figure(figsize=(20, 20))\n",
        "\n",
        "# Overlay histograms for each category\n",
        "for i, category in enumerate(['danceability', 'energy', 'loudness', 'speechiness', 'instrumentalness', 'acousticness', 'liveness', 'valence', 'tempo']):\n",
        "    plt.subplot(3, 3, i + 1)\n",
        "\n",
        "    # Plot the Obama dataset histogram with transparency\n",
        "    plt.hist(df_obama[category], bins=30, alpha=0.5, label='Obama', color='indigo')\n",
        "\n",
        "    # Plot the Top 100 dataset histogram with transparency\n",
        "    plt.hist(df_top_100[category], bins=30, alpha=0.5, label='Top 100', color='skyblue')\n",
        "\n",
        "    # Display the mean for Obama dataset\n",
        "    plt.text(plt.xlim()[1] - (plt.xlim()[1] - plt.xlim()[0]) * 0.3,\n",
        "             plt.ylim()[1] * 0.9, r'$\\mu=$' + str(df_obama[category].mean())[:7], fontsize=12)\n",
        "\n",
        "    # Display the mean for Top 100 dataset\n",
        "    plt.text(plt.xlim()[1] - (plt.xlim()[1] - plt.xlim()[0]) * 0.3,\n",
        "             plt.ylim()[1] * 0.8, r'$\\mu=$' + str(df_top_100[category].mean())[:7], fontsize=12)\n",
        "\n",
        "    plt.xlabel('Value')\n",
        "    plt.ylabel('Num Tracks')\n",
        "    plt.title(category)\n",
        "    plt.legend()\n",
        "\n",
        "# Adjust layout\n",
        "plt.tight_layout(h_pad=2)\n",
        "plt.show()"
      ],
      "metadata": {
        "colab": {
          "base_uri": "https://localhost:8080/",
          "height": 1000
        },
        "id": "3Wx6OBVuVZsw",
        "outputId": "418dbf6b-4aab-4b40-e2ae-74e9d653c904"
      },
      "execution_count": 148,
      "outputs": [
        {
          "output_type": "display_data",
          "data": {
            "text/plain": [
              "<Figure size 2000x2000 with 9 Axes>"
            ],
            "image/png": "[encoded data removed]"
          },
          "metadata": {}
        }
      ]
    },
    {
      "cell_type": "code",
      "source": [
        "plt.figure(figsize=(15, 4))\n",
        "\n",
        "plt.subplot(1, 3, 1)\n",
        "sns.countplot(df_obama, x='time_signature', hue='time_signature', legend=False)\n",
        "plt.xlabel('Beats per measure')\n",
        "plt.ylabel('Num Tracks')\n",
        "plt.title('Time signature')\n",
        "\n",
        "plt.subplot(1, 3, 2)\n",
        "sns.countplot(df_obama, x='key', hue='key', palette='flare', legend=False)\n",
        "plt.xticks(ticks=plt.xticks()[0], labels=['C', 'C#', 'D', 'D#', 'E', 'F', 'F#', 'G', 'G#', 'A', 'A#', 'B'])\n",
        "plt.ylabel('Num Tracks')\n",
        "plt.title('Key')\n",
        "\n",
        "plt.subplot(1, 3, 3)\n",
        "sns.countplot(df_obama, x='mode', hue='mode', legend=False)\n",
        "plt.xticks(ticks=plt.xticks()[0], labels=['Major', 'minor'])\n",
        "plt.ylabel('Num Tracks')\n",
        "plt.title('Major vs Minor mode')\n",
        "\n",
        "plt.tight_layout(w_pad=2)\n",
        "plt.show()\n",
        "\n",
        "\n",
        "plt.figure(figsize=(15, 4))\n",
        "\n",
        "plt.subplot(1, 3, 1)\n",
        "sns.countplot(df_top_100, x='time_signature', hue='time_signature', legend=False)\n",
        "plt.xlabel('Beats per measure')\n",
        "plt.ylabel('Num Tracks')\n",
        "plt.title('Time signature distribution')\n",
        "\n",
        "plt.subplot(1, 3, 2)\n",
        "sns.countplot(df_top_100, x='key_name', hue='key_name', palette='flare', legend=False)\n",
        "plt.xticks(ticks=plt.xticks()[0], labels=['C', 'C#', 'D', 'D#', 'E', 'F', 'F#', 'G', 'G#', 'A', 'A#', 'B'])\n",
        "plt.ylabel('Num Tracks')\n",
        "plt.title('Key distribution')\n",
        "\n",
        "plt.subplot(1, 3, 3)\n",
        "sns.countplot(df_top_100, x='mode', hue='mode', legend=False)\n",
        "plt.xticks(ticks=plt.xticks()[0], labels=['Major', 'minor'])\n",
        "plt.ylabel('Num Tracks')\n",
        "plt.title('Major vs Minor mode distribution')\n",
        "\n",
        "plt.tight_layout(w_pad=2)\n",
        "plt.show()"
      ],
      "metadata": {
        "colab": {
          "base_uri": "https://localhost:8080/",
          "height": 599
        },
        "id": "6aYx1areXcrm",
        "outputId": "b11a4940-9002-4414-aec6-926bec984557"
      },
      "execution_count": 156,
      "outputs": [
        {
          "output_type": "display_data",
          "data": {
            "text/plain": [
              "<Figure size 1500x400 with 3 Axes>"
            ],
            "image/png": "[encoded data removed]"
          },
          "metadata": {}
        },
        {
          "output_type": "display_data",
          "data": {
            "text/plain": [
              "<Figure size 1500x400 with 3 Axes>"
            ],
            "image/png": "[encoded data removed]"
          },
          "metadata": {}
        }
      ]
    }
  ]
}